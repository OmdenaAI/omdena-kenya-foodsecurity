{
 "cells": [
  {
   "cell_type": "code",
   "execution_count": 15,
   "id": "36ae0af3",
   "metadata": {},
   "outputs": [],
   "source": [
    "import streamlit as st\n",
    "from keras.models import load_model\n",
    "import numpy as np\n",
    "import cv2\n",
    "from PIL import Image\n",
    "import lime\n",
    "from lime import lime_image\n",
    "import time\n",
    "from skimage.segmentation import mark_boundaries"
   ]
  },
  {
   "cell_type": "markdown",
   "id": "87e2802a",
   "metadata": {},
   "source": [
    "Loading the model (Created and trained by Ayoub.Berdeddouch)"
   ]
  },
  {
   "cell_type": "code",
   "execution_count": 3,
   "id": "18044134",
   "metadata": {},
   "outputs": [],
   "source": [
    "model = load_model(\"EfficientNetB3-landscape-99.65.h5\")"
   ]
  },
  {
   "cell_type": "code",
   "execution_count": 4,
   "id": "252c2da4",
   "metadata": {},
   "outputs": [],
   "source": [
    "# for dirpath,dirname,filename in os.walk(\"Crop_disease_prediction\"):\n",
    "#      print(f\"There are {len(dirname)} directories and {len(filename)} images in {dirpath}.\")"
   ]
  },
  {
   "cell_type": "markdown",
   "id": "9a5438fd",
   "metadata": {},
   "source": [
    "class names are hardcoded"
   ]
  },
  {
   "cell_type": "code",
   "execution_count": 5,
   "id": "07e6426e",
   "metadata": {},
   "outputs": [],
   "source": [
    "class_names = ['Apple___Apple_scab','Apple___Black_rot','Apple___Cedar_apple_rust',\n",
    " 'Apple___healthy' ,'Blueberry___healthy',\n",
    " 'Cherry_(including_sour)___Powdery_mildew',\n",
    " 'Cherry_(including_sour)___healthy',\n",
    " 'Corn_(maize)___Cercospora_leaf_spot Gray_leaf_spot',\n",
    " 'Corn_(maize)___Common_rust_', 'Corn_(maize)___Northern_Leaf_Blight',\n",
    " 'Corn_(maize)___healthy', 'Grape___Black_rot',\n",
    " 'Grape___Esca_(Black_Measles)',\n",
    " 'Grape___Leaf_blight_(Isariopsis_Leaf_Spot)', 'Grape___healthy',\n",
    " 'Orange___Haunglongbing_(Citrus_greening)', 'Peach___Bacterial_spot',\n",
    " 'Peach___healthy', 'Pepper,_bell___Bacterial_spot',\n",
    " 'Pepper,_bell___healthy' ,'Potato___Early_blight' ,'Potato___Late_blight',\n",
    " 'Potato___healthy' ,'Raspberry___healthy' ,'Soybean___healthy',\n",
    " 'Squash___Powdery_mildew' ,'Strawberry___Leaf_scorch',\n",
    " 'Strawberry___healthy' ,'Tomato___Bacterial_spot', 'Tomato___Early_blight',\n",
    " 'Tomato___Late_blight' ,'Tomato___Leaf_Mold', 'Tomato___Septoria_leaf_spot',\n",
    " 'Tomato___Spider_mites Two-spotted_spider_mite', 'Tomato___Target_Spot',\n",
    " 'Tomato___Tomato_Yellow_Leaf_Curl_Virus', 'Tomato___Tomato_mosaic_virus',\n",
    " 'Tomato___healthy']"
   ]
  },
  {
   "cell_type": "code",
   "execution_count": 6,
   "id": "dd8df82f",
   "metadata": {},
   "outputs": [
    {
     "data": {
      "text/plain": [
       "38"
      ]
     },
     "execution_count": 6,
     "metadata": {},
     "output_type": "execute_result"
    }
   ],
   "source": [
    "len(class_names)"
   ]
  },
  {
   "cell_type": "code",
   "execution_count": 7,
   "id": "58be8e56",
   "metadata": {},
   "outputs": [],
   "source": [
    "healthy_cls = [3,4,10,14,17,19,22,23,24,27,37]"
   ]
  },
  {
   "cell_type": "code",
   "execution_count": 8,
   "id": "e047c823",
   "metadata": {},
   "outputs": [],
   "source": [
    "# model.summary()"
   ]
  },
  {
   "cell_type": "markdown",
   "id": "552e9b1c",
   "metadata": {},
   "source": [
    "Testing the image prediction before deploying into production"
   ]
  },
  {
   "cell_type": "code",
   "execution_count": 9,
   "id": "98850c55",
   "metadata": {},
   "outputs": [],
   "source": [
    "# test_img = Image.open(\"E://Omdena//Crop_disease_prediction//train//Apple___Black_rot//8a1bb676-5d3e-423b-a667-c72d099215ab___JR_FrgE.S 2842.JPG\")\n",
    "# test_img = np.array(test_img.convert(\"RGB\"))\n",
    "# test_img = cv2.resize(test_img,(224,224),interpolation = cv2.INTER_NEAREST)\n",
    "# plt.imshow(test_img)\n",
    "# plt.axis(\"off\")\n",
    "# test_img = np.expand_dims(test_img,axis=0)\n",
    "# prediction = model.predict(test_img)\n",
    "# prediction_cls = np.argmax(prediction)\n",
    "# print(class_names[prediction_cls])"
   ]
  },
  {
   "cell_type": "code",
   "execution_count": 28,
   "id": "a7e02f27",
   "metadata": {},
   "outputs": [
    {
     "data": {
      "text/plain": [
       "DeltaGenerator(_root_container=0, _provided_cursor=None, _parent=None, _block_type=None, _form_data=None)"
      ]
     },
     "execution_count": 28,
     "metadata": {},
     "output_type": "execute_result"
    }
   ],
   "source": [
    "st.title(\"Omdena Crop Disease Prediction using Machine and Deep Learning\")"
   ]
  },
  {
   "cell_type": "code",
   "execution_count": 11,
   "id": "6cb4c8d3",
   "metadata": {},
   "outputs": [
    {
     "data": {
      "text/plain": [
       "DeltaGenerator(_root_container=0, _provided_cursor=None, _parent=None, _block_type=None, _form_data=None)"
      ]
     },
     "execution_count": 11,
     "metadata": {},
     "output_type": "execute_result"
    }
   ],
   "source": [
    "st.subheader(\"Model used : Efficient-Net\")\n",
    "st.subheader(\"Model accuracy : 99.65%\")"
   ]
  },
  {
   "cell_type": "code",
   "execution_count": 12,
   "id": "b92e698e",
   "metadata": {},
   "outputs": [],
   "source": [
    "uploaded_file = st.file_uploader(\"Upload your image for prediction\",type = ['jpg','jpeg','png','webp'])"
   ]
  },
  {
   "cell_type": "code",
   "execution_count": 26,
   "id": "5a6cf4b9",
   "metadata": {},
   "outputs": [],
   "source": [
    "if st.button(\"Process\"):\n",
    "        test_image = Image.open(uploaded_file)\n",
    "        test_image = np.array(test_image.convert('RGB'))\n",
    "        test_image = cv2.resize(test_image, (224,224),interpolation=cv2.INTER_NEAREST)\n",
    "        st.image(test_image,caption=\"Your input image\")\n",
    "        test_image = np.expand_dims(test_image,axis=0)\n",
    "        st.write(\"Processing the image for prediction...\")\n",
    "        \n",
    "        progress = st.progress(0)\n",
    "        progress_text = st.empty()\n",
    "        \n",
    "        for i in range(101):\n",
    "            time.sleep(0.2)\n",
    "            progress.progress(i)\n",
    "            progress_text.text(f\"Progress:{i}%\")\n",
    "            \n",
    "        probs = model.predict(test_image)\n",
    "        pred_class = np.argmax(probs)\n",
    "\n",
    "        pred_class_name = class_names[pred_class]\n",
    "        \n",
    "        if pred_class in healthy_cls:\n",
    "            msg = f'Your crop-leaf is healthy and predicted class is {pred_class_name} with probability of {int(probs[0][pred_class]*100)}%'\n",
    "            st.success(msg)\n",
    "        else:\n",
    "            msg = f'Your crop-leaf is not healthy and predicted class is {pred_class_name} with probability of {int(probs[0][pred_class]*100)}%'\n",
    "            st.error(msg)\n",
    "        \n",
    "        st.subheader(\"Plotting your input image with boundries for enhanced visualization\")\n",
    "        explainer = lime_image.LimeImageExplainer()\n",
    "        explanation = explainer.explain_instance(test_image[0], model.predict, top_labels=5, hide_color=0, num_samples=500)\n",
    "        st.write(\"Processing the image for boundries...\")\n",
    "        \n",
    "        progress = st.progress(0)\n",
    "        progress_text = st.empty()\n",
    "        \n",
    "        for i in range(101):\n",
    "            time.sleep(0.1)\n",
    "            progress.progress(i)\n",
    "            progress_text.text(f\"Progress:{i}%\")\n",
    "            \n",
    "        temp, mask = explanation.get_image_and_mask(explanation.top_labels[0], positive_only=True, num_features=5, hide_rest=False)\n",
    "        st.image(mark_boundaries(temp, mask),caption=\"Your crop with marked boundries\")\n",
    "        \n",
    "        st.write(\"Thank you for using our app\")"
   ]
  },
  {
   "cell_type": "code",
   "execution_count": null,
   "id": "a69d2737",
   "metadata": {},
   "outputs": [],
   "source": []
  }
 ],
 "metadata": {
  "kernelspec": {
   "display_name": "Python 3 (ipykernel)",
   "language": "python",
   "name": "python3"
  },
  "language_info": {
   "codemirror_mode": {
    "name": "ipython",
    "version": 3
   },
   "file_extension": ".py",
   "mimetype": "text/x-python",
   "name": "python",
   "nbconvert_exporter": "python",
   "pygments_lexer": "ipython3",
   "version": "3.9.6"
  }
 },
 "nbformat": 4,
 "nbformat_minor": 5
}
