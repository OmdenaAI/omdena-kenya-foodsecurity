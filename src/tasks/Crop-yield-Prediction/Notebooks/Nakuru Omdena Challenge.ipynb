{
 "cells": [
  {
   "cell_type": "markdown",
   "id": "bdfbcd23",
   "metadata": {},
   "source": [
    "#  Sentinel images of 2019 "
   ]
  },
  {
   "cell_type": "markdown",
   "id": "cf321313",
   "metadata": {},
   "source": [
    "**Import Scripts directly from google earth engine  data catalog using geemap**\n",
    "\n",
    "[ Import scripts (geemap.ee_search())](https://geemap.org/notebooks/22_import_scripts/): Returns Python scripts similar to javascripts coded in gee"
   ]
  },
  {
   "cell_type": "markdown",
   "id": "b56d680e",
   "metadata": {},
   "source": [
    "**Import the neccessary libraries for the task**"
   ]
  },
  {
   "cell_type": "code",
   "execution_count": 6,
   "id": "317001c9",
   "metadata": {},
   "outputs": [],
   "source": [
    "import ee \n",
    "import geemap\n",
    "import os"
   ]
  },
  {
   "cell_type": "markdown",
   "id": "7d3670b8",
   "metadata": {},
   "source": [
    "**Create ana interactive map and centre to nakuru**"
   ]
  },
  {
   "cell_type": "code",
   "execution_count": 2,
   "id": "425ba65f",
   "metadata": {},
   "outputs": [
    {
     "data": {
      "application/vnd.jupyter.widget-view+json": {
       "model_id": "f5fc46adf6f144aca587e30075ff7912",
       "version_major": 2,
       "version_minor": 0
      },
      "text/plain": [
       "Map(center=[-0.235101, 36.05274], controls=(WidgetControl(options=['position', 'transparent_bg'], widget=HBox(…"
      ]
     },
     "metadata": {},
     "output_type": "display_data"
    }
   ],
   "source": [
    "# Create a map centered at (lat, lon).\n",
    "Map = geemap.Map(center=[-0.235101,36.052740], zoom=13)\n",
    "Map"
   ]
  },
  {
   "cell_type": "markdown",
   "id": "9a43e6c0",
   "metadata": {},
   "source": [
    "Once the interactive map is created. Use the draw tools in the interactive map to draw a rectangle for a region of interest and run the code below"
   ]
  },
  {
   "cell_type": "markdown",
   "id": "e3464417",
   "metadata": {},
   "source": [
    "**Create feature collection from the drawn geometry**"
   ]
  },
  {
   "cell_type": "code",
   "execution_count": 3,
   "id": "47268fcb",
   "metadata": {},
   "outputs": [],
   "source": [
    "Map.draw_features\n",
    "nak = ee.FeatureCollection(Map.draw_features)\n",
    "roi = nak.geometry()"
   ]
  },
  {
   "cell_type": "markdown",
   "id": "02510088",
   "metadata": {},
   "source": [
    "## Get Sentinel 2A image for the drawn region "
   ]
  },
  {
   "cell_type": "code",
   "execution_count": 4,
   "id": "e1372101",
   "metadata": {},
   "outputs": [
    {
     "data": {
      "application/vnd.jupyter.widget-view+json": {
       "model_id": "f5fc46adf6f144aca587e30075ff7912",
       "version_major": 2,
       "version_minor": 0
      },
      "text/plain": [
       "Map(bottom=262899.0, center=[-0.31242215783639027, 36.11756282066232], controls=(WidgetControl(options=['posit…"
      ]
     },
     "metadata": {},
     "output_type": "display_data"
    }
   ],
   "source": [
    "# This example uses the Sentinel-2 QA band to cloud mask\n",
    "# the collection.  The Sentinel-2 cloud flags are less\n",
    "# selective, so the collection is also pre-filtered by the\n",
    "# CLOUDY_PIXEL_PERCENTAGE flag, to use only relatively\n",
    "# cloud-free granule.\n",
    "\n",
    "# Function to mask clouds using the Sentinel-2 QA band.\n",
    "# function maskS2clouds(image) {\n",
    "def maskS2clouds(image):\n",
    "  qa = image.select('QA60')\n",
    "\n",
    "  # Bits 10 and 11 are clouds and cirrus, respectively.\n",
    "  cloudBitMask = 1 << 10\n",
    "  cirrusBitMask = 1 << 11\n",
    "\n",
    "  # Both flags should be set to zero, indicating clear conditions.\n",
    "  mask = qa.bitwiseAnd(cloudBitMask).eq(0).And(\n",
    "             qa.bitwiseAnd(cirrusBitMask).eq(0))\n",
    "\n",
    "  # Return the masked and scaled data, without the QA bands.\n",
    "  return image.updateMask(mask).divide(10000) \\\n",
    "      .select(\"B.*\") \\\n",
    "      .copyProperties(image, [\"system:time_start\"])\n",
    "# }\n",
    "\n",
    "# Map the function over one year of data and take the median.\n",
    "# Load Sentinel-2 TOA reflectance data.\n",
    "collection = ee.ImageCollection('COPERNICUS/S2') \\\n",
    "    .filterDate('2019-01-01', '2019-12-31') \\\n",
    "    .filter(ee.Filter.lt('CLOUDY_PIXEL_PERCENTAGE', 5)) \\\n",
    "    .map(maskS2clouds)\n",
    "\n",
    "composite = collection.median().clip(roi)\n",
    "ImageInt=composite.select('B12', 'B11','B8','B4', 'B3', 'B2')\n",
    "\n",
    "# Display the results.\n",
    "Map.addLayer(composite, {'bands': ['B4', 'B3', 'B2'], 'min': 0, 'max': 0.3}, 'RGB')\n",
    "# Display the map.\n",
    "Map"
   ]
  },
  {
   "cell_type": "markdown",
   "id": "258add7d",
   "metadata": {},
   "source": [
    "You can zoom the true color image using the zoom buttons in the interactive map to further check if it is fitting the procedure"
   ]
  },
  {
   "cell_type": "markdown",
   "id": "5fbb9ff6",
   "metadata": {},
   "source": [
    "## Export the median composite image to your local directory for further analysis in Desktop GIS LIke QGIS"
   ]
  },
  {
   "cell_type": "code",
   "execution_count": 8,
   "id": "77d684e9",
   "metadata": {},
   "outputs": [],
   "source": [
    "out_dir = os.path.join(os.path.expanduser('~'), 'Downloads')\n",
    "filename = os.path.join(out_dir, 'MedianComposite.tif')"
   ]
  },
  {
   "cell_type": "code",
   "execution_count": 9,
   "id": "9331ac09",
   "metadata": {},
   "outputs": [
    {
     "name": "stdout",
     "output_type": "stream",
     "text": [
      "Generating URL ...\n",
      "Downloading data from https://earthengine.googleapis.com/v1alpha/projects/earthengine-legacy/thumbnails/c7722a7ef57970af61db4e4cec554f2f-c4038ff356118ebe57be1d59f1a8b56c:getPixels\n",
      "Please wait ...\n",
      "Data downloaded to C:\\Users\\HP\\Downloads\\MedianComposite.tif\n"
     ]
    }
   ],
   "source": [
    "geemap.ee_export_image(ImageInt, filename=filename, scale=90, region=roi, file_per_band=False)\n",
    "#geemap.ee_export_image(ImageInt, filename=filename, scale=90, region=roi, file_per_band=True) if you want to export individual bands"
   ]
  },
  {
   "cell_type": "markdown",
   "id": "3c7f01ba",
   "metadata": {},
   "source": [
    "**For visualization and further analysis . the bands that are required for color composite area ['B8', 'B4', 'B3'], while for the false color composite are ['B12', 'B11', 'B4']. We can further calculate NDVI as shown below**"
   ]
  },
  {
   "cell_type": "code",
   "execution_count": 10,
   "id": "37ff0eae",
   "metadata": {},
   "outputs": [
    {
     "data": {
      "application/vnd.jupyter.widget-view+json": {
       "model_id": "f5fc46adf6f144aca587e30075ff7912",
       "version_major": 2,
       "version_minor": 0
      },
      "text/plain": [
       "Map(bottom=2101156.0, center=[-0.3179152387907839, 35.95318794250489], controls=(WidgetControl(options=['posit…"
      ]
     },
     "metadata": {},
     "output_type": "display_data"
    }
   ],
   "source": [
    "nir=composite.select(\"B8\")\n",
    "red=composite.select(\"B4\")\n",
    "ndvi=nir.subtract(red).divide(nir.add(red)).rename(\"NDVI\")\n",
    "visparamsNdvi={min:-1,max:1,\"palette\":[\"grey\",\"white\",\"green\"]}\n",
    "Map.addLayer(ndvi, visparamsNdvi,  'NDVI Image')\n",
    "Map"
   ]
  },
  {
   "cell_type": "markdown",
   "id": "991c9d80",
   "metadata": {},
   "source": [
    "The next step is to try and Work on plotting the individual bands using [Rasterio](https://rasterio.readthedocs.io/en/latest/)"
   ]
  },
  {
   "cell_type": "code",
   "execution_count": null,
   "id": "bddfda54",
   "metadata": {},
   "outputs": [],
   "source": []
  }
 ],
 "metadata": {
  "kernelspec": {
   "display_name": "Python 3 (ipykernel)",
   "language": "python",
   "name": "python3"
  },
  "language_info": {
   "codemirror_mode": {
    "name": "ipython",
    "version": 3
   },
   "file_extension": ".py",
   "mimetype": "text/x-python",
   "name": "python",
   "nbconvert_exporter": "python",
   "pygments_lexer": "ipython3",
   "version": "3.9.7"
  },
  "toc": {
   "base_numbering": 1,
   "nav_menu": {},
   "number_sections": true,
   "sideBar": true,
   "skip_h1_title": false,
   "title_cell": "Table of Contents",
   "title_sidebar": "Contents",
   "toc_cell": false,
   "toc_position": {},
   "toc_section_display": true,
   "toc_window_display": true
  }
 },
 "nbformat": 4,
 "nbformat_minor": 5
}
