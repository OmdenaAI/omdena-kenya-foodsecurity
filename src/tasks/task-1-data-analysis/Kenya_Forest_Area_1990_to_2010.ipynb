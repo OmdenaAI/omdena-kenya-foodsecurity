{
  "nbformat": 4,
  "nbformat_minor": 2,
  "metadata": {
    "colab": {
      "name": "Kenya Forest Area 1990 to 2010.ipynb",
      "provenance": []
    },
    "kernelspec": {
      "name": "python3",
      "display_name": "Python 3.9.7 64-bit (windows store)"
    },
    "language_info": {
      "name": "python",
      "version": "3.9.7",
      "mimetype": "text/x-python",
      "codemirror_mode": {
        "name": "ipython",
        "version": 3
      },
      "pygments_lexer": "ipython3",
      "nbconvert_exporter": "python",
      "file_extension": ".py"
    },
    "interpreter": {
      "hash": "ed7e7d92d6f29d63afafa32bdef86a8fc71505b81fd08ec82bb873c1f13fa492"
    }
  },
  "cells": [
    {
      "cell_type": "code",
      "execution_count": 1,
      "source": [
        "import pandas as pd\r\n",
        "import numpy as np\r\n",
        "import matplotlib.pyplot as plt"
      ],
      "outputs": [
        {
          "output_type": "stream",
          "name": "stderr",
          "text": [
            "Matplotlib is building the font cache; this may take a moment.\n"
          ]
        }
      ],
      "metadata": {
        "id": "snjIn3EEXtIw"
      }
    },
    {
      "cell_type": "code",
      "execution_count": 10,
      "source": [
        "forest_area = pd.read_csv('https://raw.githubusercontent.com/OmdenaAI/omdena-kenya-foodsecurity/main/src/data/kenya-forest-area-1990-to-2010.csv?token=ANDCB6FSECLTVHMXHXDNYJDBH3SUE')"
      ],
      "outputs": [],
      "metadata": {
        "id": "sNEod4ToXzqu"
      }
    },
    {
      "cell_type": "code",
      "execution_count": 12,
      "source": [
        "forest_area.head()"
      ],
      "outputs": [
        {
          "output_type": "execute_result",
          "data": {
            "text/html": [
              "<div>\n",
              "<style scoped>\n",
              "    .dataframe tbody tr th:only-of-type {\n",
              "        vertical-align: middle;\n",
              "    }\n",
              "\n",
              "    .dataframe tbody tr th {\n",
              "        vertical-align: top;\n",
              "    }\n",
              "\n",
              "    .dataframe thead th {\n",
              "        text-align: right;\n",
              "    }\n",
              "</style>\n",
              "<table border=\"1\" class=\"dataframe\">\n",
              "  <thead>\n",
              "    <tr style=\"text-align: right;\">\n",
              "      <th></th>\n",
              "      <th>_id</th>\n",
              "      <th>Category of Forest</th>\n",
              "      <th>Year</th>\n",
              "      <th>Area ('000 HA)</th>\n",
              "    </tr>\n",
              "  </thead>\n",
              "  <tbody>\n",
              "    <tr>\n",
              "      <th>0</th>\n",
              "      <td>1</td>\n",
              "      <td>Indegenous Closed Canopy Forest</td>\n",
              "      <td>1990</td>\n",
              "      <td>1240</td>\n",
              "    </tr>\n",
              "    <tr>\n",
              "      <th>1</th>\n",
              "      <td>2</td>\n",
              "      <td>Indigenous Mangroves</td>\n",
              "      <td>1990</td>\n",
              "      <td>80</td>\n",
              "    </tr>\n",
              "    <tr>\n",
              "      <th>2</th>\n",
              "      <td>3</td>\n",
              "      <td>Open Woodlands</td>\n",
              "      <td>1990</td>\n",
              "      <td>2015</td>\n",
              "    </tr>\n",
              "    <tr>\n",
              "      <th>3</th>\n",
              "      <td>4</td>\n",
              "      <td>Public Plantation Forest</td>\n",
              "      <td>1990</td>\n",
              "      <td>170</td>\n",
              "    </tr>\n",
              "    <tr>\n",
              "      <th>4</th>\n",
              "      <td>5</td>\n",
              "      <td>Private Plantation Forest</td>\n",
              "      <td>1990</td>\n",
              "      <td>68</td>\n",
              "    </tr>\n",
              "  </tbody>\n",
              "</table>\n",
              "</div>"
            ],
            "text/plain": [
              "   _id               Category of Forest  Year  Area ('000 HA)\n",
              "0    1  Indegenous Closed Canopy Forest  1990            1240\n",
              "1    2             Indigenous Mangroves  1990              80\n",
              "2    3                   Open Woodlands  1990            2015\n",
              "3    4         Public Plantation Forest  1990             170\n",
              "4    5        Private Plantation Forest  1990              68"
            ]
          },
          "metadata": {},
          "execution_count": 12
        }
      ],
      "metadata": {
        "colab": {
          "base_uri": "https://localhost:8080/",
          "height": 203
        },
        "id": "EEax4oaiYHbg",
        "outputId": "99274b2a-23ed-46b6-c8b4-3065b8cd7a63"
      }
    },
    {
      "cell_type": "code",
      "execution_count": 13,
      "source": [
        "forest_area.describe()"
      ],
      "outputs": [
        {
          "output_type": "execute_result",
          "data": {
            "text/html": [
              "<div>\n",
              "<style scoped>\n",
              "    .dataframe tbody tr th:only-of-type {\n",
              "        vertical-align: middle;\n",
              "    }\n",
              "\n",
              "    .dataframe tbody tr th {\n",
              "        vertical-align: top;\n",
              "    }\n",
              "\n",
              "    .dataframe thead th {\n",
              "        text-align: right;\n",
              "    }\n",
              "</style>\n",
              "<table border=\"1\" class=\"dataframe\">\n",
              "  <thead>\n",
              "    <tr style=\"text-align: right;\">\n",
              "      <th></th>\n",
              "      <th>_id</th>\n",
              "      <th>Year</th>\n",
              "      <th>Area ('000 HA)</th>\n",
              "    </tr>\n",
              "  </thead>\n",
              "  <tbody>\n",
              "    <tr>\n",
              "      <th>count</th>\n",
              "      <td>32.000000</td>\n",
              "      <td>32.000000</td>\n",
              "      <td>32.000000</td>\n",
              "    </tr>\n",
              "    <tr>\n",
              "      <th>mean</th>\n",
              "      <td>16.500000</td>\n",
              "      <td>2001.250000</td>\n",
              "      <td>5217.125000</td>\n",
              "    </tr>\n",
              "    <tr>\n",
              "      <th>std</th>\n",
              "      <td>9.380832</td>\n",
              "      <td>7.513429</td>\n",
              "      <td>8095.361734</td>\n",
              "    </tr>\n",
              "    <tr>\n",
              "      <th>min</th>\n",
              "      <td>1.000000</td>\n",
              "      <td>1990.000000</td>\n",
              "      <td>68.000000</td>\n",
              "    </tr>\n",
              "    <tr>\n",
              "      <th>25%</th>\n",
              "      <td>8.750000</td>\n",
              "      <td>1997.500000</td>\n",
              "      <td>102.750000</td>\n",
              "    </tr>\n",
              "    <tr>\n",
              "      <th>50%</th>\n",
              "      <td>16.500000</td>\n",
              "      <td>2002.500000</td>\n",
              "      <td>1627.500000</td>\n",
              "    </tr>\n",
              "    <tr>\n",
              "      <th>75%</th>\n",
              "      <td>24.250000</td>\n",
              "      <td>2006.250000</td>\n",
              "      <td>5041.500000</td>\n",
              "    </tr>\n",
              "    <tr>\n",
              "      <th>max</th>\n",
              "      <td>32.000000</td>\n",
              "      <td>2010.000000</td>\n",
              "      <td>24800.000000</td>\n",
              "    </tr>\n",
              "  </tbody>\n",
              "</table>\n",
              "</div>"
            ],
            "text/plain": [
              "             _id         Year  Area ('000 HA)\n",
              "count  32.000000    32.000000       32.000000\n",
              "mean   16.500000  2001.250000     5217.125000\n",
              "std     9.380832     7.513429     8095.361734\n",
              "min     1.000000  1990.000000       68.000000\n",
              "25%     8.750000  1997.500000      102.750000\n",
              "50%    16.500000  2002.500000     1627.500000\n",
              "75%    24.250000  2006.250000     5041.500000\n",
              "max    32.000000  2010.000000    24800.000000"
            ]
          },
          "metadata": {},
          "execution_count": 13
        }
      ],
      "metadata": {
        "colab": {
          "base_uri": "https://localhost:8080/",
          "height": 295
        },
        "id": "iGl6J97iYi_g",
        "outputId": "9050f7f2-87db-4204-a65a-9429017b3914"
      }
    },
    {
      "cell_type": "code",
      "execution_count": 14,
      "source": [
        "forest_area.info()"
      ],
      "outputs": [
        {
          "output_type": "stream",
          "name": "stdout",
          "text": [
            "<class 'pandas.core.frame.DataFrame'>\n",
            "RangeIndex: 32 entries, 0 to 31\n",
            "Data columns (total 4 columns):\n",
            " #   Column              Non-Null Count  Dtype \n",
            "---  ------              --------------  ----- \n",
            " 0   _id                 32 non-null     int64 \n",
            " 1   Category of Forest  32 non-null     object\n",
            " 2   Year                32 non-null     int64 \n",
            " 3   Area ('000 HA)      32 non-null     int64 \n",
            "dtypes: int64(3), object(1)\n",
            "memory usage: 1.1+ KB\n"
          ]
        }
      ],
      "metadata": {
        "colab": {
          "base_uri": "https://localhost:8080/"
        },
        "id": "yAdJ6P4xYnWH",
        "outputId": "14d0ff2c-163f-4b4e-d95c-5b3785aa1f05"
      }
    },
    {
      "cell_type": "code",
      "execution_count": 15,
      "source": [
        "forest_area.columns"
      ],
      "outputs": [
        {
          "output_type": "execute_result",
          "data": {
            "text/plain": [
              "Index(['_id', 'Category of Forest', 'Year', 'Area ('000 HA)'], dtype='object')"
            ]
          },
          "metadata": {},
          "execution_count": 15
        }
      ],
      "metadata": {
        "colab": {
          "base_uri": "https://localhost:8080/"
        },
        "id": "P16W_U8FYs6X",
        "outputId": "510adb44-7619-4e32-e22e-398cf163863c"
      }
    },
    {
      "cell_type": "code",
      "execution_count": 16,
      "source": [
        "forest_area[\"Area ('000 HA)\"].plot()"
      ],
      "outputs": [
        {
          "output_type": "execute_result",
          "data": {
            "text/plain": [
              "<AxesSubplot:>"
            ]
          },
          "metadata": {},
          "execution_count": 16
        },
        {
          "output_type": "display_data",
          "data": {
            "image/png": "[encoded data removed]",
            "text/plain": [
              "<Figure size 432x288 with 1 Axes>"
            ]
          },
          "metadata": {
            "needs_background": "light"
          }
        }
      ],
      "metadata": {
        "colab": {
          "base_uri": "https://localhost:8080/",
          "height": 282
        },
        "id": "tcEJjNYyYwb_",
        "outputId": "afd1e77a-1b59-45c3-e88d-1d0d6bc43efe"
      }
    }
  ]
}