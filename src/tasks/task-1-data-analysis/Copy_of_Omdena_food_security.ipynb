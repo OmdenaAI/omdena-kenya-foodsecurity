{
  "nbformat": 4,
  "nbformat_minor": 0,
  "metadata": {
    "colab": {
      "name": "Copy of Omdena food security.ipynb",
      "provenance": []
    },
    "kernelspec": {
      "name": "python3",
      "display_name": "Python 3"
    },
    "language_info": {
      "name": "python"
    }
  },
  "cells": [
    {
      "cell_type": "code",
      "metadata": {
        "id": "8jkG2tqc0Uqe"
      },
      "source": [
        "import numpy as np \n",
        "import pandas as pd\n"
      ],
      "execution_count": 1,
      "outputs": []
    },
    {
      "cell_type": "code",
      "metadata": {
        "colab": {
          "base_uri": "https://localhost:8080/",
          "height": 205
        },
        "id": "hfpjjTMH1Qg2",
        "outputId": "87f5a094-fcd0-4fb3-c648-b76ed9dab54f"
      },
      "source": [
        "#kenya-climate-data-1991-2016-rainfallmm\n",
        "df = pd.read_csv(\"https://raw.githubusercontent.com/OmdenaAI/omdena-kenya-foodsecurity/main/src/data/kenya-climate-data-1991-2016-rainfallmm.csv?token=AQDT4GKXEF74CG7PYKF2KPDBJATVQ\")\n",
        "df.head()\n"
      ],
      "execution_count": 6,
      "outputs": [
        {
          "output_type": "execute_result",
          "data": {
            "text/html": [
              "<div>\n",
              "<style scoped>\n",
              "    .dataframe tbody tr th:only-of-type {\n",
              "        vertical-align: middle;\n",
              "    }\n",
              "\n",
              "    .dataframe tbody tr th {\n",
              "        vertical-align: top;\n",
              "    }\n",
              "\n",
              "    .dataframe thead th {\n",
              "        text-align: right;\n",
              "    }\n",
              "</style>\n",
              "<table border=\"1\" class=\"dataframe\">\n",
              "  <thead>\n",
              "    <tr style=\"text-align: right;\">\n",
              "      <th></th>\n",
              "      <th>Year</th>\n",
              "      <th>Month Average</th>\n",
              "      <th>Rainfall - (MM)</th>\n",
              "    </tr>\n",
              "  </thead>\n",
              "  <tbody>\n",
              "    <tr>\n",
              "      <th>0</th>\n",
              "      <td>1991</td>\n",
              "      <td>Jan Average</td>\n",
              "      <td>38.2847</td>\n",
              "    </tr>\n",
              "    <tr>\n",
              "      <th>1</th>\n",
              "      <td>1991</td>\n",
              "      <td>Feb Average</td>\n",
              "      <td>12.7492</td>\n",
              "    </tr>\n",
              "    <tr>\n",
              "      <th>2</th>\n",
              "      <td>1991</td>\n",
              "      <td>Mar Average</td>\n",
              "      <td>73.3656</td>\n",
              "    </tr>\n",
              "    <tr>\n",
              "      <th>3</th>\n",
              "      <td>1991</td>\n",
              "      <td>Apr Average</td>\n",
              "      <td>83.1350</td>\n",
              "    </tr>\n",
              "    <tr>\n",
              "      <th>4</th>\n",
              "      <td>1991</td>\n",
              "      <td>May Average</td>\n",
              "      <td>112.2750</td>\n",
              "    </tr>\n",
              "  </tbody>\n",
              "</table>\n",
              "</div>"
            ],
            "text/plain": [
              "   Year Month Average  Rainfall - (MM)\n",
              "0  1991   Jan Average          38.2847\n",
              "1  1991   Feb Average          12.7492\n",
              "2  1991   Mar Average          73.3656\n",
              "3  1991   Apr Average          83.1350\n",
              "4  1991   May Average         112.2750"
            ]
          },
          "metadata": {},
          "execution_count": 6
        }
      ]
    },
    {
      "cell_type": "code",
      "metadata": {
        "colab": {
          "base_uri": "https://localhost:8080/",
          "height": 205
        },
        "id": "O_pfRBbB1vQu",
        "outputId": "1f726e0d-5df2-4c24-eb63-02c8cf8b7b3f"
      },
      "source": [
        "#kenya-climate-data-1991-2016-temp-degress-celcius\n",
        "df2 = pd.read_csv(\"https://raw.githubusercontent.com/OmdenaAI/omdena-kenya-foodsecurity/main/src/data/kenya-climate-data-1991-2016-temp-degress-celcius.csv?token=AQDT4GLHLLH5TWMGDB4GM3LBJAUAK\")\n",
        "df2.head()"
      ],
      "execution_count": 7,
      "outputs": [
        {
          "output_type": "execute_result",
          "data": {
            "text/html": [
              "<div>\n",
              "<style scoped>\n",
              "    .dataframe tbody tr th:only-of-type {\n",
              "        vertical-align: middle;\n",
              "    }\n",
              "\n",
              "    .dataframe tbody tr th {\n",
              "        vertical-align: top;\n",
              "    }\n",
              "\n",
              "    .dataframe thead th {\n",
              "        text-align: right;\n",
              "    }\n",
              "</style>\n",
              "<table border=\"1\" class=\"dataframe\">\n",
              "  <thead>\n",
              "    <tr style=\"text-align: right;\">\n",
              "      <th></th>\n",
              "      <th>Year</th>\n",
              "      <th>Month Average</th>\n",
              "      <th>Temperature - (Celsius)</th>\n",
              "    </tr>\n",
              "  </thead>\n",
              "  <tbody>\n",
              "    <tr>\n",
              "      <th>0</th>\n",
              "      <td>1991</td>\n",
              "      <td>Jan Average</td>\n",
              "      <td>25.1631</td>\n",
              "    </tr>\n",
              "    <tr>\n",
              "      <th>1</th>\n",
              "      <td>1991</td>\n",
              "      <td>Feb Average</td>\n",
              "      <td>26.0839</td>\n",
              "    </tr>\n",
              "    <tr>\n",
              "      <th>2</th>\n",
              "      <td>1991</td>\n",
              "      <td>Mar Average</td>\n",
              "      <td>26.2236</td>\n",
              "    </tr>\n",
              "    <tr>\n",
              "      <th>3</th>\n",
              "      <td>1991</td>\n",
              "      <td>Apr Average</td>\n",
              "      <td>25.5812</td>\n",
              "    </tr>\n",
              "    <tr>\n",
              "      <th>4</th>\n",
              "      <td>1991</td>\n",
              "      <td>May Average</td>\n",
              "      <td>24.6618</td>\n",
              "    </tr>\n",
              "  </tbody>\n",
              "</table>\n",
              "</div>"
            ],
            "text/plain": [
              "   Year Month Average  Temperature - (Celsius)\n",
              "0  1991   Jan Average                  25.1631\n",
              "1  1991   Feb Average                  26.0839\n",
              "2  1991   Mar Average                  26.2236\n",
              "3  1991   Apr Average                  25.5812\n",
              "4  1991   May Average                  24.6618"
            ]
          },
          "metadata": {},
          "execution_count": 7
        }
      ]
    },
    {
      "cell_type": "code",
      "metadata": {
        "colab": {
          "base_uri": "https://localhost:8080/",
          "height": 205
        },
        "id": "_a5bL1_s3EUr",
        "outputId": "9be3924c-5edf-44c4-df29-5a8f25159b94"
      },
      "source": [
        "#kenya-forest-area-1990-to-2010\n",
        "df3 = pd.read_csv(\"https://raw.githubusercontent.com/OmdenaAI/omdena-kenya-foodsecurity/main/src/data/kenya-forest-area-1990-to-2010.csv?token=AQDT4GP2D6XKY4CGX7KZFA3BJAUI4\")\n",
        "df3.head()"
      ],
      "execution_count": 8,
      "outputs": [
        {
          "output_type": "execute_result",
          "data": {
            "text/html": [
              "<div>\n",
              "<style scoped>\n",
              "    .dataframe tbody tr th:only-of-type {\n",
              "        vertical-align: middle;\n",
              "    }\n",
              "\n",
              "    .dataframe tbody tr th {\n",
              "        vertical-align: top;\n",
              "    }\n",
              "\n",
              "    .dataframe thead th {\n",
              "        text-align: right;\n",
              "    }\n",
              "</style>\n",
              "<table border=\"1\" class=\"dataframe\">\n",
              "  <thead>\n",
              "    <tr style=\"text-align: right;\">\n",
              "      <th></th>\n",
              "      <th>_id</th>\n",
              "      <th>Category of Forest</th>\n",
              "      <th>Year</th>\n",
              "      <th>Area ('000 HA)</th>\n",
              "    </tr>\n",
              "  </thead>\n",
              "  <tbody>\n",
              "    <tr>\n",
              "      <th>0</th>\n",
              "      <td>1</td>\n",
              "      <td>Indegenous Closed Canopy Forest</td>\n",
              "      <td>1990</td>\n",
              "      <td>1240</td>\n",
              "    </tr>\n",
              "    <tr>\n",
              "      <th>1</th>\n",
              "      <td>2</td>\n",
              "      <td>Indigenous Mangroves</td>\n",
              "      <td>1990</td>\n",
              "      <td>80</td>\n",
              "    </tr>\n",
              "    <tr>\n",
              "      <th>2</th>\n",
              "      <td>3</td>\n",
              "      <td>Open Woodlands</td>\n",
              "      <td>1990</td>\n",
              "      <td>2015</td>\n",
              "    </tr>\n",
              "    <tr>\n",
              "      <th>3</th>\n",
              "      <td>4</td>\n",
              "      <td>Public Plantation Forest</td>\n",
              "      <td>1990</td>\n",
              "      <td>170</td>\n",
              "    </tr>\n",
              "    <tr>\n",
              "      <th>4</th>\n",
              "      <td>5</td>\n",
              "      <td>Private Plantation Forest</td>\n",
              "      <td>1990</td>\n",
              "      <td>68</td>\n",
              "    </tr>\n",
              "  </tbody>\n",
              "</table>\n",
              "</div>"
            ],
            "text/plain": [
              "   _id               Category of Forest  Year  Area ('000 HA)\n",
              "0    1  Indegenous Closed Canopy Forest  1990            1240\n",
              "1    2             Indigenous Mangroves  1990              80\n",
              "2    3                   Open Woodlands  1990            2015\n",
              "3    4         Public Plantation Forest  1990             170\n",
              "4    5        Private Plantation Forest  1990              68"
            ]
          },
          "metadata": {},
          "execution_count": 8
        }
      ]
    },
    {
      "cell_type": "code",
      "metadata": {
        "colab": {
          "base_uri": "https://localhost:8080/"
        },
        "id": "IlFX6ek9EZ2b",
        "outputId": "f63c1ba2-47e8-4eda-f93a-7660a2dfaf08"
      },
      "source": [
        "df.info()"
      ],
      "execution_count": 9,
      "outputs": [
        {
          "output_type": "stream",
          "name": "stdout",
          "text": [
            "<class 'pandas.core.frame.DataFrame'>\n",
            "RangeIndex: 312 entries, 0 to 311\n",
            "Data columns (total 3 columns):\n",
            " #   Column           Non-Null Count  Dtype  \n",
            "---  ------           --------------  -----  \n",
            " 0   Year             312 non-null    int64  \n",
            " 1   Month Average    312 non-null    object \n",
            " 2   Rainfall - (MM)  312 non-null    float64\n",
            "dtypes: float64(1), int64(1), object(1)\n",
            "memory usage: 7.4+ KB\n"
          ]
        }
      ]
    },
    {
      "cell_type": "code",
      "metadata": {
        "colab": {
          "base_uri": "https://localhost:8080/"
        },
        "id": "GLSuHmVFEdSH",
        "outputId": "e3fb0841-6008-412d-8737-72c079bc09e7"
      },
      "source": [
        "df2.info()"
      ],
      "execution_count": 10,
      "outputs": [
        {
          "output_type": "stream",
          "name": "stdout",
          "text": [
            "<class 'pandas.core.frame.DataFrame'>\n",
            "RangeIndex: 312 entries, 0 to 311\n",
            "Data columns (total 3 columns):\n",
            " #   Column                   Non-Null Count  Dtype  \n",
            "---  ------                   --------------  -----  \n",
            " 0   Year                     312 non-null    int64  \n",
            " 1   Month Average            312 non-null    object \n",
            " 2   Temperature - (Celsius)  312 non-null    float64\n",
            "dtypes: float64(1), int64(1), object(1)\n",
            "memory usage: 7.4+ KB\n"
          ]
        }
      ]
    },
    {
      "cell_type": "code",
      "metadata": {
        "colab": {
          "base_uri": "https://localhost:8080/"
        },
        "id": "X4GUjEUqLiFj",
        "outputId": "4c9c9c97-7153-4eb0-9695-8fd0dca4a145"
      },
      "source": [
        "df3.shape"
      ],
      "execution_count": 27,
      "outputs": [
        {
          "output_type": "execute_result",
          "data": {
            "text/plain": [
              "(32, 4)"
            ]
          },
          "metadata": {},
          "execution_count": 27
        }
      ]
    },
    {
      "cell_type": "code",
      "metadata": {
        "id": "k677i8f2LZBs"
      },
      "source": [
        "df3.rename(columns={'_id': 'ID', 'Category of Forest': 'Forest_category', 'Year' : 'Year', 'Area (\\'000 HA)' : 'Area(HA)'}, inplace=True)\n",
        "\n"
      ],
      "execution_count": 29,
      "outputs": []
    },
    {
      "cell_type": "code",
      "metadata": {
        "colab": {
          "base_uri": "https://localhost:8080/"
        },
        "id": "PJqXkoWaElbM",
        "outputId": "9c4a7544-a25e-4a55-f2d6-420564eeebb2"
      },
      "source": [
        "df3.info()"
      ],
      "execution_count": 30,
      "outputs": [
        {
          "output_type": "stream",
          "name": "stdout",
          "text": [
            "<class 'pandas.core.frame.DataFrame'>\n",
            "RangeIndex: 32 entries, 0 to 31\n",
            "Data columns (total 4 columns):\n",
            " #   Column           Non-Null Count  Dtype \n",
            "---  ------           --------------  ----- \n",
            " 0   ID               32 non-null     int64 \n",
            " 1   Forest_category  32 non-null     object\n",
            " 2   Year             32 non-null     int64 \n",
            " 3   Area(HA)         32 non-null     int64 \n",
            "dtypes: int64(3), object(1)\n",
            "memory usage: 1.1+ KB\n"
          ]
        }
      ]
    },
    {
      "cell_type": "code",
      "metadata": {
        "colab": {
          "base_uri": "https://localhost:8080/"
        },
        "id": "AkEuWSQUGvh2",
        "outputId": "dd79b530-c8f7-441d-9a92-6ad827137b18"
      },
      "source": [
        "### missing values\n",
        "df.isnull().sum()"
      ],
      "execution_count": 18,
      "outputs": [
        {
          "output_type": "execute_result",
          "data": {
            "text/plain": [
              "Year               0\n",
              "Month Average      0\n",
              "Rainfall - (MM)    0\n",
              "dtype: int64"
            ]
          },
          "metadata": {},
          "execution_count": 18
        }
      ]
    },
    {
      "cell_type": "code",
      "metadata": {
        "colab": {
          "base_uri": "https://localhost:8080/"
        },
        "id": "L-G9qod9HMai",
        "outputId": "cd6960a5-a47e-41a3-bfdb-2ed97dfa064a"
      },
      "source": [
        "### missing values\n",
        "df2.isnull().sum()"
      ],
      "execution_count": 17,
      "outputs": [
        {
          "output_type": "execute_result",
          "data": {
            "text/plain": [
              "Year                       0\n",
              "Month Average              0\n",
              "Temperature - (Celsius)    0\n",
              "dtype: int64"
            ]
          },
          "metadata": {},
          "execution_count": 17
        }
      ]
    },
    {
      "cell_type": "code",
      "metadata": {
        "colab": {
          "base_uri": "https://localhost:8080/"
        },
        "id": "t_rFAXmDHSEL",
        "outputId": "6978c84b-c882-43d6-f9f5-6f0c13f61efb"
      },
      "source": [
        "### missing values\n",
        "df3.isnull().sum()"
      ],
      "execution_count": 31,
      "outputs": [
        {
          "output_type": "execute_result",
          "data": {
            "text/plain": [
              "ID                 0\n",
              "Forest_category    0\n",
              "Year               0\n",
              "Area(HA)           0\n",
              "dtype: int64"
            ]
          },
          "metadata": {},
          "execution_count": 31
        }
      ]
    },
    {
      "cell_type": "code",
      "metadata": {
        "colab": {
          "base_uri": "https://localhost:8080/",
          "height": 952
        },
        "id": "TGcT24bw3eJg",
        "outputId": "2fe4ff81-d466-4469-f286-425927e3aa69"
      },
      "source": [
        "#distributions across the years\n",
        "#fig,ax=plt.subplots(1,3,figsize=(20,8))\n",
        "plt.figure(figsize=(20,15))\n",
        "sns.countplot('Rainfall - (MM)',hue='Year',data=df)\n",
        "#sns.displot(x='Rainfall - (MM)', hue='Year', data=df, kind='kde', aspect=1.5)\n",
        "#sns.countplot('Rainfall - (MM)',hue='Year',data=df,ax=ax[0])\n",
        "#ax[0].set_title('rainfall per year')\n",
        "\n",
        "#sns.countplot('Temperature - (Celsius)',hue='Year',data=df2,ax=ax[0])\n",
        "#ax[0].set_title('Temparature per year')\n",
        "\n",
        "#sns.countplot('Area(HA)',hue='Year',data=df3,ax=ax[0])\n",
        "#ax[0].set_title('Forest Area per year')\n",
        "\n",
        "#for ax in fig.axes:\n",
        "#    plt.sca(ax)\n",
        "#    plt.xticks(rotation=90)\n",
        "\n",
        "\n",
        "#plt.show()"
      ],
      "execution_count": 39,
      "outputs": [
        {
          "output_type": "stream",
          "name": "stderr",
          "text": [
            "/usr/local/lib/python3.7/dist-packages/seaborn/_decorators.py:43: FutureWarning: Pass the following variable as a keyword arg: x. From version 0.12, the only valid positional argument will be `data`, and passing other arguments without an explicit keyword will result in an error or misinterpretation.\n",
            "  FutureWarning\n"
          ]
        },
        {
          "output_type": "execute_result",
          "data": {
            "text/plain": [
              "<matplotlib.axes._subplots.AxesSubplot at 0x7f89a7e0a590>"
            ]
          },
          "metadata": {},
          "execution_count": 39
        },
        {
          "output_type": "display_data",
          "data": {
            "image/png": "[encoded data removed]",
            "text/plain": [
              "<Figure size 1440x1080 with 1 Axes>"
            ]
          },
          "metadata": {
            "needs_background": "light"
          }
        }
      ]
    },
    {
      "cell_type": "code",
      "metadata": {
        "colab": {
          "base_uri": "https://localhost:8080/",
          "height": 787
        },
        "id": "XjVdTc2xRLvU",
        "outputId": "db70856d-2266-4b0f-fe64-8db6f8582511"
      },
      "source": [
        " fig,(ax1,ax2,ax3)=plt.subplots(1,3,figsize=(20,13))\n",
        "sns.scatterplot(x='Rainfall - (MM)',y='Year',data=df,ax=ax1)\n",
        "sns.scatterplot(x='Temperature - (Celsius)',y='Year',data=df2,ax=ax2)\n",
        "sns.scatterplot(x='Area(HA)',y='Year',data=df3,ax=ax3)\n"
      ],
      "execution_count": 38,
      "outputs": [
        {
          "output_type": "execute_result",
          "data": {
            "text/plain": [
              "<matplotlib.axes._subplots.AxesSubplot at 0x7f89a7d8bd10>"
            ]
          },
          "metadata": {},
          "execution_count": 38
        },
        {
          "output_type": "display_data",
          "data": {
            "image/png": "[encoded data removed]",
            "text/plain": [
              "<Figure size 1440x936 with 3 Axes>"
            ]
          },
          "metadata": {
            "needs_background": "light"
          }
        }
      ]
    },
    {
      "cell_type": "code",
      "metadata": {
        "id": "m_04nfTRF7kd"
      },
      "source": [
        ""
      ],
      "execution_count": null,
      "outputs": []
    }
  ]
}