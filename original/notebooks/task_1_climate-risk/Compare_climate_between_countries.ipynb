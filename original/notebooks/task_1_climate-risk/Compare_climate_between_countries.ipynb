{
  "nbformat": 4,
  "nbformat_minor": 0,
  "metadata": {
    "colab": {
      "name": "Compare_climate_between_countries.ipynb",
      "provenance": [],
      "collapsed_sections": []
    },
    "kernelspec": {
      "name": "python3",
      "display_name": "Python 3"
    }
  },
  "cells": [
    {
      "cell_type": "code",
      "metadata": {
        "id": "HG5Y8T2m1XYl"
      },
      "source": [
        "import requests\n",
        "from bs4 import BeautifulSoup as BS\n",
        "import json\n",
        "import pandas as pd\n",
        "from io import StringIO\n",
        "from sklearn.metrics.pairwise import cosine_similarity, euclidean_distances"
      ],
      "execution_count": 15,
      "outputs": []
    },
    {
      "cell_type": "code",
      "metadata": {
        "id": "WItlyAmu1i1m"
      },
      "source": [
        "class WorldBankClimate:\n",
        "  def __init__(self):\n",
        "    pass\n",
        "\n",
        "  def _query_weather_forecast(self, *args): \n",
        "    url = self._build_url(*args)\n",
        "    csv_content = self._parse_html(url)\n",
        "    data = self._parse_csv(csv_content)\n",
        "    return data\n",
        "\n",
        "  def _build_url(self, *args):\n",
        "    url = 'http://climatedataapi.worldbank.org/climateweb/rest/v1/country'\n",
        "    for arg in args: \n",
        "      url = '/'.join([url, arg])\n",
        "    return url + \".csv\"\n",
        "\n",
        "  def _parse_html(self, url):\n",
        "    html_content = requests.get(url).text\n",
        "    return BS(html_content).p.contents[0]\n",
        "  \n",
        "  def _parse_csv(self, content):\n",
        "    return pd.read_csv(StringIO(content))\n",
        "\n",
        "  def forecast_temp(self, is_monthly, start_yr, gcm='csiro_mk3_5', country=\"SEN\"):\n",
        "    if is_monthly:\n",
        "      aggregation_type = 'mavg'\n",
        "    else: #annually\n",
        "      aggregation_type = 'annualavg'\n",
        "    sres = 'a2'\n",
        "    index = 'tas'\n",
        "    yr_range = str(start_yr) + '/' + str(start_yr+19) \\\n",
        "      if start_yr in [1920, 1940, 1960, 1980, 2020, 2040, 2060, 2080] \\\n",
        "      else print(\"Invalid start year\")\n",
        "    \n",
        "    return self._query_weather_forecast(aggregation_type, gcm, sres, index, yr_range, country)\n",
        "\n",
        "  def forecast_pr(self, is_monthly, start_yr=2020, gcm='csiro_mk3_5', country=\"SEN\"):\n",
        "    if is_monthly:\n",
        "      aggregation_type = 'mavg'\n",
        "    else: #annually\n",
        "      aggregation_type = 'annualavg'\n",
        "    sres = 'a2'\n",
        "    index = 'pr'\n",
        "    yr_range = str(start_yr) + '/' + str(start_yr+19) \\\n",
        "      if start_yr in [1920, 1940, 1960, 1980, 2020, 2040, 2060, 2080] \\\n",
        "      else print(\"Invalid start year\")\n",
        "    \n",
        "    return self._query_weather_forecast(aggregation_type, gcm, sres, index, yr_range, country)"
      ],
      "execution_count": 16,
      "outputs": []
    },
    {
      "cell_type": "code",
      "metadata": {
        "id": "zacRScDv1muJ"
      },
      "source": [
        "def query_temp_pr_info(countries, is_monthly=True, start_yr=2020):\n",
        "  forecast_model = WorldBankClimate()\n",
        "  is_first = True\n",
        "\n",
        "  for country in countries:\n",
        "    temp_forecast = forecast_model.forecast_temp(is_monthly, start_yr, country=country)\n",
        "    temp_forecast['country'] = country\n",
        "    pr_forecast = forecast_model.forecast_pr(is_monthly, start_yr, country=country)\n",
        "    pr_forecast['country'] = country\n",
        "\n",
        "    if is_first:\n",
        "      countries_temp_forecast = temp_forecast\n",
        "      countries_pr_forecast = pr_forecast\n",
        "      is_first = False\n",
        "    else:\n",
        "      countries_temp_forecast = countries_temp_forecast.append(temp_forecast)\n",
        "      countries_pr_forecast = countries_pr_forecast.append(pr_forecast)\n",
        "\n",
        "  countries_temp_forecast.set_index(['country'], inplace=True)\n",
        "  countries_pr_forecast.set_index(['country'], inplace=True)\n",
        "\n",
        "  return countries_temp_forecast, countries_pr_forecast\n"
      ],
      "execution_count": 17,
      "outputs": []
    },
    {
      "cell_type": "code",
      "metadata": {
        "id": "I30W2yH92zGf"
      },
      "source": [
        ""
      ],
      "execution_count": 17,
      "outputs": []
    },
    {
      "cell_type": "markdown",
      "metadata": {
        "id": "bp6n4Wr96JrT"
      },
      "source": [
        "#Example: compare Senegal's temperature and precipitation with other countries in Sahel between 2020~2039"
      ]
    },
    {
      "cell_type": "code",
      "metadata": {
        "colab": {
          "base_uri": "https://localhost:8080/"
        },
        "id": "k3VBwaKO1k9Y",
        "outputId": "e077a35d-3111-4c76-977b-59e00ad2613e"
      },
      "source": [
        "# countries info queried from http://climatedataapi.worldbank.org/climateweb/rest/v1/country/\n",
        "Sahel = [{\"name\":\"Senegal\",\"iso3\":\"SEN\",\"iso2\":\"SN\",\"id\":559},\n",
        "{\"name\":\"Mauritania\",\"iso3\":\"MRT\",\"iso2\":\"MR\",\"id\":530},\n",
        "{\"name\":\"Mali\",\"iso3\":\"MLI\",\"iso2\":\"ML\",\"id\":529},\n",
        "{\"name\":\"Burkina Faso\",\"iso3\":\"BFA\",\"iso2\":\"BF\",\"id\":552},\n",
        "{\"name\":\"Niger\",\"iso3\":\"NER\",\"iso2\":\"NE\",\"id\":525},\n",
        "{\"name\":\"Nigeria\",\"iso3\":\"NGA\",\"iso2\":\"NG\",\"id\":527},\n",
        "{\"name\":\"Chad\",\"iso3\":\"TCD\",\"iso2\":\"TD\",\"id\":524},\n",
        "{\"name\":\"Central African Republic\",\"iso3\":\"CAF\",\"iso2\":\"CF\",\"id\":528},\n",
        "{\"name\":\"Sudan\",\"iso3\":\"SDN\",\"iso2\":\"SD\",\"id\":526},\n",
        "{\"name\":\"Eritrea\",\"iso3\":\"ERI\",\"iso2\":\"ER\",\"id\":531},\n",
        "{\"name\":\"Ethiopia\",\"iso3\":\"ETH\",\"iso2\":\"ET\",\"id\":532}]\n",
        "\n",
        "# use iso3 name\n",
        "Sahel_countries = [country['iso3'] for country in Sahel]\n",
        "\n",
        "# query average monthly temperature and precipitation of all countries in 2020 ~ 2039\n",
        "Sahel_countries_temp_forecast, Sahel_countries_pr_forecast = query_temp_pr_info(Sahel_countries)\n",
        "\n",
        "# compare differences in temperature pattern and amount\n",
        "pattern_difference = cosine_similarity(Sahel_countries_temp_forecast[['Jan', 'Feb', 'Mar', 'Apr', 'May', 'Jun', 'Jul', 'Aug', 'Sep', 'Oct', 'Nov', 'Dec']])[0]\n",
        "amount_difference = euclidean_distances(Sahel_countries_temp_forecast[['Jan', 'Feb', 'Mar', 'Apr', 'May', 'Jun', 'Jul', 'Aug', 'Sep', 'Oct', 'Nov', 'Dec']])[0]\n",
        "print(\"Temperature similarity\")\n",
        "for country, pattern, amount in zip(Sahel_countries_temp_forecast.index, pattern_difference, amount_difference):\n",
        "  print(country, \":\", pattern, '\\t', amount)\n",
        "\n",
        "# compare differences in precipitation pattern and amount\n",
        "print()\n",
        "pattern_difference = cosine_similarity(Sahel_countries_pr_forecast[['Jan', 'Feb', 'Mar', 'Apr', 'May', 'Jun', 'Jul', 'Aug', 'Sep', 'Oct', 'Nov', 'Dec']])[0]\n",
        "amount_difference = euclidean_distances(Sahel_countries_pr_forecast[['Jan', 'Feb', 'Mar', 'Apr', 'May', 'Jun', 'Jul', 'Aug', 'Sep', 'Oct', 'Nov', 'Dec']])[0]\n",
        "print(\"Precipitation similarity\")\n",
        "for country, pattern, amount in zip(Sahel_countries_pr_forecast.index, pattern_difference, amount_difference):\n",
        "  print(country, \":\", pattern, '\\t', amount)"
      ],
      "execution_count": 18,
      "outputs": [
        {
          "output_type": "stream",
          "text": [
            "Temperature similarity\n",
            "SEN : 1.0 \t 0.0\n",
            "MRT : 0.9903038242899798 \t 15.063918331674365\n",
            "MLI : 0.993918371708739 \t 12.962497740739154\n",
            "BFA : 0.9988812734590367 \t 5.6722188176566135\n",
            "NER : 0.9906901922128943 \t 14.753923764592292\n",
            "NGA : 0.9992828778479225 \t 4.971536464998338\n",
            "TCD : 0.9940882003556208 \t 12.251793725232535\n",
            "CAF : 0.9982588987199079 \t 8.67392974586845\n",
            "SDN : 0.9972321580215787 \t 8.567201789994323\n",
            "ERI : 0.9953499861376813 \t 10.739994300463682\n",
            "ETH : 0.999126474374886 \t 12.993115407484492\n",
            "\n",
            "Precipitation similarity\n",
            "SEN : 1.0 \t 0.0\n",
            "MRT : 0.9703966210611493 \t 101.28803127805212\n",
            "MLI : 0.9434055016866728 \t 52.64406577266291\n",
            "BFA : 0.91705109688767 \t 277.588491020627\n",
            "NER : 0.7926716775574562 \t 91.93966334319916\n",
            "NGA : 0.8232170045854844 \t 442.45048857816414\n",
            "TCD : 0.7636139524865098 \t 138.36053811589056\n",
            "CAF : 0.7662503915871806 \t 482.66690365994936\n",
            "SDN : 0.7903300904489141 \t 140.8290084147056\n",
            "ERI : 0.7510553544678219 \t 88.89754737598983\n",
            "ETH : 0.699222366284624 \t 210.84439737753328\n"
          ],
          "name": "stdout"
        }
      ]
    },
    {
      "cell_type": "code",
      "metadata": {
        "id": "smttivbj4_8d"
      },
      "source": [
        ""
      ],
      "execution_count": 18,
      "outputs": []
    }
  ]
}