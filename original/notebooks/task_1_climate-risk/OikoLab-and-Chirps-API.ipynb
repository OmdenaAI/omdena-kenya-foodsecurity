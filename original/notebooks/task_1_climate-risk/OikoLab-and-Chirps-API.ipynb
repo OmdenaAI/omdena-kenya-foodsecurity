{
 "cells": [
  {
   "cell_type": "markdown",
   "metadata": {},
   "source": [
    "## OikoLab - Data from 1980 onwards on:\n",
    "- Temperature\n",
    "- Wind\n",
    "- Radiation\n",
    "- Pressure, Humidity and Precipitation\n",
    "\n",
    "Specific parameters can be found here - https://docs.oikolab.com/#3-weather-parameters"
   ]
  },
  {
   "cell_type": "code",
   "execution_count": 47,
   "metadata": {},
   "outputs": [],
   "source": [
    "import requests\n",
    "import os\n",
    "import json"
   ]
  },
  {
   "cell_type": "code",
   "execution_count": 4,
   "metadata": {},
   "outputs": [],
   "source": [
    "cities = {\"Dakar\" : (14.6937, -17.44406),\n",
    "          \"Pikine\" : (14.76457, -17.39071),\n",
    "          \"Touba\" : (14.85, -15.88333),\n",
    "          \"Kaolack\" : (14.15197, -16.07259),\n",
    "          \"Thiès\" : (14.78944, -16.92602),\n",
    "          \"Ziguinchor\" : (12.56801, -16.27326),\n",
    "          \"Thiès Nones\" : (14.78333, -16.96667),\n",
    "          \"Tiébo\" : (14.63333, -16.23333),\n",
    "          \"Kolda\" : (12.8939, -14.94125),\n",
    "          \"Saint-Louis\" : (16.01793, -16.48962),\n",
    "          \"Bignona\" : (12.81028, -16.22639),\n",
    "          \"Matam\" : (15.65587, -13.25544),\n",
    "          \"Koungheul\" : (13.98333, -14.8),\n",
    "          \"Tambacounda\" : (13.77073, -13.66734),\n",
    "          \"Mbaké\" : (14.79032, -15.90803),\n",
    "          \"Louga\" : (15.61867, -16.22436),\n",
    "          \"Richard-Toll\" : (16.4625, -15.70083),\n",
    "          \"Joal-Fadiout\" : (14.16667, -16.83333),\n",
    "          \"N’diareme limamoulaye\" : (14.78148, -17.3841),\n",
    "          \"Dara\" : (15.34844, -15.47993)}\n",
    "\n",
    "#Add more as needed"
   ]
  },
  {
   "cell_type": "code",
   "execution_count": 9,
   "metadata": {},
   "outputs": [],
   "source": [
    "#A file containing your api key obtained from the website - https://oikolab.com/\n",
    "with open(\"keyfile.txt\") as f:\n",
    "    api_key = f.readlines()[0].rstrip()"
   ]
  },
  {
   "cell_type": "code",
   "execution_count": 53,
   "metadata": {},
   "outputs": [
    {
     "data": {
      "text/plain": [
       "\"\\nAll param values :\\n        'temperature',                                    degrees celsius\\n        'dewpoint_temperature',                           \\n        'wetbulb_temperature', \\n        'relative_humidity',                              from 0 to 1 (no unit)\\n        'humidex', \\n        'urban_temperature', \\n        'surface_solar_radiation',                        Watts/metre squared\\n        'surface_thermal_radiation',\\n        'surface_direct_solar_radiation',\\n        'direct_normal_solar_radiation',\\n        'surface_diffuse_solar_radiation',\\n        'wind_speed',                                     metres/second\\n        'wind_direction', \\n        'surface_pressure',                               Pascals\\n        'total_cloud_cover',                              0 to 1\\n        'soil_temperature_level_1', \\n        'soil_temperature_level_2', \\n        'soil_temperature_level_3',\\n        'soil_temperature_level_4',\\n        'sea_surface_temperature',\\n        'skin_temperature',\\n        'total_precipitation',                            millimeters\\n        'snowfall'                                        millimeters\\n\""
      ]
     },
     "execution_count": 53,
     "metadata": {},
     "output_type": "execute_result"
    }
   ],
   "source": [
    "response = requests.get(\"https://api.oikolab.com/weather\",      \n",
    "                        params={\"param\":'temperature', \n",
    "                                \"start\":'2019-01-01T00:00:00', \n",
    "                                \"end\":'2020-01-01T00:00:00',\n",
    "                                \"freq\":'D', \n",
    "                                \"lat\":cities[\"Dakar\"][0], \n",
    "                                \"lon\":cities[\"Dakar\"][1],\n",
    "                                \"api-key\":api_key})\n",
    "\n",
    "\n",
    "\"\"\"\n",
    "All param values :\n",
    "        'temperature',                                    degrees celsius\n",
    "        'dewpoint_temperature',                           \n",
    "        'wetbulb_temperature', \n",
    "        'relative_humidity',                              from 0 to 1 (no unit)\n",
    "        'humidex', \n",
    "        'urban_temperature', \n",
    "        'surface_solar_radiation',                        Watts/metre squared\n",
    "        'surface_thermal_radiation',\n",
    "        'surface_direct_solar_radiation',\n",
    "        'direct_normal_solar_radiation',\n",
    "        'surface_diffuse_solar_radiation',\n",
    "        'wind_speed',                                     metres/second\n",
    "        'wind_direction', \n",
    "        'surface_pressure',                               Pascals\n",
    "        'total_cloud_cover',                              0 to 1\n",
    "        'soil_temperature_level_1', \n",
    "        'soil_temperature_level_2', \n",
    "        'soil_temperature_level_3',\n",
    "        'soil_temperature_level_4',\n",
    "        'sea_surface_temperature',\n",
    "        'skin_temperature',\n",
    "        'total_precipitation',                            millimeters\n",
    "        'snowfall'                                        millimeters\n",
    "\"\"\""
   ]
  },
  {
   "cell_type": "code",
   "execution_count": 54,
   "metadata": {},
   "outputs": [
    {
     "data": {
      "text/plain": [
       "{'attributes': {'lat': 14.6937,\n",
       "  'lon': -17.44406,\n",
       "  'utc_offset': -1.0,\n",
       "  'processing_time': 0.186,\n",
       "  'n_parameter_months': 12,\n",
       "  'gfs_reference_time': '2020-12-08 12:00:00Z',\n",
       "  'next_gfs_update': 'in 4.4 hours (approx)',\n",
       "  'source': 'ERA5 from Copernicus Climate Data Store (CDS) (2020) and GFS from National Centers for Environmental Prediction (NCEP)',\n",
       "  'notes': 'GFS forecast data is updated every 6 hours and ERA5/ERA5T reanalysis data is updated every 24 hours to the most recent data available.'},\n",
       " 'data': '{\"columns\":[\"temperature (degC)\"],\"index\":[1546300800,1546387200,1546473600,1546560000,1546646400,1546732800,1546819200,1546905600,1546992000,1547078400,1547164800,1547251200,1547337600,1547424000,1547510400,1547596800,1547683200,1547769600,1547856000,1547942400,1548028800,1548115200,1548201600,1548288000,1548374400,1548460800,1548547200,1548633600,1548720000,1548806400,1548892800,1548979200,1549065600,1549152000,1549238400,1549324800,1549411200,1549497600,1549584000,1549670400,1549756800,1549843200,1549929600,1550016000,1550102400,1550188800,1550275200,1550361600,1550448000,1550534400,1550620800,1550707200,1550793600,1550880000,1550966400,1551052800,1551139200,1551225600,1551312000,1551398400,1551484800,1551571200,1551657600,1551744000,1551830400,1551916800,1552003200,1552089600,1552176000,1552262400,1552348800,1552435200,1552521600,1552608000,1552694400,1552780800,1552867200,1552953600,1553040000,1553126400,1553212800,1553299200,1553385600,1553472000,1553558400,1553644800,1553731200,1553817600,1553904000,1553990400,1554076800,1554163200,1554249600,1554336000,1554422400,1554508800,1554595200,1554681600,1554768000,1554854400,1554940800,1555027200,1555113600,1555200000,1555286400,1555372800,1555459200,1555545600,1555632000,1555718400,1555804800,1555891200,1555977600,1556064000,1556150400,1556236800,1556323200,1556409600,1556496000,1556582400,1556668800,1556755200,1556841600,1556928000,1557014400,1557100800,1557187200,1557273600,1557360000,1557446400,1557532800,1557619200,1557705600,1557792000,1557878400,1557964800,1558051200,1558137600,1558224000,1558310400,1558396800,1558483200,1558569600,1558656000,1558742400,1558828800,1558915200,1559001600,1559088000,1559174400,1559260800,1559347200,1559433600,1559520000,1559606400,1559692800,1559779200,1559865600,1559952000,1560038400,1560124800,1560211200,1560297600,1560384000,1560470400,1560556800,1560643200,1560729600,1560816000,1560902400,1560988800,1561075200,1561161600,1561248000,1561334400,1561420800,1561507200,1561593600,1561680000,1561766400,1561852800,1561939200,1562025600,1562112000,1562198400,1562284800,1562371200,1562457600,1562544000,1562630400,1562716800,1562803200,1562889600,1562976000,1563062400,1563148800,1563235200,1563321600,1563408000,1563494400,1563580800,1563667200,1563753600,1563840000,1563926400,1564012800,1564099200,1564185600,1564272000,1564358400,1564444800,1564531200,1564617600,1564704000,1564790400,1564876800,1564963200,1565049600,1565136000,1565222400,1565308800,1565395200,1565481600,1565568000,1565654400,1565740800,1565827200,1565913600,1566000000,1566086400,1566172800,1566259200,1566345600,1566432000,1566518400,1566604800,1566691200,1566777600,1566864000,1566950400,1567036800,1567123200,1567209600,1567296000,1567382400,1567468800,1567555200,1567641600,1567728000,1567814400,1567900800,1567987200,1568073600,1568160000,1568246400,1568332800,1568419200,1568505600,1568592000,1568678400,1568764800,1568851200,1568937600,1569024000,1569110400,1569196800,1569283200,1569369600,1569456000,1569542400,1569628800,1569715200,1569801600,1569888000,1569974400,1570060800,1570147200,1570233600,1570320000,1570406400,1570492800,1570579200,1570665600,1570752000,1570838400,1570924800,1571011200,1571097600,1571184000,1571270400,1571356800,1571443200,1571529600,1571616000,1571702400,1571788800,1571875200,1571961600,1572048000,1572134400,1572220800,1572307200,1572393600,1572480000,1572566400,1572652800,1572739200,1572825600,1572912000,1572998400,1573084800,1573171200,1573257600,1573344000,1573430400,1573516800,1573603200,1573689600,1573776000,1573862400,1573948800,1574035200,1574121600,1574208000,1574294400,1574380800,1574467200,1574553600,1574640000,1574726400,1574812800,1574899200,1574985600,1575072000,1575158400,1575244800,1575331200,1575417600,1575504000,1575590400,1575676800,1575763200,1575849600,1575936000,1576022400,1576108800,1576195200,1576281600,1576368000,1576454400,1576540800,1576627200,1576713600,1576800000,1576886400,1576972800,1577059200,1577145600,1577232000,1577318400,1577404800,1577491200,1577577600,1577664000,1577750400,1577836800],\"data\":[[24.84],[24.05],[22.49],[22.96],[23.12],[23.07],[22.75],[22.67],[22.08],[21.91],[22.09],[22.6],[22.85],[22.07],[21.79],[21.93],[21.12],[20.5],[20.53],[20.39],[20.5],[20.31],[20.21],[20.14],[21.53],[22.11],[22.14],[20.61],[20.31],[20.38],[20.28],[20.03],[20.4],[20.17],[20.18],[21.46],[21.57],[21.9],[22.29],[22.37],[23.38],[23.87],[23.98],[23.23],[22.02],[20.59],[20.02],[20.02],[20.23],[20.32],[21.32],[22.34],[23.25],[22.53],[21.43],[21.12],[20.65],[20.81],[21.05],[20.48],[20.4],[20.54],[20.93],[20.3],[19.98],[20.37],[20.18],[20.29],[21.96],[22.42],[22.29],[22.44],[21.74],[20.67],[20.9],[21.52],[21.74],[21.16],[20.24],[19.7],[19.74],[19.52],[19.35],[19.8],[19.83],[19.9],[20.17],[19.9],[19.51],[19.99],[20.13],[19.69],[19.34],[19.51],[19.76],[20.75],[21.0],[21.12],[20.35],[19.79],[19.34],[19.17],[19.1],[19.38],[20.05],[20.01],[19.77],[20.17],[20.11],[19.51],[19.36],[19.43],[20.19],[21.1],[21.64],[22.15],[21.93],[21.68],[20.85],[19.93],[19.61],[19.73],[20.24],[20.98],[22.02],[22.66],[22.97],[21.73],[21.11],[20.7],[20.94],[20.99],[20.93],[20.6],[20.08],[20.64],[20.95],[21.01],[21.14],[21.61],[21.66],[21.3],[21.39],[21.16],[21.26],[21.56],[21.81],[22.37],[22.5],[21.93],[21.73],[21.42],[21.56],[21.67],[21.73],[22.21],[22.08],[21.92],[22.95],[23.16],[23.24],[22.48],[22.4],[22.75],[23.17],[24.21],[24.68],[24.13],[24.01],[23.74],[24.24],[23.52],[22.97],[23.53],[24.71],[25.05],[24.77],[24.21],[24.03],[24.76],[25.07],[24.83],[25.26],[24.73],[24.57],[24.99],[25.11],[24.75],[24.82],[24.2],[24.14],[24.36],[24.9],[25.74],[24.99],[24.96],[26.38],[26.1],[24.73],[24.64],[25.83],[25.2],[25.15],[26.31],[25.81],[25.26],[25.81],[25.93],[26.44],[26.91],[26.17],[25.49],[25.62],[25.33],[25.85],[25.77],[24.44],[24.65],[26.45],[26.52],[26.22],[26.21],[26.87],[26.37],[25.59],[26.38],[27.04],[27.15],[26.84],[26.52],[26.87],[27.08],[26.49],[26.65],[27.31],[27.41],[26.77],[26.68],[27.19],[27.39],[26.09],[26.59],[26.58],[26.99],[27.68],[27.74],[27.2],[27.56],[27.6],[27.52],[27.22],[27.26],[27.7],[28.26],[28.25],[27.64],[28.33],[28.34],[27.88],[28.26],[28.03],[27.58],[28.57],[28.44],[28.33],[28.12],[27.65],[27.56],[27.52],[27.28],[27.31],[27.55],[27.81],[27.52],[28.18],[28.57],[27.94],[27.96],[27.65],[27.68],[26.2],[27.9],[28.18],[28.47],[29.11],[26.19],[27.41],[28.15],[28.13],[27.73],[27.71],[27.75],[27.14],[26.88],[26.47],[26.97],[27.25],[27.22],[28.31],[27.43],[27.42],[28.17],[28.14],[27.71],[27.76],[27.35],[28.3],[28.37],[26.91],[25.85],[25.31],[25.36],[25.89],[26.08],[25.64],[24.61],[24.6],[24.78],[24.89],[25.45],[25.53],[25.1],[25.25],[24.33],[24.01],[24.39],[24.44],[24.99],[24.29],[23.48],[23.11],[23.19],[23.7],[23.91],[23.76],[23.86],[23.57],[22.87],[22.15],[22.79],[23.07],[23.54],[24.44],[24.4],[24.1],[23.96],[23.69],[23.42],[22.45],[22.0],[22.98],[23.55],[23.56],[23.3],[23.05],[23.45],[23.99],[24.14],[23.7],[23.54],[23.68],[24.45],[24.88],[24.73],[24.41],[24.15]]}'}"
      ]
     },
     "execution_count": 54,
     "metadata": {},
     "output_type": "execute_result"
    }
   ],
   "source": [
    "resp_data = response.json()\n",
    "resp_data"
   ]
  },
  {
   "cell_type": "code",
   "execution_count": 60,
   "metadata": {},
   "outputs": [],
   "source": [
    "data = resp_data[\"data\"] #this is a string, convert to json data\n",
    "temp_data = json.loads(data)\n",
    "values = temp_data[\"data\"]"
   ]
  },
  {
   "cell_type": "code",
   "execution_count": 61,
   "metadata": {},
   "outputs": [
    {
     "data": {
      "text/plain": [
       "366"
      ]
     },
     "execution_count": 61,
     "metadata": {},
     "output_type": "execute_result"
    }
   ],
   "source": [
    "len(values) #around one year data\n",
    "\n",
    "#now can be converted to numpy array/tensor"
   ]
  },
  {
   "cell_type": "markdown",
   "metadata": {},
   "source": [
    "## Interpret the CHIRPS, eMODIS NDVI, and NMME seasonal forecast data\n",
    "https://climateserv.readthedocs.io/en/latest/api.html\n",
    "\n",
    "\n",
    "https://github.com/SERVIR/ClimateSERVpy/blob/master/climateserv/api.py\n",
    "\n",
    "https://readthedocs.org/projects/climateserv/downloads/pdf/latest/"
   ]
  },
  {
   "cell_type": "code",
   "execution_count": 65,
   "metadata": {},
   "outputs": [
    {
     "name": "stdout",
     "output_type": "stream",
     "text": [
      "Requirement already satisfied: climateserv in c:\\users\\tanya\\anaconda3\\envs\\omdena-gpsdd\\lib\\site-packages (0.0.12)\n"
     ]
    }
   ],
   "source": [
    "!pip install climateserv\n",
    "\n",
    "#This is an API wrapper which would allow easy access to the climateserv API\n",
    "\n",
    "#Code can be found here - https://github.com/servir/ClimateSERVpy"
   ]
  },
  {
   "cell_type": "code",
   "execution_count": 84,
   "metadata": {},
   "outputs": [
    {
     "name": "stdout",
     "output_type": "stream",
     "text": [
      "New Script Run\n",
      "About to process scripted job item now.\n",
      "https://climateserv.servirglobal.net/chirps/submitDataRequest?a=1&cmd=submitDataRequest&datatype=19&intervaltype=0&operationtype=5&begintime=01/12/2018&endtime=01/12/2019&geometry=%7B%22type%22%3A%22Polygon%22%2C%22coordinates%22%3A%5B%5B%5B14.6937%2C-17.44406%5D%5D%5D%7D\n",
      "New Job Submitted to the Server: New JobID: b4db8bab-16d2-40a7-be94-b88b7adb4c3a\n",
      "Current Job Progress: 100.  JobID: b4db8bab-16d2-40a7-be94-b88b7adb4c3a\n",
      "Result of Job Status Cycle: complete\n",
      "Job, b4db8bab-16d2-40a7-be94-b88b7adb4c3a is done, did it succeed? : True\n",
      "=======================================================\n",
      "Attempting to write CSV Data to: out.csv\n",
      "CSV Data Written to: out.csv\n",
      "Exiting...\n",
      "\n"
     ]
    }
   ],
   "source": [
    "import climateserv.api as clim_api\n",
    "\n",
    "x = 81.27   \n",
    "y = 29.19\n",
    "\n",
    "GeometryCoords = [[cities[\"Dakar\"][0], cities[\"Dakar\"][1]]]\n",
    "                  \n",
    "DatasetType = 'Seasonal_Forecast'\n",
    "OperationType = 'Average' #Use download here to download the TIF files\n",
    "EarliestDate = '01/12/2018'\n",
    "LatestDate = '01/12/2019'\n",
    "SeasonalEnsemble = 'ens07'\n",
    "SeasonalVariable = 'Precipitation'\n",
    "Outfile = 'out.csv'\n",
    "\n",
    "clim_api.request_data(DatasetType, OperationType, \n",
    "             EarliestDate, LatestDate,GeometryCoords, \n",
    "             SeasonalEnsemble, SeasonalVariable,Outfile)"
   ]
  },
  {
   "cell_type": "code",
   "execution_count": 77,
   "metadata": {},
   "outputs": [],
   "source": [
    "import rasterio"
   ]
  },
  {
   "cell_type": "code",
   "execution_count": 71,
   "metadata": {},
   "outputs": [],
   "source": [
    "image_file = 'Precip2018/2018-1-17.tif' #test2 in code.earthengine.com\n",
    "\n",
    "satdat = rasterio.open(image_file)\n"
   ]
  },
  {
   "cell_type": "code",
   "execution_count": 73,
   "metadata": {},
   "outputs": [
    {
     "name": "stdout",
     "output_type": "stream",
     "text": [
      "1\n"
     ]
    }
   ],
   "source": [
    "print(satdat.count)\n",
    "precip = satdat.read(1)"
   ]
  },
  {
   "cell_type": "code",
   "execution_count": 74,
   "metadata": {},
   "outputs": [
    {
     "data": {
      "image/png": "[encoded data removed]",
      "text/plain": [
       "<Figure size 432x288 with 2 Axes>"
      ]
     },
     "metadata": {
      "needs_background": "light"
     },
     "output_type": "display_data"
    }
   ],
   "source": [
    "from matplotlib import pyplot as plt\n",
    "\n",
    "fig = plt.imshow(precip)\n",
    "fig.set_cmap('gist_earth')\n",
    "plt.colorbar()\n",
    "\n",
    "# Display the results.\n",
    "plt.show()"
   ]
  },
  {
   "cell_type": "code",
   "execution_count": null,
   "metadata": {},
   "outputs": [],
   "source": []
  }
 ],
 "metadata": {
  "kernelspec": {
   "display_name": "Python 3",
   "language": "python",
   "name": "python3"
  },
  "language_info": {
   "codemirror_mode": {
    "name": "ipython",
    "version": 3
   },
   "file_extension": ".py",
   "mimetype": "text/x-python",
   "name": "python",
   "nbconvert_exporter": "python",
   "pygments_lexer": "ipython3",
   "version": "3.7.8"
  }
 },
 "nbformat": 4,
 "nbformat_minor": 4
}
