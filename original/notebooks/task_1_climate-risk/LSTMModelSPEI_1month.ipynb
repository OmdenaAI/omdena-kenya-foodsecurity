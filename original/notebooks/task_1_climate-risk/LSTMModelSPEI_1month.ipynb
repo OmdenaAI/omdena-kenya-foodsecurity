{
  "nbformat": 4,
  "nbformat_minor": 0,
  "metadata": {
    "colab": {
      "name": "LSTMModelSPEI-1month.ipynb",
      "provenance": [],
      "collapsed_sections": []
    },
    "kernelspec": {
      "name": "python3",
      "display_name": "Python 3"
    },
    "accelerator": "GPU"
  },
  "cells": [
    {
      "cell_type": "code",
      "metadata": {
        "id": "iwUJvULtTLW6"
      },
      "source": [
        "## Univariate, Single-Step Model"
      ],
      "execution_count": 1,
      "outputs": []
    },
    {
      "cell_type": "code",
      "metadata": {
        "id": "ZVgSNLVLfxKM"
      },
      "source": [
        "import numpy as np\r\n",
        "import pandas as pd\r\n",
        "import xgboost as xgb\r\n",
        "import sklearn\r\n",
        "import matplotlib.pyplot as plt\r\n",
        "from sklearn.model_selection import train_test_split\r\n",
        "from sklearn.metrics import mean_squared_error\r\n",
        "from sklearn.preprocessing import StandardScaler\r\n",
        "from numpy import array\r\n",
        "from keras.models import Sequential\r\n",
        "from keras.layers import LSTM\r\n",
        "from keras.layers import Dense"
      ],
      "execution_count": 18,
      "outputs": []
    },
    {
      "cell_type": "code",
      "metadata": {
        "id": "8dsJLnOsqcRa"
      },
      "source": [
        "import tensorflow as tf"
      ],
      "execution_count": 19,
      "outputs": []
    },
    {
      "cell_type": "code",
      "metadata": {
        "id": "m5HHGEivfz9b"
      },
      "source": [
        "#SPEI - 1 month, 6 month models (LSTM)\r\n",
        "#SPEI with humidity, temperature models - 1 month (LSTM)\r\n",
        "#ConvLSTM if time permits"
      ],
      "execution_count": 20,
      "outputs": []
    },
    {
      "cell_type": "code",
      "metadata": {
        "id": "dOv3v84Li5pt"
      },
      "source": [
        "#SPEI 1 month model"
      ],
      "execution_count": 21,
      "outputs": []
    },
    {
      "cell_type": "code",
      "metadata": {
        "colab": {
          "base_uri": "https://localhost:8080/"
        },
        "id": "t0ZniF23iVL1",
        "outputId": "21724d17-e5db-4a2a-c4eb-ff5d86c9a2bb"
      },
      "source": [
        "from google.colab import drive\r\n",
        "drive.mount('/content/drive')"
      ],
      "execution_count": 22,
      "outputs": [
        {
          "output_type": "stream",
          "text": [
            "Drive already mounted at /content/drive; to attempt to forcibly remount, call drive.mount(\"/content/drive\", force_remount=True).\n"
          ],
          "name": "stdout"
        }
      ]
    },
    {
      "cell_type": "code",
      "metadata": {
        "id": "cmEXXR3li98J"
      },
      "source": [
        "df = pd.read_csv(\"/content/drive/MyDrive/data_senegal/senegal_weather_spei_1970_2020_025x025_v3.csv\")"
      ],
      "execution_count": 23,
      "outputs": []
    },
    {
      "cell_type": "code",
      "metadata": {
        "id": "8e2Ky9A2jMt3"
      },
      "source": [
        "df = df.dropna()\r\n",
        "df = df.reset_index(drop=True)"
      ],
      "execution_count": 24,
      "outputs": []
    },
    {
      "cell_type": "code",
      "metadata": {
        "id": "h0LaX2T-pO8w"
      },
      "source": [
        "spei_values = df[\"spei_1mon\"]"
      ],
      "execution_count": 25,
      "outputs": []
    },
    {
      "cell_type": "code",
      "metadata": {
        "id": "nuxgJ5vnpUAD"
      },
      "source": [
        "def split_sequence(sequence, n_steps):\r\n",
        "    X, y = list(), list()\r\n",
        "    for i in range(len(sequence)):\r\n",
        "        end_ix = i + n_steps\r\n",
        "        if end_ix > len(sequence)-1:\r\n",
        "            break\r\n",
        "        seq_x, seq_y = sequence[i:end_ix], sequence[end_ix]\r\n",
        "        X.append(seq_x)\r\n",
        "        y.append(seq_y)\r\n",
        "        \r\n",
        "    return np.array(X), np.array(y)"
      ],
      "execution_count": 26,
      "outputs": []
    },
    {
      "cell_type": "code",
      "metadata": {
        "id": "hy95HnKtpVW3"
      },
      "source": [
        "n_steps = 12\r\n",
        "X, y = split_sequence(spei_values, n_steps)"
      ],
      "execution_count": 27,
      "outputs": []
    },
    {
      "cell_type": "code",
      "metadata": {
        "id": "UkE0KkzupWs1"
      },
      "source": [
        "X_train, X_test, y_train, y_test = train_test_split(X, y, test_size=0.2, random_state=123)"
      ],
      "execution_count": 28,
      "outputs": []
    },
    {
      "cell_type": "code",
      "metadata": {
        "id": "-bg4xgHt0XJs"
      },
      "source": [
        "scaler = StandardScaler()\r\n",
        "X_train = scaler.fit_transform(np.array(X_train))\r\n",
        "scaler = StandardScaler()\r\n",
        "X_test = scaler.fit_transform(np.array(X_test))\r\n",
        "scaler = StandardScaler()\r\n",
        "y_train = scaler.fit_transform(y_train.reshape(-1,1))\r\n",
        "scaler = StandardScaler()\r\n",
        "y_test = scaler.fit_transform(y_test.reshape(-1,1))"
      ],
      "execution_count": 29,
      "outputs": []
    },
    {
      "cell_type": "code",
      "metadata": {
        "colab": {
          "base_uri": "https://localhost:8080/"
        },
        "id": "2VeS8vbRpbIh",
        "outputId": "28c0c72b-80bb-4dc2-d39a-a09a5f362510"
      },
      "source": [
        "n_features = 1 #Since it's a univariate model\r\n",
        "\r\n",
        "model = Sequential()\r\n",
        "model.add(LSTM(50, activation='relu', return_sequences=True, input_shape=(n_steps, n_features)))\r\n",
        "model.add(LSTM(50, activation='relu'))\r\n",
        "model.add(Dense(1))\r\n",
        "model.compile(optimizer='adam', loss='mse')"
      ],
      "execution_count": 30,
      "outputs": [
        {
          "output_type": "stream",
          "text": [
            "WARNING:tensorflow:Layer lstm_2 will not use cuDNN kernel since it doesn't meet the cuDNN kernel criteria. It will use generic GPU kernel as fallback when running on GPU\n",
            "WARNING:tensorflow:Layer lstm_3 will not use cuDNN kernel since it doesn't meet the cuDNN kernel criteria. It will use generic GPU kernel as fallback when running on GPU\n"
          ],
          "name": "stdout"
        }
      ]
    },
    {
      "cell_type": "code",
      "metadata": {
        "id": "_cXHiqz0pds3"
      },
      "source": [
        "X_train = X_train.reshape((X_train.shape[0], X_train.shape[1], n_features))\r\n",
        "X_test = X_test.reshape((X_test.shape[0], X_test.shape[1], n_features))"
      ],
      "execution_count": 31,
      "outputs": []
    },
    {
      "cell_type": "code",
      "metadata": {
        "colab": {
          "base_uri": "https://localhost:8080/"
        },
        "id": "A424q784peDX",
        "outputId": "94f6bfcd-c6e3-4221-e31d-cb088a12b324"
      },
      "source": [
        "with tf.device('/device:GPU:0'):\r\n",
        "  model.fit(X_train, y_train, epochs=60, batch_size=64)"
      ],
      "execution_count": 32,
      "outputs": [
        {
          "output_type": "stream",
          "text": [
            "Epoch 1/60\n",
            "2309/2309 [==============================] - 97s 41ms/step - loss: 0.7477\n",
            "Epoch 2/60\n",
            "2309/2309 [==============================] - 95s 41ms/step - loss: 0.7165\n",
            "Epoch 3/60\n",
            "2309/2309 [==============================] - 93s 40ms/step - loss: 0.6844\n",
            "Epoch 4/60\n",
            "2309/2309 [==============================] - 97s 42ms/step - loss: 0.6319\n",
            "Epoch 5/60\n",
            "2309/2309 [==============================] - 93s 40ms/step - loss: 0.5592\n",
            "Epoch 6/60\n",
            "2309/2309 [==============================] - 96s 42ms/step - loss: 0.5044\n",
            "Epoch 7/60\n",
            "2309/2309 [==============================] - 92s 40ms/step - loss: 0.4533\n",
            "Epoch 8/60\n",
            "2309/2309 [==============================] - 93s 40ms/step - loss: 0.3993\n",
            "Epoch 9/60\n",
            "2309/2309 [==============================] - 98s 43ms/step - loss: 0.3676\n",
            "Epoch 10/60\n",
            "2309/2309 [==============================] - 94s 41ms/step - loss: 0.3325\n",
            "Epoch 11/60\n",
            "2309/2309 [==============================] - 96s 42ms/step - loss: 0.3072\n",
            "Epoch 12/60\n",
            "2309/2309 [==============================] - 94s 41ms/step - loss: 0.2846\n",
            "Epoch 13/60\n",
            "2309/2309 [==============================] - 92s 40ms/step - loss: 0.2648\n",
            "Epoch 14/60\n",
            "2309/2309 [==============================] - 97s 42ms/step - loss: 0.2518\n",
            "Epoch 15/60\n",
            "2309/2309 [==============================] - 94s 41ms/step - loss: 0.2388\n",
            "Epoch 16/60\n",
            "2309/2309 [==============================] - 97s 42ms/step - loss: 0.2246\n",
            "Epoch 17/60\n",
            "2309/2309 [==============================] - 94s 41ms/step - loss: 0.2163\n",
            "Epoch 18/60\n",
            "2309/2309 [==============================] - 95s 41ms/step - loss: 0.2046\n",
            "Epoch 19/60\n",
            "2309/2309 [==============================] - 96s 41ms/step - loss: 0.1975\n",
            "Epoch 20/60\n",
            "2309/2309 [==============================] - 97s 42ms/step - loss: 0.1908\n",
            "Epoch 21/60\n",
            "2309/2309 [==============================] - 96s 41ms/step - loss: 0.1840\n",
            "Epoch 22/60\n",
            "2309/2309 [==============================] - 97s 42ms/step - loss: 0.1763\n",
            "Epoch 23/60\n",
            "2309/2309 [==============================] - 93s 40ms/step - loss: 0.1717\n",
            "Epoch 24/60\n",
            "2309/2309 [==============================] - 97s 42ms/step - loss: 0.1674\n",
            "Epoch 25/60\n",
            "2309/2309 [==============================] - 93s 40ms/step - loss: 0.1616\n",
            "Epoch 26/60\n",
            "2309/2309 [==============================] - 93s 40ms/step - loss: 0.1564\n",
            "Epoch 27/60\n",
            "2309/2309 [==============================] - 96s 41ms/step - loss: 0.1520\n",
            "Epoch 28/60\n",
            "2309/2309 [==============================] - 96s 42ms/step - loss: 0.1477\n",
            "Epoch 29/60\n",
            "2309/2309 [==============================] - 95s 41ms/step - loss: 0.1454\n",
            "Epoch 30/60\n",
            "2309/2309 [==============================] - 96s 41ms/step - loss: 0.1411\n",
            "Epoch 31/60\n",
            "2309/2309 [==============================] - 93s 40ms/step - loss: 0.1399\n",
            "Epoch 32/60\n",
            "2309/2309 [==============================] - 94s 41ms/step - loss: 0.1387\n",
            "Epoch 33/60\n",
            "2309/2309 [==============================] - 97s 42ms/step - loss: 0.1328\n",
            "Epoch 34/60\n",
            "2309/2309 [==============================] - 96s 41ms/step - loss: 0.1315\n",
            "Epoch 35/60\n",
            "2309/2309 [==============================] - 96s 42ms/step - loss: 0.1277\n",
            "Epoch 36/60\n",
            "2309/2309 [==============================] - 93s 40ms/step - loss: 0.1273\n",
            "Epoch 37/60\n",
            "2309/2309 [==============================] - 95s 41ms/step - loss: 0.1236\n",
            "Epoch 38/60\n",
            "2309/2309 [==============================] - 91s 39ms/step - loss: 0.1220\n",
            "Epoch 39/60\n",
            "2309/2309 [==============================] - 94s 41ms/step - loss: 0.1196\n",
            "Epoch 40/60\n",
            "2309/2309 [==============================] - 92s 40ms/step - loss: 0.1187\n",
            "Epoch 41/60\n",
            "2309/2309 [==============================] - 96s 41ms/step - loss: 0.1166\n",
            "Epoch 42/60\n",
            "2309/2309 [==============================] - 96s 42ms/step - loss: 0.1151\n",
            "Epoch 43/60\n",
            "2309/2309 [==============================] - 94s 41ms/step - loss: 0.1133\n",
            "Epoch 44/60\n",
            "2309/2309 [==============================] - 94s 41ms/step - loss: 0.1127\n",
            "Epoch 45/60\n",
            "2309/2309 [==============================] - 95s 41ms/step - loss: 0.1101\n",
            "Epoch 46/60\n",
            "2309/2309 [==============================] - 92s 40ms/step - loss: 0.1098\n",
            "Epoch 47/60\n",
            "2309/2309 [==============================] - 95s 41ms/step - loss: 0.1085\n",
            "Epoch 48/60\n",
            "2309/2309 [==============================] - 96s 42ms/step - loss: 0.1069\n",
            "Epoch 49/60\n",
            "2309/2309 [==============================] - 94s 41ms/step - loss: 0.1065\n",
            "Epoch 50/60\n",
            "2309/2309 [==============================] - 95s 41ms/step - loss: 0.1043\n",
            "Epoch 51/60\n",
            "2309/2309 [==============================] - 94s 41ms/step - loss: 0.1039\n",
            "Epoch 52/60\n",
            "2309/2309 [==============================] - 97s 42ms/step - loss: 0.1023\n",
            "Epoch 53/60\n",
            "2309/2309 [==============================] - 94s 41ms/step - loss: 0.1009\n",
            "Epoch 54/60\n",
            "2309/2309 [==============================] - 94s 40ms/step - loss: 0.1005\n",
            "Epoch 55/60\n",
            "2309/2309 [==============================] - 96s 41ms/step - loss: 0.1000\n",
            "Epoch 56/60\n",
            "2309/2309 [==============================] - 97s 42ms/step - loss: 0.1000\n",
            "Epoch 57/60\n",
            "2309/2309 [==============================] - 95s 41ms/step - loss: 0.0988\n",
            "Epoch 58/60\n",
            "2309/2309 [==============================] - 95s 41ms/step - loss: 0.0979\n",
            "Epoch 59/60\n",
            "2309/2309 [==============================] - 94s 41ms/step - loss: 0.0967\n",
            "Epoch 60/60\n",
            "2309/2309 [==============================] - 95s 41ms/step - loss: 0.0960\n"
          ],
          "name": "stdout"
        }
      ]
    },
    {
      "cell_type": "code",
      "metadata": {
        "colab": {
          "base_uri": "https://localhost:8080/"
        },
        "id": "Cp3JiCQkp5Mc",
        "outputId": "1c5557ea-8914-4131-e520-7bc89c3fa6b8"
      },
      "source": [
        "y_hat = model.predict(X_test)\r\n",
        "print(mean_squared_error(y_hat, y_test))\r\n",
        "print(sklearn.metrics.r2_score(y_hat, y_test))"
      ],
      "execution_count": 33,
      "outputs": [
        {
          "output_type": "stream",
          "text": [
            "0.13696858842145776\n",
            "0.848129865574843\n"
          ],
          "name": "stdout"
        }
      ]
    },
    {
      "cell_type": "code",
      "metadata": {
        "id": "vBqui6SnMdyh"
      },
      "source": [
        ""
      ],
      "execution_count": null,
      "outputs": []
    }
  ]
}