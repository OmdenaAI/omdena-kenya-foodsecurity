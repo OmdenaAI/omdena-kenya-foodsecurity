{
 "cells": [
  {
   "cell_type": "code",
   "execution_count": 1,
   "outputs": [],
   "source": [
    "# imports\n",
    "from pathlib import Path\n",
    "import numpy as np\n",
    "import pandas as pd\n",
    "import matplotlib.pyplot as plt\n",
    "import seaborn as sns\n",
    "from datetime import datetime\n",
    "from sklearn.ensemble import RandomForestRegressor\n",
    "from sklearn.preprocessing import minmax_scale\n",
    "import seaborn as sns\n",
    "from sklearn.model_selection import KFold\n",
    "\n",
    "%matplotlib inline\n",
    "plt.style.use('dark_background')\n",
    "\n",
    "%load_ext autoreload\n",
    "\n",
    "%autoreload 2"
   ],
   "metadata": {
    "collapsed": false,
    "pycharm": {
     "name": "#%%\n"
    }
   }
  },
  {
   "cell_type": "code",
   "execution_count": 2,
   "outputs": [],
   "source": [
    "root_folder = Path.cwd().parent.parent\n",
    "data_folder = Path(root_folder).joinpath('data', 'external')"
   ],
   "metadata": {
    "collapsed": false,
    "pycharm": {
     "name": "#%%\n"
    }
   }
  },
  {
   "cell_type": "code",
   "execution_count": 3,
   "outputs": [],
   "source": [
    "from src.data.task_1_food_security.dataset import Dataset"
   ],
   "metadata": {
    "collapsed": false,
    "pycharm": {
     "name": "#%%\n"
    }
   }
  },
  {
   "cell_type": "code",
   "execution_count": 4,
   "outputs": [],
   "source": [
    "ds = Dataset(root_folder=root_folder)"
   ],
   "metadata": {
    "collapsed": false,
    "pycharm": {
     "name": "#%%\n"
    }
   }
  },
  {
   "cell_type": "code",
   "execution_count": 5,
   "outputs": [],
   "source": [
    "ds.prepare_dataset_array()"
   ],
   "metadata": {
    "collapsed": false,
    "pycharm": {
     "name": "#%%\n"
    }
   }
  },
  {
   "cell_type": "code",
   "execution_count": 6,
   "outputs": [
    {
     "data": {
      "text/plain": "3.3438836519158595"
     },
     "execution_count": 6,
     "metadata": {},
     "output_type": "execute_result"
    }
   ],
   "source": [
    "ds.df_y['severity'].max()\n"
   ],
   "metadata": {
    "collapsed": false,
    "pycharm": {
     "name": "#%%\n"
    }
   }
  },
  {
   "cell_type": "code",
   "execution_count": 31,
   "outputs": [
    {
     "data": {
      "text/plain": "array([1.43999088, 1.3999984 , 1.3099905 , 2.21000325, 1.32001161,\n       1.29999624, 1.11999925, 1.29000137, 1.12999897, 2.1400105 ,\n       1.94999917, 2.00999393, 1.62999799, 1.29993894, 2.27009688,\n       1.10000028, 1.19999548, 1.25001217, 1.20998627, 1.210012  ,\n       1.24999888, 1.09500172, 1.16000413, 1.34399241, 1.21504108,\n       1.56800623, 1.40599477, 1.66401397, 1.24500111, 1.35999458,\n       2.06998185, 1.26999244, 2.05999334, 1.16999997, 1.20999934,\n       1.40000506, 1.63999852, 1.48997431, 1.4299975 , 1.61002126,\n       1.69999824, 1.56998836, 1.89000266, 1.45000265, 1.4099962 ,\n       1.25001798, 1.26998193, 1.24999176, 1.40000149, 1.50999953,\n       1.35000286, 1.39999373, 2.0300054 , 1.56000436, 1.31000234,\n       1.21999653, 1.67      , 1.29000031, 1.45000964, 1.43999578,\n       1.52000081, 1.16000561, 1.3299967 , 1.75000514, 1.49999327,\n       1.20997032, 1.55000037, 1.39999741, 1.26000101, 1.4799832 ,\n       1.16000796, 1.49998965, 1.49999462, 1.54998919, 1.15999992,\n       1.16000218, 1.47998734, 1.44998423, 1.26998487, 1.81000929,\n       1.27999609, 1.33999761, 1.4999982 , 1.34999839, 1.18001451,\n       1.33000003, 1.28999791, 1.13001666, 1.1299905 , 1.26000084,\n       1.19999834, 1.18999144, 1.21002401, 1.49999188, 1.51000306,\n       1.06000653, 1.10000179, 1.20999462, 1.08000085, 1.15999839,\n       1.22999726, 1.25000287, 1.55999593, 1.10000512, 1.25000196,\n       1.13000099, 1.05001867, 1.50000172, 1.19999818, 1.12999173,\n       1.17999663, 1.21001111, 1.08999881, 1.0700183 , 1.3500009 ,\n       1.41004782, 1.14000499, 1.40000848, 1.45001293, 1.17998663,\n       1.10000352, 1.32      , 1.11999994, 1.13000115, 1.18999685,\n       1.20999901, 1.17999775, 1.55999244, 1.24999737, 1.16999718,\n       1.39000608, 1.17999523, 1.42999466, 1.3900021 , 1.24999764,\n       1.45000413, 1.86000606, 1.3900009 , 1.23001559, 1.21000517,\n       1.39000054, 1.14000051, 1.41999807, 1.44999497, 1.43999957,\n       1.42999276, 1.28999375, 1.47000895, 1.38000206, 1.57000622,\n       1.54000208, 1.34000059, 1.25000101, 1.21999372, 1.15000074,\n       1.2199561 , 1.2100026 , 1.45998828, 1.18999502, 1.20000608,\n       1.53002342, 1.38999031, 1.440007  , 1.7100036 , 1.20000081,\n       1.25000496, 1.41000254, 1.20998992, 1.12      , 1.27999935,\n       1.16999862, 1.15999941, 1.1699996 , 1.59999858, 1.14000039,\n       1.15000007, 1.31000425, 1.25499779, 1.2299999 , 1.4200165 ,\n       1.46000403, 1.45999387, 1.58999941, 1.54997985, 1.19000003,\n       1.15000047, 1.34999779, 1.1899999 , 1.36000732, 1.18999832,\n       1.15999515, 1.18999754, 1.19000159, 1.35000501, 1.85001096,\n       1.65999405, 1.14999701, 1.4899955 , 1.14000067, 1.40998648,\n       1.45998771, 1.39000385, 1.52000209, 1.36999263, 1.18999587,\n       1.24999729, 1.42001333, 1.1499939 , 1.21003579, 1.10999848,\n       1.64000743, 1.3600136 , 1.18000828, 1.11999934, 1.1       ,\n       1.25000085, 1.23998747, 1.1999994 , 1.23000184, 1.16999989,\n       1.21999717, 1.29000303, 1.12999937, 1.1899976 , 1.18999907,\n       1.20999873, 1.16999749, 1.14001975, 1.1599979 , 1.16999811,\n       1.34000691, 1.42998348, 1.12000015, 1.09999556, 1.26000222,\n       1.1699996 , 1.16000108, 1.24000101, 1.27999778, 1.25000076,\n       1.50000806, 1.1000007 , 1.08000031, 1.1450005 , 1.17000494,\n       1.15999864, 1.20000093, 1.22999726, 1.22999919, 1.18000166,\n       1.14000013, 1.11000047, 1.06000019, 1.11000207, 1.3999994 ,\n       1.09999953, 1.04000045, 1.35000704, 1.2499966 , 1.05000076,\n       1.13999776, 1.41000086, 1.33000483, 1.11999967, 1.15999898,\n       1.60002428, 1.31999829, 1.21999816, 1.46000093, 1.15999869,\n       1.5500076 , 1.06999995, 1.55000038, 1.08000035, 1.3600035 ,\n       1.20000226, 1.25      , 1.46000004, 1.40004488, 1.0700007 ,\n       1.96999748, 1.21000533, 1.20999372, 1.22000037, 1.13000017,\n       1.31000272, 1.08000142, 1.12000045, 1.23999817, 1.30999786,\n       1.28999896, 1.10000099, 1.19000239, 1.36000017, 1.11999973,\n       1.28      , 1.1549976 ])"
     },
     "execution_count": 31,
     "metadata": {},
     "output_type": "execute_result"
    }
   ],
   "source": [
    "ds.y_severity"
   ],
   "metadata": {
    "collapsed": false,
    "pycharm": {
     "name": "#%%\n"
    }
   }
  },
  {
   "cell_type": "code",
   "execution_count": 33,
   "outputs": [
    {
     "data": {
      "text/plain": "(297, 5)"
     },
     "execution_count": 33,
     "metadata": {},
     "output_type": "execute_result"
    }
   ],
   "source": [
    "ds.y_percentage.shape"
   ],
   "metadata": {
    "collapsed": false,
    "pycharm": {
     "name": "#%%\n"
    }
   }
  },
  {
   "cell_type": "code",
   "execution_count": 12,
   "outputs": [],
   "source": [
    "df = ds.df_x.copy()"
   ],
   "metadata": {
    "collapsed": false,
    "pycharm": {
     "name": "#%%\n"
    }
   }
  },
  {
   "cell_type": "code",
   "execution_count": 13,
   "outputs": [
    {
     "data": {
      "text/plain": "     adm2_name_code     variable   value season  season_day\n2653             29  Temperature  32.002   2013          60\n2654             29  Temperature  31.911   2013          70\n2655             29  Temperature  29.577   2013          80\n2656             29  Temperature  30.432   2013          90\n2657             29  Temperature  29.208   2013         100\n...             ...          ...     ...    ...         ...\n1166             38     Rainfall   0.000   2019         310\n1167             38     Rainfall   0.000   2019         320\n1168             38     Rainfall   0.000   2019         330\n1169             38     Rainfall   0.000   2019         340\n1170             38     Rainfall   0.000   2019         350\n\n[66951 rows x 5 columns]",
      "text/html": "<div>\n<style scoped>\n    .dataframe tbody tr th:only-of-type {\n        vertical-align: middle;\n    }\n\n    .dataframe tbody tr th {\n        vertical-align: top;\n    }\n\n    .dataframe thead th {\n        text-align: right;\n    }\n</style>\n<table border=\"1\" class=\"dataframe\">\n  <thead>\n    <tr style=\"text-align: right;\">\n      <th></th>\n      <th>adm2_name_code</th>\n      <th>variable</th>\n      <th>value</th>\n      <th>season</th>\n      <th>season_day</th>\n    </tr>\n  </thead>\n  <tbody>\n    <tr>\n      <th>2653</th>\n      <td>29</td>\n      <td>Temperature</td>\n      <td>32.002</td>\n      <td>2013</td>\n      <td>60</td>\n    </tr>\n    <tr>\n      <th>2654</th>\n      <td>29</td>\n      <td>Temperature</td>\n      <td>31.911</td>\n      <td>2013</td>\n      <td>70</td>\n    </tr>\n    <tr>\n      <th>2655</th>\n      <td>29</td>\n      <td>Temperature</td>\n      <td>29.577</td>\n      <td>2013</td>\n      <td>80</td>\n    </tr>\n    <tr>\n      <th>2656</th>\n      <td>29</td>\n      <td>Temperature</td>\n      <td>30.432</td>\n      <td>2013</td>\n      <td>90</td>\n    </tr>\n    <tr>\n      <th>2657</th>\n      <td>29</td>\n      <td>Temperature</td>\n      <td>29.208</td>\n      <td>2013</td>\n      <td>100</td>\n    </tr>\n    <tr>\n      <th>...</th>\n      <td>...</td>\n      <td>...</td>\n      <td>...</td>\n      <td>...</td>\n      <td>...</td>\n    </tr>\n    <tr>\n      <th>1166</th>\n      <td>38</td>\n      <td>Rainfall</td>\n      <td>0.000</td>\n      <td>2019</td>\n      <td>310</td>\n    </tr>\n    <tr>\n      <th>1167</th>\n      <td>38</td>\n      <td>Rainfall</td>\n      <td>0.000</td>\n      <td>2019</td>\n      <td>320</td>\n    </tr>\n    <tr>\n      <th>1168</th>\n      <td>38</td>\n      <td>Rainfall</td>\n      <td>0.000</td>\n      <td>2019</td>\n      <td>330</td>\n    </tr>\n    <tr>\n      <th>1169</th>\n      <td>38</td>\n      <td>Rainfall</td>\n      <td>0.000</td>\n      <td>2019</td>\n      <td>340</td>\n    </tr>\n    <tr>\n      <th>1170</th>\n      <td>38</td>\n      <td>Rainfall</td>\n      <td>0.000</td>\n      <td>2019</td>\n      <td>350</td>\n    </tr>\n  </tbody>\n</table>\n<p>66951 rows × 5 columns</p>\n</div>"
     },
     "execution_count": 13,
     "metadata": {},
     "output_type": "execute_result"
    }
   ],
   "source": [
    "df[(df['variable'] == 'NVDI') | (df['variable'] == 'Rainfall')|\n",
    "   (df['variable'] == 'Temperature')]\n"
   ],
   "metadata": {
    "collapsed": false,
    "pycharm": {
     "name": "#%%\n"
    }
   }
  },
  {
   "cell_type": "code",
   "execution_count": 17,
   "outputs": [],
   "source": [
    "g = sns.FacetGrid(data = df, col = 'variable', row = 'adm2_name_code')\n",
    "g.map(sns.lineplot, 'season_day', 'value')"
   ],
   "metadata": {
    "collapsed": false,
    "pycharm": {
     "name": "#%%\n"
    }
   }
  },
  {
   "cell_type": "code",
   "execution_count": null,
   "outputs": [],
   "source": [
    "df.head()\n"
   ],
   "metadata": {
    "collapsed": false,
    "pycharm": {
     "name": "#%%\n"
    }
   }
  },
  {
   "cell_type": "code",
   "execution_count": null,
   "outputs": [],
   "source": [],
   "metadata": {
    "collapsed": false,
    "pycharm": {
     "name": "#%%\n"
    }
   }
  }
 ],
 "metadata": {
  "kernelspec": {
   "display_name": "Python 3",
   "language": "python",
   "name": "python3"
  },
  "language_info": {
   "codemirror_mode": {
    "name": "ipython",
    "version": 2
   },
   "file_extension": ".py",
   "mimetype": "text/x-python",
   "name": "python",
   "nbconvert_exporter": "python",
   "pygments_lexer": "ipython2",
   "version": "2.7.6"
  }
 },
 "nbformat": 4,
 "nbformat_minor": 0
}