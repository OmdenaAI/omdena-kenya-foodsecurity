{
 "cells": [
  {
   "cell_type": "code",
   "execution_count": 1,
   "metadata": {
    "collapsed": false,
    "jupyter": {
     "outputs_hidden": false
    },
    "pycharm": {
     "name": "#%%\n"
    }
   },
   "outputs": [],
   "source": [
    "from pathlib import Path\n",
    "\n",
    "import matplotlib.pyplot as plt\n",
    "\n",
    "%matplotlib inline\n",
    "plt.style.use('dark_background')\n",
    "\n",
    "%load_ext autoreload\n",
    "\n",
    "%autoreload 2"
   ]
  },
  {
   "cell_type": "code",
   "execution_count": 2,
   "metadata": {
    "collapsed": false,
    "jupyter": {
     "outputs_hidden": false
    },
    "pycharm": {
     "name": "#%%\n"
    }
   },
   "outputs": [],
   "source": [
    "root_folder = Path.cwd().parent.parent\n",
    "data_folder = Path(root_folder).joinpath('data', 'external')\n",
    "\n",
    "import sys\n",
    "sys.path.append(str(root_folder))"
   ]
  },
  {
   "cell_type": "code",
   "execution_count": 3,
   "metadata": {
    "collapsed": false,
    "jupyter": {
     "outputs_hidden": false
    },
    "pycharm": {
     "name": "#%%\n"
    }
   },
   "outputs": [],
   "source": [
    "from src.data.task_1_food_security.dataset import Dataset"
   ]
  },
  {
   "cell_type": "code",
   "execution_count": 4,
   "metadata": {
    "collapsed": false,
    "jupyter": {
     "outputs_hidden": false
    },
    "pycharm": {
     "name": "#%%\n"
    }
   },
   "outputs": [],
   "source": [
    "ds = Dataset(root_folder=root_folder)\n",
    "\n",
    "ds.prepare_dataset_array()"
   ]
  },
  {
   "cell_type": "code",
   "execution_count": 5,
   "metadata": {},
   "outputs": [
    {
     "data": {
      "text/plain": "0       True\n1       True\n2       True\n3       True\n4       True\n       ...  \n292    False\n293    False\n294    False\n295    False\n296    False\nName: season, Length: 297, dtype: bool"
     },
     "execution_count": 5,
     "metadata": {},
     "output_type": "execute_result"
    }
   ],
   "source": [
    "ds.idx_train"
   ]
  },
  {
   "cell_type": "code",
   "execution_count": 6,
   "metadata": {
    "collapsed": false,
    "jupyter": {
     "outputs_hidden": false
    },
    "pycharm": {
     "name": "#%%\n"
    }
   },
   "outputs": [
    {
     "name": "stderr",
     "output_type": "stream",
     "text": [
      "Using TensorFlow backend.\n"
     ]
    }
   ],
   "source": [
    "import tensorflow as tf\n",
    "from keras.layers import LSTM, Conv2D, BatchNormalization, Dropout\n",
    "from keras.optimizers import Adam, SGD, RMSprop\n",
    "from keras.models import Sequential\n",
    "from keras.layers import Dense\n",
    "from keras.wrappers.scikit_learn import KerasRegressor\n",
    "from sklearn.model_selection import GridSearchCV\n",
    "import numpy\n",
    "from keras import backend as K"
   ]
  },
  {
   "cell_type": "code",
   "execution_count": 7,
   "metadata": {
    "collapsed": false,
    "jupyter": {
     "outputs_hidden": false
    },
    "pycharm": {
     "name": "#%%\n"
    }
   },
   "outputs": [],
   "source": [
    "def create_new_model(optimizers=\"adam\", lr=None, batch_norm=False, batch=100, dropout_rate=0.0):\n",
    "    def root_mean_sqr_err(y_true, y_pred):\n",
    "        return K.sqrt(K.mean(K.square(y_pred - y_true), axis=1))\n",
    "    model = Sequential()\n",
    "    model.add(LSTM(126, input_shape=(36, 11)))\n",
    "    if batch_norm:\n",
    "        model.add(BatchNormalization())\n",
    "    model.add(Dropout(dropout_rate))\n",
    "    # model.add(Conv2D())\n",
    "    model.add(Dense(1, activation='linear'))\n",
    "    if optimizers == \"adam\":\n",
    "        if lr is not None:\n",
    "            opt = Adam(lr=lr)\n",
    "        else:\n",
    "            opt = Adam()\n",
    "    elif optimizers == \"sgd\":\n",
    "        if lr is not None:\n",
    "            opt = SGD(lr=lr)\n",
    "        else:\n",
    "            opt = SGD()\n",
    "    elif optimizers == \"rmsprop\":\n",
    "        if lr is not None:\n",
    "            opt = RMSprop(lr=lr)\n",
    "        else:\n",
    "            opt = RMSprop()\n",
    "    model.compile(loss=root_mean_sqr_err,\n",
    "              optimizer=opt,\n",
    "              metrics=[tf.keras.losses.MeanSquaredError(), root_mean_sqr_err])\n",
    "    return model"
   ]
  },
  {
   "cell_type": "code",
   "execution_count": 8,
   "metadata": {
    "collapsed": false,
    "jupyter": {
     "outputs_hidden": false
    },
    "pycharm": {
     "name": "#%%\n"
    }
   },
   "outputs": [],
   "source": [
    "x = ds.X_train\n",
    "y = ds.y_train_sev\n",
    "\n",
    "\n",
    "# fix random seed for reproducibility\n",
    "seed = 7\n",
    "numpy.random.seed(seed)\n",
    "# create model\n",
    "model = KerasRegressor(build_fn=create_new_model, verbose=0)\n",
    "# grid search epochs, batch size and optimizer\n",
    "optimizers = ['adam']\n",
    "lr = [0.01, 0.001]\n",
    "batch_size = [100]\n",
    "epochs = [50, 100, 200]\n",
    "batch_norm = [True, False]\n",
    "dropout_rate = [0.0,  0.3, 0.6]\n",
    "\n",
    "\n",
    "# param_grid = dict(lr = lr, epochs=epochs, batch_size=batch_size, batch_norm=batch_norm, dropout_rate=dropout_rate,\n",
    "#                   optimizers=optimizers) # dict(optimizer=optimizers, epochs=epochs, batch_size=batches, batch_norm=batch_norm)\n",
    "# model = KerasRegressor(build_fn=create_new_model, verbose=0)\n",
    "# grid = GridSearchCV(estimator=model, param_grid=param_grid,\n",
    "#                     verbose=2,\n",
    "#                     scoring='neg_root_mean_squared_error', cv=3)"
   ]
  },
  {
   "cell_type": "code",
   "execution_count": 88,
   "metadata": {
    "collapsed": false,
    "jupyter": {
     "outputs_hidden": false
    },
    "pycharm": {
     "name": "#%%\n"
    }
   },
   "outputs": [
    {
     "name": "stdout",
     "output_type": "stream",
     "text": [
      "Fitting 3 folds for each of 36 candidates, totalling 108 fits\n",
      "[CV] batch_norm=True, batch_size=100, dropout_rate=0.0, epochs=50, lr=0.01, optimizers=adam \n"
     ]
    },
    {
     "name": "stderr",
     "output_type": "stream",
     "text": [
      "[Parallel(n_jobs=1)]: Using backend SequentialBackend with 1 concurrent workers.\n"
     ]
    },
    {
     "name": "stdout",
     "output_type": "stream",
     "text": [
      "[CV]  batch_norm=True, batch_size=100, dropout_rate=0.0, epochs=50, lr=0.01, optimizers=adam, total=   2.8s\n",
      "[CV] batch_norm=True, batch_size=100, dropout_rate=0.0, epochs=50, lr=0.01, optimizers=adam \n"
     ]
    },
    {
     "name": "stderr",
     "output_type": "stream",
     "text": [
      "[Parallel(n_jobs=1)]: Done   1 out of   1 | elapsed:    2.8s remaining:    0.0s\n"
     ]
    },
    {
     "name": "stdout",
     "output_type": "stream",
     "text": [
      "[CV]  batch_norm=True, batch_size=100, dropout_rate=0.0, epochs=50, lr=0.01, optimizers=adam, total=   2.9s\n",
      "[CV] batch_norm=True, batch_size=100, dropout_rate=0.0, epochs=50, lr=0.01, optimizers=adam \n",
      "[CV]  batch_norm=True, batch_size=100, dropout_rate=0.0, epochs=50, lr=0.01, optimizers=adam, total=   2.9s\n",
      "[CV] batch_norm=True, batch_size=100, dropout_rate=0.0, epochs=50, lr=0.001, optimizers=adam \n",
      "[CV]  batch_norm=True, batch_size=100, dropout_rate=0.0, epochs=50, lr=0.001, optimizers=adam, total=   2.9s\n",
      "[CV] batch_norm=True, batch_size=100, dropout_rate=0.0, epochs=50, lr=0.001, optimizers=adam \n",
      "[CV]  batch_norm=True, batch_size=100, dropout_rate=0.0, epochs=50, lr=0.001, optimizers=adam, total=   2.9s\n",
      "[CV] batch_norm=True, batch_size=100, dropout_rate=0.0, epochs=50, lr=0.001, optimizers=adam \n",
      "[CV]  batch_norm=True, batch_size=100, dropout_rate=0.0, epochs=50, lr=0.001, optimizers=adam, total=   2.9s\n",
      "[CV] batch_norm=True, batch_size=100, dropout_rate=0.0, epochs=100, lr=0.01, optimizers=adam \n",
      "[CV]  batch_norm=True, batch_size=100, dropout_rate=0.0, epochs=100, lr=0.01, optimizers=adam, total=   4.3s\n",
      "[CV] batch_norm=True, batch_size=100, dropout_rate=0.0, epochs=100, lr=0.01, optimizers=adam \n",
      "[CV]  batch_norm=True, batch_size=100, dropout_rate=0.0, epochs=100, lr=0.01, optimizers=adam, total=   5.0s\n",
      "[CV] batch_norm=True, batch_size=100, dropout_rate=0.0, epochs=100, lr=0.01, optimizers=adam \n",
      "[CV]  batch_norm=True, batch_size=100, dropout_rate=0.0, epochs=100, lr=0.01, optimizers=adam, total=   4.4s\n",
      "[CV] batch_norm=True, batch_size=100, dropout_rate=0.0, epochs=100, lr=0.001, optimizers=adam \n",
      "[CV]  batch_norm=True, batch_size=100, dropout_rate=0.0, epochs=100, lr=0.001, optimizers=adam, total=   4.4s\n",
      "[CV] batch_norm=True, batch_size=100, dropout_rate=0.0, epochs=100, lr=0.001, optimizers=adam \n",
      "[CV]  batch_norm=True, batch_size=100, dropout_rate=0.0, epochs=100, lr=0.001, optimizers=adam, total=   4.3s\n",
      "[CV] batch_norm=True, batch_size=100, dropout_rate=0.0, epochs=100, lr=0.001, optimizers=adam \n",
      "[CV]  batch_norm=True, batch_size=100, dropout_rate=0.0, epochs=100, lr=0.001, optimizers=adam, total=   4.4s\n",
      "[CV] batch_norm=True, batch_size=100, dropout_rate=0.0, epochs=200, lr=0.01, optimizers=adam \n",
      "[CV]  batch_norm=True, batch_size=100, dropout_rate=0.0, epochs=200, lr=0.01, optimizers=adam, total=   7.2s\n",
      "[CV] batch_norm=True, batch_size=100, dropout_rate=0.0, epochs=200, lr=0.01, optimizers=adam \n",
      "[CV]  batch_norm=True, batch_size=100, dropout_rate=0.0, epochs=200, lr=0.01, optimizers=adam, total=   7.3s\n",
      "[CV] batch_norm=True, batch_size=100, dropout_rate=0.0, epochs=200, lr=0.01, optimizers=adam \n",
      "[CV]  batch_norm=True, batch_size=100, dropout_rate=0.0, epochs=200, lr=0.01, optimizers=adam, total=   7.4s\n",
      "[CV] batch_norm=True, batch_size=100, dropout_rate=0.0, epochs=200, lr=0.001, optimizers=adam \n",
      "[CV]  batch_norm=True, batch_size=100, dropout_rate=0.0, epochs=200, lr=0.001, optimizers=adam, total=   7.5s\n",
      "[CV] batch_norm=True, batch_size=100, dropout_rate=0.0, epochs=200, lr=0.001, optimizers=adam \n",
      "[CV]  batch_norm=True, batch_size=100, dropout_rate=0.0, epochs=200, lr=0.001, optimizers=adam, total=   8.1s\n",
      "[CV] batch_norm=True, batch_size=100, dropout_rate=0.0, epochs=200, lr=0.001, optimizers=adam \n",
      "[CV]  batch_norm=True, batch_size=100, dropout_rate=0.0, epochs=200, lr=0.001, optimizers=adam, total=   7.4s\n",
      "[CV] batch_norm=True, batch_size=100, dropout_rate=0.3, epochs=50, lr=0.01, optimizers=adam \n",
      "[CV]  batch_norm=True, batch_size=100, dropout_rate=0.3, epochs=50, lr=0.01, optimizers=adam, total=   3.4s\n",
      "[CV] batch_norm=True, batch_size=100, dropout_rate=0.3, epochs=50, lr=0.01, optimizers=adam \n",
      "[CV]  batch_norm=True, batch_size=100, dropout_rate=0.3, epochs=50, lr=0.01, optimizers=adam, total=   3.5s\n",
      "[CV] batch_norm=True, batch_size=100, dropout_rate=0.3, epochs=50, lr=0.01, optimizers=adam \n",
      "[CV]  batch_norm=True, batch_size=100, dropout_rate=0.3, epochs=50, lr=0.01, optimizers=adam, total=   3.3s\n",
      "[CV] batch_norm=True, batch_size=100, dropout_rate=0.3, epochs=50, lr=0.001, optimizers=adam \n",
      "[CV]  batch_norm=True, batch_size=100, dropout_rate=0.3, epochs=50, lr=0.001, optimizers=adam, total=   3.0s\n",
      "[CV] batch_norm=True, batch_size=100, dropout_rate=0.3, epochs=50, lr=0.001, optimizers=adam \n",
      "[CV]  batch_norm=True, batch_size=100, dropout_rate=0.3, epochs=50, lr=0.001, optimizers=adam, total=   3.1s\n",
      "[CV] batch_norm=True, batch_size=100, dropout_rate=0.3, epochs=50, lr=0.001, optimizers=adam \n",
      "[CV]  batch_norm=True, batch_size=100, dropout_rate=0.3, epochs=50, lr=0.001, optimizers=adam, total=   3.2s\n",
      "[CV] batch_norm=True, batch_size=100, dropout_rate=0.3, epochs=100, lr=0.01, optimizers=adam \n",
      "[CV]  batch_norm=True, batch_size=100, dropout_rate=0.3, epochs=100, lr=0.01, optimizers=adam, total=   4.7s\n",
      "[CV] batch_norm=True, batch_size=100, dropout_rate=0.3, epochs=100, lr=0.01, optimizers=adam \n",
      "[CV]  batch_norm=True, batch_size=100, dropout_rate=0.3, epochs=100, lr=0.01, optimizers=adam, total=   5.4s\n",
      "[CV] batch_norm=True, batch_size=100, dropout_rate=0.3, epochs=100, lr=0.01, optimizers=adam \n",
      "[CV]  batch_norm=True, batch_size=100, dropout_rate=0.3, epochs=100, lr=0.01, optimizers=adam, total=   4.6s\n",
      "[CV] batch_norm=True, batch_size=100, dropout_rate=0.3, epochs=100, lr=0.001, optimizers=adam \n",
      "[CV]  batch_norm=True, batch_size=100, dropout_rate=0.3, epochs=100, lr=0.001, optimizers=adam, total=   4.5s\n",
      "[CV] batch_norm=True, batch_size=100, dropout_rate=0.3, epochs=100, lr=0.001, optimizers=adam \n",
      "[CV]  batch_norm=True, batch_size=100, dropout_rate=0.3, epochs=100, lr=0.001, optimizers=adam, total=   4.5s\n",
      "[CV] batch_norm=True, batch_size=100, dropout_rate=0.3, epochs=100, lr=0.001, optimizers=adam \n",
      "[CV]  batch_norm=True, batch_size=100, dropout_rate=0.3, epochs=100, lr=0.001, optimizers=adam, total=   4.6s\n",
      "[CV] batch_norm=True, batch_size=100, dropout_rate=0.3, epochs=200, lr=0.01, optimizers=adam \n",
      "[CV]  batch_norm=True, batch_size=100, dropout_rate=0.3, epochs=200, lr=0.01, optimizers=adam, total=   7.7s\n",
      "[CV] batch_norm=True, batch_size=100, dropout_rate=0.3, epochs=200, lr=0.01, optimizers=adam \n",
      "[CV]  batch_norm=True, batch_size=100, dropout_rate=0.3, epochs=200, lr=0.01, optimizers=adam, total=   7.5s\n",
      "[CV] batch_norm=True, batch_size=100, dropout_rate=0.3, epochs=200, lr=0.01, optimizers=adam \n",
      "[CV]  batch_norm=True, batch_size=100, dropout_rate=0.3, epochs=200, lr=0.01, optimizers=adam, total=   7.4s\n",
      "[CV] batch_norm=True, batch_size=100, dropout_rate=0.3, epochs=200, lr=0.001, optimizers=adam \n",
      "[CV]  batch_norm=True, batch_size=100, dropout_rate=0.3, epochs=200, lr=0.001, optimizers=adam, total=   7.4s\n",
      "[CV] batch_norm=True, batch_size=100, dropout_rate=0.3, epochs=200, lr=0.001, optimizers=adam \n",
      "[CV]  batch_norm=True, batch_size=100, dropout_rate=0.3, epochs=200, lr=0.001, optimizers=adam, total=   8.5s\n",
      "[CV] batch_norm=True, batch_size=100, dropout_rate=0.3, epochs=200, lr=0.001, optimizers=adam \n",
      "[CV]  batch_norm=True, batch_size=100, dropout_rate=0.3, epochs=200, lr=0.001, optimizers=adam, total=   8.0s\n",
      "[CV] batch_norm=True, batch_size=100, dropout_rate=0.6, epochs=50, lr=0.01, optimizers=adam \n",
      "[CV]  batch_norm=True, batch_size=100, dropout_rate=0.6, epochs=50, lr=0.01, optimizers=adam, total=   3.5s\n",
      "[CV] batch_norm=True, batch_size=100, dropout_rate=0.6, epochs=50, lr=0.01, optimizers=adam \n",
      "[CV]  batch_norm=True, batch_size=100, dropout_rate=0.6, epochs=50, lr=0.01, optimizers=adam, total=   3.4s\n",
      "[CV] batch_norm=True, batch_size=100, dropout_rate=0.6, epochs=50, lr=0.01, optimizers=adam \n",
      "[CV]  batch_norm=True, batch_size=100, dropout_rate=0.6, epochs=50, lr=0.01, optimizers=adam, total=   3.5s\n",
      "[CV] batch_norm=True, batch_size=100, dropout_rate=0.6, epochs=50, lr=0.001, optimizers=adam \n",
      "[CV]  batch_norm=True, batch_size=100, dropout_rate=0.6, epochs=50, lr=0.001, optimizers=adam, total=   3.4s\n",
      "[CV] batch_norm=True, batch_size=100, dropout_rate=0.6, epochs=50, lr=0.001, optimizers=adam \n",
      "[CV]  batch_norm=True, batch_size=100, dropout_rate=0.6, epochs=50, lr=0.001, optimizers=adam, total=   3.2s\n",
      "[CV] batch_norm=True, batch_size=100, dropout_rate=0.6, epochs=50, lr=0.001, optimizers=adam \n",
      "[CV]  batch_norm=True, batch_size=100, dropout_rate=0.6, epochs=50, lr=0.001, optimizers=adam, total=   3.4s\n",
      "[CV] batch_norm=True, batch_size=100, dropout_rate=0.6, epochs=100, lr=0.01, optimizers=adam \n",
      "[CV]  batch_norm=True, batch_size=100, dropout_rate=0.6, epochs=100, lr=0.01, optimizers=adam, total=   5.8s\n",
      "[CV] batch_norm=True, batch_size=100, dropout_rate=0.6, epochs=100, lr=0.01, optimizers=adam \n",
      "[CV]  batch_norm=True, batch_size=100, dropout_rate=0.6, epochs=100, lr=0.01, optimizers=adam, total=   5.1s\n",
      "[CV] batch_norm=True, batch_size=100, dropout_rate=0.6, epochs=100, lr=0.01, optimizers=adam \n",
      "[CV]  batch_norm=True, batch_size=100, dropout_rate=0.6, epochs=100, lr=0.01, optimizers=adam, total=   4.7s\n",
      "[CV] batch_norm=True, batch_size=100, dropout_rate=0.6, epochs=100, lr=0.001, optimizers=adam \n",
      "[CV]  batch_norm=True, batch_size=100, dropout_rate=0.6, epochs=100, lr=0.001, optimizers=adam, total=   4.9s\n",
      "[CV] batch_norm=True, batch_size=100, dropout_rate=0.6, epochs=100, lr=0.001, optimizers=adam \n",
      "[CV]  batch_norm=True, batch_size=100, dropout_rate=0.6, epochs=100, lr=0.001, optimizers=adam, total=   5.1s\n",
      "[CV] batch_norm=True, batch_size=100, dropout_rate=0.6, epochs=100, lr=0.001, optimizers=adam \n",
      "[CV]  batch_norm=True, batch_size=100, dropout_rate=0.6, epochs=100, lr=0.001, optimizers=adam, total=   4.7s\n",
      "[CV] batch_norm=True, batch_size=100, dropout_rate=0.6, epochs=200, lr=0.01, optimizers=adam \n",
      "[CV]  batch_norm=True, batch_size=100, dropout_rate=0.6, epochs=200, lr=0.01, optimizers=adam, total=   8.0s\n",
      "[CV] batch_norm=True, batch_size=100, dropout_rate=0.6, epochs=200, lr=0.01, optimizers=adam \n",
      "[CV]  batch_norm=True, batch_size=100, dropout_rate=0.6, epochs=200, lr=0.01, optimizers=adam, total=   7.7s\n",
      "[CV] batch_norm=True, batch_size=100, dropout_rate=0.6, epochs=200, lr=0.01, optimizers=adam \n",
      "[CV]  batch_norm=True, batch_size=100, dropout_rate=0.6, epochs=200, lr=0.01, optimizers=adam, total=   9.1s\n",
      "[CV] batch_norm=True, batch_size=100, dropout_rate=0.6, epochs=200, lr=0.001, optimizers=adam \n",
      "[CV]  batch_norm=True, batch_size=100, dropout_rate=0.6, epochs=200, lr=0.001, optimizers=adam, total=   7.8s\n",
      "[CV] batch_norm=True, batch_size=100, dropout_rate=0.6, epochs=200, lr=0.001, optimizers=adam \n",
      "[CV]  batch_norm=True, batch_size=100, dropout_rate=0.6, epochs=200, lr=0.001, optimizers=adam, total=   7.9s\n",
      "[CV] batch_norm=True, batch_size=100, dropout_rate=0.6, epochs=200, lr=0.001, optimizers=adam \n",
      "[CV]  batch_norm=True, batch_size=100, dropout_rate=0.6, epochs=200, lr=0.001, optimizers=adam, total=   7.8s\n",
      "[CV] batch_norm=False, batch_size=100, dropout_rate=0.0, epochs=50, lr=0.01, optimizers=adam \n",
      "[CV]  batch_norm=False, batch_size=100, dropout_rate=0.0, epochs=50, lr=0.01, optimizers=adam, total=   3.0s\n",
      "[CV] batch_norm=False, batch_size=100, dropout_rate=0.0, epochs=50, lr=0.01, optimizers=adam \n",
      "[CV]  batch_norm=False, batch_size=100, dropout_rate=0.0, epochs=50, lr=0.01, optimizers=adam, total=   3.1s\n",
      "[CV] batch_norm=False, batch_size=100, dropout_rate=0.0, epochs=50, lr=0.01, optimizers=adam \n",
      "[CV]  batch_norm=False, batch_size=100, dropout_rate=0.0, epochs=50, lr=0.01, optimizers=adam, total=   3.1s\n",
      "[CV] batch_norm=False, batch_size=100, dropout_rate=0.0, epochs=50, lr=0.001, optimizers=adam \n",
      "[CV]  batch_norm=False, batch_size=100, dropout_rate=0.0, epochs=50, lr=0.001, optimizers=adam, total=   3.1s\n",
      "[CV] batch_norm=False, batch_size=100, dropout_rate=0.0, epochs=50, lr=0.001, optimizers=adam \n",
      "[CV]  batch_norm=False, batch_size=100, dropout_rate=0.0, epochs=50, lr=0.001, optimizers=adam, total=   3.7s\n",
      "[CV] batch_norm=False, batch_size=100, dropout_rate=0.0, epochs=50, lr=0.001, optimizers=adam \n",
      "[CV]  batch_norm=False, batch_size=100, dropout_rate=0.0, epochs=50, lr=0.001, optimizers=adam, total=   2.9s\n",
      "[CV] batch_norm=False, batch_size=100, dropout_rate=0.0, epochs=100, lr=0.01, optimizers=adam \n",
      "[CV]  batch_norm=False, batch_size=100, dropout_rate=0.0, epochs=100, lr=0.01, optimizers=adam, total=   4.4s\n",
      "[CV] batch_norm=False, batch_size=100, dropout_rate=0.0, epochs=100, lr=0.01, optimizers=adam \n",
      "[CV]  batch_norm=False, batch_size=100, dropout_rate=0.0, epochs=100, lr=0.01, optimizers=adam, total=   4.8s\n",
      "[CV] batch_norm=False, batch_size=100, dropout_rate=0.0, epochs=100, lr=0.01, optimizers=adam \n",
      "[CV]  batch_norm=False, batch_size=100, dropout_rate=0.0, epochs=100, lr=0.01, optimizers=adam, total=   4.5s\n",
      "[CV] batch_norm=False, batch_size=100, dropout_rate=0.0, epochs=100, lr=0.001, optimizers=adam \n",
      "[CV]  batch_norm=False, batch_size=100, dropout_rate=0.0, epochs=100, lr=0.001, optimizers=adam, total=   4.3s\n",
      "[CV] batch_norm=False, batch_size=100, dropout_rate=0.0, epochs=100, lr=0.001, optimizers=adam \n",
      "[CV]  batch_norm=False, batch_size=100, dropout_rate=0.0, epochs=100, lr=0.001, optimizers=adam, total=   4.5s\n",
      "[CV] batch_norm=False, batch_size=100, dropout_rate=0.0, epochs=100, lr=0.001, optimizers=adam \n",
      "[CV]  batch_norm=False, batch_size=100, dropout_rate=0.0, epochs=100, lr=0.001, optimizers=adam, total=   4.6s\n",
      "[CV] batch_norm=False, batch_size=100, dropout_rate=0.0, epochs=200, lr=0.01, optimizers=adam \n",
      "[CV]  batch_norm=False, batch_size=100, dropout_rate=0.0, epochs=200, lr=0.01, optimizers=adam, total=   7.5s\n",
      "[CV] batch_norm=False, batch_size=100, dropout_rate=0.0, epochs=200, lr=0.01, optimizers=adam \n",
      "[CV]  batch_norm=False, batch_size=100, dropout_rate=0.0, epochs=200, lr=0.01, optimizers=adam, total=   8.3s\n",
      "[CV] batch_norm=False, batch_size=100, dropout_rate=0.0, epochs=200, lr=0.01, optimizers=adam \n",
      "[CV]  batch_norm=False, batch_size=100, dropout_rate=0.0, epochs=200, lr=0.01, optimizers=adam, total=   7.4s\n",
      "[CV] batch_norm=False, batch_size=100, dropout_rate=0.0, epochs=200, lr=0.001, optimizers=adam \n",
      "[CV]  batch_norm=False, batch_size=100, dropout_rate=0.0, epochs=200, lr=0.001, optimizers=adam, total=   7.7s\n",
      "[CV] batch_norm=False, batch_size=100, dropout_rate=0.0, epochs=200, lr=0.001, optimizers=adam \n",
      "[CV]  batch_norm=False, batch_size=100, dropout_rate=0.0, epochs=200, lr=0.001, optimizers=adam, total=   7.5s\n",
      "[CV] batch_norm=False, batch_size=100, dropout_rate=0.0, epochs=200, lr=0.001, optimizers=adam \n",
      "[CV]  batch_norm=False, batch_size=100, dropout_rate=0.0, epochs=200, lr=0.001, optimizers=adam, total=   7.3s\n",
      "[CV] batch_norm=False, batch_size=100, dropout_rate=0.3, epochs=50, lr=0.01, optimizers=adam \n",
      "[CV]  batch_norm=False, batch_size=100, dropout_rate=0.3, epochs=50, lr=0.01, optimizers=adam, total=   3.2s\n",
      "[CV] batch_norm=False, batch_size=100, dropout_rate=0.3, epochs=50, lr=0.01, optimizers=adam \n",
      "[CV]  batch_norm=False, batch_size=100, dropout_rate=0.3, epochs=50, lr=0.01, optimizers=adam, total=   3.4s\n",
      "[CV] batch_norm=False, batch_size=100, dropout_rate=0.3, epochs=50, lr=0.01, optimizers=adam \n",
      "[CV]  batch_norm=False, batch_size=100, dropout_rate=0.3, epochs=50, lr=0.01, optimizers=adam, total=   3.5s\n",
      "[CV] batch_norm=False, batch_size=100, dropout_rate=0.3, epochs=50, lr=0.001, optimizers=adam \n",
      "[CV]  batch_norm=False, batch_size=100, dropout_rate=0.3, epochs=50, lr=0.001, optimizers=adam, total=   3.2s\n",
      "[CV] batch_norm=False, batch_size=100, dropout_rate=0.3, epochs=50, lr=0.001, optimizers=adam \n",
      "[CV]  batch_norm=False, batch_size=100, dropout_rate=0.3, epochs=50, lr=0.001, optimizers=adam, total=   4.1s\n",
      "[CV] batch_norm=False, batch_size=100, dropout_rate=0.3, epochs=50, lr=0.001, optimizers=adam \n",
      "[CV]  batch_norm=False, batch_size=100, dropout_rate=0.3, epochs=50, lr=0.001, optimizers=adam, total=   3.3s\n",
      "[CV] batch_norm=False, batch_size=100, dropout_rate=0.3, epochs=100, lr=0.01, optimizers=adam \n",
      "[CV]  batch_norm=False, batch_size=100, dropout_rate=0.3, epochs=100, lr=0.01, optimizers=adam, total=   4.5s\n",
      "[CV] batch_norm=False, batch_size=100, dropout_rate=0.3, epochs=100, lr=0.01, optimizers=adam \n",
      "[CV]  batch_norm=False, batch_size=100, dropout_rate=0.3, epochs=100, lr=0.01, optimizers=adam, total=   4.9s\n",
      "[CV] batch_norm=False, batch_size=100, dropout_rate=0.3, epochs=100, lr=0.01, optimizers=adam \n",
      "[CV]  batch_norm=False, batch_size=100, dropout_rate=0.3, epochs=100, lr=0.01, optimizers=adam, total=   5.0s\n",
      "[CV] batch_norm=False, batch_size=100, dropout_rate=0.3, epochs=100, lr=0.001, optimizers=adam \n",
      "[CV]  batch_norm=False, batch_size=100, dropout_rate=0.3, epochs=100, lr=0.001, optimizers=adam, total=   4.6s\n",
      "[CV] batch_norm=False, batch_size=100, dropout_rate=0.3, epochs=100, lr=0.001, optimizers=adam \n",
      "[CV]  batch_norm=False, batch_size=100, dropout_rate=0.3, epochs=100, lr=0.001, optimizers=adam, total=   4.5s\n",
      "[CV] batch_norm=False, batch_size=100, dropout_rate=0.3, epochs=100, lr=0.001, optimizers=adam \n",
      "[CV]  batch_norm=False, batch_size=100, dropout_rate=0.3, epochs=100, lr=0.001, optimizers=adam, total=   4.8s\n",
      "[CV] batch_norm=False, batch_size=100, dropout_rate=0.3, epochs=200, lr=0.01, optimizers=adam \n",
      "[CV]  batch_norm=False, batch_size=100, dropout_rate=0.3, epochs=200, lr=0.01, optimizers=adam, total=   7.8s\n",
      "[CV] batch_norm=False, batch_size=100, dropout_rate=0.3, epochs=200, lr=0.01, optimizers=adam \n",
      "[CV]  batch_norm=False, batch_size=100, dropout_rate=0.3, epochs=200, lr=0.01, optimizers=adam, total=   8.4s\n",
      "[CV] batch_norm=False, batch_size=100, dropout_rate=0.3, epochs=200, lr=0.01, optimizers=adam \n",
      "[CV]  batch_norm=False, batch_size=100, dropout_rate=0.3, epochs=200, lr=0.01, optimizers=adam, total=   8.5s\n",
      "[CV] batch_norm=False, batch_size=100, dropout_rate=0.3, epochs=200, lr=0.001, optimizers=adam \n",
      "[CV]  batch_norm=False, batch_size=100, dropout_rate=0.3, epochs=200, lr=0.001, optimizers=adam, total=   7.5s\n",
      "[CV] batch_norm=False, batch_size=100, dropout_rate=0.3, epochs=200, lr=0.001, optimizers=adam \n",
      "[CV]  batch_norm=False, batch_size=100, dropout_rate=0.3, epochs=200, lr=0.001, optimizers=adam, total=   8.8s\n",
      "[CV] batch_norm=False, batch_size=100, dropout_rate=0.3, epochs=200, lr=0.001, optimizers=adam \n",
      "[CV]  batch_norm=False, batch_size=100, dropout_rate=0.3, epochs=200, lr=0.001, optimizers=adam, total=   8.0s\n",
      "[CV] batch_norm=False, batch_size=100, dropout_rate=0.6, epochs=50, lr=0.01, optimizers=adam \n",
      "[CV]  batch_norm=False, batch_size=100, dropout_rate=0.6, epochs=50, lr=0.01, optimizers=adam, total=   3.4s\n",
      "[CV] batch_norm=False, batch_size=100, dropout_rate=0.6, epochs=50, lr=0.01, optimizers=adam \n",
      "[CV]  batch_norm=False, batch_size=100, dropout_rate=0.6, epochs=50, lr=0.01, optimizers=adam, total=   3.4s\n",
      "[CV] batch_norm=False, batch_size=100, dropout_rate=0.6, epochs=50, lr=0.01, optimizers=adam \n",
      "[CV]  batch_norm=False, batch_size=100, dropout_rate=0.6, epochs=50, lr=0.01, optimizers=adam, total=   3.2s\n",
      "[CV] batch_norm=False, batch_size=100, dropout_rate=0.6, epochs=50, lr=0.001, optimizers=adam \n",
      "[CV]  batch_norm=False, batch_size=100, dropout_rate=0.6, epochs=50, lr=0.001, optimizers=adam, total=   3.2s\n",
      "[CV] batch_norm=False, batch_size=100, dropout_rate=0.6, epochs=50, lr=0.001, optimizers=adam \n",
      "[CV]  batch_norm=False, batch_size=100, dropout_rate=0.6, epochs=50, lr=0.001, optimizers=adam, total=   4.5s\n",
      "[CV] batch_norm=False, batch_size=100, dropout_rate=0.6, epochs=50, lr=0.001, optimizers=adam \n",
      "[CV]  batch_norm=False, batch_size=100, dropout_rate=0.6, epochs=50, lr=0.001, optimizers=adam, total=   3.2s\n",
      "[CV] batch_norm=False, batch_size=100, dropout_rate=0.6, epochs=100, lr=0.01, optimizers=adam \n",
      "[CV]  batch_norm=False, batch_size=100, dropout_rate=0.6, epochs=100, lr=0.01, optimizers=adam, total=   4.8s\n",
      "[CV] batch_norm=False, batch_size=100, dropout_rate=0.6, epochs=100, lr=0.01, optimizers=adam \n",
      "[CV]  batch_norm=False, batch_size=100, dropout_rate=0.6, epochs=100, lr=0.01, optimizers=adam, total=   5.1s\n",
      "[CV] batch_norm=False, batch_size=100, dropout_rate=0.6, epochs=100, lr=0.01, optimizers=adam \n",
      "[CV]  batch_norm=False, batch_size=100, dropout_rate=0.6, epochs=100, lr=0.01, optimizers=adam, total=   5.1s\n",
      "[CV] batch_norm=False, batch_size=100, dropout_rate=0.6, epochs=100, lr=0.001, optimizers=adam \n",
      "[CV]  batch_norm=False, batch_size=100, dropout_rate=0.6, epochs=100, lr=0.001, optimizers=adam, total=   4.6s\n",
      "[CV] batch_norm=False, batch_size=100, dropout_rate=0.6, epochs=100, lr=0.001, optimizers=adam \n",
      "[CV]  batch_norm=False, batch_size=100, dropout_rate=0.6, epochs=100, lr=0.001, optimizers=adam, total=   5.1s\n",
      "[CV] batch_norm=False, batch_size=100, dropout_rate=0.6, epochs=100, lr=0.001, optimizers=adam \n",
      "[CV]  batch_norm=False, batch_size=100, dropout_rate=0.6, epochs=100, lr=0.001, optimizers=adam, total=   4.8s\n",
      "[CV] batch_norm=False, batch_size=100, dropout_rate=0.6, epochs=200, lr=0.01, optimizers=adam \n",
      "[CV]  batch_norm=False, batch_size=100, dropout_rate=0.6, epochs=200, lr=0.01, optimizers=adam, total=   7.7s\n",
      "[CV] batch_norm=False, batch_size=100, dropout_rate=0.6, epochs=200, lr=0.01, optimizers=adam \n",
      "[CV]  batch_norm=False, batch_size=100, dropout_rate=0.6, epochs=200, lr=0.01, optimizers=adam, total=   8.8s\n",
      "[CV] batch_norm=False, batch_size=100, dropout_rate=0.6, epochs=200, lr=0.01, optimizers=adam \n",
      "[CV]  batch_norm=False, batch_size=100, dropout_rate=0.6, epochs=200, lr=0.01, optimizers=adam, total=   8.2s\n",
      "[CV] batch_norm=False, batch_size=100, dropout_rate=0.6, epochs=200, lr=0.001, optimizers=adam \n",
      "[CV]  batch_norm=False, batch_size=100, dropout_rate=0.6, epochs=200, lr=0.001, optimizers=adam, total=   7.5s\n",
      "[CV] batch_norm=False, batch_size=100, dropout_rate=0.6, epochs=200, lr=0.001, optimizers=adam \n",
      "[CV]  batch_norm=False, batch_size=100, dropout_rate=0.6, epochs=200, lr=0.001, optimizers=adam, total=   7.8s\n",
      "[CV] batch_norm=False, batch_size=100, dropout_rate=0.6, epochs=200, lr=0.001, optimizers=adam \n",
      "[CV]  batch_norm=False, batch_size=100, dropout_rate=0.6, epochs=200, lr=0.001, optimizers=adam, total=   7.9s\n"
     ]
    },
    {
     "name": "stderr",
     "output_type": "stream",
     "text": [
      "[Parallel(n_jobs=1)]: Done 108 out of 108 | elapsed:  9.5min finished\n"
     ]
    }
   ],
   "source": [
    "# grid_result = grid.fit(x, y)"
   ]
  },
  {
   "cell_type": "code",
   "execution_count": 89,
   "metadata": {
    "collapsed": false,
    "jupyter": {
     "outputs_hidden": false
    },
    "pycharm": {
     "name": "#%%\n"
    }
   },
   "outputs": [
    {
     "name": "stdout",
     "output_type": "stream",
     "text": [
      "Best: -0.341080 using {'batch_norm': True, 'batch_size': 100, 'dropout_rate': 0.6, 'epochs': 100, 'lr': 0.01, 'optimizers': 'adam'}\n",
      "-0.395243 (0.132906) with: {'batch_norm': True, 'batch_size': 100, 'dropout_rate': 0.0, 'epochs': 50, 'lr': 0.01, 'optimizers': 'adam'}\n",
      "-0.392016 (0.129401) with: {'batch_norm': True, 'batch_size': 100, 'dropout_rate': 0.0, 'epochs': 50, 'lr': 0.001, 'optimizers': 'adam'}\n",
      "-0.403388 (0.120999) with: {'batch_norm': True, 'batch_size': 100, 'dropout_rate': 0.0, 'epochs': 100, 'lr': 0.01, 'optimizers': 'adam'}\n",
      "-0.382084 (0.128320) with: {'batch_norm': True, 'batch_size': 100, 'dropout_rate': 0.0, 'epochs': 100, 'lr': 0.001, 'optimizers': 'adam'}\n",
      "-0.422254 (0.110123) with: {'batch_norm': True, 'batch_size': 100, 'dropout_rate': 0.0, 'epochs': 200, 'lr': 0.01, 'optimizers': 'adam'}\n",
      "-0.464896 (0.089390) with: {'batch_norm': True, 'batch_size': 100, 'dropout_rate': 0.0, 'epochs': 200, 'lr': 0.001, 'optimizers': 'adam'}\n",
      "-0.403352 (0.128975) with: {'batch_norm': True, 'batch_size': 100, 'dropout_rate': 0.3, 'epochs': 50, 'lr': 0.01, 'optimizers': 'adam'}\n",
      "-0.418170 (0.226965) with: {'batch_norm': True, 'batch_size': 100, 'dropout_rate': 0.3, 'epochs': 50, 'lr': 0.001, 'optimizers': 'adam'}\n",
      "-0.379967 (0.152148) with: {'batch_norm': True, 'batch_size': 100, 'dropout_rate': 0.3, 'epochs': 100, 'lr': 0.01, 'optimizers': 'adam'}\n",
      "-0.476448 (0.064679) with: {'batch_norm': True, 'batch_size': 100, 'dropout_rate': 0.3, 'epochs': 100, 'lr': 0.001, 'optimizers': 'adam'}\n",
      "-0.373033 (0.122436) with: {'batch_norm': True, 'batch_size': 100, 'dropout_rate': 0.3, 'epochs': 200, 'lr': 0.01, 'optimizers': 'adam'}\n",
      "-0.529489 (0.237537) with: {'batch_norm': True, 'batch_size': 100, 'dropout_rate': 0.3, 'epochs': 200, 'lr': 0.001, 'optimizers': 'adam'}\n",
      "-0.392054 (0.161788) with: {'batch_norm': True, 'batch_size': 100, 'dropout_rate': 0.6, 'epochs': 50, 'lr': 0.01, 'optimizers': 'adam'}\n",
      "-0.437716 (0.249978) with: {'batch_norm': True, 'batch_size': 100, 'dropout_rate': 0.6, 'epochs': 50, 'lr': 0.001, 'optimizers': 'adam'}\n",
      "-0.341080 (0.106119) with: {'batch_norm': True, 'batch_size': 100, 'dropout_rate': 0.6, 'epochs': 100, 'lr': 0.01, 'optimizers': 'adam'}\n",
      "-0.459313 (0.135709) with: {'batch_norm': True, 'batch_size': 100, 'dropout_rate': 0.6, 'epochs': 100, 'lr': 0.001, 'optimizers': 'adam'}\n",
      "-0.436112 (0.236943) with: {'batch_norm': True, 'batch_size': 100, 'dropout_rate': 0.6, 'epochs': 200, 'lr': 0.01, 'optimizers': 'adam'}\n",
      "-0.416231 (0.157773) with: {'batch_norm': True, 'batch_size': 100, 'dropout_rate': 0.6, 'epochs': 200, 'lr': 0.001, 'optimizers': 'adam'}\n",
      "-0.389385 (0.159574) with: {'batch_norm': False, 'batch_size': 100, 'dropout_rate': 0.0, 'epochs': 50, 'lr': 0.01, 'optimizers': 'adam'}\n",
      "-0.377065 (0.147217) with: {'batch_norm': False, 'batch_size': 100, 'dropout_rate': 0.0, 'epochs': 50, 'lr': 0.001, 'optimizers': 'adam'}\n",
      "-0.432537 (0.106747) with: {'batch_norm': False, 'batch_size': 100, 'dropout_rate': 0.0, 'epochs': 100, 'lr': 0.01, 'optimizers': 'adam'}\n",
      "-0.394755 (0.106311) with: {'batch_norm': False, 'batch_size': 100, 'dropout_rate': 0.0, 'epochs': 100, 'lr': 0.001, 'optimizers': 'adam'}\n",
      "-0.474512 (0.089585) with: {'batch_norm': False, 'batch_size': 100, 'dropout_rate': 0.0, 'epochs': 200, 'lr': 0.01, 'optimizers': 'adam'}\n",
      "-0.467297 (0.070526) with: {'batch_norm': False, 'batch_size': 100, 'dropout_rate': 0.0, 'epochs': 200, 'lr': 0.001, 'optimizers': 'adam'}\n",
      "-0.385383 (0.159213) with: {'batch_norm': False, 'batch_size': 100, 'dropout_rate': 0.3, 'epochs': 50, 'lr': 0.01, 'optimizers': 'adam'}\n",
      "-0.371365 (0.152335) with: {'batch_norm': False, 'batch_size': 100, 'dropout_rate': 0.3, 'epochs': 50, 'lr': 0.001, 'optimizers': 'adam'}\n",
      "-0.411129 (0.089587) with: {'batch_norm': False, 'batch_size': 100, 'dropout_rate': 0.3, 'epochs': 100, 'lr': 0.01, 'optimizers': 'adam'}\n",
      "-0.390006 (0.113208) with: {'batch_norm': False, 'batch_size': 100, 'dropout_rate': 0.3, 'epochs': 100, 'lr': 0.001, 'optimizers': 'adam'}\n",
      "-0.454763 (0.111186) with: {'batch_norm': False, 'batch_size': 100, 'dropout_rate': 0.3, 'epochs': 200, 'lr': 0.01, 'optimizers': 'adam'}\n",
      "-0.448040 (0.105791) with: {'batch_norm': False, 'batch_size': 100, 'dropout_rate': 0.3, 'epochs': 200, 'lr': 0.001, 'optimizers': 'adam'}\n",
      "-0.385234 (0.159623) with: {'batch_norm': False, 'batch_size': 100, 'dropout_rate': 0.6, 'epochs': 50, 'lr': 0.01, 'optimizers': 'adam'}\n",
      "-0.376932 (0.164038) with: {'batch_norm': False, 'batch_size': 100, 'dropout_rate': 0.6, 'epochs': 50, 'lr': 0.001, 'optimizers': 'adam'}\n",
      "-0.394822 (0.152536) with: {'batch_norm': False, 'batch_size': 100, 'dropout_rate': 0.6, 'epochs': 100, 'lr': 0.01, 'optimizers': 'adam'}\n",
      "-0.381799 (0.151326) with: {'batch_norm': False, 'batch_size': 100, 'dropout_rate': 0.6, 'epochs': 100, 'lr': 0.001, 'optimizers': 'adam'}\n",
      "-0.483138 (0.121430) with: {'batch_norm': False, 'batch_size': 100, 'dropout_rate': 0.6, 'epochs': 200, 'lr': 0.01, 'optimizers': 'adam'}\n",
      "-0.395883 (0.123797) with: {'batch_norm': False, 'batch_size': 100, 'dropout_rate': 0.6, 'epochs': 200, 'lr': 0.001, 'optimizers': 'adam'}\n"
     ]
    }
   ],
   "source": [
    "# # summarize results\n",
    "# print(\"Best: %f using %s\" % (grid_result.best_score_, grid_result.best_params_))\n",
    "# means = grid_result.cv_results_['mean_test_score']\n",
    "# stds = grid_result.cv_results_['std_test_score']\n",
    "# params = grid_result.cv_results_['params']\n",
    "# for mean, stdev, param in zip(means, stds, params):\n",
    "# \tprint(\"%f (%f) with: %r\" % (mean, stdev, param))"
   ]
  },
  {
   "cell_type": "code",
   "execution_count": 92,
   "metadata": {
    "collapsed": false,
    "jupyter": {
     "outputs_hidden": false
    },
    "pycharm": {
     "name": "#%%\n"
    }
   },
   "outputs": [
    {
     "data": {
      "text/plain": [
       "GridSearchCV(cv=3,\n",
       "             estimator=<keras.wrappers.scikit_learn.KerasRegressor object at 0x7f3df84251d0>,\n",
       "             param_grid={'batch_norm': [True, False], 'batch_size': [100],\n",
       "                         'dropout_rate': [0.0, 0.3, 0.6],\n",
       "                         'epochs': [50, 100, 200], 'lr': [0.01, 0.001],\n",
       "                         'optimizers': ['adam']},\n",
       "             scoring='neg_root_mean_squared_error', verbose=2)"
      ]
     },
     "execution_count": 92,
     "metadata": {},
     "output_type": "execute_result"
    }
   ],
   "source": [
    "# summarize results\n",
    "# grid_result.validate()\n",
    "#"
   ]
  },
  {
   "cell_type": "code",
   "execution_count": 14,
   "metadata": {
    "collapsed": false,
    "jupyter": {
     "outputs_hidden": false
    },
    "pycharm": {
     "name": "#%%\n"
    }
   },
   "outputs": [
    {
     "data": {
      "text/plain": [
       "GridSearchCV(estimator=<keras.wrappers.scikit_learn.KerasRegressor object at 0x7f41937a4110>,\n",
       "             param_grid={'batch_norm': [True, False], 'epochs': [100],\n",
       "                         'lr': [0.01, 0.005, 0.001]},\n",
       "             scoring='neg_root_mean_squared_error', verbose=2)"
      ]
     },
     "execution_count": 14,
     "metadata": {},
     "output_type": "execute_result"
    }
   ],
   "source": [
    "\n",
    "# grid_result\n",
    "#"
   ]
  },
  {
   "cell_type": "code",
   "execution_count": 11,
   "metadata": {
    "collapsed": false,
    "jupyter": {
     "outputs_hidden": false
    },
    "pycharm": {
     "name": "#%%\n"
    }
   },
   "outputs": [],
   "source": [
    "from sklearn.model_selection import train_test_split\n",
    "\n",
    "xtr, xts, ytr, yts = train_test_split(x,y, test_size=0.1)\n",
    "def root_mean_sqr_err(y_true, y_pred):\n",
    "    return K.sqrt(K.mean(K.square(y_pred - y_true), axis=1))"
   ]
  },
  {
   "cell_type": "code",
   "execution_count": 14,
   "metadata": {},
   "outputs": [],
   "source": [
    "from keras.callbacks import ModelCheckpoint\n",
    "chk = ModelCheckpoint('best_model.pkl',\n",
    "                      monitor='val_acc',\n",
    "                      save_best_only=True,\n",
    "                      mode='max',\n",
    "                      verbose=1)\n",
    "\n",
    "history = model.fit(xtr,\n",
    "                    ytr,\n",
    "                    epochs=500,\n",
    "                    batch_size=100,\n",
    "                    callbacks=[chk],\n",
    "                    validation_data=(xtr,ytr))"
   ]
  },
  {
   "cell_type": "code",
   "execution_count": 15,
   "outputs": [
    {
     "name": "stdout",
     "output_type": "stream",
     "text": [
      "dict_keys(['val_loss', 'val_mean_squared_error', 'val_root_mean_sqr_err', 'loss', 'mean_squared_error', 'root_mean_sqr_err'])\n"
     ]
    },
    {
     "data": {
      "text/plain": "<Figure size 432x288 with 1 Axes>",
      "image/png": "[encoded data removed]"
     },
     "metadata": {},
     "output_type": "display_data"
    },
    {
     "data": {
      "text/plain": "<Figure size 432x288 with 1 Axes>",
      "image/png": "[encoded data removed]"
     },
     "metadata": {},
     "output_type": "display_data"
    }
   ],
   "source": [
    "print(history.history.keys())\n",
    "# summarize history for accuracy\n",
    "plt.plot(history.history['mean_squared_error'])\n",
    "plt.plot(history.history['val_mean_squared_error'])\n",
    "plt.title('model MSE')\n",
    "plt.ylabel('MSE')\n",
    "plt.xlabel('epoch')\n",
    "plt.legend(['train', 'validation'], loc='upper left')\n",
    "plt.show()\n",
    "# summarize history for loss\n",
    "plt.plot(history.history['loss'])\n",
    "plt.plot(history.history['val_loss'])\n",
    "plt.title('model loss')\n",
    "plt.ylabel('loss')\n",
    "plt.xlabel('epoch')\n",
    "plt.legend(['train', 'validation'], loc='upper left')\n",
    "plt.show()"
   ],
   "metadata": {
    "collapsed": false,
    "pycharm": {
     "name": "#%%\n"
    }
   }
  },
  {
   "cell_type": "code",
   "execution_count": 16,
   "outputs": [
    {
     "data": {
      "text/plain": "[<matplotlib.lines.Line2D at 0x7fe1dceb1450>]"
     },
     "execution_count": 16,
     "metadata": {},
     "output_type": "execute_result"
    },
    {
     "data": {
      "text/plain": "<Figure size 432x288 with 1 Axes>",
      "image/png": "[encoded data removed]"
     },
     "metadata": {},
     "output_type": "display_data"
    }
   ],
   "source": [
    "plt.plot(history.history['val_root_mean_sqr_err'])"
   ],
   "metadata": {
    "collapsed": false,
    "pycharm": {
     "name": "#%%\n"
    }
   }
  },
  {
   "cell_type": "code",
   "execution_count": 18,
   "outputs": [
    {
     "data": {
      "text/plain": "-0.36957834031846787"
     },
     "execution_count": 18,
     "metadata": {},
     "output_type": "execute_result"
    }
   ],
   "source": [
    "model.score(ds.X_test, ds.y_test_sev)"
   ],
   "metadata": {
    "collapsed": false,
    "pycharm": {
     "name": "#%%\n"
    }
   }
  },
  {
   "cell_type": "code",
   "execution_count": 20,
   "outputs": [],
   "source": [
    "nn_pred = model.predict(ds.X_test)"
   ],
   "metadata": {
    "collapsed": false,
    "pycharm": {
     "name": "#%%\n"
    }
   }
  },
  {
   "cell_type": "code",
   "execution_count": 21,
   "outputs": [],
   "source": [
    "id = ds.idx_test\n"
   ],
   "metadata": {
    "collapsed": false,
    "pycharm": {
     "name": "#%%\n"
    }
   }
  },
  {
   "cell_type": "code",
   "execution_count": 27,
   "outputs": [
    {
     "data": {
      "text/plain": "     index  season\n0        0   False\n1        1   False\n2        2   False\n3        3   False\n4        4   False\n..     ...     ...\n292    292    True\n293    293    True\n294    294    True\n295    295    True\n296    296    True\n\n[297 rows x 2 columns]",
      "text/html": "<div>\n<style scoped>\n    .dataframe tbody tr th:only-of-type {\n        vertical-align: middle;\n    }\n\n    .dataframe tbody tr th {\n        vertical-align: top;\n    }\n\n    .dataframe thead th {\n        text-align: right;\n    }\n</style>\n<table border=\"1\" class=\"dataframe\">\n  <thead>\n    <tr style=\"text-align: right;\">\n      <th></th>\n      <th>index</th>\n      <th>season</th>\n    </tr>\n  </thead>\n  <tbody>\n    <tr>\n      <th>0</th>\n      <td>0</td>\n      <td>False</td>\n    </tr>\n    <tr>\n      <th>1</th>\n      <td>1</td>\n      <td>False</td>\n    </tr>\n    <tr>\n      <th>2</th>\n      <td>2</td>\n      <td>False</td>\n    </tr>\n    <tr>\n      <th>3</th>\n      <td>3</td>\n      <td>False</td>\n    </tr>\n    <tr>\n      <th>4</th>\n      <td>4</td>\n      <td>False</td>\n    </tr>\n    <tr>\n      <th>...</th>\n      <td>...</td>\n      <td>...</td>\n    </tr>\n    <tr>\n      <th>292</th>\n      <td>292</td>\n      <td>True</td>\n    </tr>\n    <tr>\n      <th>293</th>\n      <td>293</td>\n      <td>True</td>\n    </tr>\n    <tr>\n      <th>294</th>\n      <td>294</td>\n      <td>True</td>\n    </tr>\n    <tr>\n      <th>295</th>\n      <td>295</td>\n      <td>True</td>\n    </tr>\n    <tr>\n      <th>296</th>\n      <td>296</td>\n      <td>True</td>\n    </tr>\n  </tbody>\n</table>\n<p>297 rows × 2 columns</p>\n</div>"
     },
     "execution_count": 27,
     "metadata": {},
     "output_type": "execute_result"
    }
   ],
   "source": [
    "id.reset_index()"
   ],
   "metadata": {
    "collapsed": false,
    "pycharm": {
     "name": "#%%\n"
    }
   }
  },
  {
   "cell_type": "code",
   "execution_count": 31,
   "outputs": [],
   "source": [
    "df = ds.df_y.reset_index()[ds.idx_test].copy()"
   ],
   "metadata": {
    "collapsed": false,
    "pycharm": {
     "name": "#%%\n"
    }
   }
  },
  {
   "cell_type": "code",
   "execution_count": 34,
   "outputs": [],
   "source": [
    "df['severity_LSTM'] = nn_pred\n",
    "\n"
   ],
   "metadata": {
    "collapsed": false,
    "pycharm": {
     "name": "#%%\n"
    }
   }
  },
  {
   "cell_type": "code",
   "execution_count": 36,
   "outputs": [
    {
     "data": {
      "text/plain": "     severity  severity_LSTM\n252  1.090000       2.032196\n253  1.165003       1.524747\n254  1.637499       1.256999\n255  1.149999       1.592615\n256  1.060001       1.347896\n257  1.555013       1.647581\n258  1.382494       1.345253\n259  1.075001       1.601074\n260  1.209997       1.500386\n261  1.660002       1.400448\n262  1.540006       1.918019\n263  1.180000       1.337862\n264  1.247498       1.873387\n265  1.975034       1.493381\n266  1.517497       1.504344\n267  1.359997       1.471249\n268  1.750002       1.267043\n269  1.254998       1.530285\n270  1.900011       2.490702\n271  1.105000       1.478483\n272  1.900001       1.680133\n273  1.120001       1.761172\n274  1.592506       1.347777\n275  1.322504       1.626371\n276  1.397501       1.502120\n277  1.750000       2.015889\n278  1.637565       1.717648\n279  1.105001       1.293851\n280  2.627493       1.779196\n281  1.330009       1.458181\n282  1.329989       1.759250\n283  1.330001       1.562294\n284  1.195000       1.690558\n285  1.510005       1.636547\n286  1.120002       1.398590\n287  1.180001       1.605892\n288  1.389997       1.491541\n289  1.487497       1.782712\n290  1.449998       2.310259\n291  1.150001       1.562099\n292  1.300004       2.351280\n293  1.577500       1.435611\n294  1.180000       1.595197\n295  1.457500       2.422229\n296  1.239996       1.506116",
      "text/html": "<div>\n<style scoped>\n    .dataframe tbody tr th:only-of-type {\n        vertical-align: middle;\n    }\n\n    .dataframe tbody tr th {\n        vertical-align: top;\n    }\n\n    .dataframe thead th {\n        text-align: right;\n    }\n</style>\n<table border=\"1\" class=\"dataframe\">\n  <thead>\n    <tr style=\"text-align: right;\">\n      <th></th>\n      <th>severity</th>\n      <th>severity_LSTM</th>\n    </tr>\n  </thead>\n  <tbody>\n    <tr>\n      <th>252</th>\n      <td>1.090000</td>\n      <td>2.032196</td>\n    </tr>\n    <tr>\n      <th>253</th>\n      <td>1.165003</td>\n      <td>1.524747</td>\n    </tr>\n    <tr>\n      <th>254</th>\n      <td>1.637499</td>\n      <td>1.256999</td>\n    </tr>\n    <tr>\n      <th>255</th>\n      <td>1.149999</td>\n      <td>1.592615</td>\n    </tr>\n    <tr>\n      <th>256</th>\n      <td>1.060001</td>\n      <td>1.347896</td>\n    </tr>\n    <tr>\n      <th>257</th>\n      <td>1.555013</td>\n      <td>1.647581</td>\n    </tr>\n    <tr>\n      <th>258</th>\n      <td>1.382494</td>\n      <td>1.345253</td>\n    </tr>\n    <tr>\n      <th>259</th>\n      <td>1.075001</td>\n      <td>1.601074</td>\n    </tr>\n    <tr>\n      <th>260</th>\n      <td>1.209997</td>\n      <td>1.500386</td>\n    </tr>\n    <tr>\n      <th>261</th>\n      <td>1.660002</td>\n      <td>1.400448</td>\n    </tr>\n    <tr>\n      <th>262</th>\n      <td>1.540006</td>\n      <td>1.918019</td>\n    </tr>\n    <tr>\n      <th>263</th>\n      <td>1.180000</td>\n      <td>1.337862</td>\n    </tr>\n    <tr>\n      <th>264</th>\n      <td>1.247498</td>\n      <td>1.873387</td>\n    </tr>\n    <tr>\n      <th>265</th>\n      <td>1.975034</td>\n      <td>1.493381</td>\n    </tr>\n    <tr>\n      <th>266</th>\n      <td>1.517497</td>\n      <td>1.504344</td>\n    </tr>\n    <tr>\n      <th>267</th>\n      <td>1.359997</td>\n      <td>1.471249</td>\n    </tr>\n    <tr>\n      <th>268</th>\n      <td>1.750002</td>\n      <td>1.267043</td>\n    </tr>\n    <tr>\n      <th>269</th>\n      <td>1.254998</td>\n      <td>1.530285</td>\n    </tr>\n    <tr>\n      <th>270</th>\n      <td>1.900011</td>\n      <td>2.490702</td>\n    </tr>\n    <tr>\n      <th>271</th>\n      <td>1.105000</td>\n      <td>1.478483</td>\n    </tr>\n    <tr>\n      <th>272</th>\n      <td>1.900001</td>\n      <td>1.680133</td>\n    </tr>\n    <tr>\n      <th>273</th>\n      <td>1.120001</td>\n      <td>1.761172</td>\n    </tr>\n    <tr>\n      <th>274</th>\n      <td>1.592506</td>\n      <td>1.347777</td>\n    </tr>\n    <tr>\n      <th>275</th>\n      <td>1.322504</td>\n      <td>1.626371</td>\n    </tr>\n    <tr>\n      <th>276</th>\n      <td>1.397501</td>\n      <td>1.502120</td>\n    </tr>\n    <tr>\n      <th>277</th>\n      <td>1.750000</td>\n      <td>2.015889</td>\n    </tr>\n    <tr>\n      <th>278</th>\n      <td>1.637565</td>\n      <td>1.717648</td>\n    </tr>\n    <tr>\n      <th>279</th>\n      <td>1.105001</td>\n      <td>1.293851</td>\n    </tr>\n    <tr>\n      <th>280</th>\n      <td>2.627493</td>\n      <td>1.779196</td>\n    </tr>\n    <tr>\n      <th>281</th>\n      <td>1.330009</td>\n      <td>1.458181</td>\n    </tr>\n    <tr>\n      <th>282</th>\n      <td>1.329989</td>\n      <td>1.759250</td>\n    </tr>\n    <tr>\n      <th>283</th>\n      <td>1.330001</td>\n      <td>1.562294</td>\n    </tr>\n    <tr>\n      <th>284</th>\n      <td>1.195000</td>\n      <td>1.690558</td>\n    </tr>\n    <tr>\n      <th>285</th>\n      <td>1.510005</td>\n      <td>1.636547</td>\n    </tr>\n    <tr>\n      <th>286</th>\n      <td>1.120002</td>\n      <td>1.398590</td>\n    </tr>\n    <tr>\n      <th>287</th>\n      <td>1.180001</td>\n      <td>1.605892</td>\n    </tr>\n    <tr>\n      <th>288</th>\n      <td>1.389997</td>\n      <td>1.491541</td>\n    </tr>\n    <tr>\n      <th>289</th>\n      <td>1.487497</td>\n      <td>1.782712</td>\n    </tr>\n    <tr>\n      <th>290</th>\n      <td>1.449998</td>\n      <td>2.310259</td>\n    </tr>\n    <tr>\n      <th>291</th>\n      <td>1.150001</td>\n      <td>1.562099</td>\n    </tr>\n    <tr>\n      <th>292</th>\n      <td>1.300004</td>\n      <td>2.351280</td>\n    </tr>\n    <tr>\n      <th>293</th>\n      <td>1.577500</td>\n      <td>1.435611</td>\n    </tr>\n    <tr>\n      <th>294</th>\n      <td>1.180000</td>\n      <td>1.595197</td>\n    </tr>\n    <tr>\n      <th>295</th>\n      <td>1.457500</td>\n      <td>2.422229</td>\n    </tr>\n    <tr>\n      <th>296</th>\n      <td>1.239996</td>\n      <td>1.506116</td>\n    </tr>\n  </tbody>\n</table>\n</div>"
     },
     "execution_count": 36,
     "metadata": {},
     "output_type": "execute_result"
    }
   ],
   "source": [
    "df[['severity', 'severity_LSTM']]"
   ],
   "metadata": {
    "collapsed": false,
    "pycharm": {
     "name": "#%%\n"
    }
   }
  },
  {
   "cell_type": "code",
   "execution_count": 38,
   "outputs": [],
   "source": [
    "ds.save_predicted(nn_pred, \"LSTM\")"
   ],
   "metadata": {
    "collapsed": false,
    "pycharm": {
     "name": "#%%\n"
    }
   }
  },
  {
   "cell_type": "code",
   "execution_count": 41,
   "outputs": [],
   "source": [
    "df_unit = ds.save_predicted(nn_pred, \"LSTM\", 2019)"
   ],
   "metadata": {
    "collapsed": false,
    "pycharm": {
     "name": "#%%\n"
    }
   }
  },
  {
   "cell_type": "code",
   "execution_count": 42,
   "outputs": [
    {
     "data": {
      "text/plain": "Index(['adm2_name_code', 'NAME', 'severity_2013', 'phase1_2013', 'phase2_2013',\n       'phase3_2013', 'phase4_2013', 'phase5_2013', 'severity_2014',\n       'phase1_2014', 'phase2_2014', 'phase3_2014', 'phase4_2014',\n       'phase5_2014', 'severity_2015', 'phase1_2015', 'phase2_2015',\n       'phase3_2015', 'phase4_2015', 'phase5_2015', 'severity_2016',\n       'phase1_2016', 'phase2_2016', 'phase3_2016', 'phase4_2016',\n       'phase5_2016', 'severity_2017', 'phase1_2017', 'phase2_2017',\n       'phase3_2017', 'phase4_2017', 'phase5_2017', 'severity_2018',\n       'phase1_2018', 'phase2_2018', 'phase3_2018', 'phase4_2018',\n       'phase5_2018', 'severity_2019', 'phase1_2019', 'phase2_2019',\n       'phase3_2019', 'phase4_2019', 'phase5_2019', 'geometry',\n       'severity_LSTM_2019'],\n      dtype='object')"
     },
     "execution_count": 42,
     "metadata": {},
     "output_type": "execute_result"
    }
   ],
   "source": [
    "df_unit.columns\n"
   ],
   "metadata": {
    "collapsed": false,
    "pycharm": {
     "name": "#%%\n"
    }
   }
  },
  {
   "cell_type": "code",
   "execution_count": null,
   "outputs": [],
   "source": [],
   "metadata": {
    "collapsed": false,
    "pycharm": {
     "name": "#%%\n"
    }
   }
  }
 ],
 "metadata": {
  "kernelspec": {
   "display_name": "Python 3",
   "language": "python",
   "name": "python3"
  },
  "language_info": {
   "codemirror_mode": {
    "name": "ipython",
    "version": 3
   },
   "file_extension": ".py",
   "mimetype": "text/x-python",
   "name": "python",
   "nbconvert_exporter": "python",
   "pygments_lexer": "ipython3",
   "version": "3.7.9"
  }
 },
 "nbformat": 4,
 "nbformat_minor": 4
}