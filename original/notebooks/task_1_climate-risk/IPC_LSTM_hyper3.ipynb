{
 "cells": [
  {
   "cell_type": "code",
   "execution_count": 1,
   "outputs": [],
   "source": [
    "from pathlib import Path\n",
    "\n",
    "import matplotlib.pyplot as plt\n",
    "\n",
    "%matplotlib inline\n",
    "plt.style.use('dark_background')\n",
    "\n",
    "%load_ext autoreload\n",
    "\n",
    "%autoreload 2"
   ],
   "metadata": {
    "collapsed": false,
    "pycharm": {
     "name": "#%%\n"
    }
   }
  },
  {
   "cell_type": "code",
   "execution_count": 2,
   "outputs": [],
   "source": [
    "root_folder = Path.cwd().parent.parent\n",
    "data_folder = Path(root_folder).joinpath('data', 'external')"
   ],
   "metadata": {
    "collapsed": false,
    "pycharm": {
     "name": "#%%\n"
    }
   }
  },
  {
   "cell_type": "code",
   "execution_count": 3,
   "outputs": [],
   "source": [
    "from src.data.task_1_food_security.dataset import Dataset"
   ],
   "metadata": {
    "collapsed": false,
    "pycharm": {
     "name": "#%%\n"
    }
   }
  },
  {
   "cell_type": "code",
   "execution_count": 4,
   "outputs": [],
   "source": [
    "ds = Dataset(root_folder=root_folder)\n",
    "\n",
    "ds.prepare_dataset_array()"
   ],
   "metadata": {
    "collapsed": false,
    "pycharm": {
     "name": "#%%\n"
    }
   }
  },
  {
   "cell_type": "code",
   "execution_count": 5,
   "outputs": [
    {
     "name": "stderr",
     "output_type": "stream",
     "text": [
      "Using TensorFlow backend.\n"
     ]
    }
   ],
   "source": [
    "import tensorflow as tf\n",
    "from keras.layers import LSTM, Conv2D, BatchNormalization\n",
    "from keras.optimizers import Adam, SGD, RMSprop\n",
    "from keras.models import Sequential\n",
    "from keras.layers import Dense\n",
    "from keras.wrappers.scikit_learn import KerasRegressor\n",
    "from sklearn.model_selection import GridSearchCV\n",
    "import numpy"
   ],
   "metadata": {
    "collapsed": false,
    "pycharm": {
     "name": "#%%\n"
    }
   }
  },
  {
   "cell_type": "code",
   "execution_count": null,
   "outputs": [],
   "source": [
    "from keras.losses import MeanSquaredError\n"
   ],
   "metadata": {
    "collapsed": false,
    "pycharm": {
     "name": "#%%\n"
    }
   }
  },
  {
   "cell_type": "code",
   "execution_count": null,
   "outputs": [],
   "source": [
    "\n",
    "\n",
    "\n",
    "def create_new_model(optimizer=\"adam\", lr=None, batch_norm=False):\n",
    "    model = Sequential()\n",
    "    model.add(Conv2D())\n",
    "    model.add(LSTM(126, input_shape=(36, 11)))\n",
    "    if batch_norm:\n",
    "        model.add(BatchNormalization())\n",
    "    # model.add(Conv2D())\n",
    "    model.add(Dense(1, activation='linear'))\n",
    "    if optimizer == \"adam\":\n",
    "        if lr is not None:\n",
    "            opt = Adam(lr=lr)\n",
    "        else:\n",
    "            opt = Adam()\n",
    "    elif optimizer == \"sgd\":\n",
    "        if lr is not None:\n",
    "            opt = SGD(lr=lr)\n",
    "        else:\n",
    "            opt = SGD()\n",
    "    elif optimizer == \"rmsprop\":\n",
    "        if lr is not None:\n",
    "            opt = RMSprop(lr=lr)\n",
    "        else:\n",
    "            opt = RMSprop()\n",
    "    model.compile(loss=tf.keras.losses.MeanSquaredError(),\n",
    "              optimizer=opt,\n",
    "              metrics=[tf.keras.losses.MeanSquaredError()])\n",
    "    return model"
   ],
   "metadata": {
    "collapsed": false,
    "pycharm": {
     "name": "#%%\n"
    }
   }
  },
  {
   "cell_type": "code",
   "execution_count": 34,
   "outputs": [],
   "source": [
    "x = ds.X_train\n",
    "y = ds.y_train_sev\n",
    "\n",
    "\n",
    "# fix random seed for reproducibility\n",
    "seed = 7\n",
    "numpy.random.seed(seed)\n",
    "# create model\n",
    "model = KerasRegressor(build_fn=create_new_model, verbose=0)\n",
    "# grid search epochs, batch size and optimizer\n",
    "optimizers = ['sgd', 'adam', 'rmsprop']\n",
    "lr = [0.01, 0.005, 0.001]\n",
    "epochs = [100]\n",
    "batches = [100]\n",
    "batch_norm = [True, False]\n",
    "\n",
    "param_grid = dict(lr = lr, epochs=epochs, batch_norm=batch_norm) # dict(optimizer=optimizers, epochs=epochs, batch_size=batches, batch_norm=batch_norm)\n",
    "model = KerasRegressor(build_fn=create_new_model, verbose=0)\n",
    "grid = GridSearchCV(estimator=model, param_grid=param_grid,\n",
    "                    verbose=2,\n",
    "                    scoring='neg_mean_squared_error')"
   ],
   "metadata": {
    "collapsed": false,
    "pycharm": {
     "name": "#%%\n"
    }
   }
  },
  {
   "cell_type": "code",
   "execution_count": 35,
   "outputs": [
    {
     "name": "stdout",
     "output_type": "stream",
     "text": [
      "Fitting 5 folds for each of 6 candidates, totalling 30 fits\n",
      "[CV] batch_norm=True, epochs=100, lr=0.01 ............................\n",
      "[CV] ............. batch_norm=True, epochs=100, lr=0.01, total=  10.6s\n",
      "[CV] batch_norm=True, epochs=100, lr=0.01 ............................\n",
      "[CV] ............. batch_norm=True, epochs=100, lr=0.01, total=  12.8s\n",
      "[CV] batch_norm=True, epochs=100, lr=0.01 ............................\n",
      "[CV] ............. batch_norm=True, epochs=100, lr=0.01, total=  14.0s\n",
      "[CV] batch_norm=True, epochs=100, lr=0.01 ............................\n",
      "[CV] ............. batch_norm=True, epochs=100, lr=0.01, total=  14.2s\n",
      "[CV] batch_norm=True, epochs=100, lr=0.01 ............................\n",
      "[CV] ............. batch_norm=True, epochs=100, lr=0.01, total=  15.6s\n",
      "[CV] batch_norm=True, epochs=100, lr=0.005 ...........................\n",
      "[CV] ............ batch_norm=True, epochs=100, lr=0.005, total=  17.1s\n",
      "[CV] batch_norm=True, epochs=100, lr=0.005 ...........................\n",
      "[CV] ............ batch_norm=True, epochs=100, lr=0.005, total=  17.1s\n",
      "[CV] batch_norm=True, epochs=100, lr=0.005 ...........................\n",
      "[CV] ............ batch_norm=True, epochs=100, lr=0.005, total=  17.3s\n",
      "[CV] batch_norm=True, epochs=100, lr=0.005 ...........................\n",
      "[CV] ............ batch_norm=True, epochs=100, lr=0.005, total=  17.2s\n",
      "[CV] batch_norm=True, epochs=100, lr=0.005 ...........................\n",
      "[CV] ............ batch_norm=True, epochs=100, lr=0.005, total=  17.5s\n",
      "[CV] batch_norm=True, epochs=100, lr=0.001 ...........................\n",
      "[CV] ............ batch_norm=True, epochs=100, lr=0.001, total=  17.2s\n",
      "[CV] batch_norm=True, epochs=100, lr=0.001 ...........................\n",
      "[CV] ............ batch_norm=True, epochs=100, lr=0.001, total=  17.2s\n",
      "[CV] batch_norm=True, epochs=100, lr=0.001 ...........................\n",
      "[CV] ............ batch_norm=True, epochs=100, lr=0.001, total=  17.3s\n",
      "[CV] batch_norm=True, epochs=100, lr=0.001 ...........................\n",
      "[CV] ............ batch_norm=True, epochs=100, lr=0.001, total=  17.2s\n",
      "[CV] batch_norm=True, epochs=100, lr=0.001 ...........................\n",
      "[CV] ............ batch_norm=True, epochs=100, lr=0.001, total=  17.4s\n",
      "[CV] batch_norm=False, epochs=100, lr=0.01 ...........................\n",
      "[CV] ............ batch_norm=False, epochs=100, lr=0.01, total=  16.8s\n",
      "[CV] batch_norm=False, epochs=100, lr=0.01 ...........................\n",
      "[CV] ............ batch_norm=False, epochs=100, lr=0.01, total=  16.6s\n",
      "[CV] batch_norm=False, epochs=100, lr=0.01 ...........................\n",
      "[CV] ............ batch_norm=False, epochs=100, lr=0.01, total=  16.7s\n",
      "[CV] batch_norm=False, epochs=100, lr=0.01 ...........................\n",
      "[CV] ............ batch_norm=False, epochs=100, lr=0.01, total=  19.5s\n",
      "[CV] batch_norm=False, epochs=100, lr=0.01 ...........................\n",
      "[CV] ............ batch_norm=False, epochs=100, lr=0.01, total=  19.9s\n",
      "[CV] batch_norm=False, epochs=100, lr=0.005 ..........................\n",
      "[CV] ........... batch_norm=False, epochs=100, lr=0.005, total=  18.2s\n",
      "[CV] batch_norm=False, epochs=100, lr=0.005 ..........................\n",
      "[CV] ........... batch_norm=False, epochs=100, lr=0.005, total=  17.5s\n",
      "[CV] batch_norm=False, epochs=100, lr=0.005 ..........................\n",
      "[CV] ........... batch_norm=False, epochs=100, lr=0.005, total=  17.9s\n",
      "[CV] batch_norm=False, epochs=100, lr=0.005 ..........................\n",
      "[CV] ........... batch_norm=False, epochs=100, lr=0.005, total=  17.2s\n",
      "[CV] batch_norm=False, epochs=100, lr=0.005 ..........................\n",
      "[CV] ........... batch_norm=False, epochs=100, lr=0.005, total=  16.8s\n",
      "[CV] batch_norm=False, epochs=100, lr=0.001 ..........................\n",
      "[CV] ........... batch_norm=False, epochs=100, lr=0.001, total=  16.6s\n",
      "[CV] batch_norm=False, epochs=100, lr=0.001 ..........................\n",
      "[CV] ........... batch_norm=False, epochs=100, lr=0.001, total=  16.7s\n",
      "[CV] batch_norm=False, epochs=100, lr=0.001 ..........................\n",
      "[CV] ........... batch_norm=False, epochs=100, lr=0.001, total=  16.7s\n",
      "[CV] batch_norm=False, epochs=100, lr=0.001 ..........................\n",
      "[CV] ........... batch_norm=False, epochs=100, lr=0.001, total=  16.7s\n",
      "[CV] batch_norm=False, epochs=100, lr=0.001 ..........................\n",
      "[CV] ........... batch_norm=False, epochs=100, lr=0.001, total=  17.4s\n"
     ]
    },
    {
     "name": "stderr",
     "output_type": "stream",
     "text": [
      "[Parallel(n_jobs=1)]: Using backend SequentialBackend with 1 concurrent workers.\n",
      "[Parallel(n_jobs=1)]: Done   1 out of   1 | elapsed:   10.6s remaining:    0.0s\n",
      "[Parallel(n_jobs=1)]: Done  30 out of  30 | elapsed:  8.3min finished\n"
     ]
    }
   ],
   "source": [
    "grid_result = grid.fit(x, y)"
   ],
   "metadata": {
    "collapsed": false,
    "pycharm": {
     "name": "#%%\n"
    }
   }
  },
  {
   "cell_type": "code",
   "execution_count": 31,
   "outputs": [
    {
     "name": "stdout",
     "output_type": "stream",
     "text": [
      "Best: -0.271737 using {}\n",
      "-0.271737 (0.090563) with: {}\n"
     ]
    }
   ],
   "source": [
    "# summarize results\n",
    "print(\"Best: %f using %s\" % (grid_result.best_score_, grid_result.best_params_))\n",
    "means = grid_result.cv_results_['mean_test_score']\n",
    "stds = grid_result.cv_results_['std_test_score']\n",
    "params = grid_result.cv_results_['params']\n",
    "for mean, stdev, param in zip(means, stds, params):\n",
    "\tprint(\"%f (%f) with: %r\" % (mean, stdev, param))"
   ],
   "metadata": {
    "collapsed": false,
    "pycharm": {
     "name": "#%%\n"
    }
   }
  },
  {
   "cell_type": "code",
   "execution_count": 18,
   "outputs": [
    {
     "name": "stdout",
     "output_type": "stream",
     "text": [
      "Best: -0.256165 using {}\n",
      "-0.256165 (0.100934) with: {}\n"
     ]
    }
   ],
   "source": [
    "# summarize results\n",
    "print(\"Best: %f using %s\" % (grid_result.best_score_, grid_result.best_params_))\n",
    "means = grid_result.cv_results_['mean_test_score']\n",
    "stds = grid_result.cv_results_['std_test_score']\n",
    "params = grid_result.cv_results_['params']\n",
    "for mean, stdev, param in zip(means, stds, params):\n",
    "\tprint(\"%f (%f) with: %r\" % (mean, stdev, param))"
   ],
   "metadata": {
    "collapsed": false,
    "pycharm": {
     "name": "#%%\n"
    }
   }
  },
  {
   "cell_type": "code",
   "execution_count": 36,
   "outputs": [
    {
     "data": {
      "text/plain": "GridSearchCV(estimator=<keras.wrappers.scikit_learn.KerasRegressor object at 0x7fe5f0e6f890>,\n             param_grid={'batch_norm': [True, False], 'epochs': [100],\n                         'lr': [0.01, 0.005, 0.001]},\n             scoring='neg_mean_squared_error', verbose=2)"
     },
     "execution_count": 36,
     "metadata": {},
     "output_type": "execute_result"
    }
   ],
   "source": [
    "\n",
    "grid_result"
   ],
   "metadata": {
    "collapsed": false,
    "pycharm": {
     "name": "#%%\n"
    }
   }
  },
  {
   "cell_type": "code",
   "execution_count": null,
   "outputs": [],
   "source": [
    "grid_result.predict"
   ],
   "metadata": {
    "collapsed": false,
    "pycharm": {
     "name": "#%%\n"
    }
   }
  }
 ],
 "metadata": {
  "kernelspec": {
   "display_name": "Python 3",
   "language": "python",
   "name": "python3"
  },
  "language_info": {
   "codemirror_mode": {
    "name": "ipython",
    "version": 2
   },
   "file_extension": ".py",
   "mimetype": "text/x-python",
   "name": "python",
   "nbconvert_exporter": "python",
   "pygments_lexer": "ipython2",
   "version": "2.7.6"
  }
 },
 "nbformat": 4,
 "nbformat_minor": 0
}