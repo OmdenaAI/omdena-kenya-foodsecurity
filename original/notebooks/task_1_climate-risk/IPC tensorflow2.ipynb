{
 "cells": [
  {
   "cell_type": "code",
   "execution_count": null,
   "metadata": {
    "collapsed": false,
    "jupyter": {
     "outputs_hidden": false
    },
    "pycharm": {
     "name": "#%%\n"
    }
   },
   "outputs": [],
   "source": []
  },
  {
   "cell_type": "code",
   "execution_count": 33,
   "metadata": {
    "collapsed": false,
    "jupyter": {
     "outputs_hidden": false
    },
    "pycharm": {
     "name": "#%%\n"
    }
   },
   "outputs": [],
   "source": [
    "# imports\n",
    "from pathlib import Path\n",
    "import numpy as np\n",
    "import pandas as pd\n",
    "import matplotlib.pyplot as plt\n",
    "import seaborn as sns\n",
    "from datetime import datetime\n",
    "from sklearn.ensemble import RandomForestRegressor\n",
    "\n",
    "\n",
    "%matplotlib inline\n",
    "plt.style.use('classic')\n",
    "\n",
    "%matplotlib inline"
   ]
  },
  {
   "cell_type": "code",
   "execution_count": 3,
   "metadata": {
    "collapsed": false,
    "jupyter": {
     "outputs_hidden": false
    },
    "pycharm": {
     "name": "#%%\n"
    }
   },
   "outputs": [],
   "source": [
    "x = np.load('/home/cajanond/Documents/omdena/GPSDD-Food-Security-Senegal/data/external/x_scaled.npy')\n",
    "gt = np.load('/home/cajanond/Documents/omdena/GPSDD-Food-Security-Senegal/data/external/gt.npy')"
   ]
  },
  {
   "cell_type": "code",
   "execution_count": 4,
   "metadata": {
    "collapsed": false,
    "jupyter": {
     "outputs_hidden": false
    },
    "pycharm": {
     "name": "#%%\n"
    }
   },
   "outputs": [
    {
     "name": "stderr",
     "output_type": "stream",
     "text": [
      "Using TensorFlow backend.\n"
     ]
    }
   ],
   "source": [
    "from keras.preprocessing import sequence\n",
    "import tensorflow as tf\n",
    "from keras.models import Sequential\n",
    "from keras.layers import Dense\n",
    "from keras.layers import LSTM\n",
    "\n",
    "from keras.optimizers import Adam\n",
    "from keras.models import load_model\n",
    "from keras.callbacks import ModelCheckpoint"
   ]
  },
  {
   "cell_type": "code",
   "execution_count": 9,
   "metadata": {
    "collapsed": false,
    "jupyter": {
     "outputs_hidden": false
    },
    "pycharm": {
     "name": "#%%\n"
    }
   },
   "outputs": [],
   "source": [
    "x = np.nan_to_num(x, nan=0)"
   ]
  },
  {
   "cell_type": "code",
   "execution_count": 28,
   "metadata": {
    "collapsed": false,
    "jupyter": {
     "outputs_hidden": false
    },
    "pycharm": {
     "name": "#%%\n"
    }
   },
   "outputs": [],
   "source": [
    "train = x[:200,:,:]\n",
    "train_target = gt[:200]\n",
    "\n",
    "validation = x[200:280,:,:]\n",
    "validation_target = gt[200:280]"
   ]
  },
  {
   "cell_type": "code",
   "execution_count": 11,
   "metadata": {
    "collapsed": false,
    "jupyter": {
     "outputs_hidden": false
    },
    "pycharm": {
     "name": "#%%\n"
    }
   },
   "outputs": [
    {
     "data": {
      "text/plain": [
       "array([[[ 0.        ,  0.04182524, -0.86013969, ..., -0.81659395,\n",
       "          0.74953037, -0.9955823 ],\n",
       "        [ 0.        ,  0.        ,  0.        , ...,  0.        ,\n",
       "          1.        , -1.        ],\n",
       "        [ 0.        ,  0.        ,  0.        , ...,  0.        ,\n",
       "          0.97319975, -0.81507592],\n",
       "        ...,\n",
       "        [ 0.        ,  0.71482894,  1.        , ...,  0.17903889,\n",
       "          0.72273012, -0.92628222],\n",
       "        [ 0.        ,  0.        ,  0.        , ...,  0.        ,\n",
       "          0.72273012, -0.96756913],\n",
       "        [ 0.        ,  0.        ,  0.        , ...,  0.        ,\n",
       "          0.72273012, -0.96756913]],\n",
       "\n",
       "       [[ 0.        ,  0.04182524, -0.86013969, ..., -0.81659395,\n",
       "          0.        ,  0.        ],\n",
       "        [ 0.        ,  0.        ,  0.        , ...,  0.        ,\n",
       "          1.        , -1.        ],\n",
       "        [ 0.        ,  0.        ,  0.        , ...,  0.        ,\n",
       "          1.        , -0.75997093],\n",
       "        ...,\n",
       "        [ 0.        ,  0.71482894,  1.        , ...,  0.17903889,\n",
       "          0.        ,  0.        ],\n",
       "        [ 0.        ,  0.        ,  0.        , ...,  0.        ,\n",
       "          0.        ,  0.        ],\n",
       "        [ 0.        ,  0.        ,  0.        , ...,  0.        ,\n",
       "          0.        ,  0.        ]],\n",
       "\n",
       "       [[ 0.        ,  0.04182524, -0.86013969, ..., -0.81659395,\n",
       "          0.71838919, -0.89097349],\n",
       "        [ 0.        ,  0.        ,  0.        , ...,  0.        ,\n",
       "          1.        , -0.9149038 ],\n",
       "        [ 0.        ,  0.        ,  0.        , ...,  0.        ,\n",
       "          1.        , -1.        ],\n",
       "        ...,\n",
       "        [ 0.        ,  0.71482894,  1.        , ...,  0.17903889,\n",
       "          0.71838919, -0.79525223],\n",
       "        [ 0.        ,  0.        ,  0.        , ...,  0.        ,\n",
       "          1.        , -0.81918254],\n",
       "        [ 0.        ,  0.        ,  0.        , ...,  0.        ,\n",
       "          0.43677837, -0.84311286]],\n",
       "\n",
       "       ...,\n",
       "\n",
       "       [[ 0.        , -0.9372549 , -1.        , ..., -1.        ,\n",
       "          0.        ,  0.        ],\n",
       "        [ 0.        ,  0.        ,  0.        , ...,  0.        ,\n",
       "          0.        ,  0.        ],\n",
       "        [ 0.        ,  0.        ,  0.        , ...,  0.        ,\n",
       "          0.        ,  0.        ],\n",
       "        ...,\n",
       "        [ 0.        , -0.6627451 ,  0.03030303, ..., -0.5257732 ,\n",
       "          0.        ,  0.        ],\n",
       "        [ 0.        ,  0.        ,  0.        , ...,  0.        ,\n",
       "          0.        ,  0.        ],\n",
       "        [ 0.        ,  0.        ,  0.        , ...,  0.        ,\n",
       "          0.        ,  0.        ]],\n",
       "\n",
       "       [[ 0.        , -0.9372549 , -1.        , ..., -1.        ,\n",
       "          0.        ,  0.        ],\n",
       "        [ 0.        ,  0.        ,  0.        , ...,  0.        ,\n",
       "          0.        ,  0.        ],\n",
       "        [ 0.        ,  0.        ,  0.        , ...,  0.        ,\n",
       "          0.        ,  0.        ],\n",
       "        ...,\n",
       "        [ 0.        , -0.6627451 ,  0.03030303, ..., -0.5257732 ,\n",
       "          0.        ,  0.        ],\n",
       "        [ 0.        ,  0.        ,  0.        , ...,  0.        ,\n",
       "          0.        ,  0.        ],\n",
       "        [ 0.        ,  0.        ,  0.        , ...,  0.        ,\n",
       "          0.        ,  0.        ]],\n",
       "\n",
       "       [[ 0.        , -0.9372549 , -1.        , ..., -1.        ,\n",
       "          0.        ,  0.        ],\n",
       "        [ 0.        ,  0.        ,  0.        , ...,  0.        ,\n",
       "          0.        ,  0.        ],\n",
       "        [ 0.        ,  0.        ,  0.        , ...,  0.        ,\n",
       "          0.        ,  0.        ],\n",
       "        ...,\n",
       "        [ 0.        , -0.6627451 ,  0.03030303, ..., -0.5257732 ,\n",
       "          0.        ,  0.        ],\n",
       "        [ 0.        ,  0.        ,  0.        , ...,  0.        ,\n",
       "          0.        ,  0.        ],\n",
       "        [ 0.        ,  0.        ,  0.        , ...,  0.        ,\n",
       "          0.        ,  0.        ]]])"
      ]
     },
     "execution_count": 11,
     "metadata": {},
     "output_type": "execute_result"
    }
   ],
   "source": [
    "train\n"
   ]
  },
  {
   "cell_type": "code",
   "execution_count": 29,
   "metadata": {
    "collapsed": false,
    "jupyter": {
     "outputs_hidden": false
    },
    "pycharm": {
     "name": "#%%\n"
    }
   },
   "outputs": [
    {
     "name": "stdout",
     "output_type": "stream",
     "text": [
      "Model: \"sequential_3\"\n",
      "_________________________________________________________________\n",
      "Layer (type)                 Output Shape              Param #   \n",
      "=================================================================\n",
      "lstm_3 (LSTM)                (None, 126)               70056     \n",
      "_________________________________________________________________\n",
      "dense_3 (Dense)              (None, 1)                 127       \n",
      "=================================================================\n",
      "Total params: 70,183\n",
      "Trainable params: 70,183\n",
      "Non-trainable params: 0\n",
      "_________________________________________________________________\n",
      "Train on 200 samples, validate on 80 samples\n",
      "Epoch 1/100\n",
      "200/200 [==============================] - 2s 10ms/step - loss: 0.2098 - mean_squared_error: 0.2098 - val_loss: 0.1216 - val_mean_squared_error: 0.121\n",
      "Epoch 2/100\n",
      "200/200 [==============================] - 1s 7ms/step - loss: 0.0592 - mean_squared_error: 0.0592 - val_loss: 0.1125 - val_mean_squared_error: 0.11\n",
      "Epoch 3/100\n",
      "200/200 [==============================] - 2s 8ms/step - loss: 0.0583 - mean_squared_error: 0.0583 - val_loss: 0.0379 - val_mean_squared_error: 0.03\n",
      "Epoch 4/100\n",
      "200/200 [==============================] - 2s 8ms/step - loss: 0.0515 - mean_squared_error: 0.0515 - val_loss: 0.1005 - val_mean_squared_error: 0.10\n",
      "Epoch 5/100\n",
      "200/200 [==============================] - 2s 8ms/step - loss: 0.0549 - mean_squared_error: 0.0549 - val_loss: 0.0312 - val_mean_squared_error: 0.03\n",
      "Epoch 6/100\n",
      "200/200 [==============================] - 2s 8ms/step - loss: 0.0560 - mean_squared_error: 0.0560 - val_loss: 0.0371 - val_mean_squared_error: 0.03\n",
      "Epoch 7/100\n",
      "200/200 [==============================] - 1s 7ms/step - loss: 0.0511 - mean_squared_error: 0.0511 - val_loss: 0.0400 - val_mean_squared_error: 0.04\n",
      "Epoch 8/100\n",
      "200/200 [==============================] - 1s 7ms/step - loss: 0.0513 - mean_squared_error: 0.0513 - val_loss: 0.0325 - val_mean_squared_error: 0.03\n",
      "Epoch 9/100\n",
      "200/200 [==============================] - 2s 8ms/step - loss: 0.0465 - mean_squared_error: 0.0465 - val_loss: 0.0364 - val_mean_squared_error: 0.03\n",
      "Epoch 10/100\n",
      "200/200 [==============================] - 2s 8ms/step - loss: 0.0427 - mean_squared_error: 0.0427 - val_loss: 0.0302 - val_mean_squared_error: 0.03\n",
      "Epoch 11/100\n",
      "200/200 [==============================] - 2s 11ms/step - loss: 0.0472 - mean_squared_error: 0.0472 - val_loss: 0.0288 - val_mean_squared_error: 0.028\n",
      "Epoch 12/100\n",
      "200/200 [==============================] - 2s 11ms/step - loss: 0.0487 - mean_squared_error: 0.0487 - val_loss: 0.0384 - val_mean_squared_error: 0.038\n",
      "Epoch 13/100\n",
      "200/200 [==============================] - 2s 10ms/step - loss: 0.0419 - mean_squared_error: 0.0419 - val_loss: 0.0306 - val_mean_squared_error: 0.030\n",
      "Epoch 14/100\n",
      "200/200 [==============================] - 2s 10ms/step - loss: 0.0455 - mean_squared_error: 0.0455 - val_loss: 0.0365 - val_mean_squared_error: 0.036\n",
      "Epoch 15/100\n",
      "200/200 [==============================] - 2s 10ms/step - loss: 0.0417 - mean_squared_error: 0.0417 - val_loss: 0.0511 - val_mean_squared_error: 0.051\n",
      "Epoch 16/100\n",
      "200/200 [==============================] - 2s 10ms/step - loss: 0.0471 - mean_squared_error: 0.0471 - val_loss: 0.0543 - val_mean_squared_error: 0.054\n",
      "Epoch 17/100\n",
      "200/200 [==============================] - 2s 11ms/step - loss: 0.0380 - mean_squared_error: 0.0380 - val_loss: 0.0422 - val_mean_squared_error: 0.042\n",
      "Epoch 18/100\n",
      "200/200 [==============================] - 2s 10ms/step - loss: 0.0404 - mean_squared_error: 0.0404 - val_loss: 0.0589 - val_mean_squared_error: 0.058\n",
      "Epoch 19/100\n",
      "200/200 [==============================] - 3s 16ms/step - loss: 0.0350 - mean_squared_error: 0.0350 - val_loss: 0.0438 - val_mean_squared_error: 0.043\n",
      "Epoch 20/100\n",
      "200/200 [==============================] - 3s 16ms/step - loss: 0.0362 - mean_squared_error: 0.0362 - val_loss: 0.0480 - val_mean_squared_error: 0.048\n",
      "Epoch 21/100\n",
      "200/200 [==============================] - 3s 16ms/step - loss: 0.0315 - mean_squared_error: 0.0315 - val_loss: 0.0440 - val_mean_squared_error: 0.044\n",
      "Epoch 22/100\n",
      "200/200 [==============================] - 3s 14ms/step - loss: 0.0310 - mean_squared_error: 0.0310 - val_loss: 0.0676 - val_mean_squared_error: 0.067\n",
      "Epoch 23/100\n",
      "200/200 [==============================] - 4s 18ms/step - loss: 0.0371 - mean_squared_error: 0.0371 - val_loss: 0.0655 - val_mean_squared_error: 0.065\n",
      "Epoch 24/100\n",
      "200/200 [==============================] - 3s 14ms/step - loss: 0.0392 - mean_squared_error: 0.0392 - val_loss: 0.0364 - val_mean_squared_error: 0.036\n",
      "Epoch 25/100\n",
      "200/200 [==============================] - 2s 12ms/step - loss: 0.0315 - mean_squared_error: 0.0315 - val_loss: 0.0557 - val_mean_squared_error: 0.055\n",
      "Epoch 26/100\n",
      "200/200 [==============================] - 2s 12ms/step - loss: 0.0296 - mean_squared_error: 0.0296 - val_loss: 0.0563 - val_mean_squared_error: 0.056\n",
      "Epoch 27/100\n",
      "200/200 [==============================] - 3s 16ms/step - loss: 0.0271 - mean_squared_error: 0.0271 - val_loss: 0.0590 - val_mean_squared_error: 0.059\n",
      "Epoch 28/100\n",
      "200/200 [==============================] - 3s 15ms/step - loss: 0.0261 - mean_squared_error: 0.0261 - val_loss: 0.0333 - val_mean_squared_error: 0.033\n",
      "Epoch 29/100\n",
      "200/200 [==============================] - 3s 14ms/step - loss: 0.0265 - mean_squared_error: 0.0265 - val_loss: 0.0557 - val_mean_squared_error: 0.055\n",
      "Epoch 30/100\n",
      "200/200 [==============================] - 3s 14ms/step - loss: 0.0214 - mean_squared_error: 0.0214 - val_loss: 0.0439 - val_mean_squared_error: 0.043\n",
      "Epoch 31/100\n",
      "200/200 [==============================] - 3s 14ms/step - loss: 0.0173 - mean_squared_error: 0.0173 - val_loss: 0.1461 - val_mean_squared_error: 0.146\n",
      "Epoch 32/100\n",
      "200/200 [==============================] - 3s 15ms/step - loss: 0.2108 - mean_squared_error: 0.2108 - val_loss: 0.0749 - val_mean_squared_error: 0.074\n",
      "Epoch 33/100\n",
      "200/200 [==============================] - 3s 15ms/step - loss: 0.0378 - mean_squared_error: 0.0378 - val_loss: 0.0483 - val_mean_squared_error: 0.048\n",
      "Epoch 34/100\n",
      "200/200 [==============================] - 3s 14ms/step - loss: 0.0304 - mean_squared_error: 0.0304 - val_loss: 0.0524 - val_mean_squared_error: 0.052\n",
      "Epoch 35/100\n",
      "200/200 [==============================] - 3s 14ms/step - loss: 0.0245 - mean_squared_error: 0.0245 - val_loss: 0.0494 - val_mean_squared_error: 0.049\n",
      "Epoch 36/100\n",
      "200/200 [==============================] - 3s 15ms/step - loss: 0.0223 - mean_squared_error: 0.0223 - val_loss: 0.0570 - val_mean_squared_error: 0.057\n",
      "Epoch 37/100\n",
      "200/200 [==============================] - 3s 14ms/step - loss: 0.0183 - mean_squared_error: 0.0183 - val_loss: 0.0552 - val_mean_squared_error: 0.055\n",
      "Epoch 38/100\n",
      "200/200 [==============================] - 3s 15ms/step - loss: 0.0159 - mean_squared_error: 0.0159 - val_loss: 0.0765 - val_mean_squared_error: 0.076\n",
      "Epoch 39/100\n",
      "200/200 [==============================] - 3s 17ms/step - loss: 0.0150 - mean_squared_error: 0.0150 - val_loss: 0.0670 - val_mean_squared_error: 0.067\n",
      "Epoch 40/100\n",
      "200/200 [==============================] - 3s 17ms/step - loss: 0.0148 - mean_squared_error: 0.0148 - val_loss: 0.0520 - val_mean_squared_error: 0.052\n",
      "Epoch 41/100\n",
      "200/200 [==============================] - 3s 17ms/step - loss: 0.0129 - mean_squared_error: 0.0129 - val_loss: 0.0690 - val_mean_squared_error: 0.069\n",
      "Epoch 42/100\n",
      "200/200 [==============================] - 4s 19ms/step - loss: 0.0125 - mean_squared_error: 0.0125 - val_loss: 0.0678 - val_mean_squared_error: 0.067\n",
      "Epoch 43/100\n",
      "200/200 [==============================] - 3s 17ms/step - loss: 0.0119 - mean_squared_error: 0.0119 - val_loss: 0.0540 - val_mean_squared_error: 0.054\n",
      "Epoch 44/100\n",
      "200/200 [==============================] - 3s 14ms/step - loss: 0.0119 - mean_squared_error: 0.0119 - val_loss: 0.0601 - val_mean_squared_error: 0.060\n",
      "Epoch 45/100\n",
      "200/200 [==============================] - 3s 16ms/step - loss: 0.0106 - mean_squared_error: 0.0106 - val_loss: 0.0495 - val_mean_squared_error: 0.049\n",
      "Epoch 46/100\n",
      "200/200 [==============================] - 3s 16ms/step - loss: 0.0105 - mean_squared_error: 0.0105 - val_loss: 0.0499 - val_mean_squared_error: 0.049\n",
      "Epoch 47/100\n",
      "200/200 [==============================] - 3s 15ms/step - loss: 0.0102 - mean_squared_error: 0.0102 - val_loss: 0.0594 - val_mean_squared_error: 0.059\n",
      "Epoch 48/100\n",
      "200/200 [==============================] - 3s 17ms/step - loss: 0.0094 - mean_squared_error: 0.0094 - val_loss: 0.0736 - val_mean_squared_error: 0.073\n",
      "Epoch 49/100\n",
      "200/200 [==============================] - 3s 17ms/step - loss: 0.0085 - mean_squared_error: 0.0085 - val_loss: 0.0685 - val_mean_squared_error: 0.068\n",
      "Epoch 50/100\n",
      "200/200 [==============================] - 3s 14ms/step - loss: 0.0081 - mean_squared_error: 0.0081 - val_loss: 0.0695 - val_mean_squared_error: 0.069\n",
      "Epoch 51/100\n",
      "200/200 [==============================] - 3s 14ms/step - loss: 0.0086 - mean_squared_error: 0.0086 - val_loss: 0.0729 - val_mean_squared_error: 0.072\n",
      "Epoch 52/100\n",
      "200/200 [==============================] - 3s 14ms/step - loss: 0.0076 - mean_squared_error: 0.0076 - val_loss: 0.0620 - val_mean_squared_error: 0.062\n",
      "Epoch 53/100\n",
      "200/200 [==============================] - 4s 19ms/step - loss: 0.0077 - mean_squared_error: 0.0077 - val_loss: 0.0864 - val_mean_squared_error: 0.086\n",
      "Epoch 54/100\n",
      "200/200 [==============================] - 3s 15ms/step - loss: 0.0072 - mean_squared_error: 0.0072 - val_loss: 0.0749 - val_mean_squared_error: 0.074\n",
      "Epoch 55/100\n",
      "200/200 [==============================] - 3s 14ms/step - loss: 0.0060 - mean_squared_error: 0.0060 - val_loss: 0.0765 - val_mean_squared_error: 0.076\n",
      "Epoch 56/100\n",
      "200/200 [==============================] - 3s 14ms/step - loss: 0.0066 - mean_squared_error: 0.0066 - val_loss: 0.0721 - val_mean_squared_error: 0.072\n",
      "Epoch 57/100\n",
      "200/200 [==============================] - 3s 15ms/step - loss: 0.0066 - mean_squared_error: 0.0066 - val_loss: 0.0815 - val_mean_squared_error: 0.081\n",
      "Epoch 58/100\n",
      "200/200 [==============================] - 3s 16ms/step - loss: 0.0093 - mean_squared_error: 0.0093 - val_loss: 0.0601 - val_mean_squared_error: 0.060\n",
      "Epoch 59/100\n",
      "200/200 [==============================] - 3s 17ms/step - loss: 0.0156 - mean_squared_error: 0.0156 - val_loss: 0.0709 - val_mean_squared_error: 0.070\n",
      "Epoch 60/100\n",
      "200/200 [==============================] - 4s 18ms/step - loss: 0.0090 - mean_squared_error: 0.0090 - val_loss: 0.0823 - val_mean_squared_error: 0.082\n",
      "Epoch 61/100\n",
      "200/200 [==============================] - 3s 15ms/step - loss: 0.0076 - mean_squared_error: 0.0076 - val_loss: 0.0813 - val_mean_squared_error: 0.081\n",
      "Epoch 62/100\n",
      "200/200 [==============================] - 3s 15ms/step - loss: 0.0057 - mean_squared_error: 0.0057 - val_loss: 0.0975 - val_mean_squared_error: 0.097\n",
      "Epoch 63/100\n",
      "200/200 [==============================] - 3s 17ms/step - loss: 0.0126 - mean_squared_error: 0.0126 - val_loss: 0.0479 - val_mean_squared_error: 0.047\n",
      "Epoch 64/100\n",
      "200/200 [==============================] - 3s 16ms/step - loss: 0.0133 - mean_squared_error: 0.0133 - val_loss: 0.0805 - val_mean_squared_error: 0.080\n",
      "Epoch 65/100\n",
      "200/200 [==============================] - 3s 15ms/step - loss: 0.0137 - mean_squared_error: 0.0137 - val_loss: 0.0563 - val_mean_squared_error: 0.056\n",
      "Epoch 66/100\n",
      "200/200 [==============================] - 3s 15ms/step - loss: 0.0067 - mean_squared_error: 0.0067 - val_loss: 0.1203 - val_mean_squared_error: 0.120\n",
      "Epoch 67/100\n",
      "200/200 [==============================] - 3s 15ms/step - loss: 0.0238 - mean_squared_error: 0.0238 - val_loss: 0.0381 - val_mean_squared_error: 0.038\n",
      "Epoch 68/100\n",
      "200/200 [==============================] - 3s 16ms/step - loss: 0.0224 - mean_squared_error: 0.0224 - val_loss: 0.0411 - val_mean_squared_error: 0.041\n",
      "Epoch 69/100\n",
      "200/200 [==============================] - 3s 17ms/step - loss: 0.0118 - mean_squared_error: 0.0118 - val_loss: 0.0612 - val_mean_squared_error: 0.061\n",
      "Epoch 70/100\n",
      "200/200 [==============================] - 3s 16ms/step - loss: 0.0093 - mean_squared_error: 0.0093 - val_loss: 0.0507 - val_mean_squared_error: 0.050\n",
      "Epoch 71/100\n",
      "200/200 [==============================] - 3s 16ms/step - loss: 0.0082 - mean_squared_error: 0.0082 - val_loss: 0.0690 - val_mean_squared_error: 0.069\n",
      "Epoch 72/100\n",
      "200/200 [==============================] - 3s 15ms/step - loss: 0.0072 - mean_squared_error: 0.0072 - val_loss: 0.0738 - val_mean_squared_error: 0.073\n",
      "Epoch 73/100\n",
      "200/200 [==============================] - 3s 15ms/step - loss: 0.0059 - mean_squared_error: 0.0059 - val_loss: 0.0791 - val_mean_squared_error: 0.079\n",
      "Epoch 74/100\n",
      "200/200 [==============================] - 3s 16ms/step - loss: 0.0064 - mean_squared_error: 0.0064 - val_loss: 0.0532 - val_mean_squared_error: 0.053\n",
      "Epoch 75/100\n",
      "200/200 [==============================] - 3s 16ms/step - loss: 0.0068 - mean_squared_error: 0.0068 - val_loss: 0.0465 - val_mean_squared_error: 0.046\n",
      "Epoch 76/100\n",
      "200/200 [==============================] - 3s 16ms/step - loss: 0.0090 - mean_squared_error: 0.0090 - val_loss: 0.0515 - val_mean_squared_error: 0.051\n",
      "Epoch 77/100\n",
      "200/200 [==============================] - 3s 17ms/step - loss: 0.0053 - mean_squared_error: 0.0053 - val_loss: 0.0682 - val_mean_squared_error: 0.068\n",
      "Epoch 78/100\n",
      "200/200 [==============================] - 4s 19ms/step - loss: 0.0043 - mean_squared_error: 0.0043 - val_loss: 0.0683 - val_mean_squared_error: 0.068\n",
      "Epoch 79/100\n",
      "200/200 [==============================] - 4s 20ms/step - loss: 0.0044 - mean_squared_error: 0.0044 - val_loss: 0.0599 - val_mean_squared_error: 0.059\n",
      "Epoch 80/100\n",
      "200/200 [==============================] - 5s 23ms/step - loss: 0.0040 - mean_squared_error: 0.0040 - val_loss: 0.0684 - val_mean_squared_error: 0.068\n",
      "Epoch 81/100\n",
      "200/200 [==============================] - 3s 17ms/step - loss: 0.0040 - mean_squared_error: 0.0040 - val_loss: 0.0629 - val_mean_squared_error: 0.062\n",
      "Epoch 82/100\n",
      "200/200 [==============================] - 3s 16ms/step - loss: 0.0044 - mean_squared_error: 0.0044 - val_loss: 0.0743 - val_mean_squared_error: 0.074\n",
      "Epoch 83/100\n",
      "200/200 [==============================] - 3s 15ms/step - loss: 0.0063 - mean_squared_error: 0.0063 - val_loss: 0.0524 - val_mean_squared_error: 0.052\n",
      "Epoch 84/100\n",
      "200/200 [==============================] - 3s 15ms/step - loss: 0.0125 - mean_squared_error: 0.0125 - val_loss: 0.0840 - val_mean_squared_error: 0.084\n",
      "Epoch 85/100\n",
      "200/200 [==============================] - 3s 14ms/step - loss: 0.0106 - mean_squared_error: 0.0106 - val_loss: 0.0638 - val_mean_squared_error: 0.063\n",
      "Epoch 86/100\n",
      "200/200 [==============================] - 3s 15ms/step - loss: 0.0078 - mean_squared_error: 0.0078 - val_loss: 0.0476 - val_mean_squared_error: 0.047\n",
      "Epoch 87/100\n",
      "200/200 [==============================] - 3s 14ms/step - loss: 0.0133 - mean_squared_error: 0.0133 - val_loss: 0.0592 - val_mean_squared_error: 0.059\n",
      "Epoch 88/100\n",
      "200/200 [==============================] - 3s 15ms/step - loss: 0.0080 - mean_squared_error: 0.0080 - val_loss: 0.0548 - val_mean_squared_error: 0.054\n",
      "Epoch 89/100\n",
      "200/200 [==============================] - 3s 16ms/step - loss: 0.0077 - mean_squared_error: 0.0077 - val_loss: 0.0590 - val_mean_squared_error: 0.059\n",
      "Epoch 90/100\n",
      "200/200 [==============================] - 3s 16ms/step - loss: 0.0058 - mean_squared_error: 0.0058 - val_loss: 0.0654 - val_mean_squared_error: 0.065\n",
      "Epoch 91/100\n",
      "200/200 [==============================] - 3s 16ms/step - loss: 0.0048 - mean_squared_error: 0.0048 - val_loss: 0.0676 - val_mean_squared_error: 0.067\n",
      "Epoch 92/100\n",
      "200/200 [==============================] - 3s 16ms/step - loss: 0.0035 - mean_squared_error: 0.0035 - val_loss: 0.0660 - val_mean_squared_error: 0.066\n",
      "Epoch 93/100\n",
      "200/200 [==============================] - 3s 15ms/step - loss: 0.0038 - mean_squared_error: 0.0038 - val_loss: 0.0574 - val_mean_squared_error: 0.057\n",
      "Epoch 94/100\n",
      "200/200 [==============================] - 3s 16ms/step - loss: 0.0033 - mean_squared_error: 0.0033 - val_loss: 0.0622 - val_mean_squared_error: 0.062\n",
      "Epoch 95/100\n",
      "200/200 [==============================] - 3s 15ms/step - loss: 0.0048 - mean_squared_error: 0.0048 - val_loss: 0.0507 - val_mean_squared_error: 0.050\n",
      "Epoch 96/100\n",
      "200/200 [==============================] - 3s 16ms/step - loss: 0.0043 - mean_squared_error: 0.0043 - val_loss: 0.0679 - val_mean_squared_error: 0.067\n",
      "Epoch 97/100\n",
      "200/200 [==============================] - 3s 15ms/step - loss: 0.0047 - mean_squared_error: 0.0047 - val_loss: 0.0553 - val_mean_squared_error: 0.055\n",
      "Epoch 98/100\n",
      "200/200 [==============================] - 3s 16ms/step - loss: 0.0053 - mean_squared_error: 0.0053 - val_loss: 0.0663 - val_mean_squared_error: 0.066\n",
      "Epoch 99/100\n",
      "200/200 [==============================] - 3s 16ms/step - loss: 0.0043 - mean_squared_error: 0.0043 - val_loss: 0.0535 - val_mean_squared_error: 0.053\n",
      "Epoch 100/100\n",
      "200/200 [==============================] - 3s 16ms/step - loss: 0.0084 - mean_squared_error: 0.0084 - val_loss: 0.0561 - val_mean_squared_error: 0.056\n"
     ]
    },
    {
     "name": "stderr",
     "output_type": "stream",
     "text": [
      "/home/cajanond/anaconda3/envs/omdena_base/lib/python3.7/site-packages/keras/callbacks/callbacks.py:707: RuntimeWarning: Can save best model only with val_acc available, skipping.\n",
      "  'skipping.' % (self.monitor), RuntimeWarning)\n"
     ]
    }
   ],
   "source": [
    "model = Sequential()\n",
    "model.add(LSTM(126, input_shape=(36, 12)))\n",
    "model.add(Dense(1, activation='linear'))\n",
    "\n",
    "model.summary()\n",
    "\n",
    "adam = Adam(lr=0.001)\n",
    "chk = ModelCheckpoint('best_model.pkl',\n",
    "                      monitor='val_acc',\n",
    "                      save_best_only=True,\n",
    "                      mode='max',\n",
    "                      verbose=0)\n",
    "model.compile(loss=tf.keras.losses.MeanSquaredError(),\n",
    "              optimizer=adam,\n",
    "              metrics=[tf.keras.losses.MeanSquaredError()])\n",
    "history = model.fit(train,\n",
    "                      train_target,\n",
    "                      epochs=100,\n",
    "                      batch_size=1,\n",
    "                      callbacks=[chk],\n",
    "                      validation_data=(validation,validation_target))"
   ]
  },
  {
   "cell_type": "code",
   "execution_count": 34,
   "metadata": {
    "collapsed": false,
    "jupyter": {
     "outputs_hidden": false
    },
    "pycharm": {
     "name": "#%%\n"
    }
   },
   "outputs": [
    {
     "name": "stdout",
     "output_type": "stream",
     "text": [
      "dict_keys(['val_loss', 'val_mean_squared_error', 'loss', 'mean_squared_error'])\n"
     ]
    },
    {
     "data": {
      "image/png": "[encoded data removed]",
      "text/plain": [
       "<Figure size 432x288 with 1 Axes>"
      ]
     },
     "metadata": {
      "needs_background": "light"
     },
     "output_type": "display_data"
    },
    {
     "data": {
      "image/png": "[encoded data removed]",
      "text/plain": [
       "<Figure size 432x288 with 1 Axes>"
      ]
     },
     "metadata": {
      "needs_background": "light"
     },
     "output_type": "display_data"
    }
   ],
   "source": [
    "print(history.history.keys())\n",
    "# summarize history for accuracy\n",
    "plt.plot(history.history['mean_squared_error'])\n",
    "plt.plot(history.history['val_mean_squared_error'])\n",
    "plt.title('model MSE')\n",
    "plt.ylabel('MSE')\n",
    "plt.xlabel('epoch')\n",
    "plt.legend(['train', 'validation'], loc='upper left')\n",
    "plt.show()\n",
    "# summarize history for loss\n",
    "plt.plot(history.history['loss'])\n",
    "plt.plot(history.history['val_loss'])\n",
    "plt.title('model loss')\n",
    "plt.ylabel('loss')\n",
    "plt.xlabel('epoch')\n",
    "plt.legend(['train', 'validation'], loc='upper left')\n",
    "plt.show()"
   ]
  },
  {
   "cell_type": "code",
   "execution_count": 20,
   "metadata": {
    "collapsed": false,
    "jupyter": {
     "outputs_hidden": false
    },
    "pycharm": {
     "name": "#%%\n"
    }
   },
   "outputs": [
    {
     "data": {
      "text/plain": [
       "1.6599940546634435"
      ]
     },
     "execution_count": 20,
     "metadata": {},
     "output_type": "execute_result"
    }
   ],
   "source": [
    "validation_target[0]"
   ]
  },
  {
   "cell_type": "code",
   "execution_count": 21,
   "metadata": {
    "collapsed": false,
    "jupyter": {
     "outputs_hidden": false
    },
    "pycharm": {
     "name": "#%%\n"
    }
   },
   "outputs": [
    {
     "data": {
      "text/plain": [
       "array([[1.1998404],\n",
       "       [1.8129481],\n",
       "       [1.5627602],\n",
       "       [1.3147056],\n",
       "       [1.4329282],\n",
       "       [1.3162189],\n",
       "       [1.219252 ],\n",
       "       [1.1929874],\n",
       "       [1.1314093],\n",
       "       [1.198275 ],\n",
       "       [1.2194244],\n",
       "       [1.4300214],\n",
       "       [1.4374312],\n",
       "       [1.250591 ],\n",
       "       [1.3646423],\n",
       "       [1.438284 ],\n",
       "       [1.3857632],\n",
       "       [1.5111343],\n",
       "       [1.1757632],\n",
       "       [1.3958876],\n",
       "       [1.7092086],\n",
       "       [1.3385767],\n",
       "       [1.3880204],\n",
       "       [1.2395382],\n",
       "       [1.2395382],\n",
       "       [1.150771 ],\n",
       "       [1.6269745],\n",
       "       [1.6296195],\n",
       "       [1.4145087],\n",
       "       [1.1555351],\n",
       "       [1.3908964],\n",
       "       [1.3960811],\n",
       "       [1.2412727],\n",
       "       [1.4762344],\n",
       "       [1.2231725],\n",
       "       [1.1166216],\n",
       "       [1.1538327],\n",
       "       [1.2410637],\n",
       "       [1.21967  ],\n",
       "       [1.2513996],\n",
       "       [1.3418325],\n",
       "       [1.2706478],\n",
       "       [1.2870575],\n",
       "       [1.260744 ],\n",
       "       [1.4585024],\n",
       "       [1.4731117],\n",
       "       [1.3081048],\n",
       "       [1.3264612],\n",
       "       [1.2703267],\n",
       "       [1.1924151],\n",
       "       [1.493699 ],\n",
       "       [1.1346835],\n",
       "       [1.136508 ],\n",
       "       [1.1391559],\n",
       "       [1.2399938],\n",
       "       [1.3867359],\n",
       "       [1.3626068],\n",
       "       [1.3963383],\n",
       "       [1.2364074],\n",
       "       [1.3365297],\n",
       "       [1.2382817],\n",
       "       [1.4187686],\n",
       "       [1.7105664],\n",
       "       [1.5606164],\n",
       "       [1.6199166],\n",
       "       [1.8426055],\n",
       "       [1.4980382],\n",
       "       [1.5487303],\n",
       "       [1.6278609],\n",
       "       [1.6278609],\n",
       "       [1.5141152],\n",
       "       [1.7573417],\n",
       "       [1.6531681],\n",
       "       [1.1354836],\n",
       "       [1.2366805],\n",
       "       [1.1834471],\n",
       "       [1.4726592],\n",
       "       [1.4335817],\n",
       "       [1.2922167],\n",
       "       [1.5130373],\n",
       "       [1.3357837],\n",
       "       [1.414841 ],\n",
       "       [1.3872749],\n",
       "       [1.2619511],\n",
       "       [1.5509803],\n",
       "       [1.1261632],\n",
       "       [1.6473929],\n",
       "       [1.590433 ],\n",
       "       [1.230071 ],\n",
       "       [1.5240353],\n",
       "       [1.3291227],\n",
       "       [1.6888788],\n",
       "       [1.5504504],\n",
       "       [1.1237403],\n",
       "       [1.2273709],\n",
       "       [1.3001616],\n",
       "       [1.7895042],\n",
       "       [1.7586259],\n",
       "       [1.815695 ],\n",
       "       [1.4298382],\n",
       "       [1.5298353],\n",
       "       [1.254643 ],\n",
       "       [2.0323281],\n",
       "       [1.3086028],\n",
       "       [1.3395547],\n",
       "       [1.2896796],\n",
       "       [1.3099314],\n",
       "       [1.5509144],\n",
       "       [1.2722987],\n",
       "       [1.6034085],\n",
       "       [1.9713713],\n",
       "       [1.6561927],\n",
       "       [1.2175361],\n",
       "       [1.2572981],\n",
       "       [1.2572981],\n",
       "       [1.4767104],\n",
       "       [1.7173735],\n",
       "       [1.2543286],\n",
       "       [1.1797708],\n",
       "       [1.732987 ],\n",
       "       [1.1613985],\n",
       "       [1.2397754],\n",
       "       [1.2536137],\n",
       "       [1.3105031],\n",
       "       [1.6181215],\n",
       "       [1.6403873],\n",
       "       [1.6010216],\n",
       "       [1.2933342],\n",
       "       [1.339655 ],\n",
       "       [1.409623 ],\n",
       "       [1.3325437],\n",
       "       [1.5945159],\n",
       "       [1.6843675],\n",
       "       [1.6305751],\n",
       "       [1.5217197],\n",
       "       [1.4593068],\n",
       "       [1.3167988],\n",
       "       [1.3144263],\n",
       "       [1.1813056],\n",
       "       [1.4379215],\n",
       "       [1.2673341],\n",
       "       [1.5105387],\n",
       "       [1.5913216],\n",
       "       [1.5979934],\n",
       "       [1.2953626],\n",
       "       [1.4592143],\n",
       "       [1.6102197],\n",
       "       [1.5033265],\n",
       "       [1.109615 ],\n",
       "       [1.2420588],\n",
       "       [1.2538987],\n",
       "       [1.2478905],\n",
       "       [1.4432544],\n",
       "       [1.394435 ],\n",
       "       [1.4476218],\n",
       "       [1.9987777],\n",
       "       [1.6352648],\n",
       "       [1.5737835],\n",
       "       [1.5053445],\n",
       "       [1.5053445],\n",
       "       [1.4294957],\n",
       "       [1.3350006],\n",
       "       [1.2891439],\n",
       "       [1.7049063],\n",
       "       [1.5611174],\n",
       "       [1.5825621],\n",
       "       [1.4088384],\n",
       "       [1.4326802],\n",
       "       [1.3768626],\n",
       "       [1.3960036],\n",
       "       [1.6461693],\n",
       "       [1.4227368],\n",
       "       [1.546547 ],\n",
       "       [1.566976 ],\n",
       "       [1.4823438],\n",
       "       [1.737597 ],\n",
       "       [1.3318611],\n",
       "       [1.3880522],\n",
       "       [1.3873585],\n",
       "       [1.4400283],\n",
       "       [1.557702 ],\n",
       "       [1.4605092],\n",
       "       [1.5130298],\n",
       "       [1.8695526],\n",
       "       [1.5025777],\n",
       "       [1.8756175],\n",
       "       [1.4541894],\n",
       "       [1.3628207],\n",
       "       [1.5682749],\n",
       "       [1.497451 ],\n",
       "       [1.4266397],\n",
       "       [1.5922376],\n",
       "       [1.6037825],\n",
       "       [1.5997092],\n",
       "       [1.4695901],\n",
       "       [1.5292407],\n",
       "       [1.4326972],\n",
       "       [1.4587895],\n",
       "       [1.4570112],\n",
       "       [1.4991304],\n",
       "       [1.6204344],\n",
       "       [1.5974851],\n",
       "       [1.7506636],\n",
       "       [1.4276975],\n",
       "       [1.4276975]], dtype=float32)"
      ]
     },
     "execution_count": 21,
     "metadata": {},
     "output_type": "execute_result"
    }
   ],
   "source": [
    "history.model.predict(validation)"
   ]
  },
  {
   "cell_type": "code",
   "execution_count": 22,
   "metadata": {
    "collapsed": false,
    "jupyter": {
     "outputs_hidden": false
    },
    "pycharm": {
     "name": "#%%\n"
    }
   },
   "outputs": [
    {
     "data": {
      "text/plain": [
       "array([1.65999405e+000, 1.18999990e+000, 1.15000007e+000, 1.14000039e+000,\n",
       "       1.14999390e+000, 1.21003579e+000, 1.10999848e+000, 1.18999587e+000,\n",
       "       1.24999729e+000, 1.42001333e+000, 1.19999940e+000, 1.25000085e+000,\n",
       "       1.23998747e+000, 1.16999960e+000, 1.24000101e+000, 1.16000108e+000,\n",
       "       1.12000015e+000, 1.26000222e+000, 1.09999556e+000, 1.50000806e+000,\n",
       "       1.25000076e+000, 1.27999778e+000, 1.29000303e+000, 1.36001360e+000,\n",
       "       1.64000743e+000, 1.10000070e+000, 1.18999907e+000, 1.14001975e+000,\n",
       "       1.20999873e+000, 1.16999749e+000, 1.15999864e+000, 1.20000093e+000,\n",
       "       1.22999726e+000, 1.12999937e+000, 1.18999760e+000, 1.11000047e+000,\n",
       "       1.22999919e+000, 1.18000166e+000, 1.14000013e+000, 1.15999790e+000,\n",
       "       1.34000691e+000, 1.42998348e+000, 1.16999811e+000, 1.14500050e+000,\n",
       "       1.08000031e+000, 1.17000494e+000, 1.11999934e+000, 1.10000000e+000,\n",
       "       1.18000828e+000, 1.16999989e+000, 1.21999717e+000, 1.23000184e+000,\n",
       "       1.31000272e+000, 1.19000239e+000, 1.36000350e+000, 1.46000093e+000,\n",
       "       1.21999816e+000, 1.15999898e+000, 1.30999786e+000, 1.46000004e+000,\n",
       "       1.07000070e+000, 1.40004488e+000, 1.55000760e+000, 1.33000483e+000,\n",
       "       1.60002428e+000, 1.21000533e+000, 1.96999748e+000, 1.11999973e+000,\n",
       "       1.41000086e+000, 1.15999869e+000, 1.55000038e+000, 1.31999829e+000,\n",
       "       1.11999967e+000, 1.20000226e+000, 1.13999776e+000, 1.09999953e+000,\n",
       "       1.35000704e+000, 1.04000045e+000, 1.39999940e+000, 1.23999817e+000,\n",
       "       1.06999995e+000, 1.12000045e+000, 1.24999660e+000, 1.15499760e+000,\n",
       "       1.22000037e+000, 1.08000035e+000, 1.13000017e+000, 1.28000000e+000,\n",
       "       1.06000019e+000, 1.25000000e+000, 1.08000142e+000, 1.11000207e+000,\n",
       "       1.05000076e+000, 1.20999372e+000, 1.28999896e+000, 1.10000099e+000,\n",
       "       1.36000017e+000, 6.94614143e-310, 1.18575755e-320, 1.34435262e-320,\n",
       "       6.94616023e-310, 4.66332798e-310, 0.00000000e+000, 0.00000000e+000,\n",
       "       1.50008929e+248, 1.32063747e-320, 6.94616023e-310, 4.66332832e-310,\n",
       "       0.00000000e+000, 0.00000000e+000, 4.47593816e-091, 4.47593816e-091,\n",
       "       4.47593816e-091, 4.47593816e-091, 4.47593816e-091, 4.47593816e-091,\n",
       "       4.47593816e-091, 4.47593816e-091, 1.06032943e+136, 9.02193423e+217,\n",
       "       9.16281386e-072, 5.20806037e+045, 6.99177908e+228, 1.61410559e+132,\n",
       "       6.01347002e-154, 6.01347002e-154, 6.01347002e-154, 6.01347002e-154,\n",
       "       9.85330622e+165, 1.09865413e+248, 6.96407597e+252, 1.97717802e+161,\n",
       "       2.11212619e+257, 6.60925411e-062, 1.49460967e+195, 9.82391603e+252,\n",
       "       1.40834190e-075, 2.98711545e-032, 1.61410559e+132, 2.11161559e+257,\n",
       "       6.60925411e-062, 2.88067937e+214, 9.89803615e+164, 2.13413011e+257,\n",
       "       1.69724950e+137, 1.61410559e+132, 6.01390857e-154, 1.42137847e-076,\n",
       "       6.01390853e-154, 2.11152591e+257, 3.62530293e+233, 1.42137879e-076,\n",
       "       2.95164082e-075, 3.06370797e-057, 9.89803615e+164, 9.16281387e-072,\n",
       "       2.95166873e-075, 2.13412571e+257, 6.60925411e-062, 9.16281386e-072,\n",
       "       1.42137876e-076, 1.11416848e+218, 9.45956265e-076, 1.61410559e+132,\n",
       "       2.95164085e-075, 2.13412571e+257, 1.69724950e+137, 1.61410559e+132,\n",
       "       6.01390857e-154, 1.42137847e-076, 6.01390853e-154, 2.11152591e+257,\n",
       "       6.60925411e-062, 3.28362707e+199, 4.34855738e+276, 4.25584095e-119,\n",
       "       5.58066573e+140, 8.29654876e-114, 2.10935474e-110, 4.34855744e+276,\n",
       "       4.51075644e+223, 2.64986898e+180, 7.26589333e+223, 8.18002004e+140,\n",
       "       3.11461740e+161, 3.11846553e+161, 1.42137879e-076, 2.95164082e-075,\n",
       "       3.06370797e-057, 1.61410559e+132, 9.89803615e+164, 2.13413011e+257,\n",
       "       1.69724950e+137, 1.35301660e-023, 9.16281387e-072, 1.42137876e-076,\n",
       "       1.76540643e+137, 1.35301660e-023, 3.39658822e-009, 9.89803615e+164,\n",
       "       6.12573363e-154, 5.86031536e+135, 9.02193423e+217, 9.16281387e-072,\n",
       "       2.95147897e-075])"
      ]
     },
     "execution_count": 22,
     "metadata": {},
     "output_type": "execute_result"
    }
   ],
   "source": [
    "validation_target"
   ]
  },
  {
   "cell_type": "code",
   "execution_count": null,
   "metadata": {
    "collapsed": false,
    "jupyter": {
     "outputs_hidden": false
    },
    "pycharm": {
     "name": "#%%\n"
    }
   },
   "outputs": [],
   "source": [
    "chk.model.predict(validation)"
   ]
  },
  {
   "cell_type": "code",
   "execution_count": 27,
   "metadata": {
    "collapsed": false,
    "jupyter": {
     "outputs_hidden": false
    },
    "pycharm": {
     "name": "#%%\n"
    }
   },
   "outputs": [
    {
     "data": {
      "text/plain": [
       "[<matplotlib.lines.Line2D at 0x7f389430ea50>]"
      ]
     },
     "execution_count": 27,
     "metadata": {},
     "output_type": "execute_result"
    },
    {
     "data": {
      "image/png": "[encoded data removed]",
      "text/plain": [
       "<Figure size 432x288 with 1 Axes>"
      ]
     },
     "metadata": {
      "needs_background": "dark"
     },
     "output_type": "display_data"
    }
   ],
   "source": [
    "plt.plot(validation_target[:80])"
   ]
  },
  {
   "cell_type": "code",
   "execution_count": null,
   "metadata": {
    "collapsed": false,
    "jupyter": {
     "outputs_hidden": false
    },
    "pycharm": {
     "name": "#%%\n"
    }
   },
   "outputs": [],
   "source": []
  }
 ],
 "metadata": {
  "kernelspec": {
   "display_name": "Python 3",
   "language": "python",
   "name": "python3"
  },
  "language_info": {
   "codemirror_mode": {
    "name": "ipython",
    "version": 3
   },
   "file_extension": ".py",
   "mimetype": "text/x-python",
   "name": "python",
   "nbconvert_exporter": "python",
   "pygments_lexer": "ipython3",
   "version": "3.7.9"
  }
 },
 "nbformat": 4,
 "nbformat_minor": 4
}
