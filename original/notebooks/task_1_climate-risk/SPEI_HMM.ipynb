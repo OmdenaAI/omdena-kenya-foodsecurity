{
 "cells": [
  {
   "cell_type": "code",
   "execution_count": 48,
   "metadata": {},
   "outputs": [],
   "source": [
    "import pandas as pd\n",
    "import numpy as np\n",
    "import xarray as xr\n",
    "import geopandas as gpd\n",
    "import matplotlib.pyplot as plt\n",
    "import seaborn as sns\n",
    "import os\n",
    "from hmmlearn import hmm"
   ]
  },
  {
   "cell_type": "code",
   "execution_count": null,
   "metadata": {},
   "outputs": [],
   "source": [
    "os.getcwd()"
   ]
  },
  {
   "cell_type": "code",
   "execution_count": 3,
   "metadata": {},
   "outputs": [],
   "source": [
    "os.chdir('..')\n",
    "\n",
    "fp = 'data/senegal_weather_spei_1970_2020_025x025_v3.csv'\n",
    "\n",
    "spei_gdf = pd.read_csv(fp)"
   ]
  },
  {
   "cell_type": "code",
   "execution_count": 4,
   "metadata": {},
   "outputs": [],
   "source": [
    "spei_gdf['date_of_obs'] = pd.to_datetime(spei_gdf['year'].astype(str)+'/'+spei_gdf['month'].astype(str)+'/01')\n",
    "spei_gdf = spei_gdf.set_index(['id','date_of_obs'])\n"
   ]
  },
  {
   "cell_type": "code",
   "execution_count": 6,
   "metadata": {},
   "outputs": [
    {
     "data": {
      "text/html": [
       "<div>\n",
       "<style scoped>\n",
       "    .dataframe tbody tr th:only-of-type {\n",
       "        vertical-align: middle;\n",
       "    }\n",
       "\n",
       "    .dataframe tbody tr th {\n",
       "        vertical-align: top;\n",
       "    }\n",
       "\n",
       "    .dataframe thead th {\n",
       "        text-align: right;\n",
       "    }\n",
       "</style>\n",
       "<table border=\"1\" class=\"dataframe\">\n",
       "  <thead>\n",
       "    <tr style=\"text-align: right;\">\n",
       "      <th></th>\n",
       "      <th></th>\n",
       "      <th>Unnamed: 0</th>\n",
       "      <th>year</th>\n",
       "      <th>month</th>\n",
       "      <th>gpslat</th>\n",
       "      <th>gpslon</th>\n",
       "      <th>total_precipitation</th>\n",
       "      <th>temperature</th>\n",
       "      <th>relative_humidity</th>\n",
       "      <th>humidex</th>\n",
       "      <th>surface_solar_radiation</th>\n",
       "      <th>...</th>\n",
       "      <th>soil_temperature_level_1</th>\n",
       "      <th>soil_temperature_level_2</th>\n",
       "      <th>soil_temperature_level_3</th>\n",
       "      <th>soil_temperature_level_4</th>\n",
       "      <th>spei_1mon</th>\n",
       "      <th>spei_3mon</th>\n",
       "      <th>spei_6mon</th>\n",
       "      <th>spei_12mon</th>\n",
       "      <th>spei_24mon</th>\n",
       "      <th>spei_48mon</th>\n",
       "    </tr>\n",
       "    <tr>\n",
       "      <th>id</th>\n",
       "      <th>date_of_obs</th>\n",
       "      <th></th>\n",
       "      <th></th>\n",
       "      <th></th>\n",
       "      <th></th>\n",
       "      <th></th>\n",
       "      <th></th>\n",
       "      <th></th>\n",
       "      <th></th>\n",
       "      <th></th>\n",
       "      <th></th>\n",
       "      <th></th>\n",
       "      <th></th>\n",
       "      <th></th>\n",
       "      <th></th>\n",
       "      <th></th>\n",
       "      <th></th>\n",
       "      <th></th>\n",
       "      <th></th>\n",
       "      <th></th>\n",
       "      <th></th>\n",
       "      <th></th>\n",
       "    </tr>\n",
       "  </thead>\n",
       "  <tbody>\n",
       "    <tr>\n",
       "      <th rowspan=\"3\" valign=\"top\">6</th>\n",
       "      <th>1970-01-01</th>\n",
       "      <td>0</td>\n",
       "      <td>1970</td>\n",
       "      <td>1</td>\n",
       "      <td>16.692072</td>\n",
       "      <td>-16.043186</td>\n",
       "      <td>0.0</td>\n",
       "      <td>23.194412</td>\n",
       "      <td>0.333824</td>\n",
       "      <td>22.962059</td>\n",
       "      <td>231.441176</td>\n",
       "      <td>...</td>\n",
       "      <td>24.512353</td>\n",
       "      <td>25.345588</td>\n",
       "      <td>26.505000</td>\n",
       "      <td>29.255000</td>\n",
       "      <td>0.061824</td>\n",
       "      <td>NaN</td>\n",
       "      <td>NaN</td>\n",
       "      <td>NaN</td>\n",
       "      <td>NaN</td>\n",
       "      <td>NaN</td>\n",
       "    </tr>\n",
       "    <tr>\n",
       "      <th>1970-02-01</th>\n",
       "      <td>1</td>\n",
       "      <td>1970</td>\n",
       "      <td>2</td>\n",
       "      <td>16.692072</td>\n",
       "      <td>-16.043186</td>\n",
       "      <td>0.0</td>\n",
       "      <td>25.701786</td>\n",
       "      <td>0.325000</td>\n",
       "      <td>25.835714</td>\n",
       "      <td>239.714286</td>\n",
       "      <td>...</td>\n",
       "      <td>27.333571</td>\n",
       "      <td>27.025714</td>\n",
       "      <td>26.521071</td>\n",
       "      <td>28.273929</td>\n",
       "      <td>-0.595051</td>\n",
       "      <td>NaN</td>\n",
       "      <td>NaN</td>\n",
       "      <td>NaN</td>\n",
       "      <td>NaN</td>\n",
       "      <td>NaN</td>\n",
       "    </tr>\n",
       "    <tr>\n",
       "      <th>1970-03-01</th>\n",
       "      <td>2</td>\n",
       "      <td>1970</td>\n",
       "      <td>3</td>\n",
       "      <td>16.692072</td>\n",
       "      <td>-16.043186</td>\n",
       "      <td>0.0</td>\n",
       "      <td>25.656452</td>\n",
       "      <td>0.401613</td>\n",
       "      <td>27.049355</td>\n",
       "      <td>288.419355</td>\n",
       "      <td>...</td>\n",
       "      <td>28.188387</td>\n",
       "      <td>28.153226</td>\n",
       "      <td>28.197419</td>\n",
       "      <td>28.140645</td>\n",
       "      <td>0.080660</td>\n",
       "      <td>-0.224773</td>\n",
       "      <td>NaN</td>\n",
       "      <td>NaN</td>\n",
       "      <td>NaN</td>\n",
       "      <td>NaN</td>\n",
       "    </tr>\n",
       "  </tbody>\n",
       "</table>\n",
       "<p>3 rows × 22 columns</p>\n",
       "</div>"
      ],
      "text/plain": [
       "                Unnamed: 0  year  month     gpslat     gpslon  \\\n",
       "id date_of_obs                                                  \n",
       "6  1970-01-01            0  1970      1  16.692072 -16.043186   \n",
       "   1970-02-01            1  1970      2  16.692072 -16.043186   \n",
       "   1970-03-01            2  1970      3  16.692072 -16.043186   \n",
       "\n",
       "                total_precipitation  temperature  relative_humidity  \\\n",
       "id date_of_obs                                                        \n",
       "6  1970-01-01                   0.0    23.194412           0.333824   \n",
       "   1970-02-01                   0.0    25.701786           0.325000   \n",
       "   1970-03-01                   0.0    25.656452           0.401613   \n",
       "\n",
       "                  humidex  surface_solar_radiation  ...  \\\n",
       "id date_of_obs                                      ...   \n",
       "6  1970-01-01   22.962059               231.441176  ...   \n",
       "   1970-02-01   25.835714               239.714286  ...   \n",
       "   1970-03-01   27.049355               288.419355  ...   \n",
       "\n",
       "                soil_temperature_level_1  soil_temperature_level_2  \\\n",
       "id date_of_obs                                                       \n",
       "6  1970-01-01                  24.512353                 25.345588   \n",
       "   1970-02-01                  27.333571                 27.025714   \n",
       "   1970-03-01                  28.188387                 28.153226   \n",
       "\n",
       "                soil_temperature_level_3  soil_temperature_level_4  spei_1mon  \\\n",
       "id date_of_obs                                                                  \n",
       "6  1970-01-01                  26.505000                 29.255000   0.061824   \n",
       "   1970-02-01                  26.521071                 28.273929  -0.595051   \n",
       "   1970-03-01                  28.197419                 28.140645   0.080660   \n",
       "\n",
       "                spei_3mon  spei_6mon  spei_12mon  spei_24mon  spei_48mon  \n",
       "id date_of_obs                                                            \n",
       "6  1970-01-01         NaN        NaN         NaN         NaN         NaN  \n",
       "   1970-02-01         NaN        NaN         NaN         NaN         NaN  \n",
       "   1970-03-01   -0.224773        NaN         NaN         NaN         NaN  \n",
       "\n",
       "[3 rows x 22 columns]"
      ]
     },
     "execution_count": 6,
     "metadata": {},
     "output_type": "execute_result"
    }
   ],
   "source": [
    "spei_gdf.head(3)"
   ]
  },
  {
   "cell_type": "code",
   "execution_count": 41,
   "metadata": {},
   "outputs": [
    {
     "data": {
      "text/html": [
       "<div>\n",
       "<style scoped>\n",
       "    .dataframe tbody tr th:only-of-type {\n",
       "        vertical-align: middle;\n",
       "    }\n",
       "\n",
       "    .dataframe tbody tr th {\n",
       "        vertical-align: top;\n",
       "    }\n",
       "\n",
       "    .dataframe thead th {\n",
       "        text-align: right;\n",
       "    }\n",
       "</style>\n",
       "<table border=\"1\" class=\"dataframe\">\n",
       "  <thead>\n",
       "    <tr style=\"text-align: right;\">\n",
       "      <th></th>\n",
       "      <th></th>\n",
       "      <th>spei_12mon</th>\n",
       "    </tr>\n",
       "    <tr>\n",
       "      <th>id</th>\n",
       "      <th>date_of_obs</th>\n",
       "      <th></th>\n",
       "    </tr>\n",
       "  </thead>\n",
       "  <tbody>\n",
       "    <tr>\n",
       "      <th rowspan=\"3\" valign=\"top\">6</th>\n",
       "      <th>1990-01-01</th>\n",
       "      <td>-0.328500</td>\n",
       "    </tr>\n",
       "    <tr>\n",
       "      <th>1990-02-01</th>\n",
       "      <td>-0.757287</td>\n",
       "    </tr>\n",
       "    <tr>\n",
       "      <th>1990-03-01</th>\n",
       "      <td>-1.364140</td>\n",
       "    </tr>\n",
       "  </tbody>\n",
       "</table>\n",
       "</div>"
      ],
      "text/plain": [
       "                spei_12mon\n",
       "id date_of_obs            \n",
       "6  1990-01-01    -0.328500\n",
       "   1990-02-01    -0.757287\n",
       "   1990-03-01    -1.364140"
      ]
     },
     "execution_count": 41,
     "metadata": {},
     "output_type": "execute_result"
    }
   ],
   "source": [
    "#single_pt_spei_12 = spei_gdf.loc[6,'1990-01-01':'2020-01-01']['spei_12mon'].reset_index(level=['id']).copy()\n",
    "single_pt_spei_12 = pd.DataFrame()\n",
    "single_pt_spei_12.loc[:,'spei_12mon'] = spei_gdf.xs((6,slice('1990-01-01','2020-01-01')),level=('id','date_of_obs'))['spei_12mon']\n",
    "# single_pt_spei_12.reset_index(level=['id'],inplace=True)\n",
    "# single_pt_spei_12.drop(columns=['id'],inplace=True)\n",
    "single_pt_spei_12.head(3)"
   ]
  },
  {
   "cell_type": "code",
   "execution_count": 32,
   "metadata": {},
   "outputs": [
    {
     "name": "stdout",
     "output_type": "stream",
     "text": [
      "[]\n"
     ]
    }
   ],
   "source": [
    "np.linspace(-2.5,2.5,11)\n",
    "print(np.arange(11,0))"
   ]
  },
  {
   "cell_type": "code",
   "execution_count": 44,
   "metadata": {},
   "outputs": [
    {
     "data": {
      "text/html": [
       "<div>\n",
       "<style scoped>\n",
       "    .dataframe tbody tr th:only-of-type {\n",
       "        vertical-align: middle;\n",
       "    }\n",
       "\n",
       "    .dataframe tbody tr th {\n",
       "        vertical-align: top;\n",
       "    }\n",
       "\n",
       "    .dataframe thead th {\n",
       "        text-align: right;\n",
       "    }\n",
       "</style>\n",
       "<table border=\"1\" class=\"dataframe\">\n",
       "  <thead>\n",
       "    <tr style=\"text-align: right;\">\n",
       "      <th></th>\n",
       "      <th></th>\n",
       "      <th>spei_12mon</th>\n",
       "      <th>spei_12_cat</th>\n",
       "    </tr>\n",
       "    <tr>\n",
       "      <th>id</th>\n",
       "      <th>date_of_obs</th>\n",
       "      <th></th>\n",
       "      <th></th>\n",
       "    </tr>\n",
       "  </thead>\n",
       "  <tbody>\n",
       "    <tr>\n",
       "      <th rowspan=\"3\" valign=\"top\">6</th>\n",
       "      <th>1990-01-01</th>\n",
       "      <td>-0.328500</td>\n",
       "      <td>4</td>\n",
       "    </tr>\n",
       "    <tr>\n",
       "      <th>1990-02-01</th>\n",
       "      <td>-0.757287</td>\n",
       "      <td>3</td>\n",
       "    </tr>\n",
       "    <tr>\n",
       "      <th>1990-03-01</th>\n",
       "      <td>-1.364140</td>\n",
       "      <td>2</td>\n",
       "    </tr>\n",
       "  </tbody>\n",
       "</table>\n",
       "</div>"
      ],
      "text/plain": [
       "                spei_12mon  spei_12_cat\n",
       "id date_of_obs                         \n",
       "6  1990-01-01    -0.328500            4\n",
       "   1990-02-01    -0.757287            3\n",
       "   1990-03-01    -1.364140            2"
      ]
     },
     "execution_count": 44,
     "metadata": {},
     "output_type": "execute_result"
    }
   ],
   "source": [
    "#drought_bins = pd.IntervalIndex.from_tuples([(-5,-2),(-1.999,-1.5),(-1.499,-1),(-0.999,0.999),(1, 1.499),(1.5, 1.999),(2, 5)])\n",
    "#single_pt_spei_12_classes = pd.cut(single_pt_spei_12,bins = np.linspace(-2.5,2.5,11))#, labels=[1,2,3,4,5,6,7,6,9,10,11])\n",
    "#single_pt_spei_12_classes = pd.cut(single_pt_spei_12,bins = np.linspace(-2.5,2.5,11),labels=False,retbins=True,right=False)\n",
    "\n",
    "single_pt_spei_12.loc[:,'spei_12_cat'] = pd.cut(single_pt_spei_12.spei_12mon,bins = np.linspace(-2.5,2.5,11),labels=False)\n",
    "single_pt_spei_12.head(3)"
   ]
  },
  {
   "cell_type": "code",
   "execution_count": 45,
   "metadata": {},
   "outputs": [],
   "source": [
    "X = single_pt_spei_12.spei_12_cat.to_numpy()"
   ]
  },
  {
   "cell_type": "code",
   "execution_count": 53,
   "metadata": {},
   "outputs": [
    {
     "data": {
      "text/plain": [
       "(361, 1)"
      ]
     },
     "execution_count": 53,
     "metadata": {},
     "output_type": "execute_result"
    }
   ],
   "source": [
    "X.reshape(-1,1).shape"
   ]
  },
  {
   "cell_type": "code",
   "execution_count": 54,
   "metadata": {},
   "outputs": [
    {
     "name": "stderr",
     "output_type": "stream",
     "text": [
      "C:\\Anaconda3\\envs\\omdena-GPSDD\\lib\\site-packages\\hmmlearn\\hmm.py:207: ConvergenceWarning: Number of distinct clusters (9) found smaller than n_clusters (11). Possibly due to duplicate points in X.\n",
      "  kmeans.fit(X)\n"
     ]
    },
    {
     "data": {
      "text/plain": [
       "GaussianHMM(covariance_type='full', n_components=11)"
      ]
     },
     "execution_count": 54,
     "metadata": {},
     "output_type": "execute_result"
    }
   ],
   "source": [
    "trial_model = hmm.GaussianHMM(n_components=11, covariance_type='full', n_iter=10)\n",
    "trial_model.fit(X.reshape(-1,1))"
   ]
  },
  {
   "cell_type": "code",
   "execution_count": 58,
   "metadata": {},
   "outputs": [
    {
     "data": {
      "text/plain": [
       "743.4850096523245"
      ]
     },
     "execution_count": 58,
     "metadata": {},
     "output_type": "execute_result"
    }
   ],
   "source": [
    "trial_model.score(X.reshape(-1,1))"
   ]
  },
  {
   "cell_type": "code",
   "execution_count": 67,
   "metadata": {},
   "outputs": [
    {
     "data": {
      "text/plain": [
       "array([[0.00000000e+000, 0.00000000e+000, 3.64452152e-061,\n",
       "        9.99932707e-001, 3.64452152e-061, 1.32857331e-009,\n",
       "        3.64452152e-061, 0.00000000e+000, 5.55663113e-160,\n",
       "        0.00000000e+000, 6.72918512e-005],\n",
       "       [0.00000000e+000, 9.99999881e-001, 3.11695367e-018,\n",
       "        0.00000000e+000, 3.11695367e-018, 4.99654137e-016,\n",
       "        3.11695367e-018, 0.00000000e+000, 3.10139218e-093,\n",
       "        0.00000000e+000, 1.18618010e-007],\n",
       "       [0.00000000e+000, 0.00000000e+000, 5.50673760e-010,\n",
       "        0.00000000e+000, 5.50673760e-010, 6.32292117e-014,\n",
       "        5.50673760e-010, 9.99999998e-001, 1.34223903e-099,\n",
       "        0.00000000e+000, 3.65721141e-010],\n",
       "       [0.00000000e+000, 0.00000000e+000, 3.33331538e-001,\n",
       "        0.00000000e+000, 3.33331538e-001, 1.45528285e-013,\n",
       "        3.33331538e-001, 0.00000000e+000, 2.36271819e-077,\n",
       "        0.00000000e+000, 5.38624164e-006]])"
      ]
     },
     "execution_count": 67,
     "metadata": {},
     "output_type": "execute_result"
    }
   ],
   "source": [
    "trial_model.predict_proba(np.array([4,3,2,1]).reshape(-1,1))"
   ]
  },
  {
   "cell_type": "code",
   "execution_count": null,
   "metadata": {},
   "outputs": [],
   "source": []
  }
 ],
 "metadata": {
  "kernelspec": {
   "display_name": "Python 3",
   "language": "python",
   "name": "python3"
  },
  "language_info": {
   "codemirror_mode": {
    "name": "ipython",
    "version": 3
   },
   "file_extension": ".py",
   "mimetype": "text/x-python",
   "name": "python",
   "nbconvert_exporter": "python",
   "pygments_lexer": "ipython3",
   "version": "3.7.8"
  }
 },
 "nbformat": 4,
 "nbformat_minor": 4
}
