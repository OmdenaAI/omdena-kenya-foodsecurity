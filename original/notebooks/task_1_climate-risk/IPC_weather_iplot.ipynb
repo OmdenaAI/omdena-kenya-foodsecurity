{
 "cells": [
  {
   "cell_type": "code",
   "execution_count": null,
   "outputs": [],
   "source": [],
   "metadata": {
    "collapsed": false,
    "pycharm": {
     "name": "#%%\n"
    }
   }
  },
  {
   "cell_type": "markdown",
   "source": [
    "# Statistical Indocators from Anomaly Hotspot of Agricultural Production (ASAP)\n",
    "\n",
    "ASAP is a platform used for early warning of  upcoming weather anomaly that leads to fluctuation of agricultural production.\n",
    "\n",
    "- Genral link: https://mars.jrc.ec.europa.eu/asap/\n",
    "- Download link: https://mars.jrc.ec.europa.eu/asap/download.php\n",
    "- Senegal country assesment: https://mars.jrc.ec.europa.eu/asap/country.php?cntry=217\n",
    "- GDrive data: https://drive.google.com/file/d/1JrPN5f_o5vTgIkLJLs0n04rjc49RsDPX/view?usp=sharing"
   ],
   "metadata": {
    "collapsed": false
   }
  },
  {
   "cell_type": "code",
   "execution_count": 1,
   "outputs": [],
   "source": [
    "# imports\n",
    "from pathlib import Path\n",
    "import numpy as np\n",
    "import pandas as pd\n",
    "import matplotlib.pyplot as plt\n",
    "import seaborn as sns\n",
    "from datetime import datetime\n",
    "\n",
    "plt.style.use('classic')\n",
    "%matplotlib inline"
   ],
   "metadata": {
    "collapsed": false,
    "pycharm": {
     "name": "#%%\n"
    }
   }
  },
  {
   "cell_type": "markdown",
   "source": [
    "Get data_path folder. Under subfolder region, we have statistics in gaul1 resolution."
   ],
   "metadata": {
    "collapsed": false
   }
  },
  {
   "cell_type": "code",
   "execution_count": 2,
   "outputs": [],
   "source": [
    "data_folder = Path.cwd().parent.parent.joinpath('data', 'external', 'asap', 'region')\n"
   ],
   "metadata": {
    "collapsed": false,
    "pycharm": {
     "name": "#%%\n"
    }
   }
  },
  {
   "cell_type": "code",
   "execution_count": 3,
   "outputs": [],
   "source": [
    "df_asap = pd.read_csv(str(Path(data_folder).joinpath('SEN_asap_region.csv')))"
   ],
   "metadata": {
    "collapsed": false,
    "pycharm": {
     "name": "#%%\n"
    }
   }
  },
  {
   "cell_type": "code",
   "execution_count": 112,
   "outputs": [
    {
     "data": {
      "text/plain": "array(['Kolda', 'Fatick', 'Dakar', 'Kedougou', 'Tambacounda', 'Sedhiou',\n       'Kaffrine', 'Kaolack', 'Thies', 'Ziguinchor', 'Diourbel',\n       'Saint louis', 'Louga', 'Matam'], dtype=object)"
     },
     "execution_count": 112,
     "metadata": {},
     "output_type": "execute_result"
    }
   ],
   "source": [
    "df_asap['region_name'].unique()"
   ],
   "metadata": {
    "collapsed": false,
    "pycharm": {
     "name": "#%%\n"
    }
   }
  },
  {
   "cell_type": "code",
   "execution_count": 82,
   "outputs": [],
   "source": [
    "import plotly.graph_objects as go\n",
    "import plotly.express as px\n"
   ],
   "metadata": {
    "collapsed": false,
    "pycharm": {
     "name": "#%%\n"
    }
   }
  },
  {
   "cell_type": "code",
   "execution_count": null,
   "outputs": [],
   "source": [
    "\n",
    "df_temp = df_asap #[(df_asap['unit_name'] == 'Dakar') | (df_asap['unit_name'] == 'Velingara')]\n",
    "g = sns.FacetGrid(data = df_temp,\n",
    "                  col = 'variable_name', row = 'region_name',sharey=False,\n",
    "                  height = 5)\n",
    "g.map(sns.lineplot, 'dec_day', 'value')\n",
    "df_curr = df_temp[df_temp['year'] == 2020]\n",
    "axes = g.axes.flatten()\n",
    "\n",
    "for ax in axes:\n",
    "    title = str(ax.title)\n",
    "    unit = title.split(\"= \")[1].split()[0]\n",
    "    var = title.split(\"= \")[2].split(\"'\")[0]\n",
    "    ax.plot(df_curr.loc[(df_curr['region_name'] == unit) &\n",
    "                             (df_curr['variable_name'] == var), 'dec_day'],\n",
    "                     df_curr.loc[(df_curr['region_name'] == unit) &\n",
    "                             (df_curr['variable_name'] == var), 'value'], '*', color = 'r')\n",
    "    ax.legend(['average', 'last year'])"
   ],
   "metadata": {
    "collapsed": false,
    "pycharm": {
     "name": "#%%\n"
    }
   }
  },
  {
   "cell_type": "code",
   "execution_count": 5,
   "outputs": [
    {
     "data": {
      "text/plain": "  region_name variable_name sensor_name                      class_name  \\\n0       Kolda   Temperature       ECMWF  Rangeland during growing cycle   \n\n       date   value  year  month  day  yearday  dec_day  season_year  \\\n0  20120101  26.903  2012      1    1        1        0       2011.0   \n\n   season_dec_day  \n0           260.0  ",
      "text/html": "<div>\n<style scoped>\n    .dataframe tbody tr th:only-of-type {\n        vertical-align: middle;\n    }\n\n    .dataframe tbody tr th {\n        vertical-align: top;\n    }\n\n    .dataframe thead th {\n        text-align: right;\n    }\n</style>\n<table border=\"1\" class=\"dataframe\">\n  <thead>\n    <tr style=\"text-align: right;\">\n      <th></th>\n      <th>region_name</th>\n      <th>variable_name</th>\n      <th>sensor_name</th>\n      <th>class_name</th>\n      <th>date</th>\n      <th>value</th>\n      <th>year</th>\n      <th>month</th>\n      <th>day</th>\n      <th>yearday</th>\n      <th>dec_day</th>\n      <th>season_year</th>\n      <th>season_dec_day</th>\n    </tr>\n  </thead>\n  <tbody>\n    <tr>\n      <th>0</th>\n      <td>Kolda</td>\n      <td>Temperature</td>\n      <td>ECMWF</td>\n      <td>Rangeland during growing cycle</td>\n      <td>20120101</td>\n      <td>26.903</td>\n      <td>2012</td>\n      <td>1</td>\n      <td>1</td>\n      <td>1</td>\n      <td>0</td>\n      <td>2011.0</td>\n      <td>260.0</td>\n    </tr>\n  </tbody>\n</table>\n</div>"
     },
     "execution_count": 5,
     "metadata": {},
     "output_type": "execute_result"
    }
   ],
   "source": [
    "df_asap.head(1)"
   ],
   "metadata": {
    "collapsed": false,
    "pycharm": {
     "name": "#%%\n"
    }
   }
  },
  {
   "cell_type": "code",
   "execution_count": 105,
   "outputs": [],
   "source": [
    "def plot_region_weather(reg=\"Kolda\", weather=\"Rainfall\", year=2019):\n",
    "    df_temp = df_asap[[\"region_name\", \"variable_name\", \"dec_day\", \"value\"]].copy()\n",
    "    df_temp = df_temp[df_temp[\"variable_name\"] == weather]\n",
    "\n",
    "    df_m = df_temp.groupby(['region_name', 'dec_day']).mean()\n",
    "    df_se = df_temp.groupby(['region_name', 'dec_day']).sem()\n",
    "\n",
    "    fig = go.Figure()\n",
    "    m = df_m.loc[reg]\n",
    "    s = df_se.loc[reg]\n",
    "    x = m.index.values\n",
    "    m = m.values.flatten()\n",
    "    s = s.values.flatten()\n",
    "    x = np.hstack([x, x[::-1]])\n",
    "    y_up = m+s*1.96\n",
    "    y_low = m-s*1.96\n",
    "    y_low = y_low[::-1]\n",
    "\n",
    "    fig.add_trace(go.Scatter(\n",
    "        x=x,\n",
    "        y=np.hstack([y_up, y_low]),\n",
    "        fill='toself',\n",
    "        fillcolor='rgba(0,100,80,0.2)',\n",
    "        line_color='rgba(255,255,255,0)',\n",
    "        showlegend=True,\n",
    "        name='confidence interval',\n",
    "    ))\n",
    "    curr = df_asap[(df_asap[\"year\"] == year) & (df_asap[\"variable_name\"] == weather) &\n",
    "    (df_asap[\"region_name\"] == reg)].copy()\n",
    "    curr.sort_values(by=\"dec_day\")\n",
    "    curr = curr[[\"dec_day\", \"value\"]]\n",
    "    curr = curr.groupby(\"dec_day\").mean()\n",
    "    # x = curr[\"dec_day\"].values.flatten()\n",
    "    # y = curr[\"value\"].values.flatten()\n",
    "    fig.add_trace(go.Scatter(x=curr.index, y=curr.values.flatten(), name=\"Last year\"))\n",
    "\n",
    "    fig.update_traces(mode='lines')\n",
    "    fig.show()"
   ],
   "metadata": {
    "collapsed": false,
    "pycharm": {
     "name": "#%%\n"
    }
   }
  },
  {
   "cell_type": "code",
   "execution_count": 111,
   "outputs": [
    {
     "data": {
      "application/vnd.plotly.v1+json": {
       "config": {
        "plotlyServerURL": "https://plot.ly"
       },
       "data": [
        {
         "fill": "toself",
         "fillcolor": "rgba(0,100,80,0.2)",
         "line": {
          "color": "rgba(255,255,255,0)"
         },
         "mode": "lines",
         "name": "confidence interval",
         "showlegend": true,
         "type": "scatter",
         "x": [
          0,
          10,
          20,
          30,
          40,
          50,
          60,
          70,
          80,
          90,
          100,
          110,
          120,
          130,
          140,
          150,
          160,
          170,
          180,
          190,
          200,
          210,
          220,
          230,
          240,
          250,
          260,
          270,
          280,
          290,
          300,
          310,
          320,
          330,
          340,
          350,
          350,
          340,
          330,
          320,
          310,
          300,
          290,
          280,
          270,
          260,
          250,
          240,
          230,
          220,
          210,
          200,
          190,
          180,
          170,
          160,
          150,
          140,
          130,
          120,
          110,
          100,
          90,
          80,
          70,
          60,
          50,
          40,
          30,
          20,
          10,
          0
         ],
         "y": [
          0.4434237343724014,
          0.4277893331667569,
          0.3838169221911604,
          0.352824311504357,
          0.3073931904521344,
          0.28539449678130424,
          0.28571731263873973,
          0.29606139885959093,
          0.3111715416242643,
          0.32174511234189607,
          0.32680018941071237,
          0.3297024841075862,
          0.3629637155824699,
          0.3682782239243665,
          0.3752589565952856,
          0.39294348363944526,
          0.4208114677963291,
          0.45954047457110253,
          0.5077022134285453,
          0.5604002492734015,
          0.6158171806092396,
          0.6598129890315995,
          0.6968412239873287,
          0.7294805587983709,
          0.7481798929390685,
          0.7583671485401688,
          0.7585958731307735,
          0.7483667490035789,
          0.7245050942898501,
          0.6828244010656667,
          0.6358581659115002,
          0.5861945840957644,
          0.5395733870347993,
          0.5034265805583817,
          0.4809686461237959,
          0.4607313692292996,
          0.4252061307707006,
          0.45003135387620413,
          0.4746359194416182,
          0.5125377240763117,
          0.5595831936820134,
          0.6108085007551664,
          0.6603978211565554,
          0.7051615723768168,
          0.7316332509964211,
          0.7447374602025595,
          0.74552174034872,
          0.7328201070609314,
          0.7084083300905183,
          0.6702698871237824,
          0.6300203443017337,
          0.5845161527240939,
          0.5287108618377097,
          0.4751311199047881,
          0.4256817476511196,
          0.3850774210925599,
          0.3574454052494434,
          0.3410188211824923,
          0.3329995538534113,
          0.32692517330641896,
          0.2897049232998212,
          0.2869035142929914,
          0.281365998769215,
          0.277198828746106,
          0.271938601140409,
          0.26806046513903786,
          0.27090179951499216,
          0.29579199473305084,
          0.3215460588660134,
          0.34410900373476555,
          0.385099555722132,
          0.4037984878498205
         ]
        },
        {
         "mode": "lines",
         "name": "Last year",
         "type": "scatter",
         "x": [
          0,
          10,
          20,
          30,
          40,
          50,
          60,
          70,
          80,
          90,
          100,
          110,
          120,
          130,
          140,
          150,
          160,
          170,
          180,
          190,
          200,
          210,
          220,
          230,
          240,
          250,
          260,
          270,
          280,
          290,
          300,
          310,
          320,
          330,
          340,
          350
         ],
         "y": [
          0.45975,
          0.443,
          0.38433333333333336,
          0.3506666666666667,
          0.30633333333333335,
          0.2803333333333333,
          0.2773333333333334,
          0.2733333333333334,
          0.277,
          0.28200000000000003,
          0.293,
          0.29666666666666663,
          0.33875,
          0.3375,
          0.32725,
          0.32899999999999996,
          0.3425,
          0.38025000000000003,
          0.43925000000000003,
          0.52275,
          0.5954999999999999,
          0.6555,
          0.7030000000000001,
          0.7415,
          0.764,
          0.7735,
          0.7715,
          0.7575,
          0.731,
          0.6905,
          0.6435,
          0.5930000000000001,
          0.5455,
          0.5115000000000001,
          0.48824999999999996,
          0.4630000000000001
         ]
        }
       ],
       "layout": {
        "template": {
         "data": {
          "bar": [
           {
            "error_x": {
             "color": "#2a3f5f"
            },
            "error_y": {
             "color": "#2a3f5f"
            },
            "marker": {
             "line": {
              "color": "#E5ECF6",
              "width": 0.5
             }
            },
            "type": "bar"
           }
          ],
          "barpolar": [
           {
            "marker": {
             "line": {
              "color": "#E5ECF6",
              "width": 0.5
             }
            },
            "type": "barpolar"
           }
          ],
          "carpet": [
           {
            "aaxis": {
             "endlinecolor": "#2a3f5f",
             "gridcolor": "white",
             "linecolor": "white",
             "minorgridcolor": "white",
             "startlinecolor": "#2a3f5f"
            },
            "baxis": {
             "endlinecolor": "#2a3f5f",
             "gridcolor": "white",
             "linecolor": "white",
             "minorgridcolor": "white",
             "startlinecolor": "#2a3f5f"
            },
            "type": "carpet"
           }
          ],
          "choropleth": [
           {
            "colorbar": {
             "outlinewidth": 0,
             "ticks": ""
            },
            "type": "choropleth"
           }
          ],
          "contour": [
           {
            "colorbar": {
             "outlinewidth": 0,
             "ticks": ""
            },
            "colorscale": [
             [
              0.0,
              "#0d0887"
             ],
             [
              0.1111111111111111,
              "#46039f"
             ],
             [
              0.2222222222222222,
              "#7201a8"
             ],
             [
              0.3333333333333333,
              "#9c179e"
             ],
             [
              0.4444444444444444,
              "#bd3786"
             ],
             [
              0.5555555555555556,
              "#d8576b"
             ],
             [
              0.6666666666666666,
              "#ed7953"
             ],
             [
              0.7777777777777778,
              "#fb9f3a"
             ],
             [
              0.8888888888888888,
              "#fdca26"
             ],
             [
              1.0,
              "#f0f921"
             ]
            ],
            "type": "contour"
           }
          ],
          "contourcarpet": [
           {
            "colorbar": {
             "outlinewidth": 0,
             "ticks": ""
            },
            "type": "contourcarpet"
           }
          ],
          "heatmap": [
           {
            "colorbar": {
             "outlinewidth": 0,
             "ticks": ""
            },
            "colorscale": [
             [
              0.0,
              "#0d0887"
             ],
             [
              0.1111111111111111,
              "#46039f"
             ],
             [
              0.2222222222222222,
              "#7201a8"
             ],
             [
              0.3333333333333333,
              "#9c179e"
             ],
             [
              0.4444444444444444,
              "#bd3786"
             ],
             [
              0.5555555555555556,
              "#d8576b"
             ],
             [
              0.6666666666666666,
              "#ed7953"
             ],
             [
              0.7777777777777778,
              "#fb9f3a"
             ],
             [
              0.8888888888888888,
              "#fdca26"
             ],
             [
              1.0,
              "#f0f921"
             ]
            ],
            "type": "heatmap"
           }
          ],
          "heatmapgl": [
           {
            "colorbar": {
             "outlinewidth": 0,
             "ticks": ""
            },
            "colorscale": [
             [
              0.0,
              "#0d0887"
             ],
             [
              0.1111111111111111,
              "#46039f"
             ],
             [
              0.2222222222222222,
              "#7201a8"
             ],
             [
              0.3333333333333333,
              "#9c179e"
             ],
             [
              0.4444444444444444,
              "#bd3786"
             ],
             [
              0.5555555555555556,
              "#d8576b"
             ],
             [
              0.6666666666666666,
              "#ed7953"
             ],
             [
              0.7777777777777778,
              "#fb9f3a"
             ],
             [
              0.8888888888888888,
              "#fdca26"
             ],
             [
              1.0,
              "#f0f921"
             ]
            ],
            "type": "heatmapgl"
           }
          ],
          "histogram": [
           {
            "marker": {
             "colorbar": {
              "outlinewidth": 0,
              "ticks": ""
             }
            },
            "type": "histogram"
           }
          ],
          "histogram2d": [
           {
            "colorbar": {
             "outlinewidth": 0,
             "ticks": ""
            },
            "colorscale": [
             [
              0.0,
              "#0d0887"
             ],
             [
              0.1111111111111111,
              "#46039f"
             ],
             [
              0.2222222222222222,
              "#7201a8"
             ],
             [
              0.3333333333333333,
              "#9c179e"
             ],
             [
              0.4444444444444444,
              "#bd3786"
             ],
             [
              0.5555555555555556,
              "#d8576b"
             ],
             [
              0.6666666666666666,
              "#ed7953"
             ],
             [
              0.7777777777777778,
              "#fb9f3a"
             ],
             [
              0.8888888888888888,
              "#fdca26"
             ],
             [
              1.0,
              "#f0f921"
             ]
            ],
            "type": "histogram2d"
           }
          ],
          "histogram2dcontour": [
           {
            "colorbar": {
             "outlinewidth": 0,
             "ticks": ""
            },
            "colorscale": [
             [
              0.0,
              "#0d0887"
             ],
             [
              0.1111111111111111,
              "#46039f"
             ],
             [
              0.2222222222222222,
              "#7201a8"
             ],
             [
              0.3333333333333333,
              "#9c179e"
             ],
             [
              0.4444444444444444,
              "#bd3786"
             ],
             [
              0.5555555555555556,
              "#d8576b"
             ],
             [
              0.6666666666666666,
              "#ed7953"
             ],
             [
              0.7777777777777778,
              "#fb9f3a"
             ],
             [
              0.8888888888888888,
              "#fdca26"
             ],
             [
              1.0,
              "#f0f921"
             ]
            ],
            "type": "histogram2dcontour"
           }
          ],
          "mesh3d": [
           {
            "colorbar": {
             "outlinewidth": 0,
             "ticks": ""
            },
            "type": "mesh3d"
           }
          ],
          "parcoords": [
           {
            "line": {
             "colorbar": {
              "outlinewidth": 0,
              "ticks": ""
             }
            },
            "type": "parcoords"
           }
          ],
          "pie": [
           {
            "automargin": true,
            "type": "pie"
           }
          ],
          "scatter": [
           {
            "marker": {
             "colorbar": {
              "outlinewidth": 0,
              "ticks": ""
             }
            },
            "type": "scatter"
           }
          ],
          "scatter3d": [
           {
            "line": {
             "colorbar": {
              "outlinewidth": 0,
              "ticks": ""
             }
            },
            "marker": {
             "colorbar": {
              "outlinewidth": 0,
              "ticks": ""
             }
            },
            "type": "scatter3d"
           }
          ],
          "scattercarpet": [
           {
            "marker": {
             "colorbar": {
              "outlinewidth": 0,
              "ticks": ""
             }
            },
            "type": "scattercarpet"
           }
          ],
          "scattergeo": [
           {
            "marker": {
             "colorbar": {
              "outlinewidth": 0,
              "ticks": ""
             }
            },
            "type": "scattergeo"
           }
          ],
          "scattergl": [
           {
            "marker": {
             "colorbar": {
              "outlinewidth": 0,
              "ticks": ""
             }
            },
            "type": "scattergl"
           }
          ],
          "scattermapbox": [
           {
            "marker": {
             "colorbar": {
              "outlinewidth": 0,
              "ticks": ""
             }
            },
            "type": "scattermapbox"
           }
          ],
          "scatterpolar": [
           {
            "marker": {
             "colorbar": {
              "outlinewidth": 0,
              "ticks": ""
             }
            },
            "type": "scatterpolar"
           }
          ],
          "scatterpolargl": [
           {
            "marker": {
             "colorbar": {
              "outlinewidth": 0,
              "ticks": ""
             }
            },
            "type": "scatterpolargl"
           }
          ],
          "scatterternary": [
           {
            "marker": {
             "colorbar": {
              "outlinewidth": 0,
              "ticks": ""
             }
            },
            "type": "scatterternary"
           }
          ],
          "surface": [
           {
            "colorbar": {
             "outlinewidth": 0,
             "ticks": ""
            },
            "colorscale": [
             [
              0.0,
              "#0d0887"
             ],
             [
              0.1111111111111111,
              "#46039f"
             ],
             [
              0.2222222222222222,
              "#7201a8"
             ],
             [
              0.3333333333333333,
              "#9c179e"
             ],
             [
              0.4444444444444444,
              "#bd3786"
             ],
             [
              0.5555555555555556,
              "#d8576b"
             ],
             [
              0.6666666666666666,
              "#ed7953"
             ],
             [
              0.7777777777777778,
              "#fb9f3a"
             ],
             [
              0.8888888888888888,
              "#fdca26"
             ],
             [
              1.0,
              "#f0f921"
             ]
            ],
            "type": "surface"
           }
          ],
          "table": [
           {
            "cells": {
             "fill": {
              "color": "#EBF0F8"
             },
             "line": {
              "color": "white"
             }
            },
            "header": {
             "fill": {
              "color": "#C8D4E3"
             },
             "line": {
              "color": "white"
             }
            },
            "type": "table"
           }
          ]
         },
         "layout": {
          "annotationdefaults": {
           "arrowcolor": "#2a3f5f",
           "arrowhead": 0,
           "arrowwidth": 1
          },
          "autotypenumbers": "strict",
          "coloraxis": {
           "colorbar": {
            "outlinewidth": 0,
            "ticks": ""
           }
          },
          "colorscale": {
           "diverging": [
            [
             0,
             "#8e0152"
            ],
            [
             0.1,
             "#c51b7d"
            ],
            [
             0.2,
             "#de77ae"
            ],
            [
             0.3,
             "#f1b6da"
            ],
            [
             0.4,
             "#fde0ef"
            ],
            [
             0.5,
             "#f7f7f7"
            ],
            [
             0.6,
             "#e6f5d0"
            ],
            [
             0.7,
             "#b8e186"
            ],
            [
             0.8,
             "#7fbc41"
            ],
            [
             0.9,
             "#4d9221"
            ],
            [
             1,
             "#276419"
            ]
           ],
           "sequential": [
            [
             0.0,
             "#0d0887"
            ],
            [
             0.1111111111111111,
             "#46039f"
            ],
            [
             0.2222222222222222,
             "#7201a8"
            ],
            [
             0.3333333333333333,
             "#9c179e"
            ],
            [
             0.4444444444444444,
             "#bd3786"
            ],
            [
             0.5555555555555556,
             "#d8576b"
            ],
            [
             0.6666666666666666,
             "#ed7953"
            ],
            [
             0.7777777777777778,
             "#fb9f3a"
            ],
            [
             0.8888888888888888,
             "#fdca26"
            ],
            [
             1.0,
             "#f0f921"
            ]
           ],
           "sequentialminus": [
            [
             0.0,
             "#0d0887"
            ],
            [
             0.1111111111111111,
             "#46039f"
            ],
            [
             0.2222222222222222,
             "#7201a8"
            ],
            [
             0.3333333333333333,
             "#9c179e"
            ],
            [
             0.4444444444444444,
             "#bd3786"
            ],
            [
             0.5555555555555556,
             "#d8576b"
            ],
            [
             0.6666666666666666,
             "#ed7953"
            ],
            [
             0.7777777777777778,
             "#fb9f3a"
            ],
            [
             0.8888888888888888,
             "#fdca26"
            ],
            [
             1.0,
             "#f0f921"
            ]
           ]
          },
          "colorway": [
           "#636efa",
           "#EF553B",
           "#00cc96",
           "#ab63fa",
           "#FFA15A",
           "#19d3f3",
           "#FF6692",
           "#B6E880",
           "#FF97FF",
           "#FECB52"
          ],
          "font": {
           "color": "#2a3f5f"
          },
          "geo": {
           "bgcolor": "white",
           "lakecolor": "white",
           "landcolor": "#E5ECF6",
           "showlakes": true,
           "showland": true,
           "subunitcolor": "white"
          },
          "hoverlabel": {
           "align": "left"
          },
          "hovermode": "closest",
          "mapbox": {
           "style": "light"
          },
          "paper_bgcolor": "white",
          "plot_bgcolor": "#E5ECF6",
          "polar": {
           "angularaxis": {
            "gridcolor": "white",
            "linecolor": "white",
            "ticks": ""
           },
           "bgcolor": "#E5ECF6",
           "radialaxis": {
            "gridcolor": "white",
            "linecolor": "white",
            "ticks": ""
           }
          },
          "scene": {
           "xaxis": {
            "backgroundcolor": "#E5ECF6",
            "gridcolor": "white",
            "gridwidth": 2,
            "linecolor": "white",
            "showbackground": true,
            "ticks": "",
            "zerolinecolor": "white"
           },
           "yaxis": {
            "backgroundcolor": "#E5ECF6",
            "gridcolor": "white",
            "gridwidth": 2,
            "linecolor": "white",
            "showbackground": true,
            "ticks": "",
            "zerolinecolor": "white"
           },
           "zaxis": {
            "backgroundcolor": "#E5ECF6",
            "gridcolor": "white",
            "gridwidth": 2,
            "linecolor": "white",
            "showbackground": true,
            "ticks": "",
            "zerolinecolor": "white"
           }
          },
          "shapedefaults": {
           "line": {
            "color": "#2a3f5f"
           }
          },
          "ternary": {
           "aaxis": {
            "gridcolor": "white",
            "linecolor": "white",
            "ticks": ""
           },
           "baxis": {
            "gridcolor": "white",
            "linecolor": "white",
            "ticks": ""
           },
           "bgcolor": "#E5ECF6",
           "caxis": {
            "gridcolor": "white",
            "linecolor": "white",
            "ticks": ""
           }
          },
          "title": {
           "x": 0.05
          },
          "xaxis": {
           "automargin": true,
           "gridcolor": "white",
           "linecolor": "white",
           "ticks": "",
           "title": {
            "standoff": 15
           },
           "zerolinecolor": "white",
           "zerolinewidth": 2
          },
          "yaxis": {
           "automargin": true,
           "gridcolor": "white",
           "linecolor": "white",
           "ticks": "",
           "title": {
            "standoff": 15
           },
           "zerolinecolor": "white",
           "zerolinewidth": 2
          }
         }
        }
       }
      },
      "text/html": "<div>                            <div id=\"3aae962b-3d78-4c65-9320-f308605d6337\" class=\"plotly-graph-div\" style=\"height:525px; width:100%;\"></div>            <script type=\"text/javascript\">                require([\"plotly\"], function(Plotly) {                    window.PLOTLYENV=window.PLOTLYENV || {};                                    if (document.getElementById(\"3aae962b-3d78-4c65-9320-f308605d6337\")) {                    Plotly.newPlot(                        \"3aae962b-3d78-4c65-9320-f308605d6337\",                        [{\"fill\": \"toself\", \"fillcolor\": \"rgba(0,100,80,0.2)\", \"line\": {\"color\": \"rgba(255,255,255,0)\"}, \"mode\": \"lines\", \"name\": \"confidence interval\", \"showlegend\": true, \"type\": \"scatter\", \"x\": [0, 10, 20, 30, 40, 50, 60, 70, 80, 90, 100, 110, 120, 130, 140, 150, 160, 170, 180, 190, 200, 210, 220, 230, 240, 250, 260, 270, 280, 290, 300, 310, 320, 330, 340, 350, 350, 340, 330, 320, 310, 300, 290, 280, 270, 260, 250, 240, 230, 220, 210, 200, 190, 180, 170, 160, 150, 140, 130, 120, 110, 100, 90, 80, 70, 60, 50, 40, 30, 20, 10, 0], \"y\": [0.4434237343724014, 0.4277893331667569, 0.3838169221911604, 0.352824311504357, 0.3073931904521344, 0.28539449678130424, 0.28571731263873973, 0.29606139885959093, 0.3111715416242643, 0.32174511234189607, 0.32680018941071237, 0.3297024841075862, 0.3629637155824699, 0.3682782239243665, 0.3752589565952856, 0.39294348363944526, 0.4208114677963291, 0.45954047457110253, 0.5077022134285453, 0.5604002492734015, 0.6158171806092396, 0.6598129890315995, 0.6968412239873287, 0.7294805587983709, 0.7481798929390685, 0.7583671485401688, 0.7585958731307735, 0.7483667490035789, 0.7245050942898501, 0.6828244010656667, 0.6358581659115002, 0.5861945840957644, 0.5395733870347993, 0.5034265805583817, 0.4809686461237959, 0.4607313692292996, 0.4252061307707006, 0.45003135387620413, 0.4746359194416182, 0.5125377240763117, 0.5595831936820134, 0.6108085007551664, 0.6603978211565554, 0.7051615723768168, 0.7316332509964211, 0.7447374602025595, 0.74552174034872, 0.7328201070609314, 0.7084083300905183, 0.6702698871237824, 0.6300203443017337, 0.5845161527240939, 0.5287108618377097, 0.4751311199047881, 0.4256817476511196, 0.3850774210925599, 0.3574454052494434, 0.3410188211824923, 0.3329995538534113, 0.32692517330641896, 0.2897049232998212, 0.2869035142929914, 0.281365998769215, 0.277198828746106, 0.271938601140409, 0.26806046513903786, 0.27090179951499216, 0.29579199473305084, 0.3215460588660134, 0.34410900373476555, 0.385099555722132, 0.4037984878498205]}, {\"mode\": \"lines\", \"name\": \"Last year\", \"type\": \"scatter\", \"x\": [0, 10, 20, 30, 40, 50, 60, 70, 80, 90, 100, 110, 120, 130, 140, 150, 160, 170, 180, 190, 200, 210, 220, 230, 240, 250, 260, 270, 280, 290, 300, 310, 320, 330, 340, 350], \"y\": [0.45975, 0.443, 0.38433333333333336, 0.3506666666666667, 0.30633333333333335, 0.2803333333333333, 0.2773333333333334, 0.2733333333333334, 0.277, 0.28200000000000003, 0.293, 0.29666666666666663, 0.33875, 0.3375, 0.32725, 0.32899999999999996, 0.3425, 0.38025000000000003, 0.43925000000000003, 0.52275, 0.5954999999999999, 0.6555, 0.7030000000000001, 0.7415, 0.764, 0.7735, 0.7715, 0.7575, 0.731, 0.6905, 0.6435, 0.5930000000000001, 0.5455, 0.5115000000000001, 0.48824999999999996, 0.4630000000000001]}],                        {\"template\": {\"data\": {\"bar\": [{\"error_x\": {\"color\": \"#2a3f5f\"}, \"error_y\": {\"color\": \"#2a3f5f\"}, \"marker\": {\"line\": {\"color\": \"#E5ECF6\", \"width\": 0.5}}, \"type\": \"bar\"}], \"barpolar\": [{\"marker\": {\"line\": {\"color\": \"#E5ECF6\", \"width\": 0.5}}, \"type\": \"barpolar\"}], \"carpet\": [{\"aaxis\": {\"endlinecolor\": \"#2a3f5f\", \"gridcolor\": \"white\", \"linecolor\": \"white\", \"minorgridcolor\": \"white\", \"startlinecolor\": \"#2a3f5f\"}, \"baxis\": {\"endlinecolor\": \"#2a3f5f\", \"gridcolor\": \"white\", \"linecolor\": \"white\", \"minorgridcolor\": \"white\", \"startlinecolor\": \"#2a3f5f\"}, \"type\": \"carpet\"}], \"choropleth\": [{\"colorbar\": {\"outlinewidth\": 0, \"ticks\": \"\"}, \"type\": \"choropleth\"}], \"contour\": [{\"colorbar\": {\"outlinewidth\": 0, \"ticks\": \"\"}, \"colorscale\": [[0.0, \"#0d0887\"], [0.1111111111111111, \"#46039f\"], [0.2222222222222222, \"#7201a8\"], [0.3333333333333333, \"#9c179e\"], [0.4444444444444444, \"#bd3786\"], [0.5555555555555556, \"#d8576b\"], [0.6666666666666666, \"#ed7953\"], [0.7777777777777778, \"#fb9f3a\"], [0.8888888888888888, \"#fdca26\"], [1.0, \"#f0f921\"]], \"type\": \"contour\"}], \"contourcarpet\": [{\"colorbar\": {\"outlinewidth\": 0, \"ticks\": \"\"}, \"type\": \"contourcarpet\"}], \"heatmap\": [{\"colorbar\": {\"outlinewidth\": 0, \"ticks\": \"\"}, \"colorscale\": [[0.0, \"#0d0887\"], [0.1111111111111111, \"#46039f\"], [0.2222222222222222, \"#7201a8\"], [0.3333333333333333, \"#9c179e\"], [0.4444444444444444, \"#bd3786\"], [0.5555555555555556, \"#d8576b\"], [0.6666666666666666, \"#ed7953\"], [0.7777777777777778, \"#fb9f3a\"], [0.8888888888888888, \"#fdca26\"], [1.0, \"#f0f921\"]], \"type\": \"heatmap\"}], \"heatmapgl\": [{\"colorbar\": {\"outlinewidth\": 0, \"ticks\": \"\"}, \"colorscale\": [[0.0, \"#0d0887\"], [0.1111111111111111, \"#46039f\"], [0.2222222222222222, \"#7201a8\"], [0.3333333333333333, \"#9c179e\"], [0.4444444444444444, \"#bd3786\"], [0.5555555555555556, \"#d8576b\"], [0.6666666666666666, \"#ed7953\"], [0.7777777777777778, \"#fb9f3a\"], [0.8888888888888888, \"#fdca26\"], [1.0, \"#f0f921\"]], \"type\": \"heatmapgl\"}], \"histogram\": [{\"marker\": {\"colorbar\": {\"outlinewidth\": 0, \"ticks\": \"\"}}, \"type\": \"histogram\"}], \"histogram2d\": [{\"colorbar\": {\"outlinewidth\": 0, \"ticks\": \"\"}, \"colorscale\": [[0.0, \"#0d0887\"], [0.1111111111111111, \"#46039f\"], [0.2222222222222222, \"#7201a8\"], [0.3333333333333333, \"#9c179e\"], [0.4444444444444444, \"#bd3786\"], [0.5555555555555556, \"#d8576b\"], [0.6666666666666666, \"#ed7953\"], [0.7777777777777778, \"#fb9f3a\"], [0.8888888888888888, \"#fdca26\"], [1.0, \"#f0f921\"]], \"type\": \"histogram2d\"}], \"histogram2dcontour\": [{\"colorbar\": {\"outlinewidth\": 0, \"ticks\": \"\"}, \"colorscale\": [[0.0, \"#0d0887\"], [0.1111111111111111, \"#46039f\"], [0.2222222222222222, \"#7201a8\"], [0.3333333333333333, \"#9c179e\"], [0.4444444444444444, \"#bd3786\"], [0.5555555555555556, \"#d8576b\"], [0.6666666666666666, \"#ed7953\"], [0.7777777777777778, \"#fb9f3a\"], [0.8888888888888888, \"#fdca26\"], [1.0, \"#f0f921\"]], \"type\": \"histogram2dcontour\"}], \"mesh3d\": [{\"colorbar\": {\"outlinewidth\": 0, \"ticks\": \"\"}, \"type\": \"mesh3d\"}], \"parcoords\": [{\"line\": {\"colorbar\": {\"outlinewidth\": 0, \"ticks\": \"\"}}, \"type\": \"parcoords\"}], \"pie\": [{\"automargin\": true, \"type\": \"pie\"}], \"scatter\": [{\"marker\": {\"colorbar\": {\"outlinewidth\": 0, \"ticks\": \"\"}}, \"type\": \"scatter\"}], \"scatter3d\": [{\"line\": {\"colorbar\": {\"outlinewidth\": 0, \"ticks\": \"\"}}, \"marker\": {\"colorbar\": {\"outlinewidth\": 0, \"ticks\": \"\"}}, \"type\": \"scatter3d\"}], \"scattercarpet\": [{\"marker\": {\"colorbar\": {\"outlinewidth\": 0, \"ticks\": \"\"}}, \"type\": \"scattercarpet\"}], \"scattergeo\": [{\"marker\": {\"colorbar\": {\"outlinewidth\": 0, \"ticks\": \"\"}}, \"type\": \"scattergeo\"}], \"scattergl\": [{\"marker\": {\"colorbar\": {\"outlinewidth\": 0, \"ticks\": \"\"}}, \"type\": \"scattergl\"}], \"scattermapbox\": [{\"marker\": {\"colorbar\": {\"outlinewidth\": 0, \"ticks\": \"\"}}, \"type\": \"scattermapbox\"}], \"scatterpolar\": [{\"marker\": {\"colorbar\": {\"outlinewidth\": 0, \"ticks\": \"\"}}, \"type\": \"scatterpolar\"}], \"scatterpolargl\": [{\"marker\": {\"colorbar\": {\"outlinewidth\": 0, \"ticks\": \"\"}}, \"type\": \"scatterpolargl\"}], \"scatterternary\": [{\"marker\": {\"colorbar\": {\"outlinewidth\": 0, \"ticks\": \"\"}}, \"type\": \"scatterternary\"}], \"surface\": [{\"colorbar\": {\"outlinewidth\": 0, \"ticks\": \"\"}, \"colorscale\": [[0.0, \"#0d0887\"], [0.1111111111111111, \"#46039f\"], [0.2222222222222222, \"#7201a8\"], [0.3333333333333333, \"#9c179e\"], [0.4444444444444444, \"#bd3786\"], [0.5555555555555556, \"#d8576b\"], [0.6666666666666666, \"#ed7953\"], [0.7777777777777778, \"#fb9f3a\"], [0.8888888888888888, \"#fdca26\"], [1.0, \"#f0f921\"]], \"type\": \"surface\"}], \"table\": [{\"cells\": {\"fill\": {\"color\": \"#EBF0F8\"}, \"line\": {\"color\": \"white\"}}, \"header\": {\"fill\": {\"color\": \"#C8D4E3\"}, \"line\": {\"color\": \"white\"}}, \"type\": \"table\"}]}, \"layout\": {\"annotationdefaults\": {\"arrowcolor\": \"#2a3f5f\", \"arrowhead\": 0, \"arrowwidth\": 1}, \"autotypenumbers\": \"strict\", \"coloraxis\": {\"colorbar\": {\"outlinewidth\": 0, \"ticks\": \"\"}}, \"colorscale\": {\"diverging\": [[0, \"#8e0152\"], [0.1, \"#c51b7d\"], [0.2, \"#de77ae\"], [0.3, \"#f1b6da\"], [0.4, \"#fde0ef\"], [0.5, \"#f7f7f7\"], [0.6, \"#e6f5d0\"], [0.7, \"#b8e186\"], [0.8, \"#7fbc41\"], [0.9, \"#4d9221\"], [1, \"#276419\"]], \"sequential\": [[0.0, \"#0d0887\"], [0.1111111111111111, \"#46039f\"], [0.2222222222222222, \"#7201a8\"], [0.3333333333333333, \"#9c179e\"], [0.4444444444444444, \"#bd3786\"], [0.5555555555555556, \"#d8576b\"], [0.6666666666666666, \"#ed7953\"], [0.7777777777777778, \"#fb9f3a\"], [0.8888888888888888, \"#fdca26\"], [1.0, \"#f0f921\"]], \"sequentialminus\": [[0.0, \"#0d0887\"], [0.1111111111111111, \"#46039f\"], [0.2222222222222222, \"#7201a8\"], [0.3333333333333333, \"#9c179e\"], [0.4444444444444444, \"#bd3786\"], [0.5555555555555556, \"#d8576b\"], [0.6666666666666666, \"#ed7953\"], [0.7777777777777778, \"#fb9f3a\"], [0.8888888888888888, \"#fdca26\"], [1.0, \"#f0f921\"]]}, \"colorway\": [\"#636efa\", \"#EF553B\", \"#00cc96\", \"#ab63fa\", \"#FFA15A\", \"#19d3f3\", \"#FF6692\", \"#B6E880\", \"#FF97FF\", \"#FECB52\"], \"font\": {\"color\": \"#2a3f5f\"}, \"geo\": {\"bgcolor\": \"white\", \"lakecolor\": \"white\", \"landcolor\": \"#E5ECF6\", \"showlakes\": true, \"showland\": true, \"subunitcolor\": \"white\"}, \"hoverlabel\": {\"align\": \"left\"}, \"hovermode\": \"closest\", \"mapbox\": {\"style\": \"light\"}, \"paper_bgcolor\": \"white\", \"plot_bgcolor\": \"#E5ECF6\", \"polar\": {\"angularaxis\": {\"gridcolor\": \"white\", \"linecolor\": \"white\", \"ticks\": \"\"}, \"bgcolor\": \"#E5ECF6\", \"radialaxis\": {\"gridcolor\": \"white\", \"linecolor\": \"white\", \"ticks\": \"\"}}, \"scene\": {\"xaxis\": {\"backgroundcolor\": \"#E5ECF6\", \"gridcolor\": \"white\", \"gridwidth\": 2, \"linecolor\": \"white\", \"showbackground\": true, \"ticks\": \"\", \"zerolinecolor\": \"white\"}, \"yaxis\": {\"backgroundcolor\": \"#E5ECF6\", \"gridcolor\": \"white\", \"gridwidth\": 2, \"linecolor\": \"white\", \"showbackground\": true, \"ticks\": \"\", \"zerolinecolor\": \"white\"}, \"zaxis\": {\"backgroundcolor\": \"#E5ECF6\", \"gridcolor\": \"white\", \"gridwidth\": 2, \"linecolor\": \"white\", \"showbackground\": true, \"ticks\": \"\", \"zerolinecolor\": \"white\"}}, \"shapedefaults\": {\"line\": {\"color\": \"#2a3f5f\"}}, \"ternary\": {\"aaxis\": {\"gridcolor\": \"white\", \"linecolor\": \"white\", \"ticks\": \"\"}, \"baxis\": {\"gridcolor\": \"white\", \"linecolor\": \"white\", \"ticks\": \"\"}, \"bgcolor\": \"#E5ECF6\", \"caxis\": {\"gridcolor\": \"white\", \"linecolor\": \"white\", \"ticks\": \"\"}}, \"title\": {\"x\": 0.05}, \"xaxis\": {\"automargin\": true, \"gridcolor\": \"white\", \"linecolor\": \"white\", \"ticks\": \"\", \"title\": {\"standoff\": 15}, \"zerolinecolor\": \"white\", \"zerolinewidth\": 2}, \"yaxis\": {\"automargin\": true, \"gridcolor\": \"white\", \"linecolor\": \"white\", \"ticks\": \"\", \"title\": {\"standoff\": 15}, \"zerolinecolor\": \"white\", \"zerolinewidth\": 2}}}},                        {\"responsive\": true}                    ).then(function(){\n                            \nvar gd = document.getElementById('3aae962b-3d78-4c65-9320-f308605d6337');\nvar x = new MutationObserver(function (mutations, observer) {{\n        var display = window.getComputedStyle(gd).display;\n        if (!display || display === 'none') {{\n            console.log([gd, 'removed!']);\n            Plotly.purge(gd);\n            observer.disconnect();\n        }}\n}});\n\n// Listen for the removal of the full notebook cells\nvar notebookContainer = gd.closest('#notebook-container');\nif (notebookContainer) {{\n    x.observe(notebookContainer, {childList: true});\n}}\n\n// Listen for the clearing of the current output cell\nvar outputEl = gd.closest('.output');\nif (outputEl) {{\n    x.observe(outputEl, {childList: true});\n}}\n\n                        })                };                });            </script>        </div>"
     },
     "metadata": {},
     "output_type": "display_data"
    }
   ],
   "source": [
    "plot_region_weather(weather=\"NDVI\")"
   ],
   "metadata": {
    "collapsed": false,
    "pycharm": {
     "name": "#%%\n"
    }
   }
  },
  {
   "cell_type": "code",
   "execution_count": 41,
   "outputs": [
    {
     "data": {
      "text/plain": "array([[ 0.00000000e+00,  0.00000000e+00,  0.00000000e+00,\n         0.00000000e+00,  0.00000000e+00,  0.00000000e+00,\n         0.00000000e+00,  0.00000000e+00,  0.00000000e+00,\n         4.53053435e-02,  1.08678916e-01,  1.12346342e+00,\n         2.59119265e+00,  8.05091488e+00,  1.29298136e+01,\n         3.20071195e+01,  4.72809509e+01,  6.00240553e+01,\n         5.88695693e+01,  7.91184615e+01,  1.05844647e+02,\n         1.05171704e+02,  1.24267128e+02,  1.64992615e+02,\n         1.36068615e+02,  1.14210680e+02,  1.04688928e+02,\n         5.27111110e+01,  4.41015431e+01,  2.01923042e+01,\n         2.33480389e+00,  3.25181980e-01,  3.15976147e-02,\n         3.76655836e-01,  2.02569970e-01,  1.74613677e-01],\n       [ 2.43863227e-02,  5.51175305e-02,  3.16469164e-01,\n        -1.04865036e-02,  2.34846864e-02,  1.18380722e+00,\n         2.27647360e+00,  6.24629028e+00,  1.68580557e+01,\n         4.66109049e+01,  5.45709862e+01,  6.34058852e+01,\n         8.33964408e+01,  5.65589827e+01,  3.71292956e+01,\n         3.82412974e+01,  3.62018163e+01,  3.24799307e+01,\n         2.15631114e+01,  2.02866602e+01,  1.14567139e+01,\n         2.66540865e+00, -2.82859320e-01,  1.15547402e+00,\n         8.38758803e-01,  6.71729355e-02,  1.36132317e-03,\n         0.00000000e+00,  0.00000000e+00,  0.00000000e+00,\n         0.00000000e+00,  0.00000000e+00,  0.00000000e+00,\n         0.00000000e+00,  0.00000000e+00,  0.00000000e+00]])"
     },
     "execution_count": 41,
     "metadata": {},
     "output_type": "execute_result"
    }
   ],
   "source": [
    "df_asap[(df_asap['region_name'] == \"Kolda\") & (df_asap['variable_name'] == \"\")]"
   ],
   "metadata": {
    "collapsed": false,
    "pycharm": {
     "name": "#%%\n"
    }
   }
  },
  {
   "cell_type": "code",
   "execution_count": 110,
   "outputs": [
    {
     "data": {
      "text/plain": "array(['Temperature', 'NDVI Cumulated - zscore', 'SPI - 3 months',\n       'Water Satisfaction Index (WSI)', 'NDVI - zscore', 'NDVI',\n       'Rainfall'], dtype=object)"
     },
     "execution_count": 110,
     "metadata": {},
     "output_type": "execute_result"
    }
   ],
   "source": [
    "df_asap['variable_name'].unique()\n",
    "\n"
   ],
   "metadata": {
    "collapsed": false,
    "pycharm": {
     "name": "#%%\n"
    }
   }
  },
  {
   "cell_type": "code",
   "execution_count": null,
   "outputs": [],
   "source": [
    "df_temp = df_asap[['region_name', 'variable_name', 'year', 'dec_day', 'value']]"
   ],
   "metadata": {
    "collapsed": false,
    "pycharm": {
     "name": "#%%\n"
    }
   }
  },
  {
   "cell_type": "code",
   "execution_count": null,
   "outputs": [],
   "source": [
    "df_temp.head()"
   ],
   "metadata": {
    "collapsed": false,
    "pycharm": {
     "name": "#%%\n"
    }
   }
  },
  {
   "cell_type": "code",
   "execution_count": null,
   "outputs": [],
   "source": [
    "df_temp2 = df_temp[(df_temp['region_name'] == 'Dakar')& (df_temp['variable_name'] == 'Rainfall')]\n",
    "\n",
    "g = sns.FacetGrid(data = df_temp2[['year', 'dec_day', 'value']], row='year')\n",
    "g.map(sns.lineplot, 'dec_day', 'value')"
   ],
   "metadata": {
    "collapsed": false,
    "pycharm": {
     "name": "#%%\n"
    }
   }
  },
  {
   "cell_type": "code",
   "execution_count": null,
   "outputs": [],
   "source": [
    "\n",
    "# Generate a set of sample data\n",
    "np.random.seed(0)\n",
    "indices = pd.MultiIndex.from_product((range(5), range(5), range(5)),\n",
    " names=('label0', 'label1', 'label2'))\n",
    "data = pd.DataFrame(np.random.uniform(0, 100, size=len(indices)),\n",
    " index=indices, columns=('value',)).reset_index()\n",
    "\n",
    "def draw_heatmap(*args, **kwargs):\n",
    "    data = kwargs.pop('data')\n",
    "    d = data.pivot(index=args[1], columns=args[0], values=args[2])\n",
    "    sns.heatmap(d, **kwargs)\n",
    "\n",
    "fg = sns.FacetGrid(data, col='label0')\n",
    "fg.map_dataframe(draw_heatmap, 'label1', 'label2', 'value', cbar=False, square = True)\n",
    "# get figure background color\n",
    "facecolor=plt.gcf().get_facecolor()"
   ],
   "metadata": {
    "collapsed": false,
    "pycharm": {
     "name": "#%%\n"
    }
   }
  },
  {
   "cell_type": "code",
   "execution_count": 108,
   "outputs": [
    {
     "data": {
      "text/plain": "      region_name variable_name   sensor_name                      class_name  \\\n0           Kolda   Temperature         ECMWF  Rangeland during growing cycle   \n1           Kolda   Temperature         ECMWF  Rangeland during growing cycle   \n2           Kolda   Temperature         ECMWF  Rangeland during growing cycle   \n3           Kolda   Temperature         ECMWF  Rangeland during growing cycle   \n4           Kolda   Temperature         ECMWF  Rangeland during growing cycle   \n...           ...           ...           ...                             ...   \n85473       Kolda      Rainfall  ECMWF-CHIRPS       Crop during growing cycle   \n85474       Kolda      Rainfall  ECMWF-CHIRPS       Crop during growing cycle   \n85475       Kolda      Rainfall  ECMWF-CHIRPS       Crop during growing cycle   \n85476       Kolda      Rainfall  ECMWF-CHIRPS       Crop during growing cycle   \n85477       Kolda      Rainfall  ECMWF-CHIRPS       Crop during growing cycle   \n\n           date   value  year  month  day  yearday  dec_day  season_year  \\\n0      20120101  26.903  2012      1    1        1        0       2011.0   \n1      20120111  27.939  2012      1   11       11       10       2011.0   \n2      20120501  33.000  2012      5    1      122      120       2012.0   \n3      20120511  31.339  2012      5   11      132      130       2012.0   \n4      20120521  31.639  2012      5   21      142      140       2012.0   \n...         ...     ...   ...    ...  ...      ...      ...          ...   \n85473  20201011  30.356  2020     10   11      285      280       2020.0   \n85474  20201021   2.075  2020     10   21      295      290       2020.0   \n85475  20201101   1.102  2020     11    1      306      300       2020.0   \n85476  20201111   0.136  2020     11   11      316      310       2020.0   \n85477  20201121   0.000  2020     11   21      326      320       2020.0   \n\n       season_dec_day  \n0               260.0  \n1               270.0  \n2                20.0  \n3                30.0  \n4                40.0  \n...               ...  \n85473           180.0  \n85474           190.0  \n85475           200.0  \n85476           210.0  \n85477           220.0  \n\n[6411 rows x 13 columns]",
      "text/html": "<div>\n<style scoped>\n    .dataframe tbody tr th:only-of-type {\n        vertical-align: middle;\n    }\n\n    .dataframe tbody tr th {\n        vertical-align: top;\n    }\n\n    .dataframe thead th {\n        text-align: right;\n    }\n</style>\n<table border=\"1\" class=\"dataframe\">\n  <thead>\n    <tr style=\"text-align: right;\">\n      <th></th>\n      <th>region_name</th>\n      <th>variable_name</th>\n      <th>sensor_name</th>\n      <th>class_name</th>\n      <th>date</th>\n      <th>value</th>\n      <th>year</th>\n      <th>month</th>\n      <th>day</th>\n      <th>yearday</th>\n      <th>dec_day</th>\n      <th>season_year</th>\n      <th>season_dec_day</th>\n    </tr>\n  </thead>\n  <tbody>\n    <tr>\n      <th>0</th>\n      <td>Kolda</td>\n      <td>Temperature</td>\n      <td>ECMWF</td>\n      <td>Rangeland during growing cycle</td>\n      <td>20120101</td>\n      <td>26.903</td>\n      <td>2012</td>\n      <td>1</td>\n      <td>1</td>\n      <td>1</td>\n      <td>0</td>\n      <td>2011.0</td>\n      <td>260.0</td>\n    </tr>\n    <tr>\n      <th>1</th>\n      <td>Kolda</td>\n      <td>Temperature</td>\n      <td>ECMWF</td>\n      <td>Rangeland during growing cycle</td>\n      <td>20120111</td>\n      <td>27.939</td>\n      <td>2012</td>\n      <td>1</td>\n      <td>11</td>\n      <td>11</td>\n      <td>10</td>\n      <td>2011.0</td>\n      <td>270.0</td>\n    </tr>\n    <tr>\n      <th>2</th>\n      <td>Kolda</td>\n      <td>Temperature</td>\n      <td>ECMWF</td>\n      <td>Rangeland during growing cycle</td>\n      <td>20120501</td>\n      <td>33.000</td>\n      <td>2012</td>\n      <td>5</td>\n      <td>1</td>\n      <td>122</td>\n      <td>120</td>\n      <td>2012.0</td>\n      <td>20.0</td>\n    </tr>\n    <tr>\n      <th>3</th>\n      <td>Kolda</td>\n      <td>Temperature</td>\n      <td>ECMWF</td>\n      <td>Rangeland during growing cycle</td>\n      <td>20120511</td>\n      <td>31.339</td>\n      <td>2012</td>\n      <td>5</td>\n      <td>11</td>\n      <td>132</td>\n      <td>130</td>\n      <td>2012.0</td>\n      <td>30.0</td>\n    </tr>\n    <tr>\n      <th>4</th>\n      <td>Kolda</td>\n      <td>Temperature</td>\n      <td>ECMWF</td>\n      <td>Rangeland during growing cycle</td>\n      <td>20120521</td>\n      <td>31.639</td>\n      <td>2012</td>\n      <td>5</td>\n      <td>21</td>\n      <td>142</td>\n      <td>140</td>\n      <td>2012.0</td>\n      <td>40.0</td>\n    </tr>\n    <tr>\n      <th>...</th>\n      <td>...</td>\n      <td>...</td>\n      <td>...</td>\n      <td>...</td>\n      <td>...</td>\n      <td>...</td>\n      <td>...</td>\n      <td>...</td>\n      <td>...</td>\n      <td>...</td>\n      <td>...</td>\n      <td>...</td>\n      <td>...</td>\n    </tr>\n    <tr>\n      <th>85473</th>\n      <td>Kolda</td>\n      <td>Rainfall</td>\n      <td>ECMWF-CHIRPS</td>\n      <td>Crop during growing cycle</td>\n      <td>20201011</td>\n      <td>30.356</td>\n      <td>2020</td>\n      <td>10</td>\n      <td>11</td>\n      <td>285</td>\n      <td>280</td>\n      <td>2020.0</td>\n      <td>180.0</td>\n    </tr>\n    <tr>\n      <th>85474</th>\n      <td>Kolda</td>\n      <td>Rainfall</td>\n      <td>ECMWF-CHIRPS</td>\n      <td>Crop during growing cycle</td>\n      <td>20201021</td>\n      <td>2.075</td>\n      <td>2020</td>\n      <td>10</td>\n      <td>21</td>\n      <td>295</td>\n      <td>290</td>\n      <td>2020.0</td>\n      <td>190.0</td>\n    </tr>\n    <tr>\n      <th>85475</th>\n      <td>Kolda</td>\n      <td>Rainfall</td>\n      <td>ECMWF-CHIRPS</td>\n      <td>Crop during growing cycle</td>\n      <td>20201101</td>\n      <td>1.102</td>\n      <td>2020</td>\n      <td>11</td>\n      <td>1</td>\n      <td>306</td>\n      <td>300</td>\n      <td>2020.0</td>\n      <td>200.0</td>\n    </tr>\n    <tr>\n      <th>85476</th>\n      <td>Kolda</td>\n      <td>Rainfall</td>\n      <td>ECMWF-CHIRPS</td>\n      <td>Crop during growing cycle</td>\n      <td>20201111</td>\n      <td>0.136</td>\n      <td>2020</td>\n      <td>11</td>\n      <td>11</td>\n      <td>316</td>\n      <td>310</td>\n      <td>2020.0</td>\n      <td>210.0</td>\n    </tr>\n    <tr>\n      <th>85477</th>\n      <td>Kolda</td>\n      <td>Rainfall</td>\n      <td>ECMWF-CHIRPS</td>\n      <td>Crop during growing cycle</td>\n      <td>20201121</td>\n      <td>0.000</td>\n      <td>2020</td>\n      <td>11</td>\n      <td>21</td>\n      <td>326</td>\n      <td>320</td>\n      <td>2020.0</td>\n      <td>220.0</td>\n    </tr>\n  </tbody>\n</table>\n<p>6411 rows × 13 columns</p>\n</div>"
     },
     "execution_count": 108,
     "metadata": {},
     "output_type": "execute_result"
    }
   ],
   "source": [
    "df_asap[df_asap['region_name'] == \"Kolda\"]\n"
   ],
   "metadata": {
    "collapsed": false,
    "pycharm": {
     "name": "#%%\n"
    }
   }
  },
  {
   "cell_type": "code",
   "execution_count": null,
   "outputs": [],
   "source": [],
   "metadata": {
    "collapsed": false,
    "pycharm": {
     "name": "#%%\n"
    }
   }
  }
 ],
 "metadata": {
  "kernelspec": {
   "display_name": "Python 3",
   "language": "python",
   "name": "python3"
  },
  "language_info": {
   "codemirror_mode": {
    "name": "ipython",
    "version": 2
   },
   "file_extension": ".py",
   "mimetype": "text/x-python",
   "name": "python",
   "nbconvert_exporter": "python",
   "pygments_lexer": "ipython2",
   "version": "2.7.6"
  }
 },
 "nbformat": 4,
 "nbformat_minor": 0
}