{
 "cells": [
  {
   "cell_type": "code",
   "execution_count": null,
   "outputs": [],
   "source": [],
   "metadata": {
    "collapsed": false,
    "pycharm": {
     "name": "#%%\n"
    }
   }
  },
  {
   "cell_type": "code",
   "execution_count": null,
   "outputs": [],
   "source": [
    "\n",
    "# imports\n",
    "from pathlib import Path\n",
    "import numpy as np\n",
    "import pandas as pd\n",
    "import matplotlib.pyplot as plt\n",
    "import seaborn as sns\n",
    "from datetime import datetime\n",
    "from sklearn.ensemble import RandomForestRegressor\n",
    "from sklearn.preprocessing import minmax_scale\n",
    "import seaborn as sns\n",
    "from sklearn.model_selection import KFold\n",
    "\n",
    "%matplotlib inline\n",
    "plt.style.use('dark_background')\n",
    "\n",
    "%load_ext autoreload\n",
    "\n",
    "%autoreload 2"
   ],
   "metadata": {
    "collapsed": false,
    "pycharm": {
     "name": "#%%\n"
    }
   }
  },
  {
   "cell_type": "code",
   "execution_count": null,
   "outputs": [],
   "source": [
    "root_folder = Path.cwd().parent.parent\n",
    "data_folder = Path(root_folder).joinpath('data', 'external')"
   ],
   "metadata": {
    "collapsed": false,
    "pycharm": {
     "name": "#%%\n"
    }
   }
  },
  {
   "cell_type": "code",
   "execution_count": null,
   "outputs": [],
   "source": [
    "from src.data.task_1_food_security.dataset import Dataset"
   ],
   "metadata": {
    "collapsed": false,
    "pycharm": {
     "name": "#%%\n"
    }
   }
  },
  {
   "cell_type": "code",
   "execution_count": null,
   "outputs": [],
   "source": [
    "ds = Dataset(root_folder=root_folder)\n",
    "\n",
    "ds.prepare_dataset_array()"
   ],
   "metadata": {
    "collapsed": false,
    "pycharm": {
     "name": "#%%\n"
    }
   }
  },
  {
   "cell_type": "code",
   "execution_count": null,
   "outputs": [],
   "source": [
    "from keras.preprocessing import sequence\n",
    "import tensorflow as tf\n",
    "from keras.models import Sequential\n",
    "from keras.layers import Dense\n",
    "from keras.layers import LSTM\n",
    "\n",
    "from keras.optimizers import Adam\n",
    "from keras.models import load_model\n",
    "from keras.callbacks import ModelCheckpoint\n",
    "\n",
    "def create_new_model():\n",
    "    model = Sequential()\n",
    "    model.add(LSTM(126, input_shape=(36, 11)))\n",
    "    model.add(Dense(1, activation='linear'))\n",
    "    return model"
   ],
   "metadata": {
    "collapsed": false,
    "pycharm": {
     "name": "#%%\n"
    }
   }
  },
  {
   "cell_type": "code",
   "execution_count": null,
   "outputs": [],
   "source": [
    "model = create_new_model()\n",
    "model.summary()\n"
   ],
   "metadata": {
    "collapsed": false,
    "pycharm": {
     "name": "#%%\n"
    }
   }
  },
  {
   "cell_type": "code",
   "execution_count": null,
   "outputs": [],
   "source": [
    "VALIDATION_ACCURACY = []\n",
    "VALIDATION_LOSS = []\n",
    "\n",
    "save_dir = Path.cwd().joinpath('saved_models')\n",
    "fold_var = 1\n",
    "\n",
    "kf = KFold(n_splits = 5)\n",
    "history_dir = {}\n",
    "for train_index, val_index in kf.split(ds.X_train):\n",
    "    training_x = ds.X_train[train_index]\n",
    "    training_y = ds.y_train[train_index]\n",
    "    validation_x = ds.X_train[val_index]\n",
    "    validation_y = ds.y_train[val_index]\n",
    "\n",
    "    # CREATE NEW MODEL\n",
    "    model = create_new_model()\n",
    "\n",
    "    # COMPILE NEW MODEL\n",
    "    adam = Adam(lr=0.001)\n",
    "    model.compile(loss=tf.keras.losses.MeanSquaredError(),\n",
    "                  optimizer=adam,\n",
    "                  metrics=[tf.keras.losses.MeanSquaredError()])\n",
    "\n",
    "    # CREATE CALLBACKS\n",
    "    chk = ModelCheckpoint(f'saved_models/best_model{fold_var}.pkl',\n",
    "                      monitor='mean_squared_error',\n",
    "                      save_best_only=True,\n",
    "                      mode='min',\n",
    "                      verbose=0)\n",
    "\n",
    "    callbacks_list = [chk]\n",
    "    # There can be other callbacks, but just showing one because it involves the model name\n",
    "    # This saves the best model\n",
    "    # FIT THE MODEL\n",
    "\n",
    "    history = model.fit(training_x,\n",
    "                        training_y,\n",
    "                        epochs=100,\n",
    "                        batch_size=100,\n",
    "                        callbacks=callbacks_list,\n",
    "                        validation_data=(validation_x,validation_y),\n",
    "                        verbose=0)\n",
    "\n",
    "    #PLOT HISTORY\n",
    "    #\t\t:\n",
    "    #\t\t:\n",
    "\n",
    "    # LOAD BEST MODEL to evaluate the performance of the model\n",
    "    model.load_weights(f'saved_models/best_model{fold_var}.pkl')\n",
    "\n",
    "    results = model.evaluate(validation_x, validation_y)\n",
    "    results = dict(zip(model.metrics_names,results))\n",
    "    history_dir[str(fold_var)] = history\n",
    "    VALIDATION_ACCURACY.append(results['mean_squared_error'])\n",
    "    VALIDATION_LOSS.append(results['loss'])\n",
    "    print(f\"Fold {fold_var}\")\n",
    "    print(results)\n",
    "    print(\"+++++++++++++\"*5)\n",
    "    tf.keras.backend.clear_session()\n",
    "\n",
    "    fold_var += 1\n",
    "\n"
   ],
   "metadata": {
    "collapsed": false,
    "pycharm": {
     "name": "#%%\n"
    }
   }
  },
  {
   "cell_type": "code",
   "execution_count": null,
   "outputs": [],
   "source": [],
   "metadata": {
    "collapsed": false,
    "pycharm": {
     "name": "#%%\n"
    }
   }
  },
  {
   "cell_type": "code",
   "execution_count": null,
   "outputs": [],
   "source": [
    "p = {'first_neuron':[9,10,11],\n",
    "     'hidden_layers':[0, 1, 2],\n",
    "     'batch_size': [30],\n",
    "     'epochs': [100],\n",
    "     'dropout': [0],\n",
    "     'kernel_initializer': ['uniform','normal'],\n",
    "     'optimizer': ['Nadam', 'Adam'],\n",
    "     'losses': ['binary_crossentropy'],\n",
    "     'activation':['relu', 'elu'],\n",
    "     'last_activation': ['sigmoid']}"
   ],
   "metadata": {
    "collapsed": false,
    "pycharm": {
     "name": "#%%\n"
    }
   }
  },
  {
   "cell_type": "code",
   "execution_count": null,
   "outputs": [],
   "source": [
    "\n",
    "# and run the experiment\n",
    "t = talos.Scan(x=x,\n",
    "               y=y,\n",
    "               model=breast_cancer_model,\n",
    "               params=p,\n",
    "               experiment_name='breast_cancer',\n",
    "               round_limit=10)\n"
   ],
   "metadata": {
    "collapsed": false,
    "pycharm": {
     "name": "#%%\n"
    }
   }
  }
 ],
 "metadata": {
  "kernelspec": {
   "display_name": "Python 3",
   "language": "python",
   "name": "python3"
  },
  "language_info": {
   "codemirror_mode": {
    "name": "ipython",
    "version": 2
   },
   "file_extension": ".py",
   "mimetype": "text/x-python",
   "name": "python",
   "nbconvert_exporter": "python",
   "pygments_lexer": "ipython2",
   "version": "2.7.6"
  }
 },
 "nbformat": 4,
 "nbformat_minor": 0
}