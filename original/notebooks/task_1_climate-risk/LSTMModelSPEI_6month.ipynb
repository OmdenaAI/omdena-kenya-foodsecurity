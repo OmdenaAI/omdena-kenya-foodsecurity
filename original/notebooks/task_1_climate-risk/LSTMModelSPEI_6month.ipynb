{
  "nbformat": 4,
  "nbformat_minor": 0,
  "metadata": {
    "colab": {
      "name": "LSTMModelSPEI-6month.ipynb",
      "provenance": [],
      "collapsed_sections": []
    },
    "kernelspec": {
      "name": "python3",
      "display_name": "Python 3"
    },
    "accelerator": "GPU"
  },
  "cells": [
    {
      "cell_type": "code",
      "metadata": {
        "id": "ZVgSNLVLfxKM"
      },
      "source": [
        "import numpy as np\r\n",
        "import pandas as pd\r\n",
        "\r\n",
        "import sklearn\r\n",
        "import matplotlib.pyplot as plt\r\n",
        "from sklearn.model_selection import train_test_split\r\n",
        "from sklearn.metrics import mean_squared_error\r\n",
        "from sklearn.preprocessing import StandardScaler\r\n",
        "from numpy import array\r\n",
        "from keras.models import Sequential\r\n",
        "from keras.layers import LSTM\r\n",
        "from keras.layers import Dense"
      ],
      "execution_count": 1,
      "outputs": []
    },
    {
      "cell_type": "code",
      "metadata": {
        "id": "8dsJLnOsqcRa"
      },
      "source": [
        "import tensorflow as tf"
      ],
      "execution_count": 2,
      "outputs": []
    },
    {
      "cell_type": "code",
      "metadata": {
        "id": "m5HHGEivfz9b"
      },
      "source": [
        "#SPEI - 1 month, 6 month models (LSTM)\r\n",
        "#SPEI with humidity, temperature models - 1 month (LSTM)\r\n",
        "#ConvLSTM if time permits"
      ],
      "execution_count": 3,
      "outputs": []
    },
    {
      "cell_type": "code",
      "metadata": {
        "id": "dOv3v84Li5pt"
      },
      "source": [
        "#SPEI 6 month model"
      ],
      "execution_count": 4,
      "outputs": []
    },
    {
      "cell_type": "code",
      "metadata": {
        "colab": {
          "base_uri": "https://localhost:8080/"
        },
        "id": "t0ZniF23iVL1",
        "outputId": "bef7b695-71f8-4ace-ac29-0026dbc58452"
      },
      "source": [
        "from google.colab import drive\r\n",
        "drive.mount('/content/drive')"
      ],
      "execution_count": 5,
      "outputs": [
        {
          "output_type": "stream",
          "text": [
            "Mounted at /content/drive\n"
          ],
          "name": "stdout"
        }
      ]
    },
    {
      "cell_type": "code",
      "metadata": {
        "id": "cmEXXR3li98J"
      },
      "source": [
        "df = pd.read_csv(\"/content/drive/MyDrive/data_senegal/senegal_weather_spei_1970_2020_025x025_v3.csv\")"
      ],
      "execution_count": 17,
      "outputs": []
    },
    {
      "cell_type": "code",
      "metadata": {
        "id": "8e2Ky9A2jMt3"
      },
      "source": [
        "df = df.dropna()\r\n",
        "df = df.reset_index(drop=True)"
      ],
      "execution_count": 18,
      "outputs": []
    },
    {
      "cell_type": "code",
      "metadata": {
        "id": "jZyPJXt3y_Wt"
      },
      "source": [
        "spei_values = df[\"spei_6mon\"]"
      ],
      "execution_count": 19,
      "outputs": []
    },
    {
      "cell_type": "code",
      "metadata": {
        "id": "nuxgJ5vnpUAD"
      },
      "source": [
        "def split_sequence(sequence, n_steps):\r\n",
        "    X, y = list(), list()\r\n",
        "    for i in range(len(sequence)):\r\n",
        "        end_ix = i + n_steps\r\n",
        "        if end_ix > len(sequence)-1:\r\n",
        "            break\r\n",
        "        seq_x, seq_y = sequence[i:end_ix], sequence[end_ix]\r\n",
        "        X.append(seq_x)\r\n",
        "        y.append(seq_y)\r\n",
        "        \r\n",
        "    return np.array(X), np.array(y)"
      ],
      "execution_count": 10,
      "outputs": []
    },
    {
      "cell_type": "code",
      "metadata": {
        "id": "ZGCwx9jjy_aD"
      },
      "source": [
        "n_steps = 12\r\n",
        "X, y = split_sequence(spei_values, n_steps)"
      ],
      "execution_count": 20,
      "outputs": []
    },
    {
      "cell_type": "code",
      "metadata": {
        "id": "wYDV9sByy_eE"
      },
      "source": [
        "X_train, X_test, y_train, y_test = train_test_split(X, y, test_size=0.2, random_state=123)"
      ],
      "execution_count": 26,
      "outputs": []
    },
    {
      "cell_type": "code",
      "metadata": {
        "id": "jJ7z_Yl1y_hr"
      },
      "source": [
        "scaler = StandardScaler()\r\n",
        "X_train = scaler.fit_transform(np.array(X_train))\r\n",
        "scaler = StandardScaler()\r\n",
        "X_test = scaler.fit_transform(np.array(X_test))\r\n",
        "scaler = StandardScaler()\r\n",
        "y_train = scaler.fit_transform(y_train.reshape(-1,1))\r\n",
        "scaler = StandardScaler()\r\n",
        "y_test = scaler.fit_transform(y_test.reshape(-1,1))"
      ],
      "execution_count": 27,
      "outputs": []
    },
    {
      "cell_type": "code",
      "metadata": {
        "colab": {
          "base_uri": "https://localhost:8080/"
        },
        "id": "2VeS8vbRpbIh",
        "outputId": "af99dd83-0a1b-477b-87df-2e9f6e912f1f"
      },
      "source": [
        "n_features = 1 #Since it's a univariate model\r\n",
        "\r\n",
        "model = Sequential()\r\n",
        "model.add(LSTM(50, activation='relu', return_sequences=True, input_shape=(n_steps, n_features)))\r\n",
        "model.add(LSTM(50, activation='relu'))\r\n",
        "model.add(Dense(1))\r\n",
        "model.compile(optimizer='adam', loss='mse')"
      ],
      "execution_count": 28,
      "outputs": [
        {
          "output_type": "stream",
          "text": [
            "WARNING:tensorflow:Layer lstm_2 will not use cuDNN kernel since it doesn't meet the cuDNN kernel criteria. It will use generic GPU kernel as fallback when running on GPU\n",
            "WARNING:tensorflow:Layer lstm_3 will not use cuDNN kernel since it doesn't meet the cuDNN kernel criteria. It will use generic GPU kernel as fallback when running on GPU\n"
          ],
          "name": "stdout"
        }
      ]
    },
    {
      "cell_type": "code",
      "metadata": {
        "id": "_cXHiqz0pds3"
      },
      "source": [
        "X_train = X_train.reshape((X_train.shape[0], X_train.shape[1], n_features))\r\n",
        "X_test = X_test.reshape((X_test.shape[0], X_test.shape[1], n_features))"
      ],
      "execution_count": 30,
      "outputs": []
    },
    {
      "cell_type": "code",
      "metadata": {
        "colab": {
          "base_uri": "https://localhost:8080/"
        },
        "id": "A424q784peDX",
        "outputId": "64432601-d37f-47f1-f93f-0422fe8886a4"
      },
      "source": [
        "with tf.device('/device:GPU:0'):\r\n",
        "  model.fit(X_train, y_train, epochs=60, batch_size=64) #25+28 epochs already - 0.040950603159884275 0.9570728210244714"
      ],
      "execution_count": 31,
      "outputs": [
        {
          "output_type": "stream",
          "text": [
            "Epoch 1/60\n",
            "2309/2309 [==============================] - 97s 41ms/step - loss: 0.1651\n",
            "Epoch 2/60\n",
            "2309/2309 [==============================] - 95s 41ms/step - loss: 0.0905\n",
            "Epoch 3/60\n",
            "2309/2309 [==============================] - 94s 41ms/step - loss: 0.0841\n",
            "Epoch 4/60\n",
            "2309/2309 [==============================] - 94s 41ms/step - loss: 0.0763\n",
            "Epoch 5/60\n",
            "2309/2309 [==============================] - 95s 41ms/step - loss: 0.0743\n",
            "Epoch 6/60\n",
            "2309/2309 [==============================] - 95s 41ms/step - loss: 0.0705\n",
            "Epoch 7/60\n",
            "2309/2309 [==============================] - 95s 41ms/step - loss: 0.0658\n",
            "Epoch 8/60\n",
            "2309/2309 [==============================] - 96s 41ms/step - loss: 0.0632\n",
            "Epoch 9/60\n",
            "2309/2309 [==============================] - 95s 41ms/step - loss: 0.0597\n",
            "Epoch 10/60\n",
            "2309/2309 [==============================] - 95s 41ms/step - loss: 0.0569\n",
            "Epoch 11/60\n",
            "2309/2309 [==============================] - 95s 41ms/step - loss: 0.0529\n",
            "Epoch 12/60\n",
            "2309/2309 [==============================] - 95s 41ms/step - loss: 0.0501\n",
            "Epoch 13/60\n",
            "2309/2309 [==============================] - 95s 41ms/step - loss: 0.0473\n",
            "Epoch 14/60\n",
            "2309/2309 [==============================] - 95s 41ms/step - loss: 0.0443\n",
            "Epoch 15/60\n",
            "2309/2309 [==============================] - 96s 42ms/step - loss: 0.0421\n",
            "Epoch 16/60\n",
            "2309/2309 [==============================] - 96s 41ms/step - loss: 0.0397\n",
            "Epoch 17/60\n",
            "2309/2309 [==============================] - 95s 41ms/step - loss: 0.0379\n",
            "Epoch 18/60\n",
            "2309/2309 [==============================] - 95s 41ms/step - loss: 0.0364\n",
            "Epoch 19/60\n",
            "2309/2309 [==============================] - 95s 41ms/step - loss: 0.0348\n",
            "Epoch 20/60\n",
            "2309/2309 [==============================] - 95s 41ms/step - loss: 0.0334\n",
            "Epoch 21/60\n",
            "2309/2309 [==============================] - 95s 41ms/step - loss: 0.0319\n",
            "Epoch 22/60\n",
            "2309/2309 [==============================] - 95s 41ms/step - loss: 0.0313\n",
            "Epoch 23/60\n",
            "2309/2309 [==============================] - 95s 41ms/step - loss: 0.0301\n",
            "Epoch 24/60\n",
            "2309/2309 [==============================] - 95s 41ms/step - loss: 0.0288\n",
            "Epoch 25/60\n",
            "2309/2309 [==============================] - 95s 41ms/step - loss: 0.0282\n",
            "Epoch 26/60\n",
            "2309/2309 [==============================] - 95s 41ms/step - loss: 0.0274\n",
            "Epoch 27/60\n",
            "2309/2309 [==============================] - 95s 41ms/step - loss: 0.0264\n",
            "Epoch 28/60\n",
            "2309/2309 [==============================] - 96s 42ms/step - loss: 0.0257\n",
            "Epoch 29/60\n",
            "2309/2309 [==============================] - 95s 41ms/step - loss: 0.0249\n",
            "Epoch 30/60\n",
            "2309/2309 [==============================] - 95s 41ms/step - loss: 0.0247\n",
            "Epoch 31/60\n",
            "2309/2309 [==============================] - 96s 41ms/step - loss: 0.0241\n",
            "Epoch 32/60\n",
            "2309/2309 [==============================] - 94s 41ms/step - loss: 0.0232\n",
            "Epoch 33/60\n",
            "2309/2309 [==============================] - 95s 41ms/step - loss: 0.0228\n",
            "Epoch 34/60\n",
            "2309/2309 [==============================] - 95s 41ms/step - loss: 0.0223\n",
            "Epoch 35/60\n",
            "2309/2309 [==============================] - 95s 41ms/step - loss: 0.0218\n",
            "Epoch 36/60\n",
            "2309/2309 [==============================] - 94s 41ms/step - loss: 0.0212\n",
            "Epoch 37/60\n",
            "2309/2309 [==============================] - 94s 41ms/step - loss: 0.0210\n",
            "Epoch 38/60\n",
            "2309/2309 [==============================] - 95s 41ms/step - loss: 0.0205\n",
            "Epoch 39/60\n",
            "2309/2309 [==============================] - 94s 41ms/step - loss: 0.0201\n",
            "Epoch 40/60\n",
            "2309/2309 [==============================] - 95s 41ms/step - loss: 0.0199\n",
            "Epoch 41/60\n",
            "2309/2309 [==============================] - 96s 41ms/step - loss: 0.0194\n",
            "Epoch 42/60\n",
            "2309/2309 [==============================] - 94s 41ms/step - loss: 0.0193\n",
            "Epoch 43/60\n",
            "2309/2309 [==============================] - 95s 41ms/step - loss: 0.0190\n",
            "Epoch 44/60\n",
            "2309/2309 [==============================] - 95s 41ms/step - loss: 0.0187\n",
            "Epoch 45/60\n",
            "2309/2309 [==============================] - 95s 41ms/step - loss: 0.0183\n",
            "Epoch 46/60\n",
            "2309/2309 [==============================] - 95s 41ms/step - loss: 0.0180\n",
            "Epoch 47/60\n",
            "2309/2309 [==============================] - 95s 41ms/step - loss: 0.0179\n",
            "Epoch 48/60\n",
            "2309/2309 [==============================] - 96s 41ms/step - loss: 0.0176\n",
            "Epoch 49/60\n",
            "2309/2309 [==============================] - 95s 41ms/step - loss: 0.0174\n",
            "Epoch 50/60\n",
            "2309/2309 [==============================] - 95s 41ms/step - loss: 0.0172\n",
            "Epoch 51/60\n",
            "2309/2309 [==============================] - 96s 41ms/step - loss: 0.0170\n",
            "Epoch 52/60\n",
            "2309/2309 [==============================] - 96s 41ms/step - loss: 0.0169\n",
            "Epoch 53/60\n",
            "2309/2309 [==============================] - 95s 41ms/step - loss: 0.0165\n",
            "Epoch 54/60\n",
            "2309/2309 [==============================] - 96s 42ms/step - loss: 0.0166\n",
            "Epoch 55/60\n",
            "2309/2309 [==============================] - 95s 41ms/step - loss: 0.0162\n",
            "Epoch 56/60\n",
            "2309/2309 [==============================] - 96s 42ms/step - loss: 0.0162\n",
            "Epoch 57/60\n",
            "2309/2309 [==============================] - 96s 41ms/step - loss: 0.0161\n",
            "Epoch 58/60\n",
            "2309/2309 [==============================] - 96s 42ms/step - loss: 0.0158\n",
            "Epoch 59/60\n",
            "2309/2309 [==============================] - 96s 42ms/step - loss: 0.0154\n",
            "Epoch 60/60\n",
            "2309/2309 [==============================] - 96s 42ms/step - loss: 0.0156\n"
          ],
          "name": "stdout"
        }
      ]
    },
    {
      "cell_type": "code",
      "metadata": {
        "colab": {
          "base_uri": "https://localhost:8080/"
        },
        "id": "Cp3JiCQkp5Mc",
        "outputId": "1de10cfe-2426-4574-b330-dcbff2048765"
      },
      "source": [
        "y_hat = model.predict(X_test)\r\n",
        "print(mean_squared_error(y_hat, y_test))\r\n",
        "print(sklearn.metrics.r2_score(y_hat, y_test))"
      ],
      "execution_count": 32,
      "outputs": [
        {
          "output_type": "stream",
          "text": [
            "0.019476872655452036\n",
            "0.9802836379552837\n"
          ],
          "name": "stdout"
        }
      ]
    }
  ]
}