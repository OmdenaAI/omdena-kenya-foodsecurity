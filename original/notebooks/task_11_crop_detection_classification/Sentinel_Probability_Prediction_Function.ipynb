{
 "cells": [
  {
   "cell_type": "code",
   "execution_count": 14,
   "metadata": {},
   "outputs": [],
   "source": [
    "import pandas as pd\n",
    "import numpy as np\n",
    "import seaborn as sns\n",
    "import matplotlib.pyplot as plt\n",
    "\n",
    "%matplotlib inline \n",
    "\n",
    "from sklearn.model_selection import train_test_split\n",
    "from sklearn.ensemble import RandomForestClassifier\n",
    "\n",
    "from sklearn.pipeline import Pipeline\n",
    "\n",
    "import imblearn\n",
    "from imblearn.over_sampling import SMOTE"
   ]
  },
  {
   "cell_type": "code",
   "execution_count": 63,
   "metadata": {},
   "outputs": [],
   "source": [
    "def predictCrop(array):\n",
    "    \n",
    "    \"\"\" This function takes in an array of 18 numbers: bands, ndvi and \n",
    "    season. \n",
    "    output: an array of 9 numbers representing the probability of each\n",
    "    of the 9 crops.\"\"\"\n",
    "    \n",
    "    # load data\n",
    "    sentinel_1 = pd.read_csv('Sentinel_training_farms_Tuned_s1.csv')\n",
    "    sentinel_2 = pd.read_csv('Sentinel_training_farms_Tuned_s2.csv')\n",
    "    \n",
    "    sentinel_1['season'] = 1\n",
    "    sentinel_2['season'] = 2\n",
    "\n",
    "    data = sentinel_1.append(sentinel_2) # concat season1 and season2 data\n",
    "\n",
    "    data.drop(['system:index', '.geo'], axis=1, inplace=True)\n",
    "    #sentinel_1.drop(['system:index', '.geo'], axis=1, inplace=True)\n",
    "\n",
    "    y = data['CID']\n",
    "    X = data.drop(['CID'], axis=1)\n",
    "    \n",
    "    # instantiate model\n",
    "    model = RandomForestClassifier(n_estimators=250)\n",
    "    \n",
    "    # Modeling code in a pipeline\n",
    "    my_pipeline = Pipeline(steps=[('model', model)])\n",
    "\n",
    "    #Split data\n",
    "    X_train, X_test, y_train, y_test = train_test_split(X, y, test_size=0.3, shuffle=True, stratify=y, random_state=123)\n",
    "\n",
    "    # Scaling training data ONLY:\n",
    "    smt = SMOTE(random_state = 123)\n",
    "    X_train_smote, y_train_smote = smt.fit_resample(X_train,y_train)\n",
    "    \n",
    "    # fit model on scaled training data:\n",
    "    my_pipeline.fit(X_train_smote, y_train_smote)\n",
    "    \n",
    "    return my_pipeline.predict_proba([array])"
   ]
  },
  {
   "cell_type": "markdown",
   "metadata": {},
   "source": [
    "### e.g."
   ]
  },
  {
   "cell_type": "code",
   "execution_count": 71,
   "metadata": {},
   "outputs": [
    {
     "data": {
      "text/plain": [
       "array([[0.   , 0.   , 0.   , 0.   , 0.972, 0.008, 0.   , 0.004, 0.016]])"
      ]
     },
     "execution_count": 71,
     "metadata": {},
     "output_type": "execute_result"
    }
   ],
   "source": [
    "predictCrop(test2)"
   ]
  },
  {
   "cell_type": "code",
   "execution_count": 72,
   "metadata": {},
   "outputs": [
    {
     "data": {
      "text/plain": [
       "B1        0.117100\n",
       "B10       0.001000\n",
       "B11       0.146000\n",
       "B12       0.078000\n",
       "B2        0.091800\n",
       "B3        0.083100\n",
       "B4        0.069400\n",
       "B5        0.096300\n",
       "B6        0.176200\n",
       "B7        0.216100\n",
       "B8        0.214800\n",
       "B8A       0.241100\n",
       "B9        0.054300\n",
       "NDVI      0.511612\n",
       "QA10      0.000000\n",
       "QA20      0.000000\n",
       "QA60      0.000000\n",
       "season    1.000000\n",
       "Name: 10150, dtype: float64"
      ]
     },
     "execution_count": 72,
     "metadata": {},
     "output_type": "execute_result"
    }
   ],
   "source": [
    "test2 = data.iloc[10150]\n",
    "test2 # CID=5"
   ]
  },
  {
   "cell_type": "code",
   "execution_count": null,
   "metadata": {},
   "outputs": [],
   "source": []
  }
 ],
 "metadata": {
  "kernelspec": {
   "display_name": "Python 3",
   "language": "python",
   "name": "python3"
  },
  "language_info": {
   "codemirror_mode": {
    "name": "ipython",
    "version": 3
   },
   "file_extension": ".py",
   "mimetype": "text/x-python",
   "name": "python",
   "nbconvert_exporter": "python",
   "pygments_lexer": "ipython3",
   "version": "3.8.3"
  }
 },
 "nbformat": 4,
 "nbformat_minor": 4
}
