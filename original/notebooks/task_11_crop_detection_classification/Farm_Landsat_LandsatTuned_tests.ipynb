{
 "cells": [
  {
   "cell_type": "markdown",
   "metadata": {},
   "source": [
    "### Is it possible to identify the type of crop grown from the band and ndvi readings?"
   ]
  },
  {
   "cell_type": "code",
   "execution_count": 1,
   "metadata": {},
   "outputs": [],
   "source": [
    "import pandas as pd\n",
    "import numpy as np\n",
    "import seaborn as sns\n",
    "import matplotlib.pyplot as plt\n",
    "\n",
    "%matplotlib inline \n",
    "\n",
    "from sklearn.preprocessing import StandardScaler\n",
    "from sklearn.model_selection import train_test_split\n",
    "from sklearn.svm import SVC \n",
    "\n",
    "from sklearn.metrics import confusion_matrix \n",
    "from sklearn.metrics import classification_report\n",
    "from sklearn.metrics import f1_score\n",
    "from sklearn.metrics import accuracy_score\n",
    "from sklearn.metrics import log_loss\n",
    "from sklearn.metrics import roc_auc_score\n"
   ]
  },
  {
   "cell_type": "markdown",
   "metadata": {},
   "source": [
    "### Tests:\n",
    "- SVM, Logistic Regression and Random Forest....RF gave best results.\n",
    "- Scaled vrs unscaled data (StandardScaler used for SVM and Logreg).\n",
    "- Upclaed imbalanced data.\n",
    "- Vary n_estimator for Random Forest"
   ]
  },
  {
   "cell_type": "code",
   "execution_count": 84,
   "metadata": {},
   "outputs": [],
   "source": [
    "data = pd.read_csv('training_farms.csv')"
   ]
  },
  {
   "cell_type": "code",
   "execution_count": 85,
   "metadata": {},
   "outputs": [
    {
     "data": {
      "text/html": [
       "<div>\n",
       "<style scoped>\n",
       "    .dataframe tbody tr th:only-of-type {\n",
       "        vertical-align: middle;\n",
       "    }\n",
       "\n",
       "    .dataframe tbody tr th {\n",
       "        vertical-align: top;\n",
       "    }\n",
       "\n",
       "    .dataframe thead th {\n",
       "        text-align: right;\n",
       "    }\n",
       "</style>\n",
       "<table border=\"1\" class=\"dataframe\">\n",
       "  <thead>\n",
       "    <tr style=\"text-align: right;\">\n",
       "      <th></th>\n",
       "      <th>B1</th>\n",
       "      <th>B10</th>\n",
       "      <th>B11</th>\n",
       "      <th>B2</th>\n",
       "      <th>B3</th>\n",
       "      <th>B4</th>\n",
       "      <th>B5</th>\n",
       "      <th>B6</th>\n",
       "      <th>B7</th>\n",
       "      <th>B8</th>\n",
       "      <th>B9</th>\n",
       "      <th>BQA</th>\n",
       "      <th>CID</th>\n",
       "      <th>NDVI</th>\n",
       "      <th>.geo</th>\n",
       "    </tr>\n",
       "  </thead>\n",
       "  <tbody>\n",
       "    <tr>\n",
       "      <th>count</th>\n",
       "      <td>5468.000000</td>\n",
       "      <td>5468.000000</td>\n",
       "      <td>5468.000000</td>\n",
       "      <td>5468.000000</td>\n",
       "      <td>5468.000000</td>\n",
       "      <td>5468.000000</td>\n",
       "      <td>5468.000000</td>\n",
       "      <td>5468.000000</td>\n",
       "      <td>5468.000000</td>\n",
       "      <td>5468.000000</td>\n",
       "      <td>5468.000000</td>\n",
       "      <td>5468.000000</td>\n",
       "      <td>5468.000000</td>\n",
       "      <td>5468.000000</td>\n",
       "      <td>0.0</td>\n",
       "    </tr>\n",
       "    <tr>\n",
       "      <th>mean</th>\n",
       "      <td>0.106246</td>\n",
       "      <td>300.207644</td>\n",
       "      <td>299.515924</td>\n",
       "      <td>0.086969</td>\n",
       "      <td>0.083909</td>\n",
       "      <td>0.056728</td>\n",
       "      <td>0.456091</td>\n",
       "      <td>0.172783</td>\n",
       "      <td>0.078494</td>\n",
       "      <td>0.071790</td>\n",
       "      <td>0.001561</td>\n",
       "      <td>20507.008047</td>\n",
       "      <td>5.948610</td>\n",
       "      <td>0.770239</td>\n",
       "      <td>NaN</td>\n",
       "    </tr>\n",
       "    <tr>\n",
       "      <th>std</th>\n",
       "      <td>0.006697</td>\n",
       "      <td>3.972131</td>\n",
       "      <td>4.175493</td>\n",
       "      <td>0.007508</td>\n",
       "      <td>0.010224</td>\n",
       "      <td>0.014802</td>\n",
       "      <td>0.082971</td>\n",
       "      <td>0.024074</td>\n",
       "      <td>0.018733</td>\n",
       "      <td>0.012715</td>\n",
       "      <td>0.001584</td>\n",
       "      <td>11.612388</td>\n",
       "      <td>2.108653</td>\n",
       "      <td>0.082804</td>\n",
       "      <td>NaN</td>\n",
       "    </tr>\n",
       "    <tr>\n",
       "      <th>min</th>\n",
       "      <td>0.090428</td>\n",
       "      <td>285.348300</td>\n",
       "      <td>283.500600</td>\n",
       "      <td>0.069740</td>\n",
       "      <td>0.058633</td>\n",
       "      <td>0.032402</td>\n",
       "      <td>0.187322</td>\n",
       "      <td>0.085857</td>\n",
       "      <td>0.040083</td>\n",
       "      <td>0.046852</td>\n",
       "      <td>0.000554</td>\n",
       "      <td>20480.000000</td>\n",
       "      <td>1.000000</td>\n",
       "      <td>0.325403</td>\n",
       "      <td>NaN</td>\n",
       "    </tr>\n",
       "    <tr>\n",
       "      <th>25%</th>\n",
       "      <td>0.101773</td>\n",
       "      <td>297.717485</td>\n",
       "      <td>296.889788</td>\n",
       "      <td>0.081924</td>\n",
       "      <td>0.077298</td>\n",
       "      <td>0.046658</td>\n",
       "      <td>0.396695</td>\n",
       "      <td>0.157475</td>\n",
       "      <td>0.066479</td>\n",
       "      <td>0.063583</td>\n",
       "      <td>0.001057</td>\n",
       "      <td>20512.000000</td>\n",
       "      <td>4.000000</td>\n",
       "      <td>0.734550</td>\n",
       "      <td>NaN</td>\n",
       "    </tr>\n",
       "    <tr>\n",
       "      <th>50%</th>\n",
       "      <td>0.104833</td>\n",
       "      <td>300.112530</td>\n",
       "      <td>299.202200</td>\n",
       "      <td>0.085381</td>\n",
       "      <td>0.082414</td>\n",
       "      <td>0.053185</td>\n",
       "      <td>0.452584</td>\n",
       "      <td>0.171602</td>\n",
       "      <td>0.074566</td>\n",
       "      <td>0.069034</td>\n",
       "      <td>0.001194</td>\n",
       "      <td>20512.000000</td>\n",
       "      <td>6.000000</td>\n",
       "      <td>0.789321</td>\n",
       "      <td>NaN</td>\n",
       "    </tr>\n",
       "    <tr>\n",
       "      <th>75%</th>\n",
       "      <td>0.109396</td>\n",
       "      <td>302.715103</td>\n",
       "      <td>302.278382</td>\n",
       "      <td>0.090327</td>\n",
       "      <td>0.088724</td>\n",
       "      <td>0.062213</td>\n",
       "      <td>0.516175</td>\n",
       "      <td>0.186545</td>\n",
       "      <td>0.085936</td>\n",
       "      <td>0.076516</td>\n",
       "      <td>0.001400</td>\n",
       "      <td>20512.000000</td>\n",
       "      <td>8.000000</td>\n",
       "      <td>0.828141</td>\n",
       "      <td>NaN</td>\n",
       "    </tr>\n",
       "    <tr>\n",
       "      <th>max</th>\n",
       "      <td>0.198023</td>\n",
       "      <td>316.240880</td>\n",
       "      <td>314.324300</td>\n",
       "      <td>0.190193</td>\n",
       "      <td>0.189639</td>\n",
       "      <td>0.188481</td>\n",
       "      <td>0.802882</td>\n",
       "      <td>0.301680</td>\n",
       "      <td>0.215608</td>\n",
       "      <td>0.216805</td>\n",
       "      <td>0.017344</td>\n",
       "      <td>20512.000000</td>\n",
       "      <td>9.000000</td>\n",
       "      <td>0.883861</td>\n",
       "      <td>NaN</td>\n",
       "    </tr>\n",
       "  </tbody>\n",
       "</table>\n",
       "</div>"
      ],
      "text/plain": [
       "                B1          B10          B11           B2           B3  \\\n",
       "count  5468.000000  5468.000000  5468.000000  5468.000000  5468.000000   \n",
       "mean      0.106246   300.207644   299.515924     0.086969     0.083909   \n",
       "std       0.006697     3.972131     4.175493     0.007508     0.010224   \n",
       "min       0.090428   285.348300   283.500600     0.069740     0.058633   \n",
       "25%       0.101773   297.717485   296.889788     0.081924     0.077298   \n",
       "50%       0.104833   300.112530   299.202200     0.085381     0.082414   \n",
       "75%       0.109396   302.715103   302.278382     0.090327     0.088724   \n",
       "max       0.198023   316.240880   314.324300     0.190193     0.189639   \n",
       "\n",
       "                B4           B5           B6           B7           B8  \\\n",
       "count  5468.000000  5468.000000  5468.000000  5468.000000  5468.000000   \n",
       "mean      0.056728     0.456091     0.172783     0.078494     0.071790   \n",
       "std       0.014802     0.082971     0.024074     0.018733     0.012715   \n",
       "min       0.032402     0.187322     0.085857     0.040083     0.046852   \n",
       "25%       0.046658     0.396695     0.157475     0.066479     0.063583   \n",
       "50%       0.053185     0.452584     0.171602     0.074566     0.069034   \n",
       "75%       0.062213     0.516175     0.186545     0.085936     0.076516   \n",
       "max       0.188481     0.802882     0.301680     0.215608     0.216805   \n",
       "\n",
       "                B9           BQA          CID         NDVI  .geo  \n",
       "count  5468.000000   5468.000000  5468.000000  5468.000000   0.0  \n",
       "mean      0.001561  20507.008047     5.948610     0.770239   NaN  \n",
       "std       0.001584     11.612388     2.108653     0.082804   NaN  \n",
       "min       0.000554  20480.000000     1.000000     0.325403   NaN  \n",
       "25%       0.001057  20512.000000     4.000000     0.734550   NaN  \n",
       "50%       0.001194  20512.000000     6.000000     0.789321   NaN  \n",
       "75%       0.001400  20512.000000     8.000000     0.828141   NaN  \n",
       "max       0.017344  20512.000000     9.000000     0.883861   NaN  "
      ]
     },
     "execution_count": 85,
     "metadata": {},
     "output_type": "execute_result"
    }
   ],
   "source": [
    "data.describe()"
   ]
  },
  {
   "cell_type": "code",
   "execution_count": 81,
   "metadata": {},
   "outputs": [],
   "source": [
    "#sns.pairplot(data.drop(['system:index', '.geo', 'BQA','B1','B2','B3','B4','B10','B11'],axis=1), hue='CID');"
   ]
  },
  {
   "cell_type": "code",
   "execution_count": 82,
   "metadata": {},
   "outputs": [],
   "source": [
    "#sns.pairplot(data_plt.drop(['B5','B6','B7','B8','B9'],axis=1), hue='CID');"
   ]
  },
  {
   "cell_type": "code",
   "execution_count": 83,
   "metadata": {},
   "outputs": [],
   "source": [
    "#sns.pairplot(data)"
   ]
  },
  {
   "cell_type": "code",
   "execution_count": 136,
   "metadata": {},
   "outputs": [],
   "source": [
    "y = data2['CID']\n",
    "X = data2.drop(['CID','system:index','system:index','.geo'], axis=1)"
   ]
  },
  {
   "cell_type": "code",
   "execution_count": 138,
   "metadata": {},
   "outputs": [
    {
     "data": {
      "text/plain": [
       "Index(['B1', 'B10', 'B10_1', 'B11', 'B11_1', 'B1_1', 'B2', 'B2_1', 'B3',\n",
       "       'B3_1', 'B4', 'B4_1', 'B5', 'B5_1', 'B6', 'B6_1', 'B7', 'B7_1', 'B8',\n",
       "       'B8_1', 'B9', 'B9_1', 'BQA', 'BQA_1', 'NDVI', 'NDVI_1',\n",
       "       'system:time_start', 'system:time_start_1'],\n",
       "      dtype='object')"
      ]
     },
     "execution_count": 138,
     "metadata": {},
     "output_type": "execute_result"
    }
   ],
   "source": [
    "X.columns"
   ]
  },
  {
   "cell_type": "code",
   "execution_count": 139,
   "metadata": {},
   "outputs": [],
   "source": [
    "# Split data and stratify\n",
    "X_train, X_test, y_train, y_test = train_test_split(X, y, stratify=y, random_state=123)"
   ]
  },
  {
   "cell_type": "code",
   "execution_count": 89,
   "metadata": {},
   "outputs": [],
   "source": [
    "# Scale inputs\n",
    "scaler = StandardScaler()\n",
    "scaler.fit(X_train)\n",
    "Xn_train = scaler.transform(X_train)\n",
    "Xn_test = scaler.transform(X_test)"
   ]
  },
  {
   "cell_type": "code",
   "execution_count": 90,
   "metadata": {},
   "outputs": [],
   "source": [
    "# Single Vector Machine Classification\n",
    "svm_cls = SVC(kernel = 'linear', gamma='auto',C = 0.01, class_weight='balanced', probability=True)\n",
    "svm_cls.fit(Xn_train, y_train) \n",
    "svm_predict = svm_cls.predict(Xn_test) "
   ]
  },
  {
   "cell_type": "code",
   "execution_count": 91,
   "metadata": {},
   "outputs": [
    {
     "name": "stdout",
     "output_type": "stream",
     "text": [
      "                precision    recall  f1-score   support\n",
      "\n",
      "        cotton       0.22      0.53      0.31        75\n",
      "         dates       0.00      0.00      0.00         2\n",
      "         grass       0.06      0.02      0.04        41\n",
      "       alfalfa       0.51      0.60      0.55       304\n",
      "         maize       0.45      0.27      0.34       168\n",
      "         pecan       0.23      0.22      0.23       117\n",
      "        vacant       0.28      0.30      0.29       158\n",
      "      vineyard       0.45      0.05      0.10       451\n",
      "vineyard+pecan       0.09      0.51      0.15        51\n",
      "\n",
      "      accuracy                           0.29      1367\n",
      "     macro avg       0.25      0.28      0.22      1367\n",
      "  weighted avg       0.39      0.29      0.27      1367\n",
      "\n",
      "Confustion_Matrix: \n",
      "[[ 40   3   0   9   4   2   4   2  11]\n",
      " [  0   0   0   0   0   0   2   0   0]\n",
      " [  9   7   1  11   2   2   5   2   2]\n",
      " [ 30  10   4 182  26  10  23   6  13]\n",
      " [ 26   5   2  54  45   8   7   2  19]\n",
      " [  4   7   1  25   8  26  24   5  17]\n",
      " [ 19   9   3  37   9  10  47  10  14]\n",
      " [ 48  42   5  39   6  47  51  24 189]\n",
      " [  4   2   0   2   0   8   7   2  26]]\n"
     ]
    }
   ],
   "source": [
    "# SVM Model Evaluation\n",
    "\n",
    "#f1 = f1_score(y_test, svm_predict, )\n",
    "cr = classification_report(y_test, svm_predict, labels = [1,2,3,4,5,6,7,8,9], zero_division=0,\n",
    "                          target_names=['cotton','dates','grass','alfalfa', 'maize', 'pecan',\n",
    "                                       'vacant', 'vineyard', 'vineyard+pecan'])\n",
    "print(cr)\n",
    "# creating a confusion matrix \n",
    "cm = confusion_matrix(y_test, svm_predict) \n",
    "print(f'Confustion_Matrix: \\n{cm}')\n"
   ]
  },
  {
   "cell_type": "code",
   "execution_count": 99,
   "metadata": {},
   "outputs": [
    {
     "name": "stdout",
     "output_type": "stream",
     "text": [
      "actual y_train values: {1: 226, 2: 5, 3: 124, 4: 910, 5: 505, 6: 353, 7: 472, 8: 1355, 9: 151}\n",
      "actual y_test values: {1: 75, 2: 2, 3: 41, 4: 304, 5: 168, 6: 117, 7: 158, 8: 451, 9: 51}\n",
      "predicted svm values: {1: 180, 2: 85, 3: 16, 4: 359, 5: 100, 6: 113, 7: 170, 8: 53, 9: 291}\n"
     ]
    }
   ],
   "source": [
    "unique, counts = np.unique(y_train, return_counts=True)\n",
    "print('actual y_train values:', dict(zip(unique, counts)))\n",
    "\n",
    "unique, counts = np.unique(y_test, return_counts=True)\n",
    "print('actual y_test values:', dict(zip(unique, counts)))\n",
    "\n",
    "unique, counts = np.unique(svm_predict, return_counts=True)\n",
    "print('predicted svm values:', dict(zip(unique, counts)))"
   ]
  },
  {
   "cell_type": "markdown",
   "metadata": {},
   "source": [
    "### Logistic Regression:"
   ]
  },
  {
   "cell_type": "code",
   "execution_count": 105,
   "metadata": {},
   "outputs": [],
   "source": [
    "from sklearn.linear_model import LogisticRegression"
   ]
  },
  {
   "cell_type": "code",
   "execution_count": 106,
   "metadata": {},
   "outputs": [],
   "source": [
    "\n",
    "logreg = LogisticRegression(max_iter=1000, solver='liblinear',C=0.1, class_weight='balanced')\n",
    "logreg.fit(Xn_train, y_train) \n",
    "logreg_predict = logreg.predict(Xn_test) "
   ]
  },
  {
   "cell_type": "code",
   "execution_count": 107,
   "metadata": {},
   "outputs": [
    {
     "name": "stdout",
     "output_type": "stream",
     "text": [
      "                precision    recall  f1-score   support\n",
      "\n",
      "        cotton       0.31      0.53      0.39        75\n",
      "         dates       0.00      0.00      0.00         2\n",
      "         grass       0.00      0.00      0.00        41\n",
      "       alfalfa       0.51      0.62      0.56       304\n",
      "         maize       0.44      0.26      0.33       168\n",
      "         pecan       0.33      0.28      0.31       117\n",
      "        vacant       0.33      0.20      0.25       158\n",
      "      vineyard       0.61      0.72      0.66       451\n",
      "vineyard+pecan       0.25      0.02      0.04        51\n",
      "\n",
      "      accuracy                           0.49      1367\n",
      "     macro avg       0.31      0.29      0.28      1367\n",
      "  weighted avg       0.46      0.49      0.46      1367\n",
      "\n",
      "Confustion_Matrix: \n",
      "[[ 40   0   0  11   4   2   4  14   0]\n",
      " [  0   0   0   0   0   0   2   0   0]\n",
      " [  6   5   0  12   3   2   0  13   0]\n",
      " [ 22   4   0 189  24  14  15  35   1]\n",
      " [ 21   2   0  55  44  12   5  29   0]\n",
      " [  2   4   0  22  11  33  12  33   0]\n",
      " [ 16  10   0  41   8   7  32  44   0]\n",
      " [ 20  13   0  38   7  22  25 324   2]\n",
      " [  2   1   0   4   0   7   1  35   1]]\n"
     ]
    }
   ],
   "source": [
    "cr_logreg = classification_report(y_test, logreg_predict, labels = [1,2,3,4,5,6,7,8,9], zero_division=0,\n",
    "                          target_names=['cotton','dates','grass','alfalfa', 'maize', 'pecan',\n",
    "                                       'vacant', 'vineyard', 'vineyard+pecan'])\n",
    "print(cr_logreg)\n",
    "# creating a confusion matrix \n",
    "cm_logreg = confusion_matrix(y_test, logreg_predict) \n",
    "print(f'Confustion_Matrix: \\n{cm_logreg}')"
   ]
  },
  {
   "cell_type": "markdown",
   "metadata": {},
   "source": [
    "### Random Forest: "
   ]
  },
  {
   "cell_type": "code",
   "execution_count": 30,
   "metadata": {},
   "outputs": [],
   "source": [
    "from sklearn.ensemble import RandomForestClassifier"
   ]
  },
  {
   "cell_type": "markdown",
   "metadata": {},
   "source": [
    "### tests"
   ]
  },
  {
   "cell_type": "code",
   "execution_count": 140,
   "metadata": {},
   "outputs": [],
   "source": [
    "hyper_table_rf_landsat =[]\n",
    "\n",
    "estimators = [25, 50, 100, 150, 200, 250, 300, 350, 400]\n",
    "\n",
    "for estimator in estimators:\n",
    "    \n",
    "    hyper_param = {}\n",
    "    \n",
    "    rf = RandomForestClassifier(n_estimators = estimator)\n",
    "    \n",
    "    hyper_param  ['model'] = rf.__class__.__name__\n",
    "    hyper_param['estimator']= estimator\n",
    "    \n",
    "    # fit and predict\n",
    "    rf.fit(X_train, y_train) \n",
    "    rf_predict = rf.predict(X_test)\n",
    "    rf_train_predict = rf.predict(X_train)\n",
    "    rf_predict_proba = rf.predict_proba(X_test)\n",
    "    \n",
    "    # Calculate f1 score\n",
    "    hyper_param['f1score_wghtd'] = f1_score(y_test, rf_predict, average='weighted')\n",
    "    \n",
    "    hyper_param['accuracy'] = accuracy_score(y_test, rf_predict)\n",
    "    #hyper_param['accuracy_train'] = accuracy_score(y_train, rf_train_predict)\n",
    "    \n",
    "    # Calculate log loss\n",
    "    logloss = log_loss(y_test, rf_predict_proba)\n",
    "    hyper_param['log_loss'] = logloss\n",
    "    \n",
    "    hyper_table_rf_landsat.append(hyper_param)"
   ]
  },
  {
   "cell_type": "markdown",
   "metadata": {},
   "source": [
    "### Landsat_Tuned tests:"
   ]
  },
  {
   "cell_type": "code",
   "execution_count": 141,
   "metadata": {},
   "outputs": [
    {
     "data": {
      "text/html": [
       "<div>\n",
       "<style scoped>\n",
       "    .dataframe tbody tr th:only-of-type {\n",
       "        vertical-align: middle;\n",
       "    }\n",
       "\n",
       "    .dataframe tbody tr th {\n",
       "        vertical-align: top;\n",
       "    }\n",
       "\n",
       "    .dataframe thead th {\n",
       "        text-align: right;\n",
       "    }\n",
       "</style>\n",
       "<table border=\"1\" class=\"dataframe\">\n",
       "  <thead>\n",
       "    <tr style=\"text-align: right;\">\n",
       "      <th></th>\n",
       "      <th>model</th>\n",
       "      <th>estimator</th>\n",
       "      <th>f1score_wghtd</th>\n",
       "      <th>accuracy</th>\n",
       "      <th>log_loss</th>\n",
       "    </tr>\n",
       "  </thead>\n",
       "  <tbody>\n",
       "    <tr>\n",
       "      <th>0</th>\n",
       "      <td>RandomForestClassifier</td>\n",
       "      <td>25</td>\n",
       "      <td>0.635725</td>\n",
       "      <td>0.655087</td>\n",
       "      <td>1.640508</td>\n",
       "    </tr>\n",
       "    <tr>\n",
       "      <th>1</th>\n",
       "      <td>RandomForestClassifier</td>\n",
       "      <td>50</td>\n",
       "      <td>0.653414</td>\n",
       "      <td>0.670802</td>\n",
       "      <td>1.213517</td>\n",
       "    </tr>\n",
       "    <tr>\n",
       "      <th>2</th>\n",
       "      <td>RandomForestClassifier</td>\n",
       "      <td>100</td>\n",
       "      <td>0.648023</td>\n",
       "      <td>0.668321</td>\n",
       "      <td>1.111177</td>\n",
       "    </tr>\n",
       "    <tr>\n",
       "      <th>3</th>\n",
       "      <td>RandomForestClassifier</td>\n",
       "      <td>150</td>\n",
       "      <td>0.651171</td>\n",
       "      <td>0.670802</td>\n",
       "      <td>1.066689</td>\n",
       "    </tr>\n",
       "    <tr>\n",
       "      <th>4</th>\n",
       "      <td>RandomForestClassifier</td>\n",
       "      <td>200</td>\n",
       "      <td>0.650941</td>\n",
       "      <td>0.670802</td>\n",
       "      <td>1.034333</td>\n",
       "    </tr>\n",
       "    <tr>\n",
       "      <th>5</th>\n",
       "      <td>RandomForestClassifier</td>\n",
       "      <td>250</td>\n",
       "      <td>0.649839</td>\n",
       "      <td>0.669975</td>\n",
       "      <td>1.029158</td>\n",
       "    </tr>\n",
       "    <tr>\n",
       "      <th>6</th>\n",
       "      <td>RandomForestClassifier</td>\n",
       "      <td>300</td>\n",
       "      <td>0.648969</td>\n",
       "      <td>0.670802</td>\n",
       "      <td>1.031020</td>\n",
       "    </tr>\n",
       "    <tr>\n",
       "      <th>7</th>\n",
       "      <td>RandomForestClassifier</td>\n",
       "      <td>350</td>\n",
       "      <td>0.652406</td>\n",
       "      <td>0.673284</td>\n",
       "      <td>1.005897</td>\n",
       "    </tr>\n",
       "    <tr>\n",
       "      <th>8</th>\n",
       "      <td>RandomForestClassifier</td>\n",
       "      <td>400</td>\n",
       "      <td>0.650145</td>\n",
       "      <td>0.669975</td>\n",
       "      <td>1.005974</td>\n",
       "    </tr>\n",
       "  </tbody>\n",
       "</table>\n",
       "</div>"
      ],
      "text/plain": [
       "                    model  estimator  f1score_wghtd  accuracy  log_loss\n",
       "0  RandomForestClassifier         25       0.635725  0.655087  1.640508\n",
       "1  RandomForestClassifier         50       0.653414  0.670802  1.213517\n",
       "2  RandomForestClassifier        100       0.648023  0.668321  1.111177\n",
       "3  RandomForestClassifier        150       0.651171  0.670802  1.066689\n",
       "4  RandomForestClassifier        200       0.650941  0.670802  1.034333\n",
       "5  RandomForestClassifier        250       0.649839  0.669975  1.029158\n",
       "6  RandomForestClassifier        300       0.648969  0.670802  1.031020\n",
       "7  RandomForestClassifier        350       0.652406  0.673284  1.005897\n",
       "8  RandomForestClassifier        400       0.650145  0.669975  1.005974"
      ]
     },
     "execution_count": 141,
     "metadata": {},
     "output_type": "execute_result"
    }
   ],
   "source": [
    "hyper_table_rf_landsat = pd.DataFrame(hyper_table_rf_landsat)\n",
    "hyper_table_rf_landsat"
   ]
  },
  {
   "cell_type": "code",
   "execution_count": 142,
   "metadata": {},
   "outputs": [
    {
     "data": {
      "text/plain": [
       "Text(0, 0.5, 'log_loss score')"
      ]
     },
     "execution_count": 142,
     "metadata": {},
     "output_type": "execute_result"
    },
    {
     "data": {
      "image/png": "[encoded data removed]",
      "text/plain": [
       "<Figure size 432x288 with 1 Axes>"
      ]
     },
     "metadata": {
      "needs_background": "light"
     },
     "output_type": "display_data"
    }
   ],
   "source": [
    "plt.plot(hyper_table_rf_landsat['estimator'], hyper_table_rf_landsat['log_loss'])\n",
    "plt.xlabel('n_estimator')\n",
    "plt.ylabel('log_loss score')\n",
    "#plt.ylim([1, 3])"
   ]
  },
  {
   "cell_type": "code",
   "execution_count": 143,
   "metadata": {},
   "outputs": [
    {
     "name": "stdout",
     "output_type": "stream",
     "text": [
      "                precision    recall  f1-score   support\n",
      "\n",
      "        cotton       0.87      0.48      0.62        69\n",
      "         dates       0.00      0.00      0.00         1\n",
      "         grass       0.62      0.20      0.30        41\n",
      "       alfalfa       0.74      0.77      0.76       270\n",
      "         maize       0.81      0.60      0.69       135\n",
      "         pecan       0.71      0.50      0.59       111\n",
      "        vacant       0.56      0.52      0.54       143\n",
      "      vineyard       0.61      0.88      0.72       392\n",
      "vineyard+pecan       0.80      0.09      0.15        47\n",
      "\n",
      "      accuracy                           0.67      1209\n",
      "     macro avg       0.64      0.45      0.49      1209\n",
      "  weighted avg       0.69      0.67      0.65      1209\n",
      "\n",
      "Confustion_Matrix: \n",
      "[[ 25   0   0  12   2   3   3  30   0]\n",
      " [  0   0   0   1   0   0   1   0   0]\n",
      " [  1   0   0  17   3   1   6  13   0]\n",
      " [  0   0   1 211  23   3   7  59   0]\n",
      " [  2   0   1  50  60   3   6  46   0]\n",
      " [  1   0   0  24   8  25   6  53   0]\n",
      " [  2   0   0  41   5   7  37  66   0]\n",
      " [  3   0   0  36   3   6  12 389   2]\n",
      " [  0   0   0   4   1   1   0  44   1]]\n"
     ]
    }
   ],
   "source": [
    "cr_rf_landsat = classification_report(y_test, rf_predict, labels = [1,2,3,4,5,6,7,8,9], zero_division=0,\n",
    "                          target_names=['cotton','dates','grass','alfalfa', 'maize', 'pecan',\n",
    "                                       'vacant', 'vineyard', 'vineyard+pecan'])\n",
    "print(cr_rf_landsat)\n",
    "# creating a confusion matrix \n",
    "cm_rf_landsat = confusion_matrix(y_test, rf_predict) \n",
    "print(f'Confustion_Matrix: \\n{cm_rf}')"
   ]
  },
  {
   "cell_type": "markdown",
   "metadata": {},
   "source": [
    "### Landsat Tests"
   ]
  },
  {
   "cell_type": "code",
   "execution_count": 124,
   "metadata": {},
   "outputs": [
    {
     "data": {
      "text/html": [
       "<div>\n",
       "<style scoped>\n",
       "    .dataframe tbody tr th:only-of-type {\n",
       "        vertical-align: middle;\n",
       "    }\n",
       "\n",
       "    .dataframe tbody tr th {\n",
       "        vertical-align: top;\n",
       "    }\n",
       "\n",
       "    .dataframe thead th {\n",
       "        text-align: right;\n",
       "    }\n",
       "</style>\n",
       "<table border=\"1\" class=\"dataframe\">\n",
       "  <thead>\n",
       "    <tr style=\"text-align: right;\">\n",
       "      <th></th>\n",
       "      <th>model</th>\n",
       "      <th>estimator</th>\n",
       "      <th>f1score_wghtd</th>\n",
       "      <th>accuracy</th>\n",
       "      <th>log_loss</th>\n",
       "    </tr>\n",
       "  </thead>\n",
       "  <tbody>\n",
       "    <tr>\n",
       "      <th>0</th>\n",
       "      <td>RandomForestClassifier</td>\n",
       "      <td>25</td>\n",
       "      <td>0.489714</td>\n",
       "      <td>0.529627</td>\n",
       "      <td>3.330565</td>\n",
       "    </tr>\n",
       "    <tr>\n",
       "      <th>1</th>\n",
       "      <td>RandomForestClassifier</td>\n",
       "      <td>50</td>\n",
       "      <td>0.492057</td>\n",
       "      <td>0.540600</td>\n",
       "      <td>2.311075</td>\n",
       "    </tr>\n",
       "    <tr>\n",
       "      <th>2</th>\n",
       "      <td>RandomForestClassifier</td>\n",
       "      <td>100</td>\n",
       "      <td>0.491559</td>\n",
       "      <td>0.538405</td>\n",
       "      <td>1.755296</td>\n",
       "    </tr>\n",
       "    <tr>\n",
       "      <th>3</th>\n",
       "      <td>RandomForestClassifier</td>\n",
       "      <td>150</td>\n",
       "      <td>0.500757</td>\n",
       "      <td>0.546452</td>\n",
       "      <td>1.639506</td>\n",
       "    </tr>\n",
       "    <tr>\n",
       "      <th>4</th>\n",
       "      <td>RandomForestClassifier</td>\n",
       "      <td>200</td>\n",
       "      <td>0.493656</td>\n",
       "      <td>0.541331</td>\n",
       "      <td>1.585329</td>\n",
       "    </tr>\n",
       "    <tr>\n",
       "      <th>5</th>\n",
       "      <td>RandomForestClassifier</td>\n",
       "      <td>250</td>\n",
       "      <td>0.503646</td>\n",
       "      <td>0.549378</td>\n",
       "      <td>1.473921</td>\n",
       "    </tr>\n",
       "    <tr>\n",
       "      <th>6</th>\n",
       "      <td>RandomForestClassifier</td>\n",
       "      <td>300</td>\n",
       "      <td>0.499195</td>\n",
       "      <td>0.547184</td>\n",
       "      <td>1.485343</td>\n",
       "    </tr>\n",
       "    <tr>\n",
       "      <th>7</th>\n",
       "      <td>RandomForestClassifier</td>\n",
       "      <td>350</td>\n",
       "      <td>0.501166</td>\n",
       "      <td>0.547184</td>\n",
       "      <td>1.436178</td>\n",
       "    </tr>\n",
       "    <tr>\n",
       "      <th>8</th>\n",
       "      <td>RandomForestClassifier</td>\n",
       "      <td>400</td>\n",
       "      <td>0.499661</td>\n",
       "      <td>0.547184</td>\n",
       "      <td>1.476038</td>\n",
       "    </tr>\n",
       "  </tbody>\n",
       "</table>\n",
       "</div>"
      ],
      "text/plain": [
       "                    model  estimator  f1score_wghtd  accuracy  log_loss\n",
       "0  RandomForestClassifier         25       0.489714  0.529627  3.330565\n",
       "1  RandomForestClassifier         50       0.492057  0.540600  2.311075\n",
       "2  RandomForestClassifier        100       0.491559  0.538405  1.755296\n",
       "3  RandomForestClassifier        150       0.500757  0.546452  1.639506\n",
       "4  RandomForestClassifier        200       0.493656  0.541331  1.585329\n",
       "5  RandomForestClassifier        250       0.503646  0.549378  1.473921\n",
       "6  RandomForestClassifier        300       0.499195  0.547184  1.485343\n",
       "7  RandomForestClassifier        350       0.501166  0.547184  1.436178\n",
       "8  RandomForestClassifier        400       0.499661  0.547184  1.476038"
      ]
     },
     "execution_count": 124,
     "metadata": {},
     "output_type": "execute_result"
    }
   ],
   "source": [
    "hyper_table_rf = pd.DataFrame(hyper_table_rf)\n",
    "hyper_table_rf"
   ]
  },
  {
   "cell_type": "code",
   "execution_count": 125,
   "metadata": {},
   "outputs": [
    {
     "data": {
      "text/plain": [
       "Text(0, 0.5, 'log_loss score')"
      ]
     },
     "execution_count": 125,
     "metadata": {},
     "output_type": "execute_result"
    },
    {
     "data": {
      "image/png": "[encoded data removed]",
      "text/plain": [
       "<Figure size 432x288 with 1 Axes>"
      ]
     },
     "metadata": {
      "needs_background": "light"
     },
     "output_type": "display_data"
    }
   ],
   "source": [
    "plt.plot(hyper_table_rf['estimator'], hyper_table_rf['log_loss'])\n",
    "plt.xlabel('n_estimator')\n",
    "plt.ylabel('log_loss score')\n",
    "#plt.ylim([1, 3])"
   ]
  },
  {
   "cell_type": "code",
   "execution_count": 126,
   "metadata": {},
   "outputs": [
    {
     "name": "stdout",
     "output_type": "stream",
     "text": [
      "                precision    recall  f1-score   support\n",
      "\n",
      "        cotton       0.74      0.33      0.46        75\n",
      "         dates       0.00      0.00      0.00         2\n",
      "         grass       0.00      0.00      0.00        41\n",
      "       alfalfa       0.53      0.69      0.60       304\n",
      "         maize       0.57      0.36      0.44       168\n",
      "         pecan       0.51      0.21      0.30       117\n",
      "        vacant       0.47      0.23      0.31       158\n",
      "      vineyard       0.56      0.86      0.68       451\n",
      "vineyard+pecan       0.33      0.02      0.04        51\n",
      "\n",
      "      accuracy                           0.55      1367\n",
      "     macro avg       0.41      0.30      0.31      1367\n",
      "  weighted avg       0.52      0.55      0.50      1367\n",
      "\n",
      "Confustion_Matrix: \n",
      "[[ 25   0   0  12   2   3   3  30   0]\n",
      " [  0   0   0   1   0   0   1   0   0]\n",
      " [  1   0   0  17   3   1   6  13   0]\n",
      " [  0   0   1 211  23   3   7  59   0]\n",
      " [  2   0   1  50  60   3   6  46   0]\n",
      " [  1   0   0  24   8  25   6  53   0]\n",
      " [  2   0   0  41   5   7  37  66   0]\n",
      " [  3   0   0  36   3   6  12 389   2]\n",
      " [  0   0   0   4   1   1   0  44   1]]\n"
     ]
    }
   ],
   "source": [
    "cr_rf = classification_report(y_test, rf_predict, labels = [1,2,3,4,5,6,7,8,9], zero_division=0,\n",
    "                          target_names=['cotton','dates','grass','alfalfa', 'maize', 'pecan',\n",
    "                                       'vacant', 'vineyard', 'vineyard+pecan'])\n",
    "print(cr_rf)\n",
    "# creating a confusion matrix \n",
    "cm_rf = confusion_matrix(y_test, rf_predict) \n",
    "print(f'Confustion_Matrix: \\n{cm_rf}')"
   ]
  },
  {
   "cell_type": "code",
   "execution_count": 237,
   "metadata": {},
   "outputs": [
    {
     "data": {
      "text/plain": [
       "1.45277676198814"
      ]
     },
     "execution_count": 237,
     "metadata": {},
     "output_type": "execute_result"
    }
   ],
   "source": [
    "logloss = log_loss(y_test, rf_predict_proba)\n",
    "logloss"
   ]
  },
  {
   "cell_type": "code",
   "execution_count": 49,
   "metadata": {},
   "outputs": [
    {
     "data": {
      "text/html": [
       "<div>\n",
       "<style scoped>\n",
       "    .dataframe tbody tr th:only-of-type {\n",
       "        vertical-align: middle;\n",
       "    }\n",
       "\n",
       "    .dataframe tbody tr th {\n",
       "        vertical-align: top;\n",
       "    }\n",
       "\n",
       "    .dataframe thead th {\n",
       "        text-align: right;\n",
       "    }\n",
       "</style>\n",
       "<table border=\"1\" class=\"dataframe\">\n",
       "  <thead>\n",
       "    <tr style=\"text-align: right;\">\n",
       "      <th></th>\n",
       "      <th>crop_prob_1</th>\n",
       "      <th>crop_prob_2</th>\n",
       "      <th>crop_prob_3</th>\n",
       "      <th>crop_prob_4</th>\n",
       "      <th>crop_prob_5</th>\n",
       "      <th>crop_prob_6</th>\n",
       "      <th>crop_prob_7</th>\n",
       "      <th>crop_prob_8</th>\n",
       "      <th>crop_prob_9</th>\n",
       "    </tr>\n",
       "  </thead>\n",
       "  <tbody>\n",
       "    <tr>\n",
       "      <th>0</th>\n",
       "      <td>0.004</td>\n",
       "      <td>0.120</td>\n",
       "      <td>0.040</td>\n",
       "      <td>0.024</td>\n",
       "      <td>0.064</td>\n",
       "      <td>0.048</td>\n",
       "      <td>0.164</td>\n",
       "      <td>0.516</td>\n",
       "      <td>0.020</td>\n",
       "    </tr>\n",
       "    <tr>\n",
       "      <th>1</th>\n",
       "      <td>0.314</td>\n",
       "      <td>0.004</td>\n",
       "      <td>0.020</td>\n",
       "      <td>0.064</td>\n",
       "      <td>0.120</td>\n",
       "      <td>0.066</td>\n",
       "      <td>0.128</td>\n",
       "      <td>0.276</td>\n",
       "      <td>0.008</td>\n",
       "    </tr>\n",
       "    <tr>\n",
       "      <th>2</th>\n",
       "      <td>0.036</td>\n",
       "      <td>0.000</td>\n",
       "      <td>0.016</td>\n",
       "      <td>0.256</td>\n",
       "      <td>0.136</td>\n",
       "      <td>0.096</td>\n",
       "      <td>0.064</td>\n",
       "      <td>0.344</td>\n",
       "      <td>0.052</td>\n",
       "    </tr>\n",
       "    <tr>\n",
       "      <th>3</th>\n",
       "      <td>0.012</td>\n",
       "      <td>0.000</td>\n",
       "      <td>0.012</td>\n",
       "      <td>0.004</td>\n",
       "      <td>0.020</td>\n",
       "      <td>0.000</td>\n",
       "      <td>0.016</td>\n",
       "      <td>0.808</td>\n",
       "      <td>0.128</td>\n",
       "    </tr>\n",
       "    <tr>\n",
       "      <th>4</th>\n",
       "      <td>0.000</td>\n",
       "      <td>0.000</td>\n",
       "      <td>0.004</td>\n",
       "      <td>0.128</td>\n",
       "      <td>0.032</td>\n",
       "      <td>0.084</td>\n",
       "      <td>0.688</td>\n",
       "      <td>0.060</td>\n",
       "      <td>0.004</td>\n",
       "    </tr>\n",
       "    <tr>\n",
       "      <th>...</th>\n",
       "      <td>...</td>\n",
       "      <td>...</td>\n",
       "      <td>...</td>\n",
       "      <td>...</td>\n",
       "      <td>...</td>\n",
       "      <td>...</td>\n",
       "      <td>...</td>\n",
       "      <td>...</td>\n",
       "      <td>...</td>\n",
       "    </tr>\n",
       "    <tr>\n",
       "      <th>1362</th>\n",
       "      <td>0.068</td>\n",
       "      <td>0.000</td>\n",
       "      <td>0.032</td>\n",
       "      <td>0.024</td>\n",
       "      <td>0.084</td>\n",
       "      <td>0.064</td>\n",
       "      <td>0.168</td>\n",
       "      <td>0.508</td>\n",
       "      <td>0.052</td>\n",
       "    </tr>\n",
       "    <tr>\n",
       "      <th>1363</th>\n",
       "      <td>0.036</td>\n",
       "      <td>0.000</td>\n",
       "      <td>0.036</td>\n",
       "      <td>0.188</td>\n",
       "      <td>0.556</td>\n",
       "      <td>0.096</td>\n",
       "      <td>0.040</td>\n",
       "      <td>0.048</td>\n",
       "      <td>0.000</td>\n",
       "    </tr>\n",
       "    <tr>\n",
       "      <th>1364</th>\n",
       "      <td>0.000</td>\n",
       "      <td>0.000</td>\n",
       "      <td>0.004</td>\n",
       "      <td>0.020</td>\n",
       "      <td>0.012</td>\n",
       "      <td>0.000</td>\n",
       "      <td>0.932</td>\n",
       "      <td>0.028</td>\n",
       "      <td>0.004</td>\n",
       "    </tr>\n",
       "    <tr>\n",
       "      <th>1365</th>\n",
       "      <td>0.012</td>\n",
       "      <td>0.000</td>\n",
       "      <td>0.004</td>\n",
       "      <td>0.024</td>\n",
       "      <td>0.056</td>\n",
       "      <td>0.008</td>\n",
       "      <td>0.024</td>\n",
       "      <td>0.480</td>\n",
       "      <td>0.392</td>\n",
       "    </tr>\n",
       "    <tr>\n",
       "      <th>1366</th>\n",
       "      <td>0.004</td>\n",
       "      <td>0.000</td>\n",
       "      <td>0.028</td>\n",
       "      <td>0.660</td>\n",
       "      <td>0.120</td>\n",
       "      <td>0.140</td>\n",
       "      <td>0.048</td>\n",
       "      <td>0.000</td>\n",
       "      <td>0.000</td>\n",
       "    </tr>\n",
       "  </tbody>\n",
       "</table>\n",
       "<p>1367 rows × 9 columns</p>\n",
       "</div>"
      ],
      "text/plain": [
       "      crop_prob_1  crop_prob_2  crop_prob_3  crop_prob_4  crop_prob_5  \\\n",
       "0           0.004        0.120        0.040        0.024        0.064   \n",
       "1           0.314        0.004        0.020        0.064        0.120   \n",
       "2           0.036        0.000        0.016        0.256        0.136   \n",
       "3           0.012        0.000        0.012        0.004        0.020   \n",
       "4           0.000        0.000        0.004        0.128        0.032   \n",
       "...           ...          ...          ...          ...          ...   \n",
       "1362        0.068        0.000        0.032        0.024        0.084   \n",
       "1363        0.036        0.000        0.036        0.188        0.556   \n",
       "1364        0.000        0.000        0.004        0.020        0.012   \n",
       "1365        0.012        0.000        0.004        0.024        0.056   \n",
       "1366        0.004        0.000        0.028        0.660        0.120   \n",
       "\n",
       "      crop_prob_6  crop_prob_7  crop_prob_8  crop_prob_9  \n",
       "0           0.048        0.164        0.516        0.020  \n",
       "1           0.066        0.128        0.276        0.008  \n",
       "2           0.096        0.064        0.344        0.052  \n",
       "3           0.000        0.016        0.808        0.128  \n",
       "4           0.084        0.688        0.060        0.004  \n",
       "...           ...          ...          ...          ...  \n",
       "1362        0.064        0.168        0.508        0.052  \n",
       "1363        0.096        0.040        0.048        0.000  \n",
       "1364        0.000        0.932        0.028        0.004  \n",
       "1365        0.008        0.024        0.480        0.392  \n",
       "1366        0.140        0.048        0.000        0.000  \n",
       "\n",
       "[1367 rows x 9 columns]"
      ]
     },
     "execution_count": 49,
     "metadata": {},
     "output_type": "execute_result"
    }
   ],
   "source": [
    "rf_predict_proba_df = pd.DataFrame(rf_predict_proba, \n",
    "             columns= ['crop_prob_1', 'crop_prob_2', \"crop_prob_3\",'crop_prob_4', 'crop_prob_5',\n",
    "                      'crop_prob_6', 'crop_prob_7', 'crop_prob_8', 'crop_prob_9'])\n",
    "rf_predict_proba_df"
   ]
  },
  {
   "cell_type": "code",
   "execution_count": 118,
   "metadata": {},
   "outputs": [
    {
     "name": "stdout",
     "output_type": "stream",
     "text": [
      "                precision    recall  f1-score   support\n",
      "\n",
      "        cotton       0.83      0.85      0.84       478\n",
      "         dates       0.99      1.00      0.99       467\n",
      "         grass       0.82      0.89      0.85       462\n",
      "       alfalfa       0.68      0.66      0.67       453\n",
      "         maize       0.75      0.74      0.75       433\n",
      "         pecan       0.78      0.71      0.75       469\n",
      "        vacant       0.72      0.70      0.71       447\n",
      "      vineyard       0.56      0.47      0.51       417\n",
      "vineyard+pecan       0.77      0.92      0.84       438\n",
      "\n",
      "      accuracy                           0.77      4064\n",
      "     macro avg       0.77      0.77      0.77      4064\n",
      "  weighted avg       0.77      0.77      0.77      4064\n",
      "\n",
      "Confustion_Matrix: \n",
      "[[404   0  10  20  10  10   8  10   6]\n",
      " [  0 467   0   0   0   0   0   0   0]\n",
      " [  3   1 409   9   5   6   3  18   8]\n",
      " [ 22   0  17 300  39  19  25  22   9]\n",
      " [  9   0   7  29 322  19  14  20  13]\n",
      " [ 14   1   8  24  24 334  15  33  16]\n",
      " [ 14   1  22  32  15  10 314  29  10]\n",
      " [ 19   2  26  24  13  26  52 196  59]\n",
      " [  1   0   2   1   1   3   7  21 402]]\n"
     ]
    }
   ],
   "source": [
    "cr_rf = classification_report(y_test, rf_predict, labels = [1,2,3,4,5,6,7,8,9], zero_division=0,\n",
    "                          target_names=['cotton','dates','grass','alfalfa', 'maize', 'pecan',\n",
    "                                       'vacant', 'vineyard', 'vineyard+pecan'])\n",
    "print(cr_rf)\n",
    "# creating a confusion matrix \n",
    "cm_rf = confusion_matrix(y_test, rf_predict) \n",
    "print(f'Confustion_Matrix: \\n{cm_rf}')"
   ]
  },
  {
   "cell_type": "code",
   "execution_count": 219,
   "metadata": {},
   "outputs": [
    {
     "name": "stdout",
     "output_type": "stream",
     "text": [
      "Collecting imbalanced-learn\n",
      "  Downloading imbalanced_learn-0.7.0-py3-none-any.whl (167 kB)\n",
      "Requirement already satisfied: scikit-learn>=0.23 in c:\\users\\ssatt\\anaconda3\\lib\\site-packages (from imbalanced-learn) (0.23.1)\n",
      "Requirement already satisfied: joblib>=0.11 in c:\\users\\ssatt\\anaconda3\\lib\\site-packages (from imbalanced-learn) (0.16.0)\n",
      "Requirement already satisfied: numpy>=1.13.3 in c:\\users\\ssatt\\anaconda3\\lib\\site-packages (from imbalanced-learn) (1.18.5)\n",
      "Requirement already satisfied: scipy>=0.19.1 in c:\\users\\ssatt\\anaconda3\\lib\\site-packages (from imbalanced-learn) (1.5.0)\n",
      "Requirement already satisfied: threadpoolctl>=2.0.0 in c:\\users\\ssatt\\anaconda3\\lib\\site-packages (from scikit-learn>=0.23->imbalanced-learn) (2.1.0)\n",
      "Installing collected packages: imbalanced-learn\n",
      "Successfully installed imbalanced-learn-0.7.0\n"
     ]
    }
   ],
   "source": [
    "!pip install imbalanced-learn"
   ]
  },
  {
   "cell_type": "code",
   "execution_count": 222,
   "metadata": {},
   "outputs": [],
   "source": [
    "import imblearn"
   ]
  },
  {
   "cell_type": "code",
   "execution_count": 128,
   "metadata": {},
   "outputs": [],
   "source": [
    "# define oversampling strategy\n",
    "oversample = RandomOverSampler(sampling_strategy='minority')"
   ]
  },
  {
   "cell_type": "code",
   "execution_count": 129,
   "metadata": {},
   "outputs": [],
   "source": [
    "# fit and apply the transform\n",
    "X_over, y_over = oversample.fit_resample(X, y)"
   ]
  },
  {
   "cell_type": "code",
   "execution_count": 130,
   "metadata": {},
   "outputs": [],
   "source": [
    "data2 = pd.read_csv('Landsat_training_farms_Tuned.csv')"
   ]
  },
  {
   "cell_type": "code",
   "execution_count": 131,
   "metadata": {},
   "outputs": [
    {
     "data": {
      "text/html": [
       "<div>\n",
       "<style scoped>\n",
       "    .dataframe tbody tr th:only-of-type {\n",
       "        vertical-align: middle;\n",
       "    }\n",
       "\n",
       "    .dataframe tbody tr th {\n",
       "        vertical-align: top;\n",
       "    }\n",
       "\n",
       "    .dataframe thead th {\n",
       "        text-align: right;\n",
       "    }\n",
       "</style>\n",
       "<table border=\"1\" class=\"dataframe\">\n",
       "  <thead>\n",
       "    <tr style=\"text-align: right;\">\n",
       "      <th></th>\n",
       "      <th>system:index</th>\n",
       "      <th>B1</th>\n",
       "      <th>B10</th>\n",
       "      <th>B10_1</th>\n",
       "      <th>B11</th>\n",
       "      <th>B11_1</th>\n",
       "      <th>B1_1</th>\n",
       "      <th>B2</th>\n",
       "      <th>B2_1</th>\n",
       "      <th>B3</th>\n",
       "      <th>...</th>\n",
       "      <th>B9</th>\n",
       "      <th>B9_1</th>\n",
       "      <th>BQA</th>\n",
       "      <th>BQA_1</th>\n",
       "      <th>CID</th>\n",
       "      <th>NDVI</th>\n",
       "      <th>NDVI_1</th>\n",
       "      <th>system:time_start</th>\n",
       "      <th>system:time_start_1</th>\n",
       "      <th>.geo</th>\n",
       "    </tr>\n",
       "  </thead>\n",
       "  <tbody>\n",
       "    <tr>\n",
       "      <th>0</th>\n",
       "      <td>000000000000000008fc_0</td>\n",
       "      <td>0.111851</td>\n",
       "      <td>296.73923</td>\n",
       "      <td>288.53226</td>\n",
       "      <td>297.20410</td>\n",
       "      <td>285.20420</td>\n",
       "      <td>0.136913</td>\n",
       "      <td>0.094519</td>\n",
       "      <td>0.119773</td>\n",
       "      <td>0.094993</td>\n",
       "      <td>...</td>\n",
       "      <td>0.001115</td>\n",
       "      <td>0.007478</td>\n",
       "      <td>20512</td>\n",
       "      <td>20480</td>\n",
       "      <td>4</td>\n",
       "      <td>0.735338</td>\n",
       "      <td>0.023107</td>\n",
       "      <td>1.490430e+12</td>\n",
       "      <td>1.493195e+12</td>\n",
       "      <td>NaN</td>\n",
       "    </tr>\n",
       "    <tr>\n",
       "      <th>1</th>\n",
       "      <td>000000000000000008fc_1</td>\n",
       "      <td>0.103687</td>\n",
       "      <td>296.81390</td>\n",
       "      <td>288.74982</td>\n",
       "      <td>296.85840</td>\n",
       "      <td>284.73492</td>\n",
       "      <td>0.134550</td>\n",
       "      <td>0.082286</td>\n",
       "      <td>0.115794</td>\n",
       "      <td>0.080503</td>\n",
       "      <td>...</td>\n",
       "      <td>0.001031</td>\n",
       "      <td>0.009512</td>\n",
       "      <td>20512</td>\n",
       "      <td>20480</td>\n",
       "      <td>4</td>\n",
       "      <td>0.848221</td>\n",
       "      <td>0.010605</td>\n",
       "      <td>1.490430e+12</td>\n",
       "      <td>1.493195e+12</td>\n",
       "      <td>NaN</td>\n",
       "    </tr>\n",
       "    <tr>\n",
       "      <th>2</th>\n",
       "      <td>000000000000000008fc_2</td>\n",
       "      <td>0.106557</td>\n",
       "      <td>297.66074</td>\n",
       "      <td>289.14752</td>\n",
       "      <td>297.64413</td>\n",
       "      <td>285.29352</td>\n",
       "      <td>0.132486</td>\n",
       "      <td>0.085658</td>\n",
       "      <td>0.113311</td>\n",
       "      <td>0.082788</td>\n",
       "      <td>...</td>\n",
       "      <td>0.001338</td>\n",
       "      <td>0.008645</td>\n",
       "      <td>20512</td>\n",
       "      <td>20480</td>\n",
       "      <td>4</td>\n",
       "      <td>0.807413</td>\n",
       "      <td>0.010418</td>\n",
       "      <td>1.490430e+12</td>\n",
       "      <td>1.493195e+12</td>\n",
       "      <td>NaN</td>\n",
       "    </tr>\n",
       "    <tr>\n",
       "      <th>3</th>\n",
       "      <td>000000000000000008fe_0</td>\n",
       "      <td>0.111099</td>\n",
       "      <td>296.90775</td>\n",
       "      <td>289.67984</td>\n",
       "      <td>297.09460</td>\n",
       "      <td>287.22427</td>\n",
       "      <td>0.124948</td>\n",
       "      <td>0.092959</td>\n",
       "      <td>0.105713</td>\n",
       "      <td>0.090813</td>\n",
       "      <td>...</td>\n",
       "      <td>0.001142</td>\n",
       "      <td>0.004128</td>\n",
       "      <td>20480</td>\n",
       "      <td>20480</td>\n",
       "      <td>4</td>\n",
       "      <td>0.751805</td>\n",
       "      <td>0.077353</td>\n",
       "      <td>1.490430e+12</td>\n",
       "      <td>1.493195e+12</td>\n",
       "      <td>NaN</td>\n",
       "    </tr>\n",
       "    <tr>\n",
       "      <th>4</th>\n",
       "      <td>000000000000000008ff_0</td>\n",
       "      <td>0.116059</td>\n",
       "      <td>297.36154</td>\n",
       "      <td>290.48750</td>\n",
       "      <td>297.88736</td>\n",
       "      <td>288.10630</td>\n",
       "      <td>0.123452</td>\n",
       "      <td>0.097779</td>\n",
       "      <td>0.104517</td>\n",
       "      <td>0.098086</td>\n",
       "      <td>...</td>\n",
       "      <td>0.001170</td>\n",
       "      <td>0.002782</td>\n",
       "      <td>20512</td>\n",
       "      <td>20480</td>\n",
       "      <td>4</td>\n",
       "      <td>0.683049</td>\n",
       "      <td>0.111133</td>\n",
       "      <td>1.490430e+12</td>\n",
       "      <td>1.493195e+12</td>\n",
       "      <td>NaN</td>\n",
       "    </tr>\n",
       "  </tbody>\n",
       "</table>\n",
       "<p>5 rows × 31 columns</p>\n",
       "</div>"
      ],
      "text/plain": [
       "             system:index        B1        B10      B10_1        B11  \\\n",
       "0  000000000000000008fc_0  0.111851  296.73923  288.53226  297.20410   \n",
       "1  000000000000000008fc_1  0.103687  296.81390  288.74982  296.85840   \n",
       "2  000000000000000008fc_2  0.106557  297.66074  289.14752  297.64413   \n",
       "3  000000000000000008fe_0  0.111099  296.90775  289.67984  297.09460   \n",
       "4  000000000000000008ff_0  0.116059  297.36154  290.48750  297.88736   \n",
       "\n",
       "       B11_1      B1_1        B2      B2_1        B3  ...        B9      B9_1  \\\n",
       "0  285.20420  0.136913  0.094519  0.119773  0.094993  ...  0.001115  0.007478   \n",
       "1  284.73492  0.134550  0.082286  0.115794  0.080503  ...  0.001031  0.009512   \n",
       "2  285.29352  0.132486  0.085658  0.113311  0.082788  ...  0.001338  0.008645   \n",
       "3  287.22427  0.124948  0.092959  0.105713  0.090813  ...  0.001142  0.004128   \n",
       "4  288.10630  0.123452  0.097779  0.104517  0.098086  ...  0.001170  0.002782   \n",
       "\n",
       "     BQA  BQA_1  CID      NDVI    NDVI_1  system:time_start  \\\n",
       "0  20512  20480    4  0.735338  0.023107       1.490430e+12   \n",
       "1  20512  20480    4  0.848221  0.010605       1.490430e+12   \n",
       "2  20512  20480    4  0.807413  0.010418       1.490430e+12   \n",
       "3  20480  20480    4  0.751805  0.077353       1.490430e+12   \n",
       "4  20512  20480    4  0.683049  0.111133       1.490430e+12   \n",
       "\n",
       "   system:time_start_1  .geo  \n",
       "0         1.493195e+12   NaN  \n",
       "1         1.493195e+12   NaN  \n",
       "2         1.493195e+12   NaN  \n",
       "3         1.493195e+12   NaN  \n",
       "4         1.493195e+12   NaN  \n",
       "\n",
       "[5 rows x 31 columns]"
      ]
     },
     "execution_count": 131,
     "metadata": {},
     "output_type": "execute_result"
    }
   ],
   "source": [
    "data2.head()"
   ]
  },
  {
   "cell_type": "markdown",
   "metadata": {},
   "source": [
    "### Upscale tests"
   ]
  },
  {
   "cell_type": "code",
   "execution_count": 108,
   "metadata": {},
   "outputs": [],
   "source": [
    "from imblearn.over_sampling import SMOTE"
   ]
  },
  {
   "cell_type": "code",
   "execution_count": 109,
   "metadata": {},
   "outputs": [],
   "source": [
    "smt = SMOTE(random_state = 123)\n",
    "X_res, y_res = smt.fit_sample(X,y)"
   ]
  },
  {
   "cell_type": "code",
   "execution_count": 110,
   "metadata": {},
   "outputs": [
    {
     "data": {
      "text/plain": [
       "((16254, 13), (16254,))"
      ]
     },
     "execution_count": 110,
     "metadata": {},
     "output_type": "execute_result"
    }
   ],
   "source": [
    "X_res.shape, y_res.shape"
   ]
  },
  {
   "cell_type": "code",
   "execution_count": 133,
   "metadata": {},
   "outputs": [],
   "source": [
    "from collections import Counter"
   ]
  },
  {
   "cell_type": "code",
   "execution_count": 112,
   "metadata": {},
   "outputs": [
    {
     "data": {
      "text/plain": [
       "Counter({4: 1806,\n",
       "         6: 1806,\n",
       "         7: 1806,\n",
       "         8: 1806,\n",
       "         3: 1806,\n",
       "         5: 1806,\n",
       "         9: 1806,\n",
       "         1: 1806,\n",
       "         2: 1806})"
      ]
     },
     "execution_count": 112,
     "metadata": {},
     "output_type": "execute_result"
    }
   ],
   "source": [
    "Counter(y_res)"
   ]
  },
  {
   "cell_type": "code",
   "execution_count": 77,
   "metadata": {},
   "outputs": [
    {
     "data": {
      "text/plain": [
       "Counter({4: 1214,\n",
       "         6: 470,\n",
       "         7: 630,\n",
       "         8: 1806,\n",
       "         3: 165,\n",
       "         5: 673,\n",
       "         9: 202,\n",
       "         1: 301,\n",
       "         2: 7})"
      ]
     },
     "execution_count": 77,
     "metadata": {},
     "output_type": "execute_result"
    }
   ],
   "source": [
    "Counter(y)"
   ]
  },
  {
   "cell_type": "code",
   "execution_count": 119,
   "metadata": {},
   "outputs": [],
   "source": [
    "X_train, X_test, y_train, y_test = train_test_split(X_res, y_res, random_state=123)"
   ]
  },
  {
   "cell_type": "code",
   "execution_count": 120,
   "metadata": {},
   "outputs": [],
   "source": [
    "rfs = RandomForestClassifier(n_estimators = 50)\n",
    "rfs.fit(X_train, y_train) \n",
    "rfs_predict = rfs.predict(X_test) "
   ]
  },
  {
   "cell_type": "code",
   "execution_count": 121,
   "metadata": {},
   "outputs": [
    {
     "name": "stdout",
     "output_type": "stream",
     "text": [
      "                precision    recall  f1-score   support\n",
      "\n",
      "        cotton       0.80      0.83      0.82       478\n",
      "         dates       0.99      1.00      0.99       467\n",
      "         grass       0.80      0.88      0.84       462\n",
      "       alfalfa       0.67      0.66      0.66       453\n",
      "         maize       0.75      0.73      0.74       433\n",
      "         pecan       0.77      0.74      0.75       469\n",
      "        vacant       0.72      0.70      0.71       447\n",
      "      vineyard       0.56      0.44      0.49       417\n",
      "vineyard+pecan       0.78      0.90      0.84       438\n",
      "\n",
      "      accuracy                           0.77      4064\n",
      "     macro avg       0.76      0.76      0.76      4064\n",
      "  weighted avg       0.76      0.77      0.76      4064\n",
      "\n",
      "Confustion_Matrix: \n",
      "[[395   0   9  20  17  13   8  10   6]\n",
      " [  0 467   0   0   0   0   0   0   0]\n",
      " [  2   1 408  18   5   3   4  14   7]\n",
      " [ 30   0  20 297  35  27  21  18   5]\n",
      " [ 10   0  13  28 318  19  13  19  13]\n",
      " [ 13   1  12  20  20 346  12  31  14]\n",
      " [ 15   1  23  34  12  10 313  31   8]\n",
      " [ 24   2  24  23  18  26  57 184  59]\n",
      " [  2   0   2   4   1   4   7  22 396]]\n"
     ]
    }
   ],
   "source": [
    "#f1 = f1_score(y_test, svm_predict, )\n",
    "cr = classification_report(y_test, rfs_predict, labels = [1,2,3,4,5,6,7,8,9], zero_division=0,\n",
    "                          target_names=['cotton','dates','grass','alfalfa', 'maize', 'pecan',\n",
    "                                       'vacant', 'vineyard', 'vineyard+pecan'])\n",
    "print(cr)\n",
    "# creating a confusion matrix \n",
    "cm = confusion_matrix(y_test, rfs_predict) \n",
    "print(f'Confustion_Matrix: \\n{cm}')"
   ]
  },
  {
   "cell_type": "markdown",
   "metadata": {},
   "source": [
    "### Conclusions:\n",
    "Use RandomForest (n_estimator = 200), no StandardScaling, no Upscaling, but stratify y when test_train_splitting data. "
   ]
  },
  {
   "cell_type": "code",
   "execution_count": null,
   "metadata": {},
   "outputs": [],
   "source": []
  }
 ],
 "metadata": {
  "kernelspec": {
   "display_name": "Python 3",
   "language": "python",
   "name": "python3"
  },
  "language_info": {
   "codemirror_mode": {
    "name": "ipython",
    "version": 3
   },
   "file_extension": ".py",
   "mimetype": "text/x-python",
   "name": "python",
   "nbconvert_exporter": "python",
   "pygments_lexer": "ipython3",
   "version": "3.8.3"
  }
 },
 "nbformat": 4,
 "nbformat_minor": 4
}
