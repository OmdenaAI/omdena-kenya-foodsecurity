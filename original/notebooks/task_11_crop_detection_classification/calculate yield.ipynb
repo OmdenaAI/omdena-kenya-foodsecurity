{
 "cells": [
  {
   "cell_type": "code",
   "execution_count": 6,
   "metadata": {},
   "outputs": [],
   "source": [
    "import ee\n",
    "import geemap\n",
    "import numpy as np\n",
    "\n",
    "try:\n",
    "  ee.Initialize()\n",
    "except:\n",
    "  ee.Authenticate()\n",
    "  ee.Initialize()"
   ]
  },
  {
   "cell_type": "code",
   "execution_count": 2,
   "metadata": {},
   "outputs": [
    {
     "data": {
      "application/vnd.jupyter.widget-view+json": {
       "model_id": "cac82a9fbc97486187aedb6f200b03dd",
       "version_major": 2,
       "version_minor": 0
      },
      "text/plain": [
       "Map(center=[40, -100], controls=(WidgetControl(options=['position', 'transparent_bg'], widget=HBox(children=(T…"
      ]
     },
     "metadata": {},
     "output_type": "display_data"
    }
   ],
   "source": [
    "Map = geemap.Map()\n",
    "Map"
   ]
  },
  {
   "cell_type": "code",
   "execution_count": 17,
   "metadata": {},
   "outputs": [
    {
     "data": {
      "text/plain": [
       "{'geodesic': False,\n",
       " 'type': 'Polygon',\n",
       " 'coordinates': [[[-120.021748, 46.126847],\n",
       "   [-120.021748, 46.126957],\n",
       "   [-120.021535, 46.126957],\n",
       "   [-120.021535, 46.126847],\n",
       "   [-120.021748, 46.126847]]]}"
      ]
     },
     "execution_count": 17,
     "metadata": {},
     "output_type": "execute_result"
    }
   ],
   "source": [
    "#draw a rectangle in the above map and then run this\n",
    "feature = Map.draw_last_feature\n",
    "roi = feature.geometry()\n",
    "roi.getInfo()"
   ]
  },
  {
   "cell_type": "code",
   "execution_count": 47,
   "metadata": {},
   "outputs": [],
   "source": [
    "#1 Acre = 4047 m²\n",
    "#1 Acre  = 0.404686 hectare\n",
    "\n",
    "meterToAcre = (1/4047)\n",
    "acreToHectare = 0.404686"
   ]
  },
  {
   "cell_type": "code",
   "execution_count": 48,
   "metadata": {},
   "outputs": [
    {
     "name": "stdout",
     "output_type": "stream",
     "text": [
      "area:  200.77803438014993 m²\n",
      "Acre:  0.0496115726167902\n",
      "Hectare:  0.02007710887599836\n"
     ]
    }
   ],
   "source": [
    "# To check total area  of selected polygon \n",
    "coordinate = roi.getInfo()['coordinates']\n",
    "\n",
    "polygon = ee.Geometry.Polygon(coordinate)\n",
    "area = polygon.area().getInfo()\n",
    "acre = area * meterToAcre\n",
    "print('area: ', area,\"m²\")\n",
    "print('Acre: ', acre)\n",
    "print('Hectare: ', acre * acreToHectare)"
   ]
  },
  {
   "cell_type": "code",
   "execution_count": 49,
   "metadata": {},
   "outputs": [
    {
     "name": "stdout",
     "output_type": "stream",
     "text": [
      "Total satellite images available across the date range: 28\n",
      "Total Pixel: 4\n",
      "area of one pixel: 50.19450859503748\n"
     ]
    }
   ],
   "source": [
    "#Calculate area of 1 pixel\n",
    "\n",
    "\"\"\"\n",
    "Limitation:\n",
    "\n",
    "It works only for recatange or square geometry\n",
    "\n",
    "As we are creating a numpy matrix from the satellite image.\n",
    "Number of columns should be same for all the rows. \n",
    "\n",
    "To do (if have time):\n",
    "1. Create a new two-dimensional matrix representing mask of original geomentry\n",
    "having values of 1 and 0\n",
    "\n",
    "2. numpy matrix = numpy matrix * new matrix mask\n",
    "\n",
    "\"\"\"\n",
    "\n",
    "def maskS2clouds(image):\n",
    "  qa = image.select('QA60')\n",
    "\n",
    "  cloudBitMask = 1 << 10\n",
    "  cirrusBitMask = 1 << 11\n",
    "\n",
    "  mask = qa.bitwiseAnd(cloudBitMask).eq(0).And(\n",
    "             qa.bitwiseAnd(cirrusBitMask).eq(0))\n",
    "\n",
    "  # Return the masked and scaled data, without the QA bands.\n",
    "  return image.updateMask(mask).divide(10000) \n",
    "\n",
    "\n",
    "# Load Sentinel-2 TOA reflectance data.\n",
    "imageCollection = ee.ImageCollection('COPERNICUS/S2') \\\n",
    "    .filterDate('2016-01-01', '2016-12-31') \\\n",
    "    .filter(ee.Filter.lt('CLOUDY_PIXEL_PERCENTAGE', 5)) \\\n",
    "    .map(maskS2clouds) \\\n",
    "    .filterBounds(roi) \\\n",
    "    .sort('CLOUDY_PIXEL_PERCENTAGE')\n",
    "\n",
    "\n",
    "count = imageCollection.size().getInfo()\n",
    "print(\"Total satellite images available across the date range:\",count)\n",
    "\n",
    "\n",
    "rawImg = ee.Image(imageCollection.toList(imageCollection.size()).get(0))\n",
    "\n",
    "\"\"\"\n",
    "#To calculate pixel from actual image\n",
    "pixelCountImage = rawImg.select(['B2'].reduceRegion(\n",
    "  reducer = ee.Reducer.count(),\n",
    "  geometry = roi\n",
    "  )\n",
    "\n",
    "TotalPixel = pixelCountImage.getInfo()['B2']\n",
    "print(\"Total Pixel:\",TotalPixel)\n",
    "\n",
    "\"\"\"\n",
    "matrix = geemap.ee_to_numpy(rawImg.select(['B2']), region=roi)\n",
    "\n",
    "TotalPixel = matrix.shape[0]*matrix.shape[1]\n",
    "\n",
    "print(\"Total Pixel:\",TotalPixel)\n",
    "\n",
    "areaOfOnePixel = area/TotalPixel\n",
    "print(\"area of one pixel:\",areaOfOnePixel,\"acre\")"
   ]
  },
  {
   "cell_type": "code",
   "execution_count": 61,
   "metadata": {},
   "outputs": [
    {
     "data": {
      "text/plain": [
       "numpy.ndarray"
      ]
     },
     "execution_count": 61,
     "metadata": {},
     "output_type": "execute_result"
    }
   ],
   "source": [
    "#sample predicted matrix from the model\n",
    "samplePrediction = np.array([\n",
    "    [0,1],\n",
    "    [1,2]\n",
    "])\n",
    "\n",
    "\n",
    "#each value in the samplePrediction represent crop ID. \n",
    "crops = {\n",
    "    0:\"No crop\",\n",
    "    1:\"Maize\",\n",
    "    2:\"Corn\"\n",
    "}\n",
    "\n",
    "type(samplePrediction)\n"
   ]
  },
  {
   "cell_type": "code",
   "execution_count": 57,
   "metadata": {},
   "outputs": [
    {
     "data": {
      "text/plain": [
       "(array([0, 1, 2]), array([1, 2, 1]))"
      ]
     },
     "execution_count": 57,
     "metadata": {},
     "output_type": "execute_result"
    }
   ],
   "source": [
    "predictionCount = np.unique(samplePrediction, return_counts=True)\n",
    "crop,totalcount = predictionCount[0],predictionCount[1]\n",
    "crop,totalcount"
   ]
  },
  {
   "cell_type": "code",
   "execution_count": 63,
   "metadata": {},
   "outputs": [
    {
     "name": "stdout",
     "output_type": "stream",
     "text": [
      "No crop : 0.01240289315419755 acre\n",
      "Maize : 0.0248057863083951 acre\n",
      "Corn : 0.01240289315419755 acre\n"
     ]
    }
   ],
   "source": [
    "def calculateArea(cropCount):\n",
    "    return cropCount*meterToAcre*areaOfOnePixel\n",
    "\n",
    "\n",
    "for cropId,cropCount in zip(crop,totalcount):\n",
    "    print(\"{} : {} acre\".format(crops[cropId],calculateArea(cropCount)))"
   ]
  },
  {
   "cell_type": "code",
   "execution_count": null,
   "metadata": {},
   "outputs": [],
   "source": []
  }
 ],
 "metadata": {
  "kernelspec": {
   "display_name": "gee",
   "language": "python",
   "name": "gee"
  },
  "language_info": {
   "codemirror_mode": {
    "name": "ipython",
    "version": 3
   },
   "file_extension": ".py",
   "mimetype": "text/x-python",
   "name": "python",
   "nbconvert_exporter": "python",
   "pygments_lexer": "ipython3",
   "version": "3.9.1"
  }
 },
 "nbformat": 4,
 "nbformat_minor": 4
}
