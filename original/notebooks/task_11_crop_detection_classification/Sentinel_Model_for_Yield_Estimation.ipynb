{
 "cells": [
  {
   "cell_type": "code",
   "execution_count": 51,
   "metadata": {},
   "outputs": [],
   "source": [
    "import pandas as pd\n",
    "import numpy as np\n",
    "import seaborn as sns\n",
    "import matplotlib.pyplot as plt\n",
    "\n",
    "%matplotlib inline \n",
    "\n",
    "from sklearn.preprocessing import StandardScaler\n",
    "from sklearn.model_selection import train_test_split\n",
    "from sklearn.ensemble import RandomForestClassifier\n",
    "from sklearn.linear_model import LogisticRegressionCV\n",
    "\n",
    "from sklearn.model_selection import cross_val_score\n",
    "from sklearn.model_selection import cross_validate\n",
    "\n",
    "from sklearn.metrics import confusion_matrix \n",
    "from sklearn.metrics import classification_report\n",
    "from sklearn.metrics import f1_score\n",
    "from sklearn.metrics import accuracy_score\n",
    "from sklearn.metrics import log_loss\n",
    "\n",
    "import imblearn\n",
    "from imblearn.over_sampling import SMOTE"
   ]
  },
  {
   "cell_type": "code",
   "execution_count": 52,
   "metadata": {},
   "outputs": [],
   "source": [
    "sentinel_1 = pd.read_csv('Sentinel_training_farms_Tuned_s1.csv')\n",
    "sentinel_2 = pd.read_csv('Sentinel_training_farms_Tuned_s2.csv')"
   ]
  },
  {
   "cell_type": "code",
   "execution_count": 53,
   "metadata": {},
   "outputs": [],
   "source": [
    "sentinel_1['season'] = 1\n",
    "sentinel_2['season'] = 2"
   ]
  },
  {
   "cell_type": "code",
   "execution_count": 54,
   "metadata": {},
   "outputs": [],
   "source": [
    "data = sentinel_1.append(sentinel_2) # concat season1 and season2 data"
   ]
  },
  {
   "cell_type": "code",
   "execution_count": 55,
   "metadata": {},
   "outputs": [],
   "source": [
    "data.drop(['system:index', '.geo'], axis=1, inplace=True)"
   ]
  },
  {
   "cell_type": "code",
   "execution_count": 56,
   "metadata": {},
   "outputs": [],
   "source": [
    "y = data['CID']\n",
    "X = data.drop(['CID'], axis=1)"
   ]
  },
  {
   "cell_type": "code",
   "execution_count": 57,
   "metadata": {},
   "outputs": [
    {
     "data": {
      "text/plain": [
       "((121484,), (121484, 18))"
      ]
     },
     "execution_count": 57,
     "metadata": {},
     "output_type": "execute_result"
    }
   ],
   "source": [
    "y.shape, X.shape"
   ]
  },
  {
   "cell_type": "code",
   "execution_count": 58,
   "metadata": {},
   "outputs": [],
   "source": [
    "# Upsampling data:\n",
    "smt = SMOTE(random_state = 123)\n",
    "X_smote, y_smote = smt.fit_resample(X,y)"
   ]
  },
  {
   "cell_type": "code",
   "execution_count": 59,
   "metadata": {},
   "outputs": [
    {
     "data": {
      "text/plain": [
       "((365544, 18), (365544,))"
      ]
     },
     "execution_count": 59,
     "metadata": {},
     "output_type": "execute_result"
    }
   ],
   "source": [
    "X_smote.shape, y_smote.shape"
   ]
  },
  {
   "cell_type": "code",
   "execution_count": 78,
   "metadata": {},
   "outputs": [],
   "source": [
    "from collections import Counter\n",
    "#Counter(y_smote)"
   ]
  },
  {
   "cell_type": "markdown",
   "metadata": {},
   "source": [
    "## Tests & Tuning:"
   ]
  },
  {
   "cell_type": "code",
   "execution_count": 60,
   "metadata": {},
   "outputs": [],
   "source": [
    "X_train, X_test, y_train, y_test = train_test_split(X, y, stratify= y, shuffle=True,random_state=123)\n",
    "# previously unstratified in *_landsat"
   ]
  },
  {
   "cell_type": "code",
   "execution_count": 61,
   "metadata": {},
   "outputs": [],
   "source": [
    "hyper_table_rf_tests =[]\n",
    "\n",
    "estimators = [25, 50, 100, 150, 200, 250, 300, 350, 400]\n",
    "\n",
    "for estimator in estimators:\n",
    "    \n",
    "    hyper_param = {}\n",
    "    \n",
    "    rf = RandomForestClassifier(n_estimators = estimator)\n",
    "    \n",
    "    #Cross-Validate Using the original data:\n",
    "        \n",
    "    xval_scores = cross_val_score(rf, X,y, scoring='f1_weighted', cv=2)\n",
    "        \n",
    "    hyper_param['xval_scores'] = xval_scores\n",
    "    hyper_param  ['model'] = rf.__class__.__name__\n",
    "    hyper_param['estimator']= estimator\n",
    "    \n",
    "    # fit and predict Using Upsampling data (SMOTE)\n",
    "    rf.fit(X_train, y_train) \n",
    "    rf_predict = rf.predict(X_test)\n",
    "    rf_train_predict = rf.predict(X_train)\n",
    "    rf_predict_proba = rf.predict_proba(X_test)\n",
    "    \n",
    "    # Calculate f1 score (Using SMOTEd data)\n",
    "    hyper_param['f1score_wghtd'] = f1_score(y_test, rf_predict, average='weighted')\n",
    "    \n",
    "    hyper_param['accuracy'] = accuracy_score(y_test, rf_predict)\n",
    "    #hyper_param['accuracy_train'] = accuracy_score(y_train, rf_train_predict)\n",
    "    \n",
    "    # Calculate log loss\n",
    "    logloss = log_loss(y_test, rf_predict_proba)\n",
    "    hyper_param['log_loss'] = logloss\n",
    "    \n",
    "    hyper_table_rf_tests.append(hyper_param)"
   ]
  },
  {
   "cell_type": "code",
   "execution_count": 64,
   "metadata": {},
   "outputs": [
    {
     "data": {
      "text/html": [
       "<div>\n",
       "<style scoped>\n",
       "    .dataframe tbody tr th:only-of-type {\n",
       "        vertical-align: middle;\n",
       "    }\n",
       "\n",
       "    .dataframe tbody tr th {\n",
       "        vertical-align: top;\n",
       "    }\n",
       "\n",
       "    .dataframe thead th {\n",
       "        text-align: right;\n",
       "    }\n",
       "</style>\n",
       "<table border=\"1\" class=\"dataframe\">\n",
       "  <thead>\n",
       "    <tr style=\"text-align: right;\">\n",
       "      <th></th>\n",
       "      <th>xval_scores</th>\n",
       "      <th>model</th>\n",
       "      <th>estimator</th>\n",
       "      <th>f1score_wghtd</th>\n",
       "      <th>accuracy</th>\n",
       "      <th>log_loss</th>\n",
       "    </tr>\n",
       "  </thead>\n",
       "  <tbody>\n",
       "    <tr>\n",
       "      <th>0</th>\n",
       "      <td>[0.3004658065944259, 0.2812765436075838]</td>\n",
       "      <td>RandomForestClassifier</td>\n",
       "      <td>25</td>\n",
       "      <td>0.738133</td>\n",
       "      <td>0.748345</td>\n",
       "      <td>1.321376</td>\n",
       "    </tr>\n",
       "    <tr>\n",
       "      <th>1</th>\n",
       "      <td>[0.3012747252606613, 0.27238468618450207]</td>\n",
       "      <td>RandomForestClassifier</td>\n",
       "      <td>50</td>\n",
       "      <td>0.745457</td>\n",
       "      <td>0.755853</td>\n",
       "      <td>1.007416</td>\n",
       "    </tr>\n",
       "    <tr>\n",
       "      <th>2</th>\n",
       "      <td>[0.3125501379836418, 0.27137314785905514]</td>\n",
       "      <td>RandomForestClassifier</td>\n",
       "      <td>100</td>\n",
       "      <td>0.748451</td>\n",
       "      <td>0.759046</td>\n",
       "      <td>0.839641</td>\n",
       "    </tr>\n",
       "    <tr>\n",
       "      <th>3</th>\n",
       "      <td>[0.31868630708323836, 0.2751072373783711]</td>\n",
       "      <td>RandomForestClassifier</td>\n",
       "      <td>150</td>\n",
       "      <td>0.750344</td>\n",
       "      <td>0.760890</td>\n",
       "      <td>0.806914</td>\n",
       "    </tr>\n",
       "    <tr>\n",
       "      <th>4</th>\n",
       "      <td>[0.3067153662551945, 0.2766764624466463]</td>\n",
       "      <td>RandomForestClassifier</td>\n",
       "      <td>200</td>\n",
       "      <td>0.750646</td>\n",
       "      <td>0.761154</td>\n",
       "      <td>0.794160</td>\n",
       "    </tr>\n",
       "    <tr>\n",
       "      <th>5</th>\n",
       "      <td>[0.3107158485964776, 0.2776553573676503]</td>\n",
       "      <td>RandomForestClassifier</td>\n",
       "      <td>250</td>\n",
       "      <td>0.750508</td>\n",
       "      <td>0.761022</td>\n",
       "      <td>0.777578</td>\n",
       "    </tr>\n",
       "    <tr>\n",
       "      <th>6</th>\n",
       "      <td>[0.31158410173736, 0.2754057667460739]</td>\n",
       "      <td>RandomForestClassifier</td>\n",
       "      <td>300</td>\n",
       "      <td>0.751139</td>\n",
       "      <td>0.761681</td>\n",
       "      <td>0.774161</td>\n",
       "    </tr>\n",
       "    <tr>\n",
       "      <th>7</th>\n",
       "      <td>[0.3095753568488561, 0.27636947888492785]</td>\n",
       "      <td>RandomForestClassifier</td>\n",
       "      <td>350</td>\n",
       "      <td>0.750726</td>\n",
       "      <td>0.761253</td>\n",
       "      <td>0.771080</td>\n",
       "    </tr>\n",
       "    <tr>\n",
       "      <th>8</th>\n",
       "      <td>[0.3139000887766987, 0.2761602293596672]</td>\n",
       "      <td>RandomForestClassifier</td>\n",
       "      <td>400</td>\n",
       "      <td>0.751950</td>\n",
       "      <td>0.762306</td>\n",
       "      <td>0.769184</td>\n",
       "    </tr>\n",
       "  </tbody>\n",
       "</table>\n",
       "</div>"
      ],
      "text/plain": [
       "                                 xval_scores                   model  \\\n",
       "0   [0.3004658065944259, 0.2812765436075838]  RandomForestClassifier   \n",
       "1  [0.3012747252606613, 0.27238468618450207]  RandomForestClassifier   \n",
       "2  [0.3125501379836418, 0.27137314785905514]  RandomForestClassifier   \n",
       "3  [0.31868630708323836, 0.2751072373783711]  RandomForestClassifier   \n",
       "4   [0.3067153662551945, 0.2766764624466463]  RandomForestClassifier   \n",
       "5   [0.3107158485964776, 0.2776553573676503]  RandomForestClassifier   \n",
       "6     [0.31158410173736, 0.2754057667460739]  RandomForestClassifier   \n",
       "7  [0.3095753568488561, 0.27636947888492785]  RandomForestClassifier   \n",
       "8   [0.3139000887766987, 0.2761602293596672]  RandomForestClassifier   \n",
       "\n",
       "   estimator  f1score_wghtd  accuracy  log_loss  \n",
       "0         25       0.738133  0.748345  1.321376  \n",
       "1         50       0.745457  0.755853  1.007416  \n",
       "2        100       0.748451  0.759046  0.839641  \n",
       "3        150       0.750344  0.760890  0.806914  \n",
       "4        200       0.750646  0.761154  0.794160  \n",
       "5        250       0.750508  0.761022  0.777578  \n",
       "6        300       0.751139  0.761681  0.774161  \n",
       "7        350       0.750726  0.761253  0.771080  \n",
       "8        400       0.751950  0.762306  0.769184  "
      ]
     },
     "execution_count": 64,
     "metadata": {},
     "output_type": "execute_result"
    }
   ],
   "source": [
    "hyper_table_rf_tests = pd.DataFrame(hyper_table_rf_tests)\n",
    "hyper_table_rf_tests"
   ]
  },
  {
   "cell_type": "code",
   "execution_count": 65,
   "metadata": {},
   "outputs": [
    {
     "data": {
      "text/plain": [
       "Text(0, 0.5, 'log_loss score')"
      ]
     },
     "execution_count": 65,
     "metadata": {},
     "output_type": "execute_result"
    },
    {
     "data": {
      "image/png": "[encoded data removed]",
      "text/plain": [
       "<Figure size 432x288 with 1 Axes>"
      ]
     },
     "metadata": {
      "needs_background": "light"
     },
     "output_type": "display_data"
    }
   ],
   "source": [
    "plt.plot(hyper_table_rf_tests['estimator'], hyper_table_rf_tests['log_loss'])\n",
    "plt.xlabel('n_estimator')\n",
    "plt.ylabel('log_loss score')\n",
    "#plt.ylim([1, 3])"
   ]
  },
  {
   "cell_type": "code",
   "execution_count": null,
   "metadata": {},
   "outputs": [],
   "source": []
  },
  {
   "cell_type": "markdown",
   "metadata": {},
   "source": [
    "#### Xval with upsample data (SMOTE):"
   ]
  },
  {
   "cell_type": "markdown",
   "metadata": {},
   "source": [
    "Taking care of the imbalanced data resulted in a more generalized solution."
   ]
  },
  {
   "cell_type": "code",
   "execution_count": 67,
   "metadata": {},
   "outputs": [
    {
     "data": {
      "text/plain": [
       "{'fit_time': array([164.3512702 , 152.80134249, 149.62682056]),\n",
       " 'score_time': array([4.67690396, 5.24854851, 5.4583118 ]),\n",
       " 'test_acc': array([0.84543037, 0.88236984, 0.87907065]),\n",
       " 'train_acc': array([0.9999959 , 0.99951579, 0.99945834]),\n",
       " 'test_prec_macro': array([0.8270885 , 0.8763211 , 0.87701515]),\n",
       " 'train_prec_macro': array([0.9999959 , 0.99951611, 0.99945865]),\n",
       " 'test_rec_macro': array([0.84543232, 0.88237213, 0.87906629]),\n",
       " 'train_rec_macro': array([0.9999959 , 0.9995158 , 0.99945834]),\n",
       " 'test_f1_wgtd': array([0.81954521, 0.87324473, 0.85363999]),\n",
       " 'train_f1_wgtd': array([0.9999959 , 0.99951579, 0.99945834])}"
      ]
     },
     "execution_count": 67,
     "metadata": {},
     "output_type": "execute_result"
    }
   ],
   "source": [
    "model = RandomForestClassifier(n_estimators=150)\n",
    "score = {'acc': 'accuracy',\n",
    "         'prec_macro': 'precision_macro',\n",
    "         'rec_macro': 'recall_macro',\n",
    "         'f1_wgtd': 'f1_weighted'}\n",
    "xval_SMOTE_150 = cross_validate(model, X_smote,y_smote, scoring=score, return_train_score = True,cv=3)\n",
    "xval_SMOTE_150"
   ]
  },
  {
   "cell_type": "code",
   "execution_count": 68,
   "metadata": {},
   "outputs": [
    {
     "name": "stdout",
     "output_type": "stream",
     "text": [
      "xval_SMOTE_150_f1_weighted, averaged for cv=3 :  0.8488099763369381\n",
      "xval_SMOTE_150_test_acc, averaged :  0.8689569518306962\n",
      "xval_SMOTE_150_train_acc, averaged :  0.9996566760772985\n"
     ]
    }
   ],
   "source": [
    "print('xval_SMOTE_150_f1_weighted, averaged for cv=3 : ',xval_SMOTE_150['test_f1_wgtd'].mean())\n",
    "print('xval_SMOTE_150_test_acc, averaged : ', xval_SMOTE_150['test_acc'].mean())\n",
    "print('xval_SMOTE_150_train_acc, averaged : ', xval_SMOTE_150['train_acc'].mean())\n"
   ]
  },
  {
   "cell_type": "markdown",
   "metadata": {},
   "source": [
    "#### Scaling data using StandardScaler:"
   ]
  },
  {
   "cell_type": "markdown",
   "metadata": {},
   "source": [
    "Scaling the data still resulted in big difference between train and test accuracies and f1 values."
   ]
  },
  {
   "cell_type": "code",
   "execution_count": 11,
   "metadata": {},
   "outputs": [
    {
     "data": {
      "text/plain": [
       "array([0.47143086, 0.496427  , 0.44170555])"
      ]
     },
     "execution_count": 11,
     "metadata": {},
     "output_type": "execute_result"
    }
   ],
   "source": [
    "#xval_scores_StandarsSc_150 = xval_scores\n",
    "#xval_scores_StandarsSc_150"
   ]
  },
  {
   "cell_type": "code",
   "execution_count": 9,
   "metadata": {},
   "outputs": [],
   "source": [
    "scaler = StandardScaler()\n",
    "X_scaled = scaler.fit_transform(X)"
   ]
  },
  {
   "cell_type": "code",
   "execution_count": 10,
   "metadata": {},
   "outputs": [
    {
     "name": "stderr",
     "output_type": "stream",
     "text": [
      "C:\\Users\\ssatt\\Anaconda3\\lib\\site-packages\\sklearn\\metrics\\_classification.py:1221: UndefinedMetricWarning: Precision is ill-defined and being set to 0.0 in labels with no predicted samples. Use `zero_division` parameter to control this behavior.\n",
      "  _warn_prf(average, modifier, msg_start, len(result))\n"
     ]
    },
    {
     "data": {
      "text/plain": [
       "{'fit_time': array([39.26661658, 48.97238326, 45.74046636]),\n",
       " 'score_time': array([1.27030659, 1.56401896, 1.65357447]),\n",
       " 'test_acc': array([0.46553896, 0.52836153, 0.49162839]),\n",
       " 'train_acc': array([0.99918507, 0.99918507, 0.99877763]),\n",
       " 'test_prec_macro': array([0.4106095 , 0.33712944, 0.29726873]),\n",
       " 'train_prec_macro': array([0.99853496, 0.99859765, 0.99779736]),\n",
       " 'test_rec_macro': array([0.30873087, 0.29782614, 0.24826133]),\n",
       " 'train_rec_macro': array([0.99868696, 0.99862774, 0.99811236]),\n",
       " 'test_f1_wgtd': array([0.47028486, 0.49608779, 0.44129827]),\n",
       " 'train_f1_wgtd': array([0.99918509, 0.99918532, 0.99877799])}"
      ]
     },
     "execution_count": 10,
     "metadata": {},
     "output_type": "execute_result"
    }
   ],
   "source": [
    "model = RandomForestClassifier(n_estimators=150)\n",
    "score = {'acc': 'accuracy',\n",
    "         'prec_macro': 'precision_macro',\n",
    "         'rec_macro': 'recall_macro',\n",
    "         'f1_wgtd': 'f1_weighted'}\n",
    "xval_scaled_150 = cross_validate(model, X_scaled,y, scoring=score, return_train_score = True,cv=3)\n",
    "xval_scaled_150"
   ]
  },
  {
   "cell_type": "code",
   "execution_count": null,
   "metadata": {},
   "outputs": [],
   "source": []
  },
  {
   "cell_type": "markdown",
   "metadata": {},
   "source": [
    "## Final model:"
   ]
  },
  {
   "cell_type": "code",
   "execution_count": 72,
   "metadata": {},
   "outputs": [],
   "source": [
    "from sklearn.pipeline import Pipeline"
   ]
  },
  {
   "cell_type": "code",
   "execution_count": 73,
   "metadata": {},
   "outputs": [],
   "source": [
    "y = data['CID']\n",
    "X = data.drop(['CID'], axis=1)"
   ]
  },
  {
   "cell_type": "code",
   "execution_count": 74,
   "metadata": {},
   "outputs": [
    {
     "name": "stdout",
     "output_type": "stream",
     "text": [
      "Classification Report. regular data: \n",
      "                precision    recall  f1-score   support\n",
      "\n",
      "        cotton       0.72      0.79      0.75      2005\n",
      "         dates       0.36      0.56      0.44        48\n",
      "         grass       0.53      0.59      0.56      1147\n",
      "       alfalfa       0.82      0.84      0.83      8015\n",
      "         maize       0.80      0.76      0.78      4524\n",
      "         pecan       0.74      0.72      0.73      3157\n",
      "        vacant       0.68      0.68      0.68      4115\n",
      "      vineyard       0.82      0.81      0.81     12185\n",
      "vineyard+pecan       0.54      0.57      0.56      1250\n",
      "\n",
      "      accuracy                           0.77     36446\n",
      "     macro avg       0.67      0.70      0.68     36446\n",
      "  weighted avg       0.77      0.77      0.77     36446\n",
      "\n",
      "Confustion_Matrix. regular data: \n",
      "[[1587    2   22   55   54   73   77  130    5]\n",
      " [   2   27    5    1    0    2    4    7    0]\n",
      " [  24    5  680  153   47   14   99  118    7]\n",
      " [ 130    9  109 6694  204  106  296  417   50]\n",
      " [ 117    3   58  166 3420  130  236  365   29]\n",
      " [  81    5   31  146   62 2262  162  353   55]\n",
      " [ 125    9  168  318  180  149 2780  359   27]\n",
      " [ 134   15  196  594  296  296  391 9828  435]\n",
      " [   4    1   16   32   20   31   17  412  717]]\n"
     ]
    }
   ],
   "source": [
    "model = RandomForestClassifier(n_estimators=250)\n",
    "\n",
    "# Modeling code in a pipeline\n",
    "my_pipeline = Pipeline(steps=[('model', model)])\n",
    "\n",
    "#Split data\n",
    "X_train, X_test, y_train, y_test = train_test_split(X, y, test_size=0.3, shuffle=True, stratify=y, random_state=123)\n",
    "\n",
    "# Scaling training data ONLY:\n",
    "smt = SMOTE(random_state = 123)\n",
    "X_train_smote, y_train_smote = smt.fit_resample(X_train,y_train)\n",
    "X_test_smote, y_test_smote = smt.fit_resample(X_test, y_test)\n",
    "\n",
    "# fit model on scaled training data:\n",
    "my_pipeline.fit(X_train_smote, y_train_smote)\n",
    "\n",
    "# Get predictions\n",
    "model_preds = my_pipeline.predict(X_test)\n",
    "model_preds_smote = my_pipeline.predict(X_test_smote)\n",
    "# Evaluate the model\n",
    "\n",
    "cr = classification_report(y_test, model_preds, labels = [1,2,3,4,5,6,7,8,9], zero_division=0,\n",
    "                          target_names=['cotton','dates','grass','alfalfa', 'maize', 'pecan',\n",
    "                                       'vacant', 'vineyard', 'vineyard+pecan'])\n",
    "print(f'Classification Report. regular data: \\n{cr}')\n",
    "\n",
    "# creating a confusion matrix \n",
    "cm = confusion_matrix(y_test, model_preds) \n",
    "print(f'Confustion_Matrix. regular data: \\n{cm}')\n"
   ]
  },
  {
   "cell_type": "markdown",
   "metadata": {},
   "source": [
    "### Classification report using original data (trained on upsampled data):"
   ]
  },
  {
   "cell_type": "code",
   "execution_count": 77,
   "metadata": {},
   "outputs": [
    {
     "name": "stdout",
     "output_type": "stream",
     "text": [
      "Classification Report. regular data: \n",
      "                precision    recall  f1-score   support\n",
      "\n",
      "        cotton       0.72      0.79      0.75      2005\n",
      "         dates       0.36      0.56      0.44        48\n",
      "         grass       0.53      0.59      0.56      1147\n",
      "       alfalfa       0.82      0.84      0.83      8015\n",
      "         maize       0.80      0.76      0.78      4524\n",
      "         pecan       0.74      0.72      0.73      3157\n",
      "        vacant       0.68      0.68      0.68      4115\n",
      "      vineyard       0.82      0.81      0.81     12185\n",
      "vineyard+pecan       0.54      0.57      0.56      1250\n",
      "\n",
      "      accuracy                           0.77     36446\n",
      "     macro avg       0.67      0.70      0.68     36446\n",
      "  weighted avg       0.77      0.77      0.77     36446\n",
      "\n"
     ]
    }
   ],
   "source": [
    "print(f'Classification Report. regular data: \\n{cr}')"
   ]
  },
  {
   "cell_type": "markdown",
   "metadata": {},
   "source": [
    "### Classification report using Upsampled data (trained on upsampled data):"
   ]
  },
  {
   "cell_type": "code",
   "execution_count": 76,
   "metadata": {},
   "outputs": [
    {
     "name": "stdout",
     "output_type": "stream",
     "text": [
      "                precision    recall  f1-score   support\n",
      "\n",
      "        cotton       0.84      0.82      0.83     12185\n",
      "         dates       0.98      0.60      0.74     12185\n",
      "         grass       0.70      0.62      0.66     12185\n",
      "       alfalfa       0.67      0.84      0.74     12185\n",
      "         maize       0.80      0.77      0.79     12185\n",
      "         pecan       0.80      0.75      0.77     12185\n",
      "        vacant       0.64      0.67      0.65     12185\n",
      "      vineyard       0.52      0.81      0.63     12185\n",
      "vineyard+pecan       0.86      0.65      0.74     12185\n",
      "\n",
      "      accuracy                           0.72    109665\n",
      "     macro avg       0.76      0.72      0.73    109665\n",
      "  weighted avg       0.76      0.72      0.73    109665\n",
      "\n"
     ]
    }
   ],
   "source": [
    " print(classification_report(y_test_smote, model_preds_smote, labels = [1,2,3,4,5,6,7,8,9], zero_division=0,\n",
    "                          target_names=['cotton','dates','grass','alfalfa', 'maize', 'pecan',\n",
    "                                       'vacant', 'vineyard', 'vineyard+pecan']))"
   ]
  },
  {
   "cell_type": "code",
   "execution_count": null,
   "metadata": {},
   "outputs": [],
   "source": []
  }
 ],
 "metadata": {
  "kernelspec": {
   "display_name": "Python 3",
   "language": "python",
   "name": "python3"
  },
  "language_info": {
   "codemirror_mode": {
    "name": "ipython",
    "version": 3
   },
   "file_extension": ".py",
   "mimetype": "text/x-python",
   "name": "python",
   "nbconvert_exporter": "python",
   "pygments_lexer": "ipython3",
   "version": "3.8.3"
  }
 },
 "nbformat": 4,
 "nbformat_minor": 4
}
