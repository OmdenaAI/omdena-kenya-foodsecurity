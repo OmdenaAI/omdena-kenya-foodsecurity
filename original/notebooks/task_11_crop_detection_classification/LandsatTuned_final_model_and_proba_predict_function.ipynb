{
 "cells": [
  {
   "cell_type": "code",
   "execution_count": 21,
   "metadata": {},
   "outputs": [],
   "source": [
    "import pandas as pd\n",
    "import numpy as np\n",
    "import seaborn as sns\n",
    "import matplotlib.pyplot as plt\n",
    "\n",
    "%matplotlib inline \n",
    "\n",
    "from sklearn.model_selection import train_test_split\n",
    "from sklearn.ensemble import RandomForestClassifier\n",
    "\n",
    "from sklearn.pipeline import Pipeline\n",
    "\n",
    "import pickle "
   ]
  },
  {
   "cell_type": "code",
   "execution_count": 22,
   "metadata": {},
   "outputs": [],
   "source": [
    "# load data\n",
    "data = pd.read_csv('Landsat_training_farms_Tuned.csv')\n",
    "\n",
    "data.drop(['system:index','system:time_start','system:time_start_1','.geo'], axis=1, inplace=True)\n",
    "\n",
    "y = data['CID']\n",
    "X = data.drop(['CID'], axis=1)"
   ]
  },
  {
   "cell_type": "code",
   "execution_count": 23,
   "metadata": {},
   "outputs": [],
   "source": [
    "def trainModel(X,y):  \n",
    "       \n",
    "    #Split data\n",
    "    X_train, X_test, y_train, y_test = train_test_split(X, y, test_size=0.3, shuffle=True, stratify=y, random_state=123)\n",
    "        \n",
    "    # instantiate model\n",
    "    model = RandomForestClassifier(n_estimators=250)\n",
    "    \n",
    "    # Modeling code in a pipeline\n",
    "    my_pipeline = Pipeline(steps=[('model', model)])\n",
    "\n",
    "    # fit model on data:\n",
    "    model = my_pipeline.fit(X_train, y_train)\n",
    "    \n",
    "    # save the model to disk\n",
    "    filename = 'trained_model_landsatTuned.sav'\n",
    "    #pickle.dump(my_pipeline, open(filename, 'wb'))\n",
    "    \n",
    "    return pickle.dump(model, open(filename, 'wb'))"
   ]
  },
  {
   "cell_type": "code",
   "execution_count": 24,
   "metadata": {},
   "outputs": [],
   "source": [
    "trained_rf_model = trainModel(X,y)"
   ]
  },
  {
   "cell_type": "code",
   "execution_count": 18,
   "metadata": {},
   "outputs": [],
   "source": [
    "def predictCrop(array):\n",
    "\n",
    "    \"\"\" This function loads model from disk and predicts\n",
    "    the probability of copy type.\n",
    "    input: array of the 13 Sentinel bands, QA10,20 and 60,\n",
    "    ndvi, and season.\"\"\"\n",
    "\n",
    "    # load the model from disk\n",
    "    filename = 'trained_model_landsatTuned.sav'\n",
    "    trained_model = pickle.load(open(filename, 'rb'))\n",
    "\n",
    "    # Predict crop type\n",
    "    predicted_crop_type = trained_model.predict_proba([array])\n",
    "\n",
    "    return predicted_crop_type"
   ]
  },
  {
   "cell_type": "code",
   "execution_count": null,
   "metadata": {},
   "outputs": [],
   "source": []
  }
 ],
 "metadata": {
  "kernelspec": {
   "display_name": "Python 3",
   "language": "python",
   "name": "python3"
  },
  "language_info": {
   "codemirror_mode": {
    "name": "ipython",
    "version": 3
   },
   "file_extension": ".py",
   "mimetype": "text/x-python",
   "name": "python",
   "nbconvert_exporter": "python",
   "pygments_lexer": "ipython3",
   "version": "3.8.3"
  }
 },
 "nbformat": 4,
 "nbformat_minor": 4
}
