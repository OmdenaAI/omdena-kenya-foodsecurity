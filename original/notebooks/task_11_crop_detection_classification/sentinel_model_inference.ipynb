{
 "cells": [
  {
   "cell_type": "code",
   "execution_count": 1,
   "metadata": {
    "id": "LOU8YxR0WUuJ"
   },
   "outputs": [],
   "source": [
    "import pickle \n",
    "import numpy as np\n"
   ]
  },
  {
   "cell_type": "code",
   "execution_count": 2,
   "metadata": {
    "colab": {
     "base_uri": "https://localhost:8080/"
    },
    "id": "DW9bE04oWzAE",
    "outputId": "632b3169-ec77-40ba-e419-74e61ce7ce4c"
   },
   "outputs": [
    {
     "name": "stdout",
     "output_type": "stream",
     "text": [
      "--2021-01-17 17:23:29--  https://omdena-gpsdd-senegal.s3-us-west-1.amazonaws.com/data/Task11/trained_model_sentinel.sav\n",
      "Resolving omdena-gpsdd-senegal.s3-us-west-1.amazonaws.com (omdena-gpsdd-senegal.s3-us-west-1.amazonaws.com)... 52.219.120.81\n",
      "Connecting to omdena-gpsdd-senegal.s3-us-west-1.amazonaws.com (omdena-gpsdd-senegal.s3-us-west-1.amazonaws.com)|52.219.120.81|:443... connected.\n",
      "HTTP request sent, awaiting response... 200 OK\n",
      "Length: 1937217394 (1.8G) [application/x-www-form-urlencoded]\n",
      "Saving to: ‘model.sav’\n",
      "\n",
      "model.sav           100%[===================>]   1.80G  41.3MB/s    in 45s     \n",
      "\n",
      "2021-01-17 17:24:15 (40.8 MB/s) - ‘model.sav’ saved [1937217394/1937217394]\n",
      "\n"
     ]
    }
   ],
   "source": [
    "!wget -O \"model.sav\" \"https://omdena-gpsdd-senegal.s3-us-west-1.amazonaws.com/data/Task11/trained_model_sentinel.sav\""
   ]
  },
  {
   "cell_type": "code",
   "execution_count": 3,
   "metadata": {
    "colab": {
     "base_uri": "https://localhost:8080/"
    },
    "id": "UmGwd4HoXJ2s",
    "outputId": "7985d1f6-8579-4843-8cce-a073353e789f"
   },
   "outputs": [
    {
     "data": {
      "text/plain": [
       "(array([0.1671    , 0.1655    , 0.1982    , 0.2335    , 0.        ,\n",
       "        0.08176975, 0.20298202, 0.21678885, 0.23552437, 0.25190926,\n",
       "        0.30091239, 0.24326706, 0.33443   , 0.20252087, 0.0636187 ,\n",
       "        0.00144478, 0.        , 1.        ]), (18,))"
      ]
     },
     "execution_count": 3,
     "metadata": {
      "tags": []
     },
     "output_type": "execute_result"
    }
   ],
   "source": [
    "sample1 = np.array([0.1671, 0.1655    , 0.1982    , 0.2335    , 0.        ,\n",
    "       0.08176975, 0.20298202, 0.21678885, 0.23552437, 0.25190926,\n",
    "       0.30091239, 0.24326706, 0.33443       , 0.20252087, 0.0636187 ,\n",
    "       0.00144478, 0.        , 1.        ])\n",
    "sample1,sample1.shape"
   ]
  },
  {
   "cell_type": "code",
   "execution_count": 4,
   "metadata": {
    "colab": {
     "base_uri": "https://localhost:8080/"
    },
    "id": "zPiPnHnfXaeS",
    "outputId": "38f16842-a6c9-4a61-abc8-06578670b8ca"
   },
   "outputs": [
    {
     "name": "stderr",
     "output_type": "stream",
     "text": [
      "/usr/local/lib/python3.6/dist-packages/sklearn/base.py:318: UserWarning: Trying to unpickle estimator DecisionTreeClassifier from version 0.23.1 when using version 0.22.2.post1. This might lead to breaking code or invalid results. Use at your own risk.\n",
      "  UserWarning)\n",
      "/usr/local/lib/python3.6/dist-packages/sklearn/base.py:318: UserWarning: Trying to unpickle estimator RandomForestClassifier from version 0.23.1 when using version 0.22.2.post1. This might lead to breaking code or invalid results. Use at your own risk.\n",
      "  UserWarning)\n",
      "/usr/local/lib/python3.6/dist-packages/sklearn/base.py:318: UserWarning: Trying to unpickle estimator Pipeline from version 0.23.1 when using version 0.22.2.post1. This might lead to breaking code or invalid results. Use at your own risk.\n",
      "  UserWarning)\n"
     ]
    },
    {
     "data": {
      "text/plain": [
       "array([[0.172, 0.004, 0.084, 0.048, 0.168, 0.092, 0.148, 0.244, 0.04 ]])"
      ]
     },
     "execution_count": 4,
     "metadata": {
      "tags": []
     },
     "output_type": "execute_result"
    }
   ],
   "source": [
    "# load the model from disk\n",
    "filename = 'model.sav'\n",
    "model = pickle.load(open(filename, 'rb'))\n",
    "\n",
    "# Predict crop type\n",
    "prediction = model.predict_proba([sample1])\n",
    "prediction"
   ]
  },
  {
   "cell_type": "code",
   "execution_count": null,
   "metadata": {
    "id": "hkoqLxssXh_K"
   },
   "outputs": [],
   "source": [
    "# Landsat model inference\n",
    "# load the model from disk\n",
    "filename = 'trained_model_landsatTuned.sav'\n",
    "model = pickle.load(open(filename, 'rb'))\n",
    "\n",
    "# Predict crop type\n",
    "prediction = model.predict_proba([sample1])\n",
    "prediction\n"
   ]
  }
 ],
 "metadata": {
  "colab": {
   "collapsed_sections": [],
   "name": "sentinel_model_inference.ipynb",
   "provenance": []
  },
  "kernelspec": {
   "display_name": "Python3",
   "language": "python",
   "name": "python3"
  },
  "language_info": {
   "codemirror_mode": {
    "name": "ipython",
    "version": 3
   },
   "file_extension": ".py",
   "mimetype": "text/x-python",
   "name": "python",
   "nbconvert_exporter": "python",
   "pygments_lexer": "ipython3",
   "version": "3.8.2"
  }
 },
 "nbformat": 4,
 "nbformat_minor": 1
}
