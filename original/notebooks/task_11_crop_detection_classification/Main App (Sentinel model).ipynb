{
 "cells": [
  {
   "cell_type": "code",
   "execution_count": 1,
   "metadata": {},
   "outputs": [],
   "source": [
    "import ee\n",
    "import geemap\n",
    "import os\n",
    "import numpy as np\n",
    "import seaborn as sns\n",
    "import matplotlib.pyplot as plt\n",
    "import cv2\n",
    "import ipywidgets as widgets\n",
    "from IPython.display import Javascript, display\n",
    "import pickle \n",
    "import datetime \n",
    "\n",
    "try:\n",
    "  ee.Initialize()\n",
    "except:\n",
    "  ee.Authenticate()\n",
    "  ee.Initialize()"
   ]
  },
  {
   "cell_type": "code",
   "execution_count": null,
   "metadata": {},
   "outputs": [],
   "source": [
    "#run this to download the model\n",
    "!wget -O \"sentinelModelV2.sav\" \"https://omdena-gpsdd-senegal.s3-us-west-1.amazonaws.com/data/Task11/trained_model_smote_sentinelV2.sav\""
   ]
  },
  {
   "cell_type": "code",
   "execution_count": 2,
   "metadata": {},
   "outputs": [
    {
     "data": {
      "application/vnd.jupyter.widget-view+json": {
       "model_id": "33afc80e8add4914a4d5b2926adfa280",
       "version_major": 2,
       "version_minor": 0
      },
      "text/plain": [
       "VBox(children=(Label(value='Choose the date'), VBox(children=(IntSlider(value=2020, description='Year:', max=2…"
      ]
     },
     "metadata": {},
     "output_type": "display_data"
    }
   ],
   "source": [
    "\n",
    "style = {'description_width': 'initial'}\n",
    "\n",
    "end_year = widgets.IntSlider(description='Year:', value=2020, min=2016, max=2021, style=style)\n",
    "end_month = widgets.IntSlider(description='Month:', value=5, min=1, max=12, style=style)\n",
    "end_day = widgets.IntSlider(description='Day:', value=5, min=1, max=31, style=style)\n",
    "hbox = widgets.VBox([end_year, end_month, end_day ])\n",
    "#display(hbox)\n",
    "widgets.VBox([widgets.Label('Choose the date'),hbox])"
   ]
  },
  {
   "cell_type": "code",
   "execution_count": 3,
   "metadata": {},
   "outputs": [
    {
     "data": {
      "application/vnd.jupyter.widget-view+json": {
       "model_id": "a02fd17a96644e74b38f8968155766dc",
       "version_major": 2,
       "version_minor": 0
      },
      "text/plain": [
       "Map(center=[14.607989, -14.531731], controls=(WidgetControl(options=['position', 'transparent_bg'], widget=HBo…"
      ]
     },
     "metadata": {},
     "output_type": "display_data"
    }
   ],
   "source": [
    "Map = geemap.Map(center=[14.607989,-14.531731], zoom=7)\n",
    "Map.add_basemap('Google Satellite Hybrid')\n",
    "Map"
   ]
  },
  {
   "cell_type": "code",
   "execution_count": 11,
   "metadata": {},
   "outputs": [
    {
     "name": "stdout",
     "output_type": "stream",
     "text": [
      "Area statistics:\n",
      "area:  55230.62179835674 m²\n",
      "Acre:  13.647299678368357\n",
      "Hectare:  5.522871117640177\n"
     ]
    }
   ],
   "source": [
    "#1 Acre = 4047 m²\n",
    "#1 Acre  = 0.404686 hectare\n",
    "meterToAcre = (1/4047)\n",
    "acreToHectare = 0.404686\n",
    "startDate=None\n",
    "datePicker_Start=None\n",
    "datePicker_End=None\n",
    "roi =None\n",
    "area = None\n",
    "\n",
    "#def selectDate():\n",
    "#Select date range of 30 days\n",
    "startDate = datetime.datetime(end_year.value, end_month.value, end_day.value) - datetime.timedelta(days=30)\n",
    "datePicker_Start =  str(startDate.year)+\"-\"+str(startDate.month)+\"-\"+str(startDate.day)\n",
    "datePicker_End =  str(end_year.value)+\"-\"+str(end_month.value)+\"-\"+str(end_day.value)\n",
    "\n",
    "\n",
    "# To check total area  of selected polygon\n",
    "def roiInfo(): \n",
    "    feature = Map.draw_last_feature\n",
    "    roi = feature.geometry()\n",
    "    coordinate = roi.getInfo()['coordinates']\n",
    "    polygon = ee.Geometry.Polygon(coordinate)\n",
    "    area = polygon.area().getInfo()\n",
    "    acre = area * meterToAcre\n",
    "    print('area: ', area,\"m²\")\n",
    "    print('Acre: ', acre)\n",
    "    print('Hectare: ', acre * acreToHectare)\n",
    "    return area\n",
    "\n",
    "def plotResult(prediction):\n",
    "    # Create colormap suitable for colourblind people and with grey as 0 for \"No classification\"\n",
    "    cmap = sns.color_palette(\"colorblind\", as_cmap=True)\n",
    "    cmap[0], cmap[7] = cmap[7], cmap[0]\n",
    "\n",
    "    # Plot heatmap\n",
    "    ax = sns.heatmap(prediction, vmin=0, vmax=9, cmap=cmap)\n",
    "\n",
    "    # Set colourbar\n",
    "    cbar = ax.collections[0].colorbar\n",
    "    cbar.set_ticks([0.5 + (8/9*x) for x in range(10)])\n",
    "    cbar.set_ticklabels([\"No classification\", \"Cotton\", \"Dates\", \"Grass\", \"Lucern\", \"Maize\", \"Pecan\", \"Vacant\", \"Vineyard\", \"Vineyard & Pecan\"])\n",
    "\n",
    "    # Remove axis ticks\n",
    "    plt.setp(ax, yticks=[], xticks=[]);\n",
    "\n",
    "def predictYeild(samplePrediction, crops, areaOfOnePixel):\n",
    "    \n",
    "        \n",
    "    def calculateArea(cropCount):\n",
    "        return cropCount*meterToAcre*areaOfOnePixel\n",
    "\n",
    "    predictionCount = np.unique(samplePrediction, return_counts=True)\n",
    "    crop,totalcount = predictionCount[0],predictionCount[1]\n",
    "\n",
    "    for cropId,cropCount in zip(crop,totalcount):\n",
    "        print(\"{} : {} acre\".format(crops[cropId],calculateArea(cropCount)))\n",
    "        \n",
    "\n",
    "#define global variables\n",
    "feature = Map.draw_last_feature\n",
    "roi = feature.geometry()\n",
    "\n",
    "\n",
    "#filename_Sentinel = 'models/sentinelModelV2.sav'\n",
    "filename_Sentinel = 'sentinelModelV2.sav'\n",
    "\n",
    "crops = {\n",
    "    0:\"No crop\",\n",
    "    1:\"Cotton\",\n",
    "    2:\"Dates\",\n",
    "    3:\"Grass\",\n",
    "    4:\"Lucern\",\n",
    "    5:\"Maize\",\n",
    "    6:\"Pecan\",\n",
    "    7:\"Vacant\",\n",
    "    8:\"Vineyard\",\n",
    "    9:\"Vineyard & Pecan\"\n",
    "}\n",
    "\n",
    "print(\"Area statistics:\")\n",
    "area = roiInfo()\n",
    "\n"
   ]
  },
  {
   "cell_type": "code",
   "execution_count": null,
   "metadata": {},
   "outputs": [],
   "source": []
  },
  {
   "cell_type": "code",
   "execution_count": 5,
   "metadata": {},
   "outputs": [],
   "source": [
    "class Sentinel:\n",
    "    def __init__(self):\n",
    "        self.model = None\n",
    "        self.prediction = None\n",
    "       \n",
    "\n",
    "    def getImage(datePicker_Start, datePicker_End, roi, cloud=5):\n",
    "\n",
    "        def maskS2clouds(image):\n",
    "            qa = image.select('QA60')\n",
    "            cloudBitMask = 1 << 10\n",
    "            cirrusBitMask = 1 << 11\n",
    "            mask = qa.bitwiseAnd(cloudBitMask).eq(0).And(\n",
    "                     qa.bitwiseAnd(cirrusBitMask).eq(0))\n",
    "            return image.updateMask(mask).divide(10000) \n",
    "\n",
    "        # Load Sentinel-2 TOA reflectance data.\n",
    "        imageCollection = ee.ImageCollection('COPERNICUS/S2') \\\n",
    "            .filterDate(datePicker_Start, datePicker_End) \\\n",
    "            .filter(ee.Filter.lt('CLOUDY_PIXEL_PERCENTAGE', cloud)) \\\n",
    "            .map(maskS2clouds) \\\n",
    "            .filterBounds(roi) \\\n",
    "            .sort('CLOUDY_PIXEL_PERCENTAGE')\n",
    "\n",
    "\n",
    "        count = imageCollection.size().getInfo()\n",
    "        if count<=0:\n",
    "            print(\"No images found for the date range.\\nChoose different date\")\n",
    "            return None\n",
    "        print(\"Total satellite images available across the date range:\",count)\n",
    "\n",
    "        rawImg = ee.Image(imageCollection.toList(imageCollection.size()).get(0))\n",
    "\n",
    "        return rawImg\n",
    "\n",
    "    \n",
    "    \n",
    "    \n",
    "    def createMatrix(rawImg,roi):\n",
    "        \n",
    "        bands = ['B1','B10','B11','B12','B2','B3','B4','B5','B6','B7','B8','B8A','B9','NDVI']\n",
    "        matrix = {'B1':None,\n",
    "                  'B10':None,\n",
    "                  'B11':None,\n",
    "                  'B12':None,\n",
    "                  'B2':None,\n",
    "                  'B3':None,\n",
    "                  'B4':None,\n",
    "                  'B5':None,\n",
    "                  'B6':None,\n",
    "                  'B7':None,\n",
    "                  'B8':None,\n",
    "                  'B8A':None,\n",
    "                  'B9':None,\n",
    "                  'NDVI':None\n",
    "                 }\n",
    "        Res_ten= rawImg.select(['B2'])\n",
    "        Res_ten = geemap.ee_to_numpy(Res_ten, region=roi)\n",
    "        targetSize = (Res_ten.shape[1],Res_ten.shape[0])\n",
    "        \n",
    "        for band in bands:\n",
    "            print(\"Processing:\",band)\n",
    "            \n",
    "            if band == \"NDVI\":\n",
    "                NIR = matrix['B8']\n",
    "                RED = matrix['B4']\n",
    "                NDVI_val = (NIR-RED)/(NIR+RED)\n",
    "                matrix[band] = NDVI_val\n",
    "            else:\n",
    "                temp = rawImg.select([band])\n",
    "                temp = geemap.ee_to_numpy(temp, region=roi)\n",
    "                matrix[band] = cv2.resize(temp,targetSize,interpolation=cv2.INTER_NEAREST)      \n",
    "                \n",
    "\n",
    "        FinalImage = np.dstack((matrix['B1'],matrix['B10'],matrix['B11'],\n",
    "                               matrix['B12'],matrix['B2'],matrix['B3'],\n",
    "                               matrix['B4'],matrix['B5'],matrix['B6'],\n",
    "                               matrix['B7'],matrix['B8'],matrix['B8A'],\n",
    "                               matrix['B9'],matrix['NDVI']))\n",
    "        \n",
    "\n",
    "        return FinalImage\n",
    "    \n",
    "    def calculate_one_pixel_area(matrix):        \n",
    "        TotalPixel = matrix.shape[0]*matrix.shape[1]\n",
    "        print(\"Total Pixel:\",TotalPixel)\n",
    "        areaOfOnePixel = area/TotalPixel\n",
    "        print(\"Area of one pixel:\",areaOfOnePixel,\"acre\")\n",
    "        print('Total area: ', area,\"m²\")\n",
    "        return areaOfOnePixel\n",
    "    \n",
    "    def loadModel(self,filename_Sentinel):\n",
    "        self.model = pickle.load(open(filename_Sentinel, 'rb'))\n",
    "        \n",
    "    def predictCrop(self, inputBands):\n",
    "        return self.model.predict_proba([inputBands])\n",
    "    \n",
    "    def initPrediction(self, row, col):\n",
    "        self.prediction = np.zeros([row,col])\n",
    "        \n",
    "\n",
    "    def updateMatrix(self,inputBands,row,col,threshold =0.6):\n",
    "        pred = self.predictCrop(inputBands)\n",
    "        if pred.max() >= threshold:\n",
    "            self.prediction[row][col] = pred.argmax()+1  # Add 1 to keep \"no crop classified\" as 0\n",
    "\n",
    "     \n",
    "        \n",
    "\n"
   ]
  },
  {
   "cell_type": "code",
   "execution_count": 6,
   "metadata": {},
   "outputs": [
    {
     "name": "stdout",
     "output_type": "stream",
     "text": [
      "Loading model\n"
     ]
    },
    {
     "name": "stderr",
     "output_type": "stream",
     "text": [
      "/home/praveenkanna/anaconda3/envs/gee/lib/python3.9/site-packages/sklearn/base.py:329: UserWarning: Trying to unpickle estimator DecisionTreeClassifier from version 0.23.1 when using version 0.23.2. This might lead to breaking code or invalid results. Use at your own risk.\n",
      "  warnings.warn(\n"
     ]
    },
    {
     "name": "stdout",
     "output_type": "stream",
     "text": [
      "Finished loading model\n"
     ]
    },
    {
     "name": "stderr",
     "output_type": "stream",
     "text": [
      "/home/praveenkanna/anaconda3/envs/gee/lib/python3.9/site-packages/sklearn/base.py:329: UserWarning: Trying to unpickle estimator RandomForestClassifier from version 0.23.1 when using version 0.23.2. This might lead to breaking code or invalid results. Use at your own risk.\n",
      "  warnings.warn(\n",
      "/home/praveenkanna/anaconda3/envs/gee/lib/python3.9/site-packages/sklearn/base.py:329: UserWarning: Trying to unpickle estimator Pipeline from version 0.23.1 when using version 0.23.2. This might lead to breaking code or invalid results. Use at your own risk.\n",
      "  warnings.warn(\n"
     ]
    }
   ],
   "source": [
    "#load the model\n",
    "sentinel = Sentinel()\n",
    "print(\"Loading model\")\n",
    "sentinel.loadModel(filename_Sentinel)\n",
    "print(\"Finished loading model\")"
   ]
  },
  {
   "cell_type": "code",
   "execution_count": 13,
   "metadata": {},
   "outputs": [
    {
     "name": "stdout",
     "output_type": "stream",
     "text": [
      "Total satellite images available across the date range: 4\n",
      "Collecting data\n",
      "Processing: B1\n",
      "Processing: B10\n",
      "Processing: B11\n",
      "Processing: B12\n",
      "Processing: B2\n",
      "Processing: B3\n",
      "Processing: B4\n",
      "Processing: B5\n",
      "Processing: B6\n",
      "Processing: B7\n",
      "Processing: B8\n",
      "Processing: B8A\n",
      "Processing: B9\n",
      "Processing: NDVI\n",
      "Preprocessed image:  (18, 33, 14)\n",
      "Total Pixel: 594\n",
      "Area of one pixel: 92.98084477837835 acre\n",
      "Total area:  55230.62179835674 m²\n",
      "Inferencing the model.\n",
      "Please Wait...\n",
      "Finished prediction.\n",
      "\n",
      "\n",
      "\n",
      "Plotting result\n",
      "Calculating yeild\n",
      "No crop : 10.798368432379004 acre\n",
      "Maize : 0.022975251983785114 acre\n",
      "Vacant : 2.825955994005569 acre\n"
     ]
    },
    {
     "data": {
      "image/png": "[encoded data removed]",
      "text/plain": [
       "<Figure size 432x288 with 2 Axes>"
      ]
     },
     "metadata": {
      "needs_background": "light"
     },
     "output_type": "display_data"
    }
   ],
   "source": [
    "\n",
    "#get the lowest cloud image in last 30 days\n",
    "rawImg = Sentinel.getImage(datePicker_Start,datePicker_End,roi)\n",
    "\n",
    "if rawImg:\n",
    "    print(\"Collecting data\")\n",
    "    Img = Sentinel.createMatrix(rawImg,roi)\n",
    "    print(\"Preprocessed image: \",Img.shape)\n",
    "    areaOfOnePixel = Sentinel.calculate_one_pixel_area(Img)\n",
    "\n",
    "    #Initialize prediction matrix\n",
    "    sentinel.initPrediction(Img.shape[0],Img.shape[1])\n",
    "    print(\"Inferencing the model.\\nPlease Wait...\")\n",
    "\n",
    "\n",
    "    #loop through each pixel\n",
    "    for row in range(Img.shape[0]):\n",
    "        for col in range(Img.shape[1]):\n",
    "            #inference the model\n",
    "            sentinel.updateMatrix(Img[row][col], row, col)\n",
    "    print(\"Finished prediction.\\n\\n\\n\\nPlotting result\")    \n",
    "    plotResult(sentinel.prediction)\n",
    "    \n",
    "    print(\"Calculating yeild\")\n",
    "    predictYeild(sentinel.prediction, crops, areaOfOnePixel)\n",
    "    \n",
    "    \n",
    "\n"
   ]
  },
  {
   "cell_type": "code",
   "execution_count": null,
   "metadata": {},
   "outputs": [],
   "source": []
  }
 ],
 "metadata": {
  "kernelspec": {
   "display_name": "gee",
   "language": "python",
   "name": "gee"
  },
  "language_info": {
   "codemirror_mode": {
    "name": "ipython",
    "version": 3
   },
   "file_extension": ".py",
   "mimetype": "text/x-python",
   "name": "python",
   "nbconvert_exporter": "python",
   "pygments_lexer": "ipython3",
   "version": "3.9.1"
  }
 },
 "nbformat": 4,
 "nbformat_minor": 4
}
