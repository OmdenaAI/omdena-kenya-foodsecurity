{
 "cells": [
  {
   "cell_type": "markdown",
   "metadata": {},
   "source": [
    "Setting up the AWS CLI is only required once. From the terminal run\n",
    "```aws configure```"
   ]
  },
  {
   "cell_type": "code",
   "execution_count": 1,
   "metadata": {},
   "outputs": [],
   "source": [
    "import boto3\n",
    "from pathlib import Path\n",
    "import pprint"
   ]
  },
  {
   "cell_type": "code",
   "execution_count": 2,
   "metadata": {},
   "outputs": [
    {
     "name": "stdout",
     "output_type": "stream",
     "text": [
      "Using profile: omdena\n"
     ]
    }
   ],
   "source": [
    "# If you have multiple aws credentials you can switch to the user profile 'omdena' like this:\n",
    "\n",
    "if ('omdena' in boto3.session.Session().available_profiles):\n",
    "    profile = 'omdena'\n",
    "    print(f\"Using profile: {profile}\")\n",
    "else:\n",
    "    profile = 'default'\n",
    "    print(f\"Using profile: {profile}\")\n",
    "#profile = 'default' # overwrite if you want to use other profiles\n",
    "boto3.setup_default_session(profile_name=profile)"
   ]
  },
  {
   "cell_type": "code",
   "execution_count": 3,
   "metadata": {},
   "outputs": [],
   "source": [
    "AWS_REGION = 'us-west-1'\n",
    "BUCKET_NAME = 'omdena-gpsdd-senegal' # bucket_names may not include capital letters or underscores"
   ]
  },
  {
   "cell_type": "code",
   "execution_count": 4,
   "metadata": {},
   "outputs": [
    {
     "data": {
      "text/plain": [
       "WindowsPath('G:/Omdena-food/GPSDD-Food-Security-Senegal/data')"
      ]
     },
     "execution_count": 4,
     "metadata": {},
     "output_type": "execute_result"
    }
   ],
   "source": [
    "data_folder = Path.cwd().parent.parent.joinpath('data')\n",
    "data_folder"
   ]
  },
  {
   "cell_type": "code",
   "execution_count": 5,
   "metadata": {},
   "outputs": [
    {
     "data": {
      "text/plain": [
       "WindowsPath('G:/Omdena-food/GPSDD-Food-Security-Senegal')"
      ]
     },
     "execution_count": 5,
     "metadata": {},
     "output_type": "execute_result"
    }
   ],
   "source": [
    "root_folder = Path.cwd().parent.parent\n",
    "root_folder"
   ]
  },
  {
   "cell_type": "code",
   "execution_count": 6,
   "metadata": {},
   "outputs": [],
   "source": [
    "s3_client = boto3.client('s3', region_name=AWS_REGION)"
   ]
  },
  {
   "cell_type": "code",
   "execution_count": 7,
   "metadata": {},
   "outputs": [
    {
     "name": "stdout",
     "output_type": "stream",
     "text": [
      "Could not create bucket\n"
     ]
    }
   ],
   "source": [
    "# try to create the bucket, this will fail if the bucket name is not globally unique\n",
    "try:\n",
    "    response = s3_client.create_bucket(\n",
    "        Bucket=BUCKET_NAME,\n",
    "        ACL='public-read',\n",
    "        CreateBucketConfiguration={'LocationConstraint': AWS_REGION})\n",
    "    bucket_url = response['Location']\n",
    "    print(f\"Bucket URL: {bucket_url}\") \n",
    "except:\n",
    "    print(\"Could not create bucket\")"
   ]
  },
  {
   "cell_type": "code",
   "execution_count": 8,
   "metadata": {
    "collapsed": true,
    "jupyter": {
     "outputs_hidden": true
    }
   },
   "outputs": [
    {
     "data": {
      "text/plain": [
       "[{'Name': 'apify-wri-pdfs',\n",
       "  'CreationDate': datetime.datetime(2020, 10, 31, 0, 15, 32, tzinfo=tzutc())},\n",
       " {'Name': 'elasticbeanstalk-us-east-2-867071081797',\n",
       "  'CreationDate': datetime.datetime(2020, 12, 18, 18, 8, 57, tzinfo=tzutc())},\n",
       " {'Name': 'engiecoco',\n",
       "  'CreationDate': datetime.datetime(2020, 8, 30, 3, 48, 41, tzinfo=tzutc())},\n",
       " {'Name': 'irap-example-data-lidar-data-croatia',\n",
       "  'CreationDate': datetime.datetime(2020, 11, 27, 11, 28, 6, tzinfo=tzutc())},\n",
       " {'Name': 'irap-example-data-video-and-road-feature-data-mexico',\n",
       "  'CreationDate': datetime.datetime(2020, 11, 27, 11, 25, 41, tzinfo=tzutc())},\n",
       " {'Name': 'omdena-engie-json-tests',\n",
       "  'CreationDate': datetime.datetime(2020, 7, 25, 19, 8, 52, tzinfo=tzutc())},\n",
       " {'Name': 'omdena-gpsdd-senegal',\n",
       "  'CreationDate': datetime.datetime(2020, 12, 6, 21, 55, tzinfo=tzutc())},\n",
       " {'Name': 'omdenazzapp',\n",
       "  'CreationDate': datetime.datetime(2020, 8, 16, 6, 21, 34, tzinfo=tzutc())},\n",
       " {'Name': 'panoramic-data',\n",
       "  'CreationDate': datetime.datetime(2020, 12, 8, 14, 7, 29, tzinfo=tzutc())},\n",
       " {'Name': 'sagemaker-studio-867071081797-5iu80gx91m',\n",
       "  'CreationDate': datetime.datetime(2020, 11, 11, 10, 18, 16, tzinfo=tzutc())},\n",
       " {'Name': 'sagemaker-studio-867071081797-ct3aphmivsr',\n",
       "  'CreationDate': datetime.datetime(2020, 11, 11, 10, 37, 37, tzinfo=tzutc())},\n",
       " {'Name': 'sagemaker-studio-867071081797-gbokp74lrj4',\n",
       "  'CreationDate': datetime.datetime(2020, 11, 30, 8, 34, 11, tzinfo=tzutc())},\n",
       " {'Name': 'sagemaker-us-east-1-867071081797',\n",
       "  'CreationDate': datetime.datetime(2020, 12, 5, 4, 17, 17, tzinfo=tzutc())},\n",
       " {'Name': 'spacenetv2',\n",
       "  'CreationDate': datetime.datetime(2020, 8, 1, 12, 35, 15, tzinfo=tzutc())},\n",
       " {'Name': 'testengie1',\n",
       "  'CreationDate': datetime.datetime(2020, 7, 21, 16, 43, 26, tzinfo=tzutc())},\n",
       " {'Name': 'tiff-sharing-labelbox',\n",
       "  'CreationDate': datetime.datetime(2020, 7, 29, 19, 15, 57, tzinfo=tzutc())},\n",
       " {'Name': 'wri-climate',\n",
       "  'CreationDate': datetime.datetime(2020, 10, 30, 13, 51, 40, tzinfo=tzutc())},\n",
       " {'Name': 'wri-economicwellbeing',\n",
       "  'CreationDate': datetime.datetime(2020, 11, 30, 7, 21, 10, tzinfo=tzutc())},\n",
       " {'Name': 'wri-latin-policies',\n",
       "  'CreationDate': datetime.datetime(2020, 10, 12, 11, 28, 41, tzinfo=tzutc())},\n",
       " {'Name': 'wri-latin-talent',\n",
       "  'CreationDate': datetime.datetime(2020, 11, 26, 17, 16, 7, tzinfo=tzutc())},\n",
       " {'Name': 'wri-latin-test',\n",
       "  'CreationDate': datetime.datetime(2020, 10, 3, 17, 23, 28, tzinfo=tzutc())},\n",
       " {'Name': 'wri-tfrecords',\n",
       "  'CreationDate': datetime.datetime(2020, 12, 9, 11, 56, 7, tzinfo=tzutc())}]"
      ]
     },
     "execution_count": 8,
     "metadata": {},
     "output_type": "execute_result"
    }
   ],
   "source": [
    "# List S3 buckets \n",
    "s3_client.list_buckets()['Buckets']"
   ]
  },
  {
   "cell_type": "code",
   "execution_count": 9,
   "metadata": {},
   "outputs": [],
   "source": [
    "# uploading objects to S3\n",
    "file_name = 'omdena_logo.png'  # change this to the path of any local file that you want to upload\n",
    "with open(file_name, \"rb\") as f:\n",
    "    key = file_name # here you can rename the file or attach prefixes for folder structures\n",
    "    s3_client.upload_fileobj(f, BUCKET_NAME, key)"
   ]
  },
  {
   "cell_type": "markdown",
   "metadata": {},
   "source": [
    "## Creating a S3 resource"
   ]
  },
  {
   "cell_type": "code",
   "execution_count": 10,
   "metadata": {},
   "outputs": [],
   "source": [
    "bucket = boto3.resource('s3').Bucket(name=BUCKET_NAME)"
   ]
  },
  {
   "cell_type": "code",
   "execution_count": 11,
   "metadata": {},
   "outputs": [],
   "source": [
    "#prefix= \"data/MYD11A2_Temperature_Senegal_regions/\"\n",
    "prefix = \"data/Landsat_8_Region/\""
   ]
  },
  {
   "cell_type": "code",
   "execution_count": 12,
   "metadata": {
    "collapsed": true,
    "jupyter": {
     "outputs_hidden": true
    },
    "tags": []
   },
   "outputs": [
    {
     "name": "stdout",
     "output_type": "stream",
     "text": [
      "['data/Landsat_8_Region/',\n",
      " 'data/Landsat_8_Region/dakar_region_2015.tif',\n",
      " 'data/Landsat_8_Region/dakar_region_2016.tif',\n",
      " 'data/Landsat_8_Region/dakar_region_2017.tif',\n",
      " 'data/Landsat_8_Region/dakar_region_2018.tif',\n",
      " 'data/Landsat_8_Region/diourbel_region_2015.tif',\n",
      " 'data/Landsat_8_Region/diourbel_region_2016.tif',\n",
      " 'data/Landsat_8_Region/diourbel_region_2017.tif',\n",
      " 'data/Landsat_8_Region/diourbel_region_2018.tif',\n",
      " 'data/Landsat_8_Region/fatick_region_2015.tif',\n",
      " 'data/Landsat_8_Region/fatick_region_2016.tif',\n",
      " 'data/Landsat_8_Region/fatick_region_2017.tif',\n",
      " 'data/Landsat_8_Region/fatick_region_2018.tif',\n",
      " 'data/Landsat_8_Region/kaffrine_region_2015.tif',\n",
      " 'data/Landsat_8_Region/kaffrine_region_2016.tif',\n",
      " 'data/Landsat_8_Region/kaffrine_region_2017.tif',\n",
      " 'data/Landsat_8_Region/kaffrine_region_2018.tif',\n",
      " 'data/Landsat_8_Region/kaolack_region_2015.tif',\n",
      " 'data/Landsat_8_Region/kaolack_region_2016.tif',\n",
      " 'data/Landsat_8_Region/kaolack_region_2017.tif',\n",
      " 'data/Landsat_8_Region/kaolack_region_2018.tif',\n",
      " 'data/Landsat_8_Region/kedougou_region_2015.tif',\n",
      " 'data/Landsat_8_Region/kedougou_region_2016.tif',\n",
      " 'data/Landsat_8_Region/kedougou_region_2017.tif',\n",
      " 'data/Landsat_8_Region/kedougou_region_2018.tif',\n",
      " 'data/Landsat_8_Region/kolda_region_2015.tif',\n",
      " 'data/Landsat_8_Region/kolda_region_2016.tif',\n",
      " 'data/Landsat_8_Region/kolda_region_2017.tif',\n",
      " 'data/Landsat_8_Region/kolda_region_2018.tif',\n",
      " 'data/Landsat_8_Region/louga_region_2015.tif',\n",
      " 'data/Landsat_8_Region/louga_region_2016.tif',\n",
      " 'data/Landsat_8_Region/louga_region_2017.tif',\n",
      " 'data/Landsat_8_Region/louga_region_2018.tif',\n",
      " 'data/Landsat_8_Region/matam_region_2015.tif',\n",
      " 'data/Landsat_8_Region/matam_region_2016.tif',\n",
      " 'data/Landsat_8_Region/matam_region_2017.tif',\n",
      " 'data/Landsat_8_Region/matam_region_2018.tif',\n",
      " 'data/Landsat_8_Region/saint-louis_region_2015.tif',\n",
      " 'data/Landsat_8_Region/saint-louis_region_2016.tif',\n",
      " 'data/Landsat_8_Region/saint-louis_region_2017.tif',\n",
      " 'data/Landsat_8_Region/saint-louis_region_2018.tif',\n",
      " 'data/Landsat_8_Region/sedhiou_region_2015.tif',\n",
      " 'data/Landsat_8_Region/sedhiou_region_2016.tif',\n",
      " 'data/Landsat_8_Region/sedhiou_region_2017.tif',\n",
      " 'data/Landsat_8_Region/sedhiou_region_2018.tif',\n",
      " 'data/Landsat_8_Region/tambacounda_region_2015.tif',\n",
      " 'data/Landsat_8_Region/tambacounda_region_2016.tif',\n",
      " 'data/Landsat_8_Region/tambacounda_region_2017.tif',\n",
      " 'data/Landsat_8_Region/tambacounda_region_2018.tif',\n",
      " 'data/Landsat_8_Region/thies_region_2015.tif',\n",
      " 'data/Landsat_8_Region/thies_region_2016.tif',\n",
      " 'data/Landsat_8_Region/thies_region_2017.tif',\n",
      " 'data/Landsat_8_Region/thies_region_2018.tif',\n",
      " 'data/Landsat_8_Region/ziguinchor_region_2015.tif',\n",
      " 'data/Landsat_8_Region/ziguinchor_region_2016.tif',\n",
      " 'data/Landsat_8_Region/ziguinchor_region_2017.tif',\n",
      " 'data/Landsat_8_Region/ziguinchor_region_2018.tif']\n"
     ]
    }
   ],
   "source": [
    "keys = []\n",
    "folders = []\n",
    "files = []\n",
    "for object_summary in bucket.objects.filter(Prefix=prefix):\n",
    "    object_key = object_summary.key\n",
    "    keys.append(object_key)\n",
    "    if key.endswith(\"/\"):\n",
    "        folders.append(object_key)\n",
    "    else:\n",
    "        files.append(object_key)\n",
    "pprint.pprint(files)"
   ]
  },
  {
   "cell_type": "code",
   "execution_count": null,
   "metadata": {
    "tags": [
     "outputPrepend"
    ]
   },
   "outputs": [],
   "source": []
  },
  {
   "cell_type": "code",
   "execution_count": 13,
   "metadata": {},
   "outputs": [],
   "source": [
    "s3_resource = boto3.resource('s3')"
   ]
  },
  {
   "cell_type": "code",
   "execution_count": 14,
   "metadata": {},
   "outputs": [],
   "source": [
    "def download_s3_folder(bucket_name, s3_folder, local_dir=None):\n",
    "    \"\"\"\n",
    "    Download the contents of a folder directory\n",
    "    Args:\n",
    "        bucket_name: the name of the s3 bucket\n",
    "        s3_folder: the folder path in the s3 bucket\n",
    "        local_dir: a relative or absolute directory path in the local file system\n",
    "    \"\"\"\n",
    "    s3_resource = boto3.resource('s3')\n",
    "    bucket = s3_resource.Bucket(bucket_name)\n",
    "\n",
    "    # extract folder structure \n",
    "    folders = []\n",
    "    for obj in bucket.objects.filter(Prefix=s3_folder):\n",
    "        obj_split = obj.key.split('/')\n",
    "        if obj.key.endswith('/'): # do we still need this?\n",
    "            #print(obj.keys) \n",
    "            folders.append(obj.key)\n",
    "        elif (len(obj_split) > 1):\n",
    "            subfolder = \"/\".join(obj_split[:-1])\n",
    "            #print(subfolder)\n",
    "            folders.append(subfolder)\n",
    "        else:\n",
    "            pass\n",
    "\n",
    "    # create local folder structure if it doesn't exist\n",
    "    folder_set = {*folders}\n",
    "    #print(set(folder_set))\n",
    "    for folder in folder_set:\n",
    "        new_path= local_dir.joinpath(folder)\n",
    "        print(new_path)\n",
    "        new_path.mkdir(mode=0o777, parents=True, exist_ok=True)\n",
    "        \n",
    "    \n",
    "    # download the files into the corresponding directories\n",
    "    for obj in bucket.objects.filter(Prefix=s3_folder):\n",
    "        if obj.key.endswith('/'): # important, because code will break if we try to write to a folder instead of a file\n",
    "            pass\n",
    "        else:\n",
    "            obj_split = obj.key.split('/')\n",
    "            if (len(obj_split) > 1):\n",
    "                #print(obj_split)\n",
    "                file_name = obj_split[-1]\n",
    "                #print(f\"Filename {file_name}\")\n",
    "                sub_folder = \"/\".join(obj_split[:-1])\n",
    "                folder = local_dir.joinpath(sub_folder)\n",
    "                file_path = folder.joinpath(file_name)\n",
    "                #print(f\"File path {file_path}\")\n",
    "                #print(obj)\n",
    "                if file_path.is_file(): #TODO: this does not seem to work yet!\n",
    "                    print(f\"File {file_path} already exists and will not be downloaded.\")\n",
    "                else:\n",
    "                    print(f\"Downloading file to {file_path}\")\n",
    "                    #bucket.download_file(obj.key, obj.key)\n",
    "                    bucket.download_file(obj.key, str(file_path))\n",
    "    return"
   ]
  },
  {
   "cell_type": "code",
   "execution_count": 16,
   "metadata": {
    "tags": []
   },
   "outputs": [
    {
     "name": "stdout",
     "output_type": "stream",
     "text": [
      "G:\\Omdena-food\\GPSDD-Food-Security-Senegal\\data\\data\\Landsat_8_Region\n",
      "G:\\Omdena-food\\GPSDD-Food-Security-Senegal\\data\\data\\Landsat_8_Region\n",
      "File G:\\Omdena-food\\GPSDD-Food-Security-Senegal\\data\\data\\Landsat_8_Region\\dakar_region_2015.tif already exists and will not be downloaded.\n",
      "File G:\\Omdena-food\\GPSDD-Food-Security-Senegal\\data\\data\\Landsat_8_Region\\dakar_region_2016.tif already exists and will not be downloaded.\n",
      "File G:\\Omdena-food\\GPSDD-Food-Security-Senegal\\data\\data\\Landsat_8_Region\\dakar_region_2017.tif already exists and will not be downloaded.\n",
      "File G:\\Omdena-food\\GPSDD-Food-Security-Senegal\\data\\data\\Landsat_8_Region\\dakar_region_2018.tif already exists and will not be downloaded.\n",
      "File G:\\Omdena-food\\GPSDD-Food-Security-Senegal\\data\\data\\Landsat_8_Region\\diourbel_region_2015.tif already exists and will not be downloaded.\n",
      "File G:\\Omdena-food\\GPSDD-Food-Security-Senegal\\data\\data\\Landsat_8_Region\\diourbel_region_2016.tif already exists and will not be downloaded.\n",
      "File G:\\Omdena-food\\GPSDD-Food-Security-Senegal\\data\\data\\Landsat_8_Region\\diourbel_region_2017.tif already exists and will not be downloaded.\n",
      "File G:\\Omdena-food\\GPSDD-Food-Security-Senegal\\data\\data\\Landsat_8_Region\\diourbel_region_2018.tif already exists and will not be downloaded.\n",
      "File G:\\Omdena-food\\GPSDD-Food-Security-Senegal\\data\\data\\Landsat_8_Region\\fatick_region_2015.tif already exists and will not be downloaded.\n",
      "File G:\\Omdena-food\\GPSDD-Food-Security-Senegal\\data\\data\\Landsat_8_Region\\fatick_region_2016.tif already exists and will not be downloaded.\n",
      "File G:\\Omdena-food\\GPSDD-Food-Security-Senegal\\data\\data\\Landsat_8_Region\\fatick_region_2017.tif already exists and will not be downloaded.\n",
      "File G:\\Omdena-food\\GPSDD-Food-Security-Senegal\\data\\data\\Landsat_8_Region\\fatick_region_2018.tif already exists and will not be downloaded.\n",
      "File G:\\Omdena-food\\GPSDD-Food-Security-Senegal\\data\\data\\Landsat_8_Region\\kaffrine_region_2015.tif already exists and will not be downloaded.\n",
      "File G:\\Omdena-food\\GPSDD-Food-Security-Senegal\\data\\data\\Landsat_8_Region\\kaffrine_region_2016.tif already exists and will not be downloaded.\n",
      "File G:\\Omdena-food\\GPSDD-Food-Security-Senegal\\data\\data\\Landsat_8_Region\\kaffrine_region_2017.tif already exists and will not be downloaded.\n",
      "File G:\\Omdena-food\\GPSDD-Food-Security-Senegal\\data\\data\\Landsat_8_Region\\kaffrine_region_2018.tif already exists and will not be downloaded.\n",
      "File G:\\Omdena-food\\GPSDD-Food-Security-Senegal\\data\\data\\Landsat_8_Region\\kaolack_region_2015.tif already exists and will not be downloaded.\n",
      "File G:\\Omdena-food\\GPSDD-Food-Security-Senegal\\data\\data\\Landsat_8_Region\\kaolack_region_2016.tif already exists and will not be downloaded.\n",
      "File G:\\Omdena-food\\GPSDD-Food-Security-Senegal\\data\\data\\Landsat_8_Region\\kaolack_region_2017.tif already exists and will not be downloaded.\n",
      "File G:\\Omdena-food\\GPSDD-Food-Security-Senegal\\data\\data\\Landsat_8_Region\\kaolack_region_2018.tif already exists and will not be downloaded.\n",
      "File G:\\Omdena-food\\GPSDD-Food-Security-Senegal\\data\\data\\Landsat_8_Region\\kedougou_region_2015.tif already exists and will not be downloaded.\n",
      "File G:\\Omdena-food\\GPSDD-Food-Security-Senegal\\data\\data\\Landsat_8_Region\\kedougou_region_2016.tif already exists and will not be downloaded.\n",
      "File G:\\Omdena-food\\GPSDD-Food-Security-Senegal\\data\\data\\Landsat_8_Region\\kedougou_region_2017.tif already exists and will not be downloaded.\n",
      "File G:\\Omdena-food\\GPSDD-Food-Security-Senegal\\data\\data\\Landsat_8_Region\\kedougou_region_2018.tif already exists and will not be downloaded.\n",
      "File G:\\Omdena-food\\GPSDD-Food-Security-Senegal\\data\\data\\Landsat_8_Region\\kolda_region_2015.tif already exists and will not be downloaded.\n",
      "File G:\\Omdena-food\\GPSDD-Food-Security-Senegal\\data\\data\\Landsat_8_Region\\kolda_region_2016.tif already exists and will not be downloaded.\n",
      "File G:\\Omdena-food\\GPSDD-Food-Security-Senegal\\data\\data\\Landsat_8_Region\\kolda_region_2017.tif already exists and will not be downloaded.\n",
      "File G:\\Omdena-food\\GPSDD-Food-Security-Senegal\\data\\data\\Landsat_8_Region\\kolda_region_2018.tif already exists and will not be downloaded.\n",
      "File G:\\Omdena-food\\GPSDD-Food-Security-Senegal\\data\\data\\Landsat_8_Region\\louga_region_2015.tif already exists and will not be downloaded.\n",
      "File G:\\Omdena-food\\GPSDD-Food-Security-Senegal\\data\\data\\Landsat_8_Region\\louga_region_2016.tif already exists and will not be downloaded.\n",
      "File G:\\Omdena-food\\GPSDD-Food-Security-Senegal\\data\\data\\Landsat_8_Region\\louga_region_2017.tif already exists and will not be downloaded.\n",
      "File G:\\Omdena-food\\GPSDD-Food-Security-Senegal\\data\\data\\Landsat_8_Region\\louga_region_2018.tif already exists and will not be downloaded.\n",
      "File G:\\Omdena-food\\GPSDD-Food-Security-Senegal\\data\\data\\Landsat_8_Region\\matam_region_2015.tif already exists and will not be downloaded.\n",
      "File G:\\Omdena-food\\GPSDD-Food-Security-Senegal\\data\\data\\Landsat_8_Region\\matam_region_2016.tif already exists and will not be downloaded.\n",
      "File G:\\Omdena-food\\GPSDD-Food-Security-Senegal\\data\\data\\Landsat_8_Region\\matam_region_2017.tif already exists and will not be downloaded.\n",
      "File G:\\Omdena-food\\GPSDD-Food-Security-Senegal\\data\\data\\Landsat_8_Region\\matam_region_2018.tif already exists and will not be downloaded.\n",
      "File G:\\Omdena-food\\GPSDD-Food-Security-Senegal\\data\\data\\Landsat_8_Region\\saint-louis_region_2015.tif already exists and will not be downloaded.\n",
      "File G:\\Omdena-food\\GPSDD-Food-Security-Senegal\\data\\data\\Landsat_8_Region\\saint-louis_region_2016.tif already exists and will not be downloaded.\n",
      "File G:\\Omdena-food\\GPSDD-Food-Security-Senegal\\data\\data\\Landsat_8_Region\\saint-louis_region_2017.tif already exists and will not be downloaded.\n",
      "File G:\\Omdena-food\\GPSDD-Food-Security-Senegal\\data\\data\\Landsat_8_Region\\saint-louis_region_2018.tif already exists and will not be downloaded.\n",
      "File G:\\Omdena-food\\GPSDD-Food-Security-Senegal\\data\\data\\Landsat_8_Region\\sedhiou_region_2015.tif already exists and will not be downloaded.\n",
      "File G:\\Omdena-food\\GPSDD-Food-Security-Senegal\\data\\data\\Landsat_8_Region\\sedhiou_region_2016.tif already exists and will not be downloaded.\n",
      "File G:\\Omdena-food\\GPSDD-Food-Security-Senegal\\data\\data\\Landsat_8_Region\\sedhiou_region_2017.tif already exists and will not be downloaded.\n",
      "File G:\\Omdena-food\\GPSDD-Food-Security-Senegal\\data\\data\\Landsat_8_Region\\sedhiou_region_2018.tif already exists and will not be downloaded.\n",
      "File G:\\Omdena-food\\GPSDD-Food-Security-Senegal\\data\\data\\Landsat_8_Region\\tambacounda_region_2015.tif already exists and will not be downloaded.\n",
      "File G:\\Omdena-food\\GPSDD-Food-Security-Senegal\\data\\data\\Landsat_8_Region\\tambacounda_region_2016.tif already exists and will not be downloaded.\n",
      "File G:\\Omdena-food\\GPSDD-Food-Security-Senegal\\data\\data\\Landsat_8_Region\\tambacounda_region_2017.tif already exists and will not be downloaded.\n",
      "File G:\\Omdena-food\\GPSDD-Food-Security-Senegal\\data\\data\\Landsat_8_Region\\tambacounda_region_2018.tif already exists and will not be downloaded.\n",
      "File G:\\Omdena-food\\GPSDD-Food-Security-Senegal\\data\\data\\Landsat_8_Region\\thies_region_2015.tif already exists and will not be downloaded.\n",
      "File G:\\Omdena-food\\GPSDD-Food-Security-Senegal\\data\\data\\Landsat_8_Region\\thies_region_2016.tif already exists and will not be downloaded.\n",
      "File G:\\Omdena-food\\GPSDD-Food-Security-Senegal\\data\\data\\Landsat_8_Region\\thies_region_2017.tif already exists and will not be downloaded.\n",
      "File G:\\Omdena-food\\GPSDD-Food-Security-Senegal\\data\\data\\Landsat_8_Region\\thies_region_2018.tif already exists and will not be downloaded.\n",
      "File G:\\Omdena-food\\GPSDD-Food-Security-Senegal\\data\\data\\Landsat_8_Region\\ziguinchor_region_2015.tif already exists and will not be downloaded.\n",
      "File G:\\Omdena-food\\GPSDD-Food-Security-Senegal\\data\\data\\Landsat_8_Region\\ziguinchor_region_2016.tif already exists and will not be downloaded.\n",
      "File G:\\Omdena-food\\GPSDD-Food-Security-Senegal\\data\\data\\Landsat_8_Region\\ziguinchor_region_2017.tif already exists and will not be downloaded.\n",
      "File G:\\Omdena-food\\GPSDD-Food-Security-Senegal\\data\\data\\Landsat_8_Region\\ziguinchor_region_2018.tif already exists and will not be downloaded.\n"
     ]
    }
   ],
   "source": [
    "#download_s3_folder(BUCKET_NAME, prefix, root_folder)\n",
    "download_s3_folder(BUCKET_NAME, prefix, data_folder)"
   ]
  },
  {
   "cell_type": "code",
   "execution_count": 9,
   "metadata": {
    "tags": [
     "outputPrepend"
    ]
   },
   "outputs": [
    {
     "name": "stdout",
     "output_type": "stream",
     "text": [
      "_senegal-tambacounda_2015-01-01_2016-01-01.tif')\n",
      "s3.ObjectSummary(bucket_name='omdena-gpsdd-senegal', key='data/MYD11A2_Temperature_Senegal_regions/senegal_Temperature_senegal-thies_2015-01-01_2016-01-01.tif')\n",
      "s3.ObjectSummary(bucket_name='omdena-gpsdd-senegal', key='data/MYD11A2_Temperature_Senegal_regions/senegal_Temperature_senegal-ziguinchor_2015-01-01_2016-01-01.tif')\n",
      "s3.ObjectSummary(bucket_name='omdena-gpsdd-senegal', key='data/MYD11A2_Temperature_SouthSudan_counties/')\n",
      "s3.ObjectSummary(bucket_name='omdena-gpsdd-senegal', key='data/MYD11A2_Temperature_SouthSudan_counties/SouthSudan_Temperature_abiemnhom_2013-01-01_2014-01-01.tif')\n",
      "s3.ObjectSummary(bucket_name='omdena-gpsdd-senegal', key='data/MYD11A2_Temperature_SouthSudan_counties/SouthSudan_Temperature_abyei_2013-01-01_2014-01-01.tif')\n",
      "s3.ObjectSummary(bucket_name='omdena-gpsdd-senegal', key='data/MYD11A2_Temperature_SouthSudan_counties/SouthSudan_Temperature_akobo_2013-01-01_2014-01-01.tif')\n",
      "s3.ObjectSummary(bucket_name='omdena-gpsdd-senegal', key='data/MYD11A2_Temperature_SouthSudan_counties/SouthSudan_Temperature_aweil centre_2013-01-01_2014-01-01.tif')\n",
      "s3.ObjectSummary(bucket_name='omdena-gpsdd-senegal', key='data/MYD11A2_Temperature_SouthSudan_counties/SouthSudan_Temperature_aweil east_2013-01-01_2014-01-01.tif')\n",
      "s3.ObjectSummary(bucket_name='omdena-gpsdd-senegal', key='data/MYD11A2_Temperature_SouthSudan_counties/SouthSudan_Temperature_aweil north_2013-01-01_2014-01-01.tif')\n",
      "s3.ObjectSummary(bucket_name='omdena-gpsdd-senegal', key='data/MYD11A2_Temperature_SouthSudan_counties/SouthSudan_Temperature_aweil south_2013-01-01_2014-01-01.tif')\n",
      "s3.ObjectSummary(bucket_name='omdena-gpsdd-senegal', key='data/MYD11A2_Temperature_SouthSudan_counties/SouthSudan_Temperature_aweil west_2013-01-01_2014-01-01.tif')\n",
      "s3.ObjectSummary(bucket_name='omdena-gpsdd-senegal', key='data/MYD11A2_Temperature_SouthSudan_counties/SouthSudan_Temperature_awerial_2013-01-01_2014-01-01.tif')\n",
      "s3.ObjectSummary(bucket_name='omdena-gpsdd-senegal', key='data/MYD11A2_Temperature_SouthSudan_counties/SouthSudan_Temperature_ayod_2013-01-01_2014-01-01.tif')\n",
      "s3.ObjectSummary(bucket_name='omdena-gpsdd-senegal', key='data/MYD11A2_Temperature_SouthSudan_counties/SouthSudan_Temperature_baliet_2013-01-01_2014-01-01.tif')\n",
      "s3.ObjectSummary(bucket_name='omdena-gpsdd-senegal', key='data/MYD11A2_Temperature_SouthSudan_counties/SouthSudan_Temperature_bor south_2013-01-01_2014-01-01.tif')\n",
      "s3.ObjectSummary(bucket_name='omdena-gpsdd-senegal', key='data/MYD11A2_Temperature_SouthSudan_counties/SouthSudan_Temperature_budi_2013-01-01_2014-01-01.tif')\n",
      "s3.ObjectSummary(bucket_name='omdena-gpsdd-senegal', key='data/MYD11A2_Temperature_SouthSudan_counties/SouthSudan_Temperature_cueibet_2013-01-01_2014-01-01.tif')\n",
      "s3.ObjectSummary(bucket_name='omdena-gpsdd-senegal', key='data/MYD11A2_Temperature_SouthSudan_counties/SouthSudan_Temperature_duk_2013-01-01_2014-01-01.tif')\n",
      "s3.ObjectSummary(bucket_name='omdena-gpsdd-senegal', key='data/MYD11A2_Temperature_SouthSudan_counties/SouthSudan_Temperature_ezo_2013-01-01_2014-01-01.tif')\n",
      "s3.ObjectSummary(bucket_name='omdena-gpsdd-senegal', key='data/MYD11A2_Temperature_SouthSudan_counties/SouthSudan_Temperature_fangak_2013-01-01_2014-01-01.tif')\n",
      "s3.ObjectSummary(bucket_name='omdena-gpsdd-senegal', key='data/MYD11A2_Temperature_SouthSudan_counties/SouthSudan_Temperature_fashoda_2013-01-01_2014-01-01.tif')\n",
      "s3.ObjectSummary(bucket_name='omdena-gpsdd-senegal', key='data/MYD11A2_Temperature_SouthSudan_counties/SouthSudan_Temperature_gogrial east_2013-01-01_2014-01-01.tif')\n",
      "s3.ObjectSummary(bucket_name='omdena-gpsdd-senegal', key='data/MYD11A2_Temperature_SouthSudan_counties/SouthSudan_Temperature_gogrial west_2013-01-01_2014-01-01.tif')\n",
      "s3.ObjectSummary(bucket_name='omdena-gpsdd-senegal', key='data/MYD11A2_Temperature_SouthSudan_counties/SouthSudan_Temperature_guit_2013-01-01_2014-01-01.tif')\n",
      "s3.ObjectSummary(bucket_name='omdena-gpsdd-senegal', key='data/MYD11A2_Temperature_SouthSudan_counties/SouthSudan_Temperature_ibba_2013-01-01_2014-01-01.tif')\n",
      "s3.ObjectSummary(bucket_name='omdena-gpsdd-senegal', key='data/MYD11A2_Temperature_SouthSudan_counties/SouthSudan_Temperature_ikotos_2013-01-01_2014-01-01.tif')\n",
      "s3.ObjectSummary(bucket_name='omdena-gpsdd-senegal', key='data/MYD11A2_Temperature_SouthSudan_counties/SouthSudan_Temperature_juba_2013-01-01_2014-01-01.tif')\n",
      "s3.ObjectSummary(bucket_name='omdena-gpsdd-senegal', key='data/MYD11A2_Temperature_SouthSudan_counties/SouthSudan_Temperature_jur river_2013-01-01_2014-01-01.tif')\n",
      "s3.ObjectSummary(bucket_name='omdena-gpsdd-senegal', key='data/MYD11A2_Temperature_SouthSudan_counties/SouthSudan_Temperature_kajo-keji_2013-01-01_2014-01-01.tif')\n",
      "s3.ObjectSummary(bucket_name='omdena-gpsdd-senegal', key='data/MYD11A2_Temperature_SouthSudan_counties/SouthSudan_Temperature_kapoeta east_2013-01-01_2014-01-01.tif')\n",
      "s3.ObjectSummary(bucket_name='omdena-gpsdd-senegal', key='data/MYD11A2_Temperature_SouthSudan_counties/SouthSudan_Temperature_kapoeta north_2013-01-01_2014-01-01.tif')\n",
      "s3.ObjectSummary(bucket_name='omdena-gpsdd-senegal', key='data/MYD11A2_Temperature_SouthSudan_counties/SouthSudan_Temperature_kapoeta south_2013-01-01_2014-01-01.tif')\n",
      "s3.ObjectSummary(bucket_name='omdena-gpsdd-senegal', key='data/MYD11A2_Temperature_SouthSudan_counties/SouthSudan_Temperature_khorflus_2013-01-01_2014-01-01.tif')\n",
      "s3.ObjectSummary(bucket_name='omdena-gpsdd-senegal', key='data/MYD11A2_Temperature_SouthSudan_counties/SouthSudan_Temperature_koch_2013-01-01_2014-01-01.tif')\n",
      "s3.ObjectSummary(bucket_name='omdena-gpsdd-senegal', key='data/MYD11A2_Temperature_SouthSudan_counties/SouthSudan_Temperature_lainya_2013-01-01_2014-01-01.tif')\n",
      "s3.ObjectSummary(bucket_name='omdena-gpsdd-senegal', key='data/MYD11A2_Temperature_SouthSudan_counties/SouthSudan_Temperature_leer_2013-01-01_2014-01-01.tif')\n",
      "s3.ObjectSummary(bucket_name='omdena-gpsdd-senegal', key='data/MYD11A2_Temperature_SouthSudan_counties/SouthSudan_Temperature_longochuk_2013-01-01_2014-01-01.tif')\n",
      "s3.ObjectSummary(bucket_name='omdena-gpsdd-senegal', key='data/MYD11A2_Temperature_SouthSudan_counties/SouthSudan_Temperature_lopa_2013-01-01_2014-01-01.tif')\n",
      "s3.ObjectSummary(bucket_name='omdena-gpsdd-senegal', key='data/MYD11A2_Temperature_SouthSudan_counties/SouthSudan_Temperature_luakpinynasir_2013-01-01_2014-01-01.tif')\n",
      "s3.ObjectSummary(bucket_name='omdena-gpsdd-senegal', key='data/MYD11A2_Temperature_SouthSudan_counties/SouthSudan_Temperature_maban_2013-01-01_2014-01-01.tif')\n",
      "s3.ObjectSummary(bucket_name='omdena-gpsdd-senegal', key='data/MYD11A2_Temperature_SouthSudan_counties/SouthSudan_Temperature_magwi_2013-01-01_2014-01-01.tif')\n",
      "s3.ObjectSummary(bucket_name='omdena-gpsdd-senegal', key='data/MYD11A2_Temperature_SouthSudan_counties/SouthSudan_Temperature_maiwut_2013-01-01_2014-01-01.tif')\n",
      "s3.ObjectSummary(bucket_name='omdena-gpsdd-senegal', key='data/MYD11A2_Temperature_SouthSudan_counties/SouthSudan_Temperature_malakal_2013-01-01_2014-01-01.tif')\n",
      "s3.ObjectSummary(bucket_name='omdena-gpsdd-senegal', key='data/MYD11A2_Temperature_SouthSudan_counties/SouthSudan_Temperature_manyo_2013-01-01_2014-01-01.tif')\n",
      "s3.ObjectSummary(bucket_name='omdena-gpsdd-senegal', key='data/MYD11A2_Temperature_SouthSudan_counties/SouthSudan_Temperature_maridi_2013-01-01_2014-01-01.tif')\n",
      "s3.ObjectSummary(bucket_name='omdena-gpsdd-senegal', key='data/MYD11A2_Temperature_SouthSudan_counties/SouthSudan_Temperature_mayendit_2013-01-01_2014-01-01.tif')\n",
      "s3.ObjectSummary(bucket_name='omdena-gpsdd-senegal', key='data/MYD11A2_Temperature_SouthSudan_counties/SouthSudan_Temperature_mayom_2013-01-01_2014-01-01.tif')\n",
      "s3.ObjectSummary(bucket_name='omdena-gpsdd-senegal', key='data/MYD11A2_Temperature_SouthSudan_counties/SouthSudan_Temperature_melut_2013-01-01_2014-01-01.tif')\n",
      "s3.ObjectSummary(bucket_name='omdena-gpsdd-senegal', key='data/MYD11A2_Temperature_SouthSudan_counties/SouthSudan_Temperature_morobo_2013-01-01_2014-01-01.tif')\n",
      "s3.ObjectSummary(bucket_name='omdena-gpsdd-senegal', key='data/MYD11A2_Temperature_SouthSudan_counties/SouthSudan_Temperature_mundri east_2013-01-01_2014-01-01.tif')\n",
      "s3.ObjectSummary(bucket_name='omdena-gpsdd-senegal', key='data/MYD11A2_Temperature_SouthSudan_counties/SouthSudan_Temperature_mundri west_2013-01-01_2014-01-01.tif')\n",
      "s3.ObjectSummary(bucket_name='omdena-gpsdd-senegal', key='data/MYD11A2_Temperature_SouthSudan_counties/SouthSudan_Temperature_mvolo_2013-01-01_2014-01-01.tif')\n",
      "s3.ObjectSummary(bucket_name='omdena-gpsdd-senegal', key='data/MYD11A2_Temperature_SouthSudan_counties/SouthSudan_Temperature_nagero_2013-01-01_2014-01-01.tif')\n",
      "s3.ObjectSummary(bucket_name='omdena-gpsdd-senegal', key='data/MYD11A2_Temperature_SouthSudan_counties/SouthSudan_Temperature_nyirol_2013-01-01_2014-01-01.tif')\n",
      "s3.ObjectSummary(bucket_name='omdena-gpsdd-senegal', key='data/MYD11A2_Temperature_SouthSudan_counties/SouthSudan_Temperature_nzara_2013-01-01_2014-01-01.tif')\n",
      "s3.ObjectSummary(bucket_name='omdena-gpsdd-senegal', key='data/MYD11A2_Temperature_SouthSudan_counties/SouthSudan_Temperature_panyijar_2013-01-01_2014-01-01.tif')\n",
      "s3.ObjectSummary(bucket_name='omdena-gpsdd-senegal', key='data/MYD11A2_Temperature_SouthSudan_counties/SouthSudan_Temperature_panyikang_2013-01-01_2014-01-01.tif')\n",
      "s3.ObjectSummary(bucket_name='omdena-gpsdd-senegal', key='data/MYD11A2_Temperature_SouthSudan_counties/SouthSudan_Temperature_pariang_2013-01-01_2014-01-01.tif')\n",
      "s3.ObjectSummary(bucket_name='omdena-gpsdd-senegal', key='data/MYD11A2_Temperature_SouthSudan_counties/SouthSudan_Temperature_pibor_2013-01-01_2014-01-01.tif')\n",
      "s3.ObjectSummary(bucket_name='omdena-gpsdd-senegal', key='data/MYD11A2_Temperature_SouthSudan_counties/SouthSudan_Temperature_pochalla_2013-01-01_2014-01-01.tif')\n",
      "s3.ObjectSummary(bucket_name='omdena-gpsdd-senegal', key='data/MYD11A2_Temperature_SouthSudan_counties/SouthSudan_Temperature_raga_2013-01-01_2014-01-01.tif')\n",
      "s3.ObjectSummary(bucket_name='omdena-gpsdd-senegal', key='data/MYD11A2_Temperature_SouthSudan_counties/SouthSudan_Temperature_renk_2013-01-01_2014-01-01.tif')\n",
      "s3.ObjectSummary(bucket_name='omdena-gpsdd-senegal', key='data/MYD11A2_Temperature_SouthSudan_counties/SouthSudan_Temperature_rubkona_2013-01-01_2014-01-01.tif')\n",
      "s3.ObjectSummary(bucket_name='omdena-gpsdd-senegal', key='data/MYD11A2_Temperature_SouthSudan_counties/SouthSudan_Temperature_rumbek centre_2013-01-01_2014-01-01.tif')\n",
      "s3.ObjectSummary(bucket_name='omdena-gpsdd-senegal', key='data/MYD11A2_Temperature_SouthSudan_counties/SouthSudan_Temperature_rumbek east_2013-01-01_2014-01-01.tif')\n",
      "s3.ObjectSummary(bucket_name='omdena-gpsdd-senegal', key='data/MYD11A2_Temperature_SouthSudan_counties/SouthSudan_Temperature_rumbek north_2013-01-01_2014-01-01.tif')\n",
      "s3.ObjectSummary(bucket_name='omdena-gpsdd-senegal', key='data/MYD11A2_Temperature_SouthSudan_counties/SouthSudan_Temperature_tambura_2013-01-01_2014-01-01.tif')\n",
      "s3.ObjectSummary(bucket_name='omdena-gpsdd-senegal', key='data/MYD11A2_Temperature_SouthSudan_counties/SouthSudan_Temperature_terekeka_2013-01-01_2014-01-01.tif')\n",
      "s3.ObjectSummary(bucket_name='omdena-gpsdd-senegal', key='data/MYD11A2_Temperature_SouthSudan_counties/SouthSudan_Temperature_tonj east_2013-01-01_2014-01-01.tif')\n",
      "s3.ObjectSummary(bucket_name='omdena-gpsdd-senegal', key='data/MYD11A2_Temperature_SouthSudan_counties/SouthSudan_Temperature_tonj north_2013-01-01_2014-01-01.tif')\n",
      "s3.ObjectSummary(bucket_name='omdena-gpsdd-senegal', key='data/MYD11A2_Temperature_SouthSudan_counties/SouthSudan_Temperature_tonj south_2013-01-01_2014-01-01.tif')\n",
      "s3.ObjectSummary(bucket_name='omdena-gpsdd-senegal', key='data/MYD11A2_Temperature_SouthSudan_counties/SouthSudan_Temperature_torit_2013-01-01_2014-01-01.tif')\n",
      "s3.ObjectSummary(bucket_name='omdena-gpsdd-senegal', key='data/MYD11A2_Temperature_SouthSudan_counties/SouthSudan_Temperature_twic east_2013-01-01_2014-01-01.tif')\n",
      "s3.ObjectSummary(bucket_name='omdena-gpsdd-senegal', key='data/MYD11A2_Temperature_SouthSudan_counties/SouthSudan_Temperature_twic_2013-01-01_2014-01-01.tif')\n",
      "s3.ObjectSummary(bucket_name='omdena-gpsdd-senegal', key='data/MYD11A2_Temperature_SouthSudan_counties/SouthSudan_Temperature_ulang_2013-01-01_2014-01-01.tif')\n",
      "s3.ObjectSummary(bucket_name='omdena-gpsdd-senegal', key='data/MYD11A2_Temperature_SouthSudan_counties/SouthSudan_Temperature_uror_2013-01-01_2014-01-01.tif')\n",
      "s3.ObjectSummary(bucket_name='omdena-gpsdd-senegal', key='data/MYD11A2_Temperature_SouthSudan_counties/SouthSudan_Temperature_wau_2013-01-01_2014-01-01.tif')\n",
      "s3.ObjectSummary(bucket_name='omdena-gpsdd-senegal', key='data/MYD11A2_Temperature_SouthSudan_counties/SouthSudan_Temperature_wulu_2013-01-01_2014-01-01.tif')\n",
      "s3.ObjectSummary(bucket_name='omdena-gpsdd-senegal', key='data/MYD11A2_Temperature_SouthSudan_counties/SouthSudan_Temperature_yambio_2013-01-01_2014-01-01.tif')\n",
      "s3.ObjectSummary(bucket_name='omdena-gpsdd-senegal', key='data/MYD11A2_Temperature_SouthSudan_counties/SouthSudan_Temperature_yei_2013-01-01_2014-01-01.tif')\n",
      "s3.ObjectSummary(bucket_name='omdena-gpsdd-senegal', key='data/MYD11A2_Temperature_SouthSudan_counties/SouthSudan_Temperature_yirol east_2013-01-01_2014-01-01.tif')\n",
      "s3.ObjectSummary(bucket_name='omdena-gpsdd-senegal', key='data/MYD11A2_Temperature_SouthSudan_counties/SouthSudan_Temperature_yirol west_2013-01-01_2014-01-01.tif')\n",
      "s3.ObjectSummary(bucket_name='omdena-gpsdd-senegal', key='kaggle/')\n",
      "s3.ObjectSummary(bucket_name='omdena-gpsdd-senegal', key='kaggle/dataset/')\n",
      "s3.ObjectSummary(bucket_name='omdena-gpsdd-senegal', key='kaggle/dataset/task_2_crops-diseases-detection/')\n",
      "s3.ObjectSummary(bucket_name='omdena-gpsdd-senegal', key='kaggle/dataset/task_2_crops-diseases-detection/corn_leaf.zip')\n",
      "s3.ObjectSummary(bucket_name='omdena-gpsdd-senegal', key='kaggle/dataset/task_2_crops-diseases-detection/faw/image_1 (1).PNG')\n",
      "s3.ObjectSummary(bucket_name='omdena-gpsdd-senegal', key='kaggle/dataset/task_2_crops-diseases-detection/faw/image_1 (1.jpg')\n",
      "s3.ObjectSummary(bucket_name='omdena-gpsdd-senegal', key='kaggle/dataset/task_2_crops-diseases-detection/faw/image_1 (10).PNG')\n",
      "s3.ObjectSummary(bucket_name='omdena-gpsdd-senegal', key='kaggle/dataset/task_2_crops-diseases-detection/faw/image_1 (10).jpg')\n",
      "s3.ObjectSummary(bucket_name='omdena-gpsdd-senegal', key='kaggle/dataset/task_2_crops-diseases-detection/faw/image_1 (11).PNG')\n",
      "s3.ObjectSummary(bucket_name='omdena-gpsdd-senegal', key='kaggle/dataset/task_2_crops-diseases-detection/faw/image_1 (11).jpg')\n",
      "s3.ObjectSummary(bucket_name='omdena-gpsdd-senegal', key='kaggle/dataset/task_2_crops-diseases-detection/faw/image_1 (12).PNG')\n",
      "s3.ObjectSummary(bucket_name='omdena-gpsdd-senegal', key='kaggle/dataset/task_2_crops-diseases-detection/faw/image_1 (12).jpg')\n",
      "s3.ObjectSummary(bucket_name='omdena-gpsdd-senegal', key='kaggle/dataset/task_2_crops-diseases-detection/faw/image_1 (13).PNG')\n",
      "s3.ObjectSummary(bucket_name='omdena-gpsdd-senegal', key='kaggle/dataset/task_2_crops-diseases-detection/faw/image_1 (13).jpg')\n",
      "s3.ObjectSummary(bucket_name='omdena-gpsdd-senegal', key='kaggle/dataset/task_2_crops-diseases-detection/faw/image_1 (14).PNG')\n",
      "s3.ObjectSummary(bucket_name='omdena-gpsdd-senegal', key='kaggle/dataset/task_2_crops-diseases-detection/faw/image_1 (14).jpg')\n",
      "s3.ObjectSummary(bucket_name='omdena-gpsdd-senegal', key='kaggle/dataset/task_2_crops-diseases-detection/faw/image_1 (15).PNG')\n",
      "s3.ObjectSummary(bucket_name='omdena-gpsdd-senegal', key='kaggle/dataset/task_2_crops-diseases-detection/faw/image_1 (15).jpg')\n",
      "s3.ObjectSummary(bucket_name='omdena-gpsdd-senegal', key='kaggle/dataset/task_2_crops-diseases-detection/faw/image_1 (16).PNG')\n",
      "s3.ObjectSummary(bucket_name='omdena-gpsdd-senegal', key='kaggle/dataset/task_2_crops-diseases-detection/faw/image_1 (16).jpg')\n",
      "s3.ObjectSummary(bucket_name='omdena-gpsdd-senegal', key='kaggle/dataset/task_2_crops-diseases-detection/faw/image_1 (17).PNG')\n",
      "s3.ObjectSummary(bucket_name='omdena-gpsdd-senegal', key='kaggle/dataset/task_2_crops-diseases-detection/faw/image_1 (18).PNG')\n",
      "s3.ObjectSummary(bucket_name='omdena-gpsdd-senegal', key='kaggle/dataset/task_2_crops-diseases-detection/faw/image_1 (19).PNG')\n",
      "s3.ObjectSummary(bucket_name='omdena-gpsdd-senegal', key='kaggle/dataset/task_2_crops-diseases-detection/faw/image_1 (2).PNG')\n",
      "s3.ObjectSummary(bucket_name='omdena-gpsdd-senegal', key='kaggle/dataset/task_2_crops-diseases-detection/faw/image_1 (2).gif')\n",
      "s3.ObjectSummary(bucket_name='omdena-gpsdd-senegal', key='kaggle/dataset/task_2_crops-diseases-detection/faw/image_1 (2).jpg')\n",
      "s3.ObjectSummary(bucket_name='omdena-gpsdd-senegal', key='kaggle/dataset/task_2_crops-diseases-detection/faw/image_1 (20).PNG')\n",
      "s3.ObjectSummary(bucket_name='omdena-gpsdd-senegal', key='kaggle/dataset/task_2_crops-diseases-detection/faw/image_1 (21).PNG')\n",
      "s3.ObjectSummary(bucket_name='omdena-gpsdd-senegal', key='kaggle/dataset/task_2_crops-diseases-detection/faw/image_1 (22).PNG')\n",
      "s3.ObjectSummary(bucket_name='omdena-gpsdd-senegal', key='kaggle/dataset/task_2_crops-diseases-detection/faw/image_1 (23).PNG')\n",
      "s3.ObjectSummary(bucket_name='omdena-gpsdd-senegal', key='kaggle/dataset/task_2_crops-diseases-detection/faw/image_1 (24).PNG')\n",
      "s3.ObjectSummary(bucket_name='omdena-gpsdd-senegal', key='kaggle/dataset/task_2_crops-diseases-detection/faw/image_1 (25).PNG')\n",
      "s3.ObjectSummary(bucket_name='omdena-gpsdd-senegal', key='kaggle/dataset/task_2_crops-diseases-detection/faw/image_1 (26).PNG')\n",
      "s3.ObjectSummary(bucket_name='omdena-gpsdd-senegal', key='kaggle/dataset/task_2_crops-diseases-detection/faw/image_1 (3).PNG')\n",
      "s3.ObjectSummary(bucket_name='omdena-gpsdd-senegal', key='kaggle/dataset/task_2_crops-diseases-detection/faw/image_1 (3).gif')\n",
      "s3.ObjectSummary(bucket_name='omdena-gpsdd-senegal', key='kaggle/dataset/task_2_crops-diseases-detection/faw/image_1 (3).jpg')\n",
      "s3.ObjectSummary(bucket_name='omdena-gpsdd-senegal', key='kaggle/dataset/task_2_crops-diseases-detection/faw/image_1 (4).PNG')\n",
      "s3.ObjectSummary(bucket_name='omdena-gpsdd-senegal', key='kaggle/dataset/task_2_crops-diseases-detection/faw/image_1 (4).gif')\n",
      "s3.ObjectSummary(bucket_name='omdena-gpsdd-senegal', key='kaggle/dataset/task_2_crops-diseases-detection/faw/image_1 (4).jpg')\n",
      "s3.ObjectSummary(bucket_name='omdena-gpsdd-senegal', key='kaggle/dataset/task_2_crops-diseases-detection/faw/image_1 (5).PNG')\n",
      "s3.ObjectSummary(bucket_name='omdena-gpsdd-senegal', key='kaggle/dataset/task_2_crops-diseases-detection/faw/image_1 (5).gif')\n",
      "s3.ObjectSummary(bucket_name='omdena-gpsdd-senegal', key='kaggle/dataset/task_2_crops-diseases-detection/faw/image_1 (5).jpg')\n",
      "s3.ObjectSummary(bucket_name='omdena-gpsdd-senegal', key='kaggle/dataset/task_2_crops-diseases-detection/faw/image_1 (6).PNG')\n",
      "s3.ObjectSummary(bucket_name='omdena-gpsdd-senegal', key='kaggle/dataset/task_2_crops-diseases-detection/faw/image_1 (6).jpg')\n",
      "s3.ObjectSummary(bucket_name='omdena-gpsdd-senegal', key='kaggle/dataset/task_2_crops-diseases-detection/faw/image_1 (7).PNG')\n",
      "s3.ObjectSummary(bucket_name='omdena-gpsdd-senegal', key='kaggle/dataset/task_2_crops-diseases-detection/faw/image_1 (7).jpg')\n",
      "s3.ObjectSummary(bucket_name='omdena-gpsdd-senegal', key='kaggle/dataset/task_2_crops-diseases-detection/faw/image_1 (8).PNG')\n",
      "s3.ObjectSummary(bucket_name='omdena-gpsdd-senegal', key='kaggle/dataset/task_2_crops-diseases-detection/faw/image_1 (8).jpg')\n",
      "s3.ObjectSummary(bucket_name='omdena-gpsdd-senegal', key='kaggle/dataset/task_2_crops-diseases-detection/faw/image_1 (9).PNG')\n",
      "s3.ObjectSummary(bucket_name='omdena-gpsdd-senegal', key='kaggle/dataset/task_2_crops-diseases-detection/faw/image_1 (9).jpg')\n",
      "s3.ObjectSummary(bucket_name='omdena-gpsdd-senegal', key='kaggle/dataset/task_2_crops-diseases-detection/faw/image_1.gif')\n",
      "s3.ObjectSummary(bucket_name='omdena-gpsdd-senegal', key='kaggle/dataset/task_2_crops-diseases-detection/faw/image_2.jpg')\n",
      "s3.ObjectSummary(bucket_name='omdena-gpsdd-senegal', key='omdena_logo.png')\n",
      "s3.ObjectSummary(bucket_name='omdena-gpsdd-senegal', key='test/')\n",
      "s3.ObjectSummary(bucket_name='omdena-gpsdd-senegal', key='test/no_os.yml')\n"
     ]
    }
   ],
   "source": [
    "# listing all the objects in a bucket\n",
    "for obj in bucket.objects.all():\n",
    "    print(obj)"
   ]
  },
  {
   "cell_type": "code",
   "execution_count": null,
   "metadata": {},
   "outputs": [],
   "source": []
  }
 ],
 "metadata": {
  "kernelspec": {
   "display_name": "Python 3",
   "language": "python",
   "name": "python3"
  },
  "language_info": {
   "codemirror_mode": {
    "name": "ipython",
    "version": 3
   },
   "file_extension": ".py",
   "mimetype": "text/x-python",
   "name": "python",
   "nbconvert_exporter": "python",
   "pygments_lexer": "ipython3",
   "version": "3.7.7"
  },
  "nbTranslate": {
   "displayLangs": [
    "*"
   ],
   "hotkey": "alt-t",
   "langInMainMenu": true,
   "sourceLang": "en",
   "targetLang": "fr",
   "useGoogleTranslate": true
  },
  "toc": {
   "base_numbering": 1,
   "nav_menu": {},
   "number_sections": true,
   "sideBar": true,
   "skip_h1_title": false,
   "title_cell": "Table of Contents",
   "title_sidebar": "Contents",
   "toc_cell": false,
   "toc_position": {},
   "toc_section_display": true,
   "toc_window_display": false
  },
  "varInspector": {
   "cols": {
    "lenName": 16,
    "lenType": 16,
    "lenVar": 40
   },
   "kernels_config": {
    "python": {
     "delete_cmd_postfix": "",
     "delete_cmd_prefix": "del ",
     "library": "var_list.py",
     "varRefreshCmd": "print(var_dic_list())"
    },
    "r": {
     "delete_cmd_postfix": ") ",
     "delete_cmd_prefix": "rm(",
     "library": "var_list.r",
     "varRefreshCmd": "cat(var_dic_list()) "
    }
   },
   "position": {
    "height": "235.653px",
    "left": "990px",
    "right": "20px",
    "top": "114px",
    "width": "350px"
   },
   "types_to_exclude": [
    "module",
    "function",
    "builtin_function_or_method",
    "instance",
    "_Feature"
   ],
   "window_display": false
  }
 },
 "nbformat": 4,
 "nbformat_minor": 4
}
