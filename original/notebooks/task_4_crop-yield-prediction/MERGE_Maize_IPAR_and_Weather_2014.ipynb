{
 "cells": [
  {
   "cell_type": "code",
   "execution_count": null,
   "metadata": {},
   "outputs": [],
   "source": [
    "import pandas as pd\n",
    "import numpy as np"
   ]
  },
  {
   "cell_type": "code",
   "execution_count": null,
   "metadata": {},
   "outputs": [],
   "source": [
    "d = pd.read_csv('maize_combined_duplicates.csv.txt')"
   ]
  },
  {
   "cell_type": "code",
   "execution_count": null,
   "metadata": {},
   "outputs": [],
   "source": [
    "type(d.ndvi[0]) # ndvis as strings in input file"
   ]
  },
  {
   "cell_type": "markdown",
   "metadata": {},
   "source": [
    "#### Convert ndvis to list, drop Nan rows, and 'unfurl' ndvi per row"
   ]
  },
  {
   "cell_type": "code",
   "execution_count": null,
   "metadata": {},
   "outputs": [],
   "source": [
    "d['ndvi'] = d['ndvi'].str.strip('[]').str.split(',')"
   ]
  },
  {
   "cell_type": "code",
   "execution_count": null,
   "metadata": {},
   "outputs": [],
   "source": [
    "d.dropna(inplace=True)"
   ]
  },
  {
   "cell_type": "code",
   "execution_count": null,
   "metadata": {},
   "outputs": [],
   "source": [
    "d1 = d.explode('ndvi').reset_index()"
   ]
  },
  {
   "cell_type": "code",
   "execution_count": null,
   "metadata": {},
   "outputs": [],
   "source": [
    "#d1.info()"
   ]
  },
  {
   "cell_type": "markdown",
   "metadata": {},
   "source": [
    "#### Add 8day week column (nth_8days)"
   ]
  },
  {
   "cell_type": "code",
   "execution_count": null,
   "metadata": {},
   "outputs": [],
   "source": [
    "s = pd.Series([w1 for w1 in range(1,47)])"
   ]
  },
  {
   "cell_type": "code",
   "execution_count": null,
   "metadata": {},
   "outputs": [],
   "source": [
    "d1['nth_8days'] = pd.concat([s]*768, ignore_index=True) # add column numbered by weeks\n",
    "#d1.head()"
   ]
  },
  {
   "cell_type": "code",
   "execution_count": null,
   "metadata": {},
   "outputs": [],
   "source": [
    "# output maize_2014 edited ipar data\n",
    "d1.to_csv('maize_combined_duplicates_edt.csv', index=False) #save edited ndvis ipar file"
   ]
  },
  {
   "cell_type": "code",
   "execution_count": null,
   "metadata": {},
   "outputs": [],
   "source": [
    "#load weather data for merging\n",
    "w = pd.read_csv('senegal_weather_8days_2010_2019.csv')\n",
    "w.columns"
   ]
  },
  {
   "cell_type": "code",
   "execution_count": null,
   "metadata": {},
   "outputs": [],
   "source": [
    "#get only 2014 data\n",
    "weather2014 = w[w['year'] == 2014]\n",
    "weather2014.shape"
   ]
  },
  {
   "cell_type": "code",
   "execution_count": null,
   "metadata": {},
   "outputs": [],
   "source": [
    "#drop duplicates in weather data\n",
    "w_nodupes = weather2014.drop_duplicates(['gpslat', 'gpslon','nth_8days'], keep='first', ignore_index=False)"
   ]
  },
  {
   "cell_type": "code",
   "execution_count": null,
   "metadata": {},
   "outputs": [],
   "source": [
    "# duplicate lat/long/nth-8days:\n",
    "weather2014.shape[0] - w_nodupes.shape[0]"
   ]
  },
  {
   "cell_type": "code",
   "execution_count": null,
   "metadata": {},
   "outputs": [],
   "source": [
    "# merge yields and weather for maize_2014:\n",
    "test_merge_inner_MAIZE_2014 = pd.merge(d1, w_nodupes, on=['gpslat','gpslon','nth_8days'], how='inner')\n",
    "test_merge_inner_MAIZE_2014.shape\n"
   ]
  },
  {
   "cell_type": "code",
   "execution_count": null,
   "metadata": {},
   "outputs": [],
   "source": [
    "# output merged file ipar_maize and weather2014:\n",
    "test_merge_inner_MAIZE_2014.to_csv('MERGE_1_maize_weather_merge_inner_2014.csv', index=False)"
   ]
  },
  {
   "cell_type": "markdown",
   "metadata": {},
   "source": [
    "## Visualize gps positions"
   ]
  },
  {
   "cell_type": "code",
   "execution_count": null,
   "metadata": {},
   "outputs": [],
   "source": [
    "import matplotlib.pyplot as plt\n",
    "%matplotlib inline"
   ]
  },
  {
   "cell_type": "code",
   "execution_count": null,
   "metadata": {},
   "outputs": [],
   "source": [
    "d1.plot(kind='scatter', x='gpslon', y='gpslat', alpha=0.2, label='temp',\n",
    "         s=14,\n",
    "            c='ndvi', cmap=plt.get_cmap('jet'), colorbar=True, figsize=(12,7))\n",
    "plt.title('gps points colored by temp values - dataset: ipar_maize_2014\"')\n",
    "plt.legend()\n",
    "#plt.savefig('accidents_map.png')\n",
    "plt.show();\n"
   ]
  },
  {
   "cell_type": "code",
   "execution_count": null,
   "metadata": {},
   "outputs": [],
   "source": [
    "w_nodupes.plot(kind='scatter', x='gpslon', y='gpslat', alpha=0.2, label='temp',\n",
    "         s=14,\n",
    "            c='temp', cmap=plt.get_cmap('jet'), colorbar=True, figsize=(12,7))\n",
    "plt.title('gps points colored by temp values - dataset: no_dupes2(weather_2014)\"')\n",
    "plt.legend()\n",
    "#plt.savefig('accidents_map.png')\n",
    "plt.show();"
   ]
  },
  {
   "cell_type": "code",
   "execution_count": null,
   "metadata": {},
   "outputs": [],
   "source": [
    "test_merge_inner_MAIZE_2014.plot(kind='scatter', x='gpslon', y='gpslat', alpha=0.2, label='temp',\n",
    "         s=14,\n",
    "            c='temp', cmap=plt.get_cmap('jet'), colorbar=True, figsize=(12,7))\n",
    "plt.title('gps points colored by temp values - dataset: test_merge_inner_MAIZE_2014')\n",
    "plt.legend()\n",
    "#plt.savefig('accidents_map.png')\n",
    "plt.show();\n"
   ]
  },
  {
   "cell_type": "code",
   "execution_count": null,
   "metadata": {},
   "outputs": [],
   "source": []
  }
 ],
 "metadata": {
  "kernelspec": {
   "display_name": "Python 3",
   "language": "python",
   "name": "python3"
  },
  "language_info": {
   "codemirror_mode": {
    "name": "ipython",
    "version": 3
   },
   "file_extension": ".py",
   "mimetype": "text/x-python",
   "name": "python",
   "nbconvert_exporter": "python",
   "pygments_lexer": "ipython3",
   "version": "3.8.3"
  }
 },
 "nbformat": 4,
 "nbformat_minor": 4
}
