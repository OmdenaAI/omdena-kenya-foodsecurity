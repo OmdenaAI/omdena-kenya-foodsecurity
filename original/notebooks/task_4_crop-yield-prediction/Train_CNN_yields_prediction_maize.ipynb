{
  "nbformat": 4,
  "nbformat_minor": 0,
  "metadata": {
    "accelerator": "GPU",
    "colab": {
      "name": "Train_CNN_yields_prediction_maize.ipynb",
      "provenance": [],
      "collapsed_sections": [
        "m6dMZFse1gRB",
        "uZcNjIgc062v"
      ],
      "toc_visible": true
    },
    "kernelspec": {
      "display_name": "Python 3",
      "name": "python3"
    }
  },
  "cells": [
    {
      "cell_type": "markdown",
      "metadata": {
        "id": "kg2bj16FzFAh"
      },
      "source": [
        "# This notebook trains and predict crop yields using 32 bins histograms "
      ]
    },
    {
      "cell_type": "code",
      "metadata": {
        "id": "Rzq1mWcpzcf4"
      },
      "source": [
        "!pip install Hub"
      ],
      "execution_count": null,
      "outputs": []
    },
    {
      "cell_type": "code",
      "metadata": {
        "colab": {
          "base_uri": "https://localhost:8080/",
          "height": 52
        },
        "id": "vi6ltr2iu70m",
        "outputId": "e3645d51-61e3-415d-944e-109d4a192cc3"
      },
      "source": [
        "import tensorflow as tf\n",
        "from hub import Dataset\n",
        "from tensorflow.keras import datasets, layers, models\n",
        "import matplotlib.pyplot as plt\n",
        "import numpy as np\n",
        "import os\n",
        "print(tf.__version__)\n",
        "# check if notebook is using GPU\n",
        "tf.test.gpu_device_name()"
      ],
      "execution_count": 2,
      "outputs": [
        {
          "output_type": "stream",
          "text": [
            "2.4.0\n"
          ],
          "name": "stdout"
        },
        {
          "output_type": "execute_result",
          "data": {
            "application/vnd.google.colaboratory.intrinsic+json": {
              "type": "string"
            },
            "text/plain": [
              "'/device:GPU:0'"
            ]
          },
          "metadata": {
            "tags": []
          },
          "execution_count": 2
        }
      ]
    },
    {
      "cell_type": "markdown",
      "metadata": {
        "id": "m6dMZFse1gRB"
      },
      "source": [
        "### Functions"
      ]
    },
    {
      "cell_type": "markdown",
      "metadata": {
        "id": "1IHucShqzsuT"
      },
      "source": [
        "### Load data from ActiveLoop"
      ]
    },
    {
      "cell_type": "code",
      "metadata": {
        "colab": {
          "base_uri": "https://localhost:8080/"
        },
        "id": "rGrhNPjfzX5Y",
        "outputId": "f909add0-cd89-42cd-df9b-414f94e2c25d"
      },
      "source": [
        "# tag = \"margauxmforsythe/Senegal_departments_histograms_weeks_19_30_Rice\"\n",
        "# tag = \"margauxmforsythe/Senegal_departments_histograms_weeks_19_30_Arachide\"\n",
        "# tag = \"margauxmforsythe/Senegal_IPAR_histograms_weeks_0_46_Corn\"\n",
        "# tag = \"margauxmforsythe/Senegal_IPAR_histograms_weeks_19_30_Corn\"\n",
        "tag = \"margauxmforsythe/Senegal_IPAR_histograms_weeks_19_30_Maize\"\n",
        "\n",
        "# Load the data\n",
        "print(\"Load data from ActiveLoop ...\")\n",
        "ds = Dataset(tag)\n",
        "print(\"Data loaded from {}\".format(tag))"
      ],
      "execution_count": 3,
      "outputs": [
        {
          "output_type": "stream",
          "text": [
            "Load data from ActiveLoop ...\n",
            "Data loaded from margauxmforsythe/Senegal_IPAR_histograms_weeks_19_30_Maize\n"
          ],
          "name": "stdout"
        }
      ]
    },
    {
      "cell_type": "code",
      "metadata": {
        "colab": {
          "base_uri": "https://localhost:8080/"
        },
        "id": "6WR_Allmzwag",
        "outputId": "bb342fd6-2eab-4d18-947b-db8d7a81c28e"
      },
      "source": [
        "# Get image width, height and channels from the dataset\n",
        "img_width = ds[\"histograms\"][0].compute().shape[0]\n",
        "img_height = ds[\"histograms\"][0].compute().shape[1]\n",
        "batch_size = 1\n",
        "channels = ds[\"histograms\"][0].compute().shape[2]\n",
        "shape = (img_width, img_height, channels)\n",
        "print(\"Shape input images: {}\".format(shape))\n",
        "\n",
        "histograms = ds[\"histograms\"].compute()\n",
        "image_count = histograms.shape[0]\n",
        "print(\"Image count: {}\".format(image_count))\n",
        "\n",
        "# Get yields statistics\n",
        "yields_list = ds[\"yields\"].compute()\n",
        "yields = []\n",
        "for i in range(0,len(yields_list)):\n",
        "    yields.append(float(yields_list[i][0]))\n",
        "\n",
        "list_ds = tf.data.Dataset.from_tensor_slices((histograms[int(len(histograms)*0.1)::], yields[int(len(histograms)*0.1)::]))\n",
        "test_ds = tf.data.Dataset.from_tensor_slices((histograms[0:int(len(histograms)*0.1)], yields[0:int(len(histograms)*0.1)]))\n",
        "print(\"Training files: {} files\".format(len(list_ds)))\n",
        "print(\"Test files: {} files\".format(len(test_ds)))"
      ],
      "execution_count": 4,
      "outputs": [
        {
          "output_type": "stream",
          "text": [
            "Shape input images: (32, 11, 9)\n",
            "Image count: 767\n",
            "Training files: 691 files\n",
            "Test files: 76 files\n"
          ],
          "name": "stdout"
        }
      ]
    },
    {
      "cell_type": "code",
      "metadata": {
        "colab": {
          "base_uri": "https://localhost:8080/"
        },
        "id": "YyXwhFcB0UJ5",
        "outputId": "ab5fbc85-657b-4a21-8f90-2b401cd44a19"
      },
      "source": [
        "list_ds = list_ds.shuffle(len(list_ds))\n",
        "# Create training and validation sets\n",
        "val_size = int(image_count * 0.1)\n",
        "train_ds = list_ds.skip(val_size)\n",
        "val_ds = list_ds.take(val_size)\n",
        "\n",
        "print(\"Training files: {}\".format(len(train_ds)))\n",
        "print(\"Validation files: {}\".format(len(val_ds)))\n",
        "print(\"Test files: {}\".format(len(test_ds)))\n",
        "\n",
        "AUTOTUNE = tf.data.experimental.AUTOTUNE\n",
        "train_ds = train_ds.cache()\n",
        "train_ds = train_ds.shuffle(len(train_ds))\n",
        "train_ds = train_ds.batch(batch_size)\n",
        "# train_ds = train_ds.prefetch(buffer_size=AUTOTUNE)\n",
        "\n",
        "val_ds = val_ds.cache()\n",
        "val_ds = val_ds.shuffle(buffer_size=len(val_ds))\n",
        "val_ds = val_ds.batch(1)\n",
        "# val_ds = val_ds.prefetch(buffer_size=AUTOTUNE)\n",
        "\n",
        "test_ds = test_ds.cache()\n",
        "test_ds = test_ds.shuffle(buffer_size=len(test_ds))\n",
        "test_ds = test_ds.batch(len(test_ds))\n"
      ],
      "execution_count": 5,
      "outputs": [
        {
          "output_type": "stream",
          "text": [
            "Training files: 615\n",
            "Validation files: 76\n",
            "Test files: 76\n"
          ],
          "name": "stdout"
        }
      ]
    },
    {
      "cell_type": "markdown",
      "metadata": {
        "id": "VntC-wWZ0x0C"
      },
      "source": [
        "### Display first band images in batch to check the data is correct"
      ]
    },
    {
      "cell_type": "code",
      "metadata": {
        "colab": {
          "base_uri": "https://localhost:8080/",
          "height": 646
        },
        "id": "tNC6jYQpZb4w",
        "outputId": "6514b986-d209-4537-8e05-3ed1f0d42b81"
      },
      "source": [
        "image_batch_train, label_batch_train = next(iter(train_ds))\n",
        "image_batch_val, label_batch_val= next(iter(val_ds))\n",
        "image_batch_test, label_batch_test= next(iter(test_ds))\n",
        "\n",
        "# Check if images are correct\n",
        "plt.figure(figsize=(10, 10))\n",
        "plt.suptitle(\"all bands first image\")\n",
        "for i in range(9):\n",
        "  ax = plt.subplot(3, 3, i + 1)\n",
        "  # print(image_batch_train[i].shape)\n",
        "  plt.imshow(image_batch_train[0][:,:,i].numpy())\n",
        "  label = label_batch_train[0]\n",
        "  plt.title(label.numpy())\n",
        "  plt.axis(\"off\")\n",
        "\n",
        "plt.show()"
      ],
      "execution_count": 6,
      "outputs": [
        {
          "output_type": "display_data",
          "data": {
            "image/png": "[encoded data removed]",
            "text/plain": [
              "<Figure size 720x720 with 9 Axes>"
            ]
          },
          "metadata": {
            "tags": [],
            "needs_background": "light"
          }
        }
      ]
    },
    {
      "cell_type": "markdown",
      "metadata": {
        "id": "uZcNjIgc062v"
      },
      "source": [
        "## Build Model: CNN"
      ]
    },
    {
      "cell_type": "code",
      "metadata": {
        "colab": {
          "base_uri": "https://localhost:8080/"
        },
        "id": "dpAkzgNH05Rh",
        "outputId": "1d3f8d5c-1760-49ec-8bf8-cb0482164243"
      },
      "source": [
        "model = models.Sequential()\n",
        "\n",
        "model.add(layers.Conv2D(128, (3, 3), strides=(1, 1), padding='same', input_shape=shape))\n",
        "model.add(layers.BatchNormalization())\n",
        "model.add(layers.ReLU())\n",
        "model.add(layers.Dropout(0.5))\n",
        "\n",
        "model.add(layers.Conv2D(128, (3, 3), strides=(2, 2), padding='same'))\n",
        "model.add(layers.BatchNormalization())\n",
        "model.add(layers.ReLU())\n",
        "model.add(layers.Dropout(0.5))\n",
        "\n",
        "model.add(layers.Conv2D(256, (3, 3), strides=(1, 1), padding='same'))\n",
        "model.add(layers.BatchNormalization())\n",
        "model.add(layers.ReLU())\n",
        "model.add(layers.Dropout(0.5))\n",
        "model.add(layers.Conv2D(256, (3, 3), strides=(2, 2), padding='same'))\n",
        "model.add(layers.BatchNormalization())\n",
        "model.add(layers.ReLU())\n",
        "model.add(layers.Dropout(0.5))\n",
        "\n",
        "model.add(layers.Conv2D(512, (3, 3), strides=(1, 1), padding='same'))\n",
        "model.add(layers.BatchNormalization())\n",
        "model.add(layers.ReLU())\n",
        "model.add(layers.Dropout(0.5))\n",
        "model.add(layers.Conv2D(512, (3, 3), strides=(1, 1), padding='same'))\n",
        "model.add(layers.BatchNormalization())\n",
        "model.add(layers.ReLU())\n",
        "model.add(layers.Dropout(0.5))\n",
        "model.add(layers.Conv2D(512, (3, 3), strides=(2, 2), padding='same'))\n",
        "model.add(layers.BatchNormalization())\n",
        "model.add(layers.ReLU())\n",
        "model.add(layers.Dropout(0.5))\n",
        "\n",
        "model.add(layers.Flatten())\n",
        "model.add(layers.Dense(2048))\n",
        "model.add(layers.Dense(1))\n",
        "model.summary()\n"
      ],
      "execution_count": 7,
      "outputs": [
        {
          "output_type": "stream",
          "text": [
            "Model: \"sequential\"\n",
            "_________________________________________________________________\n",
            "Layer (type)                 Output Shape              Param #   \n",
            "=================================================================\n",
            "conv2d (Conv2D)              (None, 32, 11, 128)       10496     \n",
            "_________________________________________________________________\n",
            "batch_normalization (BatchNo (None, 32, 11, 128)       512       \n",
            "_________________________________________________________________\n",
            "re_lu (ReLU)                 (None, 32, 11, 128)       0         \n",
            "_________________________________________________________________\n",
            "dropout (Dropout)            (None, 32, 11, 128)       0         \n",
            "_________________________________________________________________\n",
            "conv2d_1 (Conv2D)            (None, 16, 6, 128)        147584    \n",
            "_________________________________________________________________\n",
            "batch_normalization_1 (Batch (None, 16, 6, 128)        512       \n",
            "_________________________________________________________________\n",
            "re_lu_1 (ReLU)               (None, 16, 6, 128)        0         \n",
            "_________________________________________________________________\n",
            "dropout_1 (Dropout)          (None, 16, 6, 128)        0         \n",
            "_________________________________________________________________\n",
            "conv2d_2 (Conv2D)            (None, 16, 6, 256)        295168    \n",
            "_________________________________________________________________\n",
            "batch_normalization_2 (Batch (None, 16, 6, 256)        1024      \n",
            "_________________________________________________________________\n",
            "re_lu_2 (ReLU)               (None, 16, 6, 256)        0         \n",
            "_________________________________________________________________\n",
            "dropout_2 (Dropout)          (None, 16, 6, 256)        0         \n",
            "_________________________________________________________________\n",
            "conv2d_3 (Conv2D)            (None, 8, 3, 256)         590080    \n",
            "_________________________________________________________________\n",
            "batch_normalization_3 (Batch (None, 8, 3, 256)         1024      \n",
            "_________________________________________________________________\n",
            "re_lu_3 (ReLU)               (None, 8, 3, 256)         0         \n",
            "_________________________________________________________________\n",
            "dropout_3 (Dropout)          (None, 8, 3, 256)         0         \n",
            "_________________________________________________________________\n",
            "conv2d_4 (Conv2D)            (None, 8, 3, 512)         1180160   \n",
            "_________________________________________________________________\n",
            "batch_normalization_4 (Batch (None, 8, 3, 512)         2048      \n",
            "_________________________________________________________________\n",
            "re_lu_4 (ReLU)               (None, 8, 3, 512)         0         \n",
            "_________________________________________________________________\n",
            "dropout_4 (Dropout)          (None, 8, 3, 512)         0         \n",
            "_________________________________________________________________\n",
            "conv2d_5 (Conv2D)            (None, 8, 3, 512)         2359808   \n",
            "_________________________________________________________________\n",
            "batch_normalization_5 (Batch (None, 8, 3, 512)         2048      \n",
            "_________________________________________________________________\n",
            "re_lu_5 (ReLU)               (None, 8, 3, 512)         0         \n",
            "_________________________________________________________________\n",
            "dropout_5 (Dropout)          (None, 8, 3, 512)         0         \n",
            "_________________________________________________________________\n",
            "conv2d_6 (Conv2D)            (None, 4, 2, 512)         2359808   \n",
            "_________________________________________________________________\n",
            "batch_normalization_6 (Batch (None, 4, 2, 512)         2048      \n",
            "_________________________________________________________________\n",
            "re_lu_6 (ReLU)               (None, 4, 2, 512)         0         \n",
            "_________________________________________________________________\n",
            "dropout_6 (Dropout)          (None, 4, 2, 512)         0         \n",
            "_________________________________________________________________\n",
            "flatten (Flatten)            (None, 4096)              0         \n",
            "_________________________________________________________________\n",
            "dense (Dense)                (None, 2048)              8390656   \n",
            "_________________________________________________________________\n",
            "dense_1 (Dense)              (None, 1)                 2049      \n",
            "=================================================================\n",
            "Total params: 15,345,025\n",
            "Trainable params: 15,340,417\n",
            "Non-trainable params: 4,608\n",
            "_________________________________________________________________\n"
          ],
          "name": "stdout"
        }
      ]
    },
    {
      "cell_type": "code",
      "metadata": {
        "id": "uqsFLT061KKS"
      },
      "source": [
        "initial_learning_rate = 0.001\n",
        "\n",
        "model.compile(optimizer=tf.keras.optimizers.Adam(learning_rate=initial_learning_rate),\n",
        "              loss=tf.keras.losses.MeanSquaredError(),\n",
        "              metrics=['accuracy', tf.keras.metrics.RootMeanSquaredError(name='RMSE'), tf.keras.losses.MeanSquaredError(name='MSE')])"
      ],
      "execution_count": 8,
      "outputs": []
    },
    {
      "cell_type": "markdown",
      "metadata": {
        "id": "jBi1kz5s1XPe"
      },
      "source": [
        "### Create Callbacks for model fit"
      ]
    },
    {
      "cell_type": "code",
      "metadata": {
        "id": "I2SnL7hT1PkD"
      },
      "source": [
        "model_checkpoint_callback = tf.keras.callbacks.ModelCheckpoint(\n",
        "    filepath= 'checkpoint_b{}_CNN-LSTM.h5'.format(batch_size),\n",
        "    format='h5',\n",
        "    verbose=1,\n",
        "    save_weights_only=True,\n",
        "    monitor='val_loss',\n",
        "    mode='min',\n",
        "    save_best_only=True)\n",
        "\n",
        "reducelronplateau = tf.keras.callbacks.ReduceLROnPlateau(\n",
        "    monitor='val_loss', factor=0.1, patience=50, verbose=1,\n",
        "    mode='min', min_lr=0.0000000001)\n",
        "\n",
        "early_stop = tf.keras.callbacks.EarlyStopping(monitor='val_loss',mode='min', patience=100, verbose=1)"
      ],
      "execution_count": 9,
      "outputs": []
    },
    {
      "cell_type": "markdown",
      "metadata": {
        "id": "k47yiQV61389"
      },
      "source": [
        "## Training"
      ]
    },
    {
      "cell_type": "code",
      "metadata": {
        "colab": {
          "base_uri": "https://localhost:8080/"
        },
        "id": "oTbtdYpy15Zd",
        "outputId": "a67caeef-31f7-4025-bf67-623158edee72"
      },
      "source": [
        "print(\"Start training... \")\n",
        "history = model.fit(train_ds,\n",
        "                    epochs=1000,\n",
        "                    validation_data=val_ds,\n",
        "                    verbose=1,\n",
        "                    callbacks=[model_checkpoint_callback, reducelronplateau, early_stop])\n"
      ],
      "execution_count": 10,
      "outputs": [
        {
          "output_type": "stream",
          "text": [
            "Start training... \n",
            "Epoch 1/1000\n",
            "615/615 [==============================] - 15s 12ms/step - loss: 160.3513 - accuracy: 0.0594 - RMSE: 11.7354 - MSE: 160.3513 - val_loss: 0.2623 - val_accuracy: 0.0000e+00 - val_RMSE: 0.5122 - val_MSE: 0.2623\n",
            "\n",
            "Epoch 00001: val_loss improved from inf to 0.26232, saving model to checkpoint_b1_CNN-LSTM.h5\n",
            "Epoch 2/1000\n",
            "615/615 [==============================] - 7s 11ms/step - loss: 0.8108 - accuracy: 0.0795 - RMSE: 0.8987 - MSE: 0.8108 - val_loss: 0.3693 - val_accuracy: 0.0000e+00 - val_RMSE: 0.6077 - val_MSE: 0.3693\n",
            "\n",
            "Epoch 00002: val_loss did not improve from 0.26232\n",
            "Epoch 3/1000\n",
            "615/615 [==============================] - 7s 11ms/step - loss: 0.6652 - accuracy: 0.0635 - RMSE: 0.8111 - MSE: 0.6652 - val_loss: 0.2546 - val_accuracy: 0.0000e+00 - val_RMSE: 0.5045 - val_MSE: 0.2546\n",
            "\n",
            "Epoch 00003: val_loss improved from 0.26232 to 0.25456, saving model to checkpoint_b1_CNN-LSTM.h5\n",
            "Epoch 4/1000\n",
            "615/615 [==============================] - 7s 11ms/step - loss: 0.5868 - accuracy: 0.0869 - RMSE: 0.7579 - MSE: 0.5868 - val_loss: 0.5111 - val_accuracy: 0.0000e+00 - val_RMSE: 0.7149 - val_MSE: 0.5111\n",
            "\n",
            "Epoch 00004: val_loss did not improve from 0.25456\n",
            "Epoch 5/1000\n",
            "615/615 [==============================] - 7s 11ms/step - loss: 0.9056 - accuracy: 0.0576 - RMSE: 0.9457 - MSE: 0.9056 - val_loss: 0.2680 - val_accuracy: 0.0000e+00 - val_RMSE: 0.5177 - val_MSE: 0.2680\n",
            "\n",
            "Epoch 00005: val_loss did not improve from 0.25456\n",
            "Epoch 6/1000\n",
            "615/615 [==============================] - 7s 11ms/step - loss: 0.8932 - accuracy: 0.0543 - RMSE: 0.9347 - MSE: 0.8932 - val_loss: 0.3211 - val_accuracy: 0.0000e+00 - val_RMSE: 0.5666 - val_MSE: 0.3211\n",
            "\n",
            "Epoch 00006: val_loss did not improve from 0.25456\n",
            "Epoch 7/1000\n",
            "615/615 [==============================] - 7s 11ms/step - loss: 3.4220 - accuracy: 0.0434 - RMSE: 1.8375 - MSE: 3.4220 - val_loss: 0.4048 - val_accuracy: 0.0000e+00 - val_RMSE: 0.6363 - val_MSE: 0.4048\n",
            "\n",
            "Epoch 00007: val_loss did not improve from 0.25456\n",
            "Epoch 8/1000\n",
            "615/615 [==============================] - 7s 11ms/step - loss: 2.4121 - accuracy: 0.0314 - RMSE: 1.5308 - MSE: 2.4121 - val_loss: 0.2784 - val_accuracy: 0.0921 - val_RMSE: 0.5277 - val_MSE: 0.2784\n",
            "\n",
            "Epoch 00008: val_loss did not improve from 0.25456\n",
            "Epoch 9/1000\n",
            "615/615 [==============================] - 7s 11ms/step - loss: 2.1339 - accuracy: 0.0473 - RMSE: 1.4438 - MSE: 2.1339 - val_loss: 1.2389 - val_accuracy: 0.0921 - val_RMSE: 1.1131 - val_MSE: 1.2389\n",
            "\n",
            "Epoch 00009: val_loss did not improve from 0.25456\n",
            "Epoch 10/1000\n",
            "615/615 [==============================] - 7s 11ms/step - loss: 1.9505 - accuracy: 0.0545 - RMSE: 1.3956 - MSE: 1.9505 - val_loss: 2.3642 - val_accuracy: 0.0000e+00 - val_RMSE: 1.5376 - val_MSE: 2.3642\n",
            "\n",
            "Epoch 00010: val_loss did not improve from 0.25456\n",
            "Epoch 11/1000\n",
            "615/615 [==============================] - 7s 11ms/step - loss: 2.1123 - accuracy: 0.0495 - RMSE: 1.4308 - MSE: 2.1123 - val_loss: 0.4514 - val_accuracy: 0.0921 - val_RMSE: 0.6719 - val_MSE: 0.4514\n",
            "\n",
            "Epoch 00011: val_loss did not improve from 0.25456\n",
            "Epoch 12/1000\n",
            "615/615 [==============================] - 7s 11ms/step - loss: 1.9917 - accuracy: 0.0475 - RMSE: 1.4054 - MSE: 1.9917 - val_loss: 0.9777 - val_accuracy: 0.0921 - val_RMSE: 0.9888 - val_MSE: 0.9777\n",
            "\n",
            "Epoch 00012: val_loss did not improve from 0.25456\n",
            "Epoch 13/1000\n",
            "615/615 [==============================] - 7s 11ms/step - loss: 1.2708 - accuracy: 0.0464 - RMSE: 1.1233 - MSE: 1.2708 - val_loss: 0.7044 - val_accuracy: 0.0000e+00 - val_RMSE: 0.8393 - val_MSE: 0.7044\n",
            "\n",
            "Epoch 00013: val_loss did not improve from 0.25456\n",
            "Epoch 14/1000\n",
            "615/615 [==============================] - 7s 11ms/step - loss: 0.8538 - accuracy: 0.0443 - RMSE: 0.9211 - MSE: 0.8538 - val_loss: 0.2684 - val_accuracy: 0.0921 - val_RMSE: 0.5181 - val_MSE: 0.2684\n",
            "\n",
            "Epoch 00014: val_loss did not improve from 0.25456\n",
            "Epoch 15/1000\n",
            "615/615 [==============================] - 7s 11ms/step - loss: 1.3118 - accuracy: 0.0507 - RMSE: 1.1384 - MSE: 1.3118 - val_loss: 0.3389 - val_accuracy: 0.0921 - val_RMSE: 0.5821 - val_MSE: 0.3389\n",
            "\n",
            "Epoch 00015: val_loss did not improve from 0.25456\n",
            "Epoch 16/1000\n",
            "615/615 [==============================] - 7s 11ms/step - loss: 1.0518 - accuracy: 0.0425 - RMSE: 1.0160 - MSE: 1.0518 - val_loss: 0.3048 - val_accuracy: 0.0921 - val_RMSE: 0.5521 - val_MSE: 0.3048\n",
            "\n",
            "Epoch 00016: val_loss did not improve from 0.25456\n",
            "Epoch 17/1000\n",
            "615/615 [==============================] - 7s 11ms/step - loss: 0.6876 - accuracy: 0.0590 - RMSE: 0.8282 - MSE: 0.6876 - val_loss: 0.2772 - val_accuracy: 0.0921 - val_RMSE: 0.5265 - val_MSE: 0.2772\n",
            "\n",
            "Epoch 00017: val_loss did not improve from 0.25456\n",
            "Epoch 18/1000\n",
            "615/615 [==============================] - 7s 11ms/step - loss: 0.5943 - accuracy: 0.0478 - RMSE: 0.7679 - MSE: 0.5943 - val_loss: 0.4068 - val_accuracy: 0.0921 - val_RMSE: 0.6378 - val_MSE: 0.4068\n",
            "\n",
            "Epoch 00018: val_loss did not improve from 0.25456\n",
            "Epoch 19/1000\n",
            "615/615 [==============================] - 7s 11ms/step - loss: 0.6957 - accuracy: 0.0594 - RMSE: 0.8326 - MSE: 0.6957 - val_loss: 0.2522 - val_accuracy: 0.0921 - val_RMSE: 0.5022 - val_MSE: 0.2522\n",
            "\n",
            "Epoch 00019: val_loss improved from 0.25456 to 0.25217, saving model to checkpoint_b1_CNN-LSTM.h5\n",
            "Epoch 20/1000\n",
            "615/615 [==============================] - 7s 11ms/step - loss: 0.5009 - accuracy: 0.0508 - RMSE: 0.7058 - MSE: 0.5009 - val_loss: 0.2427 - val_accuracy: 0.0921 - val_RMSE: 0.4927 - val_MSE: 0.2427\n",
            "\n",
            "Epoch 00020: val_loss improved from 0.25217 to 0.24272, saving model to checkpoint_b1_CNN-LSTM.h5\n",
            "Epoch 21/1000\n",
            "615/615 [==============================] - 7s 11ms/step - loss: 0.5941 - accuracy: 0.0832 - RMSE: 0.7663 - MSE: 0.5941 - val_loss: 0.2474 - val_accuracy: 0.0921 - val_RMSE: 0.4974 - val_MSE: 0.2474\n",
            "\n",
            "Epoch 00021: val_loss did not improve from 0.24272\n",
            "Epoch 22/1000\n",
            "615/615 [==============================] - 7s 11ms/step - loss: 0.4166 - accuracy: 0.0564 - RMSE: 0.6400 - MSE: 0.4166 - val_loss: 0.2821 - val_accuracy: 0.0921 - val_RMSE: 0.5311 - val_MSE: 0.2821\n",
            "\n",
            "Epoch 00022: val_loss did not improve from 0.24272\n",
            "Epoch 23/1000\n",
            "615/615 [==============================] - 7s 11ms/step - loss: 0.5272 - accuracy: 0.0772 - RMSE: 0.7227 - MSE: 0.5272 - val_loss: 0.2379 - val_accuracy: 0.0921 - val_RMSE: 0.4878 - val_MSE: 0.2379\n",
            "\n",
            "Epoch 00023: val_loss improved from 0.24272 to 0.23791, saving model to checkpoint_b1_CNN-LSTM.h5\n",
            "Epoch 24/1000\n",
            "615/615 [==============================] - 7s 11ms/step - loss: 0.5818 - accuracy: 0.0747 - RMSE: 0.7561 - MSE: 0.5818 - val_loss: 0.2423 - val_accuracy: 0.0921 - val_RMSE: 0.4922 - val_MSE: 0.2423\n",
            "\n",
            "Epoch 00024: val_loss did not improve from 0.23791\n",
            "Epoch 25/1000\n",
            "615/615 [==============================] - 7s 11ms/step - loss: 0.4541 - accuracy: 0.0827 - RMSE: 0.6709 - MSE: 0.4541 - val_loss: 0.2384 - val_accuracy: 0.0921 - val_RMSE: 0.4882 - val_MSE: 0.2384\n",
            "\n",
            "Epoch 00025: val_loss did not improve from 0.23791\n",
            "Epoch 26/1000\n",
            "615/615 [==============================] - 7s 11ms/step - loss: 0.3775 - accuracy: 0.0833 - RMSE: 0.6084 - MSE: 0.3775 - val_loss: 0.2340 - val_accuracy: 0.0921 - val_RMSE: 0.4837 - val_MSE: 0.2340\n",
            "\n",
            "Epoch 00026: val_loss improved from 0.23791 to 0.23401, saving model to checkpoint_b1_CNN-LSTM.h5\n",
            "Epoch 27/1000\n",
            "615/615 [==============================] - 7s 11ms/step - loss: 0.8125 - accuracy: 0.0685 - RMSE: 0.8902 - MSE: 0.8125 - val_loss: 0.2422 - val_accuracy: 0.0000e+00 - val_RMSE: 0.4922 - val_MSE: 0.2422\n",
            "\n",
            "Epoch 00027: val_loss did not improve from 0.23401\n",
            "Epoch 28/1000\n",
            "615/615 [==============================] - 7s 11ms/step - loss: 0.4944 - accuracy: 0.0697 - RMSE: 0.6982 - MSE: 0.4944 - val_loss: 0.2331 - val_accuracy: 0.0921 - val_RMSE: 0.4829 - val_MSE: 0.2331\n",
            "\n",
            "Epoch 00028: val_loss improved from 0.23401 to 0.23315, saving model to checkpoint_b1_CNN-LSTM.h5\n",
            "Epoch 29/1000\n",
            "615/615 [==============================] - 7s 11ms/step - loss: 0.3582 - accuracy: 0.0873 - RMSE: 0.5924 - MSE: 0.3582 - val_loss: 0.2323 - val_accuracy: 0.0921 - val_RMSE: 0.4820 - val_MSE: 0.2323\n",
            "\n",
            "Epoch 00029: val_loss improved from 0.23315 to 0.23228, saving model to checkpoint_b1_CNN-LSTM.h5\n",
            "Epoch 30/1000\n",
            "615/615 [==============================] - 7s 11ms/step - loss: 0.3483 - accuracy: 0.0882 - RMSE: 0.5894 - MSE: 0.3483 - val_loss: 0.2333 - val_accuracy: 0.0921 - val_RMSE: 0.4830 - val_MSE: 0.2333\n",
            "\n",
            "Epoch 00030: val_loss did not improve from 0.23228\n",
            "Epoch 31/1000\n",
            "615/615 [==============================] - 7s 11ms/step - loss: 0.5571 - accuracy: 0.0811 - RMSE: 0.7374 - MSE: 0.5571 - val_loss: 0.2314 - val_accuracy: 0.0921 - val_RMSE: 0.4810 - val_MSE: 0.2314\n",
            "\n",
            "Epoch 00031: val_loss improved from 0.23228 to 0.23138, saving model to checkpoint_b1_CNN-LSTM.h5\n",
            "Epoch 32/1000\n",
            "615/615 [==============================] - 7s 11ms/step - loss: 0.3405 - accuracy: 0.0819 - RMSE: 0.5773 - MSE: 0.3405 - val_loss: 0.2473 - val_accuracy: 0.0921 - val_RMSE: 0.4973 - val_MSE: 0.2473\n",
            "\n",
            "Epoch 00032: val_loss did not improve from 0.23138\n",
            "Epoch 33/1000\n",
            "615/615 [==============================] - 7s 11ms/step - loss: 0.3977 - accuracy: 0.0958 - RMSE: 0.6264 - MSE: 0.3977 - val_loss: 0.2397 - val_accuracy: 0.0921 - val_RMSE: 0.4896 - val_MSE: 0.2397\n",
            "\n",
            "Epoch 00033: val_loss did not improve from 0.23138\n",
            "Epoch 34/1000\n",
            "615/615 [==============================] - 7s 11ms/step - loss: 0.5038 - accuracy: 0.1020 - RMSE: 0.7027 - MSE: 0.5038 - val_loss: 0.2427 - val_accuracy: 0.0921 - val_RMSE: 0.4927 - val_MSE: 0.2427\n",
            "\n",
            "Epoch 00034: val_loss did not improve from 0.23138\n",
            "Epoch 35/1000\n",
            "615/615 [==============================] - 7s 11ms/step - loss: 0.3535 - accuracy: 0.0841 - RMSE: 0.5934 - MSE: 0.3535 - val_loss: 0.2477 - val_accuracy: 0.0921 - val_RMSE: 0.4977 - val_MSE: 0.2477\n",
            "\n",
            "Epoch 00035: val_loss did not improve from 0.23138\n",
            "Epoch 36/1000\n",
            "615/615 [==============================] - 7s 11ms/step - loss: 0.3754 - accuracy: 0.0852 - RMSE: 0.6066 - MSE: 0.3754 - val_loss: 0.2648 - val_accuracy: 0.0921 - val_RMSE: 0.5146 - val_MSE: 0.2648\n",
            "\n",
            "Epoch 00036: val_loss did not improve from 0.23138\n",
            "Epoch 37/1000\n",
            "615/615 [==============================] - 7s 11ms/step - loss: 0.4281 - accuracy: 0.1113 - RMSE: 0.6525 - MSE: 0.4281 - val_loss: 0.2307 - val_accuracy: 0.0921 - val_RMSE: 0.4803 - val_MSE: 0.2307\n",
            "\n",
            "Epoch 00037: val_loss improved from 0.23138 to 0.23072, saving model to checkpoint_b1_CNN-LSTM.h5\n",
            "Epoch 38/1000\n",
            "615/615 [==============================] - 7s 11ms/step - loss: 0.4261 - accuracy: 0.0835 - RMSE: 0.6498 - MSE: 0.4261 - val_loss: 0.3631 - val_accuracy: 0.0921 - val_RMSE: 0.6026 - val_MSE: 0.3631\n",
            "\n",
            "Epoch 00038: val_loss did not improve from 0.23072\n",
            "Epoch 39/1000\n",
            "615/615 [==============================] - 7s 11ms/step - loss: 2.9632 - accuracy: 0.0733 - RMSE: 1.5856 - MSE: 2.9632 - val_loss: 0.2437 - val_accuracy: 0.0921 - val_RMSE: 0.4936 - val_MSE: 0.2437\n",
            "\n",
            "Epoch 00039: val_loss did not improve from 0.23072\n",
            "Epoch 40/1000\n",
            "615/615 [==============================] - 7s 11ms/step - loss: 0.3822 - accuracy: 0.0800 - RMSE: 0.6161 - MSE: 0.3822 - val_loss: 0.2338 - val_accuracy: 0.0921 - val_RMSE: 0.4836 - val_MSE: 0.2338\n",
            "\n",
            "Epoch 00040: val_loss did not improve from 0.23072\n",
            "Epoch 41/1000\n",
            "615/615 [==============================] - 7s 11ms/step - loss: 0.6422 - accuracy: 0.0951 - RMSE: 0.7701 - MSE: 0.6422 - val_loss: 0.2330 - val_accuracy: 0.0921 - val_RMSE: 0.4827 - val_MSE: 0.2330\n",
            "\n",
            "Epoch 00041: val_loss did not improve from 0.23072\n",
            "Epoch 42/1000\n",
            "615/615 [==============================] - 7s 11ms/step - loss: 0.3530 - accuracy: 0.0700 - RMSE: 0.5922 - MSE: 0.3530 - val_loss: 0.3351 - val_accuracy: 0.0921 - val_RMSE: 0.5789 - val_MSE: 0.3351\n",
            "\n",
            "Epoch 00042: val_loss did not improve from 0.23072\n",
            "Epoch 43/1000\n",
            "615/615 [==============================] - 7s 11ms/step - loss: 0.3923 - accuracy: 0.1002 - RMSE: 0.6246 - MSE: 0.3923 - val_loss: 0.3709 - val_accuracy: 0.0921 - val_RMSE: 0.6091 - val_MSE: 0.3709\n",
            "\n",
            "Epoch 00043: val_loss did not improve from 0.23072\n",
            "Epoch 44/1000\n",
            "615/615 [==============================] - 7s 11ms/step - loss: 0.4464 - accuracy: 0.0901 - RMSE: 0.6658 - MSE: 0.4464 - val_loss: 0.2835 - val_accuracy: 0.0921 - val_RMSE: 0.5325 - val_MSE: 0.2835\n",
            "\n",
            "Epoch 00044: val_loss did not improve from 0.23072\n",
            "Epoch 45/1000\n",
            "615/615 [==============================] - 7s 11ms/step - loss: 0.4283 - accuracy: 0.0924 - RMSE: 0.6523 - MSE: 0.4283 - val_loss: 0.2397 - val_accuracy: 0.0921 - val_RMSE: 0.4896 - val_MSE: 0.2397\n",
            "\n",
            "Epoch 00045: val_loss did not improve from 0.23072\n",
            "Epoch 46/1000\n",
            "615/615 [==============================] - 7s 11ms/step - loss: 0.3692 - accuracy: 0.0966 - RMSE: 0.6043 - MSE: 0.3692 - val_loss: 0.2565 - val_accuracy: 0.0921 - val_RMSE: 0.5064 - val_MSE: 0.2565\n",
            "\n",
            "Epoch 00046: val_loss did not improve from 0.23072\n",
            "Epoch 47/1000\n",
            "615/615 [==============================] - 7s 11ms/step - loss: 0.4615 - accuracy: 0.0853 - RMSE: 0.6747 - MSE: 0.4615 - val_loss: 0.2307 - val_accuracy: 0.0921 - val_RMSE: 0.4803 - val_MSE: 0.2307\n",
            "\n",
            "Epoch 00047: val_loss improved from 0.23072 to 0.23065, saving model to checkpoint_b1_CNN-LSTM.h5\n",
            "Epoch 48/1000\n",
            "615/615 [==============================] - 7s 11ms/step - loss: 0.4551 - accuracy: 0.0893 - RMSE: 0.6730 - MSE: 0.4551 - val_loss: 0.2499 - val_accuracy: 0.0921 - val_RMSE: 0.4999 - val_MSE: 0.2499\n",
            "\n",
            "Epoch 00048: val_loss did not improve from 0.23065\n",
            "Epoch 49/1000\n",
            "615/615 [==============================] - 7s 11ms/step - loss: 0.3471 - accuracy: 0.0925 - RMSE: 0.5852 - MSE: 0.3471 - val_loss: 0.2713 - val_accuracy: 0.0921 - val_RMSE: 0.5208 - val_MSE: 0.2713\n",
            "\n",
            "Epoch 00049: val_loss did not improve from 0.23065\n",
            "Epoch 50/1000\n",
            "615/615 [==============================] - 7s 11ms/step - loss: 0.4495 - accuracy: 0.1037 - RMSE: 0.6673 - MSE: 0.4495 - val_loss: 0.2383 - val_accuracy: 0.0921 - val_RMSE: 0.4881 - val_MSE: 0.2383\n",
            "\n",
            "Epoch 00050: val_loss did not improve from 0.23065\n",
            "Epoch 51/1000\n",
            "615/615 [==============================] - 7s 11ms/step - loss: 0.4166 - accuracy: 0.1054 - RMSE: 0.6441 - MSE: 0.4166 - val_loss: 0.2545 - val_accuracy: 0.0921 - val_RMSE: 0.5044 - val_MSE: 0.2545\n",
            "\n",
            "Epoch 00051: val_loss did not improve from 0.23065\n",
            "Epoch 52/1000\n",
            "615/615 [==============================] - 7s 11ms/step - loss: 0.3871 - accuracy: 0.0865 - RMSE: 0.6175 - MSE: 0.3871 - val_loss: 0.2442 - val_accuracy: 0.0921 - val_RMSE: 0.4942 - val_MSE: 0.2442\n",
            "\n",
            "Epoch 00052: val_loss did not improve from 0.23065\n",
            "Epoch 53/1000\n",
            "615/615 [==============================] - 7s 11ms/step - loss: 0.3685 - accuracy: 0.0812 - RMSE: 0.6033 - MSE: 0.3685 - val_loss: 0.2391 - val_accuracy: 0.0921 - val_RMSE: 0.4890 - val_MSE: 0.2391\n",
            "\n",
            "Epoch 00053: val_loss did not improve from 0.23065\n",
            "Epoch 54/1000\n",
            "615/615 [==============================] - 7s 11ms/step - loss: 0.5707 - accuracy: 0.0735 - RMSE: 0.7398 - MSE: 0.5707 - val_loss: 0.2720 - val_accuracy: 0.0921 - val_RMSE: 0.5216 - val_MSE: 0.2720\n",
            "\n",
            "Epoch 00054: val_loss did not improve from 0.23065\n",
            "Epoch 55/1000\n",
            "615/615 [==============================] - 7s 11ms/step - loss: 0.4297 - accuracy: 0.0867 - RMSE: 0.6527 - MSE: 0.4297 - val_loss: 0.2474 - val_accuracy: 0.0921 - val_RMSE: 0.4974 - val_MSE: 0.2474\n",
            "\n",
            "Epoch 00055: val_loss did not improve from 0.23065\n",
            "Epoch 56/1000\n",
            "615/615 [==============================] - 7s 11ms/step - loss: 0.3291 - accuracy: 0.0853 - RMSE: 0.5701 - MSE: 0.3291 - val_loss: 0.2465 - val_accuracy: 0.0921 - val_RMSE: 0.4965 - val_MSE: 0.2465\n",
            "\n",
            "Epoch 00056: val_loss did not improve from 0.23065\n",
            "Epoch 57/1000\n",
            "615/615 [==============================] - 7s 11ms/step - loss: 0.3736 - accuracy: 0.0995 - RMSE: 0.6091 - MSE: 0.3736 - val_loss: 0.2468 - val_accuracy: 0.0921 - val_RMSE: 0.4968 - val_MSE: 0.2468\n",
            "\n",
            "Epoch 00057: val_loss did not improve from 0.23065\n",
            "Epoch 58/1000\n",
            "615/615 [==============================] - 7s 11ms/step - loss: 0.3710 - accuracy: 0.0897 - RMSE: 0.6083 - MSE: 0.3710 - val_loss: 0.2514 - val_accuracy: 0.0921 - val_RMSE: 0.5014 - val_MSE: 0.2514\n",
            "\n",
            "Epoch 00058: val_loss did not improve from 0.23065\n",
            "Epoch 59/1000\n",
            "615/615 [==============================] - 7s 11ms/step - loss: 0.3485 - accuracy: 0.0956 - RMSE: 0.5857 - MSE: 0.3485 - val_loss: 0.2477 - val_accuracy: 0.0921 - val_RMSE: 0.4977 - val_MSE: 0.2477\n",
            "\n",
            "Epoch 00059: val_loss did not improve from 0.23065\n",
            "Epoch 60/1000\n",
            "615/615 [==============================] - 7s 11ms/step - loss: 0.4305 - accuracy: 0.0857 - RMSE: 0.6508 - MSE: 0.4305 - val_loss: 0.2495 - val_accuracy: 0.0921 - val_RMSE: 0.4995 - val_MSE: 0.2495\n",
            "\n",
            "Epoch 00060: val_loss did not improve from 0.23065\n",
            "Epoch 61/1000\n",
            "615/615 [==============================] - 7s 12ms/step - loss: 0.3727 - accuracy: 0.0809 - RMSE: 0.6086 - MSE: 0.3727 - val_loss: 0.2578 - val_accuracy: 0.0921 - val_RMSE: 0.5077 - val_MSE: 0.2578\n",
            "\n",
            "Epoch 00061: val_loss did not improve from 0.23065\n",
            "Epoch 62/1000\n",
            "615/615 [==============================] - 7s 11ms/step - loss: 0.5936 - accuracy: 0.0766 - RMSE: 0.7489 - MSE: 0.5936 - val_loss: 0.2300 - val_accuracy: 0.0921 - val_RMSE: 0.4796 - val_MSE: 0.2300\n",
            "\n",
            "Epoch 00062: val_loss improved from 0.23065 to 0.23002, saving model to checkpoint_b1_CNN-LSTM.h5\n",
            "Epoch 63/1000\n",
            "615/615 [==============================] - 7s 11ms/step - loss: 0.4744 - accuracy: 0.0825 - RMSE: 0.6832 - MSE: 0.4744 - val_loss: 0.2524 - val_accuracy: 0.0921 - val_RMSE: 0.5024 - val_MSE: 0.2524\n",
            "\n",
            "Epoch 00063: val_loss did not improve from 0.23002\n",
            "Epoch 64/1000\n",
            "615/615 [==============================] - 7s 11ms/step - loss: 0.3717 - accuracy: 0.0966 - RMSE: 0.6045 - MSE: 0.3717 - val_loss: 0.2458 - val_accuracy: 0.0921 - val_RMSE: 0.4958 - val_MSE: 0.2458\n",
            "\n",
            "Epoch 00064: val_loss did not improve from 0.23002\n",
            "Epoch 65/1000\n",
            "615/615 [==============================] - 7s 11ms/step - loss: 0.3156 - accuracy: 0.1067 - RMSE: 0.5583 - MSE: 0.3156 - val_loss: 0.2472 - val_accuracy: 0.0921 - val_RMSE: 0.4972 - val_MSE: 0.2472\n",
            "\n",
            "Epoch 00065: val_loss did not improve from 0.23002\n",
            "Epoch 66/1000\n",
            "615/615 [==============================] - 7s 11ms/step - loss: 0.3495 - accuracy: 0.0707 - RMSE: 0.5880 - MSE: 0.3495 - val_loss: 0.2593 - val_accuracy: 0.0921 - val_RMSE: 0.5093 - val_MSE: 0.2593\n",
            "\n",
            "Epoch 00066: val_loss did not improve from 0.23002\n",
            "Epoch 67/1000\n",
            "615/615 [==============================] - 7s 11ms/step - loss: 0.4337 - accuracy: 0.0950 - RMSE: 0.6551 - MSE: 0.4337 - val_loss: 0.2499 - val_accuracy: 0.0921 - val_RMSE: 0.4999 - val_MSE: 0.2499\n",
            "\n",
            "Epoch 00067: val_loss did not improve from 0.23002\n",
            "Epoch 68/1000\n",
            "615/615 [==============================] - 7s 11ms/step - loss: 0.3818 - accuracy: 0.1056 - RMSE: 0.6145 - MSE: 0.3818 - val_loss: 0.2454 - val_accuracy: 0.0921 - val_RMSE: 0.4954 - val_MSE: 0.2454\n",
            "\n",
            "Epoch 00068: val_loss did not improve from 0.23002\n",
            "Epoch 69/1000\n",
            "615/615 [==============================] - 7s 11ms/step - loss: 0.3200 - accuracy: 0.0836 - RMSE: 0.5619 - MSE: 0.3200 - val_loss: 0.2482 - val_accuracy: 0.0921 - val_RMSE: 0.4982 - val_MSE: 0.2482\n",
            "\n",
            "Epoch 00069: val_loss did not improve from 0.23002\n",
            "Epoch 70/1000\n",
            "615/615 [==============================] - 7s 11ms/step - loss: 0.4103 - accuracy: 0.1014 - RMSE: 0.6367 - MSE: 0.4103 - val_loss: 0.2468 - val_accuracy: 0.0921 - val_RMSE: 0.4968 - val_MSE: 0.2468\n",
            "\n",
            "Epoch 00070: val_loss did not improve from 0.23002\n",
            "Epoch 71/1000\n",
            "615/615 [==============================] - 7s 11ms/step - loss: 0.3573 - accuracy: 0.0763 - RMSE: 0.5953 - MSE: 0.3573 - val_loss: 0.2471 - val_accuracy: 0.0921 - val_RMSE: 0.4971 - val_MSE: 0.2471\n",
            "\n",
            "Epoch 00071: val_loss did not improve from 0.23002\n",
            "Epoch 72/1000\n",
            "615/615 [==============================] - 7s 11ms/step - loss: 0.4087 - accuracy: 0.0633 - RMSE: 0.6374 - MSE: 0.4087 - val_loss: 0.2532 - val_accuracy: 0.0921 - val_RMSE: 0.5032 - val_MSE: 0.2532\n",
            "\n",
            "Epoch 00072: val_loss did not improve from 0.23002\n",
            "Epoch 73/1000\n",
            "615/615 [==============================] - 7s 11ms/step - loss: 0.3695 - accuracy: 0.0981 - RMSE: 0.6063 - MSE: 0.3695 - val_loss: 0.2305 - val_accuracy: 0.0921 - val_RMSE: 0.4801 - val_MSE: 0.2305\n",
            "\n",
            "Epoch 00073: val_loss did not improve from 0.23002\n",
            "Epoch 74/1000\n",
            "615/615 [==============================] - 7s 11ms/step - loss: 0.4620 - accuracy: 0.0834 - RMSE: 0.6727 - MSE: 0.4620 - val_loss: 0.2520 - val_accuracy: 0.0921 - val_RMSE: 0.5020 - val_MSE: 0.2520\n",
            "\n",
            "Epoch 00074: val_loss did not improve from 0.23002\n",
            "Epoch 75/1000\n",
            "615/615 [==============================] - 7s 11ms/step - loss: 0.3562 - accuracy: 0.0984 - RMSE: 0.5936 - MSE: 0.3562 - val_loss: 0.2506 - val_accuracy: 0.0921 - val_RMSE: 0.5006 - val_MSE: 0.2506\n",
            "\n",
            "Epoch 00075: val_loss did not improve from 0.23002\n",
            "Epoch 76/1000\n",
            "615/615 [==============================] - 7s 11ms/step - loss: 0.3779 - accuracy: 0.0855 - RMSE: 0.6114 - MSE: 0.3779 - val_loss: 0.2479 - val_accuracy: 0.0921 - val_RMSE: 0.4979 - val_MSE: 0.2479\n",
            "\n",
            "Epoch 00076: val_loss did not improve from 0.23002\n",
            "Epoch 77/1000\n",
            "615/615 [==============================] - 7s 11ms/step - loss: 0.3399 - accuracy: 0.0818 - RMSE: 0.5801 - MSE: 0.3399 - val_loss: 0.2504 - val_accuracy: 0.0921 - val_RMSE: 0.5004 - val_MSE: 0.2504\n",
            "\n",
            "Epoch 00077: val_loss did not improve from 0.23002\n",
            "Epoch 78/1000\n",
            "615/615 [==============================] - 7s 11ms/step - loss: 0.3975 - accuracy: 0.0858 - RMSE: 0.6294 - MSE: 0.3975 - val_loss: 0.2442 - val_accuracy: 0.0921 - val_RMSE: 0.4942 - val_MSE: 0.2442\n",
            "\n",
            "Epoch 00078: val_loss did not improve from 0.23002\n",
            "Epoch 79/1000\n",
            "615/615 [==============================] - 7s 11ms/step - loss: 0.3564 - accuracy: 0.0901 - RMSE: 0.5945 - MSE: 0.3564 - val_loss: 0.2524 - val_accuracy: 0.0921 - val_RMSE: 0.5024 - val_MSE: 0.2524\n",
            "\n",
            "Epoch 00079: val_loss did not improve from 0.23002\n",
            "Epoch 80/1000\n",
            "615/615 [==============================] - 7s 11ms/step - loss: 0.4681 - accuracy: 0.0831 - RMSE: 0.6828 - MSE: 0.4681 - val_loss: 0.2501 - val_accuracy: 0.0921 - val_RMSE: 0.5001 - val_MSE: 0.2501\n",
            "\n",
            "Epoch 00080: val_loss did not improve from 0.23002\n",
            "Epoch 81/1000\n",
            "615/615 [==============================] - 7s 11ms/step - loss: 0.3212 - accuracy: 0.0893 - RMSE: 0.5644 - MSE: 0.3212 - val_loss: 0.2566 - val_accuracy: 0.0921 - val_RMSE: 0.5066 - val_MSE: 0.2566\n",
            "\n",
            "Epoch 00081: val_loss did not improve from 0.23002\n",
            "Epoch 82/1000\n",
            "615/615 [==============================] - 7s 11ms/step - loss: 0.4759 - accuracy: 0.0937 - RMSE: 0.6842 - MSE: 0.4759 - val_loss: 0.2302 - val_accuracy: 0.0921 - val_RMSE: 0.4798 - val_MSE: 0.2302\n",
            "\n",
            "Epoch 00082: val_loss did not improve from 0.23002\n",
            "Epoch 83/1000\n",
            "615/615 [==============================] - 7s 11ms/step - loss: 0.3722 - accuracy: 0.0854 - RMSE: 0.6084 - MSE: 0.3722 - val_loss: 0.2555 - val_accuracy: 0.0921 - val_RMSE: 0.5055 - val_MSE: 0.2555\n",
            "\n",
            "Epoch 00083: val_loss did not improve from 0.23002\n",
            "Epoch 84/1000\n",
            "615/615 [==============================] - 7s 11ms/step - loss: 0.3539 - accuracy: 0.0894 - RMSE: 0.5917 - MSE: 0.3539 - val_loss: 0.2406 - val_accuracy: 0.0921 - val_RMSE: 0.4905 - val_MSE: 0.2406\n",
            "\n",
            "Epoch 00084: val_loss did not improve from 0.23002\n",
            "Epoch 85/1000\n",
            "615/615 [==============================] - 7s 11ms/step - loss: 0.5414 - accuracy: 0.0990 - RMSE: 0.7248 - MSE: 0.5414 - val_loss: 0.2423 - val_accuracy: 0.0921 - val_RMSE: 0.4922 - val_MSE: 0.2423\n",
            "\n",
            "Epoch 00085: val_loss did not improve from 0.23002\n",
            "Epoch 86/1000\n",
            "615/615 [==============================] - 7s 11ms/step - loss: 0.4300 - accuracy: 0.0955 - RMSE: 0.6504 - MSE: 0.4300 - val_loss: 0.2435 - val_accuracy: 0.0921 - val_RMSE: 0.4934 - val_MSE: 0.2435\n",
            "\n",
            "Epoch 00086: val_loss did not improve from 0.23002\n",
            "Epoch 87/1000\n",
            "615/615 [==============================] - 7s 11ms/step - loss: 0.4454 - accuracy: 0.1026 - RMSE: 0.6617 - MSE: 0.4454 - val_loss: 0.4746 - val_accuracy: 0.0921 - val_RMSE: 0.6889 - val_MSE: 0.4746\n",
            "\n",
            "Epoch 00087: val_loss did not improve from 0.23002\n",
            "Epoch 88/1000\n",
            "615/615 [==============================] - 7s 11ms/step - loss: 0.3540 - accuracy: 0.0850 - RMSE: 0.5935 - MSE: 0.3540 - val_loss: 0.2577 - val_accuracy: 0.0921 - val_RMSE: 0.5077 - val_MSE: 0.2577\n",
            "\n",
            "Epoch 00088: val_loss did not improve from 0.23002\n",
            "Epoch 89/1000\n",
            "615/615 [==============================] - 7s 11ms/step - loss: 0.4090 - accuracy: 0.0762 - RMSE: 0.6361 - MSE: 0.4090 - val_loss: 0.2764 - val_accuracy: 0.0921 - val_RMSE: 0.5257 - val_MSE: 0.2764\n",
            "\n",
            "Epoch 00089: val_loss did not improve from 0.23002\n",
            "Epoch 90/1000\n",
            "615/615 [==============================] - 7s 11ms/step - loss: 0.4451 - accuracy: 0.0649 - RMSE: 0.6641 - MSE: 0.4451 - val_loss: 0.2317 - val_accuracy: 0.0921 - val_RMSE: 0.4814 - val_MSE: 0.2317\n",
            "\n",
            "Epoch 00090: val_loss did not improve from 0.23002\n",
            "Epoch 91/1000\n",
            "615/615 [==============================] - 7s 11ms/step - loss: 0.4229 - accuracy: 0.0849 - RMSE: 0.6473 - MSE: 0.4229 - val_loss: 0.2369 - val_accuracy: 0.0921 - val_RMSE: 0.4868 - val_MSE: 0.2369\n",
            "\n",
            "Epoch 00091: val_loss did not improve from 0.23002\n",
            "Epoch 92/1000\n",
            "615/615 [==============================] - 7s 11ms/step - loss: 0.3821 - accuracy: 0.0709 - RMSE: 0.6142 - MSE: 0.3821 - val_loss: 0.2599 - val_accuracy: 0.0921 - val_RMSE: 0.5098 - val_MSE: 0.2599\n",
            "\n",
            "Epoch 00092: val_loss did not improve from 0.23002\n",
            "Epoch 93/1000\n",
            "615/615 [==============================] - 7s 11ms/step - loss: 0.4323 - accuracy: 0.0675 - RMSE: 0.6563 - MSE: 0.4323 - val_loss: 0.2416 - val_accuracy: 0.0921 - val_RMSE: 0.4915 - val_MSE: 0.2416\n",
            "\n",
            "Epoch 00093: val_loss did not improve from 0.23002\n",
            "Epoch 94/1000\n",
            "615/615 [==============================] - 7s 11ms/step - loss: 0.3301 - accuracy: 0.0769 - RMSE: 0.5718 - MSE: 0.3301 - val_loss: 0.2541 - val_accuracy: 0.0921 - val_RMSE: 0.5041 - val_MSE: 0.2541\n",
            "\n",
            "Epoch 00094: val_loss did not improve from 0.23002\n",
            "Epoch 95/1000\n",
            "615/615 [==============================] - 7s 11ms/step - loss: 0.3932 - accuracy: 0.0859 - RMSE: 0.6247 - MSE: 0.3932 - val_loss: 0.2480 - val_accuracy: 0.0921 - val_RMSE: 0.4979 - val_MSE: 0.2480\n",
            "\n",
            "Epoch 00095: val_loss did not improve from 0.23002\n",
            "Epoch 96/1000\n",
            "615/615 [==============================] - 7s 11ms/step - loss: 0.4024 - accuracy: 0.0932 - RMSE: 0.6294 - MSE: 0.4024 - val_loss: 0.2408 - val_accuracy: 0.0921 - val_RMSE: 0.4907 - val_MSE: 0.2408\n",
            "\n",
            "Epoch 00096: val_loss did not improve from 0.23002\n",
            "Epoch 97/1000\n",
            "615/615 [==============================] - 7s 11ms/step - loss: 0.3792 - accuracy: 0.0979 - RMSE: 0.6144 - MSE: 0.3792 - val_loss: 0.2621 - val_accuracy: 0.0921 - val_RMSE: 0.5119 - val_MSE: 0.2621\n",
            "\n",
            "Epoch 00097: val_loss did not improve from 0.23002\n",
            "Epoch 98/1000\n",
            "615/615 [==============================] - 7s 11ms/step - loss: 0.4022 - accuracy: 0.0886 - RMSE: 0.6313 - MSE: 0.4022 - val_loss: 0.2444 - val_accuracy: 0.0921 - val_RMSE: 0.4944 - val_MSE: 0.2444\n",
            "\n",
            "Epoch 00098: val_loss did not improve from 0.23002\n",
            "Epoch 99/1000\n",
            "615/615 [==============================] - 7s 11ms/step - loss: 0.3829 - accuracy: 0.0846 - RMSE: 0.6162 - MSE: 0.3829 - val_loss: 0.2523 - val_accuracy: 0.0921 - val_RMSE: 0.5023 - val_MSE: 0.2523\n",
            "\n",
            "Epoch 00099: val_loss did not improve from 0.23002\n",
            "Epoch 100/1000\n",
            "615/615 [==============================] - 7s 11ms/step - loss: 0.4726 - accuracy: 0.0596 - RMSE: 0.6853 - MSE: 0.4726 - val_loss: 0.2453 - val_accuracy: 0.0921 - val_RMSE: 0.4952 - val_MSE: 0.2453\n",
            "\n",
            "Epoch 00100: val_loss did not improve from 0.23002\n",
            "Epoch 101/1000\n",
            "615/615 [==============================] - 7s 11ms/step - loss: 0.4093 - accuracy: 0.0997 - RMSE: 0.6371 - MSE: 0.4093 - val_loss: 0.2498 - val_accuracy: 0.0921 - val_RMSE: 0.4998 - val_MSE: 0.2498\n",
            "\n",
            "Epoch 00101: val_loss did not improve from 0.23002\n",
            "Epoch 102/1000\n",
            "615/615 [==============================] - 7s 11ms/step - loss: 0.3757 - accuracy: 0.0999 - RMSE: 0.6096 - MSE: 0.3757 - val_loss: 0.2510 - val_accuracy: 0.0921 - val_RMSE: 0.5010 - val_MSE: 0.2510\n",
            "\n",
            "Epoch 00102: val_loss did not improve from 0.23002\n",
            "Epoch 103/1000\n",
            "615/615 [==============================] - 7s 11ms/step - loss: 0.3403 - accuracy: 0.0815 - RMSE: 0.5797 - MSE: 0.3403 - val_loss: 0.2495 - val_accuracy: 0.0921 - val_RMSE: 0.4995 - val_MSE: 0.2495\n",
            "\n",
            "Epoch 00103: val_loss did not improve from 0.23002\n",
            "Epoch 104/1000\n",
            "615/615 [==============================] - 7s 11ms/step - loss: 0.4529 - accuracy: 0.1011 - RMSE: 0.6663 - MSE: 0.4529 - val_loss: 0.2480 - val_accuracy: 0.0921 - val_RMSE: 0.4980 - val_MSE: 0.2480\n",
            "\n",
            "Epoch 00104: val_loss did not improve from 0.23002\n",
            "Epoch 105/1000\n",
            "615/615 [==============================] - 7s 11ms/step - loss: 0.3835 - accuracy: 0.0778 - RMSE: 0.6163 - MSE: 0.3835 - val_loss: 0.2516 - val_accuracy: 0.0921 - val_RMSE: 0.5016 - val_MSE: 0.2516\n",
            "\n",
            "Epoch 00105: val_loss did not improve from 0.23002\n",
            "Epoch 106/1000\n",
            "615/615 [==============================] - 7s 12ms/step - loss: 0.3967 - accuracy: 0.0845 - RMSE: 0.6269 - MSE: 0.3967 - val_loss: 0.2549 - val_accuracy: 0.0921 - val_RMSE: 0.5048 - val_MSE: 0.2549\n",
            "\n",
            "Epoch 00106: val_loss did not improve from 0.23002\n",
            "Epoch 107/1000\n",
            "615/615 [==============================] - 7s 11ms/step - loss: 0.4091 - accuracy: 0.0854 - RMSE: 0.6367 - MSE: 0.4091 - val_loss: 0.2472 - val_accuracy: 0.0921 - val_RMSE: 0.4972 - val_MSE: 0.2472\n",
            "\n",
            "Epoch 00107: val_loss did not improve from 0.23002\n",
            "Epoch 108/1000\n",
            "615/615 [==============================] - 7s 11ms/step - loss: 0.4213 - accuracy: 0.0889 - RMSE: 0.6462 - MSE: 0.4213 - val_loss: 0.2411 - val_accuracy: 0.0921 - val_RMSE: 0.4910 - val_MSE: 0.2411\n",
            "\n",
            "Epoch 00108: val_loss did not improve from 0.23002\n",
            "Epoch 109/1000\n",
            "615/615 [==============================] - 7s 11ms/step - loss: 0.5483 - accuracy: 0.0796 - RMSE: 0.7283 - MSE: 0.5483 - val_loss: 0.2460 - val_accuracy: 0.0921 - val_RMSE: 0.4960 - val_MSE: 0.2460\n",
            "\n",
            "Epoch 00109: val_loss did not improve from 0.23002\n",
            "Epoch 110/1000\n",
            "615/615 [==============================] - 7s 11ms/step - loss: 0.4488 - accuracy: 0.0973 - RMSE: 0.6683 - MSE: 0.4488 - val_loss: 0.2389 - val_accuracy: 0.0921 - val_RMSE: 0.4888 - val_MSE: 0.2389\n",
            "\n",
            "Epoch 00110: val_loss did not improve from 0.23002\n",
            "Epoch 111/1000\n",
            "615/615 [==============================] - 7s 11ms/step - loss: 0.4417 - accuracy: 0.0747 - RMSE: 0.6631 - MSE: 0.4417 - val_loss: 0.2516 - val_accuracy: 0.0921 - val_RMSE: 0.5016 - val_MSE: 0.2516\n",
            "\n",
            "Epoch 00111: val_loss did not improve from 0.23002\n",
            "Epoch 112/1000\n",
            "615/615 [==============================] - 7s 11ms/step - loss: 0.3461 - accuracy: 0.0938 - RMSE: 0.5868 - MSE: 0.3461 - val_loss: 0.2508 - val_accuracy: 0.0921 - val_RMSE: 0.5008 - val_MSE: 0.2508\n",
            "\n",
            "Epoch 00112: val_loss did not improve from 0.23002\n",
            "\n",
            "Epoch 00112: ReduceLROnPlateau reducing learning rate to 0.00010000000474974513.\n",
            "Epoch 113/1000\n",
            "615/615 [==============================] - 7s 11ms/step - loss: 0.4796 - accuracy: 0.0751 - RMSE: 0.6729 - MSE: 0.4796 - val_loss: 0.2500 - val_accuracy: 0.0921 - val_RMSE: 0.5000 - val_MSE: 0.2500\n",
            "\n",
            "Epoch 00113: val_loss did not improve from 0.23002\n",
            "Epoch 114/1000\n",
            "615/615 [==============================] - 7s 11ms/step - loss: 0.4217 - accuracy: 0.0565 - RMSE: 0.6459 - MSE: 0.4217 - val_loss: 0.2496 - val_accuracy: 0.0921 - val_RMSE: 0.4996 - val_MSE: 0.2496\n",
            "\n",
            "Epoch 00114: val_loss did not improve from 0.23002\n",
            "Epoch 115/1000\n",
            "615/615 [==============================] - 7s 11ms/step - loss: 0.3143 - accuracy: 0.0906 - RMSE: 0.5590 - MSE: 0.3143 - val_loss: 0.2490 - val_accuracy: 0.0921 - val_RMSE: 0.4990 - val_MSE: 0.2490\n",
            "\n",
            "Epoch 00115: val_loss did not improve from 0.23002\n",
            "Epoch 116/1000\n",
            "615/615 [==============================] - 7s 11ms/step - loss: 0.3688 - accuracy: 0.0926 - RMSE: 0.6031 - MSE: 0.3688 - val_loss: 0.2483 - val_accuracy: 0.0921 - val_RMSE: 0.4983 - val_MSE: 0.2483\n",
            "\n",
            "Epoch 00116: val_loss did not improve from 0.23002\n",
            "Epoch 117/1000\n",
            "615/615 [==============================] - 7s 11ms/step - loss: 0.3036 - accuracy: 0.0997 - RMSE: 0.5495 - MSE: 0.3036 - val_loss: 0.2489 - val_accuracy: 0.0921 - val_RMSE: 0.4989 - val_MSE: 0.2489\n",
            "\n",
            "Epoch 00117: val_loss did not improve from 0.23002\n",
            "Epoch 118/1000\n",
            "615/615 [==============================] - 7s 11ms/step - loss: 0.3669 - accuracy: 0.1073 - RMSE: 0.6037 - MSE: 0.3669 - val_loss: 0.2489 - val_accuracy: 0.0921 - val_RMSE: 0.4989 - val_MSE: 0.2489\n",
            "\n",
            "Epoch 00118: val_loss did not improve from 0.23002\n",
            "Epoch 119/1000\n",
            "615/615 [==============================] - 7s 11ms/step - loss: 0.4344 - accuracy: 0.0894 - RMSE: 0.6559 - MSE: 0.4344 - val_loss: 0.2484 - val_accuracy: 0.0921 - val_RMSE: 0.4984 - val_MSE: 0.2484\n",
            "\n",
            "Epoch 00119: val_loss did not improve from 0.23002\n",
            "Epoch 120/1000\n",
            "615/615 [==============================] - 7s 11ms/step - loss: 0.3621 - accuracy: 0.1074 - RMSE: 0.5980 - MSE: 0.3621 - val_loss: 0.2482 - val_accuracy: 0.0921 - val_RMSE: 0.4982 - val_MSE: 0.2482\n",
            "\n",
            "Epoch 00120: val_loss did not improve from 0.23002\n",
            "Epoch 121/1000\n",
            "615/615 [==============================] - 7s 11ms/step - loss: 0.4247 - accuracy: 0.0650 - RMSE: 0.6489 - MSE: 0.4247 - val_loss: 0.2479 - val_accuracy: 0.0921 - val_RMSE: 0.4979 - val_MSE: 0.2479\n",
            "\n",
            "Epoch 00121: val_loss did not improve from 0.23002\n",
            "Epoch 122/1000\n",
            "615/615 [==============================] - 7s 11ms/step - loss: 0.4146 - accuracy: 0.0927 - RMSE: 0.6404 - MSE: 0.4146 - val_loss: 0.2449 - val_accuracy: 0.0921 - val_RMSE: 0.4949 - val_MSE: 0.2449\n",
            "\n",
            "Epoch 00122: val_loss did not improve from 0.23002\n",
            "Epoch 123/1000\n",
            "615/615 [==============================] - 7s 11ms/step - loss: 0.3866 - accuracy: 0.0900 - RMSE: 0.6166 - MSE: 0.3866 - val_loss: 0.2466 - val_accuracy: 0.0921 - val_RMSE: 0.4966 - val_MSE: 0.2466\n",
            "\n",
            "Epoch 00123: val_loss did not improve from 0.23002\n",
            "Epoch 124/1000\n",
            "615/615 [==============================] - 7s 11ms/step - loss: 0.5593 - accuracy: 0.0806 - RMSE: 0.7332 - MSE: 0.5593 - val_loss: 0.2465 - val_accuracy: 0.0921 - val_RMSE: 0.4965 - val_MSE: 0.2465\n",
            "\n",
            "Epoch 00124: val_loss did not improve from 0.23002\n",
            "Epoch 125/1000\n",
            "615/615 [==============================] - 7s 11ms/step - loss: 0.3579 - accuracy: 0.0574 - RMSE: 0.5971 - MSE: 0.3579 - val_loss: 0.2476 - val_accuracy: 0.0921 - val_RMSE: 0.4976 - val_MSE: 0.2476\n",
            "\n",
            "Epoch 00125: val_loss did not improve from 0.23002\n",
            "Epoch 126/1000\n",
            "615/615 [==============================] - 7s 11ms/step - loss: 0.4115 - accuracy: 0.0747 - RMSE: 0.6399 - MSE: 0.4115 - val_loss: 0.2459 - val_accuracy: 0.0921 - val_RMSE: 0.4959 - val_MSE: 0.2459\n",
            "\n",
            "Epoch 00126: val_loss did not improve from 0.23002\n",
            "Epoch 127/1000\n",
            "615/615 [==============================] - 7s 11ms/step - loss: 0.4096 - accuracy: 0.0788 - RMSE: 0.6356 - MSE: 0.4096 - val_loss: 0.2468 - val_accuracy: 0.0921 - val_RMSE: 0.4967 - val_MSE: 0.2468\n",
            "\n",
            "Epoch 00127: val_loss did not improve from 0.23002\n",
            "Epoch 128/1000\n",
            "615/615 [==============================] - 7s 11ms/step - loss: 0.4879 - accuracy: 0.0882 - RMSE: 0.6884 - MSE: 0.4879 - val_loss: 0.2475 - val_accuracy: 0.0921 - val_RMSE: 0.4975 - val_MSE: 0.2475\n",
            "\n",
            "Epoch 00128: val_loss did not improve from 0.23002\n",
            "Epoch 129/1000\n",
            "615/615 [==============================] - 7s 11ms/step - loss: 0.4012 - accuracy: 0.0954 - RMSE: 0.6314 - MSE: 0.4012 - val_loss: 0.2468 - val_accuracy: 0.0921 - val_RMSE: 0.4968 - val_MSE: 0.2468\n",
            "\n",
            "Epoch 00129: val_loss did not improve from 0.23002\n",
            "Epoch 130/1000\n",
            "615/615 [==============================] - 7s 11ms/step - loss: 0.5219 - accuracy: 0.0822 - RMSE: 0.7195 - MSE: 0.5219 - val_loss: 0.2455 - val_accuracy: 0.0921 - val_RMSE: 0.4955 - val_MSE: 0.2455\n",
            "\n",
            "Epoch 00130: val_loss did not improve from 0.23002\n",
            "Epoch 131/1000\n",
            "615/615 [==============================] - 7s 11ms/step - loss: 0.4330 - accuracy: 0.1046 - RMSE: 0.6560 - MSE: 0.4330 - val_loss: 0.2471 - val_accuracy: 0.0921 - val_RMSE: 0.4971 - val_MSE: 0.2471\n",
            "\n",
            "Epoch 00131: val_loss did not improve from 0.23002\n",
            "Epoch 132/1000\n",
            "615/615 [==============================] - 7s 11ms/step - loss: 0.3837 - accuracy: 0.0911 - RMSE: 0.6116 - MSE: 0.3837 - val_loss: 0.2473 - val_accuracy: 0.0921 - val_RMSE: 0.4973 - val_MSE: 0.2473\n",
            "\n",
            "Epoch 00132: val_loss did not improve from 0.23002\n",
            "Epoch 133/1000\n",
            "615/615 [==============================] - 7s 11ms/step - loss: 0.3166 - accuracy: 0.0966 - RMSE: 0.5604 - MSE: 0.3166 - val_loss: 0.2479 - val_accuracy: 0.0921 - val_RMSE: 0.4979 - val_MSE: 0.2479\n",
            "\n",
            "Epoch 00133: val_loss did not improve from 0.23002\n",
            "Epoch 134/1000\n",
            "615/615 [==============================] - 7s 11ms/step - loss: 0.3773 - accuracy: 0.0937 - RMSE: 0.6104 - MSE: 0.3773 - val_loss: 0.2479 - val_accuracy: 0.0921 - val_RMSE: 0.4979 - val_MSE: 0.2479\n",
            "\n",
            "Epoch 00134: val_loss did not improve from 0.23002\n",
            "Epoch 135/1000\n",
            "615/615 [==============================] - 7s 11ms/step - loss: 0.4848 - accuracy: 0.0847 - RMSE: 0.6878 - MSE: 0.4848 - val_loss: 0.2473 - val_accuracy: 0.0921 - val_RMSE: 0.4973 - val_MSE: 0.2473\n",
            "\n",
            "Epoch 00135: val_loss did not improve from 0.23002\n",
            "Epoch 136/1000\n",
            "615/615 [==============================] - 7s 11ms/step - loss: 0.4329 - accuracy: 0.0839 - RMSE: 0.6540 - MSE: 0.4329 - val_loss: 0.2469 - val_accuracy: 0.0921 - val_RMSE: 0.4969 - val_MSE: 0.2469\n",
            "\n",
            "Epoch 00136: val_loss did not improve from 0.23002\n",
            "Epoch 137/1000\n",
            "615/615 [==============================] - 7s 11ms/step - loss: 0.3936 - accuracy: 0.0866 - RMSE: 0.6244 - MSE: 0.3936 - val_loss: 0.2472 - val_accuracy: 0.0921 - val_RMSE: 0.4972 - val_MSE: 0.2472\n",
            "\n",
            "Epoch 00137: val_loss did not improve from 0.23002\n",
            "Epoch 138/1000\n",
            "615/615 [==============================] - 7s 11ms/step - loss: 0.3811 - accuracy: 0.1005 - RMSE: 0.6134 - MSE: 0.3811 - val_loss: 0.2472 - val_accuracy: 0.0921 - val_RMSE: 0.4972 - val_MSE: 0.2472\n",
            "\n",
            "Epoch 00138: val_loss did not improve from 0.23002\n",
            "Epoch 139/1000\n",
            "615/615 [==============================] - 7s 11ms/step - loss: 0.4147 - accuracy: 0.0963 - RMSE: 0.6412 - MSE: 0.4147 - val_loss: 0.2481 - val_accuracy: 0.0921 - val_RMSE: 0.4981 - val_MSE: 0.2481\n",
            "\n",
            "Epoch 00139: val_loss did not improve from 0.23002\n",
            "Epoch 140/1000\n",
            "615/615 [==============================] - 7s 11ms/step - loss: 0.4415 - accuracy: 0.0954 - RMSE: 0.6632 - MSE: 0.4415 - val_loss: 0.2478 - val_accuracy: 0.0921 - val_RMSE: 0.4978 - val_MSE: 0.2478\n",
            "\n",
            "Epoch 00140: val_loss did not improve from 0.23002\n",
            "Epoch 141/1000\n",
            "615/615 [==============================] - 7s 11ms/step - loss: 0.4489 - accuracy: 0.0959 - RMSE: 0.6686 - MSE: 0.4489 - val_loss: 0.2465 - val_accuracy: 0.0921 - val_RMSE: 0.4965 - val_MSE: 0.2465\n",
            "\n",
            "Epoch 00141: val_loss did not improve from 0.23002\n",
            "Epoch 142/1000\n",
            "615/615 [==============================] - 7s 11ms/step - loss: 0.3996 - accuracy: 0.0847 - RMSE: 0.6305 - MSE: 0.3996 - val_loss: 0.2476 - val_accuracy: 0.0921 - val_RMSE: 0.4976 - val_MSE: 0.2476\n",
            "\n",
            "Epoch 00142: val_loss did not improve from 0.23002\n",
            "Epoch 143/1000\n",
            "615/615 [==============================] - 7s 11ms/step - loss: 0.4578 - accuracy: 0.1304 - RMSE: 0.6744 - MSE: 0.4578 - val_loss: 0.2474 - val_accuracy: 0.0921 - val_RMSE: 0.4974 - val_MSE: 0.2474\n",
            "\n",
            "Epoch 00143: val_loss did not improve from 0.23002\n",
            "Epoch 144/1000\n",
            "615/615 [==============================] - 7s 11ms/step - loss: 0.4547 - accuracy: 0.0820 - RMSE: 0.6672 - MSE: 0.4547 - val_loss: 0.2476 - val_accuracy: 0.0921 - val_RMSE: 0.4976 - val_MSE: 0.2476\n",
            "\n",
            "Epoch 00144: val_loss did not improve from 0.23002\n",
            "Epoch 145/1000\n",
            "615/615 [==============================] - 7s 11ms/step - loss: 0.4253 - accuracy: 0.0977 - RMSE: 0.6498 - MSE: 0.4253 - val_loss: 0.2476 - val_accuracy: 0.0921 - val_RMSE: 0.4976 - val_MSE: 0.2476\n",
            "\n",
            "Epoch 00145: val_loss did not improve from 0.23002\n",
            "Epoch 146/1000\n",
            "615/615 [==============================] - 7s 12ms/step - loss: 0.3698 - accuracy: 0.0868 - RMSE: 0.6054 - MSE: 0.3698 - val_loss: 0.2476 - val_accuracy: 0.0921 - val_RMSE: 0.4976 - val_MSE: 0.2476\n",
            "\n",
            "Epoch 00146: val_loss did not improve from 0.23002\n",
            "Epoch 147/1000\n",
            "615/615 [==============================] - 7s 11ms/step - loss: 0.4168 - accuracy: 0.0806 - RMSE: 0.6441 - MSE: 0.4168 - val_loss: 0.2478 - val_accuracy: 0.0921 - val_RMSE: 0.4978 - val_MSE: 0.2478\n",
            "\n",
            "Epoch 00147: val_loss did not improve from 0.23002\n",
            "Epoch 148/1000\n",
            "615/615 [==============================] - 7s 11ms/step - loss: 0.4648 - accuracy: 0.0818 - RMSE: 0.6788 - MSE: 0.4648 - val_loss: 0.2477 - val_accuracy: 0.0921 - val_RMSE: 0.4977 - val_MSE: 0.2477\n",
            "\n",
            "Epoch 00148: val_loss did not improve from 0.23002\n",
            "Epoch 149/1000\n",
            "615/615 [==============================] - 7s 11ms/step - loss: 0.3859 - accuracy: 0.0986 - RMSE: 0.6173 - MSE: 0.3859 - val_loss: 0.2475 - val_accuracy: 0.0921 - val_RMSE: 0.4975 - val_MSE: 0.2475\n",
            "\n",
            "Epoch 00149: val_loss did not improve from 0.23002\n",
            "Epoch 150/1000\n",
            "615/615 [==============================] - 7s 11ms/step - loss: 0.4255 - accuracy: 0.0877 - RMSE: 0.6506 - MSE: 0.4255 - val_loss: 0.2477 - val_accuracy: 0.0921 - val_RMSE: 0.4977 - val_MSE: 0.2477\n",
            "\n",
            "Epoch 00150: val_loss did not improve from 0.23002\n",
            "Epoch 151/1000\n",
            "615/615 [==============================] - 7s 12ms/step - loss: 0.4096 - accuracy: 0.1136 - RMSE: 0.6385 - MSE: 0.4096 - val_loss: 0.2437 - val_accuracy: 0.0921 - val_RMSE: 0.4937 - val_MSE: 0.2437\n",
            "\n",
            "Epoch 00151: val_loss did not improve from 0.23002\n",
            "Epoch 152/1000\n",
            "615/615 [==============================] - 7s 11ms/step - loss: 0.4200 - accuracy: 0.0919 - RMSE: 0.6447 - MSE: 0.4200 - val_loss: 0.2470 - val_accuracy: 0.0921 - val_RMSE: 0.4970 - val_MSE: 0.2470\n",
            "\n",
            "Epoch 00152: val_loss did not improve from 0.23002\n",
            "Epoch 153/1000\n",
            "615/615 [==============================] - 7s 11ms/step - loss: 0.3991 - accuracy: 0.0942 - RMSE: 0.6292 - MSE: 0.3991 - val_loss: 0.2474 - val_accuracy: 0.0921 - val_RMSE: 0.4974 - val_MSE: 0.2474\n",
            "\n",
            "Epoch 00153: val_loss did not improve from 0.23002\n",
            "Epoch 154/1000\n",
            "615/615 [==============================] - 7s 11ms/step - loss: 0.2975 - accuracy: 0.1131 - RMSE: 0.5397 - MSE: 0.2975 - val_loss: 0.2478 - val_accuracy: 0.0921 - val_RMSE: 0.4978 - val_MSE: 0.2478\n",
            "\n",
            "Epoch 00154: val_loss did not improve from 0.23002\n",
            "Epoch 155/1000\n",
            "615/615 [==============================] - 7s 11ms/step - loss: 0.5148 - accuracy: 0.0649 - RMSE: 0.7101 - MSE: 0.5148 - val_loss: 0.2477 - val_accuracy: 0.0921 - val_RMSE: 0.4977 - val_MSE: 0.2477\n",
            "\n",
            "Epoch 00155: val_loss did not improve from 0.23002\n",
            "Epoch 156/1000\n",
            "615/615 [==============================] - 7s 11ms/step - loss: 0.5170 - accuracy: 0.0997 - RMSE: 0.7127 - MSE: 0.5170 - val_loss: 0.2470 - val_accuracy: 0.0921 - val_RMSE: 0.4970 - val_MSE: 0.2470\n",
            "\n",
            "Epoch 00156: val_loss did not improve from 0.23002\n",
            "Epoch 157/1000\n",
            "615/615 [==============================] - 7s 11ms/step - loss: 0.3933 - accuracy: 0.0895 - RMSE: 0.6246 - MSE: 0.3933 - val_loss: 0.2450 - val_accuracy: 0.0921 - val_RMSE: 0.4949 - val_MSE: 0.2450\n",
            "\n",
            "Epoch 00157: val_loss did not improve from 0.23002\n",
            "Epoch 158/1000\n",
            "615/615 [==============================] - 7s 11ms/step - loss: 0.3739 - accuracy: 0.0931 - RMSE: 0.6101 - MSE: 0.3739 - val_loss: 0.2467 - val_accuracy: 0.0921 - val_RMSE: 0.4967 - val_MSE: 0.2467\n",
            "\n",
            "Epoch 00158: val_loss did not improve from 0.23002\n",
            "Epoch 159/1000\n",
            "615/615 [==============================] - 7s 11ms/step - loss: 0.4394 - accuracy: 0.0973 - RMSE: 0.6599 - MSE: 0.4394 - val_loss: 0.2481 - val_accuracy: 0.0921 - val_RMSE: 0.4981 - val_MSE: 0.2481\n",
            "\n",
            "Epoch 00159: val_loss did not improve from 0.23002\n",
            "Epoch 160/1000\n",
            "615/615 [==============================] - 7s 11ms/step - loss: 0.3883 - accuracy: 0.1101 - RMSE: 0.6212 - MSE: 0.3883 - val_loss: 0.2463 - val_accuracy: 0.0921 - val_RMSE: 0.4962 - val_MSE: 0.2463\n",
            "\n",
            "Epoch 00160: val_loss did not improve from 0.23002\n",
            "Epoch 161/1000\n",
            "615/615 [==============================] - 7s 11ms/step - loss: 0.4617 - accuracy: 0.1179 - RMSE: 0.6767 - MSE: 0.4617 - val_loss: 0.2469 - val_accuracy: 0.0921 - val_RMSE: 0.4968 - val_MSE: 0.2469\n",
            "\n",
            "Epoch 00161: val_loss did not improve from 0.23002\n",
            "Epoch 162/1000\n",
            "615/615 [==============================] - 7s 11ms/step - loss: 0.5038 - accuracy: 0.0938 - RMSE: 0.7039 - MSE: 0.5038 - val_loss: 0.2467 - val_accuracy: 0.0921 - val_RMSE: 0.4966 - val_MSE: 0.2467\n",
            "\n",
            "Epoch 00162: val_loss did not improve from 0.23002\n",
            "\n",
            "Epoch 00162: ReduceLROnPlateau reducing learning rate to 1.0000000474974514e-05.\n",
            "Epoch 00162: early stopping\n"
          ],
          "name": "stdout"
        }
      ]
    },
    {
      "cell_type": "markdown",
      "metadata": {
        "id": "wbRPWecH2XHD"
      },
      "source": [
        "### Plots "
      ]
    },
    {
      "cell_type": "code",
      "metadata": {
        "colab": {
          "base_uri": "https://localhost:8080/",
          "height": 283
        },
        "id": "tZeBNo9d2Zcg",
        "outputId": "c2f6356a-e0dd-4121-af39-2d72212fea84"
      },
      "source": [
        "plt.plot(history.history['loss'], label='loss')\n",
        "plt.xlabel('Epoch')\n",
        "plt.ylabel('loss')\n",
        "plt.ylim([0, 2.0])\n",
        "plt.legend(loc='lower right')\n",
        "plt.show()"
      ],
      "execution_count": 11,
      "outputs": [
        {
          "output_type": "display_data",
          "data": {
            "image/png": "[encoded data removed]",
            "text/plain": [
              "<Figure size 432x288 with 1 Axes>"
            ]
          },
          "metadata": {
            "tags": [],
            "needs_background": "light"
          }
        }
      ]
    },
    {
      "cell_type": "code",
      "metadata": {
        "colab": {
          "base_uri": "https://localhost:8080/",
          "height": 283
        },
        "id": "mWUviAKCJBks",
        "outputId": "bad68eff-e806-4a90-b507-553055027233"
      },
      "source": [
        "plt.plot(history.history['RMSE'], label='RMSE')\n",
        "plt.xlabel('Epoch')\n",
        "plt.ylabel('RMSE')\n",
        "plt.ylim([0, 1])\n",
        "plt.legend(loc='lower right')\n",
        "plt.show()"
      ],
      "execution_count": 12,
      "outputs": [
        {
          "output_type": "display_data",
          "data": {
            "image/png": "[encoded data removed]",
            "text/plain": [
              "<Figure size 432x288 with 1 Axes>"
            ]
          },
          "metadata": {
            "tags": [],
            "needs_background": "light"
          }
        }
      ]
    },
    {
      "cell_type": "code",
      "metadata": {
        "colab": {
          "base_uri": "https://localhost:8080/",
          "height": 279
        },
        "id": "g1safbSx2c1M",
        "outputId": "f1868aff-1676-4840-dcd5-84663c2d60f0"
      },
      "source": [
        "plt.plot(history.history['val_loss'], label = 'val_loss')\n",
        "plt.xlabel('Epoch')\n",
        "plt.ylabel('val_loss')\n",
        "plt.ylim([0, 1.5])\n",
        "plt.legend(loc='lower right')\n",
        "plt.show()"
      ],
      "execution_count": 13,
      "outputs": [
        {
          "output_type": "display_data",
          "data": {
            "image/png": "[encoded data removed]",
            "text/plain": [
              "<Figure size 432x288 with 1 Axes>"
            ]
          },
          "metadata": {
            "tags": [],
            "needs_background": "light"
          }
        }
      ]
    },
    {
      "cell_type": "code",
      "metadata": {
        "colab": {
          "base_uri": "https://localhost:8080/",
          "height": 283
        },
        "id": "r7EL4KSEjUJm",
        "outputId": "a8ca8cb8-c213-40bd-c13a-10b186862a0f"
      },
      "source": [
        "plt.plot(history.history['val_RMSE'], label = 'val_RMSE')\n",
        "plt.xlabel('Epoch')\n",
        "plt.ylabel('val_RMSE')\n",
        "plt.ylim([0,2])\n",
        "plt.legend(loc='lower right')\n",
        "plt.show()"
      ],
      "execution_count": 14,
      "outputs": [
        {
          "output_type": "display_data",
          "data": {
            "image/png": "[encoded data removed]",
            "text/plain": [
              "<Figure size 432x288 with 1 Axes>"
            ]
          },
          "metadata": {
            "tags": [],
            "needs_background": "light"
          }
        }
      ]
    },
    {
      "cell_type": "markdown",
      "metadata": {
        "id": "cMJnmNFy2je8"
      },
      "source": [
        "### Evaluation "
      ]
    },
    {
      "cell_type": "code",
      "metadata": {
        "colab": {
          "base_uri": "https://localhost:8080/"
        },
        "id": "vizTbYSM2k42",
        "outputId": "fd8598ac-5f0a-4639-8581-05a22e67da92"
      },
      "source": [
        "print(\"\\nEvaluating val ds... \")\n",
        "test_loss, test_acc, test_rmse, test_mse = model.evaluate(val_ds, verbose=1)"
      ],
      "execution_count": 15,
      "outputs": [
        {
          "output_type": "stream",
          "text": [
            "\n",
            "Evaluating val ds... \n",
            "76/76 [==============================] - 0s 4ms/step - loss: 0.2467 - accuracy: 0.0921 - RMSE: 0.4966 - MSE: 0.2467\n"
          ],
          "name": "stdout"
        }
      ]
    },
    {
      "cell_type": "code",
      "metadata": {
        "colab": {
          "base_uri": "https://localhost:8080/"
        },
        "id": "CyLkAkiOcwCc",
        "outputId": "37c8e373-ba24-42d6-e99e-84baa290f70e"
      },
      "source": [
        "print(\"\\nEvaluating test ds... \")\n",
        "test_loss, test_acc, test_rmse, test_mse = model.evaluate(test_ds, verbose=1)"
      ],
      "execution_count": 16,
      "outputs": [
        {
          "output_type": "stream",
          "text": [
            "\n",
            "Evaluating test ds... \n",
            "1/1 [==============================] - 0s 223ms/step - loss: 0.3383 - accuracy: 0.0395 - RMSE: 0.5817 - MSE: 0.3383\n"
          ],
          "name": "stdout"
        }
      ]
    },
    {
      "cell_type": "markdown",
      "metadata": {
        "id": "wXlekjHS2mI5"
      },
      "source": [
        "### Prediction"
      ]
    },
    {
      "cell_type": "code",
      "metadata": {
        "colab": {
          "base_uri": "https://localhost:8080/",
          "height": 298
        },
        "id": "HyY7eEh02oHI",
        "outputId": "5c11701f-0746-41a9-ba0c-e3173d6d8ac6"
      },
      "source": [
        "plt.imshow(image_batch_val[0][:,:,0])\n",
        "label = label_batch_val[0].numpy()\n",
        "plt.title(label)\n",
        "plt.axis(\"off\")\n",
        "predictions = model.predict(image_batch_val)\n",
        "print(\"predictions shape:\", predictions.shape)\n",
        "print(\"prediction:\", predictions)"
      ],
      "execution_count": 17,
      "outputs": [
        {
          "output_type": "stream",
          "text": [
            "predictions shape: (1, 1)\n",
            "prediction: [[0.7290736]]\n"
          ],
          "name": "stdout"
        },
        {
          "output_type": "display_data",
          "data": {
            "image/png": "[encoded data removed]",
            "text/plain": [
              "<Figure size 432x288 with 1 Axes>"
            ]
          },
          "metadata": {
            "tags": [],
            "needs_background": "light"
          }
        }
      ]
    },
    {
      "cell_type": "code",
      "metadata": {
        "colab": {
          "base_uri": "https://localhost:8080/",
          "height": 298
        },
        "id": "cVPLEMd-XTdU",
        "outputId": "ba2f89f6-8aea-4c7d-b502-76b560a4db04"
      },
      "source": [
        "indexes_list = []\n",
        "for i in range(len(image_batch_test)):\n",
        "  indexes_list.append(i)\n",
        "\n",
        "predictions = model.predict(test_ds)\n",
        "error = abs(predictions[:][0] - label_batch_test.numpy())\n",
        "plt.title(\"Plot of errors between real yield value and predicted one on the test set\")\n",
        "plt.bar(indexes_list,error)"
      ],
      "execution_count": 18,
      "outputs": [
        {
          "output_type": "execute_result",
          "data": {
            "text/plain": [
              "<BarContainer object of 76 artists>"
            ]
          },
          "metadata": {
            "tags": []
          },
          "execution_count": 18
        },
        {
          "output_type": "display_data",
          "data": {
            "image/png": "[encoded data removed]",
            "text/plain": [
              "<Figure size 432x288 with 1 Axes>"
            ]
          },
          "metadata": {
            "tags": [],
            "needs_background": "light"
          }
        }
      ]
    },
    {
      "cell_type": "code",
      "metadata": {
        "colab": {
          "base_uri": "https://localhost:8080/",
          "height": 298
        },
        "id": "gHrPMPq--St2",
        "outputId": "321c7a8c-1503-45fb-c3c6-d5ebc45cacf3"
      },
      "source": [
        "indexes_list = []\n",
        "for i in range(len(image_batch_test)):\n",
        "  indexes_list.append(i)\n",
        "\n",
        "predictions = model.predict(test_ds)\n",
        "error = abs(predictions[:][0] - label_batch_test.numpy())/label_batch_test.numpy()\n",
        "# print(error[29])\n",
        "# print(label_batch_test[29].numpy())\n",
        "plt.title(\"Plot of percentage errors between real yield value and predicted one on the test set\")\n",
        "plt.bar(indexes_list,error)"
      ],
      "execution_count": 19,
      "outputs": [
        {
          "output_type": "execute_result",
          "data": {
            "text/plain": [
              "<BarContainer object of 76 artists>"
            ]
          },
          "metadata": {
            "tags": []
          },
          "execution_count": 19
        },
        {
          "output_type": "display_data",
          "data": {
            "image/png": "[encoded data removed]",
            "text/plain": [
              "<Figure size 432x288 with 1 Axes>"
            ]
          },
          "metadata": {
            "tags": [],
            "needs_background": "light"
          }
        }
      ]
    }
  ]
}
