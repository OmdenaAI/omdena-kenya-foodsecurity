{
  "nbformat": 4,
  "nbformat_minor": 0,
  "metadata": {
    "colab": {
      "name": "CNN_LSTM_yield_prediction_per_year_departments.ipynb",
      "provenance": [],
      "collapsed_sections": [
        "4-40NNzjVOW6",
        "tobj2BKBlfnn",
        "UCXR8GBjn7rL",
        "tDcTzOzNOnWl",
        "-uqHY21kS1zt",
        "KIGVQDDpOsfi",
        "31EoWCp-PEMN"
      ]
    },
    "kernelspec": {
      "name": "python3",
      "display_name": "Python 3"
    }
  },
  "cells": [
    {
      "cell_type": "markdown",
      "metadata": {
        "id": "wz6Y1rx8Iqvq"
      },
      "source": [
        "Collaborators: Margaux Masson-Forsythe"
      ]
    },
    {
      "cell_type": "markdown",
      "metadata": {
        "id": "4-40NNzjVOW6"
      },
      "source": [
        "## Imports "
      ]
    },
    {
      "cell_type": "code",
      "metadata": {
        "id": "Mo5c7TCxlUMJ"
      },
      "source": [
        "# !pip install Hub && pip install wget"
      ],
      "execution_count": 30,
      "outputs": []
    },
    {
      "cell_type": "code",
      "metadata": {
        "colab": {
          "base_uri": "https://localhost:8080/"
        },
        "id": "GQVD0j1mlbrx",
        "outputId": "2009b56c-141a-4cd6-eb0b-fa8f4960b2eb"
      },
      "source": [
        "import tensorflow as tf\n",
        "from hub import Dataset\n",
        "from tensorflow.keras import datasets, layers, models\n",
        "import matplotlib.pyplot as plt\n",
        "import numpy as np\n",
        "import os\n",
        "import pandas as pd\n",
        "print(tf.__version__)\n",
        "# check if notebook is using GPU\n",
        "tf.test.gpu_device_name()\n",
        "import wget"
      ],
      "execution_count": 2,
      "outputs": [
        {
          "output_type": "stream",
          "text": [
            "2.4.0\n"
          ],
          "name": "stdout"
        }
      ]
    },
    {
      "cell_type": "markdown",
      "metadata": {
        "id": "tobj2BKBlfnn"
      },
      "source": [
        "## Load data"
      ]
    },
    {
      "cell_type": "code",
      "metadata": {
        "colab": {
          "base_uri": "https://localhost:8080/"
        },
        "id": "Et8L0NDSlcJC",
        "outputId": "ea4259db-3a6f-4191-fd0b-5956cb2f8e08"
      },
      "source": [
        "print(\"Load data from ActiveLoop ...\")\n",
        "\n",
        "tag15 = \"margauxmforsythe/Senegal_histograms_weeks_19_30_departments_2015\"\n",
        "tag16 = \"margauxmforsythe/Senegal_histograms_weeks_19_30_departments_2016\"\n",
        "tag17 = \"margauxmforsythe/Senegal_histograms_weeks_19_30_departments_2017\"\n",
        "tag18 = \"margauxmforsythe/Senegal_histograms_weeks_19_30_departments_2018\"\n",
        "histograms = np.concatenate((Dataset(tag15)[\"histograms\"].compute(), \n",
        "                            Dataset(tag16)[\"histograms\"].compute(),\n",
        "                            Dataset(tag17)[\"histograms\"].compute(),\n",
        "                            Dataset(tag18)[\"histograms\"].compute()), axis=0)\n",
        "\n",
        "print(\"Dataset shape of histograms: {}\".format(histograms[0].shape))\n",
        "image_count = histograms.shape[0]\n",
        "print(\"There are {} histograms in this dataset\".format(image_count))"
      ],
      "execution_count": 3,
      "outputs": [
        {
          "output_type": "stream",
          "text": [
            "Load data from ActiveLoop ...\n",
            "Dataset shape of histograms: (32, 11, 9)\n",
            "There are 180 histograms in this dataset\n"
          ],
          "name": "stdout"
        }
      ]
    },
    {
      "cell_type": "markdown",
      "metadata": {
        "id": "x03Ueg4wly3Y"
      },
      "source": [
        "Prepare data for CNN-LSTM model"
      ]
    },
    {
      "cell_type": "code",
      "metadata": {
        "colab": {
          "base_uri": "https://localhost:8080/"
        },
        "id": "eaXeBxh4lxoi",
        "outputId": "d107b4d5-095e-4f45-ce7e-ecf1c1df5e08"
      },
      "source": [
        "# histograms_ActiveLoop = ds[\"histograms\"].compute()\n",
        "histograms_CNN_LSTM = []\n",
        "for i in range(image_count):\n",
        "  histogram_all_timestamps_transposed = np.transpose(histograms[i], (1,0,2))\n",
        "  timestamps = []\n",
        "  for j in range(histograms[i].shape[1]): # going through all timestamps\n",
        "    timestamps.append(np.expand_dims(histogram_all_timestamps_transposed[j], axis=0))\n",
        "  histograms_CNN_LSTM.append(timestamps)\n",
        "histograms = histograms_CNN_LSTM\n",
        "input_shape_cnn = histograms[0][0].shape\n",
        "print(input_shape_cnn)\n",
        "input_shape_cnn_lstm = (len(histograms[0]),) + input_shape_cnn\n",
        "print(input_shape_cnn_lstm)"
      ],
      "execution_count": 4,
      "outputs": [
        {
          "output_type": "stream",
          "text": [
            "(1, 32, 9)\n",
            "(11, 1, 32, 9)\n"
          ],
          "name": "stdout"
        }
      ]
    },
    {
      "cell_type": "code",
      "metadata": {
        "colab": {
          "base_uri": "https://localhost:8080/",
          "height": 208
        },
        "id": "t2tMxsxsrU_S",
        "outputId": "0f6a54e0-e114-48f5-de3e-92c602893828"
      },
      "source": [
        "import matplotlib.pyplot as plt\n",
        "for i in range(9):\n",
        "  plt.subplot(3,3,i+1)\n",
        "  plt.imshow(histograms[0][0][:,:,i])"
      ],
      "execution_count": 5,
      "outputs": [
        {
          "output_type": "display_data",
          "data": {
            "image/png": "[encoded data removed]",
            "text/plain": [
              "<Figure size 432x288 with 9 Axes>"
            ]
          },
          "metadata": {
            "tags": [],
            "needs_background": "light"
          }
        }
      ]
    },
    {
      "cell_type": "code",
      "metadata": {
        "colab": {
          "base_uri": "https://localhost:8080/"
        },
        "id": "k-UqJW7QmDYd",
        "outputId": "3a335f47-dc4a-4486-d8e1-b15e52907990"
      },
      "source": [
        "test_ds = tf.data.Dataset.from_tensor_slices(histograms)\n",
        "test_ds = test_ds.batch(len(test_ds))\n",
        "test_ds"
      ],
      "execution_count": 6,
      "outputs": [
        {
          "output_type": "execute_result",
          "data": {
            "text/plain": [
              "<BatchDataset shapes: (None, 11, 1, 32, 9), types: tf.float64>"
            ]
          },
          "metadata": {
            "tags": []
          },
          "execution_count": 6
        }
      ]
    },
    {
      "cell_type": "code",
      "metadata": {
        "colab": {
          "base_uri": "https://localhost:8080/"
        },
        "id": "BO0OIb8gtnC3",
        "outputId": "d8757abe-fcac-4456-cf83-d89be4bd6482"
      },
      "source": [
        "# names = np.load(\"/content/names_2015-01-01_2016-01-01.npy\")\n",
        "names = ['dakar', 'guediawaye', 'pikine', 'rufisque', 'bambey', 'diourbel', 'mbacke',\n",
        " 'fatick', 'foundiougne', 'gossas', 'birkilane', 'kaffrine', 'koungheul',\n",
        " 'maleme hodar', 'guinguineo', 'kaolack', 'nioro du rip', 'kedougou',\n",
        " 'salemata', 'saraya', 'kolda', 'medina yoro foula', 'velingara', 'kebemer',\n",
        " 'linguere', 'louga', 'kanel', 'matam', 'ranerou ferlo', 'dagana', 'podor',\n",
        " 'saint-louis', 'bounkiling', 'goudomp', 'sedhiou', 'bakel', 'goudiry', 'koupentoum',\n",
        " 'tambacounda', 'mbour', 'thies', 'tivaouane', 'bignona', 'oussouye',\n",
        " 'ziguinchor']\n",
        "\n",
        "print(names)\n",
        "print(len(names))"
      ],
      "execution_count": 7,
      "outputs": [
        {
          "output_type": "stream",
          "text": [
            "['dakar', 'guediawaye', 'pikine', 'rufisque', 'bambey', 'diourbel', 'mbacke', 'fatick', 'foundiougne', 'gossas', 'birkilane', 'kaffrine', 'koungheul', 'maleme hodar', 'guinguineo', 'kaolack', 'nioro du rip', 'kedougou', 'salemata', 'saraya', 'kolda', 'medina yoro foula', 'velingara', 'kebemer', 'linguere', 'louga', 'kanel', 'matam', 'ranerou ferlo', 'dagana', 'podor', 'saint-louis', 'bounkiling', 'goudomp', 'sedhiou', 'bakel', 'goudiry', 'koupentoum', 'tambacounda', 'mbour', 'thies', 'tivaouane', 'bignona', 'oussouye', 'ziguinchor']\n",
            "45\n"
          ],
          "name": "stdout"
        }
      ]
    },
    {
      "cell_type": "markdown",
      "metadata": {
        "id": "UCXR8GBjn7rL"
      },
      "source": [
        "## Model"
      ]
    },
    {
      "cell_type": "code",
      "metadata": {
        "colab": {
          "base_uri": "https://localhost:8080/"
        },
        "id": "LqUtkjBtmSBA",
        "outputId": "a5e12ee5-06d9-4347-b33c-6660b0e53812"
      },
      "source": [
        "# CNN-LSTM \n",
        "# https://www.mdpi.com/1424-8220/19/20/4363/htm\n",
        "from keras.layers.wrappers import TimeDistributed\n",
        "from keras.layers import *\n",
        "from keras import regularizers\n",
        "model=models.Sequential()\n",
        "\n",
        "model.add(TimeDistributed(Conv2D(32, (1, 2), activation='relu',\n",
        "                                  kernel_regularizer=regularizers.l2(0.001),\n",
        "                                  input_shape=(input_shape_cnn)), input_shape=input_shape_cnn_lstm))\n",
        "model.add(TimeDistributed(BatchNormalization()))\n",
        "model.add(TimeDistributed(MaxPooling2D(pool_size=(1, 2))))\n",
        "\n",
        "model.add(TimeDistributed(Conv2D(64, (1, 2), activation='relu',\n",
        "                                  kernel_regularizer=regularizers.l2(0.001))))\n",
        "model.add(TimeDistributed(BatchNormalization()))\n",
        "model.add(TimeDistributed(MaxPooling2D(pool_size=(1, 2))))\n",
        "\n",
        "model.add(TimeDistributed(Flatten()))\n",
        "model.add(LSTM(256, return_sequences=True, activation='relu', dropout=0.25));\n",
        "\n",
        "model.add(TimeDistributed(Dense(64)))\n",
        "model.add(TimeDistributed(Flatten()))\n",
        "model.add(TimeDistributed(Dropout(0.5)))\n",
        "model.add(TimeDistributed(Dense(1)))\n",
        "model.add(GlobalAveragePooling1D(name=\"global_avg_flow\"))\n",
        "\n",
        "model.summary()"
      ],
      "execution_count": 8,
      "outputs": [
        {
          "output_type": "stream",
          "text": [
            "Model: \"sequential\"\n",
            "_________________________________________________________________\n",
            "Layer (type)                 Output Shape              Param #   \n",
            "=================================================================\n",
            "time_distributed (TimeDistri (None, 11, 1, 31, 32)     608       \n",
            "_________________________________________________________________\n",
            "time_distributed_1 (TimeDist (None, 11, 1, 31, 32)     128       \n",
            "_________________________________________________________________\n",
            "time_distributed_2 (TimeDist (None, 11, 1, 15, 32)     0         \n",
            "_________________________________________________________________\n",
            "time_distributed_3 (TimeDist (None, 11, 1, 14, 64)     4160      \n",
            "_________________________________________________________________\n",
            "time_distributed_4 (TimeDist (None, 11, 1, 14, 64)     256       \n",
            "_________________________________________________________________\n",
            "time_distributed_5 (TimeDist (None, 11, 1, 7, 64)      0         \n",
            "_________________________________________________________________\n",
            "time_distributed_6 (TimeDist (None, 11, 448)           0         \n",
            "_________________________________________________________________\n",
            "lstm (LSTM)                  (None, 11, 256)           721920    \n",
            "_________________________________________________________________\n",
            "time_distributed_7 (TimeDist (None, 11, 64)            16448     \n",
            "_________________________________________________________________\n",
            "time_distributed_8 (TimeDist (None, 11, 64)            0         \n",
            "_________________________________________________________________\n",
            "time_distributed_9 (TimeDist (None, 11, 64)            0         \n",
            "_________________________________________________________________\n",
            "time_distributed_10 (TimeDis (None, 11, 1)             65        \n",
            "_________________________________________________________________\n",
            "global_avg_flow (GlobalAvera (None, 1)                 0         \n",
            "=================================================================\n",
            "Total params: 743,585\n",
            "Trainable params: 743,393\n",
            "Non-trainable params: 192\n",
            "_________________________________________________________________\n"
          ],
          "name": "stdout"
        }
      ]
    },
    {
      "cell_type": "code",
      "metadata": {
        "id": "3OsnNCRroTRp"
      },
      "source": [
        "initial_learning_rate = 0.0001\n",
        "\n",
        "model.compile(optimizer=tf.keras.optimizers.Adam(learning_rate=initial_learning_rate),\n",
        "              loss=tf.keras.losses.MeanSquaredError(),\n",
        "              metrics=['accuracy', tf.keras.metrics.RootMeanSquaredError(name='RMSE'), tf.keras.losses.MeanSquaredError(name='MSE')])"
      ],
      "execution_count": 9,
      "outputs": []
    },
    {
      "cell_type": "markdown",
      "metadata": {
        "id": "tDcTzOzNOnWl"
      },
      "source": [
        "## Maize"
      ]
    },
    {
      "cell_type": "code",
      "metadata": {
        "colab": {
          "base_uri": "https://localhost:8080/",
          "height": 35
        },
        "id": "CWY02NcFop0u",
        "outputId": "c9eecd81-e39e-427a-869a-537f40c8f781"
      },
      "source": [
        "wget.download(\"https://omdena-gpsdd-senegal.s3-us-west-1.amazonaws.com/data/IPAR_data/pretrained_weights_CNN_LSTM/checkpoint_maize_b16_CNN-LSTM.h5\", \"./checkpoint-maize.h5\")"
      ],
      "execution_count": 10,
      "outputs": [
        {
          "output_type": "execute_result",
          "data": {
            "application/vnd.google.colaboratory.intrinsic+json": {
              "type": "string"
            },
            "text/plain": [
              "'./checkpoint-maize.h5'"
            ]
          },
          "metadata": {
            "tags": []
          },
          "execution_count": 10
        }
      ]
    },
    {
      "cell_type": "code",
      "metadata": {
        "id": "bffshrvDvtA3"
      },
      "source": [
        "model.load_weights(\"./checkpoint-maize.h5\")"
      ],
      "execution_count": 11,
      "outputs": []
    },
    {
      "cell_type": "code",
      "metadata": {
        "colab": {
          "base_uri": "https://localhost:8080/"
        },
        "id": "g33JbYDttfEc",
        "outputId": "eb1fd49e-a67b-4161-9448-097f4cbc3e24"
      },
      "source": [
        "predictions = model.predict(test_ds)\n",
        "i = 0\n",
        "i_names = 0\n",
        "year = 2015\n",
        "years = []\n",
        "\n",
        "indexes = []\n",
        "yield_years = []\n",
        "department_names = []\n",
        "prediction_locations = []\n",
        "yields_predicted = []\n",
        "\n",
        "for prediction in predictions:\n",
        "  indexes.append(i)\n",
        "  years.append(year)\n",
        "  department_names.append(names[i_names].split(\"-\")[-1])\n",
        "  # print(\"prediction {} for department: {} is {}\".format(year, names[i_names].split(\"-\")[-1], prediction[0]))\n",
        "  prediction_locations.append(prediction[0])\n",
        "  yields_predicted.append(prediction[0])\n",
        "  i = i + 1\n",
        "  i_names = i_names + 1\n",
        "  if i_names == len(names):\n",
        "    i_names = 0\n",
        "    year = year + 1\n",
        "    yield_years.append(yields_predicted)\n",
        "    yields_predicted = []\n",
        "\n",
        "i"
      ],
      "execution_count": 12,
      "outputs": [
        {
          "output_type": "execute_result",
          "data": {
            "text/plain": [
              "180"
            ]
          },
          "metadata": {
            "tags": []
          },
          "execution_count": 12
        }
      ]
    },
    {
      "cell_type": "code",
      "metadata": {
        "colab": {
          "base_uri": "https://localhost:8080/",
          "height": 548
        },
        "id": "XBOfXCqTHccs",
        "outputId": "b7b6bbfc-9beb-4534-cb09-8291833033ed"
      },
      "source": [
        "print(len(yield_years)) # number of years \n",
        "print(len(yield_years[0])) # number of departments \n",
        "df_years = pd.DataFrame(yield_years, columns=department_names[0:45], index=[2015,2016,2017,2018])\n",
        "df_years = df_years.T\n",
        "df_years.head(15)\n"
      ],
      "execution_count": 13,
      "outputs": [
        {
          "output_type": "stream",
          "text": [
            "4\n",
            "45\n"
          ],
          "name": "stdout"
        },
        {
          "output_type": "execute_result",
          "data": {
            "text/html": [
              "<div>\n",
              "<style scoped>\n",
              "    .dataframe tbody tr th:only-of-type {\n",
              "        vertical-align: middle;\n",
              "    }\n",
              "\n",
              "    .dataframe tbody tr th {\n",
              "        vertical-align: top;\n",
              "    }\n",
              "\n",
              "    .dataframe thead th {\n",
              "        text-align: right;\n",
              "    }\n",
              "</style>\n",
              "<table border=\"1\" class=\"dataframe\">\n",
              "  <thead>\n",
              "    <tr style=\"text-align: right;\">\n",
              "      <th></th>\n",
              "      <th>2015</th>\n",
              "      <th>2016</th>\n",
              "      <th>2017</th>\n",
              "      <th>2018</th>\n",
              "    </tr>\n",
              "  </thead>\n",
              "  <tbody>\n",
              "    <tr>\n",
              "      <th>dakar</th>\n",
              "      <td>0.513722</td>\n",
              "      <td>0.454306</td>\n",
              "      <td>0.670732</td>\n",
              "      <td>0.116870</td>\n",
              "    </tr>\n",
              "    <tr>\n",
              "      <th>guediawaye</th>\n",
              "      <td>0.589863</td>\n",
              "      <td>0.557507</td>\n",
              "      <td>0.722599</td>\n",
              "      <td>0.553042</td>\n",
              "    </tr>\n",
              "    <tr>\n",
              "      <th>pikine</th>\n",
              "      <td>1.058214</td>\n",
              "      <td>1.196911</td>\n",
              "      <td>1.370633</td>\n",
              "      <td>0.970550</td>\n",
              "    </tr>\n",
              "    <tr>\n",
              "      <th>rufisque</th>\n",
              "      <td>0.770421</td>\n",
              "      <td>1.054813</td>\n",
              "      <td>0.860077</td>\n",
              "      <td>1.273645</td>\n",
              "    </tr>\n",
              "    <tr>\n",
              "      <th>bambey</th>\n",
              "      <td>0.834818</td>\n",
              "      <td>0.515306</td>\n",
              "      <td>1.325377</td>\n",
              "      <td>0.775258</td>\n",
              "    </tr>\n",
              "    <tr>\n",
              "      <th>diourbel</th>\n",
              "      <td>0.953486</td>\n",
              "      <td>0.617910</td>\n",
              "      <td>0.912604</td>\n",
              "      <td>0.714598</td>\n",
              "    </tr>\n",
              "    <tr>\n",
              "      <th>mbacke</th>\n",
              "      <td>1.138080</td>\n",
              "      <td>0.851677</td>\n",
              "      <td>1.302282</td>\n",
              "      <td>0.682192</td>\n",
              "    </tr>\n",
              "    <tr>\n",
              "      <th>fatick</th>\n",
              "      <td>0.552395</td>\n",
              "      <td>0.026315</td>\n",
              "      <td>0.825908</td>\n",
              "      <td>0.042746</td>\n",
              "    </tr>\n",
              "    <tr>\n",
              "      <th>foundiougne</th>\n",
              "      <td>0.420832</td>\n",
              "      <td>0.405375</td>\n",
              "      <td>1.118739</td>\n",
              "      <td>1.130413</td>\n",
              "    </tr>\n",
              "    <tr>\n",
              "      <th>gossas</th>\n",
              "      <td>1.010448</td>\n",
              "      <td>0.834225</td>\n",
              "      <td>1.113936</td>\n",
              "      <td>1.225333</td>\n",
              "    </tr>\n",
              "    <tr>\n",
              "      <th>birkilane</th>\n",
              "      <td>0.606642</td>\n",
              "      <td>0.270671</td>\n",
              "      <td>1.359879</td>\n",
              "      <td>1.321237</td>\n",
              "    </tr>\n",
              "    <tr>\n",
              "      <th>kaffrine</th>\n",
              "      <td>0.973777</td>\n",
              "      <td>0.681374</td>\n",
              "      <td>1.300836</td>\n",
              "      <td>1.015839</td>\n",
              "    </tr>\n",
              "    <tr>\n",
              "      <th>koungheul</th>\n",
              "      <td>1.166018</td>\n",
              "      <td>0.643461</td>\n",
              "      <td>1.059083</td>\n",
              "      <td>0.987523</td>\n",
              "    </tr>\n",
              "    <tr>\n",
              "      <th>maleme hodar</th>\n",
              "      <td>1.105004</td>\n",
              "      <td>0.847949</td>\n",
              "      <td>1.299495</td>\n",
              "      <td>1.096937</td>\n",
              "    </tr>\n",
              "    <tr>\n",
              "      <th>guinguineo</th>\n",
              "      <td>0.852702</td>\n",
              "      <td>0.817875</td>\n",
              "      <td>0.820080</td>\n",
              "      <td>1.137187</td>\n",
              "    </tr>\n",
              "  </tbody>\n",
              "</table>\n",
              "</div>"
            ],
            "text/plain": [
              "                  2015      2016      2017      2018\n",
              "dakar         0.513722  0.454306  0.670732  0.116870\n",
              "guediawaye    0.589863  0.557507  0.722599  0.553042\n",
              "pikine        1.058214  1.196911  1.370633  0.970550\n",
              "rufisque      0.770421  1.054813  0.860077  1.273645\n",
              "bambey        0.834818  0.515306  1.325377  0.775258\n",
              "diourbel      0.953486  0.617910  0.912604  0.714598\n",
              "mbacke        1.138080  0.851677  1.302282  0.682192\n",
              "fatick        0.552395  0.026315  0.825908  0.042746\n",
              "foundiougne   0.420832  0.405375  1.118739  1.130413\n",
              "gossas        1.010448  0.834225  1.113936  1.225333\n",
              "birkilane     0.606642  0.270671  1.359879  1.321237\n",
              "kaffrine      0.973777  0.681374  1.300836  1.015839\n",
              "koungheul     1.166018  0.643461  1.059083  0.987523\n",
              "maleme hodar  1.105004  0.847949  1.299495  1.096937\n",
              "guinguineo    0.852702  0.817875  0.820080  1.137187"
            ]
          },
          "metadata": {
            "tags": []
          },
          "execution_count": 13
        }
      ]
    },
    {
      "cell_type": "code",
      "metadata": {
        "colab": {
          "base_uri": "https://localhost:8080/",
          "height": 452
        },
        "id": "6-Vg6S-4Jf59",
        "outputId": "6b91bce0-f0f7-4ce4-805f-e1fe8abaf045"
      },
      "source": [
        "df_years.plot.bar(figsize=(40, 10), title=\"Predicted Maize yield for all departments over 4 years\")"
      ],
      "execution_count": 14,
      "outputs": [
        {
          "output_type": "execute_result",
          "data": {
            "text/plain": [
              "<matplotlib.axes._subplots.AxesSubplot at 0x7f088e745ba8>"
            ]
          },
          "metadata": {
            "tags": []
          },
          "execution_count": 14
        },
        {
          "output_type": "display_data",
          "data": {
            "image/png": "[encoded data removed]",
            "text/plain": [
              "<Figure size 2880x720 with 1 Axes>"
            ]
          },
          "metadata": {
            "tags": [],
            "needs_background": "light"
          }
        }
      ]
    },
    {
      "cell_type": "markdown",
      "metadata": {
        "id": "-uqHY21kS1zt"
      },
      "source": [
        "### Comparison with yield data from reports (not really helpful actually)"
      ]
    },
    {
      "cell_type": "code",
      "metadata": {
        "colab": {
          "base_uri": "https://localhost:8080/",
          "height": 669
        },
        "id": "DM45a8OfS7eQ",
        "outputId": "664c8818-a5b9-46e0-9f76-b2aa4f84f6fd"
      },
      "source": [
        "wget.download(\"https://omdena-gpsdd-senegal.s3-us-west-1.amazonaws.com/data/yields_ground_truth_csv_files/senegal_yields_standardized_departments.csv\", \"senegal_yields_standardized_departments.csv\")\n",
        "df_real_yields = pd.read_csv('/content/senegal_yields_standardized_departments.csv')\n",
        "df_real_yields.head(20)"
      ],
      "execution_count": 18,
      "outputs": [
        {
          "output_type": "execute_result",
          "data": {
            "text/html": [
              "<div>\n",
              "<style scoped>\n",
              "    .dataframe tbody tr th:only-of-type {\n",
              "        vertical-align: middle;\n",
              "    }\n",
              "\n",
              "    .dataframe tbody tr th {\n",
              "        vertical-align: top;\n",
              "    }\n",
              "\n",
              "    .dataframe thead th {\n",
              "        text-align: right;\n",
              "    }\n",
              "</style>\n",
              "<table border=\"1\" class=\"dataframe\">\n",
              "  <thead>\n",
              "    <tr style=\"text-align: right;\">\n",
              "      <th></th>\n",
              "      <th>Region_main</th>\n",
              "      <th>Region</th>\n",
              "      <th>Year</th>\n",
              "      <th>Crop</th>\n",
              "      <th>Area</th>\n",
              "      <th>Production</th>\n",
              "      <th>Yield</th>\n",
              "      <th>Total_area</th>\n",
              "      <th>percentageion</th>\n",
              "    </tr>\n",
              "  </thead>\n",
              "  <tbody>\n",
              "    <tr>\n",
              "      <th>0</th>\n",
              "      <td>DAKAR</td>\n",
              "      <td>Rufisque</td>\n",
              "      <td>2014</td>\n",
              "      <td>Arachide</td>\n",
              "      <td>2943.0</td>\n",
              "      <td>589</td>\n",
              "      <td>0.200136</td>\n",
              "      <td>130000</td>\n",
              "      <td>2.263846</td>\n",
              "    </tr>\n",
              "    <tr>\n",
              "      <th>1</th>\n",
              "      <td>DAKAR</td>\n",
              "      <td>Rufisque</td>\n",
              "      <td>2015</td>\n",
              "      <td>Arachide</td>\n",
              "      <td>1233.0</td>\n",
              "      <td>935</td>\n",
              "      <td>0.758313</td>\n",
              "      <td>130000</td>\n",
              "      <td>0.948462</td>\n",
              "    </tr>\n",
              "    <tr>\n",
              "      <th>2</th>\n",
              "      <td>DAKAR</td>\n",
              "      <td>Rufisque</td>\n",
              "      <td>2016</td>\n",
              "      <td>Arachide</td>\n",
              "      <td>1248.0</td>\n",
              "      <td>257</td>\n",
              "      <td>0.205929</td>\n",
              "      <td>130000</td>\n",
              "      <td>0.960000</td>\n",
              "    </tr>\n",
              "    <tr>\n",
              "      <th>3</th>\n",
              "      <td>DAKAR</td>\n",
              "      <td>Rufisque</td>\n",
              "      <td>2014</td>\n",
              "      <td>Cowpea</td>\n",
              "      <td>1178.0</td>\n",
              "      <td>177</td>\n",
              "      <td>0.150255</td>\n",
              "      <td>130000</td>\n",
              "      <td>0.906154</td>\n",
              "    </tr>\n",
              "    <tr>\n",
              "      <th>4</th>\n",
              "      <td>DAKAR</td>\n",
              "      <td>Rufisque</td>\n",
              "      <td>2015</td>\n",
              "      <td>Cowpea</td>\n",
              "      <td>858.0</td>\n",
              "      <td>397</td>\n",
              "      <td>0.462704</td>\n",
              "      <td>130000</td>\n",
              "      <td>0.660000</td>\n",
              "    </tr>\n",
              "    <tr>\n",
              "      <th>5</th>\n",
              "      <td>DAKAR</td>\n",
              "      <td>Rufisque</td>\n",
              "      <td>2016</td>\n",
              "      <td>Cowpea</td>\n",
              "      <td>1248.0</td>\n",
              "      <td>366</td>\n",
              "      <td>0.293269</td>\n",
              "      <td>130000</td>\n",
              "      <td>0.960000</td>\n",
              "    </tr>\n",
              "    <tr>\n",
              "      <th>6</th>\n",
              "      <td>DAKAR</td>\n",
              "      <td>Rufisque</td>\n",
              "      <td>2014</td>\n",
              "      <td>Corn</td>\n",
              "      <td>900.0</td>\n",
              "      <td>585</td>\n",
              "      <td>0.650000</td>\n",
              "      <td>130000</td>\n",
              "      <td>0.692308</td>\n",
              "    </tr>\n",
              "    <tr>\n",
              "      <th>7</th>\n",
              "      <td>DAKAR</td>\n",
              "      <td>Rufisque</td>\n",
              "      <td>2015</td>\n",
              "      <td>Corn</td>\n",
              "      <td>900.0</td>\n",
              "      <td>799</td>\n",
              "      <td>0.887778</td>\n",
              "      <td>130000</td>\n",
              "      <td>0.692308</td>\n",
              "    </tr>\n",
              "    <tr>\n",
              "      <th>8</th>\n",
              "      <td>DAKAR</td>\n",
              "      <td>Rufisque</td>\n",
              "      <td>2016</td>\n",
              "      <td>Corn</td>\n",
              "      <td>990.0</td>\n",
              "      <td>836</td>\n",
              "      <td>0.844444</td>\n",
              "      <td>130000</td>\n",
              "      <td>0.761538</td>\n",
              "    </tr>\n",
              "    <tr>\n",
              "      <th>9</th>\n",
              "      <td>DAKAR</td>\n",
              "      <td>Rufisque</td>\n",
              "      <td>2014</td>\n",
              "      <td>Sorghum</td>\n",
              "      <td>200.0</td>\n",
              "      <td>90</td>\n",
              "      <td>0.450000</td>\n",
              "      <td>130000</td>\n",
              "      <td>0.153846</td>\n",
              "    </tr>\n",
              "    <tr>\n",
              "      <th>10</th>\n",
              "      <td>DAKAR</td>\n",
              "      <td>Rufisque</td>\n",
              "      <td>2015</td>\n",
              "      <td>Sorghum</td>\n",
              "      <td>350.0</td>\n",
              "      <td>180</td>\n",
              "      <td>0.514286</td>\n",
              "      <td>130000</td>\n",
              "      <td>0.269231</td>\n",
              "    </tr>\n",
              "    <tr>\n",
              "      <th>11</th>\n",
              "      <td>DAKAR</td>\n",
              "      <td>Rufisque</td>\n",
              "      <td>2016</td>\n",
              "      <td>Sorghum</td>\n",
              "      <td>385.0</td>\n",
              "      <td>193</td>\n",
              "      <td>0.501299</td>\n",
              "      <td>130000</td>\n",
              "      <td>0.296154</td>\n",
              "    </tr>\n",
              "    <tr>\n",
              "      <th>12</th>\n",
              "      <td>DAKAR</td>\n",
              "      <td>Rufisque</td>\n",
              "      <td>2014</td>\n",
              "      <td>Manioc</td>\n",
              "      <td>375.0</td>\n",
              "      <td>2625</td>\n",
              "      <td>7.000000</td>\n",
              "      <td>130000</td>\n",
              "      <td>0.288462</td>\n",
              "    </tr>\n",
              "    <tr>\n",
              "      <th>13</th>\n",
              "      <td>DAKAR</td>\n",
              "      <td>Rufisque</td>\n",
              "      <td>2015</td>\n",
              "      <td>Manioc</td>\n",
              "      <td>683.0</td>\n",
              "      <td>5189</td>\n",
              "      <td>7.597365</td>\n",
              "      <td>130000</td>\n",
              "      <td>0.525385</td>\n",
              "    </tr>\n",
              "    <tr>\n",
              "      <th>14</th>\n",
              "      <td>DAKAR</td>\n",
              "      <td>Rufisque</td>\n",
              "      <td>2016</td>\n",
              "      <td>Manioc</td>\n",
              "      <td>500.0</td>\n",
              "      <td>NaN</td>\n",
              "      <td>0.000000</td>\n",
              "      <td>130000</td>\n",
              "      <td>0.384615</td>\n",
              "    </tr>\n",
              "    <tr>\n",
              "      <th>15</th>\n",
              "      <td>FATICK</td>\n",
              "      <td>Fatick</td>\n",
              "      <td>2014</td>\n",
              "      <td>Arachide</td>\n",
              "      <td>NaN</td>\n",
              "      <td>9600</td>\n",
              "      <td>0.000000</td>\n",
              "      <td>264600</td>\n",
              "      <td>0.000000</td>\n",
              "    </tr>\n",
              "    <tr>\n",
              "      <th>16</th>\n",
              "      <td>FATICK</td>\n",
              "      <td>Fatick</td>\n",
              "      <td>2015</td>\n",
              "      <td>Arachide</td>\n",
              "      <td>NaN</td>\n",
              "      <td>39148</td>\n",
              "      <td>0.000000</td>\n",
              "      <td>264600</td>\n",
              "      <td>0.000000</td>\n",
              "    </tr>\n",
              "    <tr>\n",
              "      <th>17</th>\n",
              "      <td>FATICK</td>\n",
              "      <td>Fatick</td>\n",
              "      <td>2016</td>\n",
              "      <td>Arachide</td>\n",
              "      <td>NaN</td>\n",
              "      <td>26699</td>\n",
              "      <td>0.000000</td>\n",
              "      <td>264600</td>\n",
              "      <td>0.000000</td>\n",
              "    </tr>\n",
              "    <tr>\n",
              "      <th>18</th>\n",
              "      <td>FATICK</td>\n",
              "      <td>Foundiougne</td>\n",
              "      <td>2014</td>\n",
              "      <td>Arachide</td>\n",
              "      <td>NaN</td>\n",
              "      <td>37461</td>\n",
              "      <td>0.000000</td>\n",
              "      <td>295900</td>\n",
              "      <td>0.000000</td>\n",
              "    </tr>\n",
              "    <tr>\n",
              "      <th>19</th>\n",
              "      <td>FATICK</td>\n",
              "      <td>Foundiougne</td>\n",
              "      <td>2015</td>\n",
              "      <td>Arachide</td>\n",
              "      <td>NaN</td>\n",
              "      <td>39148</td>\n",
              "      <td>0.000000</td>\n",
              "      <td>295900</td>\n",
              "      <td>0.000000</td>\n",
              "    </tr>\n",
              "  </tbody>\n",
              "</table>\n",
              "</div>"
            ],
            "text/plain": [
              "   Region_main       Region  Year  ...     Yield  Total_area percentageion\n",
              "0        DAKAR     Rufisque  2014  ...  0.200136      130000      2.263846\n",
              "1        DAKAR     Rufisque  2015  ...  0.758313      130000      0.948462\n",
              "2        DAKAR     Rufisque  2016  ...  0.205929      130000      0.960000\n",
              "3        DAKAR     Rufisque  2014  ...  0.150255      130000      0.906154\n",
              "4        DAKAR     Rufisque  2015  ...  0.462704      130000      0.660000\n",
              "5        DAKAR     Rufisque  2016  ...  0.293269      130000      0.960000\n",
              "6        DAKAR     Rufisque  2014  ...  0.650000      130000      0.692308\n",
              "7        DAKAR     Rufisque  2015  ...  0.887778      130000      0.692308\n",
              "8        DAKAR     Rufisque  2016  ...  0.844444      130000      0.761538\n",
              "9        DAKAR     Rufisque  2014  ...  0.450000      130000      0.153846\n",
              "10       DAKAR     Rufisque  2015  ...  0.514286      130000      0.269231\n",
              "11       DAKAR     Rufisque  2016  ...  0.501299      130000      0.296154\n",
              "12       DAKAR     Rufisque  2014  ...  7.000000      130000      0.288462\n",
              "13       DAKAR     Rufisque  2015  ...  7.597365      130000      0.525385\n",
              "14       DAKAR     Rufisque  2016  ...  0.000000      130000      0.384615\n",
              "15      FATICK       Fatick  2014  ...  0.000000      264600      0.000000\n",
              "16      FATICK       Fatick  2015  ...  0.000000      264600      0.000000\n",
              "17      FATICK       Fatick  2016  ...  0.000000      264600      0.000000\n",
              "18      FATICK  Foundiougne  2014  ...  0.000000      295900      0.000000\n",
              "19      FATICK  Foundiougne  2015  ...  0.000000      295900      0.000000\n",
              "\n",
              "[20 rows x 9 columns]"
            ]
          },
          "metadata": {
            "tags": []
          },
          "execution_count": 18
        }
      ]
    },
    {
      "cell_type": "code",
      "metadata": {
        "colab": {
          "base_uri": "https://localhost:8080/",
          "height": 1000
        },
        "id": "fgTw35cUTESc",
        "outputId": "e044cc32-0fd6-4a03-cae2-b7365245e2b4"
      },
      "source": [
        "year = 2015\n",
        "for year in [2015,2016]:\n",
        "  df_real_yields_year = df_real_yields[df_real_yields[\"Year\"] == year]\n",
        "  df_real_yields_year_corn = df_real_yields_year[df_real_yields_year[\"Crop\"] == \"Corn\"]\n",
        "  df_real_yields_year_corn.plot.bar(x='Region', y=\"Yield\", figsize=(10,8), title=\"Corn per department {}\".format(year))"
      ],
      "execution_count": 19,
      "outputs": [
        {
          "output_type": "stream",
          "text": [
            "NumExpr defaulting to 2 threads.\n"
          ],
          "name": "stdout"
        },
        {
          "output_type": "display_data",
          "data": {
            "image/png": "[encoded data removed]",
            "text/plain": [
              "<Figure size 720x576 with 1 Axes>"
            ]
          },
          "metadata": {
            "tags": [],
            "needs_background": "light"
          }
        },
        {
          "output_type": "display_data",
          "data": {
            "image/png": "[encoded data removed]",
            "text/plain": [
              "<Figure size 720x576 with 1 Axes>"
            ]
          },
          "metadata": {
            "tags": [],
            "needs_background": "light"
          }
        }
      ]
    },
    {
      "cell_type": "markdown",
      "metadata": {
        "id": "KIGVQDDpOsfi"
      },
      "source": [
        "## Millet"
      ]
    },
    {
      "cell_type": "code",
      "metadata": {
        "colab": {
          "base_uri": "https://localhost:8080/",
          "height": 35
        },
        "id": "TECpzSF6Osfi",
        "outputId": "931ad6d9-a487-49b8-91dc-6e83a6f81a88"
      },
      "source": [
        "wget.download(\"https://omdena-gpsdd-senegal.s3-us-west-1.amazonaws.com/data/IPAR_data/pretrained_weights_CNN_LSTM/checkpoint_millet_b16_CNN-LSTM.h5\", \"./checkpoint-millet.h5\")"
      ],
      "execution_count": 20,
      "outputs": [
        {
          "output_type": "execute_result",
          "data": {
            "application/vnd.google.colaboratory.intrinsic+json": {
              "type": "string"
            },
            "text/plain": [
              "'./checkpoint-millet.h5'"
            ]
          },
          "metadata": {
            "tags": []
          },
          "execution_count": 20
        }
      ]
    },
    {
      "cell_type": "code",
      "metadata": {
        "id": "I2_rTmpvOsfj"
      },
      "source": [
        "model.load_weights(\"./checkpoint-millet.h5\")"
      ],
      "execution_count": 21,
      "outputs": []
    },
    {
      "cell_type": "code",
      "metadata": {
        "colab": {
          "base_uri": "https://localhost:8080/"
        },
        "id": "SRRNrJg-Osfj",
        "outputId": "d27f3ed6-2cbe-4c3f-8eb7-34884a548137"
      },
      "source": [
        "predictions = model.predict(test_ds)\n",
        "i = 0\n",
        "i_names = 0\n",
        "year = 2015\n",
        "years = []\n",
        "\n",
        "indexes = []\n",
        "yield_years = []\n",
        "department_names = []\n",
        "prediction_locations = []\n",
        "yields_predicted = []\n",
        "\n",
        "for prediction in predictions:\n",
        "  indexes.append(i)\n",
        "  years.append(year)\n",
        "  department_names.append(names[i_names].split(\"-\")[-1])\n",
        "  # print(\"prediction {} for department: {} is {}\".format(year, names[i_names].split(\"-\")[-1], prediction[0]))\n",
        "  prediction_locations.append(prediction[0])\n",
        "  yields_predicted.append(prediction[0])\n",
        "  i = i + 1\n",
        "  i_names = i_names + 1\n",
        "  if i_names == len(names):\n",
        "    i_names = 0\n",
        "    year = year + 1\n",
        "    yield_years.append(yields_predicted)\n",
        "    yields_predicted = []\n",
        "\n",
        "i"
      ],
      "execution_count": 22,
      "outputs": [
        {
          "output_type": "execute_result",
          "data": {
            "text/plain": [
              "180"
            ]
          },
          "metadata": {
            "tags": []
          },
          "execution_count": 22
        }
      ]
    },
    {
      "cell_type": "code",
      "metadata": {
        "colab": {
          "base_uri": "https://localhost:8080/",
          "height": 548
        },
        "id": "JqIastGbOsfk",
        "outputId": "7a128721-9ad2-44e3-cd08-e59fb713f711"
      },
      "source": [
        "print(len(yield_years)) # number of years \n",
        "print(len(yield_years[0])) # number of departments \n",
        "df_years = pd.DataFrame(yield_years, columns=department_names[0:45], index=[2015,2016,2017,2018])\n",
        "df_years = df_years.T\n",
        "df_years.head(15)\n"
      ],
      "execution_count": 23,
      "outputs": [
        {
          "output_type": "stream",
          "text": [
            "4\n",
            "45\n"
          ],
          "name": "stdout"
        },
        {
          "output_type": "execute_result",
          "data": {
            "text/html": [
              "<div>\n",
              "<style scoped>\n",
              "    .dataframe tbody tr th:only-of-type {\n",
              "        vertical-align: middle;\n",
              "    }\n",
              "\n",
              "    .dataframe tbody tr th {\n",
              "        vertical-align: top;\n",
              "    }\n",
              "\n",
              "    .dataframe thead th {\n",
              "        text-align: right;\n",
              "    }\n",
              "</style>\n",
              "<table border=\"1\" class=\"dataframe\">\n",
              "  <thead>\n",
              "    <tr style=\"text-align: right;\">\n",
              "      <th></th>\n",
              "      <th>2015</th>\n",
              "      <th>2016</th>\n",
              "      <th>2017</th>\n",
              "      <th>2018</th>\n",
              "    </tr>\n",
              "  </thead>\n",
              "  <tbody>\n",
              "    <tr>\n",
              "      <th>dakar</th>\n",
              "      <td>-0.705032</td>\n",
              "      <td>-0.708333</td>\n",
              "      <td>0.631149</td>\n",
              "      <td>-1.707480</td>\n",
              "    </tr>\n",
              "    <tr>\n",
              "      <th>guediawaye</th>\n",
              "      <td>0.560279</td>\n",
              "      <td>1.456616</td>\n",
              "      <td>0.469580</td>\n",
              "      <td>0.044702</td>\n",
              "    </tr>\n",
              "    <tr>\n",
              "      <th>pikine</th>\n",
              "      <td>0.623759</td>\n",
              "      <td>1.062381</td>\n",
              "      <td>0.799576</td>\n",
              "      <td>0.308463</td>\n",
              "    </tr>\n",
              "    <tr>\n",
              "      <th>rufisque</th>\n",
              "      <td>0.722629</td>\n",
              "      <td>0.869056</td>\n",
              "      <td>0.831820</td>\n",
              "      <td>0.473928</td>\n",
              "    </tr>\n",
              "    <tr>\n",
              "      <th>bambey</th>\n",
              "      <td>1.227561</td>\n",
              "      <td>0.907238</td>\n",
              "      <td>0.621340</td>\n",
              "      <td>0.890723</td>\n",
              "    </tr>\n",
              "    <tr>\n",
              "      <th>diourbel</th>\n",
              "      <td>1.228476</td>\n",
              "      <td>1.178850</td>\n",
              "      <td>0.453227</td>\n",
              "      <td>2.342441</td>\n",
              "    </tr>\n",
              "    <tr>\n",
              "      <th>mbacke</th>\n",
              "      <td>1.419615</td>\n",
              "      <td>1.231416</td>\n",
              "      <td>0.602654</td>\n",
              "      <td>1.905606</td>\n",
              "    </tr>\n",
              "    <tr>\n",
              "      <th>fatick</th>\n",
              "      <td>0.800207</td>\n",
              "      <td>0.410027</td>\n",
              "      <td>0.561727</td>\n",
              "      <td>1.040772</td>\n",
              "    </tr>\n",
              "    <tr>\n",
              "      <th>foundiougne</th>\n",
              "      <td>0.680135</td>\n",
              "      <td>0.735195</td>\n",
              "      <td>0.606423</td>\n",
              "      <td>0.423779</td>\n",
              "    </tr>\n",
              "    <tr>\n",
              "      <th>gossas</th>\n",
              "      <td>1.262318</td>\n",
              "      <td>0.960481</td>\n",
              "      <td>0.668611</td>\n",
              "      <td>1.808305</td>\n",
              "    </tr>\n",
              "    <tr>\n",
              "      <th>birkilane</th>\n",
              "      <td>0.635985</td>\n",
              "      <td>0.338283</td>\n",
              "      <td>0.388585</td>\n",
              "      <td>0.635136</td>\n",
              "    </tr>\n",
              "    <tr>\n",
              "      <th>kaffrine</th>\n",
              "      <td>0.819190</td>\n",
              "      <td>0.761766</td>\n",
              "      <td>0.103820</td>\n",
              "      <td>0.812777</td>\n",
              "    </tr>\n",
              "    <tr>\n",
              "      <th>koungheul</th>\n",
              "      <td>0.364734</td>\n",
              "      <td>0.617308</td>\n",
              "      <td>0.416111</td>\n",
              "      <td>0.884531</td>\n",
              "    </tr>\n",
              "    <tr>\n",
              "      <th>maleme hodar</th>\n",
              "      <td>0.800576</td>\n",
              "      <td>0.541547</td>\n",
              "      <td>0.329659</td>\n",
              "      <td>0.650902</td>\n",
              "    </tr>\n",
              "    <tr>\n",
              "      <th>guinguineo</th>\n",
              "      <td>1.624581</td>\n",
              "      <td>0.668207</td>\n",
              "      <td>0.276454</td>\n",
              "      <td>0.923550</td>\n",
              "    </tr>\n",
              "  </tbody>\n",
              "</table>\n",
              "</div>"
            ],
            "text/plain": [
              "                  2015      2016      2017      2018\n",
              "dakar        -0.705032 -0.708333  0.631149 -1.707480\n",
              "guediawaye    0.560279  1.456616  0.469580  0.044702\n",
              "pikine        0.623759  1.062381  0.799576  0.308463\n",
              "rufisque      0.722629  0.869056  0.831820  0.473928\n",
              "bambey        1.227561  0.907238  0.621340  0.890723\n",
              "diourbel      1.228476  1.178850  0.453227  2.342441\n",
              "mbacke        1.419615  1.231416  0.602654  1.905606\n",
              "fatick        0.800207  0.410027  0.561727  1.040772\n",
              "foundiougne   0.680135  0.735195  0.606423  0.423779\n",
              "gossas        1.262318  0.960481  0.668611  1.808305\n",
              "birkilane     0.635985  0.338283  0.388585  0.635136\n",
              "kaffrine      0.819190  0.761766  0.103820  0.812777\n",
              "koungheul     0.364734  0.617308  0.416111  0.884531\n",
              "maleme hodar  0.800576  0.541547  0.329659  0.650902\n",
              "guinguineo    1.624581  0.668207  0.276454  0.923550"
            ]
          },
          "metadata": {
            "tags": []
          },
          "execution_count": 23
        }
      ]
    },
    {
      "cell_type": "code",
      "metadata": {
        "colab": {
          "base_uri": "https://localhost:8080/",
          "height": 452
        },
        "id": "VZOj-d4oOsfk",
        "outputId": "f0a6f7cc-b47a-4298-c2b3-b8363dc031a1"
      },
      "source": [
        "df_years.plot.bar(figsize=(40, 10), title=\"Predicted Millet yield for all departments over 4 years\")"
      ],
      "execution_count": 24,
      "outputs": [
        {
          "output_type": "execute_result",
          "data": {
            "text/plain": [
              "<matplotlib.axes._subplots.AxesSubplot at 0x7f088a983908>"
            ]
          },
          "metadata": {
            "tags": []
          },
          "execution_count": 24
        },
        {
          "output_type": "display_data",
          "data": {
            "image/png": "[encoded data removed]",
            "text/plain": [
              "<Figure size 2880x720 with 1 Axes>"
            ]
          },
          "metadata": {
            "tags": [],
            "needs_background": "light"
          }
        }
      ]
    },
    {
      "cell_type": "markdown",
      "metadata": {
        "id": "31EoWCp-PEMN"
      },
      "source": [
        "## Rice"
      ]
    },
    {
      "cell_type": "code",
      "metadata": {
        "colab": {
          "base_uri": "https://localhost:8080/",
          "height": 35
        },
        "id": "d4qpiB1JPEMX",
        "outputId": "a38f162a-8f24-49bc-9ba6-b4531df2dfe1"
      },
      "source": [
        "wget.download(\"https://omdena-gpsdd-senegal.s3-us-west-1.amazonaws.com/data/IPAR_data/pretrained_weights_CNN_LSTM/checkpoint_rice_b16_CNN-LSTM.h5\", \"./checkpoint-rice.h5\")"
      ],
      "execution_count": 25,
      "outputs": [
        {
          "output_type": "execute_result",
          "data": {
            "application/vnd.google.colaboratory.intrinsic+json": {
              "type": "string"
            },
            "text/plain": [
              "'./checkpoint-rice.h5'"
            ]
          },
          "metadata": {
            "tags": []
          },
          "execution_count": 25
        }
      ]
    },
    {
      "cell_type": "code",
      "metadata": {
        "id": "1wtmhqd4PEMY"
      },
      "source": [
        "model.load_weights(\"./checkpoint-rice.h5\")"
      ],
      "execution_count": 26,
      "outputs": []
    },
    {
      "cell_type": "code",
      "metadata": {
        "colab": {
          "base_uri": "https://localhost:8080/"
        },
        "id": "3u__Z3OvPEMY",
        "outputId": "4d8a3114-e8af-4b71-e5b2-824dee47829d"
      },
      "source": [
        "predictions = model.predict(test_ds)\n",
        "i = 0\n",
        "i_names = 0\n",
        "year = 2015\n",
        "years = []\n",
        "\n",
        "indexes = []\n",
        "yield_years = []\n",
        "department_names = []\n",
        "prediction_locations = []\n",
        "yields_predicted = []\n",
        "\n",
        "for prediction in predictions:\n",
        "  indexes.append(i)\n",
        "  years.append(year)\n",
        "  department_names.append(names[i_names].split(\"-\")[-1])\n",
        "  # print(\"prediction {} for department: {} is {}\".format(year, names[i_names].split(\"-\")[-1], prediction[0]))\n",
        "  prediction_locations.append(prediction[0])\n",
        "  yields_predicted.append(prediction[0])\n",
        "  i = i + 1\n",
        "  i_names = i_names + 1\n",
        "  if i_names == len(names):\n",
        "    i_names = 0\n",
        "    year = year + 1\n",
        "    yield_years.append(yields_predicted)\n",
        "    yields_predicted = []\n",
        "\n",
        "i"
      ],
      "execution_count": 27,
      "outputs": [
        {
          "output_type": "execute_result",
          "data": {
            "text/plain": [
              "180"
            ]
          },
          "metadata": {
            "tags": []
          },
          "execution_count": 27
        }
      ]
    },
    {
      "cell_type": "code",
      "metadata": {
        "colab": {
          "base_uri": "https://localhost:8080/",
          "height": 548
        },
        "id": "FtSCunL3PEMY",
        "outputId": "03339197-26e5-4046-ca52-219875096679"
      },
      "source": [
        "print(len(yield_years)) # number of years \n",
        "print(len(yield_years[0])) # number of departments \n",
        "df_years = pd.DataFrame(yield_years, columns=department_names[0:45], index=[2015,2016,2017,2018])\n",
        "df_years = df_years.T\n",
        "df_years.head(15)\n"
      ],
      "execution_count": 28,
      "outputs": [
        {
          "output_type": "stream",
          "text": [
            "4\n",
            "45\n"
          ],
          "name": "stdout"
        },
        {
          "output_type": "execute_result",
          "data": {
            "text/html": [
              "<div>\n",
              "<style scoped>\n",
              "    .dataframe tbody tr th:only-of-type {\n",
              "        vertical-align: middle;\n",
              "    }\n",
              "\n",
              "    .dataframe tbody tr th {\n",
              "        vertical-align: top;\n",
              "    }\n",
              "\n",
              "    .dataframe thead th {\n",
              "        text-align: right;\n",
              "    }\n",
              "</style>\n",
              "<table border=\"1\" class=\"dataframe\">\n",
              "  <thead>\n",
              "    <tr style=\"text-align: right;\">\n",
              "      <th></th>\n",
              "      <th>2015</th>\n",
              "      <th>2016</th>\n",
              "      <th>2017</th>\n",
              "      <th>2018</th>\n",
              "    </tr>\n",
              "  </thead>\n",
              "  <tbody>\n",
              "    <tr>\n",
              "      <th>dakar</th>\n",
              "      <td>-0.474775</td>\n",
              "      <td>0.150106</td>\n",
              "      <td>0.799294</td>\n",
              "      <td>0.872997</td>\n",
              "    </tr>\n",
              "    <tr>\n",
              "      <th>guediawaye</th>\n",
              "      <td>0.128846</td>\n",
              "      <td>0.455806</td>\n",
              "      <td>-0.155451</td>\n",
              "      <td>0.641946</td>\n",
              "    </tr>\n",
              "    <tr>\n",
              "      <th>pikine</th>\n",
              "      <td>2.605500</td>\n",
              "      <td>2.861138</td>\n",
              "      <td>3.224143</td>\n",
              "      <td>3.132479</td>\n",
              "    </tr>\n",
              "    <tr>\n",
              "      <th>rufisque</th>\n",
              "      <td>3.210155</td>\n",
              "      <td>3.689034</td>\n",
              "      <td>3.817850</td>\n",
              "      <td>4.190147</td>\n",
              "    </tr>\n",
              "    <tr>\n",
              "      <th>bambey</th>\n",
              "      <td>2.784222</td>\n",
              "      <td>2.560380</td>\n",
              "      <td>3.250186</td>\n",
              "      <td>3.226130</td>\n",
              "    </tr>\n",
              "    <tr>\n",
              "      <th>diourbel</th>\n",
              "      <td>3.360084</td>\n",
              "      <td>2.795502</td>\n",
              "      <td>2.879396</td>\n",
              "      <td>3.842522</td>\n",
              "    </tr>\n",
              "    <tr>\n",
              "      <th>mbacke</th>\n",
              "      <td>2.549622</td>\n",
              "      <td>3.147962</td>\n",
              "      <td>2.493263</td>\n",
              "      <td>3.655541</td>\n",
              "    </tr>\n",
              "    <tr>\n",
              "      <th>fatick</th>\n",
              "      <td>1.973065</td>\n",
              "      <td>2.199924</td>\n",
              "      <td>2.184027</td>\n",
              "      <td>2.691195</td>\n",
              "    </tr>\n",
              "    <tr>\n",
              "      <th>foundiougne</th>\n",
              "      <td>1.771961</td>\n",
              "      <td>2.656144</td>\n",
              "      <td>1.502792</td>\n",
              "      <td>2.824728</td>\n",
              "    </tr>\n",
              "    <tr>\n",
              "      <th>gossas</th>\n",
              "      <td>2.331357</td>\n",
              "      <td>3.270945</td>\n",
              "      <td>2.613824</td>\n",
              "      <td>3.278526</td>\n",
              "    </tr>\n",
              "    <tr>\n",
              "      <th>birkilane</th>\n",
              "      <td>2.063446</td>\n",
              "      <td>3.129801</td>\n",
              "      <td>2.235838</td>\n",
              "      <td>2.576331</td>\n",
              "    </tr>\n",
              "    <tr>\n",
              "      <th>kaffrine</th>\n",
              "      <td>2.467693</td>\n",
              "      <td>3.158971</td>\n",
              "      <td>2.668080</td>\n",
              "      <td>2.358027</td>\n",
              "    </tr>\n",
              "    <tr>\n",
              "      <th>koungheul</th>\n",
              "      <td>2.687776</td>\n",
              "      <td>2.801054</td>\n",
              "      <td>3.288270</td>\n",
              "      <td>2.238863</td>\n",
              "    </tr>\n",
              "    <tr>\n",
              "      <th>maleme hodar</th>\n",
              "      <td>2.793958</td>\n",
              "      <td>3.798024</td>\n",
              "      <td>3.407958</td>\n",
              "      <td>2.003059</td>\n",
              "    </tr>\n",
              "    <tr>\n",
              "      <th>guinguineo</th>\n",
              "      <td>2.391829</td>\n",
              "      <td>2.519170</td>\n",
              "      <td>2.045867</td>\n",
              "      <td>2.489156</td>\n",
              "    </tr>\n",
              "  </tbody>\n",
              "</table>\n",
              "</div>"
            ],
            "text/plain": [
              "                  2015      2016      2017      2018\n",
              "dakar        -0.474775  0.150106  0.799294  0.872997\n",
              "guediawaye    0.128846  0.455806 -0.155451  0.641946\n",
              "pikine        2.605500  2.861138  3.224143  3.132479\n",
              "rufisque      3.210155  3.689034  3.817850  4.190147\n",
              "bambey        2.784222  2.560380  3.250186  3.226130\n",
              "diourbel      3.360084  2.795502  2.879396  3.842522\n",
              "mbacke        2.549622  3.147962  2.493263  3.655541\n",
              "fatick        1.973065  2.199924  2.184027  2.691195\n",
              "foundiougne   1.771961  2.656144  1.502792  2.824728\n",
              "gossas        2.331357  3.270945  2.613824  3.278526\n",
              "birkilane     2.063446  3.129801  2.235838  2.576331\n",
              "kaffrine      2.467693  3.158971  2.668080  2.358027\n",
              "koungheul     2.687776  2.801054  3.288270  2.238863\n",
              "maleme hodar  2.793958  3.798024  3.407958  2.003059\n",
              "guinguineo    2.391829  2.519170  2.045867  2.489156"
            ]
          },
          "metadata": {
            "tags": []
          },
          "execution_count": 28
        }
      ]
    },
    {
      "cell_type": "code",
      "metadata": {
        "colab": {
          "base_uri": "https://localhost:8080/",
          "height": 454
        },
        "id": "OUGT8oNoPEMZ",
        "outputId": "dba86a67-591b-4785-8008-28a06f055bab"
      },
      "source": [
        "df_years.plot.bar(figsize=(40, 10), title=\"Predicted Rice yield for all departments over 4 years\")"
      ],
      "execution_count": 29,
      "outputs": [
        {
          "output_type": "execute_result",
          "data": {
            "text/plain": [
              "<matplotlib.axes._subplots.AxesSubplot at 0x7f088e7350b8>"
            ]
          },
          "metadata": {
            "tags": []
          },
          "execution_count": 29
        },
        {
          "output_type": "display_data",
          "data": {
            "image/png": "[encoded data removed]",
            "text/plain": [
              "<Figure size 2880x720 with 1 Axes>"
            ]
          },
          "metadata": {
            "tags": [],
            "needs_background": "light"
          }
        }
      ]
    }
  ]
}
