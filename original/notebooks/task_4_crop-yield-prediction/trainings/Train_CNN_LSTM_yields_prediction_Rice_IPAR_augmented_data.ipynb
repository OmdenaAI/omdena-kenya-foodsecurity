{
  "nbformat": 4,
  "nbformat_minor": 0,
  "metadata": {
    "colab": {
      "name": "Train_CNN_LSTM_yields_prediction_Rice_IPAR_augmented_data.ipynb",
      "provenance": [],
      "collapsed_sections": [
        "m6dMZFse1gRB",
        "uZcNjIgc062v",
        "wbRPWecH2XHD",
        "wXlekjHS2mI5"
      ],
      "toc_visible": true
    },
    "kernelspec": {
      "display_name": "Python 3",
      "name": "python3"
    }
  },
  "cells": [
    {
      "cell_type": "markdown",
      "metadata": {
        "id": "kg2bj16FzFAh"
      },
      "source": [
        "# This notebook trains and predict crop yields using 32 bins histograms "
      ]
    },
    {
      "cell_type": "code",
      "metadata": {
        "id": "Rzq1mWcpzcf4",
        "colab": {
          "base_uri": "https://localhost:8080/"
        },
        "outputId": "49a608a0-2021-4363-eefd-14a354a4ec3d"
      },
      "source": [
        "!pip install Hub"
      ],
      "execution_count": 1,
      "outputs": [
        {
          "output_type": "stream",
          "text": [
            "Requirement already satisfied: Hub in /usr/local/lib/python3.6/dist-packages (1.1.3)\n",
            "Requirement already satisfied: boto3==1.16.39 in /usr/local/lib/python3.6/dist-packages (from Hub) (1.16.39)\n",
            "Requirement already satisfied: lz4<4,>=3 in /usr/local/lib/python3.6/dist-packages (from Hub) (3.1.1)\n",
            "Requirement already satisfied: s3fs==0.4.2 in /usr/local/lib/python3.6/dist-packages (from Hub) (0.4.2)\n",
            "Requirement already satisfied: numpy<2,>=1.13.0 in /usr/local/lib/python3.6/dist-packages (from Hub) (1.19.5)\n",
            "Requirement already satisfied: zarr==2.6.1 in /usr/local/lib/python3.6/dist-packages (from Hub) (2.6.1)\n",
            "Requirement already satisfied: fsspec==0.8.5 in /usr/local/lib/python3.6/dist-packages (from Hub) (0.8.5)\n",
            "Requirement already satisfied: azure-storage-blob==12.6.0 in /usr/local/lib/python3.6/dist-packages (from Hub) (12.6.0)\n",
            "Requirement already satisfied: tqdm==4.54.1 in /usr/local/lib/python3.6/dist-packages (from Hub) (4.54.1)\n",
            "Requirement already satisfied: outdated==0.2.0 in /usr/local/lib/python3.6/dist-packages (from Hub) (0.2.0)\n",
            "Requirement already satisfied: cachey==0.2.1 in /usr/local/lib/python3.6/dist-packages (from Hub) (0.2.1)\n",
            "Requirement already satisfied: click<8,>=6.7 in /usr/local/lib/python3.6/dist-packages (from Hub) (7.1.2)\n",
            "Requirement already satisfied: Pillow>=8.0.1 in /usr/local/lib/python3.6/dist-packages (from Hub) (8.1.0)\n",
            "Requirement already satisfied: pathos>=0.2.2 in /usr/local/lib/python3.6/dist-packages (from Hub) (0.2.7)\n",
            "Requirement already satisfied: requests<3,>=2 in /usr/local/lib/python3.6/dist-packages (from Hub) (2.23.0)\n",
            "Requirement already satisfied: psutil>=5.7.3 in /usr/local/lib/python3.6/dist-packages (from Hub) (5.8.0)\n",
            "Requirement already satisfied: gcsfs==0.6.2 in /usr/local/lib/python3.6/dist-packages (from Hub) (0.6.2)\n",
            "Requirement already satisfied: s3transfer<0.4.0,>=0.3.0 in /usr/local/lib/python3.6/dist-packages (from boto3==1.16.39->Hub) (0.3.4)\n",
            "Requirement already satisfied: jmespath<1.0.0,>=0.7.1 in /usr/local/lib/python3.6/dist-packages (from boto3==1.16.39->Hub) (0.10.0)\n",
            "Requirement already satisfied: botocore<1.20.0,>=1.19.39 in /usr/local/lib/python3.6/dist-packages (from boto3==1.16.39->Hub) (1.19.55)\n",
            "Requirement already satisfied: fasteners in /usr/local/lib/python3.6/dist-packages (from zarr==2.6.1->Hub) (0.16)\n",
            "Requirement already satisfied: numcodecs>=0.6.4 in /usr/local/lib/python3.6/dist-packages (from zarr==2.6.1->Hub) (0.7.2)\n",
            "Requirement already satisfied: asciitree in /usr/local/lib/python3.6/dist-packages (from zarr==2.6.1->Hub) (0.3.3)\n",
            "Requirement already satisfied: msrest>=0.6.10 in /usr/local/lib/python3.6/dist-packages (from azure-storage-blob==12.6.0->Hub) (0.6.19)\n",
            "Requirement already satisfied: azure-core<2.0.0,>=1.9.0 in /usr/local/lib/python3.6/dist-packages (from azure-storage-blob==12.6.0->Hub) (1.10.0)\n",
            "Requirement already satisfied: cryptography>=2.1.4 in /usr/local/lib/python3.6/dist-packages (from azure-storage-blob==12.6.0->Hub) (3.3.1)\n",
            "Requirement already satisfied: littleutils in /usr/local/lib/python3.6/dist-packages (from outdated==0.2.0->Hub) (0.2.2)\n",
            "Requirement already satisfied: heapdict in /usr/local/lib/python3.6/dist-packages (from cachey==0.2.1->Hub) (1.0.1)\n",
            "Requirement already satisfied: multiprocess>=0.70.11 in /usr/local/lib/python3.6/dist-packages (from pathos>=0.2.2->Hub) (0.70.11.1)\n",
            "Requirement already satisfied: pox>=0.2.9 in /usr/local/lib/python3.6/dist-packages (from pathos>=0.2.2->Hub) (0.2.9)\n",
            "Requirement already satisfied: dill>=0.3.3 in /usr/local/lib/python3.6/dist-packages (from pathos>=0.2.2->Hub) (0.3.3)\n",
            "Requirement already satisfied: ppft>=1.6.6.3 in /usr/local/lib/python3.6/dist-packages (from pathos>=0.2.2->Hub) (1.6.6.3)\n",
            "Requirement already satisfied: certifi>=2017.4.17 in /usr/local/lib/python3.6/dist-packages (from requests<3,>=2->Hub) (2020.12.5)\n",
            "Requirement already satisfied: idna<3,>=2.5 in /usr/local/lib/python3.6/dist-packages (from requests<3,>=2->Hub) (2.10)\n",
            "Requirement already satisfied: chardet<4,>=3.0.2 in /usr/local/lib/python3.6/dist-packages (from requests<3,>=2->Hub) (3.0.4)\n",
            "Requirement already satisfied: urllib3!=1.25.0,!=1.25.1,<1.26,>=1.21.1 in /usr/local/lib/python3.6/dist-packages (from requests<3,>=2->Hub) (1.24.3)\n",
            "Requirement already satisfied: google-auth-oauthlib in /usr/local/lib/python3.6/dist-packages (from gcsfs==0.6.2->Hub) (0.4.2)\n",
            "Requirement already satisfied: decorator in /usr/local/lib/python3.6/dist-packages (from gcsfs==0.6.2->Hub) (4.4.2)\n",
            "Requirement already satisfied: google-auth>=1.2 in /usr/local/lib/python3.6/dist-packages (from gcsfs==0.6.2->Hub) (1.17.2)\n",
            "Requirement already satisfied: python-dateutil<3.0.0,>=2.1 in /usr/local/lib/python3.6/dist-packages (from botocore<1.20.0,>=1.19.39->boto3==1.16.39->Hub) (2.8.1)\n",
            "Requirement already satisfied: six in /usr/local/lib/python3.6/dist-packages (from fasteners->zarr==2.6.1->Hub) (1.15.0)\n",
            "Requirement already satisfied: isodate>=0.6.0 in /usr/local/lib/python3.6/dist-packages (from msrest>=0.6.10->azure-storage-blob==12.6.0->Hub) (0.6.0)\n",
            "Requirement already satisfied: requests-oauthlib>=0.5.0 in /usr/local/lib/python3.6/dist-packages (from msrest>=0.6.10->azure-storage-blob==12.6.0->Hub) (1.3.0)\n",
            "Requirement already satisfied: cffi>=1.12 in /usr/local/lib/python3.6/dist-packages (from cryptography>=2.1.4->azure-storage-blob==12.6.0->Hub) (1.14.4)\n",
            "Requirement already satisfied: setuptools>=40.3.0 in /usr/local/lib/python3.6/dist-packages (from google-auth>=1.2->gcsfs==0.6.2->Hub) (51.1.1)\n",
            "Requirement already satisfied: pyasn1-modules>=0.2.1 in /usr/local/lib/python3.6/dist-packages (from google-auth>=1.2->gcsfs==0.6.2->Hub) (0.2.8)\n",
            "Requirement already satisfied: rsa<5,>=3.1.4; python_version >= \"3\" in /usr/local/lib/python3.6/dist-packages (from google-auth>=1.2->gcsfs==0.6.2->Hub) (4.6)\n",
            "Requirement already satisfied: cachetools<5.0,>=2.0.0 in /usr/local/lib/python3.6/dist-packages (from google-auth>=1.2->gcsfs==0.6.2->Hub) (4.2.0)\n",
            "Requirement already satisfied: oauthlib>=3.0.0 in /usr/local/lib/python3.6/dist-packages (from requests-oauthlib>=0.5.0->msrest>=0.6.10->azure-storage-blob==12.6.0->Hub) (3.1.0)\n",
            "Requirement already satisfied: pycparser in /usr/local/lib/python3.6/dist-packages (from cffi>=1.12->cryptography>=2.1.4->azure-storage-blob==12.6.0->Hub) (2.20)\n",
            "Requirement already satisfied: pyasn1<0.5.0,>=0.4.6 in /usr/local/lib/python3.6/dist-packages (from pyasn1-modules>=0.2.1->google-auth>=1.2->gcsfs==0.6.2->Hub) (0.4.8)\n"
          ],
          "name": "stdout"
        }
      ]
    },
    {
      "cell_type": "code",
      "metadata": {
        "colab": {
          "base_uri": "https://localhost:8080/",
          "height": 52
        },
        "id": "vi6ltr2iu70m",
        "outputId": "66d8a235-4603-4c83-c6ea-e88fc354720e"
      },
      "source": [
        "import tensorflow as tf\n",
        "from hub import Dataset\n",
        "from tensorflow.keras import datasets, layers, models\n",
        "import matplotlib.pyplot as plt\n",
        "import numpy as np\n",
        "import os\n",
        "print(tf.__version__)\n",
        "# check if notebook is using GPU\n",
        "tf.test.gpu_device_name()"
      ],
      "execution_count": 2,
      "outputs": [
        {
          "output_type": "stream",
          "text": [
            "2.4.0\n"
          ],
          "name": "stdout"
        },
        {
          "output_type": "execute_result",
          "data": {
            "application/vnd.google.colaboratory.intrinsic+json": {
              "type": "string"
            },
            "text/plain": [
              "''"
            ]
          },
          "metadata": {
            "tags": []
          },
          "execution_count": 2
        }
      ]
    },
    {
      "cell_type": "markdown",
      "metadata": {
        "id": "m6dMZFse1gRB"
      },
      "source": [
        "### Functions"
      ]
    },
    {
      "cell_type": "markdown",
      "metadata": {
        "id": "1IHucShqzsuT"
      },
      "source": [
        "### Load data from ActiveLoop"
      ]
    },
    {
      "cell_type": "code",
      "metadata": {
        "colab": {
          "base_uri": "https://localhost:8080/"
        },
        "id": "rGrhNPjfzX5Y",
        "outputId": "5718e57c-075f-4889-8b16-280d2ad96f79"
      },
      "source": [
        "crop_type = 'rice'\n",
        "\n",
        "print(\"Load data from ActiveLoop ...\")\n",
        "\n",
        "###### MAIZE ########\n",
        "if crop_type.lower() == 'maize':\n",
        "  tag1 = \"margauxmforsythe/SouthSudan_departments_histograms_weeks_19_30_Maize\" # 2010, 2011, 2014, 2015\n",
        "  tag2 = \"margauxmforsythe/Ethiopia_histograms_weeks_19_30_Maize\" # 2004, 2013, 2015, 2016\n",
        "\n",
        "  tag3 = \"margauxmforsythe/Senegal_IPAR_histograms_weeks_19_30_Maize\"\n",
        "\n",
        "  ds1 = Dataset(tag1)\n",
        "  ds2 = Dataset(tag2)\n",
        "  ds3 = Dataset(tag3)\n",
        "  \n",
        "  print(\"Dataset {} shape:\".format(tag1, ds1[\"histograms\"].compute().shape))\n",
        "  print(\"Dataset {} shape:\".format(ds2[\"histograms\"].compute().shape))\n",
        "\n",
        "  histograms = np.concatenate((ds1[\"histograms\"].compute(), ds2[\"histograms\"].compute(), ds3[\"histograms\"].compute()), axis=0)\n",
        "  yields_list = np.concatenate((ds1[\"yields\"].compute(), ds2[\"yields\"].compute(), ds3[\"yields\"].compute()), axis=0)\n",
        "\n",
        "  print(\"Datasets combined, histograms set's shape is {}\".format(histograms.shape))\n",
        "  print(\"Data loaded from {}, {} and {}\".format(tag1, tag2, tag3))\n",
        "\n",
        "###### RICE ########\n",
        "if crop_type.lower() == 'rice':\n",
        "  tag1 = \"margauxmforsythe/Senegal_histograms_weeks_19_30_Rice_winter_augmented\" \n",
        "  tag2 = \"margauxmforsythe/Senegal_histograms_weeks_19_30_augmented_Rice_CSC\"\n",
        "  # tag1 = \"margauxmforsythe/Senegal_histograms_weeks_19_30_rice_winter\"\n",
        "  # tag2 = \"margauxmforsythe/Senegal_histograms_weeks_19_30_rice_CSC\"\n",
        "\n",
        "  ds1 = Dataset(tag1)\n",
        "  ds2 = Dataset(tag2)\n",
        "  print(ds1[\"histograms\"].compute().shape)\n",
        "  print(ds2[\"histograms\"].compute().shape)\n",
        "  histograms = np.concatenate((ds1[\"histograms\"].compute(), ds2[\"histograms\"].compute()), axis=0)\n",
        "  yields_list = np.concatenate((ds1[\"yields\"].compute(), ds2[\"yields\"].compute()), axis=0)\n",
        "  print(histograms.shape)\n",
        "  print(\"Data loaded from {} and {}\".format(tag1, tag2))\n",
        "  \n",
        "###### MILLET ########\n",
        "if crop_type.lower() == 'millet':\n",
        "  tag = \"margauxmforsythe/Senegal_IPAR_histograms_weeks_21_30_Millet\"\n",
        "  # tag = \"margauxmforsythe/Senegal_IPAR_histograms_weeks_21_30_Millet_augmented\"\n",
        "  ds = Dataset(tag)\n",
        "  histograms = ds[\"histograms\"].compute()\n",
        "  yields_list = ds[\"yields\"].compute()\n",
        "\n",
        "  print(\"Data loaded from {}\".format(tag))\n",
        "\n",
        "if crop_type.lower() != 'millet' and crop_type.lower() != 'maize' and crop_type.lower() != 'rice': \n",
        "  print(\"Please choose a crop type between maize and millet\")\n",
        "\n",
        "yields = []\n",
        "for i in range(0,len(yields_list)):\n",
        "    yields.append(float(yields_list[i][0]))\n",
        "\n",
        "print(\"There are {} yield values for training \".format(len(yields)))"
      ],
      "execution_count": 3,
      "outputs": [
        {
          "output_type": "stream",
          "text": [
            "Load data from ActiveLoop ...\n",
            "(581, 32, 11, 9)\n",
            "(446, 32, 11, 9)\n",
            "(1027, 32, 11, 9)\n",
            "Data loaded from margauxmforsythe/Senegal_histograms_weeks_19_30_Rice_winter_augmented and margauxmforsythe/Senegal_histograms_weeks_19_30_augmented_Rice_CSC\n",
            "There are 1027 yield values for training \n"
          ],
          "name": "stdout"
        }
      ]
    },
    {
      "cell_type": "code",
      "metadata": {
        "colab": {
          "base_uri": "https://localhost:8080/"
        },
        "id": "6WR_Allmzwag",
        "outputId": "7be186e9-1cac-472c-d6ae-fbe627560889"
      },
      "source": [
        "# Get image width, height and channels from the dataset\n",
        "img_width = histograms[0].shape[0]\n",
        "img_height = histograms[0].shape[1]\n",
        "batch_size = 16\n",
        "channels = histograms[0].shape[2]\n",
        "shape = (img_width, img_height, channels)\n",
        "print(\"Shape input images: {}\".format(shape)) # (bins*time steps*bands)\n",
        "\n",
        "image_count = histograms.shape[0]\n",
        "print(\"Image count: {}\".format(image_count))\n",
        "CNN_LSTM = True\n",
        "\n",
        "# With CNN_LSTM, we need to re arrange the data to (time steps*1*bins*bands)\n",
        "if CNN_LSTM:\n",
        "  histograms_CNN_LSTM = []\n",
        "  for i in range(image_count):\n",
        "    histogram_all_timestamps_transposed = np.transpose(histograms[i], (1,0,2))\n",
        "    timestamps = []\n",
        "    for j in range(histograms[i].shape[1]): # going through all timestamps\n",
        "      timestamps.append(np.expand_dims(histogram_all_timestamps_transposed[j], axis=0))\n",
        "    histograms_CNN_LSTM.append(timestamps)\n",
        "  histograms = histograms_CNN_LSTM\n"
      ],
      "execution_count": 4,
      "outputs": [
        {
          "output_type": "stream",
          "text": [
            "Shape input images: (32, 11, 9)\n",
            "Image count: 1027\n"
          ],
          "name": "stdout"
        }
      ]
    },
    {
      "cell_type": "code",
      "metadata": {
        "colab": {
          "base_uri": "https://localhost:8080/"
        },
        "id": "-og9rmkanr-B",
        "outputId": "2c1f03db-6591-454f-d65f-a7532a289a12"
      },
      "source": [
        "assert len(histograms) == len(yields)\n",
        "list_ds = tf.data.Dataset.from_tensor_slices((histograms, yields))\n",
        "print(\"Total files: {}\".format(image_count))"
      ],
      "execution_count": 5,
      "outputs": [
        {
          "output_type": "stream",
          "text": [
            "Total files: 1027\n"
          ],
          "name": "stdout"
        }
      ]
    },
    {
      "cell_type": "code",
      "metadata": {
        "colab": {
          "base_uri": "https://localhost:8080/"
        },
        "id": "YyXwhFcB0UJ5",
        "outputId": "4c2d9ea8-3fc7-40ad-83bf-6a0ac56b699b"
      },
      "source": [
        "train_size = int(0.8 * image_count)\n",
        "val_size = int(0.1 * image_count)\n",
        "test_size = int(0.1 * image_count)\n",
        "\n",
        "list_ds = list_ds.shuffle(len(list_ds))\n",
        "test_ds = list_ds.take(test_size)\n",
        "train_ds = list_ds.skip(test_size)\n",
        "val_ds = train_ds.take(val_size)\n",
        "train_ds = train_ds.skip(val_size)\n",
        "\n",
        "n_training_files = len(train_ds)\n",
        "print(\"Total files: {}\".format(len(histograms)))\n",
        "print(\"Training files: {}\".format(len(train_ds)))\n",
        "print(\"Validation files: {}\".format(len(val_ds)))\n",
        "\n",
        "AUTOTUNE = tf.data.experimental.AUTOTUNE\n",
        "train_ds = train_ds.cache()\n",
        "train_ds = train_ds.shuffle(len(train_ds)).repeat()\n",
        "train_ds = train_ds.batch(batch_size)\n",
        "\n",
        "val_ds = val_ds.cache()\n",
        "val_ds = val_ds.shuffle(val_size)\n",
        "val_ds = val_ds.batch(val_size)\n",
        "\n",
        "test_ds = test_ds.cache()\n",
        "test_ds = test_ds.batch(len(test_ds))"
      ],
      "execution_count": 6,
      "outputs": [
        {
          "output_type": "stream",
          "text": [
            "Total files: 1027\n",
            "Training files: 823\n",
            "Validation files: 102\n"
          ],
          "name": "stdout"
        }
      ]
    },
    {
      "cell_type": "markdown",
      "metadata": {
        "id": "VntC-wWZ0x0C"
      },
      "source": [
        "### Display first band images in batch to check the data is correct"
      ]
    },
    {
      "cell_type": "code",
      "metadata": {
        "colab": {
          "base_uri": "https://localhost:8080/"
        },
        "id": "tNC6jYQpZb4w",
        "outputId": "6e58b5f6-fcf8-4c08-d365-a8954145c988"
      },
      "source": [
        "image_batch_train, label_batch_train = next(iter(train_ds))\n",
        "image_batch_val, label_batch_val= next(iter(val_ds))\n",
        "image_batch_test, label_batch_test= next(iter(test_ds))\n",
        "\n",
        "print(image_batch_train.shape)\n",
        "if not CNN_LSTM:\n",
        "  # Check if images are correct\n",
        "  plt.figure(figsize=(10, 10))\n",
        "  plt.suptitle(\"all bands first image\")\n",
        "  for i in range(9):\n",
        "    ax = plt.subplot(3, 3, i + 1)\n",
        "    plt.imshow(image_batch_train[0][:,:,i].numpy())\n",
        "    label = label_batch_train[0]\n",
        "    plt.title(label.numpy())\n",
        "    plt.axis(\"off\")\n",
        "\n",
        "  plt.show()\n",
        "else:\n",
        "  input_shape_cnn_lstm = (image_batch_train.shape[1], image_batch_train.shape[2], \n",
        "                          image_batch_train.shape[3], image_batch_train.shape[4])\n",
        "  print(\"input_shape_cnn_lstm: {} = (timestamps*1*bins*bands)\".format(input_shape_cnn_lstm))\n",
        "  input_shape_cnn = (image_batch_train.shape[2], image_batch_train.shape[3], image_batch_train.shape[4])\n",
        "  print(\"input_shape_cnn: {} = (1*bins*bands)\".format(input_shape_cnn))"
      ],
      "execution_count": 7,
      "outputs": [
        {
          "output_type": "stream",
          "text": [
            "(16, 11, 1, 32, 9)\n",
            "input_shape_cnn_lstm: (11, 1, 32, 9) = (timestamps*1*bins*bands)\n",
            "input_shape_cnn: (1, 32, 9) = (1*bins*bands)\n"
          ],
          "name": "stdout"
        }
      ]
    },
    {
      "cell_type": "code",
      "metadata": {
        "colab": {
          "base_uri": "https://localhost:8080/",
          "height": 353
        },
        "id": "zjBe-37DlBYy",
        "outputId": "ec706d3e-5151-4f06-f2b7-e92962eb1221"
      },
      "source": [
        "indexes_list = []\n",
        "for i in range(len(yields)):\n",
        "  indexes_list.append(i)\n",
        "\n",
        "plt.figure(figsize=(7,5))\n",
        "plt.title(\"Plot yields (T/ha) in the dataset\")\n",
        "plt.bar(indexes_list, yields)"
      ],
      "execution_count": 8,
      "outputs": [
        {
          "output_type": "execute_result",
          "data": {
            "text/plain": [
              "<BarContainer object of 1027 artists>"
            ]
          },
          "metadata": {
            "tags": []
          },
          "execution_count": 8
        },
        {
          "output_type": "display_data",
          "data": {
            "image/png": "[encoded data removed]",
            "text/plain": [
              "<Figure size 504x360 with 1 Axes>"
            ]
          },
          "metadata": {
            "tags": [],
            "needs_background": "light"
          }
        }
      ]
    },
    {
      "cell_type": "markdown",
      "metadata": {
        "id": "uZcNjIgc062v"
      },
      "source": [
        "## Build Model: CNN-LSTM"
      ]
    },
    {
      "cell_type": "code",
      "metadata": {
        "colab": {
          "base_uri": "https://localhost:8080/"
        },
        "id": "6YCeEK3ec9_W",
        "outputId": "59d0b3c3-d305-4360-f3c4-b0923acd996c"
      },
      "source": [
        "if CNN_LSTM:\n",
        "  # CNN-LSTM \n",
        "  # https://www.mdpi.com/1424-8220/19/20/4363/htm\n",
        "  from keras.layers.wrappers import TimeDistributed\n",
        "  from keras.layers import *\n",
        "  from keras import regularizers\n",
        "  model=models.Sequential()\n",
        "\n",
        "  model.add(TimeDistributed(Conv2D(32, (1, 2), activation='relu',\n",
        "                                   kernel_regularizer=regularizers.l2(0.001),\n",
        "                                   input_shape=(input_shape_cnn)), input_shape=input_shape_cnn_lstm))\n",
        "  model.add(TimeDistributed(BatchNormalization()))\n",
        "  model.add(TimeDistributed(MaxPooling2D(pool_size=(1, 2))))\n",
        "\n",
        "  model.add(TimeDistributed(Conv2D(64, (1, 2), activation='relu',\n",
        "                                   kernel_regularizer=regularizers.l2(0.001))))\n",
        "  model.add(TimeDistributed(BatchNormalization()))\n",
        "  model.add(TimeDistributed(MaxPooling2D(pool_size=(1, 2))))\n",
        "\n",
        "  model.add(TimeDistributed(Flatten()))\n",
        "  model.add(LSTM(256, return_sequences=True, activation='relu', dropout=0.25));\n",
        "\n",
        "  model.add(TimeDistributed(Dense(64)))\n",
        "  model.add(TimeDistributed(Flatten()))\n",
        "  model.add(TimeDistributed(Dropout(0.5)))\n",
        "  model.add(TimeDistributed(Dense(1)))\n",
        "  model.add(GlobalAveragePooling1D(name=\"global_avg_flow\"))\n",
        "\n",
        "  model.summary()"
      ],
      "execution_count": 9,
      "outputs": [
        {
          "output_type": "stream",
          "text": [
            "Model: \"sequential\"\n",
            "_________________________________________________________________\n",
            "Layer (type)                 Output Shape              Param #   \n",
            "=================================================================\n",
            "time_distributed (TimeDistri (None, 11, 1, 31, 32)     608       \n",
            "_________________________________________________________________\n",
            "time_distributed_1 (TimeDist (None, 11, 1, 31, 32)     128       \n",
            "_________________________________________________________________\n",
            "time_distributed_2 (TimeDist (None, 11, 1, 15, 32)     0         \n",
            "_________________________________________________________________\n",
            "time_distributed_3 (TimeDist (None, 11, 1, 14, 64)     4160      \n",
            "_________________________________________________________________\n",
            "time_distributed_4 (TimeDist (None, 11, 1, 14, 64)     256       \n",
            "_________________________________________________________________\n",
            "time_distributed_5 (TimeDist (None, 11, 1, 7, 64)      0         \n",
            "_________________________________________________________________\n",
            "time_distributed_6 (TimeDist (None, 11, 448)           0         \n",
            "_________________________________________________________________\n",
            "lstm (LSTM)                  (None, 11, 256)           721920    \n",
            "_________________________________________________________________\n",
            "time_distributed_7 (TimeDist (None, 11, 64)            16448     \n",
            "_________________________________________________________________\n",
            "time_distributed_8 (TimeDist (None, 11, 64)            0         \n",
            "_________________________________________________________________\n",
            "time_distributed_9 (TimeDist (None, 11, 64)            0         \n",
            "_________________________________________________________________\n",
            "time_distributed_10 (TimeDis (None, 11, 1)             65        \n",
            "_________________________________________________________________\n",
            "global_avg_flow (GlobalAvera (None, 1)                 0         \n",
            "=================================================================\n",
            "Total params: 743,585\n",
            "Trainable params: 743,393\n",
            "Non-trainable params: 192\n",
            "_________________________________________________________________\n"
          ],
          "name": "stdout"
        }
      ]
    },
    {
      "cell_type": "code",
      "metadata": {
        "id": "uqsFLT061KKS"
      },
      "source": [
        "initial_learning_rate = 0.00001\n",
        "\n",
        "model.compile(optimizer=tf.keras.optimizers.Adam(learning_rate=initial_learning_rate),\n",
        "              loss=tf.keras.losses.MeanSquaredError(),\n",
        "              metrics=['accuracy', tf.keras.metrics.RootMeanSquaredError(name='RMSE'), tf.keras.losses.MeanSquaredError(name='MSE')])"
      ],
      "execution_count": 10,
      "outputs": []
    },
    {
      "cell_type": "markdown",
      "metadata": {
        "id": "jBi1kz5s1XPe"
      },
      "source": [
        "### Create Callbacks for model fit"
      ]
    },
    {
      "cell_type": "code",
      "metadata": {
        "id": "I2SnL7hT1PkD"
      },
      "source": [
        "checkpoint_file = 'checkpoint_{}_b{}_CNN-LSTM_IPAR_augmented_data.h5'.format(crop_type, batch_size)\n",
        "model_checkpoint_callback = tf.keras.callbacks.ModelCheckpoint(\n",
        "    filepath= checkpoint_file,\n",
        "    format='h5',\n",
        "    verbose=1,\n",
        "    save_weights_only=True,\n",
        "    monitor='val_loss',\n",
        "    mode='min',\n",
        "    save_best_only=True)\n",
        "\n",
        "reducelronplateau = tf.keras.callbacks.ReduceLROnPlateau(\n",
        "    monitor='val_loss', factor=0.1, patience=5, verbose=1,\n",
        "    mode='min', min_lr=1e-10)\n",
        "\n",
        "early_stop = tf.keras.callbacks.EarlyStopping(monitor='val_loss',mode='min', patience=20, verbose=1)"
      ],
      "execution_count": 11,
      "outputs": []
    },
    {
      "cell_type": "markdown",
      "metadata": {
        "id": "k47yiQV61389"
      },
      "source": [
        "## Training"
      ]
    },
    {
      "cell_type": "code",
      "metadata": {
        "colab": {
          "base_uri": "https://localhost:8080/"
        },
        "id": "oTbtdYpy15Zd",
        "outputId": "1c7b7d57-a105-42e2-9560-3b29e43f1ece"
      },
      "source": [
        "print(\"Train ... \")\n",
        "\n",
        "model.trainable = True\n",
        "history = model.fit(train_ds,\n",
        "                    epochs=1000,\n",
        "                    steps_per_epoch=n_training_files//batch_size,\n",
        "                    validation_data=val_ds,\n",
        "                    verbose=1,\n",
        "                    callbacks=[model_checkpoint_callback, early_stop])\n"
      ],
      "execution_count": 12,
      "outputs": [
        {
          "output_type": "stream",
          "text": [
            "Train ... \n",
            "Epoch 1/1000\n",
            "51/51 [==============================] - 7s 101ms/step - loss: 20.6239 - accuracy: 0.0078 - RMSE: 4.5296 - MSE: 20.5655 - val_loss: 29.3390 - val_accuracy: 0.0000e+00 - val_RMSE: 5.4112 - val_MSE: 29.2806\n",
            "\n",
            "Epoch 00001: val_loss improved from inf to 29.33895, saving model to checkpoint_rice_b16_CNN-LSTM_IPAR_augmented_data.h5\n",
            "Epoch 2/1000\n",
            "51/51 [==============================] - 4s 87ms/step - loss: 9.8645 - accuracy: 0.0113 - RMSE: 3.1263 - MSE: 9.8061 - val_loss: 28.3297 - val_accuracy: 0.0000e+00 - val_RMSE: 5.3171 - val_MSE: 28.2714\n",
            "\n",
            "Epoch 00002: val_loss improved from 29.33895 to 28.32975, saving model to checkpoint_rice_b16_CNN-LSTM_IPAR_augmented_data.h5\n",
            "Epoch 3/1000\n",
            "51/51 [==============================] - 4s 88ms/step - loss: 6.6794 - accuracy: 0.0130 - RMSE: 2.5718 - MSE: 6.6210 - val_loss: 26.9971 - val_accuracy: 0.0000e+00 - val_RMSE: 5.1902 - val_MSE: 26.9387\n",
            "\n",
            "Epoch 00003: val_loss improved from 28.32975 to 26.99706, saving model to checkpoint_rice_b16_CNN-LSTM_IPAR_augmented_data.h5\n",
            "Epoch 4/1000\n",
            "51/51 [==============================] - 5s 89ms/step - loss: 5.5770 - accuracy: 0.0165 - RMSE: 2.3481 - MSE: 5.5186 - val_loss: 25.4613 - val_accuracy: 0.0000e+00 - val_RMSE: 5.0401 - val_MSE: 25.4029\n",
            "\n",
            "Epoch 00004: val_loss improved from 26.99706 to 25.46125, saving model to checkpoint_rice_b16_CNN-LSTM_IPAR_augmented_data.h5\n",
            "Epoch 5/1000\n",
            "51/51 [==============================] - 4s 87ms/step - loss: 5.1225 - accuracy: 0.0109 - RMSE: 2.2496 - MSE: 5.0641 - val_loss: 23.6025 - val_accuracy: 0.0098 - val_RMSE: 4.8522 - val_MSE: 23.5441\n",
            "\n",
            "Epoch 00005: val_loss improved from 25.46125 to 23.60250, saving model to checkpoint_rice_b16_CNN-LSTM_IPAR_augmented_data.h5\n",
            "Epoch 6/1000\n",
            "51/51 [==============================] - 5s 89ms/step - loss: 5.1498 - accuracy: 0.0151 - RMSE: 2.2521 - MSE: 5.0914 - val_loss: 21.7176 - val_accuracy: 0.0098 - val_RMSE: 4.6539 - val_MSE: 21.6592\n",
            "\n",
            "Epoch 00006: val_loss improved from 23.60250 to 21.71761, saving model to checkpoint_rice_b16_CNN-LSTM_IPAR_augmented_data.h5\n",
            "Epoch 7/1000\n",
            "51/51 [==============================] - 5s 89ms/step - loss: 4.5602 - accuracy: 0.0094 - RMSE: 2.1199 - MSE: 4.5018 - val_loss: 19.5769 - val_accuracy: 0.0098 - val_RMSE: 4.4180 - val_MSE: 19.5185\n",
            "\n",
            "Epoch 00007: val_loss improved from 21.71761 to 19.57689, saving model to checkpoint_rice_b16_CNN-LSTM_IPAR_augmented_data.h5\n",
            "Epoch 8/1000\n",
            "51/51 [==============================] - 5s 90ms/step - loss: 4.5775 - accuracy: 0.0142 - RMSE: 2.1242 - MSE: 4.5191 - val_loss: 17.2684 - val_accuracy: 0.0098 - val_RMSE: 4.1485 - val_MSE: 17.2100\n",
            "\n",
            "Epoch 00008: val_loss improved from 19.57689 to 17.26836, saving model to checkpoint_rice_b16_CNN-LSTM_IPAR_augmented_data.h5\n",
            "Epoch 9/1000\n",
            "51/51 [==============================] - 5s 92ms/step - loss: 4.5640 - accuracy: 0.0096 - RMSE: 2.1220 - MSE: 4.5056 - val_loss: 14.2959 - val_accuracy: 0.0098 - val_RMSE: 3.7733 - val_MSE: 14.2376\n",
            "\n",
            "Epoch 00009: val_loss improved from 17.26836 to 14.29595, saving model to checkpoint_rice_b16_CNN-LSTM_IPAR_augmented_data.h5\n",
            "Epoch 10/1000\n",
            "51/51 [==============================] - 5s 92ms/step - loss: 4.3504 - accuracy: 0.0129 - RMSE: 2.0679 - MSE: 4.2920 - val_loss: 11.6999 - val_accuracy: 0.0098 - val_RMSE: 3.4120 - val_MSE: 11.6415\n",
            "\n",
            "Epoch 00010: val_loss improved from 14.29595 to 11.69986, saving model to checkpoint_rice_b16_CNN-LSTM_IPAR_augmented_data.h5\n",
            "Epoch 11/1000\n",
            "51/51 [==============================] - 5s 90ms/step - loss: 4.4181 - accuracy: 0.0071 - RMSE: 2.0863 - MSE: 4.3597 - val_loss: 9.0200 - val_accuracy: 0.0098 - val_RMSE: 2.9936 - val_MSE: 8.9617\n",
            "\n",
            "Epoch 00011: val_loss improved from 11.69986 to 9.02004, saving model to checkpoint_rice_b16_CNN-LSTM_IPAR_augmented_data.h5\n",
            "Epoch 12/1000\n",
            "51/51 [==============================] - 5s 89ms/step - loss: 4.3917 - accuracy: 0.0218 - RMSE: 2.0814 - MSE: 4.3333 - val_loss: 7.0222 - val_accuracy: 0.0098 - val_RMSE: 2.6389 - val_MSE: 6.9638\n",
            "\n",
            "Epoch 00012: val_loss improved from 9.02004 to 7.02218, saving model to checkpoint_rice_b16_CNN-LSTM_IPAR_augmented_data.h5\n",
            "Epoch 13/1000\n",
            "51/51 [==============================] - 5s 91ms/step - loss: 3.6962 - accuracy: 0.0115 - RMSE: 1.9049 - MSE: 3.6378 - val_loss: 5.4168 - val_accuracy: 0.0098 - val_RMSE: 2.3148 - val_MSE: 5.3584\n",
            "\n",
            "Epoch 00013: val_loss improved from 7.02218 to 5.41675, saving model to checkpoint_rice_b16_CNN-LSTM_IPAR_augmented_data.h5\n",
            "Epoch 14/1000\n",
            "51/51 [==============================] - 5s 90ms/step - loss: 3.7759 - accuracy: 0.0147 - RMSE: 1.9277 - MSE: 3.7175 - val_loss: 4.6328 - val_accuracy: 0.0098 - val_RMSE: 2.1388 - val_MSE: 4.5744\n",
            "\n",
            "Epoch 00014: val_loss improved from 5.41675 to 4.63282, saving model to checkpoint_rice_b16_CNN-LSTM_IPAR_augmented_data.h5\n",
            "Epoch 15/1000\n",
            "51/51 [==============================] - 5s 92ms/step - loss: 4.3006 - accuracy: 0.0105 - RMSE: 2.0587 - MSE: 4.2422 - val_loss: 4.5150 - val_accuracy: 0.0098 - val_RMSE: 2.1111 - val_MSE: 4.4566\n",
            "\n",
            "Epoch 00015: val_loss improved from 4.63282 to 4.51496, saving model to checkpoint_rice_b16_CNN-LSTM_IPAR_augmented_data.h5\n",
            "Epoch 16/1000\n",
            "51/51 [==============================] - 5s 89ms/step - loss: 4.3823 - accuracy: 0.0116 - RMSE: 2.0784 - MSE: 4.3239 - val_loss: 4.2528 - val_accuracy: 0.0098 - val_RMSE: 2.0480 - val_MSE: 4.1944\n",
            "\n",
            "Epoch 00016: val_loss improved from 4.51496 to 4.25278, saving model to checkpoint_rice_b16_CNN-LSTM_IPAR_augmented_data.h5\n",
            "Epoch 17/1000\n",
            "51/51 [==============================] - 5s 90ms/step - loss: 4.2150 - accuracy: 0.0109 - RMSE: 2.0346 - MSE: 4.1566 - val_loss: 4.0000 - val_accuracy: 0.0098 - val_RMSE: 1.9853 - val_MSE: 3.9416\n",
            "\n",
            "Epoch 00017: val_loss improved from 4.25278 to 3.99997, saving model to checkpoint_rice_b16_CNN-LSTM_IPAR_augmented_data.h5\n",
            "Epoch 18/1000\n",
            "51/51 [==============================] - 5s 92ms/step - loss: 3.8861 - accuracy: 0.0051 - RMSE: 1.9558 - MSE: 3.8278 - val_loss: 3.9748 - val_accuracy: 0.0098 - val_RMSE: 1.9790 - val_MSE: 3.9164\n",
            "\n",
            "Epoch 00018: val_loss improved from 3.99997 to 3.97483, saving model to checkpoint_rice_b16_CNN-LSTM_IPAR_augmented_data.h5\n",
            "Epoch 19/1000\n",
            "51/51 [==============================] - 5s 91ms/step - loss: 4.1519 - accuracy: 0.0143 - RMSE: 2.0226 - MSE: 4.0935 - val_loss: 3.9917 - val_accuracy: 0.0098 - val_RMSE: 1.9833 - val_MSE: 3.9333\n",
            "\n",
            "Epoch 00019: val_loss did not improve from 3.97483\n",
            "Epoch 20/1000\n",
            "51/51 [==============================] - 5s 95ms/step - loss: 4.0193 - accuracy: 0.0158 - RMSE: 1.9897 - MSE: 3.9609 - val_loss: 3.7777 - val_accuracy: 0.0098 - val_RMSE: 1.9286 - val_MSE: 3.7194\n",
            "\n",
            "Epoch 00020: val_loss improved from 3.97483 to 3.77774, saving model to checkpoint_rice_b16_CNN-LSTM_IPAR_augmented_data.h5\n",
            "Epoch 21/1000\n",
            "51/51 [==============================] - 5s 90ms/step - loss: 3.9218 - accuracy: 0.0140 - RMSE: 1.9638 - MSE: 3.8634 - val_loss: 3.9681 - val_accuracy: 0.0098 - val_RMSE: 1.9773 - val_MSE: 3.9098\n",
            "\n",
            "Epoch 00021: val_loss did not improve from 3.77774\n",
            "Epoch 22/1000\n",
            "51/51 [==============================] - 5s 96ms/step - loss: 3.7074 - accuracy: 0.0084 - RMSE: 1.9096 - MSE: 3.6490 - val_loss: 3.8419 - val_accuracy: 0.0098 - val_RMSE: 1.9451 - val_MSE: 3.7835\n",
            "\n",
            "Epoch 00022: val_loss did not improve from 3.77774\n",
            "Epoch 23/1000\n",
            "51/51 [==============================] - 5s 91ms/step - loss: 4.2701 - accuracy: 0.0136 - RMSE: 2.0514 - MSE: 4.2117 - val_loss: 3.7689 - val_accuracy: 0.0098 - val_RMSE: 1.9263 - val_MSE: 3.7106\n",
            "\n",
            "Epoch 00023: val_loss improved from 3.77774 to 3.76895, saving model to checkpoint_rice_b16_CNN-LSTM_IPAR_augmented_data.h5\n",
            "Epoch 24/1000\n",
            "51/51 [==============================] - 5s 91ms/step - loss: 4.0591 - accuracy: 0.0157 - RMSE: 1.9983 - MSE: 4.0008 - val_loss: 3.6937 - val_accuracy: 0.0098 - val_RMSE: 1.9066 - val_MSE: 3.6353\n",
            "\n",
            "Epoch 00024: val_loss improved from 3.76895 to 3.69367, saving model to checkpoint_rice_b16_CNN-LSTM_IPAR_augmented_data.h5\n",
            "Epoch 25/1000\n",
            "51/51 [==============================] - 5s 90ms/step - loss: 3.2851 - accuracy: 0.0141 - RMSE: 1.7909 - MSE: 3.2268 - val_loss: 3.7201 - val_accuracy: 0.0098 - val_RMSE: 1.9136 - val_MSE: 3.6618\n",
            "\n",
            "Epoch 00025: val_loss did not improve from 3.69367\n",
            "Epoch 26/1000\n",
            "51/51 [==============================] - 5s 92ms/step - loss: 3.8562 - accuracy: 0.0086 - RMSE: 1.9455 - MSE: 3.7978 - val_loss: 3.7275 - val_accuracy: 0.0098 - val_RMSE: 1.9155 - val_MSE: 3.6691\n",
            "\n",
            "Epoch 00026: val_loss did not improve from 3.69367\n",
            "Epoch 27/1000\n",
            "51/51 [==============================] - 5s 93ms/step - loss: 3.6076 - accuracy: 0.0138 - RMSE: 1.8834 - MSE: 3.5492 - val_loss: 3.7230 - val_accuracy: 0.0098 - val_RMSE: 1.9143 - val_MSE: 3.6646\n",
            "\n",
            "Epoch 00027: val_loss did not improve from 3.69367\n",
            "Epoch 28/1000\n",
            "51/51 [==============================] - 5s 94ms/step - loss: 3.7647 - accuracy: 0.0074 - RMSE: 1.9245 - MSE: 3.7063 - val_loss: 3.8037 - val_accuracy: 0.0098 - val_RMSE: 1.9353 - val_MSE: 3.7454\n",
            "\n",
            "Epoch 00028: val_loss did not improve from 3.69367\n",
            "Epoch 29/1000\n",
            "51/51 [==============================] - 5s 90ms/step - loss: 4.0300 - accuracy: 0.0123 - RMSE: 1.9893 - MSE: 3.9717 - val_loss: 3.6133 - val_accuracy: 0.0098 - val_RMSE: 1.8854 - val_MSE: 3.5549\n",
            "\n",
            "Epoch 00029: val_loss improved from 3.69367 to 3.61330, saving model to checkpoint_rice_b16_CNN-LSTM_IPAR_augmented_data.h5\n",
            "Epoch 30/1000\n",
            "51/51 [==============================] - 5s 93ms/step - loss: 3.8024 - accuracy: 0.0095 - RMSE: 1.9331 - MSE: 3.7440 - val_loss: 3.8486 - val_accuracy: 0.0098 - val_RMSE: 1.9468 - val_MSE: 3.7902\n",
            "\n",
            "Epoch 00030: val_loss did not improve from 3.61330\n",
            "Epoch 31/1000\n",
            "51/51 [==============================] - 5s 91ms/step - loss: 4.1342 - accuracy: 0.0084 - RMSE: 2.0165 - MSE: 4.0758 - val_loss: 3.7356 - val_accuracy: 0.0098 - val_RMSE: 1.9176 - val_MSE: 3.6772\n",
            "\n",
            "Epoch 00031: val_loss did not improve from 3.61330\n",
            "Epoch 32/1000\n",
            "51/51 [==============================] - 5s 92ms/step - loss: 3.2673 - accuracy: 0.0176 - RMSE: 1.7888 - MSE: 3.2090 - val_loss: 3.6505 - val_accuracy: 0.0098 - val_RMSE: 1.8953 - val_MSE: 3.5921\n",
            "\n",
            "Epoch 00032: val_loss did not improve from 3.61330\n",
            "Epoch 33/1000\n",
            "51/51 [==============================] - 5s 93ms/step - loss: 3.5696 - accuracy: 0.0126 - RMSE: 1.8729 - MSE: 3.5112 - val_loss: 3.8048 - val_accuracy: 0.0098 - val_RMSE: 1.9356 - val_MSE: 3.7464\n",
            "\n",
            "Epoch 00033: val_loss did not improve from 3.61330\n",
            "Epoch 34/1000\n",
            "51/51 [==============================] - 5s 96ms/step - loss: 3.7805 - accuracy: 0.0128 - RMSE: 1.9279 - MSE: 3.7221 - val_loss: 3.8438 - val_accuracy: 0.0098 - val_RMSE: 1.9456 - val_MSE: 3.7855\n",
            "\n",
            "Epoch 00034: val_loss did not improve from 3.61330\n",
            "Epoch 35/1000\n",
            "51/51 [==============================] - 5s 90ms/step - loss: 4.0007 - accuracy: 0.0128 - RMSE: 1.9834 - MSE: 3.9423 - val_loss: 3.6312 - val_accuracy: 0.0098 - val_RMSE: 1.8902 - val_MSE: 3.5728\n",
            "\n",
            "Epoch 00035: val_loss did not improve from 3.61330\n",
            "Epoch 36/1000\n",
            "51/51 [==============================] - 5s 95ms/step - loss: 3.6331 - accuracy: 0.0136 - RMSE: 1.8898 - MSE: 3.5747 - val_loss: 3.7037 - val_accuracy: 0.0098 - val_RMSE: 1.9093 - val_MSE: 3.6453\n",
            "\n",
            "Epoch 00036: val_loss did not improve from 3.61330\n",
            "Epoch 37/1000\n",
            "51/51 [==============================] - 5s 92ms/step - loss: 3.4203 - accuracy: 0.0100 - RMSE: 1.8311 - MSE: 3.3619 - val_loss: 3.6923 - val_accuracy: 0.0098 - val_RMSE: 1.9063 - val_MSE: 3.6339\n",
            "\n",
            "Epoch 00037: val_loss did not improve from 3.61330\n",
            "Epoch 38/1000\n",
            "51/51 [==============================] - 5s 92ms/step - loss: 3.5654 - accuracy: 0.0091 - RMSE: 1.8713 - MSE: 3.5070 - val_loss: 3.7664 - val_accuracy: 0.0098 - val_RMSE: 1.9256 - val_MSE: 3.7081\n",
            "\n",
            "Epoch 00038: val_loss did not improve from 3.61330\n",
            "Epoch 39/1000\n",
            "51/51 [==============================] - 5s 94ms/step - loss: 4.0438 - accuracy: 0.0099 - RMSE: 1.9955 - MSE: 3.9855 - val_loss: 3.5462 - val_accuracy: 0.0098 - val_RMSE: 1.8676 - val_MSE: 3.4878\n",
            "\n",
            "Epoch 00039: val_loss improved from 3.61330 to 3.54621, saving model to checkpoint_rice_b16_CNN-LSTM_IPAR_augmented_data.h5\n",
            "Epoch 40/1000\n",
            "51/51 [==============================] - 5s 99ms/step - loss: 3.4975 - accuracy: 0.0064 - RMSE: 1.8536 - MSE: 3.4391 - val_loss: 3.6950 - val_accuracy: 0.0098 - val_RMSE: 1.9070 - val_MSE: 3.6366\n",
            "\n",
            "Epoch 00040: val_loss did not improve from 3.54621\n",
            "Epoch 41/1000\n",
            "51/51 [==============================] - 5s 93ms/step - loss: 3.8617 - accuracy: 0.0109 - RMSE: 1.9480 - MSE: 3.8033 - val_loss: 3.5939 - val_accuracy: 0.0098 - val_RMSE: 1.8803 - val_MSE: 3.5355\n",
            "\n",
            "Epoch 00041: val_loss did not improve from 3.54621\n",
            "Epoch 42/1000\n",
            "51/51 [==============================] - 5s 91ms/step - loss: 3.4747 - accuracy: 0.0133 - RMSE: 1.8477 - MSE: 3.4163 - val_loss: 3.7067 - val_accuracy: 0.0098 - val_RMSE: 1.9100 - val_MSE: 3.6483\n",
            "\n",
            "Epoch 00042: val_loss did not improve from 3.54621\n",
            "Epoch 43/1000\n",
            "51/51 [==============================] - 5s 92ms/step - loss: 3.9257 - accuracy: 0.0127 - RMSE: 1.9609 - MSE: 3.8673 - val_loss: 3.6248 - val_accuracy: 0.0098 - val_RMSE: 1.8885 - val_MSE: 3.5664\n",
            "\n",
            "Epoch 00043: val_loss did not improve from 3.54621\n",
            "Epoch 44/1000\n",
            "51/51 [==============================] - 5s 94ms/step - loss: 3.5958 - accuracy: 0.0105 - RMSE: 1.8802 - MSE: 3.5374 - val_loss: 3.7166 - val_accuracy: 0.0098 - val_RMSE: 1.9126 - val_MSE: 3.6582\n",
            "\n",
            "Epoch 00044: val_loss did not improve from 3.54621\n",
            "Epoch 45/1000\n",
            "51/51 [==============================] - 5s 93ms/step - loss: 3.3742 - accuracy: 0.0105 - RMSE: 1.8197 - MSE: 3.3159 - val_loss: 3.6444 - val_accuracy: 0.0098 - val_RMSE: 1.8937 - val_MSE: 3.5861\n",
            "\n",
            "Epoch 00045: val_loss did not improve from 3.54621\n",
            "Epoch 46/1000\n",
            "51/51 [==============================] - 5s 92ms/step - loss: 3.6567 - accuracy: 0.0136 - RMSE: 1.8955 - MSE: 3.5983 - val_loss: 3.5333 - val_accuracy: 0.0098 - val_RMSE: 1.8641 - val_MSE: 3.4749\n",
            "\n",
            "Epoch 00046: val_loss improved from 3.54621 to 3.53325, saving model to checkpoint_rice_b16_CNN-LSTM_IPAR_augmented_data.h5\n",
            "Epoch 47/1000\n",
            "51/51 [==============================] - 5s 92ms/step - loss: 3.3873 - accuracy: 0.0152 - RMSE: 1.8231 - MSE: 3.3289 - val_loss: 3.5660 - val_accuracy: 0.0098 - val_RMSE: 1.8729 - val_MSE: 3.5076\n",
            "\n",
            "Epoch 00047: val_loss did not improve from 3.53325\n",
            "Epoch 48/1000\n",
            "51/51 [==============================] - 5s 92ms/step - loss: 3.8222 - accuracy: 0.0119 - RMSE: 1.9346 - MSE: 3.7638 - val_loss: 3.5007 - val_accuracy: 0.0098 - val_RMSE: 1.8554 - val_MSE: 3.4424\n",
            "\n",
            "Epoch 00048: val_loss improved from 3.53325 to 3.50073, saving model to checkpoint_rice_b16_CNN-LSTM_IPAR_augmented_data.h5\n",
            "Epoch 49/1000\n",
            "51/51 [==============================] - 5s 90ms/step - loss: 3.5453 - accuracy: 0.0132 - RMSE: 1.8663 - MSE: 3.4870 - val_loss: 3.5523 - val_accuracy: 0.0098 - val_RMSE: 1.8692 - val_MSE: 3.4940\n",
            "\n",
            "Epoch 00049: val_loss did not improve from 3.50073\n",
            "Epoch 50/1000\n",
            "51/51 [==============================] - 5s 93ms/step - loss: 3.3780 - accuracy: 0.0124 - RMSE: 1.8215 - MSE: 3.3196 - val_loss: 3.6190 - val_accuracy: 0.0098 - val_RMSE: 1.8870 - val_MSE: 3.5606\n",
            "\n",
            "Epoch 00050: val_loss did not improve from 3.50073\n",
            "Epoch 51/1000\n",
            "51/51 [==============================] - 5s 91ms/step - loss: 3.3923 - accuracy: 0.0053 - RMSE: 1.8256 - MSE: 3.3340 - val_loss: 3.6588 - val_accuracy: 0.0098 - val_RMSE: 1.8975 - val_MSE: 3.6004\n",
            "\n",
            "Epoch 00051: val_loss did not improve from 3.50073\n",
            "Epoch 52/1000\n",
            "51/51 [==============================] - 5s 92ms/step - loss: 3.3231 - accuracy: 0.0158 - RMSE: 1.8048 - MSE: 3.2648 - val_loss: 3.6405 - val_accuracy: 0.0098 - val_RMSE: 1.8926 - val_MSE: 3.5821\n",
            "\n",
            "Epoch 00052: val_loss did not improve from 3.50073\n",
            "Epoch 53/1000\n",
            "51/51 [==============================] - 5s 94ms/step - loss: 3.7860 - accuracy: 0.0113 - RMSE: 1.9248 - MSE: 3.7277 - val_loss: 3.7764 - val_accuracy: 0.0098 - val_RMSE: 1.9282 - val_MSE: 3.7181\n",
            "\n",
            "Epoch 00053: val_loss did not improve from 3.50073\n",
            "Epoch 54/1000\n",
            "51/51 [==============================] - 5s 94ms/step - loss: 3.3510 - accuracy: 0.0125 - RMSE: 1.8114 - MSE: 3.2926 - val_loss: 3.5512 - val_accuracy: 0.0098 - val_RMSE: 1.8689 - val_MSE: 3.4928\n",
            "\n",
            "Epoch 00054: val_loss did not improve from 3.50073\n",
            "Epoch 55/1000\n",
            "51/51 [==============================] - 5s 94ms/step - loss: 3.4077 - accuracy: 0.0198 - RMSE: 1.8270 - MSE: 3.3493 - val_loss: 3.6251 - val_accuracy: 0.0098 - val_RMSE: 1.8886 - val_MSE: 3.5668\n",
            "\n",
            "Epoch 00055: val_loss did not improve from 3.50073\n",
            "Epoch 56/1000\n",
            "51/51 [==============================] - 5s 93ms/step - loss: 4.3053 - accuracy: 0.0071 - RMSE: 2.0577 - MSE: 4.2469 - val_loss: 3.5224 - val_accuracy: 0.0098 - val_RMSE: 1.8612 - val_MSE: 3.4640\n",
            "\n",
            "Epoch 00056: val_loss did not improve from 3.50073\n",
            "Epoch 57/1000\n",
            "51/51 [==============================] - 5s 95ms/step - loss: 3.1306 - accuracy: 0.0107 - RMSE: 1.7487 - MSE: 3.0722 - val_loss: 3.5513 - val_accuracy: 0.0098 - val_RMSE: 1.8689 - val_MSE: 3.4930\n",
            "\n",
            "Epoch 00057: val_loss did not improve from 3.50073\n",
            "Epoch 58/1000\n",
            "51/51 [==============================] - 5s 97ms/step - loss: 3.4279 - accuracy: 0.0074 - RMSE: 1.8321 - MSE: 3.3696 - val_loss: 3.5035 - val_accuracy: 0.0098 - val_RMSE: 1.8561 - val_MSE: 3.4451\n",
            "\n",
            "Epoch 00058: val_loss did not improve from 3.50073\n",
            "Epoch 59/1000\n",
            "51/51 [==============================] - 5s 94ms/step - loss: 3.6042 - accuracy: 0.0098 - RMSE: 1.8822 - MSE: 3.5458 - val_loss: 3.5336 - val_accuracy: 0.0098 - val_RMSE: 1.8642 - val_MSE: 3.4752\n",
            "\n",
            "Epoch 00059: val_loss did not improve from 3.50073\n",
            "Epoch 60/1000\n",
            "51/51 [==============================] - 5s 93ms/step - loss: 3.3969 - accuracy: 0.0124 - RMSE: 1.8261 - MSE: 3.3385 - val_loss: 3.5196 - val_accuracy: 0.0098 - val_RMSE: 1.8604 - val_MSE: 3.4612\n",
            "\n",
            "Epoch 00060: val_loss did not improve from 3.50073\n",
            "Epoch 61/1000\n",
            "51/51 [==============================] - 5s 91ms/step - loss: 3.4448 - accuracy: 0.0102 - RMSE: 1.8376 - MSE: 3.3864 - val_loss: 3.5715 - val_accuracy: 0.0098 - val_RMSE: 1.8743 - val_MSE: 3.5132\n",
            "\n",
            "Epoch 00061: val_loss did not improve from 3.50073\n",
            "Epoch 62/1000\n",
            "51/51 [==============================] - 5s 95ms/step - loss: 3.6033 - accuracy: 0.0101 - RMSE: 1.8821 - MSE: 3.5449 - val_loss: 3.6837 - val_accuracy: 0.0098 - val_RMSE: 1.9040 - val_MSE: 3.6254\n",
            "\n",
            "Epoch 00062: val_loss did not improve from 3.50073\n",
            "Epoch 63/1000\n",
            "51/51 [==============================] - 5s 90ms/step - loss: 3.4527 - accuracy: 0.0112 - RMSE: 1.8403 - MSE: 3.3943 - val_loss: 3.4843 - val_accuracy: 0.0098 - val_RMSE: 1.8509 - val_MSE: 3.4259\n",
            "\n",
            "Epoch 00063: val_loss improved from 3.50073 to 3.48429, saving model to checkpoint_rice_b16_CNN-LSTM_IPAR_augmented_data.h5\n",
            "Epoch 64/1000\n",
            "51/51 [==============================] - 5s 92ms/step - loss: 3.0964 - accuracy: 0.0051 - RMSE: 1.7420 - MSE: 3.0381 - val_loss: 3.6301 - val_accuracy: 0.0098 - val_RMSE: 1.8899 - val_MSE: 3.5717\n",
            "\n",
            "Epoch 00064: val_loss did not improve from 3.48429\n",
            "Epoch 65/1000\n",
            "51/51 [==============================] - 5s 94ms/step - loss: 3.3573 - accuracy: 0.0177 - RMSE: 1.8128 - MSE: 3.2989 - val_loss: 3.4839 - val_accuracy: 0.0098 - val_RMSE: 1.8508 - val_MSE: 3.4256\n",
            "\n",
            "Epoch 00065: val_loss improved from 3.48429 to 3.48392, saving model to checkpoint_rice_b16_CNN-LSTM_IPAR_augmented_data.h5\n",
            "Epoch 66/1000\n",
            "51/51 [==============================] - 5s 94ms/step - loss: 3.0851 - accuracy: 0.0103 - RMSE: 1.7377 - MSE: 3.0267 - val_loss: 3.4690 - val_accuracy: 0.0098 - val_RMSE: 1.8468 - val_MSE: 3.4106\n",
            "\n",
            "Epoch 00066: val_loss improved from 3.48392 to 3.46898, saving model to checkpoint_rice_b16_CNN-LSTM_IPAR_augmented_data.h5\n",
            "Epoch 67/1000\n",
            "51/51 [==============================] - 5s 96ms/step - loss: 3.6111 - accuracy: 0.0110 - RMSE: 1.8840 - MSE: 3.5528 - val_loss: 3.6662 - val_accuracy: 0.0098 - val_RMSE: 1.8994 - val_MSE: 3.6079\n",
            "\n",
            "Epoch 00067: val_loss did not improve from 3.46898\n",
            "Epoch 68/1000\n",
            "51/51 [==============================] - 5s 99ms/step - loss: 3.2658 - accuracy: 0.0115 - RMSE: 1.7903 - MSE: 3.2074 - val_loss: 3.4338 - val_accuracy: 0.0098 - val_RMSE: 1.8372 - val_MSE: 3.3754\n",
            "\n",
            "Epoch 00068: val_loss improved from 3.46898 to 3.43376, saving model to checkpoint_rice_b16_CNN-LSTM_IPAR_augmented_data.h5\n",
            "Epoch 69/1000\n",
            "51/51 [==============================] - 5s 93ms/step - loss: 3.5785 - accuracy: 0.0064 - RMSE: 1.8748 - MSE: 3.5201 - val_loss: 3.3893 - val_accuracy: 0.0098 - val_RMSE: 1.8251 - val_MSE: 3.3309\n",
            "\n",
            "Epoch 00069: val_loss improved from 3.43376 to 3.38926, saving model to checkpoint_rice_b16_CNN-LSTM_IPAR_augmented_data.h5\n",
            "Epoch 70/1000\n",
            "51/51 [==============================] - 5s 92ms/step - loss: 3.0760 - accuracy: 0.0075 - RMSE: 1.7336 - MSE: 3.0176 - val_loss: 3.4623 - val_accuracy: 0.0098 - val_RMSE: 1.8450 - val_MSE: 3.4040\n",
            "\n",
            "Epoch 00070: val_loss did not improve from 3.38926\n",
            "Epoch 71/1000\n",
            "51/51 [==============================] - 5s 93ms/step - loss: 3.0417 - accuracy: 0.0114 - RMSE: 1.7243 - MSE: 2.9834 - val_loss: 3.3393 - val_accuracy: 0.0098 - val_RMSE: 1.8113 - val_MSE: 3.2809\n",
            "\n",
            "Epoch 00071: val_loss improved from 3.38926 to 3.33927, saving model to checkpoint_rice_b16_CNN-LSTM_IPAR_augmented_data.h5\n",
            "Epoch 72/1000\n",
            "51/51 [==============================] - 5s 93ms/step - loss: 3.5669 - accuracy: 0.0148 - RMSE: 1.8714 - MSE: 3.5086 - val_loss: 3.5252 - val_accuracy: 0.0098 - val_RMSE: 1.8619 - val_MSE: 3.4668\n",
            "\n",
            "Epoch 00072: val_loss did not improve from 3.33927\n",
            "Epoch 73/1000\n",
            "51/51 [==============================] - 5s 92ms/step - loss: 3.5505 - accuracy: 0.0165 - RMSE: 1.8672 - MSE: 3.4922 - val_loss: 3.4253 - val_accuracy: 0.0098 - val_RMSE: 1.8349 - val_MSE: 3.3670\n",
            "\n",
            "Epoch 00073: val_loss did not improve from 3.33927\n",
            "Epoch 74/1000\n",
            "51/51 [==============================] - 5s 96ms/step - loss: 3.6200 - accuracy: 0.0118 - RMSE: 1.8866 - MSE: 3.5617 - val_loss: 3.5109 - val_accuracy: 0.0098 - val_RMSE: 1.8581 - val_MSE: 3.4526\n",
            "\n",
            "Epoch 00074: val_loss did not improve from 3.33927\n",
            "Epoch 75/1000\n",
            "51/51 [==============================] - 5s 95ms/step - loss: 3.5105 - accuracy: 0.0144 - RMSE: 1.8564 - MSE: 3.4521 - val_loss: 3.3768 - val_accuracy: 0.0098 - val_RMSE: 1.8217 - val_MSE: 3.3184\n",
            "\n",
            "Epoch 00075: val_loss did not improve from 3.33927\n",
            "Epoch 76/1000\n",
            "51/51 [==============================] - 5s 93ms/step - loss: 3.5685 - accuracy: 0.0047 - RMSE: 1.8730 - MSE: 3.5102 - val_loss: 3.6856 - val_accuracy: 0.0098 - val_RMSE: 1.9045 - val_MSE: 3.6273\n",
            "\n",
            "Epoch 00076: val_loss did not improve from 3.33927\n",
            "Epoch 77/1000\n",
            "51/51 [==============================] - 5s 95ms/step - loss: 3.3171 - accuracy: 0.0088 - RMSE: 1.8043 - MSE: 3.2588 - val_loss: 3.3882 - val_accuracy: 0.0098 - val_RMSE: 1.8248 - val_MSE: 3.3299\n",
            "\n",
            "Epoch 00077: val_loss did not improve from 3.33927\n",
            "Epoch 78/1000\n",
            "51/51 [==============================] - 5s 94ms/step - loss: 3.0534 - accuracy: 0.0113 - RMSE: 1.7293 - MSE: 2.9951 - val_loss: 3.5746 - val_accuracy: 0.0098 - val_RMSE: 1.8752 - val_MSE: 3.5163\n",
            "\n",
            "Epoch 00078: val_loss did not improve from 3.33927\n",
            "Epoch 79/1000\n",
            "51/51 [==============================] - 5s 96ms/step - loss: 3.6752 - accuracy: 0.0165 - RMSE: 1.9003 - MSE: 3.6168 - val_loss: 3.4625 - val_accuracy: 0.0098 - val_RMSE: 1.8450 - val_MSE: 3.4042\n",
            "\n",
            "Epoch 00079: val_loss did not improve from 3.33927\n",
            "Epoch 80/1000\n",
            "51/51 [==============================] - 5s 93ms/step - loss: 3.0163 - accuracy: 0.0037 - RMSE: 1.7189 - MSE: 2.9580 - val_loss: 3.3829 - val_accuracy: 0.0098 - val_RMSE: 1.8233 - val_MSE: 3.3245\n",
            "\n",
            "Epoch 00080: val_loss did not improve from 3.33927\n",
            "Epoch 81/1000\n",
            "51/51 [==============================] - 5s 93ms/step - loss: 3.6324 - accuracy: 0.0127 - RMSE: 1.8890 - MSE: 3.5741 - val_loss: 3.5202 - val_accuracy: 0.0098 - val_RMSE: 1.8606 - val_MSE: 3.4619\n",
            "\n",
            "Epoch 00081: val_loss did not improve from 3.33927\n",
            "Epoch 82/1000\n",
            "51/51 [==============================] - 5s 91ms/step - loss: 3.2830 - accuracy: 0.0160 - RMSE: 1.7937 - MSE: 3.2246 - val_loss: 3.5030 - val_accuracy: 0.0098 - val_RMSE: 1.8560 - val_MSE: 3.4447\n",
            "\n",
            "Epoch 00082: val_loss did not improve from 3.33927\n",
            "Epoch 83/1000\n",
            "51/51 [==============================] - 5s 94ms/step - loss: 3.2210 - accuracy: 0.0197 - RMSE: 1.7754 - MSE: 3.1627 - val_loss: 3.4705 - val_accuracy: 0.0098 - val_RMSE: 1.8472 - val_MSE: 3.4122\n",
            "\n",
            "Epoch 00083: val_loss did not improve from 3.33927\n",
            "Epoch 84/1000\n",
            "51/51 [==============================] - 5s 93ms/step - loss: 3.3228 - accuracy: 0.0089 - RMSE: 1.8058 - MSE: 3.2644 - val_loss: 3.3342 - val_accuracy: 0.0098 - val_RMSE: 1.8099 - val_MSE: 3.2759\n",
            "\n",
            "Epoch 00084: val_loss improved from 3.33927 to 3.33423, saving model to checkpoint_rice_b16_CNN-LSTM_IPAR_augmented_data.h5\n",
            "Epoch 85/1000\n",
            "51/51 [==============================] - 5s 91ms/step - loss: 3.0206 - accuracy: 0.0160 - RMSE: 1.7181 - MSE: 2.9623 - val_loss: 3.5274 - val_accuracy: 0.0098 - val_RMSE: 1.8625 - val_MSE: 3.4691\n",
            "\n",
            "Epoch 00085: val_loss did not improve from 3.33423\n",
            "Epoch 86/1000\n",
            "51/51 [==============================] - 5s 95ms/step - loss: 3.1022 - accuracy: 0.0109 - RMSE: 1.7427 - MSE: 3.0439 - val_loss: 3.4425 - val_accuracy: 0.0098 - val_RMSE: 1.8396 - val_MSE: 3.3842\n",
            "\n",
            "Epoch 00086: val_loss did not improve from 3.33423\n",
            "Epoch 87/1000\n",
            "51/51 [==============================] - 5s 93ms/step - loss: 3.3280 - accuracy: 0.0095 - RMSE: 1.8075 - MSE: 3.2697 - val_loss: 3.3065 - val_accuracy: 0.0098 - val_RMSE: 1.8023 - val_MSE: 3.2481\n",
            "\n",
            "Epoch 00087: val_loss improved from 3.33423 to 3.30646, saving model to checkpoint_rice_b16_CNN-LSTM_IPAR_augmented_data.h5\n",
            "Epoch 88/1000\n",
            "51/51 [==============================] - 5s 94ms/step - loss: 3.1019 - accuracy: 0.0119 - RMSE: 1.7420 - MSE: 3.0436 - val_loss: 3.3241 - val_accuracy: 0.0098 - val_RMSE: 1.8071 - val_MSE: 3.2658\n",
            "\n",
            "Epoch 00088: val_loss did not improve from 3.30646\n",
            "Epoch 89/1000\n",
            "51/51 [==============================] - 5s 93ms/step - loss: 3.2967 - accuracy: 0.0108 - RMSE: 1.7979 - MSE: 3.2384 - val_loss: 3.2898 - val_accuracy: 0.0098 - val_RMSE: 1.7976 - val_MSE: 3.2314\n",
            "\n",
            "Epoch 00089: val_loss improved from 3.30646 to 3.28978, saving model to checkpoint_rice_b16_CNN-LSTM_IPAR_augmented_data.h5\n",
            "Epoch 90/1000\n",
            "51/51 [==============================] - 5s 94ms/step - loss: 3.4044 - accuracy: 0.0155 - RMSE: 1.8285 - MSE: 3.3461 - val_loss: 3.5475 - val_accuracy: 0.0098 - val_RMSE: 1.8679 - val_MSE: 3.4892\n",
            "\n",
            "Epoch 00090: val_loss did not improve from 3.28978\n",
            "Epoch 91/1000\n",
            "51/51 [==============================] - 5s 95ms/step - loss: 3.2803 - accuracy: 0.0121 - RMSE: 1.7942 - MSE: 3.2219 - val_loss: 3.3117 - val_accuracy: 0.0098 - val_RMSE: 1.8037 - val_MSE: 3.2534\n",
            "\n",
            "Epoch 00091: val_loss did not improve from 3.28978\n",
            "Epoch 92/1000\n",
            "51/51 [==============================] - 5s 93ms/step - loss: 3.3539 - accuracy: 0.0124 - RMSE: 1.8137 - MSE: 3.2956 - val_loss: 3.4094 - val_accuracy: 0.0098 - val_RMSE: 1.8306 - val_MSE: 3.3511\n",
            "\n",
            "Epoch 00092: val_loss did not improve from 3.28978\n",
            "Epoch 93/1000\n",
            "51/51 [==============================] - 5s 92ms/step - loss: 3.4359 - accuracy: 0.0124 - RMSE: 1.8361 - MSE: 3.3776 - val_loss: 3.3343 - val_accuracy: 0.0098 - val_RMSE: 1.8100 - val_MSE: 3.2759\n",
            "\n",
            "Epoch 00093: val_loss did not improve from 3.28978\n",
            "Epoch 94/1000\n",
            "51/51 [==============================] - 5s 93ms/step - loss: 3.3754 - accuracy: 0.0093 - RMSE: 1.8207 - MSE: 3.3170 - val_loss: 3.3403 - val_accuracy: 0.0098 - val_RMSE: 1.8116 - val_MSE: 3.2820\n",
            "\n",
            "Epoch 00094: val_loss did not improve from 3.28978\n",
            "Epoch 95/1000\n",
            "51/51 [==============================] - 5s 93ms/step - loss: 3.1013 - accuracy: 0.0146 - RMSE: 1.7441 - MSE: 3.0430 - val_loss: 3.3326 - val_accuracy: 0.0098 - val_RMSE: 1.8095 - val_MSE: 3.2742\n",
            "\n",
            "Epoch 00095: val_loss did not improve from 3.28978\n",
            "Epoch 96/1000\n",
            "51/51 [==============================] - 5s 99ms/step - loss: 3.5186 - accuracy: 0.0100 - RMSE: 1.8589 - MSE: 3.4603 - val_loss: 3.3638 - val_accuracy: 0.0098 - val_RMSE: 1.8181 - val_MSE: 3.3055\n",
            "\n",
            "Epoch 00096: val_loss did not improve from 3.28978\n",
            "Epoch 97/1000\n",
            "51/51 [==============================] - 5s 95ms/step - loss: 3.2841 - accuracy: 0.0098 - RMSE: 1.7948 - MSE: 3.2258 - val_loss: 3.3117 - val_accuracy: 0.0098 - val_RMSE: 1.8037 - val_MSE: 3.2534\n",
            "\n",
            "Epoch 00097: val_loss did not improve from 3.28978\n",
            "Epoch 98/1000\n",
            "51/51 [==============================] - 5s 94ms/step - loss: 3.5373 - accuracy: 0.0122 - RMSE: 1.8640 - MSE: 3.4790 - val_loss: 3.3948 - val_accuracy: 0.0098 - val_RMSE: 1.8266 - val_MSE: 3.3365\n",
            "\n",
            "Epoch 00098: val_loss did not improve from 3.28978\n",
            "Epoch 99/1000\n",
            "51/51 [==============================] - 5s 95ms/step - loss: 3.1009 - accuracy: 0.0133 - RMSE: 1.7422 - MSE: 3.0426 - val_loss: 3.3673 - val_accuracy: 0.0098 - val_RMSE: 1.8191 - val_MSE: 3.3090\n",
            "\n",
            "Epoch 00099: val_loss did not improve from 3.28978\n",
            "Epoch 100/1000\n",
            "51/51 [==============================] - 5s 93ms/step - loss: 3.4067 - accuracy: 0.0097 - RMSE: 1.8289 - MSE: 3.3483 - val_loss: 3.4473 - val_accuracy: 0.0098 - val_RMSE: 1.8409 - val_MSE: 3.3890\n",
            "\n",
            "Epoch 00100: val_loss did not improve from 3.28978\n",
            "Epoch 101/1000\n",
            "51/51 [==============================] - 5s 93ms/step - loss: 3.1556 - accuracy: 0.0193 - RMSE: 1.7589 - MSE: 3.0973 - val_loss: 3.3592 - val_accuracy: 0.0098 - val_RMSE: 1.8168 - val_MSE: 3.3009\n",
            "\n",
            "Epoch 00101: val_loss did not improve from 3.28978\n",
            "Epoch 102/1000\n",
            "51/51 [==============================] - 5s 94ms/step - loss: 3.4911 - accuracy: 0.0158 - RMSE: 1.8498 - MSE: 3.4328 - val_loss: 3.3148 - val_accuracy: 0.0098 - val_RMSE: 1.8046 - val_MSE: 3.2565\n",
            "\n",
            "Epoch 00102: val_loss did not improve from 3.28978\n",
            "Epoch 103/1000\n",
            "51/51 [==============================] - 5s 95ms/step - loss: 2.8341 - accuracy: 0.0162 - RMSE: 1.6572 - MSE: 2.7757 - val_loss: 3.2868 - val_accuracy: 0.0098 - val_RMSE: 1.7968 - val_MSE: 3.2285\n",
            "\n",
            "Epoch 00103: val_loss improved from 3.28978 to 3.28680, saving model to checkpoint_rice_b16_CNN-LSTM_IPAR_augmented_data.h5\n",
            "Epoch 104/1000\n",
            "51/51 [==============================] - 5s 105ms/step - loss: 3.1704 - accuracy: 0.0119 - RMSE: 1.7578 - MSE: 3.1121 - val_loss: 3.5391 - val_accuracy: 0.0098 - val_RMSE: 1.8657 - val_MSE: 3.4808\n",
            "\n",
            "Epoch 00104: val_loss did not improve from 3.28680\n",
            "Epoch 105/1000\n",
            "51/51 [==============================] - 5s 93ms/step - loss: 3.2350 - accuracy: 0.0060 - RMSE: 1.7817 - MSE: 3.1766 - val_loss: 3.2758 - val_accuracy: 0.0098 - val_RMSE: 1.7937 - val_MSE: 3.2175\n",
            "\n",
            "Epoch 00105: val_loss improved from 3.28680 to 3.27580, saving model to checkpoint_rice_b16_CNN-LSTM_IPAR_augmented_data.h5\n",
            "Epoch 106/1000\n",
            "51/51 [==============================] - 5s 96ms/step - loss: 3.3547 - accuracy: 0.0096 - RMSE: 1.8136 - MSE: 3.2964 - val_loss: 3.3035 - val_accuracy: 0.0098 - val_RMSE: 1.8014 - val_MSE: 3.2451\n",
            "\n",
            "Epoch 00106: val_loss did not improve from 3.27580\n",
            "Epoch 107/1000\n",
            "51/51 [==============================] - 5s 97ms/step - loss: 3.2342 - accuracy: 0.0094 - RMSE: 1.7806 - MSE: 3.1759 - val_loss: 3.4141 - val_accuracy: 0.0098 - val_RMSE: 1.8319 - val_MSE: 3.3558\n",
            "\n",
            "Epoch 00107: val_loss did not improve from 3.27580\n",
            "Epoch 108/1000\n",
            "51/51 [==============================] - 5s 97ms/step - loss: 3.2574 - accuracy: 0.0153 - RMSE: 1.7874 - MSE: 3.1991 - val_loss: 3.3371 - val_accuracy: 0.0098 - val_RMSE: 1.8108 - val_MSE: 3.2788\n",
            "\n",
            "Epoch 00108: val_loss did not improve from 3.27580\n",
            "Epoch 109/1000\n",
            "51/51 [==============================] - 5s 97ms/step - loss: 3.3714 - accuracy: 0.0145 - RMSE: 1.8191 - MSE: 3.3130 - val_loss: 3.3758 - val_accuracy: 0.0098 - val_RMSE: 1.8214 - val_MSE: 3.3175\n",
            "\n",
            "Epoch 00109: val_loss did not improve from 3.27580\n",
            "Epoch 110/1000\n",
            "51/51 [==============================] - 5s 95ms/step - loss: 3.4458 - accuracy: 0.0154 - RMSE: 1.8384 - MSE: 3.3875 - val_loss: 3.2146 - val_accuracy: 0.0098 - val_RMSE: 1.7766 - val_MSE: 3.1563\n",
            "\n",
            "Epoch 00110: val_loss improved from 3.27580 to 3.21459, saving model to checkpoint_rice_b16_CNN-LSTM_IPAR_augmented_data.h5\n",
            "Epoch 111/1000\n",
            "51/51 [==============================] - 5s 94ms/step - loss: 2.9695 - accuracy: 0.0134 - RMSE: 1.7004 - MSE: 2.9112 - val_loss: 3.4141 - val_accuracy: 0.0098 - val_RMSE: 1.8319 - val_MSE: 3.3558\n",
            "\n",
            "Epoch 00111: val_loss did not improve from 3.21459\n",
            "Epoch 112/1000\n",
            "51/51 [==============================] - 5s 95ms/step - loss: 3.0531 - accuracy: 0.0109 - RMSE: 1.7298 - MSE: 2.9947 - val_loss: 3.2173 - val_accuracy: 0.0098 - val_RMSE: 1.7774 - val_MSE: 3.1590\n",
            "\n",
            "Epoch 00112: val_loss did not improve from 3.21459\n",
            "Epoch 113/1000\n",
            "51/51 [==============================] - 5s 97ms/step - loss: 3.3468 - accuracy: 0.0087 - RMSE: 1.8127 - MSE: 3.2885 - val_loss: 3.2718 - val_accuracy: 0.0098 - val_RMSE: 1.7926 - val_MSE: 3.2135\n",
            "\n",
            "Epoch 00113: val_loss did not improve from 3.21459\n",
            "Epoch 114/1000\n",
            "51/51 [==============================] - 5s 94ms/step - loss: 3.3334 - accuracy: 0.0100 - RMSE: 1.8093 - MSE: 3.2750 - val_loss: 3.4373 - val_accuracy: 0.0098 - val_RMSE: 1.8382 - val_MSE: 3.3789\n",
            "\n",
            "Epoch 00114: val_loss did not improve from 3.21459\n",
            "Epoch 115/1000\n",
            "51/51 [==============================] - 5s 93ms/step - loss: 3.4482 - accuracy: 0.0140 - RMSE: 1.8404 - MSE: 3.3898 - val_loss: 3.2243 - val_accuracy: 0.0098 - val_RMSE: 1.7793 - val_MSE: 3.1660\n",
            "\n",
            "Epoch 00115: val_loss did not improve from 3.21459\n",
            "Epoch 116/1000\n",
            "51/51 [==============================] - 5s 96ms/step - loss: 3.1813 - accuracy: 0.0086 - RMSE: 1.7640 - MSE: 3.1230 - val_loss: 3.2572 - val_accuracy: 0.0098 - val_RMSE: 1.7885 - val_MSE: 3.1989\n",
            "\n",
            "Epoch 00116: val_loss did not improve from 3.21459\n",
            "Epoch 117/1000\n",
            "51/51 [==============================] - 5s 94ms/step - loss: 3.1581 - accuracy: 0.0156 - RMSE: 1.7600 - MSE: 3.0998 - val_loss: 3.4663 - val_accuracy: 0.0098 - val_RMSE: 1.8461 - val_MSE: 3.4079\n",
            "\n",
            "Epoch 00117: val_loss did not improve from 3.21459\n",
            "Epoch 118/1000\n",
            "51/51 [==============================] - 5s 94ms/step - loss: 2.9070 - accuracy: 0.0134 - RMSE: 1.6834 - MSE: 2.8487 - val_loss: 3.3162 - val_accuracy: 0.0098 - val_RMSE: 1.8049 - val_MSE: 3.2578\n",
            "\n",
            "Epoch 00118: val_loss did not improve from 3.21459\n",
            "Epoch 119/1000\n",
            "51/51 [==============================] - 5s 96ms/step - loss: 3.2166 - accuracy: 0.0128 - RMSE: 1.7738 - MSE: 3.1583 - val_loss: 3.1752 - val_accuracy: 0.0098 - val_RMSE: 1.7655 - val_MSE: 3.1169\n",
            "\n",
            "Epoch 00119: val_loss improved from 3.21459 to 3.17521, saving model to checkpoint_rice_b16_CNN-LSTM_IPAR_augmented_data.h5\n",
            "Epoch 120/1000\n",
            "51/51 [==============================] - 5s 97ms/step - loss: 3.3068 - accuracy: 0.0148 - RMSE: 1.8005 - MSE: 3.2485 - val_loss: 3.1865 - val_accuracy: 0.0098 - val_RMSE: 1.7687 - val_MSE: 3.1282\n",
            "\n",
            "Epoch 00120: val_loss did not improve from 3.17521\n",
            "Epoch 121/1000\n",
            "51/51 [==============================] - 5s 99ms/step - loss: 3.1762 - accuracy: 0.0085 - RMSE: 1.7638 - MSE: 3.1179 - val_loss: 3.2195 - val_accuracy: 0.0098 - val_RMSE: 1.7780 - val_MSE: 3.1612\n",
            "\n",
            "Epoch 00121: val_loss did not improve from 3.17521\n",
            "Epoch 122/1000\n",
            "51/51 [==============================] - 5s 101ms/step - loss: 3.0650 - accuracy: 0.0196 - RMSE: 1.7325 - MSE: 3.0067 - val_loss: 3.1335 - val_accuracy: 0.0098 - val_RMSE: 1.7536 - val_MSE: 3.0752\n",
            "\n",
            "Epoch 00122: val_loss improved from 3.17521 to 3.13351, saving model to checkpoint_rice_b16_CNN-LSTM_IPAR_augmented_data.h5\n",
            "Epoch 123/1000\n",
            "51/51 [==============================] - 5s 96ms/step - loss: 3.2604 - accuracy: 0.0090 - RMSE: 1.7886 - MSE: 3.2021 - val_loss: 3.2204 - val_accuracy: 0.0098 - val_RMSE: 1.7782 - val_MSE: 3.1621\n",
            "\n",
            "Epoch 00123: val_loss did not improve from 3.13351\n",
            "Epoch 124/1000\n",
            "51/51 [==============================] - 5s 94ms/step - loss: 3.4646 - accuracy: 0.0114 - RMSE: 1.8436 - MSE: 3.4063 - val_loss: 3.3817 - val_accuracy: 0.0098 - val_RMSE: 1.8230 - val_MSE: 3.3234\n",
            "\n",
            "Epoch 00124: val_loss did not improve from 3.13351\n",
            "Epoch 125/1000\n",
            "51/51 [==============================] - 5s 95ms/step - loss: 3.2777 - accuracy: 0.0098 - RMSE: 1.7930 - MSE: 3.2194 - val_loss: 3.2857 - val_accuracy: 0.0098 - val_RMSE: 1.7965 - val_MSE: 3.2274\n",
            "\n",
            "Epoch 00125: val_loss did not improve from 3.13351\n",
            "Epoch 126/1000\n",
            "51/51 [==============================] - 5s 96ms/step - loss: 3.0133 - accuracy: 0.0170 - RMSE: 1.7155 - MSE: 2.9550 - val_loss: 3.2081 - val_accuracy: 0.0098 - val_RMSE: 1.7748 - val_MSE: 3.1498\n",
            "\n",
            "Epoch 00126: val_loss did not improve from 3.13351\n",
            "Epoch 127/1000\n",
            "51/51 [==============================] - 5s 94ms/step - loss: 2.9416 - accuracy: 0.0155 - RMSE: 1.6973 - MSE: 2.8833 - val_loss: 3.2219 - val_accuracy: 0.0098 - val_RMSE: 1.7786 - val_MSE: 3.1635\n",
            "\n",
            "Epoch 00127: val_loss did not improve from 3.13351\n",
            "Epoch 128/1000\n",
            "51/51 [==============================] - 5s 92ms/step - loss: 3.0583 - accuracy: 0.0078 - RMSE: 1.7310 - MSE: 3.0000 - val_loss: 3.2944 - val_accuracy: 0.0098 - val_RMSE: 1.7989 - val_MSE: 3.2361\n",
            "\n",
            "Epoch 00128: val_loss did not improve from 3.13351\n",
            "Epoch 129/1000\n",
            "51/51 [==============================] - 5s 98ms/step - loss: 3.1962 - accuracy: 0.0061 - RMSE: 1.7710 - MSE: 3.1379 - val_loss: 3.2748 - val_accuracy: 0.0098 - val_RMSE: 1.7934 - val_MSE: 3.2164\n",
            "\n",
            "Epoch 00129: val_loss did not improve from 3.13351\n",
            "Epoch 130/1000\n",
            "51/51 [==============================] - 5s 95ms/step - loss: 3.4299 - accuracy: 0.0174 - RMSE: 1.8324 - MSE: 3.3715 - val_loss: 3.2557 - val_accuracy: 0.0098 - val_RMSE: 1.7881 - val_MSE: 3.1974\n",
            "\n",
            "Epoch 00130: val_loss did not improve from 3.13351\n",
            "Epoch 131/1000\n",
            "51/51 [==============================] - 5s 96ms/step - loss: 2.8879 - accuracy: 0.0123 - RMSE: 1.6807 - MSE: 2.8296 - val_loss: 3.4133 - val_accuracy: 0.0098 - val_RMSE: 1.8317 - val_MSE: 3.3550\n",
            "\n",
            "Epoch 00131: val_loss did not improve from 3.13351\n",
            "Epoch 132/1000\n",
            "51/51 [==============================] - 5s 96ms/step - loss: 3.3151 - accuracy: 0.0052 - RMSE: 1.8038 - MSE: 3.2568 - val_loss: 3.2343 - val_accuracy: 0.0098 - val_RMSE: 1.7821 - val_MSE: 3.1760\n",
            "\n",
            "Epoch 00132: val_loss did not improve from 3.13351\n",
            "Epoch 133/1000\n",
            "51/51 [==============================] - 5s 95ms/step - loss: 2.8842 - accuracy: 0.0197 - RMSE: 1.6769 - MSE: 2.8259 - val_loss: 3.2148 - val_accuracy: 0.0098 - val_RMSE: 1.7767 - val_MSE: 3.1565\n",
            "\n",
            "Epoch 00133: val_loss did not improve from 3.13351\n",
            "Epoch 134/1000\n",
            "51/51 [==============================] - 5s 96ms/step - loss: 3.3743 - accuracy: 0.0143 - RMSE: 1.8195 - MSE: 3.3159 - val_loss: 3.3715 - val_accuracy: 0.0098 - val_RMSE: 1.8202 - val_MSE: 3.3132\n",
            "\n",
            "Epoch 00134: val_loss did not improve from 3.13351\n",
            "Epoch 135/1000\n",
            "51/51 [==============================] - 5s 94ms/step - loss: 3.5211 - accuracy: 0.0136 - RMSE: 1.8580 - MSE: 3.4628 - val_loss: 3.2065 - val_accuracy: 0.0098 - val_RMSE: 1.7743 - val_MSE: 3.1482\n",
            "\n",
            "Epoch 00135: val_loss did not improve from 3.13351\n",
            "Epoch 136/1000\n",
            "51/51 [==============================] - 5s 96ms/step - loss: 3.1681 - accuracy: 0.0055 - RMSE: 1.7620 - MSE: 3.1098 - val_loss: 3.2359 - val_accuracy: 0.0098 - val_RMSE: 1.7826 - val_MSE: 3.1776\n",
            "\n",
            "Epoch 00136: val_loss did not improve from 3.13351\n",
            "Epoch 137/1000\n",
            "51/51 [==============================] - 5s 95ms/step - loss: 3.0048 - accuracy: 0.0169 - RMSE: 1.7143 - MSE: 2.9465 - val_loss: 3.3857 - val_accuracy: 0.0098 - val_RMSE: 1.8241 - val_MSE: 3.3274\n",
            "\n",
            "Epoch 00137: val_loss did not improve from 3.13351\n",
            "Epoch 138/1000\n",
            "51/51 [==============================] - 5s 95ms/step - loss: 3.3637 - accuracy: 0.0155 - RMSE: 1.8172 - MSE: 3.3054 - val_loss: 3.2144 - val_accuracy: 0.0098 - val_RMSE: 1.7765 - val_MSE: 3.1561\n",
            "\n",
            "Epoch 00138: val_loss did not improve from 3.13351\n",
            "Epoch 139/1000\n",
            "51/51 [==============================] - 5s 96ms/step - loss: 3.4529 - accuracy: 0.0093 - RMSE: 1.8392 - MSE: 3.3946 - val_loss: 3.3775 - val_accuracy: 0.0098 - val_RMSE: 1.8219 - val_MSE: 3.3192\n",
            "\n",
            "Epoch 00139: val_loss did not improve from 3.13351\n",
            "Epoch 140/1000\n",
            "51/51 [==============================] - 5s 96ms/step - loss: 2.9647 - accuracy: 0.0124 - RMSE: 1.7040 - MSE: 2.9064 - val_loss: 3.1445 - val_accuracy: 0.0098 - val_RMSE: 1.7568 - val_MSE: 3.0862\n",
            "\n",
            "Epoch 00140: val_loss did not improve from 3.13351\n",
            "Epoch 141/1000\n",
            "51/51 [==============================] - 5s 95ms/step - loss: 3.0769 - accuracy: 0.0096 - RMSE: 1.7371 - MSE: 3.0186 - val_loss: 3.1508 - val_accuracy: 0.0098 - val_RMSE: 1.7586 - val_MSE: 3.0925\n",
            "\n",
            "Epoch 00141: val_loss did not improve from 3.13351\n",
            "Epoch 142/1000\n",
            "51/51 [==============================] - 5s 96ms/step - loss: 3.1004 - accuracy: 0.0144 - RMSE: 1.7431 - MSE: 3.0421 - val_loss: 3.1926 - val_accuracy: 0.0098 - val_RMSE: 1.7704 - val_MSE: 3.1343\n",
            "\n",
            "Epoch 00142: val_loss did not improve from 3.13351\n",
            "Epoch 00142: early stopping\n"
          ],
          "name": "stdout"
        }
      ]
    },
    {
      "cell_type": "markdown",
      "metadata": {
        "id": "wbRPWecH2XHD"
      },
      "source": [
        "### Plots "
      ]
    },
    {
      "cell_type": "code",
      "metadata": {
        "colab": {
          "base_uri": "https://localhost:8080/",
          "height": 0
        },
        "id": "tZeBNo9d2Zcg",
        "outputId": "3695f734-2ead-4b2d-f9f0-db012b9552ad"
      },
      "source": [
        "plt.plot(history.history['loss'], label='loss')\n",
        "plt.xlabel('Epoch')\n",
        "plt.ylabel('loss')\n",
        "plt.ylim([0, 1])\n",
        "plt.legend(loc='lower right')\n",
        "plt.show()"
      ],
      "execution_count": 13,
      "outputs": [
        {
          "output_type": "display_data",
          "data": {
            "image/png": "[encoded data removed]",
            "text/plain": [
              "<Figure size 432x288 with 1 Axes>"
            ]
          },
          "metadata": {
            "tags": [],
            "needs_background": "light"
          }
        }
      ]
    },
    {
      "cell_type": "code",
      "metadata": {
        "colab": {
          "base_uri": "https://localhost:8080/",
          "height": 0
        },
        "id": "mWUviAKCJBks",
        "outputId": "1df2c3d5-103d-4e2c-a5bc-740b087ad3c1"
      },
      "source": [
        "plt.plot(history.history['RMSE'], label='RMSE')\n",
        "plt.xlabel('Epoch')\n",
        "plt.ylabel('RMSE')\n",
        "plt.ylim([0, 1])\n",
        "plt.legend(loc='lower right')\n",
        "plt.show()"
      ],
      "execution_count": 14,
      "outputs": [
        {
          "output_type": "display_data",
          "data": {
            "image/png": "[encoded data removed]",
            "text/plain": [
              "<Figure size 432x288 with 1 Axes>"
            ]
          },
          "metadata": {
            "tags": [],
            "needs_background": "light"
          }
        }
      ]
    },
    {
      "cell_type": "code",
      "metadata": {
        "colab": {
          "base_uri": "https://localhost:8080/",
          "height": 0
        },
        "id": "g1safbSx2c1M",
        "outputId": "e3cfd0bb-2230-4b11-94f9-4241d4db5b9a"
      },
      "source": [
        "plt.plot(history.history['val_loss'], label = 'val_loss')\n",
        "plt.xlabel('Epoch')\n",
        "plt.ylabel('val_loss')\n",
        "plt.ylim([0, 1])\n",
        "plt.legend(loc='lower right')\n",
        "plt.show()"
      ],
      "execution_count": 15,
      "outputs": [
        {
          "output_type": "display_data",
          "data": {
            "image/png": "[encoded data removed]",
            "text/plain": [
              "<Figure size 432x288 with 1 Axes>"
            ]
          },
          "metadata": {
            "tags": [],
            "needs_background": "light"
          }
        }
      ]
    },
    {
      "cell_type": "code",
      "metadata": {
        "colab": {
          "base_uri": "https://localhost:8080/",
          "height": 0
        },
        "id": "r7EL4KSEjUJm",
        "outputId": "872d4699-18af-4aa1-fd21-9303a0ccd874"
      },
      "source": [
        "plt.plot(history.history['val_RMSE'], label = 'val_RMSE')\n",
        "plt.xlabel('Epoch')\n",
        "plt.ylabel('val_RMSE')\n",
        "plt.ylim([0,1])\n",
        "plt.legend(loc='lower right')\n",
        "plt.show()"
      ],
      "execution_count": 16,
      "outputs": [
        {
          "output_type": "display_data",
          "data": {
            "image/png": "[encoded data removed]",
            "text/plain": [
              "<Figure size 432x288 with 1 Axes>"
            ]
          },
          "metadata": {
            "tags": [],
            "needs_background": "light"
          }
        }
      ]
    },
    {
      "cell_type": "markdown",
      "metadata": {
        "id": "cMJnmNFy2je8"
      },
      "source": [
        "### Evaluation "
      ]
    },
    {
      "cell_type": "code",
      "metadata": {
        "colab": {
          "base_uri": "https://localhost:8080/"
        },
        "id": "s4yzZw5Qzun5",
        "outputId": "680f626d-9508-4ab4-8c64-0eae16e9d20b"
      },
      "source": [
        "print(\"\\nEvaluating val ds... \")\n",
        "test_loss, test_acc, test_rmse, test_mse = model.evaluate(val_ds, verbose=1)\n",
        "\n",
        "print(\"\\nEvaluating test ds (0.1 of all files)... \")\n",
        "test_loss, test_acc, test_rmse, test_mse = model.evaluate(test_ds, verbose=1)"
      ],
      "execution_count": 17,
      "outputs": [
        {
          "output_type": "stream",
          "text": [
            "\n",
            "Evaluating val ds... \n",
            "1/1 [==============================] - 0s 92ms/step - loss: 3.1926 - accuracy: 0.0098 - RMSE: 1.7704 - MSE: 3.1343\n",
            "\n",
            "Evaluating test ds (0.1 of all files)... \n",
            "1/1 [==============================] - 0s 83ms/step - loss: 3.0114 - accuracy: 0.0196 - RMSE: 1.7185 - MSE: 2.9531\n"
          ],
          "name": "stdout"
        }
      ]
    },
    {
      "cell_type": "markdown",
      "metadata": {
        "id": "wpgQJDj0zw9H"
      },
      "source": [
        "Evaluate with all 2014 IPAR data"
      ]
    },
    {
      "cell_type": "code",
      "metadata": {
        "colab": {
          "base_uri": "https://localhost:8080/"
        },
        "id": "FxrJZN73sC9K",
        "outputId": "41dc12c9-f6e5-4f75-c2c0-09d1f5afc17c"
      },
      "source": [
        "if crop_type.lower() == 'maize':\n",
        "  tag_test_IPAR = \"margauxmforsythe/Senegal_IPAR_histograms_weeks_19_30_Maize\"\n",
        "if crop_type.lower() == 'millet':\n",
        "  tag_test_IPAR = \"margauxmforsythe/Senegal_IPAR_histograms_weeks_21_30_Millet\"\n",
        "if crop_type.lower() == \"rice\":\n",
        "  # tag_test_IPAR = \"margauxmforsythe/Senegal_histograms_weeks_19_30_rice_winter\"\n",
        "  tag_test_IPAR = \"margauxmforsythe/Senegal_histograms_weeks_19_30_rice_CSC\"\n",
        "\n",
        "\n",
        "ds_test_IPAR_all = Dataset(tag_test_IPAR)\n",
        "test_hists = ds_test_IPAR_all[\"histograms\"].compute()\n",
        "yields_list_test = ds_test_IPAR_all[\"yields\"].compute()\n",
        "yields_test_IPAR_all = []\n",
        "for i in range(0,len(yields_list_test)):\n",
        "    yields_test_IPAR_all.append(float(yields_list_test[i][0]))\n",
        "  \n",
        "# TEST set\n",
        "histograms_CNN_LSTM_test = []\n",
        "for i in range(len(test_hists)):\n",
        "  histogram_all_timestamps_transposed = np.transpose(test_hists[i], (1,0,2))\n",
        "  timestamps = []\n",
        "  for j in range(test_hists[i].shape[1]): # going through all timestamps\n",
        "    timestamps.append(np.expand_dims(histogram_all_timestamps_transposed[j], axis=0))\n",
        "  histograms_CNN_LSTM_test.append(timestamps)\n",
        "histograms_test_IPAR_all = histograms_CNN_LSTM_test\n",
        "print(\"There are now {} (* {} time steps files) splitted per timestamps of shape {} in the dataset\".format(shape[1], len(histograms), histograms_CNN_LSTM[0][0].shape))\n",
        "\n",
        "test_ds = tf.data.Dataset.from_tensor_slices((histograms_test_IPAR_all, yields_test_IPAR_all))\n",
        "test_ds = test_ds.cache()\n",
        "test_ds = test_ds.batch(len(test_ds))\n",
        "image_batch_test, label_batch_test= next(iter(test_ds))\n"
      ],
      "execution_count": 26,
      "outputs": [
        {
          "output_type": "stream",
          "text": [
            "There are now 11 (* 1027 time steps files) splitted per timestamps of shape (1, 32, 9) in the dataset\n"
          ],
          "name": "stdout"
        }
      ]
    },
    {
      "cell_type": "code",
      "metadata": {
        "id": "wKdFCGIsHSOo"
      },
      "source": [
        "model.load_weights(checkpoint_file)\n",
        "model.compile(optimizer=tf.keras.optimizers.Adam(learning_rate=initial_learning_rate),\n",
        "              loss=tf.keras.losses.MeanSquaredError(),\n",
        "              metrics=['accuracy', tf.keras.metrics.RootMeanSquaredError(name='RMSE'), tf.keras.losses.MeanSquaredError(name='MSE')])\n"
      ],
      "execution_count": 27,
      "outputs": []
    },
    {
      "cell_type": "code",
      "metadata": {
        "colab": {
          "base_uri": "https://localhost:8080/"
        },
        "id": "CyLkAkiOcwCc",
        "outputId": "d1279f09-f8af-4c46-bbd3-f4cd4bac302b"
      },
      "source": [
        "print(\"\\nEvaluating test ds... \")\n",
        "test_loss, test_acc, test_rmse, test_mse = model.evaluate(test_ds, verbose=1)"
      ],
      "execution_count": 28,
      "outputs": [
        {
          "output_type": "stream",
          "text": [
            "\n",
            "Evaluating test ds... \n",
            "1/1 [==============================] - 1s 665ms/step - loss: 3.8811 - accuracy: 0.0149 - RMSE: 1.9552 - MSE: 3.8228\n"
          ],
          "name": "stdout"
        }
      ]
    },
    {
      "cell_type": "markdown",
      "metadata": {
        "id": "wXlekjHS2mI5"
      },
      "source": [
        "### Prediction"
      ]
    },
    {
      "cell_type": "code",
      "metadata": {
        "colab": {
          "base_uri": "https://localhost:8080/"
        },
        "id": "HyY7eEh02oHI",
        "outputId": "43d35a2c-2abe-4c6a-88e4-12e019923a07"
      },
      "source": [
        "if not CNN_LSTM:\n",
        "  plt.imshow(image_batch_val[0][:,:,0])\n",
        "  label = label_batch_val[0].numpy()\n",
        "  plt.title(label)\n",
        "  plt.axis(\"off\")\n",
        "else:\n",
        "  print(\"real yield: {}\".format(label_batch_val[0].numpy()))\n",
        "predictions = model.predict(image_batch_val)\n",
        "print(\"predictions shape:\", predictions.shape)\n",
        "print(\"prediction:\", predictions[0][0])"
      ],
      "execution_count": 21,
      "outputs": [
        {
          "output_type": "stream",
          "text": [
            "real yield: 4.3179192543029785\n",
            "predictions shape: (102, 1)\n",
            "prediction: 6.0879836\n"
          ],
          "name": "stdout"
        }
      ]
    },
    {
      "cell_type": "code",
      "metadata": {
        "colab": {
          "base_uri": "https://localhost:8080/",
          "height": 324
        },
        "id": "caMiAsjEx904",
        "outputId": "ed05fd9c-d0c4-4333-c01b-a71ec393c8b6"
      },
      "source": [
        "indexes_list = []\n",
        "for i in range(len(image_batch_test)):\n",
        "  indexes_list.append(i)\n",
        "\n",
        "predictions = model.predict(test_ds)\n",
        "predictions_array = []\n",
        "for i in range(len(predictions)):\n",
        "  predictions_array.append(predictions[i][0])\n",
        "predictions_array\n",
        "\n",
        "assert len(predictions_array) == len(label_batch_test.numpy())\n",
        "\n",
        "plt.figure(figsize=(8,5))\n",
        "plt.ylabel('yields T/ha')\n",
        "bar1 = plt.bar(indexes_list,label_batch_test.numpy(),label='real yields', alpha=0.7)\n",
        "bar2 = plt.bar(indexes_list,predictions_array,label='predicted yields', alpha=0.7)\n",
        "plt.legend()\n",
        "plt.ylim([0, 20])\n",
        "plt.show()"
      ],
      "execution_count": 22,
      "outputs": [
        {
          "output_type": "display_data",
          "data": {
            "image/png": "[encoded data removed]",
            "text/plain": [
              "<Figure size 576x360 with 1 Axes>"
            ]
          },
          "metadata": {
            "tags": [],
            "needs_background": "light"
          }
        }
      ]
    },
    {
      "cell_type": "code",
      "metadata": {
        "colab": {
          "base_uri": "https://localhost:8080/",
          "height": 298
        },
        "id": "l2I6SULu1TL7",
        "outputId": "f9d8ab26-0d15-43e7-e301-9caaa97f40a3"
      },
      "source": [
        "error = abs(predictions_array - label_batch_test.numpy())\n",
        "plt.title(\"Plot of errors between real yield value and predicted one on the test set\")\n",
        "plt.ylim([0, 5])\n",
        "plt.bar(indexes_list,error)"
      ],
      "execution_count": 23,
      "outputs": [
        {
          "output_type": "execute_result",
          "data": {
            "text/plain": [
              "<BarContainer object of 190 artists>"
            ]
          },
          "metadata": {
            "tags": []
          },
          "execution_count": 23
        },
        {
          "output_type": "display_data",
          "data": {
            "image/png": "[encoded data removed]",
            "text/plain": [
              "<Figure size 432x288 with 1 Axes>"
            ]
          },
          "metadata": {
            "tags": [],
            "needs_background": "light"
          }
        }
      ]
    },
    {
      "cell_type": "code",
      "metadata": {
        "colab": {
          "base_uri": "https://localhost:8080/",
          "height": 298
        },
        "id": "gHrPMPq--St2",
        "outputId": "ac75aba6-62f8-4cd8-cfab-310e82c90c39"
      },
      "source": [
        "indexes_list = []\n",
        "for i in range(len(image_batch_test)):\n",
        "  indexes_list.append(i)\n",
        "\n",
        "error = abs(predictions_array - label_batch_test.numpy())/label_batch_test.numpy()\n",
        "plt.title(\"Plot of percentage errors between real yield value and predicted one on the test set\")\n",
        "plt.ylim([0, 30])\n",
        "plt.bar(indexes_list,error)"
      ],
      "execution_count": 24,
      "outputs": [
        {
          "output_type": "execute_result",
          "data": {
            "text/plain": [
              "<BarContainer object of 190 artists>"
            ]
          },
          "metadata": {
            "tags": []
          },
          "execution_count": 24
        },
        {
          "output_type": "display_data",
          "data": {
            "image/png": "[encoded data removed]",
            "text/plain": [
              "<Figure size 432x288 with 1 Axes>"
            ]
          },
          "metadata": {
            "tags": [],
            "needs_background": "light"
          }
        }
      ]
    },
    {
      "cell_type": "code",
      "metadata": {
        "colab": {
          "base_uri": "https://localhost:8080/"
        },
        "id": "uyYBvgB8ME6e",
        "outputId": "58d79492-c7fa-4fba-b497-5ca6a6f0c4fe"
      },
      "source": [
        "for i in range(len(predictions_array)):\n",
        "  print(\"{}) Predicted yield {} T/ha // Real yield {} T/ha\".format(i, predictions_array[i], label_batch_test.numpy()[i]))"
      ],
      "execution_count": 25,
      "outputs": [
        {
          "output_type": "stream",
          "text": [
            "0) Predicted yield 5.031442642211914 T/ha // Real yield 8.0 T/ha\n",
            "1) Predicted yield 4.061507701873779 T/ha // Real yield 2.592592477798462 T/ha\n",
            "2) Predicted yield 5.028602123260498 T/ha // Real yield 4.800000190734863 T/ha\n",
            "3) Predicted yield 4.003281116485596 T/ha // Real yield 4.285714149475098 T/ha\n",
            "4) Predicted yield 4.198428153991699 T/ha // Real yield 3.0 T/ha\n",
            "5) Predicted yield 2.4771485328674316 T/ha // Real yield 0.4000000059604645 T/ha\n",
            "6) Predicted yield 5.01301908493042 T/ha // Real yield 4.320000171661377 T/ha\n",
            "7) Predicted yield 5.472768783569336 T/ha // Real yield 5.047826290130615 T/ha\n",
            "8) Predicted yield 4.456003665924072 T/ha // Real yield 4.994999885559082 T/ha\n",
            "9) Predicted yield 5.031442642211914 T/ha // Real yield 6.5 T/ha\n",
            "10) Predicted yield 4.658480644226074 T/ha // Real yield 3.797468423843384 T/ha\n",
            "11) Predicted yield 0.1089405044913292 T/ha // Real yield 0.4000000059604645 T/ha\n",
            "12) Predicted yield 2.4001259803771973 T/ha // Real yield 1.75 T/ha\n",
            "13) Predicted yield 5.606442928314209 T/ha // Real yield 5.599999904632568 T/ha\n",
            "14) Predicted yield 2.6610708236694336 T/ha // Real yield 3.75 T/ha\n",
            "15) Predicted yield 2.17619252204895 T/ha // Real yield 3.0 T/ha\n",
            "16) Predicted yield 0.15218769013881683 T/ha // Real yield 0.3333333432674408 T/ha\n",
            "17) Predicted yield 0.10228527337312698 T/ha // Real yield 0.20000000298023224 T/ha\n",
            "18) Predicted yield 5.2552056312561035 T/ha // Real yield 4.050000190734863 T/ha\n",
            "19) Predicted yield 4.358049392700195 T/ha // Real yield 6.0 T/ha\n",
            "20) Predicted yield 3.9875993728637695 T/ha // Real yield 5.0 T/ha\n",
            "21) Predicted yield 2.4001259803771973 T/ha // Real yield 1.2000000476837158 T/ha\n",
            "22) Predicted yield 4.00221061706543 T/ha // Real yield 4.0 T/ha\n",
            "23) Predicted yield 4.736100673675537 T/ha // Real yield 2.0 T/ha\n",
            "24) Predicted yield 5.390071392059326 T/ha // Real yield 5.0 T/ha\n",
            "25) Predicted yield 4.061507701873779 T/ha // Real yield 2.909090995788574 T/ha\n",
            "26) Predicted yield 3.4255411624908447 T/ha // Real yield 3.357142925262451 T/ha\n",
            "27) Predicted yield 3.4356324672698975 T/ha // Real yield 3.4285714626312256 T/ha\n",
            "28) Predicted yield 4.919548511505127 T/ha // Real yield 2.6666667461395264 T/ha\n",
            "29) Predicted yield 3.5622987747192383 T/ha // Real yield 6.4285712242126465 T/ha\n",
            "30) Predicted yield 4.676142692565918 T/ha // Real yield 4.5 T/ha\n",
            "31) Predicted yield 4.506243705749512 T/ha // Real yield 4.050000190734863 T/ha\n",
            "32) Predicted yield 4.32501745223999 T/ha // Real yield 4.285714149475098 T/ha\n",
            "33) Predicted yield 5.632449626922607 T/ha // Real yield 5.599999904632568 T/ha\n",
            "34) Predicted yield 5.021333694458008 T/ha // Real yield 6.25 T/ha\n",
            "35) Predicted yield 0.8033875823020935 T/ha // Real yield 0.6666666865348816 T/ha\n",
            "36) Predicted yield 5.576796531677246 T/ha // Real yield 7.5 T/ha\n",
            "37) Predicted yield -0.04116559028625488 T/ha // Real yield 0.3199999928474426 T/ha\n",
            "38) Predicted yield 4.467208385467529 T/ha // Real yield 3.375 T/ha\n",
            "39) Predicted yield 3.6118004322052 T/ha // Real yield 3.5999999046325684 T/ha\n",
            "40) Predicted yield 0.050624966621398926 T/ha // Real yield 0.5 T/ha\n",
            "41) Predicted yield 0.8033875823020935 T/ha // Real yield 0.5 T/ha\n",
            "42) Predicted yield 3.9959137439727783 T/ha // Real yield 4.0 T/ha\n",
            "43) Predicted yield 1.0416951179504395 T/ha // Real yield 0.05000000074505806 T/ha\n",
            "44) Predicted yield 5.031442642211914 T/ha // Real yield 8.0 T/ha\n",
            "45) Predicted yield 2.4052655696868896 T/ha // Real yield 3.5714285373687744 T/ha\n",
            "46) Predicted yield 4.608540058135986 T/ha // Real yield 3.1914894580841064 T/ha\n",
            "47) Predicted yield 4.609753608703613 T/ha // Real yield 1.215000033378601 T/ha\n",
            "48) Predicted yield 3.6699578762054443 T/ha // Real yield 2.5 T/ha\n",
            "49) Predicted yield 4.3404860496521 T/ha // Real yield 4.0 T/ha\n",
            "50) Predicted yield 5.031442642211914 T/ha // Real yield 8.333333015441895 T/ha\n",
            "51) Predicted yield 0.15218769013881683 T/ha // Real yield 0.3333333432674408 T/ha\n",
            "52) Predicted yield 1.3785161972045898 T/ha // Real yield 0.20000000298023224 T/ha\n",
            "53) Predicted yield 4.369059085845947 T/ha // Real yield 3.0 T/ha\n",
            "54) Predicted yield 3.9875993728637695 T/ha // Real yield 2.1600000858306885 T/ha\n",
            "55) Predicted yield 3.6699578762054443 T/ha // Real yield 1.5 T/ha\n",
            "56) Predicted yield 5.2552056312561035 T/ha // Real yield 5.599999904632568 T/ha\n",
            "57) Predicted yield 4.979230880737305 T/ha // Real yield 2.4000000953674316 T/ha\n",
            "58) Predicted yield 4.608540058135986 T/ha // Real yield 2.3333332538604736 T/ha\n",
            "59) Predicted yield 0.08238396793603897 T/ha // Real yield 0.15000000596046448 T/ha\n",
            "60) Predicted yield 4.605227470397949 T/ha // Real yield 1.240522861480713 T/ha\n",
            "61) Predicted yield 4.061507701873779 T/ha // Real yield 8.88888931274414 T/ha\n",
            "62) Predicted yield 4.644002437591553 T/ha // Real yield 6.0 T/ha\n",
            "63) Predicted yield 4.5993266105651855 T/ha // Real yield 4.139999866485596 T/ha\n",
            "64) Predicted yield 4.473180294036865 T/ha // Real yield 4.0 T/ha\n",
            "65) Predicted yield 5.028602123260498 T/ha // Real yield 5.949999809265137 T/ha\n",
            "66) Predicted yield 3.6699578762054443 T/ha // Real yield 3.3333332538604736 T/ha\n",
            "67) Predicted yield 2.456749200820923 T/ha // Real yield 3.0 T/ha\n",
            "68) Predicted yield 4.331080436706543 T/ha // Real yield 3.5714285373687744 T/ha\n",
            "69) Predicted yield 8.323126792907715 T/ha // Real yield 4.831578731536865 T/ha\n",
            "70) Predicted yield 2.622415065765381 T/ha // Real yield 4.523809432983398 T/ha\n",
            "71) Predicted yield 4.478785514831543 T/ha // Real yield 8.333333015441895 T/ha\n",
            "72) Predicted yield 4.003281116485596 T/ha // Real yield 4.285714149475098 T/ha\n",
            "73) Predicted yield 4.674084186553955 T/ha // Real yield 5.0 T/ha\n",
            "74) Predicted yield 5.021234512329102 T/ha // Real yield 5.840384483337402 T/ha\n",
            "75) Predicted yield 4.677324295043945 T/ha // Real yield 8.5 T/ha\n",
            "76) Predicted yield 4.760787487030029 T/ha // Real yield 1.3333333730697632 T/ha\n",
            "77) Predicted yield 0.15214566886425018 T/ha // Real yield 0.25 T/ha\n",
            "78) Predicted yield 3.6699578762054443 T/ha // Real yield 5.880000114440918 T/ha\n",
            "79) Predicted yield 3.9875993728637695 T/ha // Real yield 4.800000190734863 T/ha\n",
            "80) Predicted yield 5.028602123260498 T/ha // Real yield 5.434999942779541 T/ha\n",
            "81) Predicted yield 1.500776767730713 T/ha // Real yield 1.0 T/ha\n",
            "82) Predicted yield 1.067579746246338 T/ha // Real yield 0.800000011920929 T/ha\n",
            "83) Predicted yield 4.061507701873779 T/ha // Real yield 2.5 T/ha\n",
            "84) Predicted yield 0.8425111770629883 T/ha // Real yield 0.6000000238418579 T/ha\n",
            "85) Predicted yield 4.316348075866699 T/ha // Real yield 3.5714285373687744 T/ha\n",
            "86) Predicted yield 5.597541332244873 T/ha // Real yield 10.0 T/ha\n",
            "87) Predicted yield 3.405050754547119 T/ha // Real yield 5.0 T/ha\n",
            "88) Predicted yield 3.714219808578491 T/ha // Real yield 1.7000000476837158 T/ha\n",
            "89) Predicted yield 4.623208522796631 T/ha // Real yield 2.880000114440918 T/ha\n",
            "90) Predicted yield 4.522815227508545 T/ha // Real yield 4.724999904632568 T/ha\n",
            "91) Predicted yield 3.360555410385132 T/ha // Real yield 1.6666666269302368 T/ha\n",
            "92) Predicted yield 5.0370378494262695 T/ha // Real yield 4.320000171661377 T/ha\n",
            "93) Predicted yield 5.577252388000488 T/ha // Real yield 6.833333492279053 T/ha\n",
            "94) Predicted yield 4.00221061706543 T/ha // Real yield 3.5714285373687744 T/ha\n",
            "95) Predicted yield 3.7997512817382812 T/ha // Real yield 5.525000095367432 T/ha\n",
            "96) Predicted yield 6.116069316864014 T/ha // Real yield 5.78000020980835 T/ha\n",
            "97) Predicted yield 6.125473499298096 T/ha // Real yield 6.833333492279053 T/ha\n",
            "98) Predicted yield 4.779294967651367 T/ha // Real yield 4.333333492279053 T/ha\n",
            "99) Predicted yield 4.369059085845947 T/ha // Real yield 3.0 T/ha\n",
            "100) Predicted yield 5.632449626922607 T/ha // Real yield 4.5714287757873535 T/ha\n",
            "101) Predicted yield 3.418031930923462 T/ha // Real yield 5.5714287757873535 T/ha\n",
            "102) Predicted yield 2.456749200820923 T/ha // Real yield 1.6200000047683716 T/ha\n",
            "103) Predicted yield 4.331080436706543 T/ha // Real yield 2.857142925262451 T/ha\n",
            "104) Predicted yield 4.755966663360596 T/ha // Real yield 2.3333332538604736 T/ha\n",
            "105) Predicted yield 5.472768783569336 T/ha // Real yield 6.545454502105713 T/ha\n",
            "106) Predicted yield 5.028602123260498 T/ha // Real yield 4.860000133514404 T/ha\n",
            "107) Predicted yield 4.638069152832031 T/ha // Real yield 8.25 T/ha\n",
            "108) Predicted yield 5.634535789489746 T/ha // Real yield 10.0 T/ha\n",
            "109) Predicted yield 4.664651870727539 T/ha // Real yield 5.0 T/ha\n",
            "110) Predicted yield 3.42431640625 T/ha // Real yield 7.5 T/ha\n",
            "111) Predicted yield 4.755966663360596 T/ha // Real yield 0.6451612710952759 T/ha\n",
            "112) Predicted yield 2.4001259803771973 T/ha // Real yield 1.25 T/ha\n",
            "113) Predicted yield 4.623208522796631 T/ha // Real yield 4.751999855041504 T/ha\n",
            "114) Predicted yield 5.2552056312561035 T/ha // Real yield 5.55555534362793 T/ha\n",
            "115) Predicted yield 4.491067886352539 T/ha // Real yield 6.570000171661377 T/ha\n",
            "116) Predicted yield 4.644002437591553 T/ha // Real yield 5.0 T/ha\n",
            "117) Predicted yield 4.358049392700195 T/ha // Real yield 4.0 T/ha\n",
            "118) Predicted yield 4.6161651611328125 T/ha // Real yield 4.511392593383789 T/ha\n",
            "119) Predicted yield 0.578013002872467 T/ha // Real yield 0.20000000298023224 T/ha\n",
            "120) Predicted yield 0.16869381070137024 T/ha // Real yield 0.5 T/ha\n",
            "121) Predicted yield 5.028602123260498 T/ha // Real yield 4.206185340881348 T/ha\n",
            "122) Predicted yield 5.028602123260498 T/ha // Real yield 5.604395389556885 T/ha\n",
            "123) Predicted yield 5.576796531677246 T/ha // Real yield 5.333333492279053 T/ha\n",
            "124) Predicted yield 5.270225524902344 T/ha // Real yield 4.375 T/ha\n",
            "125) Predicted yield 1.2729849815368652 T/ha // Real yield 0.375 T/ha\n",
            "126) Predicted yield 5.634535789489746 T/ha // Real yield 1.6363636255264282 T/ha\n",
            "127) Predicted yield 5.021333694458008 T/ha // Real yield 5.0 T/ha\n",
            "128) Predicted yield 4.760787487030029 T/ha // Real yield 2.1666667461395264 T/ha\n",
            "129) Predicted yield 5.523939609527588 T/ha // Real yield 4.800000190734863 T/ha\n",
            "130) Predicted yield 3.9875993728637695 T/ha // Real yield 2.5 T/ha\n",
            "131) Predicted yield 4.366083145141602 T/ha // Real yield 4.724999904632568 T/ha\n",
            "132) Predicted yield 0.11296042799949646 T/ha // Real yield 0.15000000596046448 T/ha\n",
            "133) Predicted yield 5.028602123260498 T/ha // Real yield 5.3460001945495605 T/ha\n",
            "134) Predicted yield 4.316348075866699 T/ha // Real yield 3.0 T/ha\n",
            "135) Predicted yield 0.10563529282808304 T/ha // Real yield 0.125 T/ha\n",
            "136) Predicted yield 2.4052655696868896 T/ha // Real yield 5.0 T/ha\n",
            "137) Predicted yield 5.634535789489746 T/ha // Real yield 3.75 T/ha\n",
            "138) Predicted yield 4.779294967651367 T/ha // Real yield 6.666666507720947 T/ha\n",
            "139) Predicted yield 4.32501745223999 T/ha // Real yield 1.6666666269302368 T/ha\n",
            "140) Predicted yield 5.634535789489746 T/ha // Real yield 3.5999999046325684 T/ha\n",
            "141) Predicted yield 4.36150598526001 T/ha // Real yield 3.6449999809265137 T/ha\n",
            "142) Predicted yield 5.029593467712402 T/ha // Real yield 3.6449999809265137 T/ha\n",
            "143) Predicted yield 4.3404860496521 T/ha // Real yield 5.0 T/ha\n",
            "144) Predicted yield 0.9248433709144592 T/ha // Real yield 0.3333333432674408 T/ha\n",
            "145) Predicted yield 0.792105495929718 T/ha // Real yield 0.8999999761581421 T/ha\n",
            "146) Predicted yield 4.008556842803955 T/ha // Real yield 2.5 T/ha\n",
            "147) Predicted yield 4.677324295043945 T/ha // Real yield 5.400000095367432 T/ha\n",
            "148) Predicted yield 3.6699578762054443 T/ha // Real yield 2.671428680419922 T/ha\n",
            "149) Predicted yield 3.6699578762054443 T/ha // Real yield 5.9268293380737305 T/ha\n",
            "150) Predicted yield 5.0034708976745605 T/ha // Real yield 4.0 T/ha\n",
            "151) Predicted yield 4.619014263153076 T/ha // Real yield 6.074999809265137 T/ha\n",
            "152) Predicted yield 5.178160667419434 T/ha // Real yield 3.240000009536743 T/ha\n",
            "153) Predicted yield 6.144712924957275 T/ha // Real yield 7.012499809265137 T/ha\n",
            "154) Predicted yield 3.9875993728637695 T/ha // Real yield 6.0 T/ha\n",
            "155) Predicted yield 2.507061719894409 T/ha // Real yield 4.199999809265137 T/ha\n",
            "156) Predicted yield 2.6452369689941406 T/ha // Real yield 5.0 T/ha\n",
            "157) Predicted yield 5.031442642211914 T/ha // Real yield 8.0 T/ha\n",
            "158) Predicted yield 4.061507701873779 T/ha // Real yield 0.04800000041723251 T/ha\n",
            "159) Predicted yield 5.031442642211914 T/ha // Real yield 6.0 T/ha\n",
            "160) Predicted yield 0.15214566886425018 T/ha // Real yield 0.574999988079071 T/ha\n",
            "161) Predicted yield -0.04682345688343048 T/ha // Real yield 0.4000000059604645 T/ha\n",
            "162) Predicted yield 3.9875993728637695 T/ha // Real yield 4.0 T/ha\n",
            "163) Predicted yield 5.021333694458008 T/ha // Real yield 5.0 T/ha\n",
            "164) Predicted yield 5.64604377746582 T/ha // Real yield 4.559999942779541 T/ha\n",
            "165) Predicted yield 4.678333759307861 T/ha // Real yield 8.0 T/ha\n",
            "166) Predicted yield 3.6118004322052 T/ha // Real yield 3.0 T/ha\n",
            "167) Predicted yield 4.316348075866699 T/ha // Real yield 5.099999904632568 T/ha\n",
            "168) Predicted yield -0.03655282035470009 T/ha // Real yield 0.4000000059604645 T/ha\n",
            "169) Predicted yield 2.4001259803771973 T/ha // Real yield 0.75 T/ha\n",
            "170) Predicted yield 4.605159282684326 T/ha // Real yield 6.1132073402404785 T/ha\n",
            "171) Predicted yield 3.9875993728637695 T/ha // Real yield 5.0 T/ha\n",
            "172) Predicted yield 1.067579746246338 T/ha // Real yield 0.925000011920929 T/ha\n",
            "173) Predicted yield 3.422287940979004 T/ha // Real yield 5.714285850524902 T/ha\n",
            "174) Predicted yield 4.622832775115967 T/ha // Real yield 3.581632614135742 T/ha\n",
            "175) Predicted yield 1.1573734283447266 T/ha // Real yield 0.9285714030265808 T/ha\n",
            "176) Predicted yield 5.646207332611084 T/ha // Real yield 6.383999824523926 T/ha\n",
            "177) Predicted yield 4.602753162384033 T/ha // Real yield 2.924999952316284 T/ha\n",
            "178) Predicted yield 0.578013002872467 T/ha // Real yield 0.10000000149011612 T/ha\n",
            "179) Predicted yield 8.327825546264648 T/ha // Real yield 6.921428680419922 T/ha\n",
            "180) Predicted yield 4.998945713043213 T/ha // Real yield 6.9120001792907715 T/ha\n",
            "181) Predicted yield 5.609724044799805 T/ha // Real yield 5.400000095367432 T/ha\n",
            "182) Predicted yield -0.08246780186891556 T/ha // Real yield 0.3499999940395355 T/ha\n",
            "183) Predicted yield 4.640546798706055 T/ha // Real yield 5.0 T/ha\n",
            "184) Predicted yield 4.970293998718262 T/ha // Real yield 6.119999885559082 T/ha\n",
            "185) Predicted yield 2.456749200820923 T/ha // Real yield 1.7999999523162842 T/ha\n",
            "186) Predicted yield 2.4001259803771973 T/ha // Real yield 1.0 T/ha\n",
            "187) Predicted yield 3.9959137439727783 T/ha // Real yield 5.0 T/ha\n",
            "188) Predicted yield 4.358049392700195 T/ha // Real yield 3.0 T/ha\n",
            "189) Predicted yield 3.418031930923462 T/ha // Real yield 7.0 T/ha\n"
          ],
          "name": "stdout"
        }
      ]
    }
  ]
}