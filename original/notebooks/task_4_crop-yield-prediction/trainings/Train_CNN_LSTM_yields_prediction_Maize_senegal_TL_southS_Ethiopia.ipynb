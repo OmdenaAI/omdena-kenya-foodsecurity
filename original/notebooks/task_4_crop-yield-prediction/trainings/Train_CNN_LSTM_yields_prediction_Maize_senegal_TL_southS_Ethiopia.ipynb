{
  "nbformat": 4,
  "nbformat_minor": 0,
  "metadata": {
    "colab": {
      "name": "Train_CNN_LSTM_yields_prediction_Maize_senegal_TL_southS_Ethiopia.ipynb",
      "provenance": [],
      "collapsed_sections": [
        "m6dMZFse1gRB",
        "uZcNjIgc062v",
        "wbRPWecH2XHD",
        "wXlekjHS2mI5"
      ],
      "toc_visible": true
    },
    "kernelspec": {
      "display_name": "Python 3",
      "name": "python3"
    }
  },
  "cells": [
    {
      "cell_type": "markdown",
      "metadata": {
        "id": "wz6Y1rx8Iqvq"
      },
      "source": [
        "Collaborators: Margaux Masson-Forsythe"
      ]
    },
    {
      "cell_type": "markdown",
      "metadata": {
        "id": "kg2bj16FzFAh"
      },
      "source": [
        "# This notebook trains and predict crop yields using 32 bins histograms "
      ]
    },
    {
      "cell_type": "code",
      "metadata": {
        "id": "Rzq1mWcpzcf4",
        "colab": {
          "base_uri": "https://localhost:8080/"
        },
        "outputId": "0680f4f5-c2a6-4c12-e82d-b6951b7ef995"
      },
      "source": [
        "!pip install Hub"
      ],
      "execution_count": 1,
      "outputs": [
        {
          "output_type": "stream",
          "text": [
            "Requirement already satisfied: Hub in /usr/local/lib/python3.6/dist-packages (1.1.1)\n",
            "Requirement already satisfied: boto3==1.16.39 in /usr/local/lib/python3.6/dist-packages (from Hub) (1.16.39)\n",
            "Requirement already satisfied: s3fs==0.4.2 in /usr/local/lib/python3.6/dist-packages (from Hub) (0.4.2)\n",
            "Requirement already satisfied: numpy<2,>=1.13.0 in /usr/local/lib/python3.6/dist-packages (from Hub) (1.19.5)\n",
            "Requirement already satisfied: click<8,>=6.7 in /usr/local/lib/python3.6/dist-packages (from Hub) (7.1.2)\n",
            "Requirement already satisfied: Pillow>=8.0.1 in /usr/local/lib/python3.6/dist-packages (from Hub) (8.1.0)\n",
            "Requirement already satisfied: fsspec==0.8.5 in /usr/local/lib/python3.6/dist-packages (from Hub) (0.8.5)\n",
            "Requirement already satisfied: pathos>=0.2.2 in /usr/local/lib/python3.6/dist-packages (from Hub) (0.2.7)\n",
            "Requirement already satisfied: lz4<4,>=3 in /usr/local/lib/python3.6/dist-packages (from Hub) (3.1.1)\n",
            "Requirement already satisfied: outdated==0.2.0 in /usr/local/lib/python3.6/dist-packages (from Hub) (0.2.0)\n",
            "Requirement already satisfied: zarr==2.6.1 in /usr/local/lib/python3.6/dist-packages (from Hub) (2.6.1)\n",
            "Requirement already satisfied: azure-storage-blob==12.6.0 in /usr/local/lib/python3.6/dist-packages (from Hub) (12.6.0)\n",
            "Requirement already satisfied: psutil>=5.7.3 in /usr/local/lib/python3.6/dist-packages (from Hub) (5.8.0)\n",
            "Requirement already satisfied: requests<3,>=2 in /usr/local/lib/python3.6/dist-packages (from Hub) (2.23.0)\n",
            "Requirement already satisfied: cachey==0.2.1 in /usr/local/lib/python3.6/dist-packages (from Hub) (0.2.1)\n",
            "Requirement already satisfied: tqdm==4.54.1 in /usr/local/lib/python3.6/dist-packages (from Hub) (4.54.1)\n",
            "Requirement already satisfied: gcsfs==0.6.2 in /usr/local/lib/python3.6/dist-packages (from Hub) (0.6.2)\n",
            "Requirement already satisfied: jmespath<1.0.0,>=0.7.1 in /usr/local/lib/python3.6/dist-packages (from boto3==1.16.39->Hub) (0.10.0)\n",
            "Requirement already satisfied: s3transfer<0.4.0,>=0.3.0 in /usr/local/lib/python3.6/dist-packages (from boto3==1.16.39->Hub) (0.3.4)\n",
            "Requirement already satisfied: botocore<1.20.0,>=1.19.39 in /usr/local/lib/python3.6/dist-packages (from boto3==1.16.39->Hub) (1.19.53)\n",
            "Requirement already satisfied: multiprocess>=0.70.11 in /usr/local/lib/python3.6/dist-packages (from pathos>=0.2.2->Hub) (0.70.11.1)\n",
            "Requirement already satisfied: pox>=0.2.9 in /usr/local/lib/python3.6/dist-packages (from pathos>=0.2.2->Hub) (0.2.9)\n",
            "Requirement already satisfied: dill>=0.3.3 in /usr/local/lib/python3.6/dist-packages (from pathos>=0.2.2->Hub) (0.3.3)\n",
            "Requirement already satisfied: ppft>=1.6.6.3 in /usr/local/lib/python3.6/dist-packages (from pathos>=0.2.2->Hub) (1.6.6.3)\n",
            "Requirement already satisfied: littleutils in /usr/local/lib/python3.6/dist-packages (from outdated==0.2.0->Hub) (0.2.2)\n",
            "Requirement already satisfied: asciitree in /usr/local/lib/python3.6/dist-packages (from zarr==2.6.1->Hub) (0.3.3)\n",
            "Requirement already satisfied: fasteners in /usr/local/lib/python3.6/dist-packages (from zarr==2.6.1->Hub) (0.16)\n",
            "Requirement already satisfied: numcodecs>=0.6.4 in /usr/local/lib/python3.6/dist-packages (from zarr==2.6.1->Hub) (0.7.2)\n",
            "Requirement already satisfied: cryptography>=2.1.4 in /usr/local/lib/python3.6/dist-packages (from azure-storage-blob==12.6.0->Hub) (3.3.1)\n",
            "Requirement already satisfied: azure-core<2.0.0,>=1.9.0 in /usr/local/lib/python3.6/dist-packages (from azure-storage-blob==12.6.0->Hub) (1.10.0)\n",
            "Requirement already satisfied: msrest>=0.6.10 in /usr/local/lib/python3.6/dist-packages (from azure-storage-blob==12.6.0->Hub) (0.6.19)\n",
            "Requirement already satisfied: urllib3!=1.25.0,!=1.25.1,<1.26,>=1.21.1 in /usr/local/lib/python3.6/dist-packages (from requests<3,>=2->Hub) (1.24.3)\n",
            "Requirement already satisfied: chardet<4,>=3.0.2 in /usr/local/lib/python3.6/dist-packages (from requests<3,>=2->Hub) (3.0.4)\n",
            "Requirement already satisfied: idna<3,>=2.5 in /usr/local/lib/python3.6/dist-packages (from requests<3,>=2->Hub) (2.10)\n",
            "Requirement already satisfied: certifi>=2017.4.17 in /usr/local/lib/python3.6/dist-packages (from requests<3,>=2->Hub) (2020.12.5)\n",
            "Requirement already satisfied: heapdict in /usr/local/lib/python3.6/dist-packages (from cachey==0.2.1->Hub) (1.0.1)\n",
            "Requirement already satisfied: google-auth-oauthlib in /usr/local/lib/python3.6/dist-packages (from gcsfs==0.6.2->Hub) (0.4.2)\n",
            "Requirement already satisfied: decorator in /usr/local/lib/python3.6/dist-packages (from gcsfs==0.6.2->Hub) (4.4.2)\n",
            "Requirement already satisfied: google-auth>=1.2 in /usr/local/lib/python3.6/dist-packages (from gcsfs==0.6.2->Hub) (1.17.2)\n",
            "Requirement already satisfied: python-dateutil<3.0.0,>=2.1 in /usr/local/lib/python3.6/dist-packages (from botocore<1.20.0,>=1.19.39->boto3==1.16.39->Hub) (2.8.1)\n",
            "Requirement already satisfied: six>=1.7.3 in /usr/local/lib/python3.6/dist-packages (from ppft>=1.6.6.3->pathos>=0.2.2->Hub) (1.15.0)\n",
            "Requirement already satisfied: cffi>=1.12 in /usr/local/lib/python3.6/dist-packages (from cryptography>=2.1.4->azure-storage-blob==12.6.0->Hub) (1.14.4)\n",
            "Requirement already satisfied: requests-oauthlib>=0.5.0 in /usr/local/lib/python3.6/dist-packages (from msrest>=0.6.10->azure-storage-blob==12.6.0->Hub) (1.3.0)\n",
            "Requirement already satisfied: isodate>=0.6.0 in /usr/local/lib/python3.6/dist-packages (from msrest>=0.6.10->azure-storage-blob==12.6.0->Hub) (0.6.0)\n",
            "Requirement already satisfied: pyasn1-modules>=0.2.1 in /usr/local/lib/python3.6/dist-packages (from google-auth>=1.2->gcsfs==0.6.2->Hub) (0.2.8)\n",
            "Requirement already satisfied: cachetools<5.0,>=2.0.0 in /usr/local/lib/python3.6/dist-packages (from google-auth>=1.2->gcsfs==0.6.2->Hub) (4.2.0)\n",
            "Requirement already satisfied: setuptools>=40.3.0 in /usr/local/lib/python3.6/dist-packages (from google-auth>=1.2->gcsfs==0.6.2->Hub) (51.1.1)\n",
            "Requirement already satisfied: rsa<5,>=3.1.4; python_version >= \"3\" in /usr/local/lib/python3.6/dist-packages (from google-auth>=1.2->gcsfs==0.6.2->Hub) (4.6)\n",
            "Requirement already satisfied: pycparser in /usr/local/lib/python3.6/dist-packages (from cffi>=1.12->cryptography>=2.1.4->azure-storage-blob==12.6.0->Hub) (2.20)\n",
            "Requirement already satisfied: oauthlib>=3.0.0 in /usr/local/lib/python3.6/dist-packages (from requests-oauthlib>=0.5.0->msrest>=0.6.10->azure-storage-blob==12.6.0->Hub) (3.1.0)\n",
            "Requirement already satisfied: pyasn1<0.5.0,>=0.4.6 in /usr/local/lib/python3.6/dist-packages (from pyasn1-modules>=0.2.1->google-auth>=1.2->gcsfs==0.6.2->Hub) (0.4.8)\n"
          ],
          "name": "stdout"
        }
      ]
    },
    {
      "cell_type": "code",
      "metadata": {
        "colab": {
          "base_uri": "https://localhost:8080/",
          "height": 52
        },
        "id": "vi6ltr2iu70m",
        "outputId": "213e991a-225d-4445-dc8d-701be04c245a"
      },
      "source": [
        "import tensorflow as tf\n",
        "from hub import Dataset\n",
        "from tensorflow.keras import datasets, layers, models\n",
        "import matplotlib.pyplot as plt\n",
        "import numpy as np\n",
        "import os\n",
        "print(tf.__version__)\n",
        "# check if notebook is using GPU\n",
        "tf.test.gpu_device_name()"
      ],
      "execution_count": 2,
      "outputs": [
        {
          "output_type": "stream",
          "text": [
            "2.4.0\n"
          ],
          "name": "stdout"
        },
        {
          "output_type": "execute_result",
          "data": {
            "application/vnd.google.colaboratory.intrinsic+json": {
              "type": "string"
            },
            "text/plain": [
              "''"
            ]
          },
          "metadata": {
            "tags": []
          },
          "execution_count": 2
        }
      ]
    },
    {
      "cell_type": "markdown",
      "metadata": {
        "id": "m6dMZFse1gRB"
      },
      "source": [
        "### Functions"
      ]
    },
    {
      "cell_type": "markdown",
      "metadata": {
        "id": "1IHucShqzsuT"
      },
      "source": [
        "### Load data from ActiveLoop"
      ]
    },
    {
      "cell_type": "code",
      "metadata": {
        "colab": {
          "base_uri": "https://localhost:8080/"
        },
        "id": "rGrhNPjfzX5Y",
        "outputId": "5996e4a7-45e4-4a27-a8db-585b74d4b08e"
      },
      "source": [
        "crop_type = 'maize'\n",
        "\n",
        "print(\"Load data from ActiveLoop ...\")\n",
        "\n",
        "###### MAIZE ########\n",
        "if crop_type.lower() == 'maize':\n",
        "  tag1 = \"margauxmforsythe/SouthSudan_departments_histograms_weeks_19_30_Maize\" # 2010, 2011, 2014, 2015\n",
        "  tag2 = \"margauxmforsythe/Ethiopia_histograms_weeks_19_30_Maize\" # 2004, 2013, 2015, 2016\n",
        "\n",
        "  tag3 = \"margauxmforsythe/Senegal_IPAR_histograms_weeks_19_30_Maize\"\n",
        "\n",
        "  ds1 = Dataset(tag1)\n",
        "  ds2 = Dataset(tag2)\n",
        "  ds3 = Dataset(tag3)\n",
        "  \n",
        "  print(\"Dataset {} shape:\".format(tag1, ds1[\"histograms\"].compute().shape))\n",
        "  print(\"Dataset {} shape:\".format(ds2[\"histograms\"].compute().shape))\n",
        "\n",
        "  histograms = np.concatenate((ds1[\"histograms\"].compute(), ds2[\"histograms\"].compute(), ds3[\"histograms\"].compute()), axis=0)\n",
        "  yields_list = np.concatenate((ds1[\"yields\"].compute(), ds2[\"yields\"].compute(), ds3[\"yields\"].compute()), axis=0)\n",
        "\n",
        "  print(\"Datasets combined, histograms set's shape is {}\".format(histograms.shape))\n",
        "  print(\"Data loaded from {}, {} and {}\".format(tag1, tag2, tag3))\n",
        "\n",
        "###### RICE ########\n",
        "if crop_type.lower() == 'rice':\n",
        "  # TODO\n",
        "  tag1 = \"margauxmforsythe/Senegal_histograms_weeks_19_30_IPAR_Rice_CSC_2014_augmented\" \n",
        "  tag2 = \"margauxmforsythe/Senegal_histograms_weeks_19_30_IPAR_Maize_2014_augmented_2\"\n",
        "\n",
        "  ds1 = Dataset(tag1)\n",
        "  ds2 = Dataset(tag2)\n",
        "  print(ds1[\"histograms\"].compute().shape)\n",
        "  print(ds2[\"histograms\"].compute().shape)\n",
        "  histograms = np.concatenate((ds1[\"histograms\"].compute(), ds2[\"histograms\"].compute()), axis=0)\n",
        "  yields_list = np.concatenate((ds1[\"yields\"].compute(), ds2[\"yields\"].compute()), axis=0)\n",
        "  print(histograms.shape)\n",
        "  print(\"Data loaded from {} and {}\".format(tag1, tag2))\n",
        "  \n",
        "###### MILLET ########\n",
        "if crop_type.lower() == 'millet':\n",
        "  tag = \"margauxmforsythe/Senegal_IPAR_histograms_weeks_21_30_Millet\"\n",
        "  ds = Dataset(tag)\n",
        "  histograms = ds[\"histograms\"].compute()\n",
        "  yields_list = ds[\"yields\"].compute()\n",
        "\n",
        "  print(\"Data loaded from {}\".format(tag))\n",
        "\n",
        "if crop_type.lower() != 'millet' and crop_type.lower() != 'maize' and crop_type.lower() != 'rice': \n",
        "  print(\"Please choose a crop type between maize and millet\")\n",
        "\n",
        "yields = []\n",
        "for i in range(0,len(yields_list)):\n",
        "    yields.append(float(yields_list[i][0]))\n",
        "\n",
        "print(\"There are {} yield values for training \".format(len(yields)))"
      ],
      "execution_count": 3,
      "outputs": [
        {
          "output_type": "stream",
          "text": [
            "Load data from ActiveLoop ...\n",
            "Dataset margauxmforsythe/SouthSudan_departments_histograms_weeks_19_30_Maize shape:\n",
            "Dataset (154, 32, 11, 9) shape:\n",
            "Datasets combined, histograms set's shape is (1212, 32, 11, 9)\n",
            "Data loaded from margauxmforsythe/SouthSudan_departments_histograms_weeks_19_30_Maize, margauxmforsythe/Ethiopia_histograms_weeks_19_30_Maize and margauxmforsythe/Senegal_IPAR_histograms_weeks_19_30_Maize\n",
            "There are 1212 yield values for training \n"
          ],
          "name": "stdout"
        }
      ]
    },
    {
      "cell_type": "code",
      "metadata": {
        "colab": {
          "base_uri": "https://localhost:8080/"
        },
        "id": "6WR_Allmzwag",
        "outputId": "1ed18cff-3bf2-4ec0-fef3-c9cfc2d95317"
      },
      "source": [
        "# Get image width, height and channels from the dataset\n",
        "img_width = histograms[0].shape[0]\n",
        "img_height = histograms[0].shape[1]\n",
        "batch_size = 16\n",
        "channels = histograms[0].shape[2]\n",
        "shape = (img_width, img_height, channels)\n",
        "print(\"Shape input images: {}\".format(shape)) # (bins*time steps*bands)\n",
        "\n",
        "image_count = histograms.shape[0]\n",
        "print(\"Image count: {}\".format(image_count))\n",
        "CNN_LSTM = True\n",
        "\n",
        "# With CNN_LSTM, we need to re arrange the data to (time steps*1*bins*bands)\n",
        "if CNN_LSTM:\n",
        "  histograms_CNN_LSTM = []\n",
        "  for i in range(image_count):\n",
        "    histogram_all_timestamps_transposed = np.transpose(histograms[i], (1,0,2))\n",
        "    timestamps = []\n",
        "    for j in range(histograms[i].shape[1]): # going through all timestamps\n",
        "      timestamps.append(np.expand_dims(histogram_all_timestamps_transposed[j], axis=0))\n",
        "    histograms_CNN_LSTM.append(timestamps)\n",
        "  histograms = histograms_CNN_LSTM\n"
      ],
      "execution_count": 4,
      "outputs": [
        {
          "output_type": "stream",
          "text": [
            "Shape input images: (32, 11, 9)\n",
            "Image count: 1212\n"
          ],
          "name": "stdout"
        }
      ]
    },
    {
      "cell_type": "code",
      "metadata": {
        "colab": {
          "base_uri": "https://localhost:8080/"
        },
        "id": "-og9rmkanr-B",
        "outputId": "3254d610-48de-409c-b55e-22412ddaf8f9"
      },
      "source": [
        "assert len(histograms) == len(yields)\n",
        "list_ds = tf.data.Dataset.from_tensor_slices((histograms, yields))\n",
        "print(\"Total files: {}\".format(image_count))"
      ],
      "execution_count": 5,
      "outputs": [
        {
          "output_type": "stream",
          "text": [
            "Total files: 1212\n"
          ],
          "name": "stdout"
        }
      ]
    },
    {
      "cell_type": "code",
      "metadata": {
        "colab": {
          "base_uri": "https://localhost:8080/"
        },
        "id": "YyXwhFcB0UJ5",
        "outputId": "cff5bc57-f96a-4e2b-a586-ce8653c6bd3c"
      },
      "source": [
        "train_size = int(0.8 * image_count)\n",
        "val_size = int(0.1 * image_count)\n",
        "test_size = int(0.1 * image_count)\n",
        "\n",
        "list_ds = list_ds.shuffle(len(list_ds))\n",
        "test_ds = list_ds.take(test_size)\n",
        "train_ds = list_ds.skip(test_size)\n",
        "val_ds = train_ds.take(val_size)\n",
        "train_ds = train_ds.skip(val_size)\n",
        "\n",
        "n_training_files = len(train_ds)\n",
        "print(\"Total files: {}\".format(len(histograms)))\n",
        "print(\"Training files: {}\".format(len(train_ds)))\n",
        "print(\"Validation files: {}\".format(len(val_ds)))\n",
        "\n",
        "AUTOTUNE = tf.data.experimental.AUTOTUNE\n",
        "train_ds = train_ds.cache()\n",
        "train_ds = train_ds.shuffle(len(train_ds)).repeat()\n",
        "train_ds = train_ds.batch(batch_size)\n",
        "\n",
        "val_ds = val_ds.cache()\n",
        "val_ds = val_ds.shuffle(val_size)\n",
        "val_ds = val_ds.batch(val_size)\n",
        "\n",
        "test_ds = test_ds.cache()\n",
        "test_ds = test_ds.batch(len(test_ds))"
      ],
      "execution_count": 6,
      "outputs": [
        {
          "output_type": "stream",
          "text": [
            "Total files: 1212\n",
            "Training files: 970\n",
            "Validation files: 121\n"
          ],
          "name": "stdout"
        }
      ]
    },
    {
      "cell_type": "markdown",
      "metadata": {
        "id": "VntC-wWZ0x0C"
      },
      "source": [
        "### Display first band images in batch to check the data is correct"
      ]
    },
    {
      "cell_type": "code",
      "metadata": {
        "colab": {
          "base_uri": "https://localhost:8080/"
        },
        "id": "tNC6jYQpZb4w",
        "outputId": "5f67f12c-9100-4358-a291-b3d63d6979ef"
      },
      "source": [
        "image_batch_train, label_batch_train = next(iter(train_ds))\n",
        "image_batch_val, label_batch_val= next(iter(val_ds))\n",
        "image_batch_test, label_batch_test= next(iter(test_ds))\n",
        "\n",
        "print(image_batch_train.shape)\n",
        "if not CNN_LSTM:\n",
        "  # Check if images are correct\n",
        "  plt.figure(figsize=(10, 10))\n",
        "  plt.suptitle(\"all bands first image\")\n",
        "  for i in range(9):\n",
        "    ax = plt.subplot(3, 3, i + 1)\n",
        "    plt.imshow(image_batch_train[0][:,:,i].numpy())\n",
        "    label = label_batch_train[0]\n",
        "    plt.title(label.numpy())\n",
        "    plt.axis(\"off\")\n",
        "\n",
        "  plt.show()\n",
        "else:\n",
        "  input_shape_cnn_lstm = (image_batch_train.shape[1], image_batch_train.shape[2], \n",
        "                          image_batch_train.shape[3], image_batch_train.shape[4])\n",
        "  print(\"input_shape_cnn_lstm: {} = (timestamps*1*bins*bands)\".format(input_shape_cnn_lstm))\n",
        "  input_shape_cnn = (image_batch_train.shape[2], image_batch_train.shape[3], image_batch_train.shape[4])\n",
        "  print(\"input_shape_cnn: {} = (1*bins*bands)\".format(input_shape_cnn))"
      ],
      "execution_count": 7,
      "outputs": [
        {
          "output_type": "stream",
          "text": [
            "(16, 11, 1, 32, 9)\n",
            "input_shape_cnn_lstm: (11, 1, 32, 9) = (timestamps*1*bins*bands)\n",
            "input_shape_cnn: (1, 32, 9) = (1*bins*bands)\n"
          ],
          "name": "stdout"
        }
      ]
    },
    {
      "cell_type": "code",
      "metadata": {
        "colab": {
          "base_uri": "https://localhost:8080/",
          "height": 353
        },
        "id": "zjBe-37DlBYy",
        "outputId": "592a929c-98cd-4e61-d1ab-4d8dd3f08f0d"
      },
      "source": [
        "indexes_list = []\n",
        "for i in range(len(yields)):\n",
        "  indexes_list.append(i)\n",
        "\n",
        "plt.figure(figsize=(7,5))\n",
        "plt.title(\"Plot yields (T/ha) in the dataset\")\n",
        "plt.bar(indexes_list, yields)"
      ],
      "execution_count": 8,
      "outputs": [
        {
          "output_type": "execute_result",
          "data": {
            "text/plain": [
              "<BarContainer object of 1212 artists>"
            ]
          },
          "metadata": {
            "tags": []
          },
          "execution_count": 8
        },
        {
          "output_type": "display_data",
          "data": {
            "image/png": "[encoded data removed]",
            "text/plain": [
              "<Figure size 504x360 with 1 Axes>"
            ]
          },
          "metadata": {
            "tags": [],
            "needs_background": "light"
          }
        }
      ]
    },
    {
      "cell_type": "markdown",
      "metadata": {
        "id": "uZcNjIgc062v"
      },
      "source": [
        "## Build Model: CNN-LSTM"
      ]
    },
    {
      "cell_type": "code",
      "metadata": {
        "colab": {
          "base_uri": "https://localhost:8080/"
        },
        "id": "6YCeEK3ec9_W",
        "outputId": "11b32772-90d0-43dc-9f14-5a147aedecee"
      },
      "source": [
        "if CNN_LSTM:\n",
        "  # CNN-LSTM WIP\n",
        "  # https://www.mdpi.com/1424-8220/19/20/4363/htm\n",
        "  from keras.layers.wrappers import TimeDistributed\n",
        "  from keras.layers import *\n",
        "  from keras import regularizers\n",
        "  model=models.Sequential()\n",
        "\n",
        "  model.add(TimeDistributed(Conv2D(32, (1, 2), activation='relu',\n",
        "                                   kernel_regularizer=regularizers.l2(0.001),\n",
        "                                   input_shape=(input_shape_cnn)), input_shape=input_shape_cnn_lstm))\n",
        "  model.add(TimeDistributed(BatchNormalization()))\n",
        "  model.add(TimeDistributed(MaxPooling2D(pool_size=(1, 2))))\n",
        "\n",
        "  model.add(TimeDistributed(Conv2D(64, (1, 2), activation='relu',\n",
        "                                   kernel_regularizer=regularizers.l2(0.001))))\n",
        "  model.add(TimeDistributed(BatchNormalization()))\n",
        "  model.add(TimeDistributed(MaxPooling2D(pool_size=(1, 2))))\n",
        "\n",
        "  model.add(TimeDistributed(Flatten()))\n",
        "  model.add(LSTM(256, return_sequences=True, activation='relu', dropout=0.25));\n",
        "\n",
        "  model.add(TimeDistributed(Dense(64)))\n",
        "  model.add(TimeDistributed(Flatten()))\n",
        "  model.add(TimeDistributed(Dropout(0.5)))\n",
        "  model.add(TimeDistributed(Dense(1)))\n",
        "  model.add(GlobalAveragePooling1D(name=\"global_avg_flow\"))\n",
        "\n",
        "  model.summary()"
      ],
      "execution_count": 9,
      "outputs": [
        {
          "output_type": "stream",
          "text": [
            "Model: \"sequential\"\n",
            "_________________________________________________________________\n",
            "Layer (type)                 Output Shape              Param #   \n",
            "=================================================================\n",
            "time_distributed (TimeDistri (None, 11, 1, 31, 32)     608       \n",
            "_________________________________________________________________\n",
            "time_distributed_1 (TimeDist (None, 11, 1, 31, 32)     128       \n",
            "_________________________________________________________________\n",
            "time_distributed_2 (TimeDist (None, 11, 1, 15, 32)     0         \n",
            "_________________________________________________________________\n",
            "time_distributed_3 (TimeDist (None, 11, 1, 14, 64)     4160      \n",
            "_________________________________________________________________\n",
            "time_distributed_4 (TimeDist (None, 11, 1, 14, 64)     256       \n",
            "_________________________________________________________________\n",
            "time_distributed_5 (TimeDist (None, 11, 1, 7, 64)      0         \n",
            "_________________________________________________________________\n",
            "time_distributed_6 (TimeDist (None, 11, 448)           0         \n",
            "_________________________________________________________________\n",
            "lstm (LSTM)                  (None, 11, 256)           721920    \n",
            "_________________________________________________________________\n",
            "time_distributed_7 (TimeDist (None, 11, 64)            16448     \n",
            "_________________________________________________________________\n",
            "time_distributed_8 (TimeDist (None, 11, 64)            0         \n",
            "_________________________________________________________________\n",
            "time_distributed_9 (TimeDist (None, 11, 64)            0         \n",
            "_________________________________________________________________\n",
            "time_distributed_10 (TimeDis (None, 11, 1)             65        \n",
            "_________________________________________________________________\n",
            "global_avg_flow (GlobalAvera (None, 1)                 0         \n",
            "=================================================================\n",
            "Total params: 743,585\n",
            "Trainable params: 743,393\n",
            "Non-trainable params: 192\n",
            "_________________________________________________________________\n"
          ],
          "name": "stdout"
        }
      ]
    },
    {
      "cell_type": "code",
      "metadata": {
        "id": "uqsFLT061KKS"
      },
      "source": [
        "initial_learning_rate = 0.0001\n",
        "\n",
        "model.compile(optimizer=tf.keras.optimizers.Adam(learning_rate=initial_learning_rate),\n",
        "              loss=tf.keras.losses.MeanSquaredError(),\n",
        "              metrics=['accuracy', tf.keras.metrics.RootMeanSquaredError(name='RMSE'), tf.keras.losses.MeanSquaredError(name='MSE')])"
      ],
      "execution_count": 10,
      "outputs": []
    },
    {
      "cell_type": "markdown",
      "metadata": {
        "id": "jBi1kz5s1XPe"
      },
      "source": [
        "### Create Callbacks for model fit"
      ]
    },
    {
      "cell_type": "code",
      "metadata": {
        "id": "I2SnL7hT1PkD"
      },
      "source": [
        "checkpoint_file = 'checkpoint_{}_b{}_CNN-LSTM_senegal.h5'.format(crop_type, batch_size)\n",
        "model_checkpoint_callback = tf.keras.callbacks.ModelCheckpoint(\n",
        "    filepath= checkpoint_file,\n",
        "    format='h5',\n",
        "    verbose=1,\n",
        "    save_weights_only=True,\n",
        "    monitor='val_loss',\n",
        "    mode='min',\n",
        "    save_best_only=True)\n",
        "\n",
        "reducelronplateau = tf.keras.callbacks.ReduceLROnPlateau(\n",
        "    monitor='val_loss', factor=0.1, patience=5, verbose=1,\n",
        "    mode='min', min_lr=1e-10)\n",
        "\n",
        "early_stop = tf.keras.callbacks.EarlyStopping(monitor='val_loss',mode='min', patience=20, verbose=1)"
      ],
      "execution_count": 11,
      "outputs": []
    },
    {
      "cell_type": "markdown",
      "metadata": {
        "id": "k47yiQV61389"
      },
      "source": [
        "## Training"
      ]
    },
    {
      "cell_type": "code",
      "metadata": {
        "colab": {
          "base_uri": "https://localhost:8080/"
        },
        "id": "ZyrcJ2ocziNH",
        "outputId": "a8149316-ad4e-4569-8eff-e933d5bcdae2"
      },
      "source": [
        "# # transfer learning\n",
        "model.load_weights('/content/checkpoint_maize_b16_CNN-LSTM_SouthSudan_Ethiopia.h5')\n",
        "\n",
        "print(\"\\nEvaluating val ds... \")\n",
        "test_loss, test_acc, test_rmse, test_mse = model.evaluate(val_ds, verbose=1)\n",
        "\n",
        "print(\"\\nEvaluating test ds (0.1 of all files)... \")\n",
        "test_loss, test_acc, test_rmse, test_mse = model.evaluate(test_ds, verbose=1)"
      ],
      "execution_count": 12,
      "outputs": [
        {
          "output_type": "stream",
          "text": [
            "\n",
            "Evaluating val ds... \n",
            "1/1 [==============================] - 1s 798ms/step - loss: 0.4972 - accuracy: 0.0661 - RMSE: 0.6642 - MSE: 0.4412\n",
            "\n",
            "Evaluating test ds (0.1 of all files)... \n",
            "1/1 [==============================] - 0s 101ms/step - loss: 0.3071 - accuracy: 0.0744 - RMSE: 0.5011 - MSE: 0.2511\n"
          ],
          "name": "stdout"
        }
      ]
    },
    {
      "cell_type": "code",
      "metadata": {
        "colab": {
          "base_uri": "https://localhost:8080/"
        },
        "id": "oTbtdYpy15Zd",
        "outputId": "826faccd-a799-48a9-814e-96ed1aa799be"
      },
      "source": [
        "print(\"Train ... Transfer learning from South Sudan... \")\n",
        "\n",
        "model.trainable = True\n",
        "history = model.fit(train_ds,\n",
        "                    epochs=1000,\n",
        "                    steps_per_epoch=n_training_files//batch_size,\n",
        "                    validation_data=val_ds,\n",
        "                    verbose=1,\n",
        "                    callbacks=[model_checkpoint_callback, reducelronplateau, early_stop])\n"
      ],
      "execution_count": 13,
      "outputs": [
        {
          "output_type": "stream",
          "text": [
            "Train ... Transfer learning from South Sudan... \n",
            "Epoch 1/1000\n",
            "60/60 [==============================] - 7s 89ms/step - loss: 0.4995 - accuracy: 0.0635 - RMSE: 0.6660 - MSE: 0.4436 - val_loss: 0.5082 - val_accuracy: 0.0579 - val_RMSE: 0.6725 - val_MSE: 0.4523\n",
            "\n",
            "Epoch 00001: val_loss improved from inf to 0.50820, saving model to checkpoint_maize_b16_CNN-LSTM_senegal.h5\n",
            "Epoch 2/1000\n",
            "60/60 [==============================] - 5s 87ms/step - loss: 0.4564 - accuracy: 0.0615 - RMSE: 0.6329 - MSE: 0.4005 - val_loss: 0.4806 - val_accuracy: 0.0579 - val_RMSE: 0.6518 - val_MSE: 0.4248\n",
            "\n",
            "Epoch 00002: val_loss improved from 0.50820 to 0.48062, saving model to checkpoint_maize_b16_CNN-LSTM_senegal.h5\n",
            "Epoch 3/1000\n",
            "60/60 [==============================] - 5s 90ms/step - loss: 0.4123 - accuracy: 0.0594 - RMSE: 0.5971 - MSE: 0.3565 - val_loss: 0.4388 - val_accuracy: 0.0661 - val_RMSE: 0.6189 - val_MSE: 0.3830\n",
            "\n",
            "Epoch 00003: val_loss improved from 0.48062 to 0.43878, saving model to checkpoint_maize_b16_CNN-LSTM_senegal.h5\n",
            "Epoch 4/1000\n",
            "60/60 [==============================] - 5s 91ms/step - loss: 0.4384 - accuracy: 0.0698 - RMSE: 0.6186 - MSE: 0.3827 - val_loss: 0.4145 - val_accuracy: 0.0661 - val_RMSE: 0.5990 - val_MSE: 0.3588\n",
            "\n",
            "Epoch 00004: val_loss improved from 0.43878 to 0.41447, saving model to checkpoint_maize_b16_CNN-LSTM_senegal.h5\n",
            "Epoch 5/1000\n",
            "60/60 [==============================] - 5s 91ms/step - loss: 0.4023 - accuracy: 0.0615 - RMSE: 0.5887 - MSE: 0.3466 - val_loss: 0.4543 - val_accuracy: 0.0579 - val_RMSE: 0.6315 - val_MSE: 0.3987\n",
            "\n",
            "Epoch 00005: val_loss did not improve from 0.41447\n",
            "Epoch 6/1000\n",
            "60/60 [==============================] - 5s 91ms/step - loss: 0.3900 - accuracy: 0.0719 - RMSE: 0.5783 - MSE: 0.3345 - val_loss: 0.3896 - val_accuracy: 0.0661 - val_RMSE: 0.5780 - val_MSE: 0.3341\n",
            "\n",
            "Epoch 00006: val_loss improved from 0.41447 to 0.38959, saving model to checkpoint_maize_b16_CNN-LSTM_senegal.h5\n",
            "Epoch 7/1000\n",
            "60/60 [==============================] - 6s 95ms/step - loss: 0.3836 - accuracy: 0.0594 - RMSE: 0.5729 - MSE: 0.3282 - val_loss: 0.3858 - val_accuracy: 0.0661 - val_RMSE: 0.5747 - val_MSE: 0.3303\n",
            "\n",
            "Epoch 00007: val_loss improved from 0.38959 to 0.38575, saving model to checkpoint_maize_b16_CNN-LSTM_senegal.h5\n",
            "Epoch 8/1000\n",
            "60/60 [==============================] - 5s 89ms/step - loss: 0.3773 - accuracy: 0.0604 - RMSE: 0.5673 - MSE: 0.3219 - val_loss: 0.3904 - val_accuracy: 0.0579 - val_RMSE: 0.5788 - val_MSE: 0.3350\n",
            "\n",
            "Epoch 00008: val_loss did not improve from 0.38575\n",
            "Epoch 9/1000\n",
            "60/60 [==============================] - 5s 88ms/step - loss: 0.3753 - accuracy: 0.0635 - RMSE: 0.5657 - MSE: 0.3200 - val_loss: 0.4179 - val_accuracy: 0.0661 - val_RMSE: 0.6022 - val_MSE: 0.3627\n",
            "\n",
            "Epoch 00009: val_loss did not improve from 0.38575\n",
            "Epoch 10/1000\n",
            "60/60 [==============================] - 5s 90ms/step - loss: 0.3479 - accuracy: 0.0604 - RMSE: 0.5410 - MSE: 0.2927 - val_loss: 0.3984 - val_accuracy: 0.0661 - val_RMSE: 0.5858 - val_MSE: 0.3432\n",
            "\n",
            "Epoch 00010: val_loss did not improve from 0.38575\n",
            "Epoch 11/1000\n",
            "60/60 [==============================] - 5s 90ms/step - loss: 0.3367 - accuracy: 0.0667 - RMSE: 0.5306 - MSE: 0.2815 - val_loss: 0.3785 - val_accuracy: 0.0661 - val_RMSE: 0.5686 - val_MSE: 0.3233\n",
            "\n",
            "Epoch 00011: val_loss improved from 0.38575 to 0.37847, saving model to checkpoint_maize_b16_CNN-LSTM_senegal.h5\n",
            "Epoch 12/1000\n",
            "60/60 [==============================] - 5s 91ms/step - loss: 0.3427 - accuracy: 0.0635 - RMSE: 0.5363 - MSE: 0.2876 - val_loss: 0.3341 - val_accuracy: 0.0661 - val_RMSE: 0.5282 - val_MSE: 0.2790\n",
            "\n",
            "Epoch 00012: val_loss improved from 0.37847 to 0.33407, saving model to checkpoint_maize_b16_CNN-LSTM_senegal.h5\n",
            "Epoch 13/1000\n",
            "60/60 [==============================] - 5s 89ms/step - loss: 0.2962 - accuracy: 0.0562 - RMSE: 0.4911 - MSE: 0.2411 - val_loss: 0.3639 - val_accuracy: 0.0496 - val_RMSE: 0.5558 - val_MSE: 0.3089\n",
            "\n",
            "Epoch 00013: val_loss did not improve from 0.33407\n",
            "Epoch 14/1000\n",
            "60/60 [==============================] - 5s 91ms/step - loss: 0.3581 - accuracy: 0.0583 - RMSE: 0.5506 - MSE: 0.3031 - val_loss: 0.3274 - val_accuracy: 0.0661 - val_RMSE: 0.5219 - val_MSE: 0.2724\n",
            "\n",
            "Epoch 00014: val_loss improved from 0.33407 to 0.32736, saving model to checkpoint_maize_b16_CNN-LSTM_senegal.h5\n",
            "Epoch 15/1000\n",
            "60/60 [==============================] - 5s 91ms/step - loss: 0.2932 - accuracy: 0.0656 - RMSE: 0.4882 - MSE: 0.2383 - val_loss: 0.3114 - val_accuracy: 0.0661 - val_RMSE: 0.5065 - val_MSE: 0.2565\n",
            "\n",
            "Epoch 00015: val_loss improved from 0.32736 to 0.31138, saving model to checkpoint_maize_b16_CNN-LSTM_senegal.h5\n",
            "Epoch 16/1000\n",
            "60/60 [==============================] - 5s 89ms/step - loss: 0.2633 - accuracy: 0.0552 - RMSE: 0.4566 - MSE: 0.2085 - val_loss: 0.3071 - val_accuracy: 0.0579 - val_RMSE: 0.5023 - val_MSE: 0.2523\n",
            "\n",
            "Epoch 00016: val_loss improved from 0.31138 to 0.30708, saving model to checkpoint_maize_b16_CNN-LSTM_senegal.h5\n",
            "Epoch 17/1000\n",
            "60/60 [==============================] - 5s 90ms/step - loss: 0.2503 - accuracy: 0.0677 - RMSE: 0.4422 - MSE: 0.1955 - val_loss: 0.3127 - val_accuracy: 0.0661 - val_RMSE: 0.5079 - val_MSE: 0.2579\n",
            "\n",
            "Epoch 00017: val_loss did not improve from 0.30708\n",
            "Epoch 18/1000\n",
            "60/60 [==============================] - 5s 90ms/step - loss: 0.2939 - accuracy: 0.0646 - RMSE: 0.4891 - MSE: 0.2392 - val_loss: 0.2980 - val_accuracy: 0.0579 - val_RMSE: 0.4933 - val_MSE: 0.2434\n",
            "\n",
            "Epoch 00018: val_loss improved from 0.30708 to 0.29802, saving model to checkpoint_maize_b16_CNN-LSTM_senegal.h5\n",
            "Epoch 19/1000\n",
            "60/60 [==============================] - 5s 88ms/step - loss: 0.2299 - accuracy: 0.0562 - RMSE: 0.4187 - MSE: 0.1753 - val_loss: 0.3447 - val_accuracy: 0.0661 - val_RMSE: 0.5386 - val_MSE: 0.2901\n",
            "\n",
            "Epoch 00019: val_loss did not improve from 0.29802\n",
            "Epoch 20/1000\n",
            "60/60 [==============================] - 5s 87ms/step - loss: 0.2542 - accuracy: 0.0646 - RMSE: 0.4468 - MSE: 0.1996 - val_loss: 0.3120 - val_accuracy: 0.0579 - val_RMSE: 0.5074 - val_MSE: 0.2575\n",
            "\n",
            "Epoch 00020: val_loss did not improve from 0.29802\n",
            "Epoch 21/1000\n",
            "60/60 [==============================] - 5s 89ms/step - loss: 0.2378 - accuracy: 0.0667 - RMSE: 0.4281 - MSE: 0.1833 - val_loss: 0.2758 - val_accuracy: 0.0661 - val_RMSE: 0.4705 - val_MSE: 0.2214\n",
            "\n",
            "Epoch 00021: val_loss improved from 0.29802 to 0.27584, saving model to checkpoint_maize_b16_CNN-LSTM_senegal.h5\n",
            "Epoch 22/1000\n",
            "60/60 [==============================] - 5s 90ms/step - loss: 0.2419 - accuracy: 0.0594 - RMSE: 0.4330 - MSE: 0.1875 - val_loss: 0.3521 - val_accuracy: 0.0579 - val_RMSE: 0.5456 - val_MSE: 0.2977\n",
            "\n",
            "Epoch 00022: val_loss did not improve from 0.27584\n",
            "Epoch 23/1000\n",
            "60/60 [==============================] - 5s 88ms/step - loss: 0.2106 - accuracy: 0.0542 - RMSE: 0.3952 - MSE: 0.1562 - val_loss: 0.2882 - val_accuracy: 0.0496 - val_RMSE: 0.4836 - val_MSE: 0.2338\n",
            "\n",
            "Epoch 00023: val_loss did not improve from 0.27584\n",
            "Epoch 24/1000\n",
            "60/60 [==============================] - 5s 87ms/step - loss: 0.2615 - accuracy: 0.0688 - RMSE: 0.4552 - MSE: 0.2072 - val_loss: 0.2935 - val_accuracy: 0.0579 - val_RMSE: 0.4891 - val_MSE: 0.2392\n",
            "\n",
            "Epoch 00024: val_loss did not improve from 0.27584\n",
            "Epoch 25/1000\n",
            "60/60 [==============================] - 5s 91ms/step - loss: 0.2620 - accuracy: 0.0500 - RMSE: 0.4558 - MSE: 0.2077 - val_loss: 0.2790 - val_accuracy: 0.0661 - val_RMSE: 0.4741 - val_MSE: 0.2248\n",
            "\n",
            "Epoch 00025: val_loss did not improve from 0.27584\n",
            "Epoch 26/1000\n",
            "60/60 [==============================] - 5s 89ms/step - loss: 0.2095 - accuracy: 0.0729 - RMSE: 0.3941 - MSE: 0.1553 - val_loss: 0.2636 - val_accuracy: 0.0661 - val_RMSE: 0.4576 - val_MSE: 0.2094\n",
            "\n",
            "Epoch 00026: val_loss improved from 0.27584 to 0.26356, saving model to checkpoint_maize_b16_CNN-LSTM_senegal.h5\n",
            "Epoch 27/1000\n",
            "60/60 [==============================] - 5s 89ms/step - loss: 0.2188 - accuracy: 0.0615 - RMSE: 0.4058 - MSE: 0.1647 - val_loss: 0.2695 - val_accuracy: 0.0661 - val_RMSE: 0.4641 - val_MSE: 0.2154\n",
            "\n",
            "Epoch 00027: val_loss did not improve from 0.26356\n",
            "Epoch 28/1000\n",
            "60/60 [==============================] - 5s 92ms/step - loss: 0.1984 - accuracy: 0.0635 - RMSE: 0.3799 - MSE: 0.1444 - val_loss: 0.2564 - val_accuracy: 0.0661 - val_RMSE: 0.4499 - val_MSE: 0.2024\n",
            "\n",
            "Epoch 00028: val_loss improved from 0.26356 to 0.25642, saving model to checkpoint_maize_b16_CNN-LSTM_senegal.h5\n",
            "Epoch 29/1000\n",
            "60/60 [==============================] - 5s 91ms/step - loss: 0.2041 - accuracy: 0.0719 - RMSE: 0.3874 - MSE: 0.1501 - val_loss: 0.2749 - val_accuracy: 0.0579 - val_RMSE: 0.4701 - val_MSE: 0.2210\n",
            "\n",
            "Epoch 00029: val_loss did not improve from 0.25642\n",
            "Epoch 30/1000\n",
            "60/60 [==============================] - 5s 92ms/step - loss: 0.2199 - accuracy: 0.0510 - RMSE: 0.4073 - MSE: 0.1659 - val_loss: 0.2784 - val_accuracy: 0.0579 - val_RMSE: 0.4738 - val_MSE: 0.2245\n",
            "\n",
            "Epoch 00030: val_loss did not improve from 0.25642\n",
            "Epoch 31/1000\n",
            "60/60 [==============================] - 5s 91ms/step - loss: 0.2038 - accuracy: 0.0698 - RMSE: 0.3871 - MSE: 0.1499 - val_loss: 0.2450 - val_accuracy: 0.0579 - val_RMSE: 0.4372 - val_MSE: 0.1911\n",
            "\n",
            "Epoch 00031: val_loss improved from 0.25642 to 0.24497, saving model to checkpoint_maize_b16_CNN-LSTM_senegal.h5\n",
            "Epoch 32/1000\n",
            "60/60 [==============================] - 5s 92ms/step - loss: 0.2148 - accuracy: 0.0573 - RMSE: 0.4012 - MSE: 0.1610 - val_loss: 0.2738 - val_accuracy: 0.0661 - val_RMSE: 0.4691 - val_MSE: 0.2201\n",
            "\n",
            "Epoch 00032: val_loss did not improve from 0.24497\n",
            "Epoch 33/1000\n",
            "60/60 [==============================] - 5s 91ms/step - loss: 0.2028 - accuracy: 0.0729 - RMSE: 0.3860 - MSE: 0.1490 - val_loss: 0.2780 - val_accuracy: 0.0579 - val_RMSE: 0.4735 - val_MSE: 0.2242\n",
            "\n",
            "Epoch 00033: val_loss did not improve from 0.24497\n",
            "Epoch 34/1000\n",
            "60/60 [==============================] - 6s 92ms/step - loss: 0.1799 - accuracy: 0.0573 - RMSE: 0.3551 - MSE: 0.1261 - val_loss: 0.2533 - val_accuracy: 0.0661 - val_RMSE: 0.4467 - val_MSE: 0.1996\n",
            "\n",
            "Epoch 00034: val_loss did not improve from 0.24497\n",
            "Epoch 35/1000\n",
            "60/60 [==============================] - 5s 88ms/step - loss: 0.1757 - accuracy: 0.0656 - RMSE: 0.3494 - MSE: 0.1221 - val_loss: 0.2573 - val_accuracy: 0.0579 - val_RMSE: 0.4513 - val_MSE: 0.2036\n",
            "\n",
            "Epoch 00035: val_loss did not improve from 0.24497\n",
            "Epoch 36/1000\n",
            "60/60 [==============================] - 5s 90ms/step - loss: 0.2032 - accuracy: 0.0625 - RMSE: 0.3868 - MSE: 0.1496 - val_loss: 0.2369 - val_accuracy: 0.0661 - val_RMSE: 0.4282 - val_MSE: 0.1833\n",
            "\n",
            "Epoch 00036: val_loss improved from 0.24497 to 0.23690, saving model to checkpoint_maize_b16_CNN-LSTM_senegal.h5\n",
            "Epoch 37/1000\n",
            "60/60 [==============================] - 6s 92ms/step - loss: 0.1735 - accuracy: 0.0604 - RMSE: 0.3463 - MSE: 0.1199 - val_loss: 0.2380 - val_accuracy: 0.0661 - val_RMSE: 0.4295 - val_MSE: 0.1845\n",
            "\n",
            "Epoch 00037: val_loss did not improve from 0.23690\n",
            "Epoch 38/1000\n",
            "60/60 [==============================] - 6s 93ms/step - loss: 0.1991 - accuracy: 0.0656 - RMSE: 0.3816 - MSE: 0.1456 - val_loss: 0.2585 - val_accuracy: 0.0661 - val_RMSE: 0.4528 - val_MSE: 0.2050\n",
            "\n",
            "Epoch 00038: val_loss did not improve from 0.23690\n",
            "Epoch 39/1000\n",
            "60/60 [==============================] - 6s 93ms/step - loss: 0.1934 - accuracy: 0.0656 - RMSE: 0.3741 - MSE: 0.1400 - val_loss: 0.2259 - val_accuracy: 0.0661 - val_RMSE: 0.4154 - val_MSE: 0.1725\n",
            "\n",
            "Epoch 00039: val_loss improved from 0.23690 to 0.22591, saving model to checkpoint_maize_b16_CNN-LSTM_senegal.h5\n",
            "Epoch 40/1000\n",
            "60/60 [==============================] - 6s 100ms/step - loss: 0.1703 - accuracy: 0.0635 - RMSE: 0.3420 - MSE: 0.1169 - val_loss: 0.2176 - val_accuracy: 0.0661 - val_RMSE: 0.4053 - val_MSE: 0.1643\n",
            "\n",
            "Epoch 00040: val_loss improved from 0.22591 to 0.21758, saving model to checkpoint_maize_b16_CNN-LSTM_senegal.h5\n",
            "Epoch 41/1000\n",
            "60/60 [==============================] - 6s 100ms/step - loss: 0.1864 - accuracy: 0.0708 - RMSE: 0.3648 - MSE: 0.1331 - val_loss: 0.2285 - val_accuracy: 0.0661 - val_RMSE: 0.4186 - val_MSE: 0.1753\n",
            "\n",
            "Epoch 00041: val_loss did not improve from 0.21758\n",
            "Epoch 42/1000\n",
            "60/60 [==============================] - 6s 94ms/step - loss: 0.1541 - accuracy: 0.0562 - RMSE: 0.3175 - MSE: 0.1008 - val_loss: 0.2131 - val_accuracy: 0.0661 - val_RMSE: 0.3999 - val_MSE: 0.1599\n",
            "\n",
            "Epoch 00042: val_loss improved from 0.21758 to 0.21312, saving model to checkpoint_maize_b16_CNN-LSTM_senegal.h5\n",
            "Epoch 43/1000\n",
            "60/60 [==============================] - 6s 94ms/step - loss: 0.1721 - accuracy: 0.0719 - RMSE: 0.3449 - MSE: 0.1189 - val_loss: 0.2197 - val_accuracy: 0.0661 - val_RMSE: 0.4081 - val_MSE: 0.1666\n",
            "\n",
            "Epoch 00043: val_loss did not improve from 0.21312\n",
            "Epoch 44/1000\n",
            "60/60 [==============================] - 5s 91ms/step - loss: 0.1496 - accuracy: 0.0583 - RMSE: 0.3106 - MSE: 0.0965 - val_loss: 0.2096 - val_accuracy: 0.0661 - val_RMSE: 0.3956 - val_MSE: 0.1565\n",
            "\n",
            "Epoch 00044: val_loss improved from 0.21312 to 0.20958, saving model to checkpoint_maize_b16_CNN-LSTM_senegal.h5\n",
            "Epoch 45/1000\n",
            "60/60 [==============================] - 5s 90ms/step - loss: 0.1733 - accuracy: 0.0594 - RMSE: 0.3468 - MSE: 0.1202 - val_loss: 0.2079 - val_accuracy: 0.0661 - val_RMSE: 0.3935 - val_MSE: 0.1548\n",
            "\n",
            "Epoch 00045: val_loss improved from 0.20958 to 0.20785, saving model to checkpoint_maize_b16_CNN-LSTM_senegal.h5\n",
            "Epoch 46/1000\n",
            "60/60 [==============================] - 5s 90ms/step - loss: 0.1882 - accuracy: 0.0708 - RMSE: 0.3677 - MSE: 0.1352 - val_loss: 0.2143 - val_accuracy: 0.0661 - val_RMSE: 0.4016 - val_MSE: 0.1613\n",
            "\n",
            "Epoch 00046: val_loss did not improve from 0.20785\n",
            "Epoch 47/1000\n",
            "60/60 [==============================] - 5s 90ms/step - loss: 0.1505 - accuracy: 0.0708 - RMSE: 0.3124 - MSE: 0.0976 - val_loss: 0.2040 - val_accuracy: 0.0661 - val_RMSE: 0.3887 - val_MSE: 0.1511\n",
            "\n",
            "Epoch 00047: val_loss improved from 0.20785 to 0.20397, saving model to checkpoint_maize_b16_CNN-LSTM_senegal.h5\n",
            "Epoch 48/1000\n",
            "60/60 [==============================] - 6s 92ms/step - loss: 0.1593 - accuracy: 0.0667 - RMSE: 0.3261 - MSE: 0.1064 - val_loss: 0.2304 - val_accuracy: 0.0661 - val_RMSE: 0.4214 - val_MSE: 0.1775\n",
            "\n",
            "Epoch 00048: val_loss did not improve from 0.20397\n",
            "Epoch 49/1000\n",
            "60/60 [==============================] - 5s 90ms/step - loss: 0.1507 - accuracy: 0.0510 - RMSE: 0.3128 - MSE: 0.0979 - val_loss: 0.2084 - val_accuracy: 0.0661 - val_RMSE: 0.3944 - val_MSE: 0.1556\n",
            "\n",
            "Epoch 00049: val_loss did not improve from 0.20397\n",
            "Epoch 50/1000\n",
            "60/60 [==============================] - 5s 91ms/step - loss: 0.1519 - accuracy: 0.0667 - RMSE: 0.3149 - MSE: 0.0992 - val_loss: 0.2072 - val_accuracy: 0.0661 - val_RMSE: 0.3930 - val_MSE: 0.1545\n",
            "\n",
            "Epoch 00050: val_loss did not improve from 0.20397\n",
            "Epoch 51/1000\n",
            "60/60 [==============================] - 5s 91ms/step - loss: 0.1466 - accuracy: 0.0750 - RMSE: 0.3064 - MSE: 0.0939 - val_loss: 0.2013 - val_accuracy: 0.0661 - val_RMSE: 0.3855 - val_MSE: 0.1486\n",
            "\n",
            "Epoch 00051: val_loss improved from 0.20397 to 0.20127, saving model to checkpoint_maize_b16_CNN-LSTM_senegal.h5\n",
            "Epoch 52/1000\n",
            "60/60 [==============================] - 5s 89ms/step - loss: 0.1560 - accuracy: 0.0740 - RMSE: 0.3215 - MSE: 0.1034 - val_loss: 0.2107 - val_accuracy: 0.0661 - val_RMSE: 0.3976 - val_MSE: 0.1581\n",
            "\n",
            "Epoch 00052: val_loss did not improve from 0.20127\n",
            "Epoch 53/1000\n",
            "60/60 [==============================] - 5s 89ms/step - loss: 0.1600 - accuracy: 0.0531 - RMSE: 0.3278 - MSE: 0.1075 - val_loss: 0.2362 - val_accuracy: 0.0579 - val_RMSE: 0.4286 - val_MSE: 0.1837\n",
            "\n",
            "Epoch 00053: val_loss did not improve from 0.20127\n",
            "Epoch 54/1000\n",
            "60/60 [==============================] - 5s 89ms/step - loss: 0.1392 - accuracy: 0.0740 - RMSE: 0.2944 - MSE: 0.0866 - val_loss: 0.2129 - val_accuracy: 0.0661 - val_RMSE: 0.4005 - val_MSE: 0.1604\n",
            "\n",
            "Epoch 00054: val_loss did not improve from 0.20127\n",
            "Epoch 55/1000\n",
            "60/60 [==============================] - 5s 91ms/step - loss: 0.1405 - accuracy: 0.0688 - RMSE: 0.2967 - MSE: 0.0881 - val_loss: 0.2175 - val_accuracy: 0.0661 - val_RMSE: 0.4063 - val_MSE: 0.1651\n",
            "\n",
            "Epoch 00055: val_loss did not improve from 0.20127\n",
            "Epoch 56/1000\n",
            "60/60 [==============================] - 5s 91ms/step - loss: 0.1541 - accuracy: 0.0594 - RMSE: 0.3190 - MSE: 0.1017 - val_loss: 0.2006 - val_accuracy: 0.0661 - val_RMSE: 0.3850 - val_MSE: 0.1482\n",
            "\n",
            "Epoch 00056: val_loss improved from 0.20127 to 0.20058, saving model to checkpoint_maize_b16_CNN-LSTM_senegal.h5\n",
            "Epoch 57/1000\n",
            "60/60 [==============================] - 5s 90ms/step - loss: 0.1417 - accuracy: 0.0594 - RMSE: 0.2989 - MSE: 0.0894 - val_loss: 0.1942 - val_accuracy: 0.0661 - val_RMSE: 0.3768 - val_MSE: 0.1420\n",
            "\n",
            "Epoch 00057: val_loss improved from 0.20058 to 0.19424, saving model to checkpoint_maize_b16_CNN-LSTM_senegal.h5\n",
            "Epoch 58/1000\n",
            "60/60 [==============================] - 5s 90ms/step - loss: 0.1340 - accuracy: 0.0771 - RMSE: 0.2859 - MSE: 0.0817 - val_loss: 0.1995 - val_accuracy: 0.0661 - val_RMSE: 0.3837 - val_MSE: 0.1472\n",
            "\n",
            "Epoch 00058: val_loss did not improve from 0.19424\n",
            "Epoch 59/1000\n",
            "60/60 [==============================] - 5s 91ms/step - loss: 0.1295 - accuracy: 0.0646 - RMSE: 0.2781 - MSE: 0.0773 - val_loss: 0.2290 - val_accuracy: 0.0661 - val_RMSE: 0.4205 - val_MSE: 0.1768\n",
            "\n",
            "Epoch 00059: val_loss did not improve from 0.19424\n",
            "Epoch 60/1000\n",
            "60/60 [==============================] - 5s 90ms/step - loss: 0.1429 - accuracy: 0.0667 - RMSE: 0.3013 - MSE: 0.0908 - val_loss: 0.1975 - val_accuracy: 0.0661 - val_RMSE: 0.3813 - val_MSE: 0.1454\n",
            "\n",
            "Epoch 00060: val_loss did not improve from 0.19424\n",
            "Epoch 61/1000\n",
            "60/60 [==============================] - 5s 91ms/step - loss: 0.1490 - accuracy: 0.0573 - RMSE: 0.3114 - MSE: 0.0970 - val_loss: 0.2287 - val_accuracy: 0.0661 - val_RMSE: 0.4203 - val_MSE: 0.1766\n",
            "\n",
            "Epoch 00061: val_loss did not improve from 0.19424\n",
            "Epoch 62/1000\n",
            "60/60 [==============================] - 6s 92ms/step - loss: 0.1443 - accuracy: 0.0729 - RMSE: 0.3038 - MSE: 0.0923 - val_loss: 0.1937 - val_accuracy: 0.0661 - val_RMSE: 0.3765 - val_MSE: 0.1418\n",
            "\n",
            "Epoch 00062: val_loss improved from 0.19424 to 0.19373, saving model to checkpoint_maize_b16_CNN-LSTM_senegal.h5\n",
            "Epoch 63/1000\n",
            "60/60 [==============================] - 6s 94ms/step - loss: 0.1276 - accuracy: 0.0635 - RMSE: 0.2750 - MSE: 0.0756 - val_loss: 0.1959 - val_accuracy: 0.0661 - val_RMSE: 0.3795 - val_MSE: 0.1440\n",
            "\n",
            "Epoch 00063: val_loss did not improve from 0.19373\n",
            "Epoch 64/1000\n",
            "60/60 [==============================] - 5s 90ms/step - loss: 0.1319 - accuracy: 0.0625 - RMSE: 0.2829 - MSE: 0.0800 - val_loss: 0.2104 - val_accuracy: 0.0661 - val_RMSE: 0.3982 - val_MSE: 0.1585\n",
            "\n",
            "Epoch 00064: val_loss did not improve from 0.19373\n",
            "Epoch 65/1000\n",
            "60/60 [==============================] - 6s 94ms/step - loss: 0.1255 - accuracy: 0.0833 - RMSE: 0.2714 - MSE: 0.0737 - val_loss: 0.2034 - val_accuracy: 0.0661 - val_RMSE: 0.3894 - val_MSE: 0.1516\n",
            "\n",
            "Epoch 00065: val_loss did not improve from 0.19373\n",
            "Epoch 66/1000\n",
            "60/60 [==============================] - 6s 94ms/step - loss: 0.1348 - accuracy: 0.0583 - RMSE: 0.2882 - MSE: 0.0831 - val_loss: 0.1998 - val_accuracy: 0.0661 - val_RMSE: 0.3848 - val_MSE: 0.1481\n",
            "\n",
            "Epoch 00066: val_loss did not improve from 0.19373\n",
            "Epoch 67/1000\n",
            "60/60 [==============================] - 5s 91ms/step - loss: 0.1162 - accuracy: 0.0646 - RMSE: 0.2540 - MSE: 0.0645 - val_loss: 0.1898 - val_accuracy: 0.0661 - val_RMSE: 0.3717 - val_MSE: 0.1382\n",
            "\n",
            "Epoch 00067: val_loss improved from 0.19373 to 0.18979, saving model to checkpoint_maize_b16_CNN-LSTM_senegal.h5\n",
            "Epoch 68/1000\n",
            "60/60 [==============================] - 5s 91ms/step - loss: 0.1315 - accuracy: 0.0677 - RMSE: 0.2827 - MSE: 0.0799 - val_loss: 0.2004 - val_accuracy: 0.0661 - val_RMSE: 0.3858 - val_MSE: 0.1489\n",
            "\n",
            "Epoch 00068: val_loss did not improve from 0.18979\n",
            "Epoch 69/1000\n",
            "60/60 [==============================] - 5s 90ms/step - loss: 0.1217 - accuracy: 0.0646 - RMSE: 0.2649 - MSE: 0.0702 - val_loss: 0.2079 - val_accuracy: 0.0661 - val_RMSE: 0.3955 - val_MSE: 0.1564\n",
            "\n",
            "Epoch 00069: val_loss did not improve from 0.18979\n",
            "Epoch 70/1000\n",
            "60/60 [==============================] - 6s 93ms/step - loss: 0.1254 - accuracy: 0.0729 - RMSE: 0.2720 - MSE: 0.0740 - val_loss: 0.1922 - val_accuracy: 0.0661 - val_RMSE: 0.3752 - val_MSE: 0.1408\n",
            "\n",
            "Epoch 00070: val_loss did not improve from 0.18979\n",
            "Epoch 71/1000\n",
            "60/60 [==============================] - 6s 92ms/step - loss: 0.1171 - accuracy: 0.0688 - RMSE: 0.2564 - MSE: 0.0658 - val_loss: 0.1937 - val_accuracy: 0.0661 - val_RMSE: 0.3772 - val_MSE: 0.1423\n",
            "\n",
            "Epoch 00071: val_loss did not improve from 0.18979\n",
            "Epoch 72/1000\n",
            "60/60 [==============================] - 6s 92ms/step - loss: 0.1214 - accuracy: 0.0667 - RMSE: 0.2648 - MSE: 0.0701 - val_loss: 0.2071 - val_accuracy: 0.0579 - val_RMSE: 0.3947 - val_MSE: 0.1558\n",
            "\n",
            "Epoch 00072: val_loss did not improve from 0.18979\n",
            "\n",
            "Epoch 00072: ReduceLROnPlateau reducing learning rate to 9.999999747378752e-06.\n",
            "Epoch 73/1000\n",
            "60/60 [==============================] - 6s 99ms/step - loss: 0.1135 - accuracy: 0.0688 - RMSE: 0.2494 - MSE: 0.0622 - val_loss: 0.1980 - val_accuracy: 0.0661 - val_RMSE: 0.3830 - val_MSE: 0.1467\n",
            "\n",
            "Epoch 00073: val_loss did not improve from 0.18979\n",
            "Epoch 74/1000\n",
            "60/60 [==============================] - 6s 96ms/step - loss: 0.1162 - accuracy: 0.0719 - RMSE: 0.2548 - MSE: 0.0649 - val_loss: 0.1911 - val_accuracy: 0.0661 - val_RMSE: 0.3740 - val_MSE: 0.1398\n",
            "\n",
            "Epoch 00074: val_loss did not improve from 0.18979\n",
            "Epoch 75/1000\n",
            "60/60 [==============================] - 6s 94ms/step - loss: 0.1138 - accuracy: 0.0500 - RMSE: 0.2500 - MSE: 0.0625 - val_loss: 0.1918 - val_accuracy: 0.0661 - val_RMSE: 0.3749 - val_MSE: 0.1406\n",
            "\n",
            "Epoch 00075: val_loss did not improve from 0.18979\n",
            "Epoch 76/1000\n",
            "60/60 [==============================] - 5s 90ms/step - loss: 0.1173 - accuracy: 0.0719 - RMSE: 0.2570 - MSE: 0.0660 - val_loss: 0.1857 - val_accuracy: 0.0661 - val_RMSE: 0.3667 - val_MSE: 0.1344\n",
            "\n",
            "Epoch 00076: val_loss improved from 0.18979 to 0.18569, saving model to checkpoint_maize_b16_CNN-LSTM_senegal.h5\n",
            "Epoch 77/1000\n",
            "60/60 [==============================] - 5s 92ms/step - loss: 0.1107 - accuracy: 0.0708 - RMSE: 0.2439 - MSE: 0.0595 - val_loss: 0.1873 - val_accuracy: 0.0661 - val_RMSE: 0.3689 - val_MSE: 0.1361\n",
            "\n",
            "Epoch 00077: val_loss did not improve from 0.18569\n",
            "Epoch 78/1000\n",
            "60/60 [==============================] - 5s 89ms/step - loss: 0.1110 - accuracy: 0.0656 - RMSE: 0.2445 - MSE: 0.0598 - val_loss: 0.1886 - val_accuracy: 0.0661 - val_RMSE: 0.3706 - val_MSE: 0.1374\n",
            "\n",
            "Epoch 00078: val_loss did not improve from 0.18569\n",
            "Epoch 79/1000\n",
            "60/60 [==============================] - 5s 87ms/step - loss: 0.1109 - accuracy: 0.0635 - RMSE: 0.2442 - MSE: 0.0596 - val_loss: 0.1934 - val_accuracy: 0.0661 - val_RMSE: 0.3771 - val_MSE: 0.1422\n",
            "\n",
            "Epoch 00079: val_loss did not improve from 0.18569\n",
            "Epoch 80/1000\n",
            "60/60 [==============================] - 5s 89ms/step - loss: 0.1061 - accuracy: 0.0719 - RMSE: 0.2343 - MSE: 0.0549 - val_loss: 0.1871 - val_accuracy: 0.0661 - val_RMSE: 0.3686 - val_MSE: 0.1359\n",
            "\n",
            "Epoch 00080: val_loss did not improve from 0.18569\n",
            "Epoch 81/1000\n",
            "60/60 [==============================] - 5s 91ms/step - loss: 0.1111 - accuracy: 0.0646 - RMSE: 0.2448 - MSE: 0.0599 - val_loss: 0.1852 - val_accuracy: 0.0661 - val_RMSE: 0.3661 - val_MSE: 0.1340\n",
            "\n",
            "Epoch 00081: val_loss improved from 0.18569 to 0.18522, saving model to checkpoint_maize_b16_CNN-LSTM_senegal.h5\n",
            "Epoch 82/1000\n",
            "60/60 [==============================] - 6s 93ms/step - loss: 0.1065 - accuracy: 0.0729 - RMSE: 0.2351 - MSE: 0.0553 - val_loss: 0.1861 - val_accuracy: 0.0661 - val_RMSE: 0.3673 - val_MSE: 0.1349\n",
            "\n",
            "Epoch 00082: val_loss did not improve from 0.18522\n",
            "Epoch 83/1000\n",
            "60/60 [==============================] - 6s 95ms/step - loss: 0.1078 - accuracy: 0.0635 - RMSE: 0.2379 - MSE: 0.0566 - val_loss: 0.1817 - val_accuracy: 0.0661 - val_RMSE: 0.3613 - val_MSE: 0.1305\n",
            "\n",
            "Epoch 00083: val_loss improved from 0.18522 to 0.18173, saving model to checkpoint_maize_b16_CNN-LSTM_senegal.h5\n",
            "Epoch 84/1000\n",
            "60/60 [==============================] - 6s 94ms/step - loss: 0.1171 - accuracy: 0.0667 - RMSE: 0.2568 - MSE: 0.0659 - val_loss: 0.1848 - val_accuracy: 0.0661 - val_RMSE: 0.3655 - val_MSE: 0.1336\n",
            "\n",
            "Epoch 00084: val_loss did not improve from 0.18173\n",
            "Epoch 85/1000\n",
            "60/60 [==============================] - 5s 90ms/step - loss: 0.1088 - accuracy: 0.0646 - RMSE: 0.2400 - MSE: 0.0576 - val_loss: 0.1895 - val_accuracy: 0.0661 - val_RMSE: 0.3719 - val_MSE: 0.1383\n",
            "\n",
            "Epoch 00085: val_loss did not improve from 0.18173\n",
            "Epoch 86/1000\n",
            "60/60 [==============================] - 6s 94ms/step - loss: 0.1031 - accuracy: 0.0740 - RMSE: 0.2279 - MSE: 0.0519 - val_loss: 0.1877 - val_accuracy: 0.0661 - val_RMSE: 0.3695 - val_MSE: 0.1366\n",
            "\n",
            "Epoch 00086: val_loss did not improve from 0.18173\n",
            "Epoch 87/1000\n",
            "60/60 [==============================] - 6s 94ms/step - loss: 0.1056 - accuracy: 0.0656 - RMSE: 0.2334 - MSE: 0.0545 - val_loss: 0.1865 - val_accuracy: 0.0661 - val_RMSE: 0.3678 - val_MSE: 0.1353\n",
            "\n",
            "Epoch 00087: val_loss did not improve from 0.18173\n",
            "Epoch 88/1000\n",
            "60/60 [==============================] - 5s 91ms/step - loss: 0.1110 - accuracy: 0.0625 - RMSE: 0.2446 - MSE: 0.0598 - val_loss: 0.1854 - val_accuracy: 0.0661 - val_RMSE: 0.3664 - val_MSE: 0.1342\n",
            "\n",
            "Epoch 00088: val_loss did not improve from 0.18173\n",
            "\n",
            "Epoch 00088: ReduceLROnPlateau reducing learning rate to 9.999999747378752e-07.\n",
            "Epoch 89/1000\n",
            "60/60 [==============================] - 5s 90ms/step - loss: 0.1083 - accuracy: 0.0719 - RMSE: 0.2390 - MSE: 0.0571 - val_loss: 0.1866 - val_accuracy: 0.0661 - val_RMSE: 0.3681 - val_MSE: 0.1355\n",
            "\n",
            "Epoch 00089: val_loss did not improve from 0.18173\n",
            "Epoch 90/1000\n",
            "60/60 [==============================] - 5s 91ms/step - loss: 0.1003 - accuracy: 0.0698 - RMSE: 0.2216 - MSE: 0.0491 - val_loss: 0.1885 - val_accuracy: 0.0661 - val_RMSE: 0.3706 - val_MSE: 0.1373\n",
            "\n",
            "Epoch 00090: val_loss did not improve from 0.18173\n",
            "Epoch 91/1000\n",
            "60/60 [==============================] - 6s 93ms/step - loss: 0.1043 - accuracy: 0.0635 - RMSE: 0.2305 - MSE: 0.0532 - val_loss: 0.1891 - val_accuracy: 0.0661 - val_RMSE: 0.3714 - val_MSE: 0.1379\n",
            "\n",
            "Epoch 00091: val_loss did not improve from 0.18173\n",
            "Epoch 92/1000\n",
            "60/60 [==============================] - 6s 93ms/step - loss: 0.1112 - accuracy: 0.0656 - RMSE: 0.2451 - MSE: 0.0601 - val_loss: 0.1894 - val_accuracy: 0.0661 - val_RMSE: 0.3718 - val_MSE: 0.1382\n",
            "\n",
            "Epoch 00092: val_loss did not improve from 0.18173\n",
            "Epoch 93/1000\n",
            "60/60 [==============================] - 5s 91ms/step - loss: 0.1066 - accuracy: 0.0667 - RMSE: 0.2356 - MSE: 0.0555 - val_loss: 0.1878 - val_accuracy: 0.0661 - val_RMSE: 0.3697 - val_MSE: 0.1367\n",
            "\n",
            "Epoch 00093: val_loss did not improve from 0.18173\n",
            "\n",
            "Epoch 00093: ReduceLROnPlateau reducing learning rate to 9.999999974752428e-08.\n",
            "Epoch 94/1000\n",
            "60/60 [==============================] - 6s 94ms/step - loss: 0.1040 - accuracy: 0.0677 - RMSE: 0.2299 - MSE: 0.0529 - val_loss: 0.1876 - val_accuracy: 0.0661 - val_RMSE: 0.3694 - val_MSE: 0.1365\n",
            "\n",
            "Epoch 00094: val_loss did not improve from 0.18173\n",
            "Epoch 95/1000\n",
            "60/60 [==============================] - 5s 91ms/step - loss: 0.1033 - accuracy: 0.0688 - RMSE: 0.2283 - MSE: 0.0521 - val_loss: 0.1878 - val_accuracy: 0.0661 - val_RMSE: 0.3697 - val_MSE: 0.1367\n",
            "\n",
            "Epoch 00095: val_loss did not improve from 0.18173\n",
            "Epoch 96/1000\n",
            "60/60 [==============================] - 5s 91ms/step - loss: 0.1040 - accuracy: 0.0646 - RMSE: 0.2299 - MSE: 0.0529 - val_loss: 0.1877 - val_accuracy: 0.0661 - val_RMSE: 0.3695 - val_MSE: 0.1365\n",
            "\n",
            "Epoch 00096: val_loss did not improve from 0.18173\n",
            "Epoch 97/1000\n",
            "60/60 [==============================] - 5s 91ms/step - loss: 0.1033 - accuracy: 0.0677 - RMSE: 0.2283 - MSE: 0.0521 - val_loss: 0.1878 - val_accuracy: 0.0661 - val_RMSE: 0.3696 - val_MSE: 0.1366\n",
            "\n",
            "Epoch 00097: val_loss did not improve from 0.18173\n",
            "Epoch 98/1000\n",
            "60/60 [==============================] - 5s 91ms/step - loss: 0.1007 - accuracy: 0.0688 - RMSE: 0.2226 - MSE: 0.0496 - val_loss: 0.1879 - val_accuracy: 0.0661 - val_RMSE: 0.3698 - val_MSE: 0.1367\n",
            "\n",
            "Epoch 00098: val_loss did not improve from 0.18173\n",
            "\n",
            "Epoch 00098: ReduceLROnPlateau reducing learning rate to 1.0000000116860975e-08.\n",
            "Epoch 99/1000\n",
            "60/60 [==============================] - 6s 94ms/step - loss: 0.1050 - accuracy: 0.0656 - RMSE: 0.2321 - MSE: 0.0539 - val_loss: 0.1879 - val_accuracy: 0.0661 - val_RMSE: 0.3698 - val_MSE: 0.1368\n",
            "\n",
            "Epoch 00099: val_loss did not improve from 0.18173\n",
            "Epoch 100/1000\n",
            "60/60 [==============================] - 5s 90ms/step - loss: 0.1042 - accuracy: 0.0635 - RMSE: 0.2302 - MSE: 0.0530 - val_loss: 0.1879 - val_accuracy: 0.0661 - val_RMSE: 0.3698 - val_MSE: 0.1367\n",
            "\n",
            "Epoch 00100: val_loss did not improve from 0.18173\n",
            "Epoch 101/1000\n",
            "60/60 [==============================] - 5s 91ms/step - loss: 0.1038 - accuracy: 0.0719 - RMSE: 0.2295 - MSE: 0.0527 - val_loss: 0.1878 - val_accuracy: 0.0661 - val_RMSE: 0.3697 - val_MSE: 0.1367\n",
            "\n",
            "Epoch 00101: val_loss did not improve from 0.18173\n",
            "Epoch 102/1000\n",
            "60/60 [==============================] - 5s 91ms/step - loss: 0.1028 - accuracy: 0.0646 - RMSE: 0.2273 - MSE: 0.0516 - val_loss: 0.1880 - val_accuracy: 0.0661 - val_RMSE: 0.3699 - val_MSE: 0.1368\n",
            "\n",
            "Epoch 00102: val_loss did not improve from 0.18173\n",
            "Epoch 103/1000\n",
            "60/60 [==============================] - 6s 92ms/step - loss: 0.1064 - accuracy: 0.0698 - RMSE: 0.2350 - MSE: 0.0552 - val_loss: 0.1878 - val_accuracy: 0.0661 - val_RMSE: 0.3697 - val_MSE: 0.1367\n",
            "\n",
            "Epoch 00103: val_loss did not improve from 0.18173\n",
            "\n",
            "Epoch 00103: ReduceLROnPlateau reducing learning rate to 9.999999939225292e-10.\n",
            "Epoch 00103: early stopping\n"
          ],
          "name": "stdout"
        }
      ]
    },
    {
      "cell_type": "markdown",
      "metadata": {
        "id": "wbRPWecH2XHD"
      },
      "source": [
        "### Plots "
      ]
    },
    {
      "cell_type": "code",
      "metadata": {
        "colab": {
          "base_uri": "https://localhost:8080/",
          "height": 0
        },
        "id": "tZeBNo9d2Zcg",
        "outputId": "2c176018-4ed4-46d4-c953-f11024c6399f"
      },
      "source": [
        "plt.plot(history.history['loss'], label='loss')\n",
        "plt.xlabel('Epoch')\n",
        "plt.ylabel('loss')\n",
        "plt.ylim([0, 0.6])\n",
        "plt.legend(loc='lower right')\n",
        "plt.show()"
      ],
      "execution_count": 14,
      "outputs": [
        {
          "output_type": "display_data",
          "data": {
            "image/png": "[encoded data removed]",
            "text/plain": [
              "<Figure size 432x288 with 1 Axes>"
            ]
          },
          "metadata": {
            "tags": [],
            "needs_background": "light"
          }
        }
      ]
    },
    {
      "cell_type": "code",
      "metadata": {
        "colab": {
          "base_uri": "https://localhost:8080/",
          "height": 0
        },
        "id": "mWUviAKCJBks",
        "outputId": "43240deb-ad80-4fbb-ef13-a55ef92b3ef3"
      },
      "source": [
        "plt.plot(history.history['RMSE'], label='RMSE')\n",
        "plt.xlabel('Epoch')\n",
        "plt.ylabel('RMSE')\n",
        "plt.ylim([0, 0.8])\n",
        "plt.legend(loc='lower right')\n",
        "plt.show()"
      ],
      "execution_count": 15,
      "outputs": [
        {
          "output_type": "display_data",
          "data": {
            "image/png": "[encoded data removed]",
            "text/plain": [
              "<Figure size 432x288 with 1 Axes>"
            ]
          },
          "metadata": {
            "tags": [],
            "needs_background": "light"
          }
        }
      ]
    },
    {
      "cell_type": "code",
      "metadata": {
        "colab": {
          "base_uri": "https://localhost:8080/",
          "height": 0
        },
        "id": "g1safbSx2c1M",
        "outputId": "73cc46f9-1e71-4391-fde0-e87598d957c3"
      },
      "source": [
        "plt.plot(history.history['val_loss'], label = 'val_loss')\n",
        "plt.xlabel('Epoch')\n",
        "plt.ylabel('val_loss')\n",
        "plt.ylim([0, 1])\n",
        "plt.legend(loc='lower right')\n",
        "plt.show()"
      ],
      "execution_count": 16,
      "outputs": [
        {
          "output_type": "display_data",
          "data": {
            "image/png": "[encoded data removed]",
            "text/plain": [
              "<Figure size 432x288 with 1 Axes>"
            ]
          },
          "metadata": {
            "tags": [],
            "needs_background": "light"
          }
        }
      ]
    },
    {
      "cell_type": "code",
      "metadata": {
        "colab": {
          "base_uri": "https://localhost:8080/",
          "height": 0
        },
        "id": "r7EL4KSEjUJm",
        "outputId": "665aabdf-a7b1-4f0b-817a-935671aa2b46"
      },
      "source": [
        "plt.plot(history.history['val_RMSE'], label = 'val_RMSE')\n",
        "plt.xlabel('Epoch')\n",
        "plt.ylabel('val_RMSE')\n",
        "plt.ylim([0,1])\n",
        "plt.legend(loc='lower right')\n",
        "plt.show()"
      ],
      "execution_count": 17,
      "outputs": [
        {
          "output_type": "display_data",
          "data": {
            "image/png": "[encoded data removed]",
            "text/plain": [
              "<Figure size 432x288 with 1 Axes>"
            ]
          },
          "metadata": {
            "tags": [],
            "needs_background": "light"
          }
        }
      ]
    },
    {
      "cell_type": "markdown",
      "metadata": {
        "id": "cMJnmNFy2je8"
      },
      "source": [
        "### Evaluation "
      ]
    },
    {
      "cell_type": "code",
      "metadata": {
        "colab": {
          "base_uri": "https://localhost:8080/"
        },
        "id": "s4yzZw5Qzun5",
        "outputId": "70515072-4c5f-4f81-d0ce-40be4c8622dc"
      },
      "source": [
        "print(\"\\nEvaluating val ds... \")\n",
        "test_loss, test_acc, test_rmse, test_mse = model.evaluate(val_ds, verbose=1)\n",
        "\n",
        "print(\"\\nEvaluating test ds (0.1 of all files)... \")\n",
        "test_loss, test_acc, test_rmse, test_mse = model.evaluate(test_ds, verbose=1)"
      ],
      "execution_count": 18,
      "outputs": [
        {
          "output_type": "stream",
          "text": [
            "\n",
            "Evaluating val ds... \n",
            "1/1 [==============================] - 0s 123ms/step - loss: 0.1878 - accuracy: 0.0661 - RMSE: 0.3697 - MSE: 0.1367\n",
            "\n",
            "Evaluating test ds (0.1 of all files)... \n",
            "1/1 [==============================] - 0s 131ms/step - loss: 0.1700 - accuracy: 0.0744 - RMSE: 0.3447 - MSE: 0.1189\n"
          ],
          "name": "stdout"
        }
      ]
    },
    {
      "cell_type": "markdown",
      "metadata": {
        "id": "wpgQJDj0zw9H"
      },
      "source": [
        "Evaluate with all 2014 IPAR data"
      ]
    },
    {
      "cell_type": "code",
      "metadata": {
        "colab": {
          "base_uri": "https://localhost:8080/"
        },
        "id": "FxrJZN73sC9K",
        "outputId": "940d9ebe-f655-42d7-bad7-1dd407e9da5e"
      },
      "source": [
        "tag_test_IPAR = \"margauxmforsythe/Senegal_IPAR_histograms_weeks_19_30_Maize\"\n",
        "ds_test_IPAR_all = Dataset(tag_test_IPAR)\n",
        "test_hists = ds_test_IPAR_all[\"histograms\"].compute()\n",
        "yields_list_test = ds_test_IPAR_all[\"yields\"].compute()\n",
        "yields_test_IPAR_all = []\n",
        "for i in range(0,len(yields_list_test)):\n",
        "    yields_test_IPAR_all.append(float(yields_list_test[i][0]))\n",
        "  \n",
        "# TEST set\n",
        "histograms_CNN_LSTM_test = []\n",
        "for i in range(len(test_hists)):\n",
        "  histogram_all_timestamps_transposed = np.transpose(test_hists[i], (1,0,2))\n",
        "  timestamps = []\n",
        "  for j in range(test_hists[i].shape[1]): # going through all timestamps\n",
        "    timestamps.append(np.expand_dims(histogram_all_timestamps_transposed[j], axis=0))\n",
        "  histograms_CNN_LSTM_test.append(timestamps)\n",
        "histograms_test_IPAR_all = histograms_CNN_LSTM_test\n",
        "print(\"There are now {} (* {} time steps files) splitted per timestamps of shape {} in the dataset\".format(shape[1], len(histograms), histograms_CNN_LSTM[0][0].shape))\n",
        "\n",
        "test_ds = tf.data.Dataset.from_tensor_slices((histograms_test_IPAR_all, yields_test_IPAR_all))\n",
        "test_ds = test_ds.cache()\n",
        "test_ds = test_ds.batch(len(test_ds))\n",
        "image_batch_test, label_batch_test= next(iter(test_ds))\n"
      ],
      "execution_count": 19,
      "outputs": [
        {
          "output_type": "stream",
          "text": [
            "There are now 11 (* 1212 time steps files) splitted per timestamps of shape (1, 32, 9) in the dataset\n"
          ],
          "name": "stdout"
        }
      ]
    },
    {
      "cell_type": "code",
      "metadata": {
        "id": "wKdFCGIsHSOo"
      },
      "source": [
        "model.load_weights(checkpoint_file)\n",
        "model.compile(optimizer=tf.keras.optimizers.Adam(learning_rate=initial_learning_rate),\n",
        "              loss=tf.keras.losses.MeanSquaredError(),\n",
        "              metrics=['accuracy', tf.keras.metrics.RootMeanSquaredError(name='RMSE'), tf.keras.losses.MeanSquaredError(name='MSE')])\n"
      ],
      "execution_count": 20,
      "outputs": []
    },
    {
      "cell_type": "code",
      "metadata": {
        "colab": {
          "base_uri": "https://localhost:8080/"
        },
        "id": "CyLkAkiOcwCc",
        "outputId": "2e045012-8ac5-493e-a4e2-5392d74726e7"
      },
      "source": [
        "print(\"\\nEvaluating test ds... \")\n",
        "test_loss, test_acc, test_rmse, test_mse = model.evaluate(test_ds, verbose=1)"
      ],
      "execution_count": 21,
      "outputs": [
        {
          "output_type": "stream",
          "text": [
            "\n",
            "Evaluating test ds... \n",
            "1/1 [==============================] - 1s 1s/step - loss: 0.1361 - accuracy: 0.0782 - RMSE: 0.2914 - MSE: 0.0849\n"
          ],
          "name": "stdout"
        }
      ]
    },
    {
      "cell_type": "markdown",
      "metadata": {
        "id": "wXlekjHS2mI5"
      },
      "source": [
        "### Prediction"
      ]
    },
    {
      "cell_type": "code",
      "metadata": {
        "colab": {
          "base_uri": "https://localhost:8080/"
        },
        "id": "HyY7eEh02oHI",
        "outputId": "8e36e4d5-20f6-4a8e-b5f2-ec6cb620cb0a"
      },
      "source": [
        "if not CNN_LSTM:\n",
        "  plt.imshow(image_batch_val[0][:,:,0])\n",
        "  label = label_batch_val[0].numpy()\n",
        "  plt.title(label)\n",
        "  plt.axis(\"off\")\n",
        "else:\n",
        "  print(\"real yield: {}\".format(label_batch_val[0].numpy()))\n",
        "predictions = model.predict(image_batch_val)\n",
        "print(\"predictions shape:\", predictions.shape)\n",
        "print(\"prediction:\", predictions[0][0])"
      ],
      "execution_count": 22,
      "outputs": [
        {
          "output_type": "stream",
          "text": [
            "real yield: 1.2219908237457275\n",
            "predictions shape: (121, 1)\n",
            "prediction: 1.6697692\n"
          ],
          "name": "stdout"
        }
      ]
    },
    {
      "cell_type": "code",
      "metadata": {
        "colab": {
          "base_uri": "https://localhost:8080/",
          "height": 0
        },
        "id": "caMiAsjEx904",
        "outputId": "bbd69ecf-5317-4f24-9cdb-c3c768f0dcd8"
      },
      "source": [
        "indexes_list = []\n",
        "for i in range(len(image_batch_test)):\n",
        "  indexes_list.append(i)\n",
        "\n",
        "predictions = model.predict(test_ds)\n",
        "predictions_array = []\n",
        "for i in range(len(predictions)):\n",
        "  predictions_array.append(predictions[i][0])\n",
        "predictions_array\n",
        "\n",
        "assert len(predictions_array) == len(label_batch_test.numpy())\n",
        "\n",
        "plt.figure(figsize=(10,5))\n",
        "plt.ylabel('yields T/ha')\n",
        "bar1 = plt.bar(indexes_list,label_batch_test.numpy(),label='real yields', alpha=0.7)\n",
        "bar2 = plt.bar(indexes_list,predictions_array,label='predicted yields', alpha=0.7)\n",
        "plt.legend()\n",
        "plt.ylim([0, 4])\n",
        "plt.show()"
      ],
      "execution_count": 23,
      "outputs": [
        {
          "output_type": "display_data",
          "data": {
            "image/png": "[encoded data removed]",
            "text/plain": [
              "<Figure size 720x360 with 1 Axes>"
            ]
          },
          "metadata": {
            "tags": [],
            "needs_background": "light"
          }
        }
      ]
    },
    {
      "cell_type": "code",
      "metadata": {
        "colab": {
          "base_uri": "https://localhost:8080/",
          "height": 0
        },
        "id": "l2I6SULu1TL7",
        "outputId": "83fe9429-5a77-4afc-9794-2d6b6f0b0457"
      },
      "source": [
        "error = abs(predictions_array - label_batch_test.numpy())\n",
        "plt.title(\"Plot of errors between real yield value and predicted one on the test set\")\n",
        "plt.bar(indexes_list,error)"
      ],
      "execution_count": 24,
      "outputs": [
        {
          "output_type": "execute_result",
          "data": {
            "text/plain": [
              "<BarContainer object of 767 artists>"
            ]
          },
          "metadata": {
            "tags": []
          },
          "execution_count": 24
        },
        {
          "output_type": "display_data",
          "data": {
            "image/png": "[encoded data removed]",
            "text/plain": [
              "<Figure size 432x288 with 1 Axes>"
            ]
          },
          "metadata": {
            "tags": [],
            "needs_background": "light"
          }
        }
      ]
    },
    {
      "cell_type": "code",
      "metadata": {
        "colab": {
          "base_uri": "https://localhost:8080/",
          "height": 0
        },
        "id": "gHrPMPq--St2",
        "outputId": "9e3f28ae-4aec-4ea6-a6c4-898e0c00d1b1"
      },
      "source": [
        "indexes_list = []\n",
        "for i in range(len(image_batch_test)):\n",
        "  indexes_list.append(i)\n",
        "\n",
        "error = abs(predictions_array - label_batch_test.numpy())/label_batch_test.numpy()\n",
        "plt.title(\"Plot of percentage errors between real yield value and predicted one on the test set\")\n",
        "plt.ylim([0, 20])\n",
        "plt.bar(indexes_list,error)"
      ],
      "execution_count": 25,
      "outputs": [
        {
          "output_type": "execute_result",
          "data": {
            "text/plain": [
              "<BarContainer object of 767 artists>"
            ]
          },
          "metadata": {
            "tags": []
          },
          "execution_count": 25
        },
        {
          "output_type": "display_data",
          "data": {
            "image/png": "[encoded data removed]",
            "text/plain": [
              "<Figure size 432x288 with 1 Axes>"
            ]
          },
          "metadata": {
            "tags": [],
            "needs_background": "light"
          }
        }
      ]
    },
    {
      "cell_type": "code",
      "metadata": {
        "colab": {
          "base_uri": "https://localhost:8080/"
        },
        "id": "uyYBvgB8ME6e",
        "outputId": "cccedc27-4df3-44a8-aa2b-e1b972b7c74c"
      },
      "source": [
        "for i in range(len(predictions_array)):\n",
        "  print(\"{}) Predicted yield {} T/ha // Real yield {} T/ha\".format(i, predictions_array[i], label_batch_test.numpy()[i]))"
      ],
      "execution_count": 26,
      "outputs": [
        {
          "output_type": "stream",
          "text": [
            "0) Predicted yield 1.0472651720046997 T/ha // Real yield 1.2000000476837158 T/ha\n",
            "1) Predicted yield 0.7416365146636963 T/ha // Real yield 0.5 T/ha\n",
            "2) Predicted yield 0.23651288449764252 T/ha // Real yield 0.8333333134651184 T/ha\n",
            "3) Predicted yield 1.0947585105895996 T/ha // Real yield 1.5 T/ha\n",
            "4) Predicted yield 1.2782918214797974 T/ha // Real yield 1.5 T/ha\n",
            "5) Predicted yield 0.7056432366371155 T/ha // Real yield 1.0 T/ha\n",
            "6) Predicted yield 0.07747557014226913 T/ha // Real yield 0.30000001192092896 T/ha\n",
            "7) Predicted yield 0.9248910546302795 T/ha // Real yield 0.800000011920929 T/ha\n",
            "8) Predicted yield 0.7397871613502502 T/ha // Real yield 0.800000011920929 T/ha\n",
            "9) Predicted yield 0.07573950290679932 T/ha // Real yield 0.20000000298023224 T/ha\n",
            "10) Predicted yield 1.2946572303771973 T/ha // Real yield 1.399999976158142 T/ha\n",
            "11) Predicted yield 0.3235289752483368 T/ha // Real yield 0.5 T/ha\n",
            "12) Predicted yield 0.6153674721717834 T/ha // Real yield 0.6000000238418579 T/ha\n",
            "13) Predicted yield 0.4347836375236511 T/ha // Real yield 0.44999998807907104 T/ha\n",
            "14) Predicted yield 1.317616581916809 T/ha // Real yield 1.4285714626312256 T/ha\n",
            "15) Predicted yield 0.5751064419746399 T/ha // Real yield 0.800000011920929 T/ha\n",
            "16) Predicted yield 1.0540810823440552 T/ha // Real yield 1.2000000476837158 T/ha\n",
            "17) Predicted yield 0.27084943652153015 T/ha // Real yield 0.3499999940395355 T/ha\n",
            "18) Predicted yield 0.4178886115550995 T/ha // Real yield 0.5 T/ha\n",
            "19) Predicted yield 0.7726905941963196 T/ha // Real yield 0.8999999761581421 T/ha\n",
            "20) Predicted yield 0.1832599639892578 T/ha // Real yield 0.20000000298023224 T/ha\n",
            "21) Predicted yield 0.2169184535741806 T/ha // Real yield 0.07500000298023224 T/ha\n",
            "22) Predicted yield 0.36921805143356323 T/ha // Real yield 0.30000001192092896 T/ha\n",
            "23) Predicted yield 0.5423424243927002 T/ha // Real yield 0.6000000238418579 T/ha\n",
            "24) Predicted yield 0.44450196623802185 T/ha // Real yield 0.5 T/ha\n",
            "25) Predicted yield 0.4363529086112976 T/ha // Real yield 0.25 T/ha\n",
            "26) Predicted yield 0.5566779971122742 T/ha // Real yield 0.5 T/ha\n",
            "27) Predicted yield 0.38686883449554443 T/ha // Real yield 0.2857142984867096 T/ha\n",
            "28) Predicted yield 0.6088737845420837 T/ha // Real yield 0.4000000059604645 T/ha\n",
            "29) Predicted yield 0.5946986675262451 T/ha // Real yield 0.5 T/ha\n",
            "30) Predicted yield 0.34486523270606995 T/ha // Real yield 0.30000001192092896 T/ha\n",
            "31) Predicted yield 1.3484687805175781 T/ha // Real yield 1.2000000476837158 T/ha\n",
            "32) Predicted yield 0.7166991829872131 T/ha // Real yield 0.30000001192092896 T/ha\n",
            "33) Predicted yield 0.7001882195472717 T/ha // Real yield 0.75 T/ha\n",
            "34) Predicted yield 0.14455372095108032 T/ha // Real yield 0.05000000074505806 T/ha\n",
            "35) Predicted yield 0.7256293296813965 T/ha // Real yield 0.800000011920929 T/ha\n",
            "36) Predicted yield 0.5725104808807373 T/ha // Real yield 0.6000000238418579 T/ha\n",
            "37) Predicted yield 0.9640722870826721 T/ha // Real yield 1.0 T/ha\n",
            "38) Predicted yield 0.46028754115104675 T/ha // Real yield 0.5 T/ha\n",
            "39) Predicted yield 2.182201862335205 T/ha // Real yield 2.4000000953674316 T/ha\n",
            "40) Predicted yield 0.08140063285827637 T/ha // Real yield 0.25 T/ha\n",
            "41) Predicted yield 1.489285945892334 T/ha // Real yield 1.5 T/ha\n",
            "42) Predicted yield 0.07070492953062057 T/ha // Real yield 0.10000000149011612 T/ha\n",
            "43) Predicted yield 0.2017493098974228 T/ha // Real yield 0.15000000596046448 T/ha\n",
            "44) Predicted yield 0.18125024437904358 T/ha // Real yield 0.4285714328289032 T/ha\n",
            "45) Predicted yield 1.1536208391189575 T/ha // Real yield 1.2000000476837158 T/ha\n",
            "46) Predicted yield 1.0457587242126465 T/ha // Real yield 1.3333333730697632 T/ha\n",
            "47) Predicted yield 0.5619054436683655 T/ha // Real yield 0.5 T/ha\n",
            "48) Predicted yield 1.7928863763809204 T/ha // Real yield 2.0 T/ha\n",
            "49) Predicted yield 1.2988853454589844 T/ha // Real yield 1.25 T/ha\n",
            "50) Predicted yield 0.1315312683582306 T/ha // Real yield 0.10000000149011612 T/ha\n",
            "51) Predicted yield 0.759378969669342 T/ha // Real yield 0.6000000238418579 T/ha\n",
            "52) Predicted yield 0.28836050629615784 T/ha // Real yield 0.4000000059604645 T/ha\n",
            "53) Predicted yield 0.20261003077030182 T/ha // Real yield 0.10000000149011612 T/ha\n",
            "54) Predicted yield 0.26964858174324036 T/ha // Real yield 0.30000001192092896 T/ha\n",
            "55) Predicted yield 1.147449016571045 T/ha // Real yield 0.800000011920929 T/ha\n",
            "56) Predicted yield 0.14391416311264038 T/ha // Real yield 0.20000000298023224 T/ha\n",
            "57) Predicted yield 0.19078566133975983 T/ha // Real yield 0.30000001192092896 T/ha\n",
            "58) Predicted yield 0.38015782833099365 T/ha // Real yield 0.2666666805744171 T/ha\n",
            "59) Predicted yield 0.8668727874755859 T/ha // Real yield 0.42500001192092896 T/ha\n",
            "60) Predicted yield 0.5060024857521057 T/ha // Real yield 0.5 T/ha\n",
            "61) Predicted yield 3.1429495811462402 T/ha // Real yield 3.0 T/ha\n",
            "62) Predicted yield 1.5758769512176514 T/ha // Real yield 1.600000023841858 T/ha\n",
            "63) Predicted yield 1.273268461227417 T/ha // Real yield 1.399999976158142 T/ha\n",
            "64) Predicted yield 0.2897513508796692 T/ha // Real yield 0.30000001192092896 T/ha\n",
            "65) Predicted yield 0.7538716793060303 T/ha // Real yield 0.6666666865348816 T/ha\n",
            "66) Predicted yield 0.6861363053321838 T/ha // Real yield 1.5 T/ha\n",
            "67) Predicted yield 0.45161959528923035 T/ha // Real yield 0.23999999463558197 T/ha\n",
            "68) Predicted yield 0.747816264629364 T/ha // Real yield 0.699999988079071 T/ha\n",
            "69) Predicted yield 1.6650543212890625 T/ha // Real yield 2.045454502105713 T/ha\n",
            "70) Predicted yield 1.181508183479309 T/ha // Real yield 1.600000023841858 T/ha\n",
            "71) Predicted yield 1.3996193408966064 T/ha // Real yield 1.399999976158142 T/ha\n",
            "72) Predicted yield 0.4482181668281555 T/ha // Real yield 0.6666666865348816 T/ha\n",
            "73) Predicted yield 0.7286968231201172 T/ha // Real yield 0.6666666865348816 T/ha\n",
            "74) Predicted yield 1.2205466032028198 T/ha // Real yield 1.0 T/ha\n",
            "75) Predicted yield 0.339474081993103 T/ha // Real yield 0.5 T/ha\n",
            "76) Predicted yield 1.5690900087356567 T/ha // Real yield 2.0999999046325684 T/ha\n",
            "77) Predicted yield 0.7337842583656311 T/ha // Real yield 0.20000000298023224 T/ha\n",
            "78) Predicted yield 0.43008291721343994 T/ha // Real yield 0.4000000059604645 T/ha\n",
            "79) Predicted yield 0.5561184287071228 T/ha // Real yield 0.4000000059604645 T/ha\n",
            "80) Predicted yield 1.1020811796188354 T/ha // Real yield 1.25 T/ha\n",
            "81) Predicted yield 0.9314729571342468 T/ha // Real yield 1.0 T/ha\n",
            "82) Predicted yield 0.29251301288604736 T/ha // Real yield 0.3499999940395355 T/ha\n",
            "83) Predicted yield 0.8620996475219727 T/ha // Real yield 1.0 T/ha\n",
            "84) Predicted yield 0.10339546948671341 T/ha // Real yield 0.10000000149011612 T/ha\n",
            "85) Predicted yield 0.22044366598129272 T/ha // Real yield 0.25 T/ha\n",
            "86) Predicted yield 0.30289027094841003 T/ha // Real yield 0.14000000059604645 T/ha\n",
            "87) Predicted yield 1.0314074754714966 T/ha // Real yield 0.949999988079071 T/ha\n",
            "88) Predicted yield 0.41831761598587036 T/ha // Real yield 0.4000000059604645 T/ha\n",
            "89) Predicted yield 0.8598601818084717 T/ha // Real yield 0.9599999785423279 T/ha\n",
            "90) Predicted yield 0.8807388544082642 T/ha // Real yield 0.6000000238418579 T/ha\n",
            "91) Predicted yield 0.23798951506614685 T/ha // Real yield 0.20000000298023224 T/ha\n",
            "92) Predicted yield 0.12204276770353317 T/ha // Real yield 0.25 T/ha\n",
            "93) Predicted yield 1.5246692895889282 T/ha // Real yield 1.5897436141967773 T/ha\n",
            "94) Predicted yield 1.4327641725540161 T/ha // Real yield 1.6666666269302368 T/ha\n",
            "95) Predicted yield 0.831996738910675 T/ha // Real yield 1.0 T/ha\n",
            "96) Predicted yield 0.49971243739128113 T/ha // Real yield 0.4000000059604645 T/ha\n",
            "97) Predicted yield 0.3003178536891937 T/ha // Real yield 0.44999998807907104 T/ha\n",
            "98) Predicted yield 0.3587217330932617 T/ha // Real yield 0.20000000298023224 T/ha\n",
            "99) Predicted yield 0.2366858422756195 T/ha // Real yield 0.25 T/ha\n",
            "100) Predicted yield 0.5029088854789734 T/ha // Real yield 0.6000000238418579 T/ha\n",
            "101) Predicted yield 1.0683326721191406 T/ha // Real yield 0.30000001192092896 T/ha\n",
            "102) Predicted yield 0.45372360944747925 T/ha // Real yield 0.6000000238418579 T/ha\n",
            "103) Predicted yield 0.6805493831634521 T/ha // Real yield 1.0 T/ha\n",
            "104) Predicted yield 0.2719029188156128 T/ha // Real yield 0.4000000059604645 T/ha\n",
            "105) Predicted yield 1.064442753791809 T/ha // Real yield 1.5 T/ha\n",
            "106) Predicted yield 0.22498182952404022 T/ha // Real yield 0.5 T/ha\n",
            "107) Predicted yield 1.0962532758712769 T/ha // Real yield 0.6000000238418579 T/ha\n",
            "108) Predicted yield 1.1762008666992188 T/ha // Real yield 1.5 T/ha\n",
            "109) Predicted yield 0.07067258656024933 T/ha // Real yield 0.10000000149011612 T/ha\n",
            "110) Predicted yield 0.8180255889892578 T/ha // Real yield 0.20000000298023224 T/ha\n",
            "111) Predicted yield 1.0270371437072754 T/ha // Real yield 1.3333333730697632 T/ha\n",
            "112) Predicted yield 0.7869369983673096 T/ha // Real yield 1.0 T/ha\n",
            "113) Predicted yield 0.8719874024391174 T/ha // Real yield 0.75 T/ha\n",
            "114) Predicted yield 0.28968825936317444 T/ha // Real yield 0.30000001192092896 T/ha\n",
            "115) Predicted yield 0.23735842108726501 T/ha // Real yield 0.125 T/ha\n",
            "116) Predicted yield 0.3338509798049927 T/ha // Real yield 0.013333333656191826 T/ha\n",
            "117) Predicted yield 0.33294716477394104 T/ha // Real yield 0.20000000298023224 T/ha\n",
            "118) Predicted yield 0.28187257051467896 T/ha // Real yield 0.375 T/ha\n",
            "119) Predicted yield 0.24618196487426758 T/ha // Real yield 0.10000000149011612 T/ha\n",
            "120) Predicted yield 0.18463093042373657 T/ha // Real yield 0.20000000298023224 T/ha\n",
            "121) Predicted yield 0.5670154094696045 T/ha // Real yield 0.15000000596046448 T/ha\n",
            "122) Predicted yield 1.3513846397399902 T/ha // Real yield 1.600000023841858 T/ha\n",
            "123) Predicted yield 1.5343319177627563 T/ha // Real yield 1.5555555820465088 T/ha\n",
            "124) Predicted yield 0.8894059658050537 T/ha // Real yield 0.20000000298023224 T/ha\n",
            "125) Predicted yield 0.8969705104827881 T/ha // Real yield 0.23999999463558197 T/ha\n",
            "126) Predicted yield 0.8143951296806335 T/ha // Real yield 0.75 T/ha\n",
            "127) Predicted yield 0.6872440576553345 T/ha // Real yield 0.6000000238418579 T/ha\n",
            "128) Predicted yield 0.8346521258354187 T/ha // Real yield 0.800000011920929 T/ha\n",
            "129) Predicted yield 0.9094094634056091 T/ha // Real yield 0.800000011920929 T/ha\n",
            "130) Predicted yield 0.18458843231201172 T/ha // Real yield 0.05000000074505806 T/ha\n",
            "131) Predicted yield 1.7781620025634766 T/ha // Real yield 2.0 T/ha\n",
            "132) Predicted yield 0.6372272372245789 T/ha // Real yield 0.6000000238418579 T/ha\n",
            "133) Predicted yield 1.9597370624542236 T/ha // Real yield 2.0 T/ha\n",
            "134) Predicted yield 1.3632488250732422 T/ha // Real yield 1.5 T/ha\n",
            "135) Predicted yield 0.4767792820930481 T/ha // Real yield 0.5 T/ha\n",
            "136) Predicted yield 2.1553046703338623 T/ha // Real yield 2.5 T/ha\n",
            "137) Predicted yield 0.8334182500839233 T/ha // Real yield 0.800000011920929 T/ha\n",
            "138) Predicted yield 0.14728684723377228 T/ha // Real yield 0.10000000149011612 T/ha\n",
            "139) Predicted yield 0.5273638367652893 T/ha // Real yield 0.30000001192092896 T/ha\n",
            "140) Predicted yield 0.5153446793556213 T/ha // Real yield 0.6000000238418579 T/ha\n",
            "141) Predicted yield -0.0540664941072464 T/ha // Real yield 0.02500000037252903 T/ha\n",
            "142) Predicted yield 0.48614588379859924 T/ha // Real yield 0.550000011920929 T/ha\n",
            "143) Predicted yield 1.2824639081954956 T/ha // Real yield 1.3333333730697632 T/ha\n",
            "144) Predicted yield 0.9881693124771118 T/ha // Real yield 1.25 T/ha\n",
            "145) Predicted yield 0.7504987120628357 T/ha // Real yield 0.800000011920929 T/ha\n",
            "146) Predicted yield 1.168258547782898 T/ha // Real yield 1.2142857313156128 T/ha\n",
            "147) Predicted yield 0.6158990859985352 T/ha // Real yield 0.6800000071525574 T/ha\n",
            "148) Predicted yield 0.1294354498386383 T/ha // Real yield 0.20000000298023224 T/ha\n",
            "149) Predicted yield 0.8199804425239563 T/ha // Real yield 1.0 T/ha\n",
            "150) Predicted yield 0.8022353649139404 T/ha // Real yield 2.0 T/ha\n",
            "151) Predicted yield 0.28640350699424744 T/ha // Real yield 0.15000000596046448 T/ha\n",
            "152) Predicted yield 0.46459439396858215 T/ha // Real yield 0.5 T/ha\n",
            "153) Predicted yield 0.7766137719154358 T/ha // Real yield 0.5 T/ha\n",
            "154) Predicted yield 0.10042160004377365 T/ha // Real yield 0.01600000075995922 T/ha\n",
            "155) Predicted yield 0.04827763885259628 T/ha // Real yield 0.15000000596046448 T/ha\n",
            "156) Predicted yield 0.11740949749946594 T/ha // Real yield 0.20000000298023224 T/ha\n",
            "157) Predicted yield 0.4518201947212219 T/ha // Real yield 0.30000001192092896 T/ha\n",
            "158) Predicted yield 1.0410301685333252 T/ha // Real yield 0.9599999785423279 T/ha\n",
            "159) Predicted yield 0.7988877892494202 T/ha // Real yield 0.800000011920929 T/ha\n",
            "160) Predicted yield 1.044142246246338 T/ha // Real yield 1.0625 T/ha\n",
            "161) Predicted yield 1.5223323106765747 T/ha // Real yield 1.600000023841858 T/ha\n",
            "162) Predicted yield 1.191880464553833 T/ha // Real yield 1.399999976158142 T/ha\n",
            "163) Predicted yield 0.11503494530916214 T/ha // Real yield 0.15000000596046448 T/ha\n",
            "164) Predicted yield 0.961478054523468 T/ha // Real yield 1.0 T/ha\n",
            "165) Predicted yield 0.7852299213409424 T/ha // Real yield 1.0 T/ha\n",
            "166) Predicted yield 0.9827334880828857 T/ha // Real yield 1.100000023841858 T/ha\n",
            "167) Predicted yield 1.1486663818359375 T/ha // Real yield 1.337499976158142 T/ha\n",
            "168) Predicted yield 0.3827594518661499 T/ha // Real yield 0.375 T/ha\n",
            "169) Predicted yield 0.6661703586578369 T/ha // Real yield 0.20000000298023224 T/ha\n",
            "170) Predicted yield 1.1568354368209839 T/ha // Real yield 1.5 T/ha\n",
            "171) Predicted yield 0.6926772594451904 T/ha // Real yield 0.6000000238418579 T/ha\n",
            "172) Predicted yield 1.3674023151397705 T/ha // Real yield 1.399999976158142 T/ha\n",
            "173) Predicted yield 0.8418819308280945 T/ha // Real yield 1.0 T/ha\n",
            "174) Predicted yield 0.062937431037426 T/ha // Real yield 1.440000057220459 T/ha\n",
            "175) Predicted yield 0.9061311483383179 T/ha // Real yield 1.0 T/ha\n",
            "176) Predicted yield 0.639996349811554 T/ha // Real yield 0.699999988079071 T/ha\n",
            "177) Predicted yield 0.23741760849952698 T/ha // Real yield 0.10000000149011612 T/ha\n",
            "178) Predicted yield 0.9422714114189148 T/ha // Real yield 1.0666667222976685 T/ha\n",
            "179) Predicted yield 0.48234865069389343 T/ha // Real yield 0.4000000059604645 T/ha\n",
            "180) Predicted yield 0.5132521390914917 T/ha // Real yield 1.0666667222976685 T/ha\n",
            "181) Predicted yield 0.876559853553772 T/ha // Real yield 1.0 T/ha\n",
            "182) Predicted yield 0.042253557592630386 T/ha // Real yield 0.01666666753590107 T/ha\n",
            "183) Predicted yield 0.7032005190849304 T/ha // Real yield 0.699999988079071 T/ha\n",
            "184) Predicted yield 0.6108901500701904 T/ha // Real yield 0.6000000238418579 T/ha\n",
            "185) Predicted yield 0.6989702582359314 T/ha // Real yield 0.4166666567325592 T/ha\n",
            "186) Predicted yield 1.001703143119812 T/ha // Real yield 1.0 T/ha\n",
            "187) Predicted yield 1.6845813989639282 T/ha // Real yield 2.0 T/ha\n",
            "188) Predicted yield 1.9940797090530396 T/ha // Real yield 2.0 T/ha\n",
            "189) Predicted yield 0.2912765443325043 T/ha // Real yield 0.125 T/ha\n",
            "190) Predicted yield 0.28192707896232605 T/ha // Real yield 0.4000000059604645 T/ha\n",
            "191) Predicted yield 0.25751492381095886 T/ha // Real yield 0.49000000953674316 T/ha\n",
            "192) Predicted yield 1.0736387968063354 T/ha // Real yield 1.0 T/ha\n",
            "193) Predicted yield 0.7084129452705383 T/ha // Real yield 0.6000000238418579 T/ha\n",
            "194) Predicted yield 1.324715256690979 T/ha // Real yield 1.3333333730697632 T/ha\n",
            "195) Predicted yield 1.0471951961517334 T/ha // Real yield 1.2000000476837158 T/ha\n",
            "196) Predicted yield 0.7267858982086182 T/ha // Real yield 0.4749999940395355 T/ha\n",
            "197) Predicted yield 0.5564196109771729 T/ha // Real yield 0.20000000298023224 T/ha\n",
            "198) Predicted yield 0.2926199734210968 T/ha // Real yield 0.5 T/ha\n",
            "199) Predicted yield 1.0823509693145752 T/ha // Real yield 0.9750000238418579 T/ha\n",
            "200) Predicted yield 0.5254014134407043 T/ha // Real yield 0.2857142984867096 T/ha\n",
            "201) Predicted yield 0.775280773639679 T/ha // Real yield 0.75 T/ha\n",
            "202) Predicted yield 0.23598748445510864 T/ha // Real yield 0.15000000596046448 T/ha\n",
            "203) Predicted yield 1.39024019241333 T/ha // Real yield 1.5 T/ha\n",
            "204) Predicted yield 0.6601693034172058 T/ha // Real yield 0.14000000059604645 T/ha\n",
            "205) Predicted yield 0.4951498210430145 T/ha // Real yield 0.4000000059604645 T/ha\n",
            "206) Predicted yield 1.0274956226348877 T/ha // Real yield 1.25 T/ha\n",
            "207) Predicted yield 0.8121532201766968 T/ha // Real yield 0.800000011920929 T/ha\n",
            "208) Predicted yield 0.578428328037262 T/ha // Real yield 0.5 T/ha\n",
            "209) Predicted yield 1.0567926168441772 T/ha // Real yield 1.0 T/ha\n",
            "210) Predicted yield 1.10252046585083 T/ha // Real yield 1.0666667222976685 T/ha\n",
            "211) Predicted yield 0.8599311709403992 T/ha // Real yield 0.4000000059604645 T/ha\n",
            "212) Predicted yield 0.6146689057350159 T/ha // Real yield 0.625 T/ha\n",
            "213) Predicted yield 0.5372234582901001 T/ha // Real yield 0.5 T/ha\n",
            "214) Predicted yield 0.40264108777046204 T/ha // Real yield 0.10000000149011612 T/ha\n",
            "215) Predicted yield 0.6675644516944885 T/ha // Real yield 0.75 T/ha\n",
            "216) Predicted yield 0.7050235867500305 T/ha // Real yield 0.75 T/ha\n",
            "217) Predicted yield 0.46637675166130066 T/ha // Real yield 0.6666666865348816 T/ha\n",
            "218) Predicted yield 0.23940277099609375 T/ha // Real yield 0.20000000298023224 T/ha\n",
            "219) Predicted yield 0.49046221375465393 T/ha // Real yield 0.23999999463558197 T/ha\n",
            "220) Predicted yield 0.7913762927055359 T/ha // Real yield 0.699999988079071 T/ha\n",
            "221) Predicted yield 2.4612033367156982 T/ha // Real yield 2.3333332538604736 T/ha\n",
            "222) Predicted yield 0.6783505082130432 T/ha // Real yield 0.75 T/ha\n",
            "223) Predicted yield 1.6462565660476685 T/ha // Real yield 0.800000011920929 T/ha\n",
            "224) Predicted yield 0.9245799779891968 T/ha // Real yield 1.0 T/ha\n",
            "225) Predicted yield 0.845320463180542 T/ha // Real yield 1.0 T/ha\n",
            "226) Predicted yield 0.20556801557540894 T/ha // Real yield 0.23999999463558197 T/ha\n",
            "227) Predicted yield 1.0317187309265137 T/ha // Real yield 1.2000000476837158 T/ha\n",
            "228) Predicted yield 0.41320860385894775 T/ha // Real yield 0.5 T/ha\n",
            "229) Predicted yield 1.4155124425888062 T/ha // Real yield 1.5333333015441895 T/ha\n",
            "230) Predicted yield 0.7153169512748718 T/ha // Real yield 0.800000011920929 T/ha\n",
            "231) Predicted yield 0.8996028900146484 T/ha // Real yield 0.6499999761581421 T/ha\n",
            "232) Predicted yield 0.4061468243598938 T/ha // Real yield 0.4000000059604645 T/ha\n",
            "233) Predicted yield 0.6021395921707153 T/ha // Real yield 2.0 T/ha\n",
            "234) Predicted yield 0.5521278381347656 T/ha // Real yield 0.9142857193946838 T/ha\n",
            "235) Predicted yield -0.09623906016349792 T/ha // Real yield 0.05000000074505806 T/ha\n",
            "236) Predicted yield 1.010016918182373 T/ha // Real yield 1.1666666269302368 T/ha\n",
            "237) Predicted yield 0.5685930252075195 T/ha // Real yield 0.6000000238418579 T/ha\n",
            "238) Predicted yield 1.316151738166809 T/ha // Real yield 1.3333333730697632 T/ha\n",
            "239) Predicted yield 1.0068936347961426 T/ha // Real yield 1.0 T/ha\n",
            "240) Predicted yield 0.07333672046661377 T/ha // Real yield 0.07000000029802322 T/ha\n",
            "241) Predicted yield 0.2829025983810425 T/ha // Real yield 0.3199999928474426 T/ha\n",
            "242) Predicted yield 0.6351320147514343 T/ha // Real yield 0.7599999904632568 T/ha\n",
            "243) Predicted yield 1.0669490098953247 T/ha // Real yield 1.2000000476837158 T/ha\n",
            "244) Predicted yield -0.031210072338581085 T/ha // Real yield 0.02666660025715828 T/ha\n",
            "245) Predicted yield 0.809218168258667 T/ha // Real yield 1.0 T/ha\n",
            "246) Predicted yield 1.041280746459961 T/ha // Real yield 1.100000023841858 T/ha\n",
            "247) Predicted yield 0.5553930401802063 T/ha // Real yield 0.6000000238418579 T/ha\n",
            "248) Predicted yield 0.6868181228637695 T/ha // Real yield 0.05000000074505806 T/ha\n",
            "249) Predicted yield 0.6897976994514465 T/ha // Real yield 1.149999976158142 T/ha\n",
            "250) Predicted yield 0.5483883023262024 T/ha // Real yield 0.6000000238418579 T/ha\n",
            "251) Predicted yield 8.381627082824707 T/ha // Real yield 8.0 T/ha\n",
            "252) Predicted yield 1.2880439758300781 T/ha // Real yield 2.6666667461395264 T/ha\n",
            "253) Predicted yield 0.7573974132537842 T/ha // Real yield 0.800000011920929 T/ha\n",
            "254) Predicted yield 0.5578472018241882 T/ha // Real yield 0.3333333432674408 T/ha\n",
            "255) Predicted yield 0.5883510112762451 T/ha // Real yield 0.44999998807907104 T/ha\n",
            "256) Predicted yield 1.0290786027908325 T/ha // Real yield 1.0 T/ha\n",
            "257) Predicted yield 0.2578935921192169 T/ha // Real yield 0.125 T/ha\n",
            "258) Predicted yield 0.2715208828449249 T/ha // Real yield 0.18000000715255737 T/ha\n",
            "259) Predicted yield 0.7229745984077454 T/ha // Real yield 0.800000011920929 T/ha\n",
            "260) Predicted yield 0.6651742458343506 T/ha // Real yield 0.6666666865348816 T/ha\n",
            "261) Predicted yield 0.6294729113578796 T/ha // Real yield 0.8500000238418579 T/ha\n",
            "262) Predicted yield 0.8272413611412048 T/ha // Real yield 0.8666666746139526 T/ha\n",
            "263) Predicted yield 0.6266293525695801 T/ha // Real yield 0.7142857313156128 T/ha\n",
            "264) Predicted yield 0.9542151093482971 T/ha // Real yield 0.44999998807907104 T/ha\n",
            "265) Predicted yield 0.8006955981254578 T/ha // Real yield 0.8500000238418579 T/ha\n",
            "266) Predicted yield 1.465644121170044 T/ha // Real yield 1.6666666269302368 T/ha\n",
            "267) Predicted yield 1.8564186096191406 T/ha // Real yield 2.0 T/ha\n",
            "268) Predicted yield 0.35967957973480225 T/ha // Real yield 0.25 T/ha\n",
            "269) Predicted yield 0.9880892038345337 T/ha // Real yield 0.9599999785423279 T/ha\n",
            "270) Predicted yield 0.5051707029342651 T/ha // Real yield 0.17499999701976776 T/ha\n",
            "271) Predicted yield 1.0331919193267822 T/ha // Real yield 1.2999999523162842 T/ha\n",
            "272) Predicted yield 1.380786418914795 T/ha // Real yield 1.3333333730697632 T/ha\n",
            "273) Predicted yield 0.6640974879264832 T/ha // Real yield 0.699999988079071 T/ha\n",
            "274) Predicted yield 0.21743041276931763 T/ha // Real yield 0.15000000596046448 T/ha\n",
            "275) Predicted yield 0.4368847608566284 T/ha // Real yield 0.4000000059604645 T/ha\n",
            "276) Predicted yield 0.6546081304550171 T/ha // Real yield 0.8999999761581421 T/ha\n",
            "277) Predicted yield 1.079776644706726 T/ha // Real yield 1.3333333730697632 T/ha\n",
            "278) Predicted yield 0.4846161901950836 T/ha // Real yield 0.6000000238418579 T/ha\n",
            "279) Predicted yield 0.506360650062561 T/ha // Real yield 0.6000000238418579 T/ha\n",
            "280) Predicted yield 0.3786940276622772 T/ha // Real yield 0.30000001192092896 T/ha\n",
            "281) Predicted yield 0.4582881033420563 T/ha // Real yield 0.6000000238418579 T/ha\n",
            "282) Predicted yield 0.19141723215579987 T/ha // Real yield 0.25 T/ha\n",
            "283) Predicted yield 0.22576646506786346 T/ha // Real yield 0.20000000298023224 T/ha\n",
            "284) Predicted yield 0.6419714093208313 T/ha // Real yield 0.699999988079071 T/ha\n",
            "285) Predicted yield 0.36270377039909363 T/ha // Real yield 0.30000001192092896 T/ha\n",
            "286) Predicted yield 1.0056076049804688 T/ha // Real yield 0.8640000224113464 T/ha\n",
            "287) Predicted yield 0.3230871260166168 T/ha // Real yield 0.30000001192092896 T/ha\n",
            "288) Predicted yield 0.925754189491272 T/ha // Real yield 1.0 T/ha\n",
            "289) Predicted yield 0.9742504358291626 T/ha // Real yield 1.0 T/ha\n",
            "290) Predicted yield 0.1173468753695488 T/ha // Real yield 0.13333334028720856 T/ha\n",
            "291) Predicted yield 0.28130316734313965 T/ha // Real yield 0.8999999761581421 T/ha\n",
            "292) Predicted yield 0.5697202086448669 T/ha // Real yield 0.6000000238418579 T/ha\n",
            "293) Predicted yield 0.8720844388008118 T/ha // Real yield 1.0 T/ha\n",
            "294) Predicted yield 0.09934098273515701 T/ha // Real yield 0.10000000149011612 T/ha\n",
            "295) Predicted yield 2.8336479663848877 T/ha // Real yield 3.0 T/ha\n",
            "296) Predicted yield 0.4592840075492859 T/ha // Real yield 0.5199999809265137 T/ha\n",
            "297) Predicted yield 0.5999274253845215 T/ha // Real yield 0.6666666865348816 T/ha\n",
            "298) Predicted yield 0.34034454822540283 T/ha // Real yield 0.4000000059604645 T/ha\n",
            "299) Predicted yield 0.2421831488609314 T/ha // Real yield 0.25 T/ha\n",
            "300) Predicted yield 0.8639145493507385 T/ha // Real yield 0.8999999761581421 T/ha\n",
            "301) Predicted yield 0.4899451434612274 T/ha // Real yield 0.5199999809265137 T/ha\n",
            "302) Predicted yield 0.030295072123408318 T/ha // Real yield 0.09000000357627869 T/ha\n",
            "303) Predicted yield 0.4245530068874359 T/ha // Real yield 0.5 T/ha\n",
            "304) Predicted yield 0.7065405249595642 T/ha // Real yield 0.800000011920929 T/ha\n",
            "305) Predicted yield 0.6923065781593323 T/ha // Real yield 0.800000011920929 T/ha\n",
            "306) Predicted yield 0.9252067804336548 T/ha // Real yield 0.699999988079071 T/ha\n",
            "307) Predicted yield 0.5619196891784668 T/ha // Real yield 0.46666666865348816 T/ha\n",
            "308) Predicted yield 0.9785702228546143 T/ha // Real yield 0.28333333134651184 T/ha\n",
            "309) Predicted yield 0.42612847685813904 T/ha // Real yield 0.5 T/ha\n",
            "310) Predicted yield 0.17579427361488342 T/ha // Real yield 0.25 T/ha\n",
            "311) Predicted yield 1.1851704120635986 T/ha // Real yield 0.5600000023841858 T/ha\n",
            "312) Predicted yield 0.6496081352233887 T/ha // Real yield 0.5 T/ha\n",
            "313) Predicted yield -0.0693732351064682 T/ha // Real yield 0.02449999935925007 T/ha\n",
            "314) Predicted yield 0.9008063673973083 T/ha // Real yield 1.100000023841858 T/ha\n",
            "315) Predicted yield 0.16883617639541626 T/ha // Real yield 0.20000000298023224 T/ha\n",
            "316) Predicted yield 0.43162739276885986 T/ha // Real yield 0.3333333432674408 T/ha\n",
            "317) Predicted yield 0.315157949924469 T/ha // Real yield 0.5 T/ha\n",
            "318) Predicted yield 0.15403370559215546 T/ha // Real yield 0.23999999463558197 T/ha\n",
            "319) Predicted yield 0.1370137631893158 T/ha // Real yield 0.10000000149011612 T/ha\n",
            "320) Predicted yield 1.0322703123092651 T/ha // Real yield 1.25 T/ha\n",
            "321) Predicted yield 0.1085115373134613 T/ha // Real yield 0.10000000149011612 T/ha\n",
            "322) Predicted yield 0.8063175678253174 T/ha // Real yield 0.6499999761581421 T/ha\n",
            "323) Predicted yield 0.7704926133155823 T/ha // Real yield 0.7142857313156128 T/ha\n",
            "324) Predicted yield 0.5747969150543213 T/ha // Real yield 0.7333333492279053 T/ha\n",
            "325) Predicted yield 0.23997750878334045 T/ha // Real yield 0.15000000596046448 T/ha\n",
            "326) Predicted yield 1.2609978914260864 T/ha // Real yield 2.5 T/ha\n",
            "327) Predicted yield 0.4176390767097473 T/ha // Real yield 0.5 T/ha\n",
            "328) Predicted yield 1.28545081615448 T/ha // Real yield 1.399999976158142 T/ha\n",
            "329) Predicted yield 0.9965739846229553 T/ha // Real yield 1.2666666507720947 T/ha\n",
            "330) Predicted yield 0.5237850546836853 T/ha // Real yield 0.5 T/ha\n",
            "331) Predicted yield 0.9339686036109924 T/ha // Real yield 1.0 T/ha\n",
            "332) Predicted yield 0.24877873063087463 T/ha // Real yield 0.25 T/ha\n",
            "333) Predicted yield 1.0436675548553467 T/ha // Real yield 0.75 T/ha\n",
            "334) Predicted yield 0.24631498754024506 T/ha // Real yield 0.44999998807907104 T/ha\n",
            "335) Predicted yield 0.5778229832649231 T/ha // Real yield 0.699999988079071 T/ha\n",
            "336) Predicted yield 0.18097352981567383 T/ha // Real yield 0.004000000189989805 T/ha\n",
            "337) Predicted yield 0.33817484974861145 T/ha // Real yield 0.5 T/ha\n",
            "338) Predicted yield 0.2913917303085327 T/ha // Real yield 0.20000000298023224 T/ha\n",
            "339) Predicted yield 0.7620324492454529 T/ha // Real yield 0.625 T/ha\n",
            "340) Predicted yield 0.2975505590438843 T/ha // Real yield 0.4000000059604645 T/ha\n",
            "341) Predicted yield 0.18421697616577148 T/ha // Real yield 0.23999999463558197 T/ha\n",
            "342) Predicted yield 0.27163970470428467 T/ha // Real yield 0.1875 T/ha\n",
            "343) Predicted yield 0.2772887051105499 T/ha // Real yield 0.20000000298023224 T/ha\n",
            "344) Predicted yield 0.4697014093399048 T/ha // Real yield 0.699999988079071 T/ha\n",
            "345) Predicted yield 0.41909196972846985 T/ha // Real yield 0.800000011920929 T/ha\n",
            "346) Predicted yield 0.355679988861084 T/ha // Real yield 0.3499999940395355 T/ha\n",
            "347) Predicted yield 0.16620048880577087 T/ha // Real yield 0.10000000149011612 T/ha\n",
            "348) Predicted yield 0.6935266852378845 T/ha // Real yield 1.0 T/ha\n",
            "349) Predicted yield 0.48315656185150146 T/ha // Real yield 0.5 T/ha\n",
            "350) Predicted yield 0.20526519417762756 T/ha // Real yield 0.21315789222717285 T/ha\n",
            "351) Predicted yield 0.5228173732757568 T/ha // Real yield 0.6000000238418579 T/ha\n",
            "352) Predicted yield 0.21212172508239746 T/ha // Real yield 0.18000000715255737 T/ha\n",
            "353) Predicted yield 0.8803258538246155 T/ha // Real yield 1.0 T/ha\n",
            "354) Predicted yield 1.1539866924285889 T/ha // Real yield 0.4000000059604645 T/ha\n",
            "355) Predicted yield 0.11454115062952042 T/ha // Real yield 0.05999999865889549 T/ha\n",
            "356) Predicted yield 0.2821671664714813 T/ha // Real yield 0.30000001192092896 T/ha\n",
            "357) Predicted yield 1.0991572141647339 T/ha // Real yield 1.2999999523162842 T/ha\n",
            "358) Predicted yield 0.33463791012763977 T/ha // Real yield 0.25 T/ha\n",
            "359) Predicted yield 0.4655124545097351 T/ha // Real yield 0.4000000059604645 T/ha\n",
            "360) Predicted yield 0.37429654598236084 T/ha // Real yield 0.4000000059604645 T/ha\n",
            "361) Predicted yield 0.8829126954078674 T/ha // Real yield 0.46666666865348816 T/ha\n",
            "362) Predicted yield 0.47660982608795166 T/ha // Real yield 0.10000000149011612 T/ha\n",
            "363) Predicted yield 1.3889387845993042 T/ha // Real yield 1.5333333015441895 T/ha\n",
            "364) Predicted yield 0.6793983578681946 T/ha // Real yield 0.800000011920929 T/ha\n",
            "365) Predicted yield 0.5200765132904053 T/ha // Real yield 0.30000001192092896 T/ha\n",
            "366) Predicted yield 0.26814907789230347 T/ha // Real yield 0.30000001192092896 T/ha\n",
            "367) Predicted yield 0.8255519270896912 T/ha // Real yield 0.949999988079071 T/ha\n",
            "368) Predicted yield 1.0430288314819336 T/ha // Real yield 1.0 T/ha\n",
            "369) Predicted yield 1.7226612567901611 T/ha // Real yield 1.0 T/ha\n",
            "370) Predicted yield 0.9141724109649658 T/ha // Real yield 1.2599999904632568 T/ha\n",
            "371) Predicted yield 1.129641056060791 T/ha // Real yield 1.399999976158142 T/ha\n",
            "372) Predicted yield 0.1499873846769333 T/ha // Real yield 0.20000000298023224 T/ha\n",
            "373) Predicted yield 0.8992223143577576 T/ha // Real yield 0.7749999761581421 T/ha\n",
            "374) Predicted yield 0.3001915216445923 T/ha // Real yield 0.30000001192092896 T/ha\n",
            "375) Predicted yield 0.9098722338676453 T/ha // Real yield 1.0 T/ha\n",
            "376) Predicted yield 0.21238850057125092 T/ha // Real yield 0.25 T/ha\n",
            "377) Predicted yield 0.4414369761943817 T/ha // Real yield 0.5 T/ha\n",
            "378) Predicted yield 0.26966750621795654 T/ha // Real yield 0.3333333432674408 T/ha\n",
            "379) Predicted yield 0.2816195785999298 T/ha // Real yield 0.3333333432674408 T/ha\n",
            "380) Predicted yield 1.0207823514938354 T/ha // Real yield 1.5 T/ha\n",
            "381) Predicted yield 0.1932079941034317 T/ha // Real yield 0.25 T/ha\n",
            "382) Predicted yield 1.1142330169677734 T/ha // Real yield 0.10000000149011612 T/ha\n",
            "383) Predicted yield 0.05316171795129776 T/ha // Real yield 0.10000000149011612 T/ha\n",
            "384) Predicted yield 0.5632172226905823 T/ha // Real yield 0.75 T/ha\n",
            "385) Predicted yield 0.23060369491577148 T/ha // Real yield 0.20000000298023224 T/ha\n",
            "386) Predicted yield 0.7685421109199524 T/ha // Real yield 0.7142857313156128 T/ha\n",
            "387) Predicted yield 1.1347543001174927 T/ha // Real yield 1.2000000476837158 T/ha\n",
            "388) Predicted yield 0.4131397306919098 T/ha // Real yield 0.3529411852359772 T/ha\n",
            "389) Predicted yield 1.115204930305481 T/ha // Real yield 0.46666666865348816 T/ha\n",
            "390) Predicted yield 0.5974550843238831 T/ha // Real yield 0.6000000238418579 T/ha\n",
            "391) Predicted yield 0.4781912863254547 T/ha // Real yield 0.5 T/ha\n",
            "392) Predicted yield 0.6819679737091064 T/ha // Real yield 0.5 T/ha\n",
            "393) Predicted yield 0.5407504439353943 T/ha // Real yield 0.5 T/ha\n",
            "394) Predicted yield 1.0500680208206177 T/ha // Real yield 1.399999976158142 T/ha\n",
            "395) Predicted yield 2.1003870964050293 T/ha // Real yield 1.0 T/ha\n",
            "396) Predicted yield 1.148356318473816 T/ha // Real yield 1.2000000476837158 T/ha\n",
            "397) Predicted yield 0.1795629858970642 T/ha // Real yield 0.1599999964237213 T/ha\n",
            "398) Predicted yield 0.15337322652339935 T/ha // Real yield 0.10000000149011612 T/ha\n",
            "399) Predicted yield 0.45521506667137146 T/ha // Real yield 0.05000000074505806 T/ha\n",
            "400) Predicted yield 0.3763970136642456 T/ha // Real yield 0.20000000298023224 T/ha\n",
            "401) Predicted yield 0.9054359197616577 T/ha // Real yield 0.8999999761581421 T/ha\n",
            "402) Predicted yield 0.3344241976737976 T/ha // Real yield 0.36000001430511475 T/ha\n",
            "403) Predicted yield 0.4881220757961273 T/ha // Real yield 0.6000000238418579 T/ha\n",
            "404) Predicted yield 0.3014466464519501 T/ha // Real yield 0.25 T/ha\n",
            "405) Predicted yield 0.7600759267807007 T/ha // Real yield 0.800000011920929 T/ha\n",
            "406) Predicted yield 0.7994266748428345 T/ha // Real yield 1.0499999523162842 T/ha\n",
            "407) Predicted yield 1.0874260663986206 T/ha // Real yield 1.2999999523162842 T/ha\n",
            "408) Predicted yield 1.6810513734817505 T/ha // Real yield 1.75 T/ha\n",
            "409) Predicted yield 0.7641745209693909 T/ha // Real yield 1.0 T/ha\n",
            "410) Predicted yield 0.27537620067596436 T/ha // Real yield 0.20000000298023224 T/ha\n",
            "411) Predicted yield 0.2031044065952301 T/ha // Real yield 0.11999999731779099 T/ha\n",
            "412) Predicted yield 0.2648603618144989 T/ha // Real yield 0.4000000059604645 T/ha\n",
            "413) Predicted yield 0.5639474391937256 T/ha // Real yield 0.44999998807907104 T/ha\n",
            "414) Predicted yield 0.48931923508644104 T/ha // Real yield 1.1666666269302368 T/ha\n",
            "415) Predicted yield 0.533700168132782 T/ha // Real yield 0.30000001192092896 T/ha\n",
            "416) Predicted yield 0.5871808528900146 T/ha // Real yield 0.75 T/ha\n",
            "417) Predicted yield 0.10898414254188538 T/ha // Real yield 0.14000000059604645 T/ha\n",
            "418) Predicted yield 0.6797035932540894 T/ha // Real yield 0.75 T/ha\n",
            "419) Predicted yield 0.09326718002557755 T/ha // Real yield 0.15000000596046448 T/ha\n",
            "420) Predicted yield 0.8689077496528625 T/ha // Real yield 1.2000000476837158 T/ha\n",
            "421) Predicted yield 0.5318973660469055 T/ha // Real yield 0.5 T/ha\n",
            "422) Predicted yield 1.037191390991211 T/ha // Real yield 1.2000000476837158 T/ha\n",
            "423) Predicted yield 1.1028201580047607 T/ha // Real yield 1.5 T/ha\n",
            "424) Predicted yield 0.5495343208312988 T/ha // Real yield 0.4000000059604645 T/ha\n",
            "425) Predicted yield 0.3377552628517151 T/ha // Real yield 0.2666666805744171 T/ha\n",
            "426) Predicted yield 1.357011079788208 T/ha // Real yield 0.30000001192092896 T/ha\n",
            "427) Predicted yield 0.6953510046005249 T/ha // Real yield 0.800000011920929 T/ha\n",
            "428) Predicted yield 0.3276554048061371 T/ha // Real yield 0.4000000059604645 T/ha\n",
            "429) Predicted yield 0.41108494997024536 T/ha // Real yield 0.5 T/ha\n",
            "430) Predicted yield 2.1220595836639404 T/ha // Real yield 2.299999952316284 T/ha\n",
            "431) Predicted yield 1.7438361644744873 T/ha // Real yield 2.1666667461395264 T/ha\n",
            "432) Predicted yield 0.15522684156894684 T/ha // Real yield 0.30000001192092896 T/ha\n",
            "433) Predicted yield 0.25499990582466125 T/ha // Real yield 0.44999998807907104 T/ha\n",
            "434) Predicted yield 0.578944742679596 T/ha // Real yield 0.7657142877578735 T/ha\n",
            "435) Predicted yield 0.5196145176887512 T/ha // Real yield 0.30000001192092896 T/ha\n",
            "436) Predicted yield 2.3210599422454834 T/ha // Real yield 2.0 T/ha\n",
            "437) Predicted yield 0.7415029406547546 T/ha // Real yield 0.10000000149011612 T/ha\n",
            "438) Predicted yield 0.459027498960495 T/ha // Real yield 0.4000000059604645 T/ha\n",
            "439) Predicted yield 0.7892717123031616 T/ha // Real yield 0.30000001192092896 T/ha\n",
            "440) Predicted yield 0.6554778814315796 T/ha // Real yield 0.75 T/ha\n",
            "441) Predicted yield 0.4660252630710602 T/ha // Real yield 0.18000000715255737 T/ha\n",
            "442) Predicted yield 0.38432642817497253 T/ha // Real yield 0.6630434989929199 T/ha\n",
            "443) Predicted yield 0.33757999539375305 T/ha // Real yield 0.20000000298023224 T/ha\n",
            "444) Predicted yield 0.18127331137657166 T/ha // Real yield 0.15000000596046448 T/ha\n",
            "445) Predicted yield 1.1987112760543823 T/ha // Real yield 1.0888888835906982 T/ha\n",
            "446) Predicted yield 0.6881645321846008 T/ha // Real yield 2.0 T/ha\n",
            "447) Predicted yield 0.7484247088432312 T/ha // Real yield 0.699999988079071 T/ha\n",
            "448) Predicted yield 1.0631674528121948 T/ha // Real yield 1.3333333730697632 T/ha\n",
            "449) Predicted yield 0.5528701543807983 T/ha // Real yield 0.25 T/ha\n",
            "450) Predicted yield 1.5760371685028076 T/ha // Real yield 2.0 T/ha\n",
            "451) Predicted yield 1.2718006372451782 T/ha // Real yield 1.2000000476837158 T/ha\n",
            "452) Predicted yield 1.7147029638290405 T/ha // Real yield 2.0 T/ha\n",
            "453) Predicted yield 0.5003266930580139 T/ha // Real yield 0.6000000238418579 T/ha\n",
            "454) Predicted yield -0.01700315624475479 T/ha // Real yield 0.05000000074505806 T/ha\n",
            "455) Predicted yield 0.3720009922981262 T/ha // Real yield 0.10000000149011612 T/ha\n",
            "456) Predicted yield 0.2528732419013977 T/ha // Real yield 0.30000001192092896 T/ha\n",
            "457) Predicted yield 0.21486245095729828 T/ha // Real yield 0.20000000298023224 T/ha\n",
            "458) Predicted yield 1.157067894935608 T/ha // Real yield 1.0 T/ha\n",
            "459) Predicted yield 0.15786445140838623 T/ha // Real yield 1.0 T/ha\n",
            "460) Predicted yield 1.1532025337219238 T/ha // Real yield 1.100000023841858 T/ha\n",
            "461) Predicted yield 0.7347978949546814 T/ha // Real yield 0.699999988079071 T/ha\n",
            "462) Predicted yield 1.0070228576660156 T/ha // Real yield 1.0 T/ha\n",
            "463) Predicted yield 0.48805609345436096 T/ha // Real yield 0.44999998807907104 T/ha\n",
            "464) Predicted yield 0.3403942883014679 T/ha // Real yield 0.4000000059604645 T/ha\n",
            "465) Predicted yield 0.4349827766418457 T/ha // Real yield 0.46666666865348816 T/ha\n",
            "466) Predicted yield 0.32742300629615784 T/ha // Real yield 0.3400000035762787 T/ha\n",
            "467) Predicted yield 0.7357389330863953 T/ha // Real yield 0.6000000238418579 T/ha\n",
            "468) Predicted yield 0.7650670409202576 T/ha // Real yield 2.5 T/ha\n",
            "469) Predicted yield 0.5973725318908691 T/ha // Real yield 0.75 T/ha\n",
            "470) Predicted yield 0.4698749780654907 T/ha // Real yield 0.20000000298023224 T/ha\n",
            "471) Predicted yield 0.17962618172168732 T/ha // Real yield 0.06666667014360428 T/ha\n",
            "472) Predicted yield 0.3948518633842468 T/ha // Real yield 0.4000000059604645 T/ha\n",
            "473) Predicted yield 0.5651633143424988 T/ha // Real yield 0.4000000059604645 T/ha\n",
            "474) Predicted yield 0.888349711894989 T/ha // Real yield 1.2000000476837158 T/ha\n",
            "475) Predicted yield 0.27182602882385254 T/ha // Real yield 0.22499999403953552 T/ha\n",
            "476) Predicted yield 1.3646060228347778 T/ha // Real yield 1.399999976158142 T/ha\n",
            "477) Predicted yield 0.21782289445400238 T/ha // Real yield 0.20000000298023224 T/ha\n",
            "478) Predicted yield 0.9700537323951721 T/ha // Real yield 1.2000000476837158 T/ha\n",
            "479) Predicted yield 0.74642413854599 T/ha // Real yield 0.6000000238418579 T/ha\n",
            "480) Predicted yield 0.614586353302002 T/ha // Real yield 0.47999998927116394 T/ha\n",
            "481) Predicted yield 0.43742635846138 T/ha // Real yield 0.30000001192092896 T/ha\n",
            "482) Predicted yield 0.11320707201957703 T/ha // Real yield 0.20000000298023224 T/ha\n",
            "483) Predicted yield 0.48445841670036316 T/ha // Real yield 0.5 T/ha\n",
            "484) Predicted yield 0.5581250786781311 T/ha // Real yield 0.6000000238418579 T/ha\n",
            "485) Predicted yield 1.3522508144378662 T/ha // Real yield 2.0 T/ha\n",
            "486) Predicted yield 0.7442619204521179 T/ha // Real yield 0.800000011920929 T/ha\n",
            "487) Predicted yield 6.212467670440674 T/ha // Real yield 5.400000095367432 T/ha\n",
            "488) Predicted yield 0.9838582873344421 T/ha // Real yield 0.5 T/ha\n",
            "489) Predicted yield 0.516068696975708 T/ha // Real yield 0.6666666865348816 T/ha\n",
            "490) Predicted yield 0.965878427028656 T/ha // Real yield 1.100000023841858 T/ha\n",
            "491) Predicted yield 0.5300494432449341 T/ha // Real yield 0.4000000059604645 T/ha\n",
            "492) Predicted yield 0.32127049565315247 T/ha // Real yield 0.07000000029802322 T/ha\n",
            "493) Predicted yield 0.4410351812839508 T/ha // Real yield 0.75 T/ha\n",
            "494) Predicted yield 0.2853011190891266 T/ha // Real yield 0.10000000149011612 T/ha\n",
            "495) Predicted yield 0.9859169125556946 T/ha // Real yield 0.699999988079071 T/ha\n",
            "496) Predicted yield 0.7810726761817932 T/ha // Real yield 0.7200000286102295 T/ha\n",
            "497) Predicted yield 0.5481811761856079 T/ha // Real yield 0.5333333611488342 T/ha\n",
            "498) Predicted yield 0.8289112448692322 T/ha // Real yield 1.0 T/ha\n",
            "499) Predicted yield 1.6163570880889893 T/ha // Real yield 2.0 T/ha\n",
            "500) Predicted yield 1.42084538936615 T/ha // Real yield 1.5 T/ha\n",
            "501) Predicted yield 0.4943423271179199 T/ha // Real yield 0.6666666865348816 T/ha\n",
            "502) Predicted yield 0.8170114159584045 T/ha // Real yield 0.8500000238418579 T/ha\n",
            "503) Predicted yield 0.2378130853176117 T/ha // Real yield 0.20999999344348907 T/ha\n",
            "504) Predicted yield 0.015139466151595116 T/ha // Real yield 0.125 T/ha\n",
            "505) Predicted yield 0.134532168507576 T/ha // Real yield 0.20000000298023224 T/ha\n",
            "506) Predicted yield 0.2705187499523163 T/ha // Real yield 0.30000001192092896 T/ha\n",
            "507) Predicted yield 1.4695823192596436 T/ha // Real yield 1.5 T/ha\n",
            "508) Predicted yield 2.5290069580078125 T/ha // Real yield 2.4000000953674316 T/ha\n",
            "509) Predicted yield 1.4103449583053589 T/ha // Real yield 2.0 T/ha\n",
            "510) Predicted yield 0.6536374688148499 T/ha // Real yield 0.800000011920929 T/ha\n",
            "511) Predicted yield 0.7476595044136047 T/ha // Real yield 0.6666666865348816 T/ha\n",
            "512) Predicted yield 1.3148040771484375 T/ha // Real yield 2.0 T/ha\n",
            "513) Predicted yield 0.06872373074293137 T/ha // Real yield 0.10000000149011612 T/ha\n",
            "514) Predicted yield 0.7611988186836243 T/ha // Real yield 1.0 T/ha\n",
            "515) Predicted yield 0.5474109649658203 T/ha // Real yield 0.5400000214576721 T/ha\n",
            "516) Predicted yield 0.4849238097667694 T/ha // Real yield 0.46666601300239563 T/ha\n",
            "517) Predicted yield 0.8224742412567139 T/ha // Real yield 1.0 T/ha\n",
            "518) Predicted yield 0.05004154518246651 T/ha // Real yield 0.05000000074505806 T/ha\n",
            "519) Predicted yield 0.9170911908149719 T/ha // Real yield 0.30000001192092896 T/ha\n",
            "520) Predicted yield 0.3775181770324707 T/ha // Real yield 0.3499999940395355 T/ha\n",
            "521) Predicted yield 0.10981190949678421 T/ha // Real yield 0.05000000074505806 T/ha\n",
            "522) Predicted yield 0.49203500151634216 T/ha // Real yield 0.6000000238418579 T/ha\n",
            "523) Predicted yield 0.4449443519115448 T/ha // Real yield 0.25 T/ha\n",
            "524) Predicted yield 0.32829177379608154 T/ha // Real yield 0.4000000059604645 T/ha\n",
            "525) Predicted yield 1.0070228576660156 T/ha // Real yield 1.3333333730697632 T/ha\n",
            "526) Predicted yield 0.8925229907035828 T/ha // Real yield 1.0 T/ha\n",
            "527) Predicted yield 0.6813438534736633 T/ha // Real yield 0.4000000059604645 T/ha\n",
            "528) Predicted yield 0.30383041501045227 T/ha // Real yield 0.30000001192092896 T/ha\n",
            "529) Predicted yield 1.0303339958190918 T/ha // Real yield 1.0 T/ha\n",
            "530) Predicted yield 1.0274052619934082 T/ha // Real yield 0.6000000238418579 T/ha\n",
            "531) Predicted yield 0.15119898319244385 T/ha // Real yield 0.10000000149011612 T/ha\n",
            "532) Predicted yield 0.21124841272830963 T/ha // Real yield 0.20800000429153442 T/ha\n",
            "533) Predicted yield 0.7348398566246033 T/ha // Real yield 1.2000000476837158 T/ha\n",
            "534) Predicted yield 0.5725850462913513 T/ha // Real yield 0.5600000023841858 T/ha\n",
            "535) Predicted yield 0.5074460506439209 T/ha // Real yield 0.6000000238418579 T/ha\n",
            "536) Predicted yield 0.6068713665008545 T/ha // Real yield 0.6000000238418579 T/ha\n",
            "537) Predicted yield 0.49181511998176575 T/ha // Real yield 0.5333333611488342 T/ha\n",
            "538) Predicted yield 0.48367977142333984 T/ha // Real yield 0.5 T/ha\n",
            "539) Predicted yield 0.8759353160858154 T/ha // Real yield 1.0 T/ha\n",
            "540) Predicted yield 0.7412403225898743 T/ha // Real yield 1.3333333730697632 T/ha\n",
            "541) Predicted yield 0.6592918634414673 T/ha // Real yield 0.699999988079071 T/ha\n",
            "542) Predicted yield 0.44574299454689026 T/ha // Real yield 0.5 T/ha\n",
            "543) Predicted yield 0.23842725157737732 T/ha // Real yield 0.25 T/ha\n",
            "544) Predicted yield 0.5515463352203369 T/ha // Real yield 0.75 T/ha\n",
            "545) Predicted yield 0.12084081768989563 T/ha // Real yield 0.02500000037252903 T/ha\n",
            "546) Predicted yield 0.36293745040893555 T/ha // Real yield 0.5 T/ha\n",
            "547) Predicted yield 0.8131598830223083 T/ha // Real yield 0.5333333611488342 T/ha\n",
            "548) Predicted yield 0.6781938672065735 T/ha // Real yield 0.9900000095367432 T/ha\n",
            "549) Predicted yield 0.18963612616062164 T/ha // Real yield 0.017391303554177284 T/ha\n",
            "550) Predicted yield 0.3134589195251465 T/ha // Real yield 0.4000000059604645 T/ha\n",
            "551) Predicted yield 0.9637688994407654 T/ha // Real yield 0.9750000238418579 T/ha\n",
            "552) Predicted yield 0.7342401146888733 T/ha // Real yield 0.800000011920929 T/ha\n",
            "553) Predicted yield 1.0100593566894531 T/ha // Real yield 1.25 T/ha\n",
            "554) Predicted yield 0.7182767987251282 T/ha // Real yield 0.8500000238418579 T/ha\n",
            "555) Predicted yield 0.8518695831298828 T/ha // Real yield 0.8999999761581421 T/ha\n",
            "556) Predicted yield -0.05660691484808922 T/ha // Real yield 0.009999999776482582 T/ha\n",
            "557) Predicted yield 0.1484406292438507 T/ha // Real yield 0.4000000059604645 T/ha\n",
            "558) Predicted yield 0.5281127691268921 T/ha // Real yield 0.4399999976158142 T/ha\n",
            "559) Predicted yield -0.056749626994132996 T/ha // Real yield 0.05000000074505806 T/ha\n",
            "560) Predicted yield 0.21613207459449768 T/ha // Real yield 0.30000001192092896 T/ha\n",
            "561) Predicted yield 0.3793347477912903 T/ha // Real yield 0.25 T/ha\n",
            "562) Predicted yield 3.881363868713379 T/ha // Real yield 3.5999999046325684 T/ha\n",
            "563) Predicted yield 1.2499769926071167 T/ha // Real yield 1.25 T/ha\n",
            "564) Predicted yield 0.23566332459449768 T/ha // Real yield 0.46666666865348816 T/ha\n",
            "565) Predicted yield 0.3032016158103943 T/ha // Real yield 0.3499999940395355 T/ha\n",
            "566) Predicted yield 0.011235526762902737 T/ha // Real yield 0.06499999761581421 T/ha\n",
            "567) Predicted yield 0.04515700042247772 T/ha // Real yield 0.1599999964237213 T/ha\n",
            "568) Predicted yield 0.715635359287262 T/ha // Real yield 0.25 T/ha\n",
            "569) Predicted yield 1.0851292610168457 T/ha // Real yield 0.5 T/ha\n",
            "570) Predicted yield 3.461595296859741 T/ha // Real yield 3.25 T/ha\n",
            "571) Predicted yield -0.0014906092546880245 T/ha // Real yield 0.10000000149011612 T/ha\n",
            "572) Predicted yield 0.39968445897102356 T/ha // Real yield 0.20000000298023224 T/ha\n",
            "573) Predicted yield 0.34576505422592163 T/ha // Real yield 0.3333333432674408 T/ha\n",
            "574) Predicted yield 0.563221275806427 T/ha // Real yield 0.6000000238418579 T/ha\n",
            "575) Predicted yield 0.8387550115585327 T/ha // Real yield 0.20000000298023224 T/ha\n",
            "576) Predicted yield 0.5569326877593994 T/ha // Real yield 0.5 T/ha\n",
            "577) Predicted yield 0.5559195876121521 T/ha // Real yield 0.5 T/ha\n",
            "578) Predicted yield 0.5766870975494385 T/ha // Real yield 0.75 T/ha\n",
            "579) Predicted yield 1.3289446830749512 T/ha // Real yield 1.5 T/ha\n",
            "580) Predicted yield 1.3666636943817139 T/ha // Real yield 1.3700000047683716 T/ha\n",
            "581) Predicted yield 0.6662841439247131 T/ha // Real yield 0.6499999761581421 T/ha\n",
            "582) Predicted yield 0.6581969857215881 T/ha // Real yield 0.800000011920929 T/ha\n",
            "583) Predicted yield 0.3303353190422058 T/ha // Real yield 0.5 T/ha\n",
            "584) Predicted yield 0.5779464244842529 T/ha // Real yield 0.6666666865348816 T/ha\n",
            "585) Predicted yield 0.3957834541797638 T/ha // Real yield 0.6000000238418579 T/ha\n",
            "586) Predicted yield 0.39720380306243896 T/ha // Real yield 0.20000000298023224 T/ha\n",
            "587) Predicted yield -0.006711485795676708 T/ha // Real yield 0.20000000298023224 T/ha\n",
            "588) Predicted yield 0.1512528955936432 T/ha // Real yield 0.30000001192092896 T/ha\n",
            "589) Predicted yield 1.536807656288147 T/ha // Real yield 1.5 T/ha\n",
            "590) Predicted yield 0.7666608691215515 T/ha // Real yield 0.800000011920929 T/ha\n",
            "591) Predicted yield 0.7404108047485352 T/ha // Real yield 1.0 T/ha\n",
            "592) Predicted yield 0.15225805342197418 T/ha // Real yield 0.11999999731779099 T/ha\n",
            "593) Predicted yield 0.55886310338974 T/ha // Real yield 0.699999988079071 T/ha\n",
            "594) Predicted yield 0.8368127942085266 T/ha // Real yield 1.0 T/ha\n",
            "595) Predicted yield 0.40908047556877136 T/ha // Real yield 0.699999988079071 T/ha\n",
            "596) Predicted yield 1.3861515522003174 T/ha // Real yield 1.5 T/ha\n",
            "597) Predicted yield 0.48760098218917847 T/ha // Real yield 0.20000000298023224 T/ha\n",
            "598) Predicted yield 0.5347464680671692 T/ha // Real yield 0.3499999940395355 T/ha\n",
            "599) Predicted yield 1.8918322324752808 T/ha // Real yield 2.0 T/ha\n",
            "600) Predicted yield 0.8949520587921143 T/ha // Real yield 1.0 T/ha\n",
            "601) Predicted yield 2.025909185409546 T/ha // Real yield 2.4000000953674316 T/ha\n",
            "602) Predicted yield 0.7560359835624695 T/ha // Real yield 0.800000011920929 T/ha\n",
            "603) Predicted yield 0.34451067447662354 T/ha // Real yield 0.4000000059604645 T/ha\n",
            "604) Predicted yield 0.1331312358379364 T/ha // Real yield 0.15000000596046448 T/ha\n",
            "605) Predicted yield 0.8864485025405884 T/ha // Real yield 1.0 T/ha\n",
            "606) Predicted yield 2.077512502670288 T/ha // Real yield 2.307692289352417 T/ha\n",
            "607) Predicted yield 0.5265740156173706 T/ha // Real yield 0.699999988079071 T/ha\n",
            "608) Predicted yield 0.3269396722316742 T/ha // Real yield 0.3333333432674408 T/ha\n",
            "609) Predicted yield 0.5198614001274109 T/ha // Real yield 0.5 T/ha\n",
            "610) Predicted yield 0.12884224951267242 T/ha // Real yield 0.10000000149011612 T/ha\n",
            "611) Predicted yield 0.461227685213089 T/ha // Real yield 0.5 T/ha\n",
            "612) Predicted yield 1.9789851903915405 T/ha // Real yield 2.1500000953674316 T/ha\n",
            "613) Predicted yield 0.5127546191215515 T/ha // Real yield 0.42500001192092896 T/ha\n",
            "614) Predicted yield 0.548275887966156 T/ha // Real yield 0.6000000238418579 T/ha\n",
            "615) Predicted yield 0.7267183065414429 T/ha // Real yield 0.10000000149011612 T/ha\n",
            "616) Predicted yield 1.0524348020553589 T/ha // Real yield 0.30000001192092896 T/ha\n",
            "617) Predicted yield 0.1172930970788002 T/ha // Real yield 0.03750000149011612 T/ha\n",
            "618) Predicted yield 0.6421884894371033 T/ha // Real yield 0.800000011920929 T/ha\n",
            "619) Predicted yield 0.1565788835287094 T/ha // Real yield 0.10000000149011612 T/ha\n",
            "620) Predicted yield 1.5843110084533691 T/ha // Real yield 2.0 T/ha\n",
            "621) Predicted yield 1.4989527463912964 T/ha // Real yield 1.600000023841858 T/ha\n",
            "622) Predicted yield 0.6113901734352112 T/ha // Real yield 0.5 T/ha\n",
            "623) Predicted yield 0.23000721633434296 T/ha // Real yield 0.23999999463558197 T/ha\n",
            "624) Predicted yield 0.4644986093044281 T/ha // Real yield 0.23999999463558197 T/ha\n",
            "625) Predicted yield 0.37910860776901245 T/ha // Real yield 0.4099999964237213 T/ha\n",
            "626) Predicted yield 1.1138583421707153 T/ha // Real yield 1.0 T/ha\n",
            "627) Predicted yield 6.131228446960449 T/ha // Real yield 5.7228569984436035 T/ha\n",
            "628) Predicted yield 0.25496041774749756 T/ha // Real yield 0.10000000149011612 T/ha\n",
            "629) Predicted yield 0.33846962451934814 T/ha // Real yield 0.30000001192092896 T/ha\n",
            "630) Predicted yield 0.5860376954078674 T/ha // Real yield 0.5 T/ha\n",
            "631) Predicted yield 0.35646161437034607 T/ha // Real yield 0.8999999761581421 T/ha\n",
            "632) Predicted yield 0.5219738483428955 T/ha // Real yield 0.5 T/ha\n",
            "633) Predicted yield 0.4428453743457794 T/ha // Real yield 0.44999998807907104 T/ha\n",
            "634) Predicted yield 0.5047343969345093 T/ha // Real yield 0.6000000238418579 T/ha\n",
            "635) Predicted yield 0.5118852257728577 T/ha // Real yield 0.6000000238418579 T/ha\n",
            "636) Predicted yield 0.5883703231811523 T/ha // Real yield 0.5 T/ha\n",
            "637) Predicted yield 0.3831995129585266 T/ha // Real yield 0.5 T/ha\n",
            "638) Predicted yield 0.39576834440231323 T/ha // Real yield 0.20000000298023224 T/ha\n",
            "639) Predicted yield 0.8996784687042236 T/ha // Real yield 1.0 T/ha\n",
            "640) Predicted yield 3.0190916061401367 T/ha // Real yield 3.0 T/ha\n",
            "641) Predicted yield 0.6165514588356018 T/ha // Real yield 0.699999988079071 T/ha\n",
            "642) Predicted yield 0.45699596405029297 T/ha // Real yield 0.30000001192092896 T/ha\n",
            "643) Predicted yield 0.2926325500011444 T/ha // Real yield 0.3333333432674408 T/ha\n",
            "644) Predicted yield 0.9545854926109314 T/ha // Real yield 1.0499999523162842 T/ha\n",
            "645) Predicted yield 0.7982181906700134 T/ha // Real yield 1.0 T/ha\n",
            "646) Predicted yield 0.880075216293335 T/ha // Real yield 1.2000000476837158 T/ha\n",
            "647) Predicted yield 0.3234105408191681 T/ha // Real yield 0.4000000059604645 T/ha\n",
            "648) Predicted yield 1.0608729124069214 T/ha // Real yield 1.0 T/ha\n",
            "649) Predicted yield 0.5933219790458679 T/ha // Real yield 0.5 T/ha\n",
            "650) Predicted yield 0.6775792837142944 T/ha // Real yield 0.5 T/ha\n",
            "651) Predicted yield 1.1162720918655396 T/ha // Real yield 1.0 T/ha\n",
            "652) Predicted yield 0.29417526721954346 T/ha // Real yield 0.4000000059604645 T/ha\n",
            "653) Predicted yield 0.1839364469051361 T/ha // Real yield 0.07500000298023224 T/ha\n",
            "654) Predicted yield 1.0585509538650513 T/ha // Real yield 1.0 T/ha\n",
            "655) Predicted yield 1.0922964811325073 T/ha // Real yield 1.3333333730697632 T/ha\n",
            "656) Predicted yield 0.05736607685685158 T/ha // Real yield 0.10000000149011612 T/ha\n",
            "657) Predicted yield 0.7829198241233826 T/ha // Real yield 0.6000000238418579 T/ha\n",
            "658) Predicted yield 0.7539856433868408 T/ha // Real yield 0.75 T/ha\n",
            "659) Predicted yield 0.4346509277820587 T/ha // Real yield 0.20000000298023224 T/ha\n",
            "660) Predicted yield 1.0152758359909058 T/ha // Real yield 1.0399999618530273 T/ha\n",
            "661) Predicted yield 0.1574442833662033 T/ha // Real yield 0.02500000037252903 T/ha\n",
            "662) Predicted yield 0.416109174489975 T/ha // Real yield 0.5 T/ha\n",
            "663) Predicted yield 0.3789065182209015 T/ha // Real yield 0.4000000059604645 T/ha\n",
            "664) Predicted yield 0.5437611937522888 T/ha // Real yield 0.6000000238418579 T/ha\n",
            "665) Predicted yield 0.32871782779693604 T/ha // Real yield 0.20000000298023224 T/ha\n",
            "666) Predicted yield 0.33325958251953125 T/ha // Real yield 0.30000001192092896 T/ha\n",
            "667) Predicted yield 1.2435816526412964 T/ha // Real yield 0.550000011920929 T/ha\n",
            "668) Predicted yield 0.2514868974685669 T/ha // Real yield 0.33000001311302185 T/ha\n",
            "669) Predicted yield 1.9455204010009766 T/ha // Real yield 0.7142857313156128 T/ha\n",
            "670) Predicted yield 1.1789417266845703 T/ha // Real yield 0.4000000059604645 T/ha\n",
            "671) Predicted yield 0.7097545862197876 T/ha // Real yield 0.6000000238418579 T/ha\n",
            "672) Predicted yield 0.43839776515960693 T/ha // Real yield 1.0 T/ha\n",
            "673) Predicted yield 0.18609128892421722 T/ha // Real yield 0.20000000298023224 T/ha\n",
            "674) Predicted yield 0.25013279914855957 T/ha // Real yield 0.25 T/ha\n",
            "675) Predicted yield 0.6277442574501038 T/ha // Real yield 2.799999952316284 T/ha\n",
            "676) Predicted yield 2.077838897705078 T/ha // Real yield 2.1500000953674316 T/ha\n",
            "677) Predicted yield 0.8950841426849365 T/ha // Real yield 0.9090909361839294 T/ha\n",
            "678) Predicted yield 2.0128095149993896 T/ha // Real yield 2.5 T/ha\n",
            "679) Predicted yield 1.3283764123916626 T/ha // Real yield 1.649999976158142 T/ha\n",
            "680) Predicted yield 1.1437067985534668 T/ha // Real yield 1.5 T/ha\n",
            "681) Predicted yield 1.4409286975860596 T/ha // Real yield 1.5 T/ha\n",
            "682) Predicted yield 0.24238543212413788 T/ha // Real yield 0.6000000238418579 T/ha\n",
            "683) Predicted yield 0.574279248714447 T/ha // Real yield 0.5249999761581421 T/ha\n",
            "684) Predicted yield 1.5845398902893066 T/ha // Real yield 2.0 T/ha\n",
            "685) Predicted yield 0.5738481879234314 T/ha // Real yield 0.574999988079071 T/ha\n",
            "686) Predicted yield 0.47219470143318176 T/ha // Real yield 0.20000000298023224 T/ha\n",
            "687) Predicted yield 0.3660460412502289 T/ha // Real yield 0.20000000298023224 T/ha\n",
            "688) Predicted yield 0.7562933564186096 T/ha // Real yield 0.75 T/ha\n",
            "689) Predicted yield 0.1953837275505066 T/ha // Real yield 0.4000000059604645 T/ha\n",
            "690) Predicted yield 0.27541863918304443 T/ha // Real yield 0.3400000035762787 T/ha\n",
            "691) Predicted yield 0.24834060668945312 T/ha // Real yield 0.15000000596046448 T/ha\n",
            "692) Predicted yield 0.6853669881820679 T/ha // Real yield 1.0 T/ha\n",
            "693) Predicted yield 0.8353908061981201 T/ha // Real yield 0.375 T/ha\n",
            "694) Predicted yield 0.05900122970342636 T/ha // Real yield 0.13230769336223602 T/ha\n",
            "695) Predicted yield 0.5566454529762268 T/ha // Real yield 0.6000000238418579 T/ha\n",
            "696) Predicted yield 0.17538905143737793 T/ha // Real yield 0.2800000011920929 T/ha\n",
            "697) Predicted yield 0.272580623626709 T/ha // Real yield 0.30000001192092896 T/ha\n",
            "698) Predicted yield 0.5022424459457397 T/ha // Real yield 0.6666666865348816 T/ha\n",
            "699) Predicted yield 0.8184320330619812 T/ha // Real yield 1.0 T/ha\n",
            "700) Predicted yield 0.7269120216369629 T/ha // Real yield 0.7692307829856873 T/ha\n",
            "701) Predicted yield 0.08755814284086227 T/ha // Real yield 0.10000000149011612 T/ha\n",
            "702) Predicted yield -0.0053725349716842175 T/ha // Real yield 0.0625 T/ha\n",
            "703) Predicted yield 1.1902934312820435 T/ha // Real yield 1.0 T/ha\n",
            "704) Predicted yield 0.662982702255249 T/ha // Real yield 1.399999976158142 T/ha\n",
            "705) Predicted yield 2.045713424682617 T/ha // Real yield 2.25 T/ha\n",
            "706) Predicted yield 0.08675163239240646 T/ha // Real yield 0.05000000074505806 T/ha\n",
            "707) Predicted yield 2.0050041675567627 T/ha // Real yield 2.5 T/ha\n",
            "708) Predicted yield 1.1612578630447388 T/ha // Real yield 0.699999988079071 T/ha\n",
            "709) Predicted yield 0.6405259966850281 T/ha // Real yield 0.6666666865348816 T/ha\n",
            "710) Predicted yield 0.9196586608886719 T/ha // Real yield 0.75 T/ha\n",
            "711) Predicted yield 1.073991298675537 T/ha // Real yield 0.00044999999227002263 T/ha\n",
            "712) Predicted yield 0.5026178956031799 T/ha // Real yield 0.800000011920929 T/ha\n",
            "713) Predicted yield 0.11515498161315918 T/ha // Real yield 0.5833333134651184 T/ha\n",
            "714) Predicted yield 0.5599107146263123 T/ha // Real yield 0.15000000596046448 T/ha\n",
            "715) Predicted yield 0.8917443752288818 T/ha // Real yield 1.0 T/ha\n",
            "716) Predicted yield 0.46061190962791443 T/ha // Real yield 0.5 T/ha\n",
            "717) Predicted yield 0.34249261021614075 T/ha // Real yield 1.0 T/ha\n",
            "718) Predicted yield 0.3768906891345978 T/ha // Real yield 0.5 T/ha\n",
            "719) Predicted yield 0.6763250827789307 T/ha // Real yield 0.4333333373069763 T/ha\n",
            "720) Predicted yield 0.5771582126617432 T/ha // Real yield 0.6000000238418579 T/ha\n",
            "721) Predicted yield 1.2098208665847778 T/ha // Real yield 1.0 T/ha\n",
            "722) Predicted yield 0.42671653628349304 T/ha // Real yield 0.46666666865348816 T/ha\n",
            "723) Predicted yield 1.1788393259048462 T/ha // Real yield 1.2000000476837158 T/ha\n",
            "724) Predicted yield 0.2747402489185333 T/ha // Real yield 0.013333333656191826 T/ha\n",
            "725) Predicted yield 0.3188183307647705 T/ha // Real yield 0.10000000149011612 T/ha\n",
            "726) Predicted yield 0.9763307571411133 T/ha // Real yield 1.1399999856948853 T/ha\n",
            "727) Predicted yield 0.06651738286018372 T/ha // Real yield 0.0625 T/ha\n",
            "728) Predicted yield 1.2880492210388184 T/ha // Real yield 1.5 T/ha\n",
            "729) Predicted yield 0.855214536190033 T/ha // Real yield 1.0 T/ha\n",
            "730) Predicted yield 0.7173847556114197 T/ha // Real yield 0.800000011920929 T/ha\n",
            "731) Predicted yield 0.10840170830488205 T/ha // Real yield 0.800000011920929 T/ha\n",
            "732) Predicted yield 1.4589885473251343 T/ha // Real yield 1.5 T/ha\n",
            "733) Predicted yield 0.08929046988487244 T/ha // Real yield 0.10000000149011612 T/ha\n",
            "734) Predicted yield 0.36433202028274536 T/ha // Real yield 0.3333333432674408 T/ha\n",
            "735) Predicted yield 0.23787403106689453 T/ha // Real yield 0.30000001192092896 T/ha\n",
            "736) Predicted yield 3.2434446811676025 T/ha // Real yield 3.200000047683716 T/ha\n",
            "737) Predicted yield 1.0082825422286987 T/ha // Real yield 1.100000023841858 T/ha\n",
            "738) Predicted yield 1.0222631692886353 T/ha // Real yield 2.0 T/ha\n",
            "739) Predicted yield 0.9784625768661499 T/ha // Real yield 1.0 T/ha\n",
            "740) Predicted yield 0.22935667634010315 T/ha // Real yield 0.15000000596046448 T/ha\n",
            "741) Predicted yield 0.7816207408905029 T/ha // Real yield 0.75 T/ha\n",
            "742) Predicted yield 0.49634626507759094 T/ha // Real yield 0.800000011920929 T/ha\n",
            "743) Predicted yield 1.2156898975372314 T/ha // Real yield 0.0020000000949949026 T/ha\n",
            "744) Predicted yield 0.9561512470245361 T/ha // Real yield 1.0 T/ha\n",
            "745) Predicted yield 0.37378108501434326 T/ha // Real yield 0.30000001192092896 T/ha\n",
            "746) Predicted yield 0.41661444306373596 T/ha // Real yield 0.5 T/ha\n",
            "747) Predicted yield 0.3332096338272095 T/ha // Real yield 0.47999998927116394 T/ha\n",
            "748) Predicted yield 1.225751519203186 T/ha // Real yield 0.75 T/ha\n",
            "749) Predicted yield 1.2810434103012085 T/ha // Real yield 1.5 T/ha\n",
            "750) Predicted yield 0.43086493015289307 T/ha // Real yield 0.30000001192092896 T/ha\n",
            "751) Predicted yield 0.30469125509262085 T/ha // Real yield 0.2199999988079071 T/ha\n",
            "752) Predicted yield 1.0790907144546509 T/ha // Real yield 1.2999999523162842 T/ha\n",
            "753) Predicted yield 0.5224197506904602 T/ha // Real yield 0.7692307829856873 T/ha\n",
            "754) Predicted yield 0.6305496096611023 T/ha // Real yield 0.4000000059604645 T/ha\n",
            "755) Predicted yield 0.5791267156600952 T/ha // Real yield 0.5 T/ha\n",
            "756) Predicted yield 0.3382008969783783 T/ha // Real yield 0.4000000059604645 T/ha\n",
            "757) Predicted yield 4.500054836273193 T/ha // Real yield 4.0 T/ha\n",
            "758) Predicted yield 1.3102335929870605 T/ha // Real yield 1.0 T/ha\n",
            "759) Predicted yield 0.5932694673538208 T/ha // Real yield 0.10000000149011612 T/ha\n",
            "760) Predicted yield 0.6234996318817139 T/ha // Real yield 0.800000011920929 T/ha\n",
            "761) Predicted yield 1.799672245979309 T/ha // Real yield 2.0 T/ha\n",
            "762) Predicted yield 0.14290504157543182 T/ha // Real yield 0.20000000298023224 T/ha\n",
            "763) Predicted yield 0.39769840240478516 T/ha // Real yield 0.30000001192092896 T/ha\n",
            "764) Predicted yield 0.28721046447753906 T/ha // Real yield 0.6000000238418579 T/ha\n",
            "765) Predicted yield 0.1594778299331665 T/ha // Real yield 0.10000000149011612 T/ha\n",
            "766) Predicted yield 1.7126034498214722 T/ha // Real yield 2.0 T/ha\n"
          ],
          "name": "stdout"
        }
      ]
    }
  ]
}
