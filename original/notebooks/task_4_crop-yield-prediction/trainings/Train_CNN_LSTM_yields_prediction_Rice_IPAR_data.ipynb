{
  "nbformat": 4,
  "nbformat_minor": 0,
  "metadata": {
    "colab": {
      "name": "Train_CNN_LSTM_yields_prediction_Rice_IPAR_data.ipynb",
      "provenance": [],
      "collapsed_sections": [
        "m6dMZFse1gRB",
        "uZcNjIgc062v",
        "wbRPWecH2XHD",
        "wXlekjHS2mI5"
      ],
      "toc_visible": true
    },
    "kernelspec": {
      "display_name": "Python 3",
      "name": "python3"
    }
  },
  "cells": [
    {
      "cell_type": "markdown",
      "metadata": {
        "id": "kg2bj16FzFAh"
      },
      "source": [
        "# This notebook trains and predict crop yields using 32 bins histograms "
      ]
    },
    {
      "cell_type": "code",
      "metadata": {
        "id": "Rzq1mWcpzcf4",
        "colab": {
          "base_uri": "https://localhost:8080/"
        },
        "outputId": "74002347-0062-4a68-b092-8ccd9efdcc43"
      },
      "source": [
        "!pip install Hub"
      ],
      "execution_count": 1,
      "outputs": [
        {
          "output_type": "stream",
          "text": [
            "Requirement already satisfied: Hub in /usr/local/lib/python3.6/dist-packages (1.1.3)\n",
            "Requirement already satisfied: boto3==1.16.39 in /usr/local/lib/python3.6/dist-packages (from Hub) (1.16.39)\n",
            "Requirement already satisfied: requests<3,>=2 in /usr/local/lib/python3.6/dist-packages (from Hub) (2.23.0)\n",
            "Requirement already satisfied: s3fs==0.4.2 in /usr/local/lib/python3.6/dist-packages (from Hub) (0.4.2)\n",
            "Requirement already satisfied: numpy<2,>=1.13.0 in /usr/local/lib/python3.6/dist-packages (from Hub) (1.19.5)\n",
            "Requirement already satisfied: outdated==0.2.0 in /usr/local/lib/python3.6/dist-packages (from Hub) (0.2.0)\n",
            "Requirement already satisfied: Pillow>=8.0.1 in /usr/local/lib/python3.6/dist-packages (from Hub) (8.1.0)\n",
            "Requirement already satisfied: psutil>=5.7.3 in /usr/local/lib/python3.6/dist-packages (from Hub) (5.8.0)\n",
            "Requirement already satisfied: zarr==2.6.1 in /usr/local/lib/python3.6/dist-packages (from Hub) (2.6.1)\n",
            "Requirement already satisfied: click<8,>=6.7 in /usr/local/lib/python3.6/dist-packages (from Hub) (7.1.2)\n",
            "Requirement already satisfied: lz4<4,>=3 in /usr/local/lib/python3.6/dist-packages (from Hub) (3.1.1)\n",
            "Requirement already satisfied: pathos>=0.2.2 in /usr/local/lib/python3.6/dist-packages (from Hub) (0.2.7)\n",
            "Requirement already satisfied: fsspec==0.8.5 in /usr/local/lib/python3.6/dist-packages (from Hub) (0.8.5)\n",
            "Requirement already satisfied: azure-storage-blob==12.6.0 in /usr/local/lib/python3.6/dist-packages (from Hub) (12.6.0)\n",
            "Requirement already satisfied: gcsfs==0.6.2 in /usr/local/lib/python3.6/dist-packages (from Hub) (0.6.2)\n",
            "Requirement already satisfied: tqdm==4.54.1 in /usr/local/lib/python3.6/dist-packages (from Hub) (4.54.1)\n",
            "Requirement already satisfied: cachey==0.2.1 in /usr/local/lib/python3.6/dist-packages (from Hub) (0.2.1)\n",
            "Requirement already satisfied: jmespath<1.0.0,>=0.7.1 in /usr/local/lib/python3.6/dist-packages (from boto3==1.16.39->Hub) (0.10.0)\n",
            "Requirement already satisfied: s3transfer<0.4.0,>=0.3.0 in /usr/local/lib/python3.6/dist-packages (from boto3==1.16.39->Hub) (0.3.4)\n",
            "Requirement already satisfied: botocore<1.20.0,>=1.19.39 in /usr/local/lib/python3.6/dist-packages (from boto3==1.16.39->Hub) (1.19.55)\n",
            "Requirement already satisfied: certifi>=2017.4.17 in /usr/local/lib/python3.6/dist-packages (from requests<3,>=2->Hub) (2020.12.5)\n",
            "Requirement already satisfied: chardet<4,>=3.0.2 in /usr/local/lib/python3.6/dist-packages (from requests<3,>=2->Hub) (3.0.4)\n",
            "Requirement already satisfied: urllib3!=1.25.0,!=1.25.1,<1.26,>=1.21.1 in /usr/local/lib/python3.6/dist-packages (from requests<3,>=2->Hub) (1.24.3)\n",
            "Requirement already satisfied: idna<3,>=2.5 in /usr/local/lib/python3.6/dist-packages (from requests<3,>=2->Hub) (2.10)\n",
            "Requirement already satisfied: littleutils in /usr/local/lib/python3.6/dist-packages (from outdated==0.2.0->Hub) (0.2.2)\n",
            "Requirement already satisfied: asciitree in /usr/local/lib/python3.6/dist-packages (from zarr==2.6.1->Hub) (0.3.3)\n",
            "Requirement already satisfied: fasteners in /usr/local/lib/python3.6/dist-packages (from zarr==2.6.1->Hub) (0.16)\n",
            "Requirement already satisfied: numcodecs>=0.6.4 in /usr/local/lib/python3.6/dist-packages (from zarr==2.6.1->Hub) (0.7.2)\n",
            "Requirement already satisfied: dill>=0.3.3 in /usr/local/lib/python3.6/dist-packages (from pathos>=0.2.2->Hub) (0.3.3)\n",
            "Requirement already satisfied: pox>=0.2.9 in /usr/local/lib/python3.6/dist-packages (from pathos>=0.2.2->Hub) (0.2.9)\n",
            "Requirement already satisfied: ppft>=1.6.6.3 in /usr/local/lib/python3.6/dist-packages (from pathos>=0.2.2->Hub) (1.6.6.3)\n",
            "Requirement already satisfied: multiprocess>=0.70.11 in /usr/local/lib/python3.6/dist-packages (from pathos>=0.2.2->Hub) (0.70.11.1)\n",
            "Requirement already satisfied: msrest>=0.6.10 in /usr/local/lib/python3.6/dist-packages (from azure-storage-blob==12.6.0->Hub) (0.6.19)\n",
            "Requirement already satisfied: cryptography>=2.1.4 in /usr/local/lib/python3.6/dist-packages (from azure-storage-blob==12.6.0->Hub) (3.3.1)\n",
            "Requirement already satisfied: azure-core<2.0.0,>=1.9.0 in /usr/local/lib/python3.6/dist-packages (from azure-storage-blob==12.6.0->Hub) (1.10.0)\n",
            "Requirement already satisfied: google-auth-oauthlib in /usr/local/lib/python3.6/dist-packages (from gcsfs==0.6.2->Hub) (0.4.2)\n",
            "Requirement already satisfied: decorator in /usr/local/lib/python3.6/dist-packages (from gcsfs==0.6.2->Hub) (4.4.2)\n",
            "Requirement already satisfied: google-auth>=1.2 in /usr/local/lib/python3.6/dist-packages (from gcsfs==0.6.2->Hub) (1.17.2)\n",
            "Requirement already satisfied: heapdict in /usr/local/lib/python3.6/dist-packages (from cachey==0.2.1->Hub) (1.0.1)\n",
            "Requirement already satisfied: python-dateutil<3.0.0,>=2.1 in /usr/local/lib/python3.6/dist-packages (from botocore<1.20.0,>=1.19.39->boto3==1.16.39->Hub) (2.8.1)\n",
            "Requirement already satisfied: six in /usr/local/lib/python3.6/dist-packages (from fasteners->zarr==2.6.1->Hub) (1.15.0)\n",
            "Requirement already satisfied: isodate>=0.6.0 in /usr/local/lib/python3.6/dist-packages (from msrest>=0.6.10->azure-storage-blob==12.6.0->Hub) (0.6.0)\n",
            "Requirement already satisfied: requests-oauthlib>=0.5.0 in /usr/local/lib/python3.6/dist-packages (from msrest>=0.6.10->azure-storage-blob==12.6.0->Hub) (1.3.0)\n",
            "Requirement already satisfied: cffi>=1.12 in /usr/local/lib/python3.6/dist-packages (from cryptography>=2.1.4->azure-storage-blob==12.6.0->Hub) (1.14.4)\n",
            "Requirement already satisfied: cachetools<5.0,>=2.0.0 in /usr/local/lib/python3.6/dist-packages (from google-auth>=1.2->gcsfs==0.6.2->Hub) (4.2.0)\n",
            "Requirement already satisfied: rsa<5,>=3.1.4; python_version >= \"3\" in /usr/local/lib/python3.6/dist-packages (from google-auth>=1.2->gcsfs==0.6.2->Hub) (4.6)\n",
            "Requirement already satisfied: pyasn1-modules>=0.2.1 in /usr/local/lib/python3.6/dist-packages (from google-auth>=1.2->gcsfs==0.6.2->Hub) (0.2.8)\n",
            "Requirement already satisfied: setuptools>=40.3.0 in /usr/local/lib/python3.6/dist-packages (from google-auth>=1.2->gcsfs==0.6.2->Hub) (51.1.1)\n",
            "Requirement already satisfied: oauthlib>=3.0.0 in /usr/local/lib/python3.6/dist-packages (from requests-oauthlib>=0.5.0->msrest>=0.6.10->azure-storage-blob==12.6.0->Hub) (3.1.0)\n",
            "Requirement already satisfied: pycparser in /usr/local/lib/python3.6/dist-packages (from cffi>=1.12->cryptography>=2.1.4->azure-storage-blob==12.6.0->Hub) (2.20)\n",
            "Requirement already satisfied: pyasn1>=0.1.3 in /usr/local/lib/python3.6/dist-packages (from rsa<5,>=3.1.4; python_version >= \"3\"->google-auth>=1.2->gcsfs==0.6.2->Hub) (0.4.8)\n"
          ],
          "name": "stdout"
        }
      ]
    },
    {
      "cell_type": "code",
      "metadata": {
        "colab": {
          "base_uri": "https://localhost:8080/",
          "height": 52
        },
        "id": "vi6ltr2iu70m",
        "outputId": "bb44c2cd-8f54-4dfd-e77f-af07c72928e6"
      },
      "source": [
        "import tensorflow as tf\n",
        "from hub import Dataset\n",
        "from tensorflow.keras import datasets, layers, models\n",
        "import matplotlib.pyplot as plt\n",
        "import numpy as np\n",
        "import os\n",
        "print(tf.__version__)\n",
        "# check if notebook is using GPU\n",
        "tf.test.gpu_device_name()"
      ],
      "execution_count": 2,
      "outputs": [
        {
          "output_type": "stream",
          "text": [
            "2.4.0\n"
          ],
          "name": "stdout"
        },
        {
          "output_type": "execute_result",
          "data": {
            "application/vnd.google.colaboratory.intrinsic+json": {
              "type": "string"
            },
            "text/plain": [
              "''"
            ]
          },
          "metadata": {
            "tags": []
          },
          "execution_count": 2
        }
      ]
    },
    {
      "cell_type": "markdown",
      "metadata": {
        "id": "m6dMZFse1gRB"
      },
      "source": [
        "### Functions"
      ]
    },
    {
      "cell_type": "markdown",
      "metadata": {
        "id": "1IHucShqzsuT"
      },
      "source": [
        "### Load data from ActiveLoop"
      ]
    },
    {
      "cell_type": "code",
      "metadata": {
        "colab": {
          "base_uri": "https://localhost:8080/"
        },
        "id": "rGrhNPjfzX5Y",
        "outputId": "aca763e7-b671-4c03-d91d-b5ac6c510336"
      },
      "source": [
        "crop_type = 'rice'\n",
        "\n",
        "print(\"Load data from ActiveLoop ...\")\n",
        "\n",
        "###### MAIZE ########\n",
        "if crop_type.lower() == 'maize':\n",
        "  tag1 = \"margauxmforsythe/SouthSudan_departments_histograms_weeks_19_30_Maize\" # 2010, 2011, 2014, 2015\n",
        "  tag2 = \"margauxmforsythe/Ethiopia_histograms_weeks_19_30_Maize\" # 2004, 2013, 2015, 2016\n",
        "\n",
        "  tag3 = \"margauxmforsythe/Senegal_IPAR_histograms_weeks_19_30_Maize\"\n",
        "\n",
        "  ds1 = Dataset(tag1)\n",
        "  ds2 = Dataset(tag2)\n",
        "  ds3 = Dataset(tag3)\n",
        "  \n",
        "  print(\"Dataset {} shape:\".format(tag1, ds1[\"histograms\"].compute().shape))\n",
        "  print(\"Dataset {} shape:\".format(ds2[\"histograms\"].compute().shape))\n",
        "\n",
        "  histograms = np.concatenate((ds1[\"histograms\"].compute(), ds2[\"histograms\"].compute(), ds3[\"histograms\"].compute()), axis=0)\n",
        "  yields_list = np.concatenate((ds1[\"yields\"].compute(), ds2[\"yields\"].compute(), ds3[\"yields\"].compute()), axis=0)\n",
        "\n",
        "  print(\"Datasets combined, histograms set's shape is {}\".format(histograms.shape))\n",
        "  print(\"Data loaded from {}, {} and {}\".format(tag1, tag2, tag3))\n",
        "\n",
        "###### RICE ########\n",
        "if crop_type.lower() == 'rice':\n",
        "  # tag1 = \"margauxmforsythe/Senegal_histograms_weeks_19_30_rice_winter\" \n",
        "  # tag2 = \"margauxmforsythe/Senegal_histograms_weeks_19_30_augmented_Rice_CSC\"\n",
        "  tag1 = \"margauxmforsythe/Senegal_histograms_weeks_19_30_rice_winter\"\n",
        "  tag2 = \"margauxmforsythe/Senegal_histograms_weeks_19_30_rice_CSC\"\n",
        "\n",
        "  ds1 = Dataset(tag1)\n",
        "  ds2 = Dataset(tag2)\n",
        "  print(ds1[\"histograms\"].compute().shape)\n",
        "  print(ds2[\"histograms\"].compute().shape)\n",
        "  histograms = np.concatenate((ds1[\"histograms\"].compute(), ds2[\"histograms\"].compute()), axis=0)\n",
        "  yields_list = np.concatenate((ds1[\"yields\"].compute(), ds2[\"yields\"].compute()), axis=0)\n",
        "  print(histograms.shape)\n",
        "  print(\"Data loaded from {} and {}\".format(tag1, tag2))\n",
        "  \n",
        "###### MILLET ########\n",
        "if crop_type.lower() == 'millet':\n",
        "  tag = \"margauxmforsythe/Senegal_IPAR_histograms_weeks_21_30_Millet\"\n",
        "  # tag = \"margauxmforsythe/Senegal_IPAR_histograms_weeks_21_30_Millet_augmented\"\n",
        "  ds = Dataset(tag)\n",
        "  histograms = ds[\"histograms\"].compute()\n",
        "  yields_list = ds[\"yields\"].compute()\n",
        "\n",
        "  print(\"Data loaded from {}\".format(tag))\n",
        "\n",
        "if crop_type.lower() != 'millet' and crop_type.lower() != 'maize' and crop_type.lower() != 'rice': \n",
        "  print(\"Please choose a crop type between maize and millet\")\n",
        "\n",
        "yields = []\n",
        "for i in range(0,len(yields_list)):\n",
        "    yields.append(float(yields_list[i][0]))\n",
        "\n",
        "print(\"There are {} yield values for training \".format(len(yields)))"
      ],
      "execution_count": 3,
      "outputs": [
        {
          "output_type": "stream",
          "text": [
            "Load data from ActiveLoop ...\n",
            "(190, 32, 11, 9)\n",
            "(134, 32, 11, 9)\n",
            "(324, 32, 11, 9)\n",
            "Data loaded from margauxmforsythe/Senegal_histograms_weeks_19_30_rice_winter and margauxmforsythe/Senegal_histograms_weeks_19_30_rice_CSC\n",
            "There are 324 yield values for training \n"
          ],
          "name": "stdout"
        }
      ]
    },
    {
      "cell_type": "code",
      "metadata": {
        "colab": {
          "base_uri": "https://localhost:8080/"
        },
        "id": "6WR_Allmzwag",
        "outputId": "e9358e39-f0d6-4f47-9c8c-c106356962b8"
      },
      "source": [
        "# Get image width, height and channels from the dataset\n",
        "img_width = histograms[0].shape[0]\n",
        "img_height = histograms[0].shape[1]\n",
        "batch_size = 16\n",
        "channels = histograms[0].shape[2]\n",
        "shape = (img_width, img_height, channels)\n",
        "print(\"Shape input images: {}\".format(shape)) # (bins*time steps*bands)\n",
        "\n",
        "image_count = histograms.shape[0]\n",
        "print(\"Image count: {}\".format(image_count))\n",
        "CNN_LSTM = True\n",
        "\n",
        "# With CNN_LSTM, we need to re arrange the data to (time steps*1*bins*bands)\n",
        "if CNN_LSTM:\n",
        "  histograms_CNN_LSTM = []\n",
        "  for i in range(image_count):\n",
        "    histogram_all_timestamps_transposed = np.transpose(histograms[i], (1,0,2))\n",
        "    timestamps = []\n",
        "    for j in range(histograms[i].shape[1]): # going through all timestamps\n",
        "      timestamps.append(np.expand_dims(histogram_all_timestamps_transposed[j], axis=0))\n",
        "    histograms_CNN_LSTM.append(timestamps)\n",
        "  histograms = histograms_CNN_LSTM\n"
      ],
      "execution_count": 4,
      "outputs": [
        {
          "output_type": "stream",
          "text": [
            "Shape input images: (32, 11, 9)\n",
            "Image count: 324\n"
          ],
          "name": "stdout"
        }
      ]
    },
    {
      "cell_type": "code",
      "metadata": {
        "colab": {
          "base_uri": "https://localhost:8080/"
        },
        "id": "-og9rmkanr-B",
        "outputId": "d900dc36-8930-4048-e9ea-6facf8b5061b"
      },
      "source": [
        "assert len(histograms) == len(yields)\n",
        "list_ds = tf.data.Dataset.from_tensor_slices((histograms, yields))\n",
        "print(\"Total files: {}\".format(image_count))"
      ],
      "execution_count": 5,
      "outputs": [
        {
          "output_type": "stream",
          "text": [
            "Total files: 324\n"
          ],
          "name": "stdout"
        }
      ]
    },
    {
      "cell_type": "code",
      "metadata": {
        "colab": {
          "base_uri": "https://localhost:8080/"
        },
        "id": "YyXwhFcB0UJ5",
        "outputId": "89cc20b1-d1a3-44e1-8577-2fb072a9678e"
      },
      "source": [
        "train_size = int(0.8 * image_count)\n",
        "val_size = int(0.1 * image_count)\n",
        "test_size = int(0.1 * image_count)\n",
        "\n",
        "list_ds = list_ds.shuffle(len(list_ds))\n",
        "test_ds = list_ds.take(test_size)\n",
        "train_ds = list_ds.skip(test_size)\n",
        "val_ds = train_ds.take(val_size)\n",
        "train_ds = train_ds.skip(val_size)\n",
        "\n",
        "n_training_files = len(train_ds)\n",
        "print(\"Total files: {}\".format(len(histograms)))\n",
        "print(\"Training files: {}\".format(len(train_ds)))\n",
        "print(\"Validation files: {}\".format(len(val_ds)))\n",
        "\n",
        "AUTOTUNE = tf.data.experimental.AUTOTUNE\n",
        "train_ds = train_ds.cache()\n",
        "train_ds = train_ds.shuffle(len(train_ds)).repeat()\n",
        "train_ds = train_ds.batch(batch_size)\n",
        "\n",
        "val_ds = val_ds.cache()\n",
        "val_ds = val_ds.shuffle(val_size)\n",
        "val_ds = val_ds.batch(val_size)\n",
        "\n",
        "test_ds = test_ds.cache()\n",
        "test_ds = test_ds.batch(len(test_ds))"
      ],
      "execution_count": 6,
      "outputs": [
        {
          "output_type": "stream",
          "text": [
            "Total files: 324\n",
            "Training files: 260\n",
            "Validation files: 32\n"
          ],
          "name": "stdout"
        }
      ]
    },
    {
      "cell_type": "markdown",
      "metadata": {
        "id": "VntC-wWZ0x0C"
      },
      "source": [
        "### Display first band images in batch to check the data is correct"
      ]
    },
    {
      "cell_type": "code",
      "metadata": {
        "colab": {
          "base_uri": "https://localhost:8080/"
        },
        "id": "tNC6jYQpZb4w",
        "outputId": "5a6e5f02-b6ac-4750-99e2-fe14f77c2625"
      },
      "source": [
        "image_batch_train, label_batch_train = next(iter(train_ds))\n",
        "image_batch_val, label_batch_val= next(iter(val_ds))\n",
        "image_batch_test, label_batch_test= next(iter(test_ds))\n",
        "\n",
        "print(image_batch_train.shape)\n",
        "if not CNN_LSTM:\n",
        "  # Check if images are correct\n",
        "  plt.figure(figsize=(10, 10))\n",
        "  plt.suptitle(\"all bands first image\")\n",
        "  for i in range(9):\n",
        "    ax = plt.subplot(3, 3, i + 1)\n",
        "    plt.imshow(image_batch_train[0][:,:,i].numpy())\n",
        "    label = label_batch_train[0]\n",
        "    plt.title(label.numpy())\n",
        "    plt.axis(\"off\")\n",
        "\n",
        "  plt.show()\n",
        "else:\n",
        "  input_shape_cnn_lstm = (image_batch_train.shape[1], image_batch_train.shape[2], \n",
        "                          image_batch_train.shape[3], image_batch_train.shape[4])\n",
        "  print(\"input_shape_cnn_lstm: {} = (timestamps*1*bins*bands)\".format(input_shape_cnn_lstm))\n",
        "  input_shape_cnn = (image_batch_train.shape[2], image_batch_train.shape[3], image_batch_train.shape[4])\n",
        "  print(\"input_shape_cnn: {} = (1*bins*bands)\".format(input_shape_cnn))"
      ],
      "execution_count": 7,
      "outputs": [
        {
          "output_type": "stream",
          "text": [
            "(16, 11, 1, 32, 9)\n",
            "input_shape_cnn_lstm: (11, 1, 32, 9) = (timestamps*1*bins*bands)\n",
            "input_shape_cnn: (1, 32, 9) = (1*bins*bands)\n"
          ],
          "name": "stdout"
        }
      ]
    },
    {
      "cell_type": "code",
      "metadata": {
        "colab": {
          "base_uri": "https://localhost:8080/",
          "height": 353
        },
        "id": "zjBe-37DlBYy",
        "outputId": "c7b6e7ec-622c-453c-ea07-17de06bdddc0"
      },
      "source": [
        "indexes_list = []\n",
        "for i in range(len(yields)):\n",
        "  indexes_list.append(i)\n",
        "\n",
        "plt.figure(figsize=(7,5))\n",
        "plt.title(\"Plot yields (T/ha) in the dataset\")\n",
        "plt.bar(indexes_list, yields)"
      ],
      "execution_count": 8,
      "outputs": [
        {
          "output_type": "execute_result",
          "data": {
            "text/plain": [
              "<BarContainer object of 324 artists>"
            ]
          },
          "metadata": {
            "tags": []
          },
          "execution_count": 8
        },
        {
          "output_type": "display_data",
          "data": {
            "image/png": "[encoded data removed]",
            "text/plain": [
              "<Figure size 504x360 with 1 Axes>"
            ]
          },
          "metadata": {
            "tags": [],
            "needs_background": "light"
          }
        }
      ]
    },
    {
      "cell_type": "markdown",
      "metadata": {
        "id": "uZcNjIgc062v"
      },
      "source": [
        "## Build Model: CNN-LSTM"
      ]
    },
    {
      "cell_type": "code",
      "metadata": {
        "colab": {
          "base_uri": "https://localhost:8080/"
        },
        "id": "6YCeEK3ec9_W",
        "outputId": "3558e52e-c3aa-4a0b-d769-fe8552fd0731"
      },
      "source": [
        "if CNN_LSTM:\n",
        "  # CNN-LSTM \n",
        "  # https://www.mdpi.com/1424-8220/19/20/4363/htm\n",
        "  from keras.layers.wrappers import TimeDistributed\n",
        "  from keras.layers import *\n",
        "  from keras import regularizers\n",
        "  model=models.Sequential()\n",
        "\n",
        "  model.add(TimeDistributed(Conv2D(32, (1, 2), activation='relu',\n",
        "                                   kernel_regularizer=regularizers.l2(0.001),\n",
        "                                   input_shape=(input_shape_cnn)), input_shape=input_shape_cnn_lstm))\n",
        "  model.add(TimeDistributed(BatchNormalization()))\n",
        "  model.add(TimeDistributed(MaxPooling2D(pool_size=(1, 2))))\n",
        "\n",
        "  model.add(TimeDistributed(Conv2D(64, (1, 2), activation='relu',\n",
        "                                   kernel_regularizer=regularizers.l2(0.001))))\n",
        "  model.add(TimeDistributed(BatchNormalization()))\n",
        "  model.add(TimeDistributed(MaxPooling2D(pool_size=(1, 2))))\n",
        "\n",
        "  model.add(TimeDistributed(Flatten()))\n",
        "  model.add(LSTM(256, return_sequences=True, activation='relu', dropout=0.25));\n",
        "\n",
        "  model.add(TimeDistributed(Dense(64)))\n",
        "  model.add(TimeDistributed(Flatten()))\n",
        "  model.add(TimeDistributed(Dropout(0.5)))\n",
        "  model.add(TimeDistributed(Dense(1)))\n",
        "  model.add(GlobalAveragePooling1D(name=\"global_avg_flow\"))\n",
        "\n",
        "  model.summary()"
      ],
      "execution_count": 9,
      "outputs": [
        {
          "output_type": "stream",
          "text": [
            "Model: \"sequential\"\n",
            "_________________________________________________________________\n",
            "Layer (type)                 Output Shape              Param #   \n",
            "=================================================================\n",
            "time_distributed (TimeDistri (None, 11, 1, 31, 32)     608       \n",
            "_________________________________________________________________\n",
            "time_distributed_1 (TimeDist (None, 11, 1, 31, 32)     128       \n",
            "_________________________________________________________________\n",
            "time_distributed_2 (TimeDist (None, 11, 1, 15, 32)     0         \n",
            "_________________________________________________________________\n",
            "time_distributed_3 (TimeDist (None, 11, 1, 14, 64)     4160      \n",
            "_________________________________________________________________\n",
            "time_distributed_4 (TimeDist (None, 11, 1, 14, 64)     256       \n",
            "_________________________________________________________________\n",
            "time_distributed_5 (TimeDist (None, 11, 1, 7, 64)      0         \n",
            "_________________________________________________________________\n",
            "time_distributed_6 (TimeDist (None, 11, 448)           0         \n",
            "_________________________________________________________________\n",
            "lstm (LSTM)                  (None, 11, 256)           721920    \n",
            "_________________________________________________________________\n",
            "time_distributed_7 (TimeDist (None, 11, 64)            16448     \n",
            "_________________________________________________________________\n",
            "time_distributed_8 (TimeDist (None, 11, 64)            0         \n",
            "_________________________________________________________________\n",
            "time_distributed_9 (TimeDist (None, 11, 64)            0         \n",
            "_________________________________________________________________\n",
            "time_distributed_10 (TimeDis (None, 11, 1)             65        \n",
            "_________________________________________________________________\n",
            "global_avg_flow (GlobalAvera (None, 1)                 0         \n",
            "=================================================================\n",
            "Total params: 743,585\n",
            "Trainable params: 743,393\n",
            "Non-trainable params: 192\n",
            "_________________________________________________________________\n"
          ],
          "name": "stdout"
        }
      ]
    },
    {
      "cell_type": "code",
      "metadata": {
        "id": "uqsFLT061KKS"
      },
      "source": [
        "initial_learning_rate = 0.00001\n",
        "\n",
        "model.compile(optimizer=tf.keras.optimizers.Adam(learning_rate=initial_learning_rate),\n",
        "              loss=tf.keras.losses.MeanSquaredError(),\n",
        "              metrics=['accuracy', tf.keras.metrics.RootMeanSquaredError(name='RMSE'), tf.keras.losses.MeanSquaredError(name='MSE')])"
      ],
      "execution_count": 10,
      "outputs": []
    },
    {
      "cell_type": "markdown",
      "metadata": {
        "id": "jBi1kz5s1XPe"
      },
      "source": [
        "### Create Callbacks for model fit"
      ]
    },
    {
      "cell_type": "code",
      "metadata": {
        "id": "I2SnL7hT1PkD"
      },
      "source": [
        "checkpoint_file = 'checkpoint_{}_b{}_CNN-LSTM_IPAR_data.h5'.format(crop_type, batch_size)\n",
        "model_checkpoint_callback = tf.keras.callbacks.ModelCheckpoint(\n",
        "    filepath= checkpoint_file,\n",
        "    format='h5',\n",
        "    verbose=1,\n",
        "    save_weights_only=True,\n",
        "    monitor='val_loss',\n",
        "    mode='min',\n",
        "    save_best_only=True)\n",
        "\n",
        "reducelronplateau = tf.keras.callbacks.ReduceLROnPlateau(\n",
        "    monitor='val_loss', factor=0.1, patience=5, verbose=1,\n",
        "    mode='min', min_lr=1e-10)\n",
        "\n",
        "early_stop = tf.keras.callbacks.EarlyStopping(monitor='val_loss',mode='min', patience=20, verbose=1)"
      ],
      "execution_count": 11,
      "outputs": []
    },
    {
      "cell_type": "markdown",
      "metadata": {
        "id": "k47yiQV61389"
      },
      "source": [
        "## Training"
      ]
    },
    {
      "cell_type": "code",
      "metadata": {
        "colab": {
          "base_uri": "https://localhost:8080/"
        },
        "id": "oTbtdYpy15Zd",
        "outputId": "8ff426dd-7e9f-4cbe-fc39-91fc6d1cc451"
      },
      "source": [
        "print(\"Train ... \")\n",
        "\n",
        "model.trainable = True\n",
        "history = model.fit(train_ds,\n",
        "                    epochs=1000,\n",
        "                    steps_per_epoch=n_training_files//batch_size,\n",
        "                    validation_data=val_ds,\n",
        "                    verbose=1,\n",
        "                    callbacks=[model_checkpoint_callback, early_stop])\n"
      ],
      "execution_count": 12,
      "outputs": [
        {
          "output_type": "stream",
          "text": [
            "Train ... \n",
            "Epoch 1/1000\n",
            "16/16 [==============================] - 4s 136ms/step - loss: 18.0257 - accuracy: 0.0133 - RMSE: 4.2321 - MSE: 17.9690 - val_loss: 24.1894 - val_accuracy: 0.0000e+00 - val_RMSE: 4.9125 - val_MSE: 24.1327\n",
            "\n",
            "Epoch 00001: val_loss improved from inf to 24.18945, saving model to checkpoint_rice_b16_CNN-LSTM_IPAR_data.h5\n",
            "Epoch 2/1000\n",
            "16/16 [==============================] - 1s 94ms/step - loss: 14.4357 - accuracy: 0.0117 - RMSE: 3.7898 - MSE: 14.3790 - val_loss: 23.9888 - val_accuracy: 0.0000e+00 - val_RMSE: 4.8920 - val_MSE: 23.9320\n",
            "\n",
            "Epoch 00002: val_loss improved from 24.18945 to 23.98877, saving model to checkpoint_rice_b16_CNN-LSTM_IPAR_data.h5\n",
            "Epoch 3/1000\n",
            "16/16 [==============================] - 2s 94ms/step - loss: 10.5999 - accuracy: 0.0096 - RMSE: 3.2439 - MSE: 10.5432 - val_loss: 23.6778 - val_accuracy: 0.0000e+00 - val_RMSE: 4.8601 - val_MSE: 23.6210\n",
            "\n",
            "Epoch 00003: val_loss improved from 23.98877 to 23.67776, saving model to checkpoint_rice_b16_CNN-LSTM_IPAR_data.h5\n",
            "Epoch 4/1000\n",
            "16/16 [==============================] - 2s 95ms/step - loss: 9.0586 - accuracy: 0.0140 - RMSE: 2.9979 - MSE: 9.0018 - val_loss: 23.3120 - val_accuracy: 0.0000e+00 - val_RMSE: 4.8224 - val_MSE: 23.2553\n",
            "\n",
            "Epoch 00004: val_loss improved from 23.67776 to 23.31202, saving model to checkpoint_rice_b16_CNN-LSTM_IPAR_data.h5\n",
            "Epoch 5/1000\n",
            "16/16 [==============================] - 2s 97ms/step - loss: 7.8499 - accuracy: 0.0049 - RMSE: 2.7889 - MSE: 7.7932 - val_loss: 22.9137 - val_accuracy: 0.0000e+00 - val_RMSE: 4.7809 - val_MSE: 22.8570\n",
            "\n",
            "Epoch 00005: val_loss improved from 23.31202 to 22.91375, saving model to checkpoint_rice_b16_CNN-LSTM_IPAR_data.h5\n",
            "Epoch 6/1000\n",
            "16/16 [==============================] - 2s 95ms/step - loss: 7.5108 - accuracy: 0.0047 - RMSE: 2.7284 - MSE: 7.4540 - val_loss: 22.4858 - val_accuracy: 0.0000e+00 - val_RMSE: 4.7359 - val_MSE: 22.4290\n",
            "\n",
            "Epoch 00006: val_loss improved from 22.91375 to 22.48577, saving model to checkpoint_rice_b16_CNN-LSTM_IPAR_data.h5\n",
            "Epoch 7/1000\n",
            "16/16 [==============================] - 2s 102ms/step - loss: 6.0061 - accuracy: 0.0176 - RMSE: 2.4370 - MSE: 5.9493 - val_loss: 22.0476 - val_accuracy: 0.0000e+00 - val_RMSE: 4.6894 - val_MSE: 21.9908\n",
            "\n",
            "Epoch 00007: val_loss improved from 22.48577 to 22.04756, saving model to checkpoint_rice_b16_CNN-LSTM_IPAR_data.h5\n",
            "Epoch 8/1000\n",
            "16/16 [==============================] - 1s 91ms/step - loss: 7.2639 - accuracy: 0.0141 - RMSE: 2.6751 - MSE: 7.2071 - val_loss: 21.5824 - val_accuracy: 0.0000e+00 - val_RMSE: 4.6396 - val_MSE: 21.5257\n",
            "\n",
            "Epoch 00008: val_loss improved from 22.04756 to 21.58238, saving model to checkpoint_rice_b16_CNN-LSTM_IPAR_data.h5\n",
            "Epoch 9/1000\n",
            "16/16 [==============================] - 1s 91ms/step - loss: 6.8913 - accuracy: 0.0086 - RMSE: 2.6109 - MSE: 6.8346 - val_loss: 21.1175 - val_accuracy: 0.0000e+00 - val_RMSE: 4.5892 - val_MSE: 21.0607\n",
            "\n",
            "Epoch 00009: val_loss improved from 21.58238 to 21.11748, saving model to checkpoint_rice_b16_CNN-LSTM_IPAR_data.h5\n",
            "Epoch 10/1000\n",
            "16/16 [==============================] - 2s 95ms/step - loss: 5.9024 - accuracy: 0.0208 - RMSE: 2.4139 - MSE: 5.8457 - val_loss: 20.6682 - val_accuracy: 0.0000e+00 - val_RMSE: 4.5400 - val_MSE: 20.6115\n",
            "\n",
            "Epoch 00010: val_loss improved from 21.11748 to 20.66820, saving model to checkpoint_rice_b16_CNN-LSTM_IPAR_data.h5\n",
            "Epoch 11/1000\n",
            "16/16 [==============================] - 2s 95ms/step - loss: 5.3244 - accuracy: 0.0062 - RMSE: 2.2935 - MSE: 5.2677 - val_loss: 20.1786 - val_accuracy: 0.0312 - val_RMSE: 4.4857 - val_MSE: 20.1219\n",
            "\n",
            "Epoch 00011: val_loss improved from 20.66820 to 20.17861, saving model to checkpoint_rice_b16_CNN-LSTM_IPAR_data.h5\n",
            "Epoch 12/1000\n",
            "16/16 [==============================] - 1s 93ms/step - loss: 4.5854 - accuracy: 0.0019 - RMSE: 2.1275 - MSE: 4.5287 - val_loss: 19.6899 - val_accuracy: 0.0312 - val_RMSE: 4.4309 - val_MSE: 19.6332\n",
            "\n",
            "Epoch 00012: val_loss improved from 20.17861 to 19.68990, saving model to checkpoint_rice_b16_CNN-LSTM_IPAR_data.h5\n",
            "Epoch 13/1000\n",
            "16/16 [==============================] - 2s 94ms/step - loss: 7.2280 - accuracy: 0.0280 - RMSE: 2.6648 - MSE: 7.1713 - val_loss: 19.2170 - val_accuracy: 0.0312 - val_RMSE: 4.3772 - val_MSE: 19.1603\n",
            "\n",
            "Epoch 00013: val_loss improved from 19.68990 to 19.21704, saving model to checkpoint_rice_b16_CNN-LSTM_IPAR_data.h5\n",
            "Epoch 14/1000\n",
            "16/16 [==============================] - 2s 108ms/step - loss: 4.4074 - accuracy: 0.0042 - RMSE: 2.0785 - MSE: 4.3507 - val_loss: 18.7375 - val_accuracy: 0.0312 - val_RMSE: 4.3221 - val_MSE: 18.6807\n",
            "\n",
            "Epoch 00014: val_loss improved from 19.21704 to 18.73745, saving model to checkpoint_rice_b16_CNN-LSTM_IPAR_data.h5\n",
            "Epoch 15/1000\n",
            "16/16 [==============================] - 1s 94ms/step - loss: 5.3149 - accuracy: 0.0099 - RMSE: 2.2921 - MSE: 5.2582 - val_loss: 18.2662 - val_accuracy: 0.0312 - val_RMSE: 4.2673 - val_MSE: 18.2095\n",
            "\n",
            "Epoch 00015: val_loss improved from 18.73745 to 18.26624, saving model to checkpoint_rice_b16_CNN-LSTM_IPAR_data.h5\n",
            "Epoch 16/1000\n",
            "16/16 [==============================] - 1s 91ms/step - loss: 5.6397 - accuracy: 0.0079 - RMSE: 2.3601 - MSE: 5.5830 - val_loss: 17.7803 - val_accuracy: 0.0312 - val_RMSE: 4.2099 - val_MSE: 17.7236\n",
            "\n",
            "Epoch 00016: val_loss improved from 18.26624 to 17.78031, saving model to checkpoint_rice_b16_CNN-LSTM_IPAR_data.h5\n",
            "Epoch 17/1000\n",
            "16/16 [==============================] - 2s 97ms/step - loss: 5.0924 - accuracy: 0.0053 - RMSE: 2.2372 - MSE: 5.0356 - val_loss: 17.2518 - val_accuracy: 0.0312 - val_RMSE: 4.1467 - val_MSE: 17.1951\n",
            "\n",
            "Epoch 00017: val_loss improved from 17.78031 to 17.25180, saving model to checkpoint_rice_b16_CNN-LSTM_IPAR_data.h5\n",
            "Epoch 18/1000\n",
            "16/16 [==============================] - 2s 98ms/step - loss: 5.5188 - accuracy: 0.0081 - RMSE: 2.3280 - MSE: 5.4621 - val_loss: 16.7789 - val_accuracy: 0.0312 - val_RMSE: 4.0893 - val_MSE: 16.7221\n",
            "\n",
            "Epoch 00018: val_loss improved from 17.25180 to 16.77885, saving model to checkpoint_rice_b16_CNN-LSTM_IPAR_data.h5\n",
            "Epoch 19/1000\n",
            "16/16 [==============================] - 1s 94ms/step - loss: 4.3028 - accuracy: 0.0177 - RMSE: 2.0601 - MSE: 4.2461 - val_loss: 16.3367 - val_accuracy: 0.0312 - val_RMSE: 4.0348 - val_MSE: 16.2800\n",
            "\n",
            "Epoch 00019: val_loss improved from 16.77885 to 16.33668, saving model to checkpoint_rice_b16_CNN-LSTM_IPAR_data.h5\n",
            "Epoch 20/1000\n",
            "16/16 [==============================] - 1s 94ms/step - loss: 4.5135 - accuracy: 0.0203 - RMSE: 2.1060 - MSE: 4.4568 - val_loss: 15.7715 - val_accuracy: 0.0312 - val_RMSE: 3.9642 - val_MSE: 15.7147\n",
            "\n",
            "Epoch 00020: val_loss improved from 16.33668 to 15.77147, saving model to checkpoint_rice_b16_CNN-LSTM_IPAR_data.h5\n",
            "Epoch 21/1000\n",
            "16/16 [==============================] - 2s 98ms/step - loss: 4.9222 - accuracy: 0.0077 - RMSE: 2.2045 - MSE: 4.8654 - val_loss: 15.2112 - val_accuracy: 0.0312 - val_RMSE: 3.8929 - val_MSE: 15.1544\n",
            "\n",
            "Epoch 00021: val_loss improved from 15.77147 to 15.21116, saving model to checkpoint_rice_b16_CNN-LSTM_IPAR_data.h5\n",
            "Epoch 22/1000\n",
            "16/16 [==============================] - 1s 93ms/step - loss: 5.2294 - accuracy: 0.0000e+00 - RMSE: 2.2713 - MSE: 5.1727 - val_loss: 14.6160 - val_accuracy: 0.0312 - val_RMSE: 3.8157 - val_MSE: 14.5593\n",
            "\n",
            "Epoch 00022: val_loss improved from 15.21116 to 14.61604, saving model to checkpoint_rice_b16_CNN-LSTM_IPAR_data.h5\n",
            "Epoch 23/1000\n",
            "16/16 [==============================] - 2s 95ms/step - loss: 4.9987 - accuracy: 0.0285 - RMSE: 2.2222 - MSE: 4.9420 - val_loss: 14.0629 - val_accuracy: 0.0312 - val_RMSE: 3.7425 - val_MSE: 14.0061\n",
            "\n",
            "Epoch 00023: val_loss improved from 14.61604 to 14.06287, saving model to checkpoint_rice_b16_CNN-LSTM_IPAR_data.h5\n",
            "Epoch 24/1000\n",
            "16/16 [==============================] - 1s 89ms/step - loss: 4.1657 - accuracy: 0.0090 - RMSE: 2.0268 - MSE: 4.1090 - val_loss: 13.6116 - val_accuracy: 0.0312 - val_RMSE: 3.6817 - val_MSE: 13.5549\n",
            "\n",
            "Epoch 00024: val_loss improved from 14.06287 to 13.61161, saving model to checkpoint_rice_b16_CNN-LSTM_IPAR_data.h5\n",
            "Epoch 25/1000\n",
            "16/16 [==============================] - 1s 93ms/step - loss: 4.6319 - accuracy: 0.0037 - RMSE: 2.1354 - MSE: 4.5752 - val_loss: 12.6847 - val_accuracy: 0.0312 - val_RMSE: 3.5536 - val_MSE: 12.6280\n",
            "\n",
            "Epoch 00025: val_loss improved from 13.61161 to 12.68475, saving model to checkpoint_rice_b16_CNN-LSTM_IPAR_data.h5\n",
            "Epoch 26/1000\n",
            "16/16 [==============================] - 1s 91ms/step - loss: 4.8057 - accuracy: 0.0147 - RMSE: 2.1775 - MSE: 4.7490 - val_loss: 11.9899 - val_accuracy: 0.0312 - val_RMSE: 3.4544 - val_MSE: 11.9332\n",
            "\n",
            "Epoch 00026: val_loss improved from 12.68475 to 11.98991, saving model to checkpoint_rice_b16_CNN-LSTM_IPAR_data.h5\n",
            "Epoch 27/1000\n",
            "16/16 [==============================] - 2s 96ms/step - loss: 5.0810 - accuracy: 0.0236 - RMSE: 2.2408 - MSE: 5.0242 - val_loss: 11.2709 - val_accuracy: 0.0312 - val_RMSE: 3.3488 - val_MSE: 11.2141\n",
            "\n",
            "Epoch 00027: val_loss improved from 11.98991 to 11.27086, saving model to checkpoint_rice_b16_CNN-LSTM_IPAR_data.h5\n",
            "Epoch 28/1000\n",
            "16/16 [==============================] - 2s 97ms/step - loss: 3.5864 - accuracy: 0.0043 - RMSE: 1.8721 - MSE: 3.5297 - val_loss: 10.7291 - val_accuracy: 0.0312 - val_RMSE: 3.2669 - val_MSE: 10.6724\n",
            "\n",
            "Epoch 00028: val_loss improved from 11.27086 to 10.72912, saving model to checkpoint_rice_b16_CNN-LSTM_IPAR_data.h5\n",
            "Epoch 29/1000\n",
            "16/16 [==============================] - 2s 97ms/step - loss: 3.5822 - accuracy: 0.0233 - RMSE: 1.8753 - MSE: 3.5254 - val_loss: 10.1662 - val_accuracy: 0.0312 - val_RMSE: 3.1795 - val_MSE: 10.1094\n",
            "\n",
            "Epoch 00029: val_loss improved from 10.72912 to 10.16617, saving model to checkpoint_rice_b16_CNN-LSTM_IPAR_data.h5\n",
            "Epoch 30/1000\n",
            "16/16 [==============================] - 1s 92ms/step - loss: 4.3522 - accuracy: 0.0325 - RMSE: 2.0708 - MSE: 4.2954 - val_loss: 9.5046 - val_accuracy: 0.0312 - val_RMSE: 3.0737 - val_MSE: 9.4479\n",
            "\n",
            "Epoch 00030: val_loss improved from 10.16617 to 9.50463, saving model to checkpoint_rice_b16_CNN-LSTM_IPAR_data.h5\n",
            "Epoch 31/1000\n",
            "16/16 [==============================] - 1s 92ms/step - loss: 3.5438 - accuracy: 0.0248 - RMSE: 1.8589 - MSE: 3.4871 - val_loss: 8.8462 - val_accuracy: 0.0312 - val_RMSE: 2.9647 - val_MSE: 8.7895\n",
            "\n",
            "Epoch 00031: val_loss improved from 9.50463 to 8.84620, saving model to checkpoint_rice_b16_CNN-LSTM_IPAR_data.h5\n",
            "Epoch 32/1000\n",
            "16/16 [==============================] - 1s 91ms/step - loss: 3.7691 - accuracy: 0.0034 - RMSE: 1.9154 - MSE: 3.7124 - val_loss: 8.1865 - val_accuracy: 0.0312 - val_RMSE: 2.8513 - val_MSE: 8.1298\n",
            "\n",
            "Epoch 00032: val_loss improved from 8.84620 to 8.18649, saving model to checkpoint_rice_b16_CNN-LSTM_IPAR_data.h5\n",
            "Epoch 33/1000\n",
            "16/16 [==============================] - 2s 98ms/step - loss: 3.6315 - accuracy: 0.0041 - RMSE: 1.8875 - MSE: 3.5748 - val_loss: 7.6070 - val_accuracy: 0.0312 - val_RMSE: 2.7478 - val_MSE: 7.5503\n",
            "\n",
            "Epoch 00033: val_loss improved from 8.18649 to 7.60699, saving model to checkpoint_rice_b16_CNN-LSTM_IPAR_data.h5\n",
            "Epoch 34/1000\n",
            "16/16 [==============================] - 2s 97ms/step - loss: 4.2902 - accuracy: 0.0131 - RMSE: 2.0453 - MSE: 4.2335 - val_loss: 7.0634 - val_accuracy: 0.0312 - val_RMSE: 2.6470 - val_MSE: 7.0067\n",
            "\n",
            "Epoch 00034: val_loss improved from 7.60699 to 7.06343, saving model to checkpoint_rice_b16_CNN-LSTM_IPAR_data.h5\n",
            "Epoch 35/1000\n",
            "16/16 [==============================] - 2s 101ms/step - loss: 4.1934 - accuracy: 0.0071 - RMSE: 2.0312 - MSE: 4.1367 - val_loss: 6.3486 - val_accuracy: 0.0312 - val_RMSE: 2.5083 - val_MSE: 6.2918\n",
            "\n",
            "Epoch 00035: val_loss improved from 7.06343 to 6.34855, saving model to checkpoint_rice_b16_CNN-LSTM_IPAR_data.h5\n",
            "Epoch 36/1000\n",
            "16/16 [==============================] - 2s 96ms/step - loss: 4.2362 - accuracy: 0.0222 - RMSE: 2.0428 - MSE: 4.1795 - val_loss: 5.8869 - val_accuracy: 0.0312 - val_RMSE: 2.4146 - val_MSE: 5.8302\n",
            "\n",
            "Epoch 00036: val_loss improved from 6.34855 to 5.88690, saving model to checkpoint_rice_b16_CNN-LSTM_IPAR_data.h5\n",
            "Epoch 37/1000\n",
            "16/16 [==============================] - 2s 101ms/step - loss: 3.3779 - accuracy: 0.0022 - RMSE: 1.8204 - MSE: 3.3212 - val_loss: 5.5355 - val_accuracy: 0.0312 - val_RMSE: 2.3407 - val_MSE: 5.4788\n",
            "\n",
            "Epoch 00037: val_loss improved from 5.88690 to 5.53551, saving model to checkpoint_rice_b16_CNN-LSTM_IPAR_data.h5\n",
            "Epoch 38/1000\n",
            "16/16 [==============================] - 1s 89ms/step - loss: 3.5976 - accuracy: 0.0043 - RMSE: 1.8802 - MSE: 3.5409 - val_loss: 5.2052 - val_accuracy: 0.0312 - val_RMSE: 2.2690 - val_MSE: 5.1485\n",
            "\n",
            "Epoch 00038: val_loss improved from 5.53551 to 5.20519, saving model to checkpoint_rice_b16_CNN-LSTM_IPAR_data.h5\n",
            "Epoch 39/1000\n",
            "16/16 [==============================] - 2s 99ms/step - loss: 3.9577 - accuracy: 0.0134 - RMSE: 1.9742 - MSE: 3.9010 - val_loss: 4.7130 - val_accuracy: 0.0312 - val_RMSE: 2.1578 - val_MSE: 4.6563\n",
            "\n",
            "Epoch 00039: val_loss improved from 5.20519 to 4.71300, saving model to checkpoint_rice_b16_CNN-LSTM_IPAR_data.h5\n",
            "Epoch 40/1000\n",
            "16/16 [==============================] - 2s 103ms/step - loss: 4.1563 - accuracy: 0.0131 - RMSE: 2.0219 - MSE: 4.0996 - val_loss: 4.3425 - val_accuracy: 0.0312 - val_RMSE: 2.0702 - val_MSE: 4.2858\n",
            "\n",
            "Epoch 00040: val_loss improved from 4.71300 to 4.34254, saving model to checkpoint_rice_b16_CNN-LSTM_IPAR_data.h5\n",
            "Epoch 41/1000\n",
            "16/16 [==============================] - 1s 90ms/step - loss: 3.5696 - accuracy: 0.0121 - RMSE: 1.8718 - MSE: 3.5129 - val_loss: 4.1319 - val_accuracy: 0.0312 - val_RMSE: 2.0187 - val_MSE: 4.0751\n",
            "\n",
            "Epoch 00041: val_loss improved from 4.34254 to 4.13188, saving model to checkpoint_rice_b16_CNN-LSTM_IPAR_data.h5\n",
            "Epoch 42/1000\n",
            "16/16 [==============================] - 1s 93ms/step - loss: 4.3915 - accuracy: 0.0149 - RMSE: 2.0788 - MSE: 4.3348 - val_loss: 4.0580 - val_accuracy: 0.0312 - val_RMSE: 2.0003 - val_MSE: 4.0012\n",
            "\n",
            "Epoch 00042: val_loss improved from 4.13188 to 4.05795, saving model to checkpoint_rice_b16_CNN-LSTM_IPAR_data.h5\n",
            "Epoch 43/1000\n",
            "16/16 [==============================] - 2s 94ms/step - loss: 4.2382 - accuracy: 0.0114 - RMSE: 2.0382 - MSE: 4.1815 - val_loss: 3.8938 - val_accuracy: 0.0312 - val_RMSE: 1.9588 - val_MSE: 3.8370\n",
            "\n",
            "Epoch 00043: val_loss improved from 4.05795 to 3.89376, saving model to checkpoint_rice_b16_CNN-LSTM_IPAR_data.h5\n",
            "Epoch 44/1000\n",
            "16/16 [==============================] - 1s 92ms/step - loss: 4.5918 - accuracy: 0.0223 - RMSE: 2.1138 - MSE: 4.5351 - val_loss: 3.6654 - val_accuracy: 0.0312 - val_RMSE: 1.8996 - val_MSE: 3.6086\n",
            "\n",
            "Epoch 00044: val_loss improved from 3.89376 to 3.66536, saving model to checkpoint_rice_b16_CNN-LSTM_IPAR_data.h5\n",
            "Epoch 45/1000\n",
            "16/16 [==============================] - 1s 92ms/step - loss: 3.8643 - accuracy: 0.0121 - RMSE: 1.9491 - MSE: 3.8075 - val_loss: 3.6242 - val_accuracy: 0.0312 - val_RMSE: 1.8888 - val_MSE: 3.5674\n",
            "\n",
            "Epoch 00045: val_loss improved from 3.66536 to 3.62417, saving model to checkpoint_rice_b16_CNN-LSTM_IPAR_data.h5\n",
            "Epoch 46/1000\n",
            "16/16 [==============================] - 1s 90ms/step - loss: 3.7437 - accuracy: 0.0048 - RMSE: 1.9155 - MSE: 3.6869 - val_loss: 3.5047 - val_accuracy: 0.0312 - val_RMSE: 1.8569 - val_MSE: 3.4479\n",
            "\n",
            "Epoch 00046: val_loss improved from 3.62417 to 3.50468, saving model to checkpoint_rice_b16_CNN-LSTM_IPAR_data.h5\n",
            "Epoch 47/1000\n",
            "16/16 [==============================] - 2s 97ms/step - loss: 4.6272 - accuracy: 0.0037 - RMSE: 2.1243 - MSE: 4.5705 - val_loss: 3.3788 - val_accuracy: 0.0312 - val_RMSE: 1.8227 - val_MSE: 3.3221\n",
            "\n",
            "Epoch 00047: val_loss improved from 3.50468 to 3.37884, saving model to checkpoint_rice_b16_CNN-LSTM_IPAR_data.h5\n",
            "Epoch 48/1000\n",
            "16/16 [==============================] - 2s 94ms/step - loss: 3.3930 - accuracy: 0.0117 - RMSE: 1.8212 - MSE: 3.3362 - val_loss: 3.3063 - val_accuracy: 0.0312 - val_RMSE: 1.8027 - val_MSE: 3.2495\n",
            "\n",
            "Epoch 00048: val_loss improved from 3.37884 to 3.30628, saving model to checkpoint_rice_b16_CNN-LSTM_IPAR_data.h5\n",
            "Epoch 49/1000\n",
            "16/16 [==============================] - 2s 95ms/step - loss: 3.2750 - accuracy: 0.0054 - RMSE: 1.7782 - MSE: 3.2183 - val_loss: 3.2291 - val_accuracy: 0.0312 - val_RMSE: 1.7811 - val_MSE: 3.1724\n",
            "\n",
            "Epoch 00049: val_loss improved from 3.30628 to 3.22913, saving model to checkpoint_rice_b16_CNN-LSTM_IPAR_data.h5\n",
            "Epoch 50/1000\n",
            "16/16 [==============================] - 1s 93ms/step - loss: 3.6991 - accuracy: 0.0049 - RMSE: 1.9066 - MSE: 3.6424 - val_loss: 3.2337 - val_accuracy: 0.0312 - val_RMSE: 1.7824 - val_MSE: 3.1770\n",
            "\n",
            "Epoch 00050: val_loss did not improve from 3.22913\n",
            "Epoch 51/1000\n",
            "16/16 [==============================] - 2s 101ms/step - loss: 3.4753 - accuracy: 0.0098 - RMSE: 1.8428 - MSE: 3.4185 - val_loss: 3.2422 - val_accuracy: 0.0312 - val_RMSE: 1.7848 - val_MSE: 3.1854\n",
            "\n",
            "Epoch 00051: val_loss did not improve from 3.22913\n",
            "Epoch 52/1000\n",
            "16/16 [==============================] - 2s 96ms/step - loss: 3.4136 - accuracy: 0.0019 - RMSE: 1.8250 - MSE: 3.3569 - val_loss: 3.2123 - val_accuracy: 0.0312 - val_RMSE: 1.7764 - val_MSE: 3.1555\n",
            "\n",
            "Epoch 00052: val_loss improved from 3.22913 to 3.21226, saving model to checkpoint_rice_b16_CNN-LSTM_IPAR_data.h5\n",
            "Epoch 53/1000\n",
            "16/16 [==============================] - 1s 92ms/step - loss: 4.2798 - accuracy: 0.0089 - RMSE: 2.0476 - MSE: 4.2231 - val_loss: 3.2145 - val_accuracy: 0.0312 - val_RMSE: 1.7770 - val_MSE: 3.1578\n",
            "\n",
            "Epoch 00053: val_loss did not improve from 3.21226\n",
            "Epoch 54/1000\n",
            "16/16 [==============================] - 2s 97ms/step - loss: 4.1061 - accuracy: 0.0071 - RMSE: 2.0074 - MSE: 4.0493 - val_loss: 3.2803 - val_accuracy: 0.0312 - val_RMSE: 1.7954 - val_MSE: 3.2235\n",
            "\n",
            "Epoch 00054: val_loss did not improve from 3.21226\n",
            "Epoch 55/1000\n",
            "16/16 [==============================] - 1s 88ms/step - loss: 3.4068 - accuracy: 0.0065 - RMSE: 1.8269 - MSE: 3.3500 - val_loss: 3.2526 - val_accuracy: 0.0312 - val_RMSE: 1.7877 - val_MSE: 3.1959\n",
            "\n",
            "Epoch 00055: val_loss did not improve from 3.21226\n",
            "Epoch 56/1000\n",
            "16/16 [==============================] - 2s 95ms/step - loss: 3.2364 - accuracy: 0.0168 - RMSE: 1.7773 - MSE: 3.1797 - val_loss: 3.2420 - val_accuracy: 0.0312 - val_RMSE: 1.7847 - val_MSE: 3.1853\n",
            "\n",
            "Epoch 00056: val_loss did not improve from 3.21226\n",
            "Epoch 57/1000\n",
            "16/16 [==============================] - 1s 93ms/step - loss: 3.5331 - accuracy: 0.0154 - RMSE: 1.8625 - MSE: 3.4763 - val_loss: 3.2473 - val_accuracy: 0.0312 - val_RMSE: 1.7862 - val_MSE: 3.1906\n",
            "\n",
            "Epoch 00057: val_loss did not improve from 3.21226\n",
            "Epoch 58/1000\n",
            "16/16 [==============================] - 2s 98ms/step - loss: 3.7591 - accuracy: 0.0086 - RMSE: 1.9202 - MSE: 3.7023 - val_loss: 3.1546 - val_accuracy: 0.0312 - val_RMSE: 1.7601 - val_MSE: 3.0979\n",
            "\n",
            "Epoch 00058: val_loss improved from 3.21226 to 3.15464, saving model to checkpoint_rice_b16_CNN-LSTM_IPAR_data.h5\n",
            "Epoch 59/1000\n",
            "16/16 [==============================] - 2s 97ms/step - loss: 3.2896 - accuracy: 0.0100 - RMSE: 1.7946 - MSE: 3.2329 - val_loss: 3.1272 - val_accuracy: 0.0312 - val_RMSE: 1.7523 - val_MSE: 3.0705\n",
            "\n",
            "Epoch 00059: val_loss improved from 3.15464 to 3.12721, saving model to checkpoint_rice_b16_CNN-LSTM_IPAR_data.h5\n",
            "Epoch 60/1000\n",
            "16/16 [==============================] - 1s 93ms/step - loss: 3.6952 - accuracy: 0.0054 - RMSE: 1.9010 - MSE: 3.6385 - val_loss: 3.1540 - val_accuracy: 0.0312 - val_RMSE: 1.7599 - val_MSE: 3.0972\n",
            "\n",
            "Epoch 00060: val_loss did not improve from 3.12721\n",
            "Epoch 61/1000\n",
            "16/16 [==============================] - 2s 94ms/step - loss: 4.5550 - accuracy: 0.0308 - RMSE: 2.1167 - MSE: 4.4983 - val_loss: 3.1659 - val_accuracy: 0.0312 - val_RMSE: 1.7633 - val_MSE: 3.1092\n",
            "\n",
            "Epoch 00061: val_loss did not improve from 3.12721\n",
            "Epoch 62/1000\n",
            "16/16 [==============================] - 1s 94ms/step - loss: 4.0592 - accuracy: 0.0058 - RMSE: 1.9955 - MSE: 4.0024 - val_loss: 3.1514 - val_accuracy: 0.0312 - val_RMSE: 1.7592 - val_MSE: 3.0947\n",
            "\n",
            "Epoch 00062: val_loss did not improve from 3.12721\n",
            "Epoch 63/1000\n",
            "16/16 [==============================] - 1s 92ms/step - loss: 4.1559 - accuracy: 0.0155 - RMSE: 2.0230 - MSE: 4.0991 - val_loss: 3.1950 - val_accuracy: 0.0312 - val_RMSE: 1.7715 - val_MSE: 3.1382\n",
            "\n",
            "Epoch 00063: val_loss did not improve from 3.12721\n",
            "Epoch 64/1000\n",
            "16/16 [==============================] - 1s 93ms/step - loss: 3.5527 - accuracy: 0.0110 - RMSE: 1.8688 - MSE: 3.4959 - val_loss: 3.1965 - val_accuracy: 0.0312 - val_RMSE: 1.7719 - val_MSE: 3.1397\n",
            "\n",
            "Epoch 00064: val_loss did not improve from 3.12721\n",
            "Epoch 65/1000\n",
            "16/16 [==============================] - 1s 92ms/step - loss: 4.2080 - accuracy: 0.0266 - RMSE: 2.0324 - MSE: 4.1513 - val_loss: 3.1695 - val_accuracy: 0.0312 - val_RMSE: 1.7643 - val_MSE: 3.1127\n",
            "\n",
            "Epoch 00065: val_loss did not improve from 3.12721\n",
            "Epoch 66/1000\n",
            "16/16 [==============================] - 1s 91ms/step - loss: 3.8215 - accuracy: 0.0085 - RMSE: 1.9374 - MSE: 3.7648 - val_loss: 3.1552 - val_accuracy: 0.0312 - val_RMSE: 1.7602 - val_MSE: 3.0985\n",
            "\n",
            "Epoch 00066: val_loss did not improve from 3.12721\n",
            "Epoch 67/1000\n",
            "16/16 [==============================] - 2s 102ms/step - loss: 3.6457 - accuracy: 0.0090 - RMSE: 1.8922 - MSE: 3.5889 - val_loss: 3.1674 - val_accuracy: 0.0312 - val_RMSE: 1.7637 - val_MSE: 3.1107\n",
            "\n",
            "Epoch 00067: val_loss did not improve from 3.12721\n",
            "Epoch 68/1000\n",
            "16/16 [==============================] - 1s 91ms/step - loss: 4.2293 - accuracy: 0.0319 - RMSE: 2.0394 - MSE: 4.1726 - val_loss: 3.1901 - val_accuracy: 0.0312 - val_RMSE: 1.7701 - val_MSE: 3.1334\n",
            "\n",
            "Epoch 00068: val_loss did not improve from 3.12721\n",
            "Epoch 69/1000\n",
            "16/16 [==============================] - 2s 99ms/step - loss: 3.4890 - accuracy: 0.0097 - RMSE: 1.8427 - MSE: 3.4322 - val_loss: 3.0996 - val_accuracy: 0.0312 - val_RMSE: 1.7444 - val_MSE: 3.0428\n",
            "\n",
            "Epoch 00069: val_loss improved from 3.12721 to 3.09957, saving model to checkpoint_rice_b16_CNN-LSTM_IPAR_data.h5\n",
            "Epoch 70/1000\n",
            "16/16 [==============================] - 1s 94ms/step - loss: 3.7983 - accuracy: 0.0090 - RMSE: 1.9328 - MSE: 3.7416 - val_loss: 3.1389 - val_accuracy: 0.0312 - val_RMSE: 1.7556 - val_MSE: 3.0822\n",
            "\n",
            "Epoch 00070: val_loss did not improve from 3.09957\n",
            "Epoch 71/1000\n",
            "16/16 [==============================] - 2s 98ms/step - loss: 3.4167 - accuracy: 0.0079 - RMSE: 1.8304 - MSE: 3.3600 - val_loss: 3.1117 - val_accuracy: 0.0312 - val_RMSE: 1.7478 - val_MSE: 3.0550\n",
            "\n",
            "Epoch 00071: val_loss did not improve from 3.09957\n",
            "Epoch 72/1000\n",
            "16/16 [==============================] - 2s 95ms/step - loss: 4.2693 - accuracy: 0.0064 - RMSE: 2.0438 - MSE: 4.2126 - val_loss: 3.1895 - val_accuracy: 0.0312 - val_RMSE: 1.7700 - val_MSE: 3.1328\n",
            "\n",
            "Epoch 00072: val_loss did not improve from 3.09957\n",
            "Epoch 73/1000\n",
            "16/16 [==============================] - 1s 93ms/step - loss: 3.5010 - accuracy: 0.0031 - RMSE: 1.8543 - MSE: 3.4442 - val_loss: 3.1801 - val_accuracy: 0.0312 - val_RMSE: 1.7673 - val_MSE: 3.1234\n",
            "\n",
            "Epoch 00073: val_loss did not improve from 3.09957\n",
            "Epoch 74/1000\n",
            "16/16 [==============================] - 2s 98ms/step - loss: 3.0232 - accuracy: 0.0331 - RMSE: 1.7207 - MSE: 2.9665 - val_loss: 3.1600 - val_accuracy: 0.0312 - val_RMSE: 1.7616 - val_MSE: 3.1032\n",
            "\n",
            "Epoch 00074: val_loss did not improve from 3.09957\n",
            "Epoch 75/1000\n",
            "16/16 [==============================] - 2s 99ms/step - loss: 3.2159 - accuracy: 0.0065 - RMSE: 1.7742 - MSE: 3.1591 - val_loss: 3.1964 - val_accuracy: 0.0312 - val_RMSE: 1.7719 - val_MSE: 3.1397\n",
            "\n",
            "Epoch 00075: val_loss did not improve from 3.09957\n",
            "Epoch 76/1000\n",
            "16/16 [==============================] - 2s 96ms/step - loss: 3.8082 - accuracy: 0.0031 - RMSE: 1.9356 - MSE: 3.7514 - val_loss: 3.1826 - val_accuracy: 0.0312 - val_RMSE: 1.7680 - val_MSE: 3.1259\n",
            "\n",
            "Epoch 00076: val_loss did not improve from 3.09957\n",
            "Epoch 77/1000\n",
            "16/16 [==============================] - 2s 104ms/step - loss: 3.4528 - accuracy: 0.0155 - RMSE: 1.8422 - MSE: 3.3960 - val_loss: 3.1555 - val_accuracy: 0.0312 - val_RMSE: 1.7603 - val_MSE: 3.0988\n",
            "\n",
            "Epoch 00077: val_loss did not improve from 3.09957\n",
            "Epoch 78/1000\n",
            "16/16 [==============================] - 2s 98ms/step - loss: 3.6812 - accuracy: 0.0090 - RMSE: 1.9021 - MSE: 3.6245 - val_loss: 3.1737 - val_accuracy: 0.0312 - val_RMSE: 1.7655 - val_MSE: 3.1169\n",
            "\n",
            "Epoch 00078: val_loss did not improve from 3.09957\n",
            "Epoch 79/1000\n",
            "16/16 [==============================] - 2s 111ms/step - loss: 3.7377 - accuracy: 0.0121 - RMSE: 1.9168 - MSE: 3.6810 - val_loss: 3.1757 - val_accuracy: 0.0312 - val_RMSE: 1.7661 - val_MSE: 3.1190\n",
            "\n",
            "Epoch 00079: val_loss did not improve from 3.09957\n",
            "Epoch 80/1000\n",
            "16/16 [==============================] - 2s 97ms/step - loss: 4.0271 - accuracy: 0.0103 - RMSE: 1.9850 - MSE: 3.9704 - val_loss: 3.2234 - val_accuracy: 0.0312 - val_RMSE: 1.7795 - val_MSE: 3.1666\n",
            "\n",
            "Epoch 00080: val_loss did not improve from 3.09957\n",
            "Epoch 81/1000\n",
            "16/16 [==============================] - 2s 98ms/step - loss: 3.9354 - accuracy: 0.0172 - RMSE: 1.9675 - MSE: 3.8787 - val_loss: 3.1835 - val_accuracy: 0.0312 - val_RMSE: 1.7683 - val_MSE: 3.1268\n",
            "\n",
            "Epoch 00081: val_loss did not improve from 3.09957\n",
            "Epoch 82/1000\n",
            "16/16 [==============================] - 2s 99ms/step - loss: 2.8677 - accuracy: 0.0159 - RMSE: 1.6585 - MSE: 2.8110 - val_loss: 3.1672 - val_accuracy: 0.0312 - val_RMSE: 1.7637 - val_MSE: 3.1105\n",
            "\n",
            "Epoch 00082: val_loss did not improve from 3.09957\n",
            "Epoch 83/1000\n",
            "16/16 [==============================] - 1s 89ms/step - loss: 3.4292 - accuracy: 0.0166 - RMSE: 1.8353 - MSE: 3.3725 - val_loss: 3.2010 - val_accuracy: 0.0312 - val_RMSE: 1.7732 - val_MSE: 3.1443\n",
            "\n",
            "Epoch 00083: val_loss did not improve from 3.09957\n",
            "Epoch 84/1000\n",
            "16/16 [==============================] - 2s 96ms/step - loss: 4.2745 - accuracy: 0.0063 - RMSE: 2.0465 - MSE: 4.2178 - val_loss: 3.1910 - val_accuracy: 0.0312 - val_RMSE: 1.7704 - val_MSE: 3.1343\n",
            "\n",
            "Epoch 00084: val_loss did not improve from 3.09957\n",
            "Epoch 85/1000\n",
            "16/16 [==============================] - 1s 94ms/step - loss: 3.4125 - accuracy: 0.0108 - RMSE: 1.8274 - MSE: 3.3557 - val_loss: 3.1515 - val_accuracy: 0.0312 - val_RMSE: 1.7592 - val_MSE: 3.0948\n",
            "\n",
            "Epoch 00085: val_loss did not improve from 3.09957\n",
            "Epoch 86/1000\n",
            "16/16 [==============================] - 1s 91ms/step - loss: 3.5267 - accuracy: 0.0206 - RMSE: 1.8525 - MSE: 3.4700 - val_loss: 3.1761 - val_accuracy: 0.0312 - val_RMSE: 1.7662 - val_MSE: 3.1194\n",
            "\n",
            "Epoch 00086: val_loss did not improve from 3.09957\n",
            "Epoch 87/1000\n",
            "16/16 [==============================] - 2s 101ms/step - loss: 2.8257 - accuracy: 0.0282 - RMSE: 1.6601 - MSE: 2.7690 - val_loss: 3.2014 - val_accuracy: 0.0312 - val_RMSE: 1.7733 - val_MSE: 3.1447\n",
            "\n",
            "Epoch 00087: val_loss did not improve from 3.09957\n",
            "Epoch 88/1000\n",
            "16/16 [==============================] - 1s 93ms/step - loss: 3.8809 - accuracy: 0.0186 - RMSE: 1.9544 - MSE: 3.8242 - val_loss: 3.2280 - val_accuracy: 0.0312 - val_RMSE: 1.7808 - val_MSE: 3.1712\n",
            "\n",
            "Epoch 00088: val_loss did not improve from 3.09957\n",
            "Epoch 89/1000\n",
            "16/16 [==============================] - 1s 92ms/step - loss: 3.5974 - accuracy: 0.0060 - RMSE: 1.8796 - MSE: 3.5406 - val_loss: 3.2359 - val_accuracy: 0.0312 - val_RMSE: 1.7830 - val_MSE: 3.1792\n",
            "\n",
            "Epoch 00089: val_loss did not improve from 3.09957\n",
            "Epoch 00089: early stopping\n"
          ],
          "name": "stdout"
        }
      ]
    },
    {
      "cell_type": "markdown",
      "metadata": {
        "id": "wbRPWecH2XHD"
      },
      "source": [
        "### Plots "
      ]
    },
    {
      "cell_type": "code",
      "metadata": {
        "colab": {
          "base_uri": "https://localhost:8080/",
          "height": 0
        },
        "id": "tZeBNo9d2Zcg",
        "outputId": "3560d290-7c84-45fc-a107-d7b8b5b564ca"
      },
      "source": [
        "plt.plot(history.history['loss'], label='loss')\n",
        "plt.xlabel('Epoch')\n",
        "plt.ylabel('loss')\n",
        "plt.ylim([0, 1])\n",
        "plt.legend(loc='lower right')\n",
        "plt.show()"
      ],
      "execution_count": 13,
      "outputs": [
        {
          "output_type": "display_data",
          "data": {
            "image/png": "[encoded data removed]",
            "text/plain": [
              "<Figure size 432x288 with 1 Axes>"
            ]
          },
          "metadata": {
            "tags": [],
            "needs_background": "light"
          }
        }
      ]
    },
    {
      "cell_type": "code",
      "metadata": {
        "colab": {
          "base_uri": "https://localhost:8080/",
          "height": 0
        },
        "id": "mWUviAKCJBks",
        "outputId": "d3cacf20-c169-48e2-d3e0-52e45c4a752c"
      },
      "source": [
        "plt.plot(history.history['RMSE'], label='RMSE')\n",
        "plt.xlabel('Epoch')\n",
        "plt.ylabel('RMSE')\n",
        "plt.ylim([0, 1])\n",
        "plt.legend(loc='lower right')\n",
        "plt.show()"
      ],
      "execution_count": 14,
      "outputs": [
        {
          "output_type": "display_data",
          "data": {
            "image/png": "[encoded data removed]",
            "text/plain": [
              "<Figure size 432x288 with 1 Axes>"
            ]
          },
          "metadata": {
            "tags": [],
            "needs_background": "light"
          }
        }
      ]
    },
    {
      "cell_type": "code",
      "metadata": {
        "colab": {
          "base_uri": "https://localhost:8080/",
          "height": 0
        },
        "id": "g1safbSx2c1M",
        "outputId": "3e720789-62f3-414b-81f7-d7732cd190be"
      },
      "source": [
        "plt.plot(history.history['val_loss'], label = 'val_loss')\n",
        "plt.xlabel('Epoch')\n",
        "plt.ylabel('val_loss')\n",
        "plt.ylim([0, 1])\n",
        "plt.legend(loc='lower right')\n",
        "plt.show()"
      ],
      "execution_count": 15,
      "outputs": [
        {
          "output_type": "display_data",
          "data": {
            "image/png": "[encoded data removed]",
            "text/plain": [
              "<Figure size 432x288 with 1 Axes>"
            ]
          },
          "metadata": {
            "tags": [],
            "needs_background": "light"
          }
        }
      ]
    },
    {
      "cell_type": "code",
      "metadata": {
        "colab": {
          "base_uri": "https://localhost:8080/",
          "height": 0
        },
        "id": "r7EL4KSEjUJm",
        "outputId": "fc11e8ae-da11-458a-b6f3-006edb14f0b7"
      },
      "source": [
        "plt.plot(history.history['val_RMSE'], label = 'val_RMSE')\n",
        "plt.xlabel('Epoch')\n",
        "plt.ylabel('val_RMSE')\n",
        "plt.ylim([0,1])\n",
        "plt.legend(loc='lower right')\n",
        "plt.show()"
      ],
      "execution_count": 16,
      "outputs": [
        {
          "output_type": "display_data",
          "data": {
            "image/png": "[encoded data removed]",
            "text/plain": [
              "<Figure size 432x288 with 1 Axes>"
            ]
          },
          "metadata": {
            "tags": [],
            "needs_background": "light"
          }
        }
      ]
    },
    {
      "cell_type": "markdown",
      "metadata": {
        "id": "cMJnmNFy2je8"
      },
      "source": [
        "### Evaluation "
      ]
    },
    {
      "cell_type": "code",
      "metadata": {
        "colab": {
          "base_uri": "https://localhost:8080/"
        },
        "id": "s4yzZw5Qzun5",
        "outputId": "8da828cd-bf11-4c59-9245-d9e46ee5dac9"
      },
      "source": [
        "print(\"\\nEvaluating val ds... \")\n",
        "test_loss, test_acc, test_rmse, test_mse = model.evaluate(val_ds, verbose=1)\n",
        "\n",
        "print(\"\\nEvaluating test ds (0.1 of all files)... \")\n",
        "test_loss, test_acc, test_rmse, test_mse = model.evaluate(test_ds, verbose=1)"
      ],
      "execution_count": 17,
      "outputs": [
        {
          "output_type": "stream",
          "text": [
            "\n",
            "Evaluating val ds... \n",
            "1/1 [==============================] - 0s 57ms/step - loss: 3.2359 - accuracy: 0.0312 - RMSE: 1.7830 - MSE: 3.1792\n",
            "\n",
            "Evaluating test ds (0.1 of all files)... \n",
            "1/1 [==============================] - 0s 42ms/step - loss: 4.0188 - accuracy: 0.0000e+00 - RMSE: 1.9905 - MSE: 3.9621\n"
          ],
          "name": "stdout"
        }
      ]
    },
    {
      "cell_type": "markdown",
      "metadata": {
        "id": "wpgQJDj0zw9H"
      },
      "source": [
        "Evaluate with all 2014 IPAR data"
      ]
    },
    {
      "cell_type": "code",
      "metadata": {
        "colab": {
          "base_uri": "https://localhost:8080/"
        },
        "id": "FxrJZN73sC9K",
        "outputId": "58784f4d-5330-4c25-8ab9-08f1c9406705"
      },
      "source": [
        "if crop_type.lower() == 'maize':\n",
        "  tag_test_IPAR = \"margauxmforsythe/Senegal_IPAR_histograms_weeks_19_30_Maize\"\n",
        "if crop_type.lower() == 'millet':\n",
        "  tag_test_IPAR = \"margauxmforsythe/Senegal_IPAR_histograms_weeks_21_30_Millet\"\n",
        "if crop_type.lower() == \"rice\":\n",
        "  tag_test_IPAR = \"margauxmforsythe/Senegal_histograms_weeks_19_30_rice_winter\"\n",
        "  # tag_test_IPAR = \"margauxmforsythe/Senegal_histograms_weeks_19_30_rice_CSC\"\n",
        "\n",
        "\n",
        "ds_test_IPAR_all = Dataset(tag_test_IPAR)\n",
        "test_hists = ds_test_IPAR_all[\"histograms\"].compute()\n",
        "yields_list_test = ds_test_IPAR_all[\"yields\"].compute()\n",
        "yields_test_IPAR_all = []\n",
        "for i in range(0,len(yields_list_test)):\n",
        "    yields_test_IPAR_all.append(float(yields_list_test[i][0]))\n",
        "  \n",
        "# TEST set\n",
        "histograms_CNN_LSTM_test = []\n",
        "for i in range(len(test_hists)):\n",
        "  histogram_all_timestamps_transposed = np.transpose(test_hists[i], (1,0,2))\n",
        "  timestamps = []\n",
        "  for j in range(test_hists[i].shape[1]): # going through all timestamps\n",
        "    timestamps.append(np.expand_dims(histogram_all_timestamps_transposed[j], axis=0))\n",
        "  histograms_CNN_LSTM_test.append(timestamps)\n",
        "histograms_test_IPAR_all = histograms_CNN_LSTM_test\n",
        "print(\"There are now {} (* {} time steps files) splitted per timestamps of shape {} in the dataset\".format(shape[1], len(histograms), histograms_CNN_LSTM[0][0].shape))\n",
        "\n",
        "test_ds = tf.data.Dataset.from_tensor_slices((histograms_test_IPAR_all, yields_test_IPAR_all))\n",
        "test_ds = test_ds.cache()\n",
        "test_ds = test_ds.batch(len(test_ds))\n",
        "image_batch_test, label_batch_test= next(iter(test_ds))\n"
      ],
      "execution_count": 26,
      "outputs": [
        {
          "output_type": "stream",
          "text": [
            "There are now 11 (* 324 time steps files) splitted per timestamps of shape (1, 32, 9) in the dataset\n"
          ],
          "name": "stdout"
        }
      ]
    },
    {
      "cell_type": "code",
      "metadata": {
        "id": "wKdFCGIsHSOo"
      },
      "source": [
        "model.load_weights(checkpoint_file)\n",
        "model.compile(optimizer=tf.keras.optimizers.Adam(learning_rate=initial_learning_rate),\n",
        "              loss=tf.keras.losses.MeanSquaredError(),\n",
        "              metrics=['accuracy', tf.keras.metrics.RootMeanSquaredError(name='RMSE'), tf.keras.losses.MeanSquaredError(name='MSE')])\n"
      ],
      "execution_count": 27,
      "outputs": []
    },
    {
      "cell_type": "code",
      "metadata": {
        "colab": {
          "base_uri": "https://localhost:8080/"
        },
        "id": "CyLkAkiOcwCc",
        "outputId": "ce6d803d-986e-4519-f5cc-e88f2f3d823f"
      },
      "source": [
        "print(\"\\nEvaluating test ds... \")\n",
        "test_loss, test_acc, test_rmse, test_mse = model.evaluate(test_ds, verbose=1)"
      ],
      "execution_count": 28,
      "outputs": [
        {
          "output_type": "stream",
          "text": [
            "\n",
            "Evaluating test ds... \n",
            "1/1 [==============================] - 1s 707ms/step - loss: 3.0741 - accuracy: 0.0105 - RMSE: 1.7371 - MSE: 3.0173\n"
          ],
          "name": "stdout"
        }
      ]
    },
    {
      "cell_type": "markdown",
      "metadata": {
        "id": "wXlekjHS2mI5"
      },
      "source": [
        "### Prediction"
      ]
    },
    {
      "cell_type": "code",
      "metadata": {
        "colab": {
          "base_uri": "https://localhost:8080/"
        },
        "id": "HyY7eEh02oHI",
        "outputId": "0104a628-7d99-47e7-9622-b6851d423c5b"
      },
      "source": [
        "if not CNN_LSTM:\n",
        "  plt.imshow(image_batch_val[0][:,:,0])\n",
        "  label = label_batch_val[0].numpy()\n",
        "  plt.title(label)\n",
        "  plt.axis(\"off\")\n",
        "else:\n",
        "  print(\"real yield: {}\".format(label_batch_val[0].numpy()))\n",
        "predictions = model.predict(image_batch_val)\n",
        "print(\"predictions shape:\", predictions.shape)\n",
        "print(\"prediction:\", predictions[0][0])"
      ],
      "execution_count": 21,
      "outputs": [
        {
          "output_type": "stream",
          "text": [
            "real yield: 4.724999904632568\n",
            "predictions shape: (32, 1)\n",
            "prediction: 4.633481\n"
          ],
          "name": "stdout"
        }
      ]
    },
    {
      "cell_type": "code",
      "metadata": {
        "colab": {
          "base_uri": "https://localhost:8080/",
          "height": 324
        },
        "id": "caMiAsjEx904",
        "outputId": "0f89bc02-4770-4aa8-958a-beae8389333c"
      },
      "source": [
        "indexes_list = []\n",
        "for i in range(len(image_batch_test)):\n",
        "  indexes_list.append(i)\n",
        "\n",
        "predictions = model.predict(test_ds)\n",
        "predictions_array = []\n",
        "for i in range(len(predictions)):\n",
        "  predictions_array.append(predictions[i][0])\n",
        "predictions_array\n",
        "\n",
        "assert len(predictions_array) == len(label_batch_test.numpy())\n",
        "\n",
        "plt.figure(figsize=(8,5))\n",
        "plt.ylabel('yields T/ha')\n",
        "bar1 = plt.bar(indexes_list,label_batch_test.numpy(),label='real yields', alpha=0.7)\n",
        "bar2 = plt.bar(indexes_list,predictions_array,label='predicted yields', alpha=0.7)\n",
        "plt.legend()\n",
        "plt.ylim([0, 20])\n",
        "plt.show()"
      ],
      "execution_count": 22,
      "outputs": [
        {
          "output_type": "display_data",
          "data": {
            "image/png": "[encoded data removed]",
            "text/plain": [
              "<Figure size 576x360 with 1 Axes>"
            ]
          },
          "metadata": {
            "tags": [],
            "needs_background": "light"
          }
        }
      ]
    },
    {
      "cell_type": "code",
      "metadata": {
        "colab": {
          "base_uri": "https://localhost:8080/",
          "height": 298
        },
        "id": "l2I6SULu1TL7",
        "outputId": "2cb2d5af-dd91-48b0-d404-c6bbb9f17a9a"
      },
      "source": [
        "error = abs(predictions_array - label_batch_test.numpy())\n",
        "plt.title(\"Plot of errors between real yield value and predicted one on the test set\")\n",
        "plt.ylim([0, 5])\n",
        "plt.bar(indexes_list,error)"
      ],
      "execution_count": 23,
      "outputs": [
        {
          "output_type": "execute_result",
          "data": {
            "text/plain": [
              "<BarContainer object of 134 artists>"
            ]
          },
          "metadata": {
            "tags": []
          },
          "execution_count": 23
        },
        {
          "output_type": "display_data",
          "data": {
            "image/png": "[encoded data removed]",
            "text/plain": [
              "<Figure size 432x288 with 1 Axes>"
            ]
          },
          "metadata": {
            "tags": [],
            "needs_background": "light"
          }
        }
      ]
    },
    {
      "cell_type": "code",
      "metadata": {
        "colab": {
          "base_uri": "https://localhost:8080/",
          "height": 298
        },
        "id": "gHrPMPq--St2",
        "outputId": "41771e73-0e3d-4bdd-9eed-4acb315da14d"
      },
      "source": [
        "indexes_list = []\n",
        "for i in range(len(image_batch_test)):\n",
        "  indexes_list.append(i)\n",
        "\n",
        "error = abs(predictions_array - label_batch_test.numpy())/label_batch_test.numpy()\n",
        "plt.title(\"Plot of percentage errors between real yield value and predicted one on the test set\")\n",
        "plt.ylim([0, 30])\n",
        "plt.bar(indexes_list,error)"
      ],
      "execution_count": 24,
      "outputs": [
        {
          "output_type": "execute_result",
          "data": {
            "text/plain": [
              "<BarContainer object of 134 artists>"
            ]
          },
          "metadata": {
            "tags": []
          },
          "execution_count": 24
        },
        {
          "output_type": "display_data",
          "data": {
            "image/png": "[encoded data removed]",
            "text/plain": [
              "<Figure size 432x288 with 1 Axes>"
            ]
          },
          "metadata": {
            "tags": [],
            "needs_background": "light"
          }
        }
      ]
    },
    {
      "cell_type": "code",
      "metadata": {
        "colab": {
          "base_uri": "https://localhost:8080/"
        },
        "id": "uyYBvgB8ME6e",
        "outputId": "1b3cc6f2-bee7-4e08-bb3a-6ad475b75d62"
      },
      "source": [
        "for i in range(len(predictions_array)):\n",
        "  print(\"{}) Predicted yield {} T/ha // Real yield {} T/ha\".format(i, predictions_array[i], label_batch_test.numpy()[i]))"
      ],
      "execution_count": 25,
      "outputs": [
        {
          "output_type": "stream",
          "text": [
            "0) Predicted yield 6.471879482269287 T/ha // Real yield 8.266666412353516 T/ha\n",
            "1) Predicted yield 5.346645832061768 T/ha // Real yield 2.933333158493042 T/ha\n",
            "2) Predicted yield 2.8302721977233887 T/ha // Real yield 1.0625 T/ha\n",
            "3) Predicted yield 4.6086812019348145 T/ha // Real yield 5.400000095367432 T/ha\n",
            "4) Predicted yield 5.100227355957031 T/ha // Real yield 6.221738815307617 T/ha\n",
            "5) Predicted yield 4.657690525054932 T/ha // Real yield 4.454999923706055 T/ha\n",
            "6) Predicted yield 4.762957572937012 T/ha // Real yield 2.869999885559082 T/ha\n",
            "7) Predicted yield 5.26754903793335 T/ha // Real yield 6.140350818634033 T/ha\n",
            "8) Predicted yield 4.871222019195557 T/ha // Real yield 3.5999999046325684 T/ha\n",
            "9) Predicted yield 6.127452373504639 T/ha // Real yield 6.400000095367432 T/ha\n",
            "10) Predicted yield 6.185954570770264 T/ha // Real yield 4.159999847412109 T/ha\n",
            "11) Predicted yield 5.1068267822265625 T/ha // Real yield 4.576000213623047 T/ha\n",
            "12) Predicted yield 6.086341857910156 T/ha // Real yield 5.323077201843262 T/ha\n",
            "13) Predicted yield 6.2239909172058105 T/ha // Real yield 2.6666667461395264 T/ha\n",
            "14) Predicted yield 4.922441482543945 T/ha // Real yield 1.8333332538604736 T/ha\n",
            "15) Predicted yield 2.789278268814087 T/ha // Real yield 1.5 T/ha\n",
            "16) Predicted yield 5.010777473449707 T/ha // Real yield 4.299999713897705 T/ha\n",
            "17) Predicted yield 4.912479877471924 T/ha // Real yield 5.0 T/ha\n",
            "18) Predicted yield 4.559884548187256 T/ha // Real yield 6.074999809265137 T/ha\n",
            "19) Predicted yield 6.361073017120361 T/ha // Real yield 8.0 T/ha\n",
            "20) Predicted yield 2.789278268814087 T/ha // Real yield 0.4000000059604645 T/ha\n",
            "21) Predicted yield 6.1626434326171875 T/ha // Real yield 8.385416984558105 T/ha\n",
            "22) Predicted yield 6.361073017120361 T/ha // Real yield 4.639999866485596 T/ha\n",
            "23) Predicted yield 4.884041786193848 T/ha // Real yield 5.300000190734863 T/ha\n",
            "24) Predicted yield 5.936160087585449 T/ha // Real yield 8.0 T/ha\n",
            "25) Predicted yield 5.065014362335205 T/ha // Real yield 5.616000175476074 T/ha\n",
            "26) Predicted yield 4.675020217895508 T/ha // Real yield 5.670000076293945 T/ha\n",
            "27) Predicted yield 4.893103122711182 T/ha // Real yield 4.320000171661377 T/ha\n",
            "28) Predicted yield 2.789278268814087 T/ha // Real yield 2.0 T/ha\n",
            "29) Predicted yield 4.629880905151367 T/ha // Real yield 3.240000009536743 T/ha\n",
            "30) Predicted yield 6.75387716293335 T/ha // Real yield 8.22580623626709 T/ha\n",
            "31) Predicted yield 6.2239909172058105 T/ha // Real yield 8.399999618530273 T/ha\n",
            "32) Predicted yield 4.563837051391602 T/ha // Real yield 4.255319118499756 T/ha\n",
            "33) Predicted yield 4.5557637214660645 T/ha // Real yield 3.6449999809265137 T/ha\n",
            "34) Predicted yield 4.8846755027771 T/ha // Real yield 6.156000137329102 T/ha\n",
            "35) Predicted yield 4.529961585998535 T/ha // Real yield 4.285714149475098 T/ha\n",
            "36) Predicted yield 3.0545692443847656 T/ha // Real yield 8.25 T/ha\n",
            "37) Predicted yield 6.6811909675598145 T/ha // Real yield 4.800000190734863 T/ha\n",
            "38) Predicted yield 2.7624826431274414 T/ha // Real yield 1.0 T/ha\n",
            "39) Predicted yield 4.6478424072265625 T/ha // Real yield 5.90625 T/ha\n",
            "40) Predicted yield 6.637560844421387 T/ha // Real yield 2.3466665744781494 T/ha\n",
            "41) Predicted yield 6.462749004364014 T/ha // Real yield 7.357999801635742 T/ha\n",
            "42) Predicted yield 2.789278268814087 T/ha // Real yield 1.0 T/ha\n",
            "43) Predicted yield 4.741102695465088 T/ha // Real yield 10.0 T/ha\n",
            "44) Predicted yield 5.936160087585449 T/ha // Real yield 4.0 T/ha\n",
            "45) Predicted yield 4.563837051391602 T/ha // Real yield 3.3333334922790527 T/ha\n",
            "46) Predicted yield 4.5691118240356445 T/ha // Real yield 2.6767241954803467 T/ha\n",
            "47) Predicted yield 4.984109878540039 T/ha // Real yield 10.0 T/ha\n",
            "48) Predicted yield 7.90362548828125 T/ha // Real yield 11.0 T/ha\n",
            "49) Predicted yield 4.578075885772705 T/ha // Real yield 4.933332920074463 T/ha\n",
            "50) Predicted yield 6.086341857910156 T/ha // Real yield 8.242424011230469 T/ha\n",
            "51) Predicted yield 7.864232063293457 T/ha // Real yield 14.70588207244873 T/ha\n",
            "52) Predicted yield 5.0087785720825195 T/ha // Real yield 4.320000171661377 T/ha\n",
            "53) Predicted yield 7.875677585601807 T/ha // Real yield 5.906976699829102 T/ha\n",
            "54) Predicted yield 4.559884548187256 T/ha // Real yield 3.6449999809265137 T/ha\n",
            "55) Predicted yield 6.130488872528076 T/ha // Real yield 6.400000095367432 T/ha\n",
            "56) Predicted yield 6.726623058319092 T/ha // Real yield 9.068181991577148 T/ha\n",
            "57) Predicted yield 6.4871826171875 T/ha // Real yield 7.728000164031982 T/ha\n",
            "58) Predicted yield 6.086341857910156 T/ha // Real yield 7.980000019073486 T/ha\n",
            "59) Predicted yield 4.746850967407227 T/ha // Real yield 3.75 T/ha\n",
            "60) Predicted yield 5.098545551300049 T/ha // Real yield 7.883999824523926 T/ha\n",
            "61) Predicted yield 6.75387716293335 T/ha // Real yield 8.5 T/ha\n",
            "62) Predicted yield 5.9072489738464355 T/ha // Real yield 7.714285850524902 T/ha\n",
            "63) Predicted yield 3.467479705810547 T/ha // Real yield 2.2857143878936768 T/ha\n",
            "64) Predicted yield 4.628268718719482 T/ha // Real yield 5.400000095367432 T/ha\n",
            "65) Predicted yield 6.113116264343262 T/ha // Real yield 8.0 T/ha\n",
            "66) Predicted yield 6.910794258117676 T/ha // Real yield 4.590000152587891 T/ha\n",
            "67) Predicted yield 6.771861553192139 T/ha // Real yield 6.71999979019165 T/ha\n",
            "68) Predicted yield 6.127452373504639 T/ha // Real yield 4.44444465637207 T/ha\n",
            "69) Predicted yield 6.773544788360596 T/ha // Real yield 8.5 T/ha\n",
            "70) Predicted yield 6.726623058319092 T/ha // Real yield 7.516666889190674 T/ha\n",
            "71) Predicted yield 7.864232063293457 T/ha // Real yield 6.296296119689941 T/ha\n",
            "72) Predicted yield 4.726278305053711 T/ha // Real yield 5.579999923706055 T/ha\n",
            "73) Predicted yield 4.877236843109131 T/ha // Real yield 6.400000095367432 T/ha\n",
            "74) Predicted yield 6.726623058319092 T/ha // Real yield 6.559999942779541 T/ha\n",
            "75) Predicted yield 4.9639482498168945 T/ha // Real yield 1.649999976158142 T/ha\n",
            "76) Predicted yield 5.028469562530518 T/ha // Real yield 5.0 T/ha\n",
            "77) Predicted yield 7.864687919616699 T/ha // Real yield 8.5 T/ha\n",
            "78) Predicted yield 2.7796082496643066 T/ha // Real yield 2.0999999046325684 T/ha\n",
            "79) Predicted yield 4.785612106323242 T/ha // Real yield 3.5 T/ha\n",
            "80) Predicted yield 3.013972282409668 T/ha // Real yield 2.0 T/ha\n",
            "81) Predicted yield 5.069921016693115 T/ha // Real yield 4.628571510314941 T/ha\n",
            "82) Predicted yield 4.634611129760742 T/ha // Real yield 5.130000114440918 T/ha\n",
            "83) Predicted yield 4.558570384979248 T/ha // Real yield 3.896202325820923 T/ha\n",
            "84) Predicted yield 3.3178551197052 T/ha // Real yield 2.25 T/ha\n",
            "85) Predicted yield 6.290339946746826 T/ha // Real yield 6.0 T/ha\n",
            "86) Predicted yield 6.910794258117676 T/ha // Real yield 6.800000190734863 T/ha\n",
            "87) Predicted yield 6.487646102905273 T/ha // Real yield 9.153846740722656 T/ha\n",
            "88) Predicted yield 5.4980854988098145 T/ha // Real yield 6.0 T/ha\n",
            "89) Predicted yield 6.245794296264648 T/ha // Real yield 3.200000047683716 T/ha\n",
            "90) Predicted yield 6.061089038848877 T/ha // Real yield 7.049999713897705 T/ha\n",
            "91) Predicted yield 4.633481025695801 T/ha // Real yield 4.049999713897705 T/ha\n",
            "92) Predicted yield 4.732066631317139 T/ha // Real yield 4.099999904632568 T/ha\n",
            "93) Predicted yield 6.452834606170654 T/ha // Real yield 4.3179192543029785 T/ha\n",
            "94) Predicted yield 6.910794258117676 T/ha // Real yield 9.137499809265137 T/ha\n",
            "95) Predicted yield 4.878076076507568 T/ha // Real yield 5.400000095367432 T/ha\n",
            "96) Predicted yield 4.662477970123291 T/ha // Real yield 5.400000095367432 T/ha\n",
            "97) Predicted yield 6.75387716293335 T/ha // Real yield 8.300000190734863 T/ha\n",
            "98) Predicted yield 6.2980732917785645 T/ha // Real yield 8.25 T/ha\n",
            "99) Predicted yield 4.622119426727295 T/ha // Real yield 5.99399995803833 T/ha\n",
            "100) Predicted yield 5.080040454864502 T/ha // Real yield 6.75 T/ha\n",
            "101) Predicted yield 6.489285469055176 T/ha // Real yield 3.509999990463257 T/ha\n",
            "102) Predicted yield 5.604213714599609 T/ha // Real yield 5.039999961853027 T/ha\n",
            "103) Predicted yield 5.26754903793335 T/ha // Real yield 4.875 T/ha\n",
            "104) Predicted yield 5.065014362335205 T/ha // Real yield 6.545454502105713 T/ha\n",
            "105) Predicted yield 4.5374627113342285 T/ha // Real yield 5.400000095367432 T/ha\n",
            "106) Predicted yield 6.086341857910156 T/ha // Real yield 6.552000045776367 T/ha\n",
            "107) Predicted yield 4.659660816192627 T/ha // Real yield 4.5 T/ha\n",
            "108) Predicted yield 6.771861553192139 T/ha // Real yield 6.6785712242126465 T/ha\n",
            "109) Predicted yield 5.495302677154541 T/ha // Real yield 9.600000381469727 T/ha\n",
            "110) Predicted yield 5.118636608123779 T/ha // Real yield 8.268750190734863 T/ha\n",
            "111) Predicted yield 7.864687919616699 T/ha // Real yield 8.216666221618652 T/ha\n",
            "112) Predicted yield 6.498971939086914 T/ha // Real yield 6.216000080108643 T/ha\n",
            "113) Predicted yield 6.452834606170654 T/ha // Real yield 4.7909088134765625 T/ha\n",
            "114) Predicted yield 5.263148784637451 T/ha // Real yield 6.5 T/ha\n",
            "115) Predicted yield 7.864232063293457 T/ha // Real yield 9.59999942779541 T/ha\n",
            "116) Predicted yield 6.185164928436279 T/ha // Real yield 7.599999904632568 T/ha\n",
            "117) Predicted yield 4.8773298263549805 T/ha // Real yield 6.600000381469727 T/ha\n",
            "118) Predicted yield 4.566575527191162 T/ha // Real yield 7.124999523162842 T/ha\n",
            "119) Predicted yield 4.85167121887207 T/ha // Real yield 5.940000057220459 T/ha\n",
            "120) Predicted yield 4.883246898651123 T/ha // Real yield 3.375 T/ha\n",
            "121) Predicted yield 4.549953460693359 T/ha // Real yield 4.848979473114014 T/ha\n",
            "122) Predicted yield 5.597748279571533 T/ha // Real yield 4.385964870452881 T/ha\n",
            "123) Predicted yield 5.26754903793335 T/ha // Real yield 5.0 T/ha\n",
            "124) Predicted yield 5.510493755340576 T/ha // Real yield 5.0 T/ha\n",
            "125) Predicted yield 6.726623058319092 T/ha // Real yield 7.840000152587891 T/ha\n",
            "126) Predicted yield 6.185954570770264 T/ha // Real yield 11.399999618530273 T/ha\n",
            "127) Predicted yield 4.5712785720825195 T/ha // Real yield 4.049999713897705 T/ha\n",
            "128) Predicted yield 4.85167121887207 T/ha // Real yield 6.75 T/ha\n",
            "129) Predicted yield 6.7093000411987305 T/ha // Real yield 6.079999923706055 T/ha\n",
            "130) Predicted yield 6.487646102905273 T/ha // Real yield 6.639999866485596 T/ha\n",
            "131) Predicted yield 6.231539726257324 T/ha // Real yield 5.599999904632568 T/ha\n",
            "132) Predicted yield 6.279935836791992 T/ha // Real yield 3.0 T/ha\n",
            "133) Predicted yield 4.66314697265625 T/ha // Real yield 8.09999942779541 T/ha\n"
          ],
          "name": "stdout"
        }
      ]
    }
  ]
}