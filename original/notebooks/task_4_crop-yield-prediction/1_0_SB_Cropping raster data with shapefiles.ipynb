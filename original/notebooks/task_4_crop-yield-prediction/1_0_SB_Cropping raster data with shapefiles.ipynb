{
 "cells": [
  {
   "cell_type": "markdown",
   "metadata": {},
   "source": [
    "# Using shapefiles to crop raster data"
   ]
  },
  {
   "cell_type": "markdown",
   "metadata": {},
   "source": [
    "Contributors: Susanne Brockmann"
   ]
  },
  {
   "cell_type": "markdown",
   "metadata": {},
   "source": [
    "## Imports"
   ]
  },
  {
   "cell_type": "code",
   "execution_count": 1,
   "metadata": {},
   "outputs": [],
   "source": [
    "import pandas as pd\n",
    "import csv\n",
    "from pathlib import Path\n",
    "\n",
    "import matplotlib.pyplot as plt\n",
    "import numpy as np\n",
    "from pprint import pprint\n",
    "\n",
    "import rasterio\n",
    "import rasterio.mask\n",
    "from rasterio.plot import show_hist\n",
    "from rasterio.plot import show\n",
    "\n",
    "import rasterstats\n",
    "from descartes import PolygonPatch\n",
    "\n",
    "from matplotlib import pyplot as plt\n",
    "import geojson\n",
    "from shapely.geometry import Point, mapping, shape, Polygon\n",
    "from fiona import collection\n",
    "import fiona\n",
    "import geopandas as gpd\n",
    "import geoplot"
   ]
  },
  {
   "cell_type": "markdown",
   "metadata": {},
   "source": [
    "## Setting up the data access"
   ]
  },
  {
   "cell_type": "code",
   "execution_count": 2,
   "metadata": {},
   "outputs": [
    {
     "name": "stdout",
     "output_type": "stream",
     "text": [
      "H:\\Omdena-food\\GPSDD-Food-Security-Senegal\\data\\Regions\\MOD09A1_TerraSurfaceReflectance_Senegal_regions\n",
      "H:\\Omdena-food\\GPSDD-Food-Security-Senegal\\data\\Regions\\MOD09A1_TerraSurfaceReflectance_Senegal_regions\\senegal_reflectance_senegal-matam_2015-01-01_2016-01-01.tif\n"
     ]
    }
   ],
   "source": [
    "#H:\\Omdena-food\\GPSDD-Food-Security-Senegal\\data\\data\\Landsat_8_Region\n",
    "#H:\\Omdena-food\\GPSDD-Food-Security-Senegal\\data\\Regions\n",
    "#raster_data_folder = Path.cwd().parent.parent.joinpath('data', 'data', 'Landsat_8_Region')\n",
    "raster_data_folder = Path.cwd().parent.parent.joinpath('data', 'Regions', 'MOD09A1_TerraSurfaceReflectance_Senegal_regions')\n",
    "print(raster_data_folder)\n",
    "#input_filename = 'matam_region_2015.tif'\n",
    "#input_filename = 'senegal_reflectance_senegal-dakar_2015-01-01_2016-01-01.tif'\n",
    "input_filename = 'senegal_reflectance_senegal-matam_2015-01-01_2016-01-01.tif'\n",
    "input_raster_file= Path(raster_data_folder).joinpath(input_filename)\n",
    "print(input_raster_file)"
   ]
  },
  {
   "cell_type": "code",
   "execution_count": 4,
   "metadata": {},
   "outputs": [],
   "source": [
    "try:\n",
    "    open(input_raster_file)\n",
    "except:\n",
    "    print(f\"The file '{input_raster_file}' is not available at the specified location. Please download it.\")\n",
    "# TODO: Create automatic download from S3 and extraction into the corresponding folder "
   ]
  },
  {
   "cell_type": "code",
   "execution_count": 5,
   "metadata": {},
   "outputs": [
    {
     "name": "stdout",
     "output_type": "stream",
     "text": [
      "H:\\Omdena-food\\GPSDD-Food-Security-Senegal\\data\\external\\IPAR\\yields_IPAR - rice_CSC.csv\n"
     ]
    }
   ],
   "source": [
    "data_folder = Path.cwd().parent.parent.joinpath('data', )\n",
    "#print(data_folder)\n",
    "file_name = \"yields_IPAR - rice_CSC.csv\"\n",
    "rice_irr_file_path = Path(data_folder).joinpath(\"external\", \"IPAR\", file_name)\n",
    "print(rice_irr_file_path)"
   ]
  },
  {
   "cell_type": "code",
   "execution_count": 6,
   "metadata": {},
   "outputs": [
    {
     "data": {
      "text/html": [
       "<div>\n",
       "<style scoped>\n",
       "    .dataframe tbody tr th:only-of-type {\n",
       "        vertical-align: middle;\n",
       "    }\n",
       "\n",
       "    .dataframe tbody tr th {\n",
       "        vertical-align: top;\n",
       "    }\n",
       "\n",
       "    .dataframe thead th {\n",
       "        text-align: right;\n",
       "    }\n",
       "</style>\n",
       "<table border=\"1\" class=\"dataframe\">\n",
       "  <thead>\n",
       "    <tr style=\"text-align: right;\">\n",
       "      <th></th>\n",
       "      <th>KEY</th>\n",
       "      <th>ID_menage</th>\n",
       "      <th>riz_irrig_csc2</th>\n",
       "      <th>riz_irrig_hiv2</th>\n",
       "      <th>crops_cult1 irrigated rice</th>\n",
       "      <th>season_cult1</th>\n",
       "      <th>Area planted (ha) irrigated rice</th>\n",
       "      <th>Quantity produced (Kg) irrigated rice</th>\n",
       "      <th>Yield (T/ha)</th>\n",
       "      <th>Department</th>\n",
       "      <th>Counties</th>\n",
       "      <th>Village</th>\n",
       "      <th>gpslat</th>\n",
       "      <th>gpslon</th>\n",
       "    </tr>\n",
       "  </thead>\n",
       "  <tbody>\n",
       "    <tr>\n",
       "      <th>0</th>\n",
       "      <td>uuid:05583819-bbbb-48cf-831f-90837030102a</td>\n",
       "      <td>5.580000e+38</td>\n",
       "      <td>1</td>\n",
       "      <td>0</td>\n",
       "      <td>CSC Irrigated Rice</td>\n",
       "      <td>3</td>\n",
       "      <td>0.50</td>\n",
       "      <td>700.0</td>\n",
       "      <td>1.400000</td>\n",
       "      <td>MATAM</td>\n",
       "      <td>NABADJI-CIVOL</td>\n",
       "      <td>SEDDO ABBAS</td>\n",
       "      <td>15.775458</td>\n",
       "      <td>-13.468248</td>\n",
       "    </tr>\n",
       "    <tr>\n",
       "      <th>1</th>\n",
       "      <td>uuid:826eea2b-e840-428c-bfc0-3322b56a4354</td>\n",
       "      <td>8.270000e+39</td>\n",
       "      <td>1</td>\n",
       "      <td>1</td>\n",
       "      <td>CSC Irrigated Rice</td>\n",
       "      <td>2</td>\n",
       "      <td>5.00</td>\n",
       "      <td>30750.0</td>\n",
       "      <td>6.150000</td>\n",
       "      <td>DAGANA</td>\n",
       "      <td>DIAMA</td>\n",
       "      <td>MBOUNDOUME BARRAGE</td>\n",
       "      <td>16.399498</td>\n",
       "      <td>-16.075737</td>\n",
       "    </tr>\n",
       "    <tr>\n",
       "      <th>2</th>\n",
       "      <td>uuid:abcf1d41-bab2-4340-a7c8-03e610962e46</td>\n",
       "      <td>1.240000e+39</td>\n",
       "      <td>1</td>\n",
       "      <td>0</td>\n",
       "      <td>CSC Irrigated Rice</td>\n",
       "      <td>2</td>\n",
       "      <td>0.40</td>\n",
       "      <td>2820.0</td>\n",
       "      <td>7.050000</td>\n",
       "      <td>DAGANA</td>\n",
       "      <td>BOKHOL</td>\n",
       "      <td>BOKHOL</td>\n",
       "      <td>16.522778</td>\n",
       "      <td>-15.399270</td>\n",
       "    </tr>\n",
       "    <tr>\n",
       "      <th>3</th>\n",
       "      <td>uuid:ab37f2a6-51f4-41c2-9ff4-9d30d66c358e</td>\n",
       "      <td>1.240000e+39</td>\n",
       "      <td>1</td>\n",
       "      <td>0</td>\n",
       "      <td>CSC Irrigated Rice</td>\n",
       "      <td>2</td>\n",
       "      <td>1.00</td>\n",
       "      <td>4000.0</td>\n",
       "      <td>4.000000</td>\n",
       "      <td>DAGANA</td>\n",
       "      <td>RONKH</td>\n",
       "      <td>H3 KEUR L ISLAM</td>\n",
       "      <td>16.341932</td>\n",
       "      <td>-16.004917</td>\n",
       "    </tr>\n",
       "    <tr>\n",
       "      <th>4</th>\n",
       "      <td>uuid:3513b03f-dde4-4f87-88a3-44e34125b968</td>\n",
       "      <td>3.510000e+39</td>\n",
       "      <td>1</td>\n",
       "      <td>0</td>\n",
       "      <td>CSC Irrigated Rice</td>\n",
       "      <td>2</td>\n",
       "      <td>1.00</td>\n",
       "      <td>5760.0</td>\n",
       "      <td>5.760000</td>\n",
       "      <td>DAGANA</td>\n",
       "      <td>RONKH</td>\n",
       "      <td>H3 KEUR L ISLAM</td>\n",
       "      <td>16.342237</td>\n",
       "      <td>-16.004182</td>\n",
       "    </tr>\n",
       "    <tr>\n",
       "      <th>...</th>\n",
       "      <td>...</td>\n",
       "      <td>...</td>\n",
       "      <td>...</td>\n",
       "      <td>...</td>\n",
       "      <td>...</td>\n",
       "      <td>...</td>\n",
       "      <td>...</td>\n",
       "      <td>...</td>\n",
       "      <td>...</td>\n",
       "      <td>...</td>\n",
       "      <td>...</td>\n",
       "      <td>...</td>\n",
       "      <td>...</td>\n",
       "      <td>...</td>\n",
       "    </tr>\n",
       "    <tr>\n",
       "      <th>154</th>\n",
       "      <td>uuid:e784fac7-e07a-4f29-9f40-0b9b7d1b074e</td>\n",
       "      <td>5.780000e+39</td>\n",
       "      <td>1</td>\n",
       "      <td>0</td>\n",
       "      <td>CSC Irrigated Rice</td>\n",
       "      <td>1</td>\n",
       "      <td>1.00</td>\n",
       "      <td>1400.0</td>\n",
       "      <td>1.400000</td>\n",
       "      <td>MATAM</td>\n",
       "      <td>BOKIDIAWE</td>\n",
       "      <td>BOKIDIAWE SARAKHOLE</td>\n",
       "      <td>NaN</td>\n",
       "      <td>NaN</td>\n",
       "    </tr>\n",
       "    <tr>\n",
       "      <th>155</th>\n",
       "      <td>uuid:b2db5d38-9240-48c1-8035-259d442669c0</td>\n",
       "      <td>2.240000e+39</td>\n",
       "      <td>1</td>\n",
       "      <td>0</td>\n",
       "      <td>CSC Irrigated Rice</td>\n",
       "      <td>2</td>\n",
       "      <td>3.46</td>\n",
       "      <td>14940.0</td>\n",
       "      <td>4.317919</td>\n",
       "      <td>DAGANA</td>\n",
       "      <td>RONKH</td>\n",
       "      <td>KHEUNE</td>\n",
       "      <td>16.522475</td>\n",
       "      <td>-16.108760</td>\n",
       "    </tr>\n",
       "    <tr>\n",
       "      <th>156</th>\n",
       "      <td>uuid:0be59f89-7e8c-4f90-86bc-beaf7d86f21c</td>\n",
       "      <td>2.560000e+38</td>\n",
       "      <td>1</td>\n",
       "      <td>0</td>\n",
       "      <td>CSC Irrigated Rice</td>\n",
       "      <td>2</td>\n",
       "      <td>0.57</td>\n",
       "      <td>3500.0</td>\n",
       "      <td>6.140351</td>\n",
       "      <td>PODOR</td>\n",
       "      <td>NDIAYENE PENDAO</td>\n",
       "      <td>NDIAYENNE PENDAO</td>\n",
       "      <td>16.503432</td>\n",
       "      <td>-15.047150</td>\n",
       "    </tr>\n",
       "    <tr>\n",
       "      <th>157</th>\n",
       "      <td>uuid:4015788a-b9c1-4a9d-942b-c5797bc003e1</td>\n",
       "      <td>4.020000e+39</td>\n",
       "      <td>1</td>\n",
       "      <td>0</td>\n",
       "      <td>CSC Irrigated Rice</td>\n",
       "      <td>2</td>\n",
       "      <td>3.00</td>\n",
       "      <td>7040.0</td>\n",
       "      <td>2.346667</td>\n",
       "      <td>DAGANA</td>\n",
       "      <td>DIAMA</td>\n",
       "      <td>MBOUNDOUME BARRAGE</td>\n",
       "      <td>16.398233</td>\n",
       "      <td>-16.076235</td>\n",
       "    </tr>\n",
       "    <tr>\n",
       "      <th>158</th>\n",
       "      <td>uuid:d4ca4414-b904-4437-a5c3-117b11f75e88</td>\n",
       "      <td>4.430000e+39</td>\n",
       "      <td>1</td>\n",
       "      <td>0</td>\n",
       "      <td>CSC Irrigated Rice</td>\n",
       "      <td>2</td>\n",
       "      <td>1.10</td>\n",
       "      <td>5270.0</td>\n",
       "      <td>4.790909</td>\n",
       "      <td>DAGANA</td>\n",
       "      <td>RONKH</td>\n",
       "      <td>KHEUNE</td>\n",
       "      <td>16.522430</td>\n",
       "      <td>-16.108630</td>\n",
       "    </tr>\n",
       "  </tbody>\n",
       "</table>\n",
       "<p>159 rows × 14 columns</p>\n",
       "</div>"
      ],
      "text/plain": [
       "                                           KEY     ID_menage  riz_irrig_csc2  \\\n",
       "0    uuid:05583819-bbbb-48cf-831f-90837030102a  5.580000e+38               1   \n",
       "1    uuid:826eea2b-e840-428c-bfc0-3322b56a4354  8.270000e+39               1   \n",
       "2    uuid:abcf1d41-bab2-4340-a7c8-03e610962e46  1.240000e+39               1   \n",
       "3    uuid:ab37f2a6-51f4-41c2-9ff4-9d30d66c358e  1.240000e+39               1   \n",
       "4    uuid:3513b03f-dde4-4f87-88a3-44e34125b968  3.510000e+39               1   \n",
       "..                                         ...           ...             ...   \n",
       "154  uuid:e784fac7-e07a-4f29-9f40-0b9b7d1b074e  5.780000e+39               1   \n",
       "155  uuid:b2db5d38-9240-48c1-8035-259d442669c0  2.240000e+39               1   \n",
       "156  uuid:0be59f89-7e8c-4f90-86bc-beaf7d86f21c  2.560000e+38               1   \n",
       "157  uuid:4015788a-b9c1-4a9d-942b-c5797bc003e1  4.020000e+39               1   \n",
       "158  uuid:d4ca4414-b904-4437-a5c3-117b11f75e88  4.430000e+39               1   \n",
       "\n",
       "     riz_irrig_hiv2 crops_cult1 irrigated rice  season_cult1  \\\n",
       "0                 0         CSC Irrigated Rice             3   \n",
       "1                 1         CSC Irrigated Rice             2   \n",
       "2                 0         CSC Irrigated Rice             2   \n",
       "3                 0         CSC Irrigated Rice             2   \n",
       "4                 0         CSC Irrigated Rice             2   \n",
       "..              ...                        ...           ...   \n",
       "154               0         CSC Irrigated Rice             1   \n",
       "155               0         CSC Irrigated Rice             2   \n",
       "156               0         CSC Irrigated Rice             2   \n",
       "157               0         CSC Irrigated Rice             2   \n",
       "158               0         CSC Irrigated Rice             2   \n",
       "\n",
       "     Area planted (ha) irrigated rice  Quantity produced (Kg) irrigated rice  \\\n",
       "0                                0.50                                  700.0   \n",
       "1                                5.00                                30750.0   \n",
       "2                                0.40                                 2820.0   \n",
       "3                                1.00                                 4000.0   \n",
       "4                                1.00                                 5760.0   \n",
       "..                                ...                                    ...   \n",
       "154                              1.00                                 1400.0   \n",
       "155                              3.46                                14940.0   \n",
       "156                              0.57                                 3500.0   \n",
       "157                              3.00                                 7040.0   \n",
       "158                              1.10                                 5270.0   \n",
       "\n",
       "     Yield (T/ha) Department         Counties              Village     gpslat  \\\n",
       "0        1.400000      MATAM    NABADJI-CIVOL          SEDDO ABBAS  15.775458   \n",
       "1        6.150000     DAGANA            DIAMA   MBOUNDOUME BARRAGE  16.399498   \n",
       "2        7.050000     DAGANA           BOKHOL               BOKHOL  16.522778   \n",
       "3        4.000000     DAGANA            RONKH      H3 KEUR L ISLAM  16.341932   \n",
       "4        5.760000     DAGANA            RONKH      H3 KEUR L ISLAM  16.342237   \n",
       "..            ...        ...              ...                  ...        ...   \n",
       "154      1.400000      MATAM        BOKIDIAWE  BOKIDIAWE SARAKHOLE        NaN   \n",
       "155      4.317919     DAGANA            RONKH               KHEUNE  16.522475   \n",
       "156      6.140351      PODOR  NDIAYENE PENDAO     NDIAYENNE PENDAO  16.503432   \n",
       "157      2.346667     DAGANA            DIAMA   MBOUNDOUME BARRAGE  16.398233   \n",
       "158      4.790909     DAGANA            RONKH               KHEUNE  16.522430   \n",
       "\n",
       "        gpslon  \n",
       "0   -13.468248  \n",
       "1   -16.075737  \n",
       "2   -15.399270  \n",
       "3   -16.004917  \n",
       "4   -16.004182  \n",
       "..         ...  \n",
       "154        NaN  \n",
       "155 -16.108760  \n",
       "156 -15.047150  \n",
       "157 -16.076235  \n",
       "158 -16.108630  \n",
       "\n",
       "[159 rows x 14 columns]"
      ]
     },
     "execution_count": 6,
     "metadata": {},
     "output_type": "execute_result"
    }
   ],
   "source": [
    "rice_irr_yield = pd.read_csv(rice_irr_file_path)\n",
    "rice_irr_yield"
   ]
  },
  {
   "cell_type": "code",
   "execution_count": 7,
   "metadata": {},
   "outputs": [
    {
     "data": {
      "text/plain": [
       "<Geographic 2D CRS: EPSG:4326>\n",
       "Name: WGS 84\n",
       "Axis Info [ellipsoidal]:\n",
       "- Lat[north]: Geodetic latitude (degree)\n",
       "- Lon[east]: Geodetic longitude (degree)\n",
       "Area of Use:\n",
       "- name: World\n",
       "- bounds: (-180.0, -90.0, 180.0, 90.0)\n",
       "Datum: World Geodetic System 1984\n",
       "- Ellipsoid: WGS 84\n",
       "- Prime Meridian: Greenwich"
      ]
     },
     "execution_count": 7,
     "metadata": {},
     "output_type": "execute_result"
    }
   ],
   "source": [
    "# create a geopandas dataframe and set the crs\n",
    "rice_irr_yield_gpd = gpd.GeoDataFrame(rice_irr_yield, geometry=gpd.points_from_xy(rice_irr_yield.gpslon, rice_irr_yield.gpslat))\n",
    "rice_irr_yield_gpd.crs ='EPSG:4326'\n",
    "rice_irr_yield_gpd.crs"
   ]
  },
  {
   "cell_type": "code",
   "execution_count": 8,
   "metadata": {},
   "outputs": [
    {
     "data": {
      "text/html": [
       "<div>\n",
       "<style scoped>\n",
       "    .dataframe tbody tr th:only-of-type {\n",
       "        vertical-align: middle;\n",
       "    }\n",
       "\n",
       "    .dataframe tbody tr th {\n",
       "        vertical-align: top;\n",
       "    }\n",
       "\n",
       "    .dataframe thead th {\n",
       "        text-align: right;\n",
       "    }\n",
       "</style>\n",
       "<table border=\"1\" class=\"dataframe\">\n",
       "  <thead>\n",
       "    <tr style=\"text-align: right;\">\n",
       "      <th></th>\n",
       "      <th>KEY</th>\n",
       "      <th>ID_menage</th>\n",
       "      <th>riz_irrig_csc2</th>\n",
       "      <th>riz_irrig_hiv2</th>\n",
       "      <th>crops_cult1 irrigated rice</th>\n",
       "      <th>season_cult1</th>\n",
       "      <th>Area planted (ha) irrigated rice</th>\n",
       "      <th>Quantity produced (Kg) irrigated rice</th>\n",
       "      <th>Yield (T/ha)</th>\n",
       "      <th>Department</th>\n",
       "      <th>Counties</th>\n",
       "      <th>Village</th>\n",
       "      <th>gpslat</th>\n",
       "      <th>gpslon</th>\n",
       "      <th>geometry</th>\n",
       "    </tr>\n",
       "  </thead>\n",
       "  <tbody>\n",
       "    <tr>\n",
       "      <th>0</th>\n",
       "      <td>uuid:05583819-bbbb-48cf-831f-90837030102a</td>\n",
       "      <td>5.580000e+38</td>\n",
       "      <td>1</td>\n",
       "      <td>0</td>\n",
       "      <td>CSC Irrigated Rice</td>\n",
       "      <td>3</td>\n",
       "      <td>0.5</td>\n",
       "      <td>700.0</td>\n",
       "      <td>1.40</td>\n",
       "      <td>MATAM</td>\n",
       "      <td>NABADJI-CIVOL</td>\n",
       "      <td>SEDDO ABBAS</td>\n",
       "      <td>15.775458</td>\n",
       "      <td>-13.468248</td>\n",
       "      <td>POINT (-13.46825 15.77546)</td>\n",
       "    </tr>\n",
       "    <tr>\n",
       "      <th>1</th>\n",
       "      <td>uuid:826eea2b-e840-428c-bfc0-3322b56a4354</td>\n",
       "      <td>8.270000e+39</td>\n",
       "      <td>1</td>\n",
       "      <td>1</td>\n",
       "      <td>CSC Irrigated Rice</td>\n",
       "      <td>2</td>\n",
       "      <td>5.0</td>\n",
       "      <td>30750.0</td>\n",
       "      <td>6.15</td>\n",
       "      <td>DAGANA</td>\n",
       "      <td>DIAMA</td>\n",
       "      <td>MBOUNDOUME BARRAGE</td>\n",
       "      <td>16.399498</td>\n",
       "      <td>-16.075737</td>\n",
       "      <td>POINT (-16.07574 16.39950)</td>\n",
       "    </tr>\n",
       "    <tr>\n",
       "      <th>2</th>\n",
       "      <td>uuid:abcf1d41-bab2-4340-a7c8-03e610962e46</td>\n",
       "      <td>1.240000e+39</td>\n",
       "      <td>1</td>\n",
       "      <td>0</td>\n",
       "      <td>CSC Irrigated Rice</td>\n",
       "      <td>2</td>\n",
       "      <td>0.4</td>\n",
       "      <td>2820.0</td>\n",
       "      <td>7.05</td>\n",
       "      <td>DAGANA</td>\n",
       "      <td>BOKHOL</td>\n",
       "      <td>BOKHOL</td>\n",
       "      <td>16.522778</td>\n",
       "      <td>-15.399270</td>\n",
       "      <td>POINT (-15.39927 16.52278)</td>\n",
       "    </tr>\n",
       "    <tr>\n",
       "      <th>3</th>\n",
       "      <td>uuid:ab37f2a6-51f4-41c2-9ff4-9d30d66c358e</td>\n",
       "      <td>1.240000e+39</td>\n",
       "      <td>1</td>\n",
       "      <td>0</td>\n",
       "      <td>CSC Irrigated Rice</td>\n",
       "      <td>2</td>\n",
       "      <td>1.0</td>\n",
       "      <td>4000.0</td>\n",
       "      <td>4.00</td>\n",
       "      <td>DAGANA</td>\n",
       "      <td>RONKH</td>\n",
       "      <td>H3 KEUR L ISLAM</td>\n",
       "      <td>16.341932</td>\n",
       "      <td>-16.004917</td>\n",
       "      <td>POINT (-16.00492 16.34193)</td>\n",
       "    </tr>\n",
       "    <tr>\n",
       "      <th>4</th>\n",
       "      <td>uuid:3513b03f-dde4-4f87-88a3-44e34125b968</td>\n",
       "      <td>3.510000e+39</td>\n",
       "      <td>1</td>\n",
       "      <td>0</td>\n",
       "      <td>CSC Irrigated Rice</td>\n",
       "      <td>2</td>\n",
       "      <td>1.0</td>\n",
       "      <td>5760.0</td>\n",
       "      <td>5.76</td>\n",
       "      <td>DAGANA</td>\n",
       "      <td>RONKH</td>\n",
       "      <td>H3 KEUR L ISLAM</td>\n",
       "      <td>16.342237</td>\n",
       "      <td>-16.004182</td>\n",
       "      <td>POINT (-16.00418 16.34224)</td>\n",
       "    </tr>\n",
       "  </tbody>\n",
       "</table>\n",
       "</div>"
      ],
      "text/plain": [
       "                                         KEY     ID_menage  riz_irrig_csc2  \\\n",
       "0  uuid:05583819-bbbb-48cf-831f-90837030102a  5.580000e+38               1   \n",
       "1  uuid:826eea2b-e840-428c-bfc0-3322b56a4354  8.270000e+39               1   \n",
       "2  uuid:abcf1d41-bab2-4340-a7c8-03e610962e46  1.240000e+39               1   \n",
       "3  uuid:ab37f2a6-51f4-41c2-9ff4-9d30d66c358e  1.240000e+39               1   \n",
       "4  uuid:3513b03f-dde4-4f87-88a3-44e34125b968  3.510000e+39               1   \n",
       "\n",
       "   riz_irrig_hiv2 crops_cult1 irrigated rice  season_cult1  \\\n",
       "0               0         CSC Irrigated Rice             3   \n",
       "1               1         CSC Irrigated Rice             2   \n",
       "2               0         CSC Irrigated Rice             2   \n",
       "3               0         CSC Irrigated Rice             2   \n",
       "4               0         CSC Irrigated Rice             2   \n",
       "\n",
       "   Area planted (ha) irrigated rice  Quantity produced (Kg) irrigated rice  \\\n",
       "0                               0.5                                  700.0   \n",
       "1                               5.0                                30750.0   \n",
       "2                               0.4                                 2820.0   \n",
       "3                               1.0                                 4000.0   \n",
       "4                               1.0                                 5760.0   \n",
       "\n",
       "   Yield (T/ha) Department       Counties             Village     gpslat  \\\n",
       "0          1.40      MATAM  NABADJI-CIVOL         SEDDO ABBAS  15.775458   \n",
       "1          6.15     DAGANA          DIAMA  MBOUNDOUME BARRAGE  16.399498   \n",
       "2          7.05     DAGANA         BOKHOL              BOKHOL  16.522778   \n",
       "3          4.00     DAGANA          RONKH     H3 KEUR L ISLAM  16.341932   \n",
       "4          5.76     DAGANA          RONKH     H3 KEUR L ISLAM  16.342237   \n",
       "\n",
       "      gpslon                    geometry  \n",
       "0 -13.468248  POINT (-13.46825 15.77546)  \n",
       "1 -16.075737  POINT (-16.07574 16.39950)  \n",
       "2 -15.399270  POINT (-15.39927 16.52278)  \n",
       "3 -16.004917  POINT (-16.00492 16.34193)  \n",
       "4 -16.004182  POINT (-16.00418 16.34224)  "
      ]
     },
     "execution_count": 8,
     "metadata": {},
     "output_type": "execute_result"
    }
   ],
   "source": [
    "rice_irr_yield_gpd.head()"
   ]
  },
  {
   "cell_type": "code",
   "execution_count": 17,
   "metadata": {},
   "outputs": [
    {
     "data": {
      "text/plain": [
       "0      POINT (-13.46825 15.77546)\n",
       "1      POINT (-16.07574 16.39950)\n",
       "2      POINT (-15.39927 16.52278)\n",
       "3      POINT (-16.00492 16.34193)\n",
       "4      POINT (-16.00418 16.34224)\n",
       "                  ...            \n",
       "154               POINT (nan nan)\n",
       "155    POINT (-16.10876 16.52248)\n",
       "156    POINT (-15.04715 16.50343)\n",
       "157    POINT (-16.07624 16.39823)\n",
       "158    POINT (-16.10863 16.52243)\n",
       "Name: geometry, Length: 159, dtype: geometry"
      ]
     },
     "execution_count": 17,
     "metadata": {},
     "output_type": "execute_result"
    }
   ],
   "source": [
    "rice_irr_yield_gpd.geometry"
   ]
  },
  {
   "cell_type": "code",
   "execution_count": 9,
   "metadata": {},
   "outputs": [],
   "source": [
    "rice_irr_yield_gpd = rice_irr_yield_gpd.dropna()"
   ]
  },
  {
   "cell_type": "code",
   "execution_count": 10,
   "metadata": {},
   "outputs": [
    {
     "data": {
      "text/plain": [
       "0      POLYGON ((-13.47274 15.77111, -13.47274 15.779...\n",
       "1      POLYGON ((-16.08023 16.39516, -16.08023 16.403...\n",
       "2      POLYGON ((-15.40376 16.51845, -15.40376 16.527...\n",
       "3      POLYGON ((-16.00941 16.33759, -16.00941 16.346...\n",
       "4      POLYGON ((-16.00867 16.33790, -16.00867 16.346...\n",
       "                             ...                        \n",
       "153    POLYGON ((-13.32818 15.60290, -13.32818 15.611...\n",
       "155    POLYGON ((-16.11325 16.51814, -16.11325 16.526...\n",
       "156    POLYGON ((-15.05164 16.49910, -15.05164 16.507...\n",
       "157    POLYGON ((-16.08073 16.39390, -16.08073 16.402...\n",
       "158    POLYGON ((-16.11312 16.51810, -16.11312 16.526...\n",
       "Length: 157, dtype: geometry"
      ]
     },
     "execution_count": 10,
     "metadata": {},
     "output_type": "execute_result"
    }
   ],
   "source": [
    "length = 1000 # width and height of square in meters\n",
    "\n",
    "rice_irr_yield_gpd['lat_long_m'] = rice_irr_yield_gpd['geometry'].to_crs('epsg:3395')\n",
    "# set the shapefile column to geometry for easy access\n",
    "# the geometry attribute determines which column contains the \"spatial\" data\n",
    "rice_irr_yield_gpd.set_geometry('lat_long_m')\n",
    "# creates a tuple of bbox coordinates arround a buffered point \n",
    "#rice_irr_yield_gpd['bbox'] = rice_irr_yield_gpd.apply(lambda x: x.lat_long_m.buffer(length/2).bounds, axis=1) \n",
    "bbox = rice_irr_yield_gpd.apply(lambda x: Polygon.from_bounds(*x.lat_long_m.buffer(length/2).bounds), axis=1) \n",
    "\n",
    "bbox_gdf = gpd.GeoSeries(bbox, crs='epsg:3395')\n",
    "bbox_gdf_4326 = bbox_gdf.to_crs('epsg:4326')\n",
    "bbox_gdf_4326\n",
    "\n",
    "#rice_irr_yield_gpd.set_geometry('bbox')\n",
    "#rice_irr_yield_gpd['bbox_4326'] = rice_irr_yield_gpd['bbox'].to_crs('epsg:4326')\n",
    "\n",
    "#rice_irr_yield_gpd.set_geometry('bbox_coords')\n",
    "#rice_irr_yield_gpd['bbox_4326'] = rice_irr_yield_gpd['bbox_coords'].to_crs('epsg:4326')\n",
    "\n",
    "#rice_irr_yield_gpd.info()\n",
    "#rice_irr_yield_gpd.head()"
   ]
  },
  {
   "cell_type": "code",
   "execution_count": 34,
   "metadata": {},
   "outputs": [
    {
     "data": {
      "text/plain": [
       "[0    POLYGON ((-13.47274 15.77111, -13.47274 15.779...\n",
       " 1    POLYGON ((-16.08023 16.39516, -16.08023 16.403...\n",
       " 2    POLYGON ((-15.40376 16.51845, -15.40376 16.527...\n",
       " dtype: geometry]"
      ]
     },
     "execution_count": 34,
     "metadata": {},
     "output_type": "execute_result"
    }
   ],
   "source": [
    "shape = [bbox_gdf_4326[0]]\n",
    "shape[0]#.bounds"
   ]
  },
  {
   "cell_type": "code",
   "execution_count": 12,
   "metadata": {},
   "outputs": [],
   "source": [
    "# read geometries, and mask out regions of a raster that are outside the polygons defined in the shapefile\n",
    "with rasterio.open(input_raster_file) as src:\n",
    "    out_image, out_transform = rasterio.mask.mask(src, shape, crop=True)\n",
    "    out_meta = src.meta\n",
    "# save the resulting raster\n",
    "out_meta.update({\"driver\": \"GTiff\",\n",
    "    \"height\": out_image.shape[1],\n",
    "    \"width\": out_image.shape[2],\n",
    "\"transform\": out_transform})"
   ]
  },
  {
   "cell_type": "code",
   "execution_count": 13,
   "metadata": {},
   "outputs": [
    {
     "data": {
      "text/plain": [
       "{'driver': 'GTiff',\n",
       " 'dtype': 'int16',\n",
       " 'nodata': None,\n",
       " 'width': 8,\n",
       " 'height': 7,\n",
       " 'count': 322,\n",
       " 'crs': CRS.from_epsg(4326),\n",
       " 'transform': Affine(0.0013474729261792823, 0.0, -13.473381788866645,\n",
       "        0.0, -0.0013474729261792823, 15.780255438485575)}"
      ]
     },
     "execution_count": 13,
     "metadata": {},
     "output_type": "execute_result"
    }
   ],
   "source": [
    "out_meta"
   ]
  },
  {
   "cell_type": "code",
   "execution_count": 14,
   "metadata": {},
   "outputs": [
    {
     "data": {
      "image/png": "[encoded data removed]",
      "text/plain": [
       "<Figure size 432x288 with 1 Axes>"
      ]
     },
     "metadata": {
      "needs_background": "light"
     },
     "output_type": "display_data"
    },
    {
     "data": {
      "image/png": "[encoded data removed]",
      "text/plain": [
       "<Figure size 432x288 with 1 Axes>"
      ]
     },
     "metadata": {
      "needs_background": "light"
     },
     "output_type": "display_data"
    },
    {
     "data": {
      "image/png": "[encoded data removed]",
      "text/plain": [
       "<Figure size 432x288 with 1 Axes>"
      ]
     },
     "metadata": {
      "needs_background": "light"
     },
     "output_type": "display_data"
    },
    {
     "data": {
      "text/plain": [
       "(<AxesSubplot:>, <AxesSubplot:>, <AxesSubplot:>)"
      ]
     },
     "execution_count": 14,
     "metadata": {},
     "output_type": "execute_result"
    }
   ],
   "source": [
    "show(out_image[0]), show(out_image[1]),  show(out_image[2])"
   ]
  },
  {
   "cell_type": "code",
   "execution_count": null,
   "metadata": {},
   "outputs": [],
   "source": [
    "\n",
    "with rasterio.open(\"masked.tif\", \"w\", **out_meta) as dest:\n",
    "    dest.write(out_image)"
   ]
  },
  {
   "cell_type": "code",
   "execution_count": 15,
   "metadata": {},
   "outputs": [],
   "source": [
    "raster_data = rasterio.open(input_raster_file)"
   ]
  },
  {
   "cell_type": "code",
   "execution_count": 16,
   "metadata": {},
   "outputs": [
    {
     "data": {
      "text/plain": [
       "{'driver': 'GTiff',\n",
       " 'dtype': 'int16',\n",
       " 'nodata': None,\n",
       " 'width': 1678,\n",
       " 'height': 1295,\n",
       " 'count': 322,\n",
       " 'crs': CRS.from_epsg(4326),\n",
       " 'transform': Affine(0.0013474729261792823, 0.0, -14.85049911942187,\n",
       "        0.0, -0.0013474729261792823, 16.150810493184878)}"
      ]
     },
     "execution_count": 16,
     "metadata": {},
     "output_type": "execute_result"
    }
   ],
   "source": [
    "raster_data.meta"
   ]
  },
  {
   "cell_type": "code",
   "execution_count": 17,
   "metadata": {},
   "outputs": [],
   "source": [
    "data= raster_data.read()"
   ]
  },
  {
   "cell_type": "code",
   "execution_count": 148,
   "metadata": {},
   "outputs": [],
   "source": [
    "#print(raster_data.crs.linear_units)"
   ]
  },
  {
   "cell_type": "code",
   "execution_count": 18,
   "metadata": {},
   "outputs": [
    {
     "data": {
      "text/plain": [
       "BoundingBox(left=-14.85049911942187, bottom=14.405833053782708, right=-12.589439549293035, top=16.150810493184878)"
      ]
     },
     "execution_count": 18,
     "metadata": {},
     "output_type": "execute_result"
    }
   ],
   "source": [
    "raster_data.bounds"
   ]
  },
  {
   "cell_type": "code",
   "execution_count": 35,
   "metadata": {},
   "outputs": [
    {
     "data": {
      "text/plain": [
       "<AxesSubplot:>"
      ]
     },
     "execution_count": 35,
     "metadata": {},
     "output_type": "execute_result"
    },
    {
     "data": {
      "image/png": "[encoded data removed]",
      "text/plain": [
       "<Figure size 432x288 with 1 Axes>"
      ]
     },
     "metadata": {
      "needs_background": "light"
     },
     "output_type": "display_data"
    }
   ],
   "source": [
    "f, ax = plt.subplots()\n",
    "#plt.imshow(data)\n",
    "show(raster_data, ax= ax, with_bounds=True, transform=raster_data.transform)\n",
    "bbox_gdf_4326.plot(ax=ax, markersize=1, edgecolor = 'red')"
   ]
  },
  {
   "cell_type": "code",
   "execution_count": null,
   "metadata": {},
   "outputs": [],
   "source": []
  },
  {
   "cell_type": "markdown",
   "metadata": {},
   "source": [
    "Notes:\n",
    "The above code tries to create a bounding box in meters. Due to the low resolution of the images we get irregularly shaped masks. To avoid this we should create the bounding box based on the pixels of the image not of meters on ground.\n",
    "https://gis.stackexchange.com/questions/299787/finding-pixel-location-in-raster-using-coordinates"
   ]
  },
  {
   "cell_type": "code",
   "execution_count": 27,
   "metadata": {},
   "outputs": [],
   "source": [
    "WIDTH = 85\n",
    "HEIGHT = 83\n",
    "CENTER_DISTANCE = 70  # Hyperparameter to tune?"
   ]
  },
  {
   "cell_type": "code",
   "execution_count": 28,
   "metadata": {},
   "outputs": [
    {
     "name": "stdout",
     "output_type": "stream",
     "text": [
      "15.77545833 -13.46824833\n"
     ]
    }
   ],
   "source": [
    "i = 0\n",
    "lat = rice_irr_yield_gpd.loc[i, 'gpslat']\n",
    "lon = rice_irr_yield_gpd.loc[i, 'gpslon']\n",
    "print(lat, lon)"
   ]
  },
  {
   "cell_type": "code",
   "execution_count": 25,
   "metadata": {},
   "outputs": [
    {
     "name": "stdout",
     "output_type": "stream",
     "text": [
      "Pixel Y, X coords: 278, 1025\n"
     ]
    }
   ],
   "source": [
    "# Get pixel coordinates from map coordinates\n",
    "py, px = raster_data.index(lon, lat)\n",
    "print('Pixel Y, X coords: {}, {}'.format(py, px))"
   ]
  },
  {
   "cell_type": "code",
   "execution_count": 26,
   "metadata": {},
   "outputs": [
    {
     "name": "stdout",
     "output_type": "stream",
     "text": [
      "Window(col_off=983, row_off=237, width=85, height=83)\n"
     ]
    }
   ],
   "source": [
    "# create a window for cropping the data or partially reading the data\n",
    "window = rasterio.windows.Window(px - WIDTH//2, py - HEIGHT//2, WIDTH, HEIGHT)\n",
    "print(window)"
   ]
  },
  {
   "cell_type": "code",
   "execution_count": 31,
   "metadata": {},
   "outputs": [],
   "source": [
    "# clip is a nbands * N * N numpy array\n",
    "clip = raster_data.read(window=window)\n",
    "\n",
    "# You can then write out a new file\n",
    "clip_meta = raster_data.meta\n",
    "clip_meta['width'], clip_meta['height'] = WIDTH, HEIGHT\n",
    "clip_meta['transform'] = rasterio.windows.transform(window, raster_data.transform)"
   ]
  },
  {
   "cell_type": "code",
   "execution_count": null,
   "metadata": {},
   "outputs": [],
   "source": [
    "# out_meta.update({\"driver\": \"GTiff\",\n",
    "#     \"height\": out_image.shape[1],\n",
    "#     \"width\": out_image.shape[2],\n",
    "# \"transform\": out_transform})"
   ]
  },
  {
   "cell_type": "code",
   "execution_count": null,
   "metadata": {},
   "outputs": [],
   "source": [
    "# with rio.open(outfile.format(i), 'w', **clip_meta) as dst:\n",
    "#     dst.write(clip)"
   ]
  },
  {
   "cell_type": "code",
   "execution_count": 37,
   "metadata": {},
   "outputs": [
    {
     "ename": "AttributeError",
     "evalue": "'numpy.ndarray' object has no attribute 'transform'",
     "output_type": "error",
     "traceback": [
      "\u001b[1;31m---------------------------------------------------------------------------\u001b[0m",
      "\u001b[1;31mAttributeError\u001b[0m                            Traceback (most recent call last)",
      "\u001b[1;32m<ipython-input-37-8daf30d3531d>\u001b[0m in \u001b[0;36m<module>\u001b[1;34m\u001b[0m\n\u001b[0;32m      1\u001b[0m \u001b[0mf\u001b[0m\u001b[1;33m,\u001b[0m \u001b[0max1\u001b[0m \u001b[1;33m=\u001b[0m \u001b[0mplt\u001b[0m\u001b[1;33m.\u001b[0m\u001b[0msubplots\u001b[0m\u001b[1;33m(\u001b[0m\u001b[1;33m)\u001b[0m\u001b[1;33m\u001b[0m\u001b[1;33m\u001b[0m\u001b[0m\n\u001b[0;32m      2\u001b[0m \u001b[1;31m#plt.imshow(data)\u001b[0m\u001b[1;33m\u001b[0m\u001b[1;33m\u001b[0m\u001b[1;33m\u001b[0m\u001b[0m\n\u001b[1;32m----> 3\u001b[1;33m \u001b[0mshow\u001b[0m\u001b[1;33m(\u001b[0m\u001b[0mclip\u001b[0m\u001b[1;33m,\u001b[0m \u001b[0max\u001b[0m\u001b[1;33m=\u001b[0m \u001b[0max1\u001b[0m\u001b[1;33m,\u001b[0m  \u001b[0mwith_bounds\u001b[0m\u001b[1;33m=\u001b[0m\u001b[1;32mTrue\u001b[0m\u001b[1;33m,\u001b[0m \u001b[0mtransform\u001b[0m\u001b[1;33m=\u001b[0m\u001b[0mclip\u001b[0m\u001b[1;33m.\u001b[0m\u001b[0mtransform\u001b[0m\u001b[1;33m)\u001b[0m\u001b[1;33m\u001b[0m\u001b[1;33m\u001b[0m\u001b[0m\n\u001b[0m",
      "\u001b[1;31mAttributeError\u001b[0m: 'numpy.ndarray' object has no attribute 'transform'"
     ]
    },
    {
     "data": {
      "image/png": "[encoded data removed]",
      "text/plain": [
       "<Figure size 432x288 with 1 Axes>"
      ]
     },
     "metadata": {
      "needs_background": "light"
     },
     "output_type": "display_data"
    }
   ],
   "source": [
    "f, ax1 = plt.subplots()\n",
    "#plt.imshow(data)\n",
    "show(clip, ax= ax1,  with_bounds=True, transform=clip.transform)"
   ]
  },
  {
   "cell_type": "code",
   "execution_count": 39,
   "metadata": {},
   "outputs": [
    {
     "data": {
      "text/plain": [
       "(322, 83, 85)"
      ]
     },
     "execution_count": 39,
     "metadata": {},
     "output_type": "execute_result"
    }
   ],
   "source": [
    "clip.shape"
   ]
  },
  {
   "cell_type": "code",
   "execution_count": null,
   "metadata": {},
   "outputs": [],
   "source": []
  }
 ],
 "metadata": {
  "kernelspec": {
   "display_name": "Python 3",
   "language": "python",
   "name": "python3"
  },
  "language_info": {
   "codemirror_mode": {
    "name": "ipython",
    "version": 3
   },
   "file_extension": ".py",
   "mimetype": "text/x-python",
   "name": "python",
   "nbconvert_exporter": "python",
   "pygments_lexer": "ipython3",
   "version": "3.7.9"
  },
  "nbTranslate": {
   "displayLangs": [
    "*"
   ],
   "hotkey": "alt-t",
   "langInMainMenu": true,
   "sourceLang": "en",
   "targetLang": "fr",
   "useGoogleTranslate": true
  },
  "toc": {
   "base_numbering": 1,
   "nav_menu": {},
   "number_sections": true,
   "sideBar": true,
   "skip_h1_title": false,
   "title_cell": "Table of Contents",
   "title_sidebar": "Contents",
   "toc_cell": false,
   "toc_position": {},
   "toc_section_display": true,
   "toc_window_display": false
  },
  "varInspector": {
   "cols": {
    "lenName": 16,
    "lenType": 16,
    "lenVar": 40
   },
   "kernels_config": {
    "python": {
     "delete_cmd_postfix": "",
     "delete_cmd_prefix": "del ",
     "library": "var_list.py",
     "varRefreshCmd": "print(var_dic_list())"
    },
    "r": {
     "delete_cmd_postfix": ") ",
     "delete_cmd_prefix": "rm(",
     "library": "var_list.r",
     "varRefreshCmd": "cat(var_dic_list()) "
    }
   },
   "types_to_exclude": [
    "module",
    "function",
    "builtin_function_or_method",
    "instance",
    "_Feature"
   ],
   "window_display": false
  }
 },
 "nbformat": 4,
 "nbformat_minor": 4
}
