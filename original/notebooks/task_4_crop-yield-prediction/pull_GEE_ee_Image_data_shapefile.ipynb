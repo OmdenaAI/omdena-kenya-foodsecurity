{
  "nbformat": 4,
  "nbformat_minor": 0,
  "metadata": {
    "colab": {
      "name": "pull_GEE_ee_Image_data_shapefile.ipynb",
      "provenance": [],
      "collapsed_sections": [],
      "toc_visible": true
    },
    "kernelspec": {
      "display_name": "Python 3",
      "name": "python3"
    }
  },
  "cells": [
    {
      "cell_type": "code",
      "metadata": {
        "colab": {
          "base_uri": "https://localhost:8080/"
        },
        "id": "7Xwg_5V3chHj",
        "outputId": "47ecb676-a43a-40eb-ba5a-2426a610e57e"
      },
      "source": [
        "!pip install Unidecode"
      ],
      "execution_count": 1,
      "outputs": [
        {
          "output_type": "stream",
          "text": [
            "Requirement already satisfied: Unidecode in /usr/local/lib/python3.6/dist-packages (1.1.2)\n"
          ],
          "name": "stdout"
        }
      ]
    },
    {
      "cell_type": "code",
      "metadata": {
        "id": "uIsLtcTDcStS"
      },
      "source": [
        "import ee\n",
        "import time\n",
        "import sys\n",
        "from unidecode import unidecode\n",
        "import argparse\n",
        "import os.path\n",
        "import matplotlib.pyplot as plt\n",
        "import numpy as np\n",
        "import cv2\n",
        "from random import random\n",
        "try:\n",
        "    from google.colab.patches import cv2_imshow\n",
        "except:\n",
        "    from cv2 import imshow as cv2_imshow\n"
      ],
      "execution_count": 2,
      "outputs": []
    },
    {
      "cell_type": "code",
      "metadata": {
        "id": "X5v_Gz5QzFeG"
      },
      "source": [
        "#initialize google earth engine\n",
        "try:\n",
        "  ee.Initialize()\n",
        "except:\n",
        "  ee.Authenticate()\n",
        "  ee.Initialize()"
      ],
      "execution_count": 3,
      "outputs": []
    },
    {
      "cell_type": "markdown",
      "metadata": {
        "id": "bMhOkv9Py5KX"
      },
      "source": [
        "# Global variables"
      ]
    },
    {
      "cell_type": "code",
      "metadata": {
        "id": "OL0YM5Etet9W"
      },
      "source": [
        "# name of GEE collections:\n",
        "IMG_GEE = ['UMD/hansen/global_forest_change_2019_v1_7']\n",
        "# !! The collection is an ee.Image dataset, not an ee.ImageCollection \n",
        "\n",
        "# Images codes -- description\n",
        "IMG_GEE_CODES = ['forest_change']\n",
        "\n",
        "# Bands that will be selected in each collection\n",
        "IMG_GEE_BANDS = [['treecover2000','loss']]\n",
        "\n",
        "# Ranges for plotting images (debug mode = True)                      \n",
        "IMG_GEE_MIN = [0.0]\n",
        "IMG_GEE_MAX = [100.0]\n",
        "CLEAN_NAME = lambda r, l: unidecode(r.get('properties').get(l)).lower().translate(\"'()/&-\").strip()"
      ],
      "execution_count": 4,
      "outputs": []
    },
    {
      "cell_type": "markdown",
      "metadata": {
        "id": "1YknJBycy9Gr"
      },
      "source": [
        "# Functions"
      ]
    },
    {
      "cell_type": "code",
      "metadata": {
        "id": "oIZTrO7oKcQS"
      },
      "source": [
        "def export_to_cloud(img, fname, folder, expregion, eeuser=None, scale=10):\n",
        "  task = ee.batch.Export.image.toDrive(**{\n",
        "      'image': img.clip(expregion),\n",
        "      'description':fname, \n",
        "      'folder':folder, \n",
        "      'fileNamePrefix':fname, \n",
        "      'dimensions':None, \n",
        "      'region':expregion.geometry().bounds().getInfo()['coordinates'],\n",
        "      'scale':scale, \n",
        "      'crs':'EPSG:4326', \n",
        "      'crsTransform':None, \n",
        "      'maxPixels':1e13\n",
        "  })\n",
        "  task.start()\n",
        "  while task.status()['state'] == 'RUNNING':\n",
        "    print('Running...')\n",
        "    time.sleep(20)\n",
        "  print('Done.'.format(task.status()))\n",
        "  time.sleep(10)"
      ],
      "execution_count": 5,
      "outputs": []
    },
    {
      "cell_type": "code",
      "metadata": {
        "id": "6R7R6gPJRVJE"
      },
      "source": [
        "def export_ee_image(ftr_collection, boundary_filter, ee_image_name, folder_name_drive, only_download_first_image=True, debug=False, scale=100):\n",
        "    # Get Shapefile features into a list \n",
        "    county_region = ee.FeatureCollection(ftr_collection)\n",
        "    feature_list = county_region.toList(1e5)\n",
        "    feature_list_computed = feature_list.getInfo()\n",
        "\n",
        "    # Get ee Image \n",
        "    img_index = IMG_GEE_CODES.index(ee_image_name)\n",
        "    ee_image = IMG_GEE[img_index]\n",
        "    img = ee.Image(ee_image) \n",
        "\n",
        "    for idx, region in enumerate(feature_list_computed):\n",
        "      subunit_key = ftr_key_fn(region)\n",
        "\n",
        "      # Plot images being dowloaded (for each departments)\n",
        "      if debug:\n",
        "        for i in range(1):\n",
        "          bands = IMG_GEE_BANDS[img_index][0] #visualize only first band\n",
        "          plotROI(img, ee.Feature(region),debug=debug, \n",
        "                  bands=bands, max=IMG_GEE_MAX[img_index])\n",
        "          \n",
        "      file_name = country + '_' + ee_image_name + '_' + subunit_key \n",
        "      print(file_name)\n",
        "      print(idx)\n",
        "      folder_name = os.path.join(folder_name_drive, ee_image_name)\n",
        "      export_to_cloud(img, file_name, folder_name, ee.Feature(region), scale=scale)\n",
        "\n",
        "      if only_download_first_image:\n",
        "        break #only first image "
      ],
      "execution_count": 11,
      "outputs": []
    },
    {
      "cell_type": "code",
      "metadata": {
        "id": "-Dhmhi6SJz2d"
      },
      "source": [
        "# Visualize ROI (Region of interest) -- Works for Landsat; Issue with Sentinal\n",
        "\n",
        "def plotROI(image,roi, debug = False, bands = ['B4', 'B3', 'B2'], max = 0.5):\n",
        "  url = image.getThumbURL({\n",
        "  'bands': bands,\n",
        "  'min':0,\n",
        "  'max':max,\n",
        "  'region': roi\n",
        "  })\n",
        "  fname = \"RGB_\"+str(random()).split('.')[1]+\".png\"\n",
        "\n",
        "  status = os.system(f\"\"\"wget -O \"{fname}\" -c --read-timeout=5 --tries=0 \"{url}\" \"\"\")\n",
        "\n",
        "  if (not status):\n",
        "    if debug: \n",
        "      print(\"File name:\", fname)\n",
        "      img = cv2.imread(fname)\n",
        "      cv2_imshow(img)\n",
        "  return fname"
      ],
      "execution_count": 7,
      "outputs": []
    },
    {
      "cell_type": "markdown",
      "metadata": {
        "id": "cG6PbCjOzASs"
      },
      "source": [
        "# GEE "
      ]
    },
    {
      "cell_type": "code",
      "metadata": {
        "id": "noXzfNCcRc7W"
      },
      "source": [
        "country = 'senegal'\n",
        "folder_name_drive = \"Senegal_modis\"\n",
        "\n",
        "# rough rectangle around senegal to help GEE focus on this area\n",
        "boundary_filter = [-17.891849582500733,12.010217171292826, -10.83862692625073,16.776053324382982]\n",
        "\n",
        "# using shapefile from https://gadm.org/ level 2 is departments\n",
        "ftr_collection = 'users/margauxmasson21/SEN2'\n",
        "\n",
        "ftr_key_fn = lambda region: CLEAN_NAME(region, 'NAME_1') + \"-\" +  CLEAN_NAME(region,'NAME_2') # SN: \"<zone name>-<state name>\"]\n",
        "\n",
        "##### IF YOU WANT TO DOWNLOAD DAT FOR ANOTHER COUNTRY CHANGE THE PARAMETERS ABOVE ########\n",
        "ftr_filter_fn = lambda region: True\n"
      ],
      "execution_count": 8,
      "outputs": []
    },
    {
      "cell_type": "markdown",
      "metadata": {
        "id": "5kZjiV4xe5YT"
      },
      "source": [
        "# Export images to Drive "
      ]
    },
    {
      "cell_type": "code",
      "metadata": {
        "colab": {
          "base_uri": "https://localhost:8080/",
          "height": 608
        },
        "id": "0ICWBMwXJTST",
        "outputId": "5b0a12d9-d620-45e6-9ca7-7fb595b12d0e"
      },
      "source": [
        "eeImage_name = 'forest_change'\n",
        "export_ee_image(ftr_collection, boundary_filter, \n",
        "                         eeImage_name, \n",
        "                         folder_name_drive, \n",
        "                         only_download_first_image=True, # change this to False if downaloading all images \n",
        "                         debug=True, \n",
        "                         scale=150)"
      ],
      "execution_count": 12,
      "outputs": [
        {
          "output_type": "stream",
          "text": [
            "File name: RGB_7164903999145227.png\n"
          ],
          "name": "stdout"
        },
        {
          "output_type": "display_data",
          "data": {
            "image/png": "[encoded data removed]",
            "text/plain": [
              "<PIL.Image.Image image mode=RGB size=591x523 at 0x7FF16FA8A470>"
            ]
          },
          "metadata": {
            "tags": []
          }
        },
        {
          "output_type": "stream",
          "text": [
            "senegal_forest_change_dakar-dakar\n",
            "0\n",
            "Done.\n"
          ],
          "name": "stdout"
        }
      ]
    }
  ]
}