{
  "nbformat": 4,
  "nbformat_minor": 0,
  "metadata": {
    "accelerator": "GPU",
    "colab": {
      "name": "Train_CNN_yields_prediction_millet.ipynb",
      "provenance": [],
      "collapsed_sections": [
        "m6dMZFse1gRB",
        "uZcNjIgc062v"
      ],
      "toc_visible": true
    },
    "kernelspec": {
      "display_name": "Python 3",
      "name": "python3"
    }
  },
  "cells": [
    {
      "cell_type": "markdown",
      "metadata": {
        "id": "kg2bj16FzFAh"
      },
      "source": [
        "# This notebook trains and predict crop yields using 32 bins histograms "
      ]
    },
    {
      "cell_type": "code",
      "metadata": {
        "id": "Rzq1mWcpzcf4",
        "colab": {
          "base_uri": "https://localhost:8080/"
        },
        "outputId": "5911b8d3-e3bb-4c2d-9212-4495dce53c5d"
      },
      "source": [
        "!pip install Hub"
      ],
      "execution_count": 1,
      "outputs": [
        {
          "output_type": "stream",
          "text": [
            "Requirement already satisfied: Hub in /usr/local/lib/python3.6/dist-packages (1.0.8)\n",
            "Requirement already satisfied: gcsfs==0.6.2 in /usr/local/lib/python3.6/dist-packages (from Hub) (0.6.2)\n",
            "Requirement already satisfied: s3fs==0.4.2 in /usr/local/lib/python3.6/dist-packages (from Hub) (0.4.2)\n",
            "Requirement already satisfied: pathos>=0.2.2 in /usr/local/lib/python3.6/dist-packages (from Hub) (0.2.7)\n",
            "Requirement already satisfied: lz4<4,>=3 in /usr/local/lib/python3.6/dist-packages (from Hub) (3.1.1)\n",
            "Requirement already satisfied: lmdb==1.0.0 in /usr/local/lib/python3.6/dist-packages (from Hub) (1.0.0)\n",
            "Requirement already satisfied: outdated==0.2.0 in /usr/local/lib/python3.6/dist-packages (from Hub) (0.2.0)\n",
            "Requirement already satisfied: tqdm==4.51 in /usr/local/lib/python3.6/dist-packages (from Hub) (4.51.0)\n",
            "Requirement already satisfied: boto3==1.16.10 in /usr/local/lib/python3.6/dist-packages (from Hub) (1.16.10)\n",
            "Requirement already satisfied: azure-storage-blob==12.5.0 in /usr/local/lib/python3.6/dist-packages (from Hub) (12.5.0)\n",
            "Requirement already satisfied: Pillow>=8.0.1 in /usr/local/lib/python3.6/dist-packages (from Hub) (8.1.0)\n",
            "Requirement already satisfied: zarr==2.5 in /usr/local/lib/python3.6/dist-packages (from Hub) (2.5.0)\n",
            "Requirement already satisfied: click<8,>=6.7 in /usr/local/lib/python3.6/dist-packages (from Hub) (7.1.2)\n",
            "Requirement already satisfied: cachey==0.2.1 in /usr/local/lib/python3.6/dist-packages (from Hub) (0.2.1)\n",
            "Requirement already satisfied: fsspec==0.8.4 in /usr/local/lib/python3.6/dist-packages (from Hub) (0.8.4)\n",
            "Requirement already satisfied: numpy<2,>=1.13.0 in /usr/local/lib/python3.6/dist-packages (from Hub) (1.19.4)\n",
            "Requirement already satisfied: requests<3,>=2 in /usr/local/lib/python3.6/dist-packages (from Hub) (2.23.0)\n",
            "Requirement already satisfied: psutil>=5.7.3 in /usr/local/lib/python3.6/dist-packages (from Hub) (5.8.0)\n",
            "Requirement already satisfied: google-auth-oauthlib in /usr/local/lib/python3.6/dist-packages (from gcsfs==0.6.2->Hub) (0.4.2)\n",
            "Requirement already satisfied: google-auth>=1.2 in /usr/local/lib/python3.6/dist-packages (from gcsfs==0.6.2->Hub) (1.17.2)\n",
            "Requirement already satisfied: decorator in /usr/local/lib/python3.6/dist-packages (from gcsfs==0.6.2->Hub) (4.4.2)\n",
            "Requirement already satisfied: botocore>=1.12.91 in /usr/local/lib/python3.6/dist-packages (from s3fs==0.4.2->Hub) (1.19.50)\n",
            "Requirement already satisfied: ppft>=1.6.6.3 in /usr/local/lib/python3.6/dist-packages (from pathos>=0.2.2->Hub) (1.6.6.3)\n",
            "Requirement already satisfied: multiprocess>=0.70.11 in /usr/local/lib/python3.6/dist-packages (from pathos>=0.2.2->Hub) (0.70.11.1)\n",
            "Requirement already satisfied: dill>=0.3.3 in /usr/local/lib/python3.6/dist-packages (from pathos>=0.2.2->Hub) (0.3.3)\n",
            "Requirement already satisfied: pox>=0.2.9 in /usr/local/lib/python3.6/dist-packages (from pathos>=0.2.2->Hub) (0.2.9)\n",
            "Requirement already satisfied: littleutils in /usr/local/lib/python3.6/dist-packages (from outdated==0.2.0->Hub) (0.2.2)\n",
            "Requirement already satisfied: s3transfer<0.4.0,>=0.3.0 in /usr/local/lib/python3.6/dist-packages (from boto3==1.16.10->Hub) (0.3.3)\n",
            "Requirement already satisfied: jmespath<1.0.0,>=0.7.1 in /usr/local/lib/python3.6/dist-packages (from boto3==1.16.10->Hub) (0.10.0)\n",
            "Requirement already satisfied: msrest>=0.6.10 in /usr/local/lib/python3.6/dist-packages (from azure-storage-blob==12.5.0->Hub) (0.6.19)\n",
            "Requirement already satisfied: cryptography>=2.1.4 in /usr/local/lib/python3.6/dist-packages (from azure-storage-blob==12.5.0->Hub) (3.3.1)\n",
            "Requirement already satisfied: azure-core<2.0.0,>=1.6.0 in /usr/local/lib/python3.6/dist-packages (from azure-storage-blob==12.5.0->Hub) (1.9.0)\n",
            "Requirement already satisfied: numcodecs>=0.6.4 in /usr/local/lib/python3.6/dist-packages (from zarr==2.5->Hub) (0.7.2)\n",
            "Requirement already satisfied: asciitree in /usr/local/lib/python3.6/dist-packages (from zarr==2.5->Hub) (0.3.3)\n",
            "Requirement already satisfied: fasteners in /usr/local/lib/python3.6/dist-packages (from zarr==2.5->Hub) (0.16)\n",
            "Requirement already satisfied: heapdict in /usr/local/lib/python3.6/dist-packages (from cachey==0.2.1->Hub) (1.0.1)\n",
            "Requirement already satisfied: idna<3,>=2.5 in /usr/local/lib/python3.6/dist-packages (from requests<3,>=2->Hub) (2.10)\n",
            "Requirement already satisfied: urllib3!=1.25.0,!=1.25.1,<1.26,>=1.21.1 in /usr/local/lib/python3.6/dist-packages (from requests<3,>=2->Hub) (1.24.3)\n",
            "Requirement already satisfied: chardet<4,>=3.0.2 in /usr/local/lib/python3.6/dist-packages (from requests<3,>=2->Hub) (3.0.4)\n",
            "Requirement already satisfied: certifi>=2017.4.17 in /usr/local/lib/python3.6/dist-packages (from requests<3,>=2->Hub) (2020.12.5)\n",
            "Requirement already satisfied: requests-oauthlib>=0.7.0 in /usr/local/lib/python3.6/dist-packages (from google-auth-oauthlib->gcsfs==0.6.2->Hub) (1.3.0)\n",
            "Requirement already satisfied: cachetools<5.0,>=2.0.0 in /usr/local/lib/python3.6/dist-packages (from google-auth>=1.2->gcsfs==0.6.2->Hub) (4.2.0)\n",
            "Requirement already satisfied: six>=1.9.0 in /usr/local/lib/python3.6/dist-packages (from google-auth>=1.2->gcsfs==0.6.2->Hub) (1.15.0)\n",
            "Requirement already satisfied: setuptools>=40.3.0 in /usr/local/lib/python3.6/dist-packages (from google-auth>=1.2->gcsfs==0.6.2->Hub) (51.0.0)\n",
            "Requirement already satisfied: rsa<5,>=3.1.4; python_version >= \"3\" in /usr/local/lib/python3.6/dist-packages (from google-auth>=1.2->gcsfs==0.6.2->Hub) (4.6)\n",
            "Requirement already satisfied: pyasn1-modules>=0.2.1 in /usr/local/lib/python3.6/dist-packages (from google-auth>=1.2->gcsfs==0.6.2->Hub) (0.2.8)\n",
            "Requirement already satisfied: python-dateutil<3.0.0,>=2.1 in /usr/local/lib/python3.6/dist-packages (from botocore>=1.12.91->s3fs==0.4.2->Hub) (2.8.1)\n",
            "Requirement already satisfied: isodate>=0.6.0 in /usr/local/lib/python3.6/dist-packages (from msrest>=0.6.10->azure-storage-blob==12.5.0->Hub) (0.6.0)\n",
            "Requirement already satisfied: cffi>=1.12 in /usr/local/lib/python3.6/dist-packages (from cryptography>=2.1.4->azure-storage-blob==12.5.0->Hub) (1.14.4)\n",
            "Requirement already satisfied: oauthlib>=3.0.0 in /usr/local/lib/python3.6/dist-packages (from requests-oauthlib>=0.7.0->google-auth-oauthlib->gcsfs==0.6.2->Hub) (3.1.0)\n",
            "Requirement already satisfied: pyasn1>=0.1.3 in /usr/local/lib/python3.6/dist-packages (from rsa<5,>=3.1.4; python_version >= \"3\"->google-auth>=1.2->gcsfs==0.6.2->Hub) (0.4.8)\n",
            "Requirement already satisfied: pycparser in /usr/local/lib/python3.6/dist-packages (from cffi>=1.12->cryptography>=2.1.4->azure-storage-blob==12.5.0->Hub) (2.20)\n"
          ],
          "name": "stdout"
        }
      ]
    },
    {
      "cell_type": "code",
      "metadata": {
        "colab": {
          "base_uri": "https://localhost:8080/",
          "height": 52
        },
        "id": "vi6ltr2iu70m",
        "outputId": "a8c24498-5450-46f7-9b8b-5ca9e967ed0e"
      },
      "source": [
        "import tensorflow as tf\n",
        "from hub import Dataset\n",
        "from tensorflow.keras import datasets, layers, models\n",
        "import matplotlib.pyplot as plt\n",
        "import numpy as np\n",
        "import os\n",
        "print(tf.__version__)\n",
        "# check if notebook is using GPU\n",
        "tf.test.gpu_device_name()"
      ],
      "execution_count": 2,
      "outputs": [
        {
          "output_type": "stream",
          "text": [
            "2.4.0\n"
          ],
          "name": "stdout"
        },
        {
          "output_type": "execute_result",
          "data": {
            "application/vnd.google.colaboratory.intrinsic+json": {
              "type": "string"
            },
            "text/plain": [
              "'/device:GPU:0'"
            ]
          },
          "metadata": {
            "tags": []
          },
          "execution_count": 2
        }
      ]
    },
    {
      "cell_type": "markdown",
      "metadata": {
        "id": "m6dMZFse1gRB"
      },
      "source": [
        "### Functions"
      ]
    },
    {
      "cell_type": "markdown",
      "metadata": {
        "id": "1IHucShqzsuT"
      },
      "source": [
        "### Load data from ActiveLoop"
      ]
    },
    {
      "cell_type": "code",
      "metadata": {
        "colab": {
          "base_uri": "https://localhost:8080/"
        },
        "id": "rGrhNPjfzX5Y",
        "outputId": "b20b74c2-2480-4ba4-80a2-11af042998f8"
      },
      "source": [
        "# tag = \"margauxmforsythe/Senegal_departments_histograms_weeks_19_30_Rice\"\n",
        "# tag = \"margauxmforsythe/Senegal_departments_histograms_weeks_19_30_Arachide\"\n",
        "# tag = \"margauxmforsythe/Senegal_IPAR_histograms_weeks_0_46_Corn\"\n",
        "# tag = \"margauxmforsythe/Senegal_IPAR_histograms_weeks_19_30_Corn\"\n",
        "# tag = \"margauxmforsythe/Senegal_IPAR_histograms_weeks_19_30_Maize\"\n",
        "tag = \"margauxmforsythe/Senegal_IPAR_histograms_weeks_21_30_Millet\"\n",
        "\n",
        "# Load the data\n",
        "print(\"Load data from ActiveLoop ...\")\n",
        "ds = Dataset(tag)\n",
        "print(\"Data loaded from {}\".format(tag))"
      ],
      "execution_count": 3,
      "outputs": [
        {
          "output_type": "stream",
          "text": [
            "Load data from ActiveLoop ...\n",
            "Data loaded from margauxmforsythe/Senegal_IPAR_histograms_weeks_21_30_Millet\n"
          ],
          "name": "stdout"
        }
      ]
    },
    {
      "cell_type": "code",
      "metadata": {
        "colab": {
          "base_uri": "https://localhost:8080/"
        },
        "id": "6WR_Allmzwag",
        "outputId": "3fe22ba8-dfc0-4e09-c265-9358a05b5398"
      },
      "source": [
        "# Get image width, height and channels from the dataset\n",
        "img_width = ds[\"histograms\"][0].compute().shape[0]\n",
        "img_height = ds[\"histograms\"][0].compute().shape[1]\n",
        "batch_size = 1\n",
        "channels = ds[\"histograms\"][0].compute().shape[2]\n",
        "shape = (img_width, img_height, channels)\n",
        "print(\"Shape input images: {}\".format(shape))\n",
        "\n",
        "histograms = ds[\"histograms\"].compute()\n",
        "image_count = histograms.shape[0]\n",
        "print(\"Image count: {}\".format(image_count))\n",
        "\n",
        "# Get yields statistics\n",
        "yields_list = ds[\"yields\"].compute()\n",
        "yields = []\n",
        "for i in range(0,len(yields_list)):\n",
        "    yields.append(float(yields_list[i][0]))\n",
        "\n",
        "list_ds = tf.data.Dataset.from_tensor_slices((histograms[int(len(histograms)*0.1)::], yields[int(len(histograms)*0.1)::]))\n",
        "test_ds = tf.data.Dataset.from_tensor_slices((histograms[0:int(len(histograms)*0.1)], yields[0:int(len(histograms)*0.1)]))\n",
        "print(\"Training files: {} files\".format(len(list_ds)))\n",
        "print(\"Test files: {} files\".format(len(test_ds)))"
      ],
      "execution_count": 4,
      "outputs": [
        {
          "output_type": "stream",
          "text": [
            "Shape input images: (32, 9, 9)\n",
            "Image count: 1018\n",
            "Training files: 917 files\n",
            "Test files: 101 files\n"
          ],
          "name": "stdout"
        }
      ]
    },
    {
      "cell_type": "code",
      "metadata": {
        "colab": {
          "base_uri": "https://localhost:8080/"
        },
        "id": "YyXwhFcB0UJ5",
        "outputId": "b831c5b4-65ff-424b-8ce0-bf48cc63a6ab"
      },
      "source": [
        "list_ds = list_ds.shuffle(len(list_ds))\n",
        "# Create training and validation sets\n",
        "val_size = int(image_count * 0.1)\n",
        "train_ds = list_ds.skip(val_size)\n",
        "val_ds = list_ds.take(val_size)\n",
        "\n",
        "print(\"Training files: {}\".format(len(train_ds)))\n",
        "print(\"Validation files: {}\".format(len(val_ds)))\n",
        "print(\"Test files: {}\".format(len(test_ds)))\n",
        "\n",
        "AUTOTUNE = tf.data.experimental.AUTOTUNE\n",
        "train_ds = train_ds.cache()\n",
        "train_ds = train_ds.shuffle(len(train_ds))\n",
        "train_ds = train_ds.batch(batch_size)\n",
        "# train_ds = train_ds.prefetch(buffer_size=AUTOTUNE)\n",
        "\n",
        "val_ds = val_ds.cache()\n",
        "val_ds = val_ds.shuffle(buffer_size=len(val_ds))\n",
        "val_ds = val_ds.batch(1)\n",
        "# val_ds = val_ds.prefetch(buffer_size=AUTOTUNE)\n",
        "\n",
        "test_ds = test_ds.cache()\n",
        "test_ds = test_ds.shuffle(buffer_size=len(test_ds))\n",
        "test_ds = test_ds.batch(len(test_ds))\n"
      ],
      "execution_count": 5,
      "outputs": [
        {
          "output_type": "stream",
          "text": [
            "Training files: 816\n",
            "Validation files: 101\n",
            "Test files: 101\n"
          ],
          "name": "stdout"
        }
      ]
    },
    {
      "cell_type": "markdown",
      "metadata": {
        "id": "VntC-wWZ0x0C"
      },
      "source": [
        "### Display first band images in batch to check the data is correct"
      ]
    },
    {
      "cell_type": "code",
      "metadata": {
        "colab": {
          "base_uri": "https://localhost:8080/",
          "height": 646
        },
        "id": "tNC6jYQpZb4w",
        "outputId": "0c6710f4-20f3-41dd-fd62-98ae32e43c2c"
      },
      "source": [
        "image_batch_train, label_batch_train = next(iter(train_ds))\n",
        "image_batch_val, label_batch_val= next(iter(val_ds))\n",
        "image_batch_test, label_batch_test= next(iter(test_ds))\n",
        "\n",
        "# Check if images are correct\n",
        "plt.figure(figsize=(10, 10))\n",
        "plt.suptitle(\"all bands first image\")\n",
        "for i in range(9):\n",
        "  ax = plt.subplot(3, 3, i + 1)\n",
        "  # print(image_batch_train[i].shape)\n",
        "  plt.imshow(image_batch_train[0][:,:,i].numpy())\n",
        "  label = label_batch_train[0]\n",
        "  plt.title(label.numpy())\n",
        "  plt.axis(\"off\")\n",
        "\n",
        "plt.show()"
      ],
      "execution_count": 6,
      "outputs": [
        {
          "output_type": "display_data",
          "data": {
            "image/png": "[encoded data removed]",
            "text/plain": [
              "<Figure size 720x720 with 9 Axes>"
            ]
          },
          "metadata": {
            "tags": [],
            "needs_background": "light"
          }
        }
      ]
    },
    {
      "cell_type": "markdown",
      "metadata": {
        "id": "uZcNjIgc062v"
      },
      "source": [
        "## Build Model: CNN"
      ]
    },
    {
      "cell_type": "code",
      "metadata": {
        "colab": {
          "base_uri": "https://localhost:8080/"
        },
        "id": "dpAkzgNH05Rh",
        "outputId": "6c5bb924-90b7-497f-ac91-81da154a22ad"
      },
      "source": [
        "model = models.Sequential()\n",
        "\n",
        "model.add(layers.Conv2D(128, (3, 3), strides=(1, 1), padding='same', input_shape=shape))\n",
        "model.add(layers.BatchNormalization())\n",
        "model.add(layers.ReLU())\n",
        "model.add(layers.Dropout(0.5))\n",
        "\n",
        "model.add(layers.Conv2D(128, (3, 3), strides=(2, 2), padding='same'))\n",
        "model.add(layers.BatchNormalization())\n",
        "model.add(layers.ReLU())\n",
        "model.add(layers.Dropout(0.5))\n",
        "\n",
        "model.add(layers.Conv2D(256, (3, 3), strides=(1, 1), padding='same'))\n",
        "model.add(layers.BatchNormalization())\n",
        "model.add(layers.ReLU())\n",
        "model.add(layers.Dropout(0.5))\n",
        "model.add(layers.Conv2D(256, (3, 3), strides=(2, 2), padding='same'))\n",
        "model.add(layers.BatchNormalization())\n",
        "model.add(layers.ReLU())\n",
        "model.add(layers.Dropout(0.5))\n",
        "\n",
        "model.add(layers.Conv2D(512, (3, 3), strides=(1, 1), padding='same'))\n",
        "model.add(layers.BatchNormalization())\n",
        "model.add(layers.ReLU())\n",
        "model.add(layers.Dropout(0.5))\n",
        "model.add(layers.Conv2D(512, (3, 3), strides=(1, 1), padding='same'))\n",
        "model.add(layers.BatchNormalization())\n",
        "model.add(layers.ReLU())\n",
        "model.add(layers.Dropout(0.5))\n",
        "model.add(layers.Conv2D(512, (3, 3), strides=(2, 2), padding='same'))\n",
        "model.add(layers.BatchNormalization())\n",
        "model.add(layers.ReLU())\n",
        "model.add(layers.Dropout(0.5))\n",
        "\n",
        "model.add(layers.Flatten())\n",
        "model.add(layers.Dense(2048))\n",
        "model.add(layers.Dense(1))\n",
        "model.summary()\n"
      ],
      "execution_count": 26,
      "outputs": [
        {
          "output_type": "stream",
          "text": [
            "Model: \"sequential_1\"\n",
            "_________________________________________________________________\n",
            "Layer (type)                 Output Shape              Param #   \n",
            "=================================================================\n",
            "conv2d_7 (Conv2D)            (None, 32, 9, 128)        10496     \n",
            "_________________________________________________________________\n",
            "batch_normalization_7 (Batch (None, 32, 9, 128)        512       \n",
            "_________________________________________________________________\n",
            "re_lu_7 (ReLU)               (None, 32, 9, 128)        0         \n",
            "_________________________________________________________________\n",
            "dropout_7 (Dropout)          (None, 32, 9, 128)        0         \n",
            "_________________________________________________________________\n",
            "conv2d_8 (Conv2D)            (None, 16, 5, 128)        147584    \n",
            "_________________________________________________________________\n",
            "batch_normalization_8 (Batch (None, 16, 5, 128)        512       \n",
            "_________________________________________________________________\n",
            "re_lu_8 (ReLU)               (None, 16, 5, 128)        0         \n",
            "_________________________________________________________________\n",
            "dropout_8 (Dropout)          (None, 16, 5, 128)        0         \n",
            "_________________________________________________________________\n",
            "conv2d_9 (Conv2D)            (None, 16, 5, 256)        295168    \n",
            "_________________________________________________________________\n",
            "batch_normalization_9 (Batch (None, 16, 5, 256)        1024      \n",
            "_________________________________________________________________\n",
            "re_lu_9 (ReLU)               (None, 16, 5, 256)        0         \n",
            "_________________________________________________________________\n",
            "dropout_9 (Dropout)          (None, 16, 5, 256)        0         \n",
            "_________________________________________________________________\n",
            "conv2d_10 (Conv2D)           (None, 8, 3, 256)         590080    \n",
            "_________________________________________________________________\n",
            "batch_normalization_10 (Batc (None, 8, 3, 256)         1024      \n",
            "_________________________________________________________________\n",
            "re_lu_10 (ReLU)              (None, 8, 3, 256)         0         \n",
            "_________________________________________________________________\n",
            "dropout_10 (Dropout)         (None, 8, 3, 256)         0         \n",
            "_________________________________________________________________\n",
            "conv2d_11 (Conv2D)           (None, 8, 3, 512)         1180160   \n",
            "_________________________________________________________________\n",
            "batch_normalization_11 (Batc (None, 8, 3, 512)         2048      \n",
            "_________________________________________________________________\n",
            "re_lu_11 (ReLU)              (None, 8, 3, 512)         0         \n",
            "_________________________________________________________________\n",
            "dropout_11 (Dropout)         (None, 8, 3, 512)         0         \n",
            "_________________________________________________________________\n",
            "conv2d_12 (Conv2D)           (None, 8, 3, 512)         2359808   \n",
            "_________________________________________________________________\n",
            "batch_normalization_12 (Batc (None, 8, 3, 512)         2048      \n",
            "_________________________________________________________________\n",
            "re_lu_12 (ReLU)              (None, 8, 3, 512)         0         \n",
            "_________________________________________________________________\n",
            "dropout_12 (Dropout)         (None, 8, 3, 512)         0         \n",
            "_________________________________________________________________\n",
            "conv2d_13 (Conv2D)           (None, 4, 2, 512)         2359808   \n",
            "_________________________________________________________________\n",
            "batch_normalization_13 (Batc (None, 4, 2, 512)         2048      \n",
            "_________________________________________________________________\n",
            "re_lu_13 (ReLU)              (None, 4, 2, 512)         0         \n",
            "_________________________________________________________________\n",
            "dropout_13 (Dropout)         (None, 4, 2, 512)         0         \n",
            "_________________________________________________________________\n",
            "flatten_1 (Flatten)          (None, 4096)              0         \n",
            "_________________________________________________________________\n",
            "dense_2 (Dense)              (None, 2048)              8390656   \n",
            "_________________________________________________________________\n",
            "dense_3 (Dense)              (None, 1)                 2049      \n",
            "=================================================================\n",
            "Total params: 15,345,025\n",
            "Trainable params: 15,340,417\n",
            "Non-trainable params: 4,608\n",
            "_________________________________________________________________\n"
          ],
          "name": "stdout"
        }
      ]
    },
    {
      "cell_type": "code",
      "metadata": {
        "id": "uqsFLT061KKS"
      },
      "source": [
        "initial_learning_rate = 0.00001\n",
        "\n",
        "model.compile(optimizer=tf.keras.optimizers.Adam(learning_rate=initial_learning_rate),\n",
        "              loss=tf.keras.losses.MeanSquaredError(),\n",
        "              metrics=['accuracy', tf.keras.metrics.RootMeanSquaredError(name='RMSE'), tf.keras.losses.MeanSquaredError(name='MSE')])"
      ],
      "execution_count": 8,
      "outputs": []
    },
    {
      "cell_type": "markdown",
      "metadata": {
        "id": "jBi1kz5s1XPe"
      },
      "source": [
        "### Create Callbacks for model fit"
      ]
    },
    {
      "cell_type": "code",
      "metadata": {
        "id": "I2SnL7hT1PkD"
      },
      "source": [
        "checkpoint_path = 'checkpoint_b{}_CNN-Millet.h5'.format(batch_size)\n",
        "model_checkpoint_callback = tf.keras.callbacks.ModelCheckpoint(\n",
        "    filepath= checkpoint_path,\n",
        "    format='h5',\n",
        "    verbose=1,\n",
        "    save_weights_only=True,\n",
        "    monitor='val_loss',\n",
        "    mode='min',\n",
        "    save_best_only=True)\n",
        "\n",
        "reducelronplateau = tf.keras.callbacks.ReduceLROnPlateau(\n",
        "    monitor='val_loss', factor=0.1, patience=50, verbose=1,\n",
        "    mode='min', min_lr=0.0000000001)\n",
        "\n",
        "early_stop = tf.keras.callbacks.EarlyStopping(monitor='val_loss',mode='min', patience=100, verbose=1)"
      ],
      "execution_count": 22,
      "outputs": []
    },
    {
      "cell_type": "markdown",
      "metadata": {
        "id": "k47yiQV61389"
      },
      "source": [
        "## Training"
      ]
    },
    {
      "cell_type": "code",
      "metadata": {
        "colab": {
          "base_uri": "https://localhost:8080/"
        },
        "id": "oTbtdYpy15Zd",
        "outputId": "a5f5a73a-76f1-4e1b-ce44-20daa56c27f0"
      },
      "source": [
        "print(\"Start training... \")\n",
        "history = model.fit(train_ds,\n",
        "                    epochs=1000,\n",
        "                    validation_data=val_ds,\n",
        "                    verbose=1,\n",
        "                    callbacks=[model_checkpoint_callback, reducelronplateau, early_stop])\n"
      ],
      "execution_count": 10,
      "outputs": [
        {
          "output_type": "stream",
          "text": [
            "Start training... \n",
            "Epoch 1/1000\n",
            "816/816 [==============================] - 13s 12ms/step - loss: 2.7266 - accuracy: 0.0377 - RMSE: 1.6477 - MSE: 2.7266 - val_loss: 0.5972 - val_accuracy: 0.0000e+00 - val_RMSE: 0.7728 - val_MSE: 0.5972\n",
            "\n",
            "Epoch 00001: val_loss improved from inf to 0.59715, saving model to checkpoint_b1_CNN-Millet.h5\n",
            "Epoch 2/1000\n",
            "816/816 [==============================] - 9s 11ms/step - loss: 2.5505 - accuracy: 0.0358 - RMSE: 1.5951 - MSE: 2.5505 - val_loss: 0.4283 - val_accuracy: 0.0000e+00 - val_RMSE: 0.6544 - val_MSE: 0.4283\n",
            "\n",
            "Epoch 00002: val_loss improved from 0.59715 to 0.42830, saving model to checkpoint_b1_CNN-Millet.h5\n",
            "Epoch 3/1000\n",
            "816/816 [==============================] - 9s 11ms/step - loss: 2.5626 - accuracy: 0.0259 - RMSE: 1.5971 - MSE: 2.5626 - val_loss: 0.3222 - val_accuracy: 0.0000e+00 - val_RMSE: 0.5676 - val_MSE: 0.3222\n",
            "\n",
            "Epoch 00003: val_loss improved from 0.42830 to 0.32218, saving model to checkpoint_b1_CNN-Millet.h5\n",
            "Epoch 4/1000\n",
            "816/816 [==============================] - 9s 11ms/step - loss: 2.4918 - accuracy: 0.0219 - RMSE: 1.5735 - MSE: 2.4918 - val_loss: 0.2409 - val_accuracy: 0.0198 - val_RMSE: 0.4908 - val_MSE: 0.2409\n",
            "\n",
            "Epoch 00004: val_loss improved from 0.32218 to 0.24090, saving model to checkpoint_b1_CNN-Millet.h5\n",
            "Epoch 5/1000\n",
            "816/816 [==============================] - 9s 11ms/step - loss: 1.9745 - accuracy: 0.0192 - RMSE: 1.4012 - MSE: 1.9745 - val_loss: 0.5539 - val_accuracy: 0.0000e+00 - val_RMSE: 0.7443 - val_MSE: 0.5539\n",
            "\n",
            "Epoch 00005: val_loss did not improve from 0.24090\n",
            "Epoch 6/1000\n",
            "816/816 [==============================] - 9s 11ms/step - loss: 2.5432 - accuracy: 0.0230 - RMSE: 1.5913 - MSE: 2.5432 - val_loss: 0.2789 - val_accuracy: 0.0000e+00 - val_RMSE: 0.5281 - val_MSE: 0.2789\n",
            "\n",
            "Epoch 00006: val_loss did not improve from 0.24090\n",
            "Epoch 7/1000\n",
            "816/816 [==============================] - 9s 11ms/step - loss: 1.8041 - accuracy: 0.0312 - RMSE: 1.3418 - MSE: 1.8041 - val_loss: 0.2233 - val_accuracy: 0.0396 - val_RMSE: 0.4726 - val_MSE: 0.2233\n",
            "\n",
            "Epoch 00007: val_loss improved from 0.24090 to 0.22332, saving model to checkpoint_b1_CNN-Millet.h5\n",
            "Epoch 8/1000\n",
            "816/816 [==============================] - 9s 11ms/step - loss: 2.0122 - accuracy: 0.0236 - RMSE: 1.4132 - MSE: 2.0122 - val_loss: 0.2097 - val_accuracy: 0.0594 - val_RMSE: 0.4579 - val_MSE: 0.2097\n",
            "\n",
            "Epoch 00008: val_loss improved from 0.22332 to 0.20969, saving model to checkpoint_b1_CNN-Millet.h5\n",
            "Epoch 9/1000\n",
            "816/816 [==============================] - 9s 11ms/step - loss: 1.6907 - accuracy: 0.0321 - RMSE: 1.2960 - MSE: 1.6907 - val_loss: 0.2369 - val_accuracy: 0.0198 - val_RMSE: 0.4868 - val_MSE: 0.2369\n",
            "\n",
            "Epoch 00009: val_loss did not improve from 0.20969\n",
            "Epoch 10/1000\n",
            "816/816 [==============================] - 9s 11ms/step - loss: 2.0507 - accuracy: 0.0272 - RMSE: 1.4290 - MSE: 2.0507 - val_loss: 0.2673 - val_accuracy: 0.0000e+00 - val_RMSE: 0.5170 - val_MSE: 0.2673\n",
            "\n",
            "Epoch 00010: val_loss did not improve from 0.20969\n",
            "Epoch 11/1000\n",
            "816/816 [==============================] - 9s 11ms/step - loss: 1.6020 - accuracy: 0.0330 - RMSE: 1.2612 - MSE: 1.6020 - val_loss: 0.2511 - val_accuracy: 0.0000e+00 - val_RMSE: 0.5011 - val_MSE: 0.2511\n",
            "\n",
            "Epoch 00011: val_loss did not improve from 0.20969\n",
            "Epoch 12/1000\n",
            "816/816 [==============================] - 9s 11ms/step - loss: 2.9280 - accuracy: 0.0375 - RMSE: 1.6826 - MSE: 2.9280 - val_loss: 0.2705 - val_accuracy: 0.0000e+00 - val_RMSE: 0.5201 - val_MSE: 0.2705\n",
            "\n",
            "Epoch 00012: val_loss did not improve from 0.20969\n",
            "Epoch 13/1000\n",
            "816/816 [==============================] - 9s 11ms/step - loss: 1.9754 - accuracy: 0.0248 - RMSE: 1.3968 - MSE: 1.9754 - val_loss: 0.2048 - val_accuracy: 0.0594 - val_RMSE: 0.4526 - val_MSE: 0.2048\n",
            "\n",
            "Epoch 00013: val_loss improved from 0.20969 to 0.20485, saving model to checkpoint_b1_CNN-Millet.h5\n",
            "Epoch 14/1000\n",
            "816/816 [==============================] - 9s 11ms/step - loss: 2.0056 - accuracy: 0.0317 - RMSE: 1.4113 - MSE: 2.0056 - val_loss: 0.2765 - val_accuracy: 0.0594 - val_RMSE: 0.5258 - val_MSE: 0.2765\n",
            "\n",
            "Epoch 00014: val_loss did not improve from 0.20485\n",
            "Epoch 15/1000\n",
            "816/816 [==============================] - 9s 11ms/step - loss: 1.6397 - accuracy: 0.0296 - RMSE: 1.2749 - MSE: 1.6397 - val_loss: 0.2107 - val_accuracy: 0.0594 - val_RMSE: 0.4590 - val_MSE: 0.2107\n",
            "\n",
            "Epoch 00015: val_loss did not improve from 0.20485\n",
            "Epoch 16/1000\n",
            "816/816 [==============================] - 9s 11ms/step - loss: 1.7386 - accuracy: 0.0413 - RMSE: 1.3150 - MSE: 1.7386 - val_loss: 0.2437 - val_accuracy: 0.0594 - val_RMSE: 0.4937 - val_MSE: 0.2437\n",
            "\n",
            "Epoch 00016: val_loss did not improve from 0.20485\n",
            "Epoch 17/1000\n",
            "816/816 [==============================] - 9s 11ms/step - loss: 1.7093 - accuracy: 0.0149 - RMSE: 1.3023 - MSE: 1.7093 - val_loss: 0.2171 - val_accuracy: 0.0495 - val_RMSE: 0.4660 - val_MSE: 0.2171\n",
            "\n",
            "Epoch 00017: val_loss did not improve from 0.20485\n",
            "Epoch 18/1000\n",
            "816/816 [==============================] - 9s 11ms/step - loss: 2.2300 - accuracy: 0.0261 - RMSE: 1.4830 - MSE: 2.2300 - val_loss: 0.2295 - val_accuracy: 0.0198 - val_RMSE: 0.4791 - val_MSE: 0.2295\n",
            "\n",
            "Epoch 00018: val_loss did not improve from 0.20485\n",
            "Epoch 19/1000\n",
            "816/816 [==============================] - 9s 11ms/step - loss: 1.5985 - accuracy: 0.0292 - RMSE: 1.2553 - MSE: 1.5985 - val_loss: 0.2710 - val_accuracy: 0.0000e+00 - val_RMSE: 0.5206 - val_MSE: 0.2710\n",
            "\n",
            "Epoch 00019: val_loss did not improve from 0.20485\n",
            "Epoch 20/1000\n",
            "816/816 [==============================] - 9s 11ms/step - loss: 2.0374 - accuracy: 0.0200 - RMSE: 1.4179 - MSE: 2.0374 - val_loss: 0.2837 - val_accuracy: 0.0000e+00 - val_RMSE: 0.5326 - val_MSE: 0.2837\n",
            "\n",
            "Epoch 00020: val_loss did not improve from 0.20485\n",
            "Epoch 21/1000\n",
            "816/816 [==============================] - 9s 11ms/step - loss: 2.0192 - accuracy: 0.0233 - RMSE: 1.4090 - MSE: 2.0192 - val_loss: 0.2476 - val_accuracy: 0.0000e+00 - val_RMSE: 0.4976 - val_MSE: 0.2476\n",
            "\n",
            "Epoch 00021: val_loss did not improve from 0.20485\n",
            "Epoch 22/1000\n",
            "816/816 [==============================] - 9s 11ms/step - loss: 2.8139 - accuracy: 0.0250 - RMSE: 1.6339 - MSE: 2.8139 - val_loss: 0.3164 - val_accuracy: 0.0000e+00 - val_RMSE: 0.5625 - val_MSE: 0.3164\n",
            "\n",
            "Epoch 00022: val_loss did not improve from 0.20485\n",
            "Epoch 23/1000\n",
            "816/816 [==============================] - 9s 11ms/step - loss: 1.6394 - accuracy: 0.0317 - RMSE: 1.2708 - MSE: 1.6394 - val_loss: 0.3953 - val_accuracy: 0.0000e+00 - val_RMSE: 0.6287 - val_MSE: 0.3953\n",
            "\n",
            "Epoch 00023: val_loss did not improve from 0.20485\n",
            "Epoch 24/1000\n",
            "816/816 [==============================] - 9s 11ms/step - loss: 1.6535 - accuracy: 0.0232 - RMSE: 1.2810 - MSE: 1.6535 - val_loss: 0.2182 - val_accuracy: 0.0198 - val_RMSE: 0.4671 - val_MSE: 0.2182\n",
            "\n",
            "Epoch 00024: val_loss did not improve from 0.20485\n",
            "Epoch 25/1000\n",
            "816/816 [==============================] - 9s 11ms/step - loss: 1.3265 - accuracy: 0.0397 - RMSE: 1.1462 - MSE: 1.3265 - val_loss: 0.2641 - val_accuracy: 0.0000e+00 - val_RMSE: 0.5139 - val_MSE: 0.2641\n",
            "\n",
            "Epoch 00025: val_loss did not improve from 0.20485\n",
            "Epoch 26/1000\n",
            "816/816 [==============================] - 9s 11ms/step - loss: 2.2059 - accuracy: 0.0375 - RMSE: 1.4649 - MSE: 2.2059 - val_loss: 0.3646 - val_accuracy: 0.0000e+00 - val_RMSE: 0.6039 - val_MSE: 0.3646\n",
            "\n",
            "Epoch 00026: val_loss did not improve from 0.20485\n",
            "Epoch 27/1000\n",
            "816/816 [==============================] - 9s 11ms/step - loss: 1.2545 - accuracy: 0.0363 - RMSE: 1.1195 - MSE: 1.2545 - val_loss: 0.2923 - val_accuracy: 0.0594 - val_RMSE: 0.5406 - val_MSE: 0.2923\n",
            "\n",
            "Epoch 00027: val_loss did not improve from 0.20485\n",
            "Epoch 28/1000\n",
            "816/816 [==============================] - 9s 11ms/step - loss: 1.7733 - accuracy: 0.0128 - RMSE: 1.3196 - MSE: 1.7733 - val_loss: 0.2318 - val_accuracy: 0.0000e+00 - val_RMSE: 0.4815 - val_MSE: 0.2318\n",
            "\n",
            "Epoch 00028: val_loss did not improve from 0.20485\n",
            "Epoch 29/1000\n",
            "816/816 [==============================] - 9s 11ms/step - loss: 1.4085 - accuracy: 0.0342 - RMSE: 1.1822 - MSE: 1.4085 - val_loss: 0.1956 - val_accuracy: 0.0594 - val_RMSE: 0.4423 - val_MSE: 0.1956\n",
            "\n",
            "Epoch 00029: val_loss improved from 0.20485 to 0.19565, saving model to checkpoint_b1_CNN-Millet.h5\n",
            "Epoch 30/1000\n",
            "816/816 [==============================] - 9s 11ms/step - loss: 1.4322 - accuracy: 0.0430 - RMSE: 1.1919 - MSE: 1.4322 - val_loss: 0.2046 - val_accuracy: 0.0495 - val_RMSE: 0.4523 - val_MSE: 0.2046\n",
            "\n",
            "Epoch 00030: val_loss did not improve from 0.19565\n",
            "Epoch 31/1000\n",
            "816/816 [==============================] - 9s 11ms/step - loss: 1.2600 - accuracy: 0.0377 - RMSE: 1.1204 - MSE: 1.2600 - val_loss: 0.2775 - val_accuracy: 0.0000e+00 - val_RMSE: 0.5268 - val_MSE: 0.2775\n",
            "\n",
            "Epoch 00031: val_loss did not improve from 0.19565\n",
            "Epoch 32/1000\n",
            "816/816 [==============================] - 9s 11ms/step - loss: 1.3852 - accuracy: 0.0296 - RMSE: 1.1713 - MSE: 1.3852 - val_loss: 0.6462 - val_accuracy: 0.0000e+00 - val_RMSE: 0.8038 - val_MSE: 0.6462\n",
            "\n",
            "Epoch 00032: val_loss did not improve from 0.19565\n",
            "Epoch 33/1000\n",
            "816/816 [==============================] - 9s 11ms/step - loss: 1.5766 - accuracy: 0.0251 - RMSE: 1.2492 - MSE: 1.5766 - val_loss: 0.4870 - val_accuracy: 0.0000e+00 - val_RMSE: 0.6979 - val_MSE: 0.4870\n",
            "\n",
            "Epoch 00033: val_loss did not improve from 0.19565\n",
            "Epoch 34/1000\n",
            "816/816 [==============================] - 9s 11ms/step - loss: 1.5560 - accuracy: 0.0258 - RMSE: 1.2354 - MSE: 1.5560 - val_loss: 0.4986 - val_accuracy: 0.0000e+00 - val_RMSE: 0.7061 - val_MSE: 0.4986\n",
            "\n",
            "Epoch 00034: val_loss did not improve from 0.19565\n",
            "Epoch 35/1000\n",
            "816/816 [==============================] - 9s 11ms/step - loss: 1.3527 - accuracy: 0.0199 - RMSE: 1.1583 - MSE: 1.3527 - val_loss: 0.3452 - val_accuracy: 0.0000e+00 - val_RMSE: 0.5876 - val_MSE: 0.3452\n",
            "\n",
            "Epoch 00035: val_loss did not improve from 0.19565\n",
            "Epoch 36/1000\n",
            "816/816 [==============================] - 9s 11ms/step - loss: 1.1781 - accuracy: 0.0379 - RMSE: 1.0735 - MSE: 1.1781 - val_loss: 0.6014 - val_accuracy: 0.0000e+00 - val_RMSE: 0.7755 - val_MSE: 0.6014\n",
            "\n",
            "Epoch 00036: val_loss did not improve from 0.19565\n",
            "Epoch 37/1000\n",
            "816/816 [==============================] - 9s 11ms/step - loss: 1.4907 - accuracy: 0.0358 - RMSE: 1.2198 - MSE: 1.4907 - val_loss: 0.7711 - val_accuracy: 0.0000e+00 - val_RMSE: 0.8781 - val_MSE: 0.7711\n",
            "\n",
            "Epoch 00037: val_loss did not improve from 0.19565\n",
            "Epoch 38/1000\n",
            "816/816 [==============================] - 9s 11ms/step - loss: 1.5350 - accuracy: 0.0207 - RMSE: 1.2305 - MSE: 1.5350 - val_loss: 0.7569 - val_accuracy: 0.0000e+00 - val_RMSE: 0.8700 - val_MSE: 0.7569\n",
            "\n",
            "Epoch 00038: val_loss did not improve from 0.19565\n",
            "Epoch 39/1000\n",
            "816/816 [==============================] - 9s 11ms/step - loss: 1.1234 - accuracy: 0.0288 - RMSE: 1.0559 - MSE: 1.1234 - val_loss: 0.5393 - val_accuracy: 0.0000e+00 - val_RMSE: 0.7344 - val_MSE: 0.5393\n",
            "\n",
            "Epoch 00039: val_loss did not improve from 0.19565\n",
            "Epoch 40/1000\n",
            "816/816 [==============================] - 9s 11ms/step - loss: 1.3804 - accuracy: 0.0301 - RMSE: 1.1714 - MSE: 1.3804 - val_loss: 1.0144 - val_accuracy: 0.0000e+00 - val_RMSE: 1.0072 - val_MSE: 1.0144\n",
            "\n",
            "Epoch 00040: val_loss did not improve from 0.19565\n",
            "Epoch 41/1000\n",
            "816/816 [==============================] - 9s 11ms/step - loss: 1.5878 - accuracy: 0.0352 - RMSE: 1.2524 - MSE: 1.5878 - val_loss: 0.8549 - val_accuracy: 0.0000e+00 - val_RMSE: 0.9246 - val_MSE: 0.8549\n",
            "\n",
            "Epoch 00041: val_loss did not improve from 0.19565\n",
            "Epoch 42/1000\n",
            "816/816 [==============================] - 9s 11ms/step - loss: 2.4732 - accuracy: 0.0206 - RMSE: 1.5016 - MSE: 2.4732 - val_loss: 0.9355 - val_accuracy: 0.0000e+00 - val_RMSE: 0.9672 - val_MSE: 0.9355\n",
            "\n",
            "Epoch 00042: val_loss did not improve from 0.19565\n",
            "Epoch 43/1000\n",
            "816/816 [==============================] - 9s 11ms/step - loss: 1.1376 - accuracy: 0.0272 - RMSE: 1.0649 - MSE: 1.1376 - val_loss: 1.1238 - val_accuracy: 0.0000e+00 - val_RMSE: 1.0601 - val_MSE: 1.1238\n",
            "\n",
            "Epoch 00043: val_loss did not improve from 0.19565\n",
            "Epoch 44/1000\n",
            "816/816 [==============================] - 9s 11ms/step - loss: 0.9770 - accuracy: 0.0253 - RMSE: 0.9824 - MSE: 0.9770 - val_loss: 1.6665 - val_accuracy: 0.0000e+00 - val_RMSE: 1.2909 - val_MSE: 1.6665\n",
            "\n",
            "Epoch 00044: val_loss did not improve from 0.19565\n",
            "Epoch 45/1000\n",
            "816/816 [==============================] - 9s 11ms/step - loss: 1.3082 - accuracy: 0.0262 - RMSE: 1.1299 - MSE: 1.3082 - val_loss: 2.2768 - val_accuracy: 0.0000e+00 - val_RMSE: 1.5089 - val_MSE: 2.2768\n",
            "\n",
            "Epoch 00045: val_loss did not improve from 0.19565\n",
            "Epoch 46/1000\n",
            "816/816 [==============================] - 9s 11ms/step - loss: 1.3557 - accuracy: 0.0374 - RMSE: 1.1486 - MSE: 1.3557 - val_loss: 1.6794 - val_accuracy: 0.0000e+00 - val_RMSE: 1.2959 - val_MSE: 1.6794\n",
            "\n",
            "Epoch 00046: val_loss did not improve from 0.19565\n",
            "Epoch 47/1000\n",
            "816/816 [==============================] - 9s 11ms/step - loss: 1.7689 - accuracy: 0.0238 - RMSE: 1.3199 - MSE: 1.7689 - val_loss: 1.8283 - val_accuracy: 0.0000e+00 - val_RMSE: 1.3522 - val_MSE: 1.8283\n",
            "\n",
            "Epoch 00047: val_loss did not improve from 0.19565\n",
            "Epoch 48/1000\n",
            "816/816 [==============================] - 9s 11ms/step - loss: 1.2884 - accuracy: 0.0354 - RMSE: 1.1282 - MSE: 1.2884 - val_loss: 1.1295 - val_accuracy: 0.0000e+00 - val_RMSE: 1.0628 - val_MSE: 1.1295\n",
            "\n",
            "Epoch 00048: val_loss did not improve from 0.19565\n",
            "Epoch 49/1000\n",
            "816/816 [==============================] - 9s 11ms/step - loss: 1.6148 - accuracy: 0.0387 - RMSE: 1.2614 - MSE: 1.6148 - val_loss: 0.8653 - val_accuracy: 0.0000e+00 - val_RMSE: 0.9302 - val_MSE: 0.8653\n",
            "\n",
            "Epoch 00049: val_loss did not improve from 0.19565\n",
            "Epoch 50/1000\n",
            "816/816 [==============================] - 9s 11ms/step - loss: 1.3169 - accuracy: 0.0264 - RMSE: 1.1402 - MSE: 1.3169 - val_loss: 0.8301 - val_accuracy: 0.0000e+00 - val_RMSE: 0.9111 - val_MSE: 0.8301\n",
            "\n",
            "Epoch 00050: val_loss did not improve from 0.19565\n",
            "Epoch 51/1000\n",
            "816/816 [==============================] - 9s 11ms/step - loss: 1.3169 - accuracy: 0.0198 - RMSE: 1.1388 - MSE: 1.3169 - val_loss: 0.9825 - val_accuracy: 0.0000e+00 - val_RMSE: 0.9912 - val_MSE: 0.9825\n",
            "\n",
            "Epoch 00051: val_loss did not improve from 0.19565\n",
            "Epoch 52/1000\n",
            "816/816 [==============================] - 9s 11ms/step - loss: 1.0577 - accuracy: 0.0263 - RMSE: 1.0186 - MSE: 1.0577 - val_loss: 1.0455 - val_accuracy: 0.0000e+00 - val_RMSE: 1.0225 - val_MSE: 1.0455\n",
            "\n",
            "Epoch 00052: val_loss did not improve from 0.19565\n",
            "Epoch 53/1000\n",
            "816/816 [==============================] - 9s 11ms/step - loss: 1.5559 - accuracy: 0.0259 - RMSE: 1.2374 - MSE: 1.5559 - val_loss: 0.6848 - val_accuracy: 0.0000e+00 - val_RMSE: 0.8275 - val_MSE: 0.6848\n",
            "\n",
            "Epoch 00053: val_loss did not improve from 0.19565\n",
            "Epoch 54/1000\n",
            "816/816 [==============================] - 9s 11ms/step - loss: 1.1544 - accuracy: 0.0358 - RMSE: 1.0605 - MSE: 1.1544 - val_loss: 0.5674 - val_accuracy: 0.0000e+00 - val_RMSE: 0.7533 - val_MSE: 0.5674\n",
            "\n",
            "Epoch 00054: val_loss did not improve from 0.19565\n",
            "Epoch 55/1000\n",
            "816/816 [==============================] - 9s 11ms/step - loss: 1.2652 - accuracy: 0.0302 - RMSE: 1.1128 - MSE: 1.2652 - val_loss: 0.6738 - val_accuracy: 0.0000e+00 - val_RMSE: 0.8208 - val_MSE: 0.6738\n",
            "\n",
            "Epoch 00055: val_loss did not improve from 0.19565\n",
            "Epoch 56/1000\n",
            "816/816 [==============================] - 9s 11ms/step - loss: 1.7408 - accuracy: 0.0307 - RMSE: 1.2997 - MSE: 1.7408 - val_loss: 0.4206 - val_accuracy: 0.0000e+00 - val_RMSE: 0.6486 - val_MSE: 0.4206\n",
            "\n",
            "Epoch 00056: val_loss did not improve from 0.19565\n",
            "Epoch 57/1000\n",
            "816/816 [==============================] - 9s 11ms/step - loss: 1.3292 - accuracy: 0.0296 - RMSE: 1.1406 - MSE: 1.3292 - val_loss: 0.7429 - val_accuracy: 0.0000e+00 - val_RMSE: 0.8619 - val_MSE: 0.7429\n",
            "\n",
            "Epoch 00057: val_loss did not improve from 0.19565\n",
            "Epoch 58/1000\n",
            "816/816 [==============================] - 9s 11ms/step - loss: 1.4182 - accuracy: 0.0301 - RMSE: 1.1608 - MSE: 1.4182 - val_loss: 0.4581 - val_accuracy: 0.0000e+00 - val_RMSE: 0.6768 - val_MSE: 0.4581\n",
            "\n",
            "Epoch 00058: val_loss did not improve from 0.19565\n",
            "Epoch 59/1000\n",
            "816/816 [==============================] - 9s 11ms/step - loss: 1.4901 - accuracy: 0.0262 - RMSE: 1.2094 - MSE: 1.4901 - val_loss: 0.4963 - val_accuracy: 0.0000e+00 - val_RMSE: 0.7045 - val_MSE: 0.4963\n",
            "\n",
            "Epoch 00059: val_loss did not improve from 0.19565\n",
            "Epoch 60/1000\n",
            "816/816 [==============================] - 9s 11ms/step - loss: 0.8540 - accuracy: 0.0405 - RMSE: 0.9081 - MSE: 0.8540 - val_loss: 0.6477 - val_accuracy: 0.0000e+00 - val_RMSE: 0.8048 - val_MSE: 0.6477\n",
            "\n",
            "Epoch 00060: val_loss did not improve from 0.19565\n",
            "Epoch 61/1000\n",
            "816/816 [==============================] - 9s 11ms/step - loss: 0.8497 - accuracy: 0.0315 - RMSE: 0.9138 - MSE: 0.8497 - val_loss: 0.4992 - val_accuracy: 0.0000e+00 - val_RMSE: 0.7066 - val_MSE: 0.4992\n",
            "\n",
            "Epoch 00061: val_loss did not improve from 0.19565\n",
            "Epoch 62/1000\n",
            "816/816 [==============================] - 9s 11ms/step - loss: 0.9370 - accuracy: 0.0263 - RMSE: 0.9642 - MSE: 0.9370 - val_loss: 0.6274 - val_accuracy: 0.0000e+00 - val_RMSE: 0.7921 - val_MSE: 0.6274\n",
            "\n",
            "Epoch 00062: val_loss did not improve from 0.19565\n",
            "Epoch 63/1000\n",
            "816/816 [==============================] - 9s 11ms/step - loss: 0.9125 - accuracy: 0.0275 - RMSE: 0.9483 - MSE: 0.9125 - val_loss: 0.7251 - val_accuracy: 0.0000e+00 - val_RMSE: 0.8516 - val_MSE: 0.7251\n",
            "\n",
            "Epoch 00063: val_loss did not improve from 0.19565\n",
            "Epoch 64/1000\n",
            "816/816 [==============================] - 9s 11ms/step - loss: 1.1248 - accuracy: 0.0282 - RMSE: 1.0489 - MSE: 1.1248 - val_loss: 1.5523 - val_accuracy: 0.0000e+00 - val_RMSE: 1.2459 - val_MSE: 1.5523\n",
            "\n",
            "Epoch 00064: val_loss did not improve from 0.19565\n",
            "Epoch 65/1000\n",
            "816/816 [==============================] - 9s 11ms/step - loss: 1.5120 - accuracy: 0.0313 - RMSE: 1.2119 - MSE: 1.5120 - val_loss: 1.7794 - val_accuracy: 0.0000e+00 - val_RMSE: 1.3339 - val_MSE: 1.7794\n",
            "\n",
            "Epoch 00065: val_loss did not improve from 0.19565\n",
            "Epoch 66/1000\n",
            "816/816 [==============================] - 9s 11ms/step - loss: 1.0949 - accuracy: 0.0317 - RMSE: 1.0329 - MSE: 1.0949 - val_loss: 1.7121 - val_accuracy: 0.0000e+00 - val_RMSE: 1.3085 - val_MSE: 1.7121\n",
            "\n",
            "Epoch 00066: val_loss did not improve from 0.19565\n",
            "Epoch 67/1000\n",
            "816/816 [==============================] - 9s 11ms/step - loss: 1.0462 - accuracy: 0.0294 - RMSE: 1.0095 - MSE: 1.0462 - val_loss: 1.2474 - val_accuracy: 0.0000e+00 - val_RMSE: 1.1169 - val_MSE: 1.2474\n",
            "\n",
            "Epoch 00067: val_loss did not improve from 0.19565\n",
            "Epoch 68/1000\n",
            "816/816 [==============================] - 9s 11ms/step - loss: 1.6472 - accuracy: 0.0232 - RMSE: 1.2646 - MSE: 1.6472 - val_loss: 1.4293 - val_accuracy: 0.0000e+00 - val_RMSE: 1.1955 - val_MSE: 1.4293\n",
            "\n",
            "Epoch 00068: val_loss did not improve from 0.19565\n",
            "Epoch 69/1000\n",
            "816/816 [==============================] - 9s 11ms/step - loss: 0.8774 - accuracy: 0.0294 - RMSE: 0.9312 - MSE: 0.8774 - val_loss: 2.2908 - val_accuracy: 0.0000e+00 - val_RMSE: 1.5135 - val_MSE: 2.2908\n",
            "\n",
            "Epoch 00069: val_loss did not improve from 0.19565\n",
            "Epoch 70/1000\n",
            "816/816 [==============================] - 9s 11ms/step - loss: 1.0415 - accuracy: 0.0337 - RMSE: 1.0145 - MSE: 1.0415 - val_loss: 2.0922 - val_accuracy: 0.0000e+00 - val_RMSE: 1.4465 - val_MSE: 2.0922\n",
            "\n",
            "Epoch 00070: val_loss did not improve from 0.19565\n",
            "Epoch 71/1000\n",
            "816/816 [==============================] - 9s 11ms/step - loss: 0.9334 - accuracy: 0.0286 - RMSE: 0.9607 - MSE: 0.9334 - val_loss: 1.9285 - val_accuracy: 0.0000e+00 - val_RMSE: 1.3887 - val_MSE: 1.9285\n",
            "\n",
            "Epoch 00071: val_loss did not improve from 0.19565\n",
            "Epoch 72/1000\n",
            "816/816 [==============================] - 9s 11ms/step - loss: 1.5229 - accuracy: 0.0178 - RMSE: 1.2295 - MSE: 1.5229 - val_loss: 2.8777 - val_accuracy: 0.0000e+00 - val_RMSE: 1.6964 - val_MSE: 2.8777\n",
            "\n",
            "Epoch 00072: val_loss did not improve from 0.19565\n",
            "Epoch 73/1000\n",
            "816/816 [==============================] - 9s 11ms/step - loss: 1.3169 - accuracy: 0.0298 - RMSE: 1.1418 - MSE: 1.3169 - val_loss: 2.4659 - val_accuracy: 0.0000e+00 - val_RMSE: 1.5703 - val_MSE: 2.4659\n",
            "\n",
            "Epoch 00073: val_loss did not improve from 0.19565\n",
            "Epoch 74/1000\n",
            "816/816 [==============================] - 9s 11ms/step - loss: 1.9426 - accuracy: 0.0382 - RMSE: 1.3263 - MSE: 1.9426 - val_loss: 3.4899 - val_accuracy: 0.0000e+00 - val_RMSE: 1.8681 - val_MSE: 3.4899\n",
            "\n",
            "Epoch 00074: val_loss did not improve from 0.19565\n",
            "Epoch 75/1000\n",
            "816/816 [==============================] - 9s 11ms/step - loss: 0.8314 - accuracy: 0.0265 - RMSE: 0.8982 - MSE: 0.8314 - val_loss: 2.5163 - val_accuracy: 0.0000e+00 - val_RMSE: 1.5863 - val_MSE: 2.5163\n",
            "\n",
            "Epoch 00075: val_loss did not improve from 0.19565\n",
            "Epoch 76/1000\n",
            "816/816 [==============================] - 9s 11ms/step - loss: 1.3034 - accuracy: 0.0196 - RMSE: 1.1343 - MSE: 1.3034 - val_loss: 2.5028 - val_accuracy: 0.0000e+00 - val_RMSE: 1.5820 - val_MSE: 2.5028\n",
            "\n",
            "Epoch 00076: val_loss did not improve from 0.19565\n",
            "Epoch 77/1000\n",
            "816/816 [==============================] - 9s 11ms/step - loss: 1.2064 - accuracy: 0.0384 - RMSE: 1.0863 - MSE: 1.2064 - val_loss: 2.5463 - val_accuracy: 0.0000e+00 - val_RMSE: 1.5957 - val_MSE: 2.5463\n",
            "\n",
            "Epoch 00077: val_loss did not improve from 0.19565\n",
            "Epoch 78/1000\n",
            "816/816 [==============================] - 9s 11ms/step - loss: 1.2187 - accuracy: 0.0367 - RMSE: 1.0903 - MSE: 1.2187 - val_loss: 3.0681 - val_accuracy: 0.0000e+00 - val_RMSE: 1.7516 - val_MSE: 3.0681\n",
            "\n",
            "Epoch 00078: val_loss did not improve from 0.19565\n",
            "Epoch 79/1000\n",
            "816/816 [==============================] - 9s 11ms/step - loss: 1.1521 - accuracy: 0.0322 - RMSE: 1.0596 - MSE: 1.1521 - val_loss: 2.9878 - val_accuracy: 0.0000e+00 - val_RMSE: 1.7285 - val_MSE: 2.9878\n",
            "\n",
            "Epoch 00079: val_loss did not improve from 0.19565\n",
            "\n",
            "Epoch 00079: ReduceLROnPlateau reducing learning rate to 9.999999747378752e-07.\n",
            "Epoch 80/1000\n",
            "816/816 [==============================] - 9s 11ms/step - loss: 0.6119 - accuracy: 0.0217 - RMSE: 0.7759 - MSE: 0.6119 - val_loss: 2.9105 - val_accuracy: 0.0000e+00 - val_RMSE: 1.7060 - val_MSE: 2.9105\n",
            "\n",
            "Epoch 00080: val_loss did not improve from 0.19565\n",
            "Epoch 81/1000\n",
            "816/816 [==============================] - 9s 11ms/step - loss: 1.2008 - accuracy: 0.0481 - RMSE: 1.0774 - MSE: 1.2008 - val_loss: 3.0867 - val_accuracy: 0.0000e+00 - val_RMSE: 1.7569 - val_MSE: 3.0867\n",
            "\n",
            "Epoch 00081: val_loss did not improve from 0.19565\n",
            "Epoch 82/1000\n",
            "816/816 [==============================] - 9s 11ms/step - loss: 0.9662 - accuracy: 0.0459 - RMSE: 0.9770 - MSE: 0.9662 - val_loss: 3.1140 - val_accuracy: 0.0000e+00 - val_RMSE: 1.7647 - val_MSE: 3.1140\n",
            "\n",
            "Epoch 00082: val_loss did not improve from 0.19565\n",
            "Epoch 83/1000\n",
            "816/816 [==============================] - 9s 11ms/step - loss: 0.6704 - accuracy: 0.0272 - RMSE: 0.8124 - MSE: 0.6704 - val_loss: 3.2736 - val_accuracy: 0.0000e+00 - val_RMSE: 1.8093 - val_MSE: 3.2736\n",
            "\n",
            "Epoch 00083: val_loss did not improve from 0.19565\n",
            "Epoch 84/1000\n",
            "816/816 [==============================] - 9s 11ms/step - loss: 0.8618 - accuracy: 0.0312 - RMSE: 0.9118 - MSE: 0.8618 - val_loss: 3.0983 - val_accuracy: 0.0000e+00 - val_RMSE: 1.7602 - val_MSE: 3.0983\n",
            "\n",
            "Epoch 00084: val_loss did not improve from 0.19565\n",
            "Epoch 85/1000\n",
            "816/816 [==============================] - 9s 11ms/step - loss: 1.3310 - accuracy: 0.0337 - RMSE: 1.1376 - MSE: 1.3310 - val_loss: 2.9440 - val_accuracy: 0.0000e+00 - val_RMSE: 1.7158 - val_MSE: 2.9440\n",
            "\n",
            "Epoch 00085: val_loss did not improve from 0.19565\n",
            "Epoch 86/1000\n",
            "816/816 [==============================] - 9s 11ms/step - loss: 1.2004 - accuracy: 0.0335 - RMSE: 1.0732 - MSE: 1.2004 - val_loss: 3.1909 - val_accuracy: 0.0000e+00 - val_RMSE: 1.7863 - val_MSE: 3.1909\n",
            "\n",
            "Epoch 00086: val_loss did not improve from 0.19565\n",
            "Epoch 87/1000\n",
            "816/816 [==============================] - 9s 11ms/step - loss: 0.6010 - accuracy: 0.0458 - RMSE: 0.7686 - MSE: 0.6010 - val_loss: 3.1303 - val_accuracy: 0.0000e+00 - val_RMSE: 1.7693 - val_MSE: 3.1303\n",
            "\n",
            "Epoch 00087: val_loss did not improve from 0.19565\n",
            "Epoch 88/1000\n",
            "816/816 [==============================] - 9s 11ms/step - loss: 0.6553 - accuracy: 0.0314 - RMSE: 0.8026 - MSE: 0.6553 - val_loss: 2.9578 - val_accuracy: 0.0000e+00 - val_RMSE: 1.7198 - val_MSE: 2.9578\n",
            "\n",
            "Epoch 00088: val_loss did not improve from 0.19565\n",
            "Epoch 89/1000\n",
            "816/816 [==============================] - 9s 11ms/step - loss: 0.6429 - accuracy: 0.0314 - RMSE: 0.7943 - MSE: 0.6429 - val_loss: 3.0472 - val_accuracy: 0.0000e+00 - val_RMSE: 1.7456 - val_MSE: 3.0472\n",
            "\n",
            "Epoch 00089: val_loss did not improve from 0.19565\n",
            "Epoch 90/1000\n",
            "816/816 [==============================] - 9s 11ms/step - loss: 0.5050 - accuracy: 0.0376 - RMSE: 0.7080 - MSE: 0.5050 - val_loss: 2.8032 - val_accuracy: 0.0000e+00 - val_RMSE: 1.6743 - val_MSE: 2.8032\n",
            "\n",
            "Epoch 00090: val_loss did not improve from 0.19565\n",
            "Epoch 91/1000\n",
            "816/816 [==============================] - 9s 11ms/step - loss: 0.7895 - accuracy: 0.0452 - RMSE: 0.8752 - MSE: 0.7895 - val_loss: 3.1022 - val_accuracy: 0.0000e+00 - val_RMSE: 1.7613 - val_MSE: 3.1022\n",
            "\n",
            "Epoch 00091: val_loss did not improve from 0.19565\n",
            "Epoch 92/1000\n",
            "816/816 [==============================] - 9s 11ms/step - loss: 0.7524 - accuracy: 0.0267 - RMSE: 0.8486 - MSE: 0.7524 - val_loss: 3.1953 - val_accuracy: 0.0000e+00 - val_RMSE: 1.7875 - val_MSE: 3.1953\n",
            "\n",
            "Epoch 00092: val_loss did not improve from 0.19565\n",
            "Epoch 93/1000\n",
            "816/816 [==============================] - 9s 11ms/step - loss: 0.7677 - accuracy: 0.0299 - RMSE: 0.8545 - MSE: 0.7677 - val_loss: 2.9786 - val_accuracy: 0.0000e+00 - val_RMSE: 1.7259 - val_MSE: 2.9786\n",
            "\n",
            "Epoch 00093: val_loss did not improve from 0.19565\n",
            "Epoch 94/1000\n",
            "816/816 [==============================] - 9s 11ms/step - loss: 0.8769 - accuracy: 0.0157 - RMSE: 0.9224 - MSE: 0.8769 - val_loss: 3.0792 - val_accuracy: 0.0000e+00 - val_RMSE: 1.7548 - val_MSE: 3.0792\n",
            "\n",
            "Epoch 00094: val_loss did not improve from 0.19565\n",
            "Epoch 95/1000\n",
            "816/816 [==============================] - 9s 11ms/step - loss: 0.7036 - accuracy: 0.0368 - RMSE: 0.8225 - MSE: 0.7036 - val_loss: 3.0738 - val_accuracy: 0.0000e+00 - val_RMSE: 1.7532 - val_MSE: 3.0738\n",
            "\n",
            "Epoch 00095: val_loss did not improve from 0.19565\n",
            "Epoch 96/1000\n",
            "816/816 [==============================] - 9s 11ms/step - loss: 0.8869 - accuracy: 0.0336 - RMSE: 0.9282 - MSE: 0.8869 - val_loss: 3.1519 - val_accuracy: 0.0000e+00 - val_RMSE: 1.7754 - val_MSE: 3.1519\n",
            "\n",
            "Epoch 00096: val_loss did not improve from 0.19565\n",
            "Epoch 97/1000\n",
            "816/816 [==============================] - 9s 11ms/step - loss: 0.6736 - accuracy: 0.0317 - RMSE: 0.8139 - MSE: 0.6736 - val_loss: 3.1453 - val_accuracy: 0.0000e+00 - val_RMSE: 1.7735 - val_MSE: 3.1453\n",
            "\n",
            "Epoch 00097: val_loss did not improve from 0.19565\n",
            "Epoch 98/1000\n",
            "816/816 [==============================] - 9s 11ms/step - loss: 0.6839 - accuracy: 0.0199 - RMSE: 0.8112 - MSE: 0.6839 - val_loss: 3.0519 - val_accuracy: 0.0000e+00 - val_RMSE: 1.7470 - val_MSE: 3.0519\n",
            "\n",
            "Epoch 00098: val_loss did not improve from 0.19565\n",
            "Epoch 99/1000\n",
            "816/816 [==============================] - 9s 11ms/step - loss: 1.6474 - accuracy: 0.0411 - RMSE: 1.2083 - MSE: 1.6474 - val_loss: 3.1193 - val_accuracy: 0.0000e+00 - val_RMSE: 1.7662 - val_MSE: 3.1193\n",
            "\n",
            "Epoch 00099: val_loss did not improve from 0.19565\n",
            "Epoch 100/1000\n",
            "816/816 [==============================] - 9s 11ms/step - loss: 0.9675 - accuracy: 0.0250 - RMSE: 0.9573 - MSE: 0.9675 - val_loss: 3.1678 - val_accuracy: 0.0000e+00 - val_RMSE: 1.7798 - val_MSE: 3.1678\n",
            "\n",
            "Epoch 00100: val_loss did not improve from 0.19565\n",
            "Epoch 101/1000\n",
            "816/816 [==============================] - 9s 11ms/step - loss: 0.6467 - accuracy: 0.0176 - RMSE: 0.7797 - MSE: 0.6467 - val_loss: 3.1922 - val_accuracy: 0.0000e+00 - val_RMSE: 1.7867 - val_MSE: 3.1922\n",
            "\n",
            "Epoch 00101: val_loss did not improve from 0.19565\n",
            "Epoch 102/1000\n",
            "816/816 [==============================] - 9s 11ms/step - loss: 0.4622 - accuracy: 0.0286 - RMSE: 0.6726 - MSE: 0.4622 - val_loss: 3.1317 - val_accuracy: 0.0000e+00 - val_RMSE: 1.7696 - val_MSE: 3.1317\n",
            "\n",
            "Epoch 00102: val_loss did not improve from 0.19565\n",
            "Epoch 103/1000\n",
            "816/816 [==============================] - 9s 11ms/step - loss: 0.6769 - accuracy: 0.0244 - RMSE: 0.7905 - MSE: 0.6769 - val_loss: 3.1892 - val_accuracy: 0.0000e+00 - val_RMSE: 1.7858 - val_MSE: 3.1892\n",
            "\n",
            "Epoch 00103: val_loss did not improve from 0.19565\n",
            "Epoch 104/1000\n",
            "816/816 [==============================] - 9s 11ms/step - loss: 1.7168 - accuracy: 0.0322 - RMSE: 1.2161 - MSE: 1.7168 - val_loss: 3.2773 - val_accuracy: 0.0000e+00 - val_RMSE: 1.8103 - val_MSE: 3.2773\n",
            "\n",
            "Epoch 00104: val_loss did not improve from 0.19565\n",
            "Epoch 105/1000\n",
            "816/816 [==============================] - 9s 11ms/step - loss: 0.4681 - accuracy: 0.0561 - RMSE: 0.6771 - MSE: 0.4681 - val_loss: 3.0789 - val_accuracy: 0.0000e+00 - val_RMSE: 1.7547 - val_MSE: 3.0789\n",
            "\n",
            "Epoch 00105: val_loss did not improve from 0.19565\n",
            "Epoch 106/1000\n",
            "816/816 [==============================] - 9s 11ms/step - loss: 1.0412 - accuracy: 0.0324 - RMSE: 0.9858 - MSE: 1.0412 - val_loss: 3.2767 - val_accuracy: 0.0000e+00 - val_RMSE: 1.8102 - val_MSE: 3.2767\n",
            "\n",
            "Epoch 00106: val_loss did not improve from 0.19565\n",
            "Epoch 107/1000\n",
            "816/816 [==============================] - 9s 11ms/step - loss: 0.5019 - accuracy: 0.0437 - RMSE: 0.7008 - MSE: 0.5019 - val_loss: 3.2849 - val_accuracy: 0.0000e+00 - val_RMSE: 1.8124 - val_MSE: 3.2849\n",
            "\n",
            "Epoch 00107: val_loss did not improve from 0.19565\n",
            "Epoch 108/1000\n",
            "816/816 [==============================] - 9s 11ms/step - loss: 0.7102 - accuracy: 0.0380 - RMSE: 0.8126 - MSE: 0.7102 - val_loss: 3.1780 - val_accuracy: 0.0000e+00 - val_RMSE: 1.7827 - val_MSE: 3.1780\n",
            "\n",
            "Epoch 00108: val_loss did not improve from 0.19565\n",
            "Epoch 109/1000\n",
            "816/816 [==============================] - 9s 11ms/step - loss: 1.8918 - accuracy: 0.0449 - RMSE: 1.2232 - MSE: 1.8918 - val_loss: 3.2732 - val_accuracy: 0.0000e+00 - val_RMSE: 1.8092 - val_MSE: 3.2732\n",
            "\n",
            "Epoch 00109: val_loss did not improve from 0.19565\n",
            "Epoch 110/1000\n",
            "816/816 [==============================] - 9s 11ms/step - loss: 0.4096 - accuracy: 0.0532 - RMSE: 0.6262 - MSE: 0.4096 - val_loss: 3.3387 - val_accuracy: 0.0000e+00 - val_RMSE: 1.8272 - val_MSE: 3.3387\n",
            "\n",
            "Epoch 00110: val_loss did not improve from 0.19565\n",
            "Epoch 111/1000\n",
            "816/816 [==============================] - 9s 11ms/step - loss: 0.3292 - accuracy: 0.0266 - RMSE: 0.5614 - MSE: 0.3292 - val_loss: 3.3906 - val_accuracy: 0.0000e+00 - val_RMSE: 1.8414 - val_MSE: 3.3906\n",
            "\n",
            "Epoch 00111: val_loss did not improve from 0.19565\n",
            "Epoch 112/1000\n",
            "816/816 [==============================] - 9s 11ms/step - loss: 1.2192 - accuracy: 0.0351 - RMSE: 1.0669 - MSE: 1.2192 - val_loss: 3.2329 - val_accuracy: 0.0000e+00 - val_RMSE: 1.7980 - val_MSE: 3.2329\n",
            "\n",
            "Epoch 00112: val_loss did not improve from 0.19565\n",
            "Epoch 113/1000\n",
            "816/816 [==============================] - 9s 11ms/step - loss: 0.6964 - accuracy: 0.0498 - RMSE: 0.8124 - MSE: 0.6964 - val_loss: 3.4179 - val_accuracy: 0.0000e+00 - val_RMSE: 1.8488 - val_MSE: 3.4179\n",
            "\n",
            "Epoch 00113: val_loss did not improve from 0.19565\n",
            "Epoch 114/1000\n",
            "816/816 [==============================] - 9s 11ms/step - loss: 0.7299 - accuracy: 0.0444 - RMSE: 0.8367 - MSE: 0.7299 - val_loss: 3.3506 - val_accuracy: 0.0000e+00 - val_RMSE: 1.8305 - val_MSE: 3.3506\n",
            "\n",
            "Epoch 00114: val_loss did not improve from 0.19565\n",
            "Epoch 115/1000\n",
            "816/816 [==============================] - 9s 11ms/step - loss: 0.6468 - accuracy: 0.0339 - RMSE: 0.7963 - MSE: 0.6468 - val_loss: 3.3890 - val_accuracy: 0.0000e+00 - val_RMSE: 1.8409 - val_MSE: 3.3890\n",
            "\n",
            "Epoch 00115: val_loss did not improve from 0.19565\n",
            "Epoch 116/1000\n",
            "816/816 [==============================] - 9s 11ms/step - loss: 1.0023 - accuracy: 0.0276 - RMSE: 0.9765 - MSE: 1.0023 - val_loss: 3.2964 - val_accuracy: 0.0000e+00 - val_RMSE: 1.8156 - val_MSE: 3.2964\n",
            "\n",
            "Epoch 00116: val_loss did not improve from 0.19565\n",
            "Epoch 117/1000\n",
            "816/816 [==============================] - 9s 11ms/step - loss: 1.4108 - accuracy: 0.0332 - RMSE: 1.1254 - MSE: 1.4108 - val_loss: 3.3013 - val_accuracy: 0.0000e+00 - val_RMSE: 1.8170 - val_MSE: 3.3013\n",
            "\n",
            "Epoch 00117: val_loss did not improve from 0.19565\n",
            "Epoch 118/1000\n",
            "816/816 [==============================] - 9s 11ms/step - loss: 0.6127 - accuracy: 0.0269 - RMSE: 0.7716 - MSE: 0.6127 - val_loss: 3.3404 - val_accuracy: 0.0000e+00 - val_RMSE: 1.8277 - val_MSE: 3.3404\n",
            "\n",
            "Epoch 00118: val_loss did not improve from 0.19565\n",
            "Epoch 119/1000\n",
            "816/816 [==============================] - 9s 11ms/step - loss: 0.7919 - accuracy: 0.0250 - RMSE: 0.8477 - MSE: 0.7919 - val_loss: 3.3205 - val_accuracy: 0.0000e+00 - val_RMSE: 1.8222 - val_MSE: 3.3205\n",
            "\n",
            "Epoch 00119: val_loss did not improve from 0.19565\n",
            "Epoch 120/1000\n",
            "816/816 [==============================] - 9s 11ms/step - loss: 0.6754 - accuracy: 0.0407 - RMSE: 0.8079 - MSE: 0.6754 - val_loss: 3.2942 - val_accuracy: 0.0000e+00 - val_RMSE: 1.8150 - val_MSE: 3.2942\n",
            "\n",
            "Epoch 00120: val_loss did not improve from 0.19565\n",
            "Epoch 121/1000\n",
            "816/816 [==============================] - 9s 11ms/step - loss: 0.5270 - accuracy: 0.0463 - RMSE: 0.7034 - MSE: 0.5270 - val_loss: 3.2317 - val_accuracy: 0.0000e+00 - val_RMSE: 1.7977 - val_MSE: 3.2317\n",
            "\n",
            "Epoch 00121: val_loss did not improve from 0.19565\n",
            "Epoch 122/1000\n",
            "816/816 [==============================] - 9s 11ms/step - loss: 0.5264 - accuracy: 0.0339 - RMSE: 0.6989 - MSE: 0.5264 - val_loss: 2.9972 - val_accuracy: 0.0000e+00 - val_RMSE: 1.7313 - val_MSE: 2.9972\n",
            "\n",
            "Epoch 00122: val_loss did not improve from 0.19565\n",
            "Epoch 123/1000\n",
            "816/816 [==============================] - 9s 11ms/step - loss: 0.6621 - accuracy: 0.0446 - RMSE: 0.7907 - MSE: 0.6621 - val_loss: 3.3060 - val_accuracy: 0.0000e+00 - val_RMSE: 1.8182 - val_MSE: 3.3060\n",
            "\n",
            "Epoch 00123: val_loss did not improve from 0.19565\n",
            "Epoch 124/1000\n",
            "816/816 [==============================] - 9s 11ms/step - loss: 1.3394 - accuracy: 0.0317 - RMSE: 1.1015 - MSE: 1.3394 - val_loss: 3.2907 - val_accuracy: 0.0000e+00 - val_RMSE: 1.8140 - val_MSE: 3.2907\n",
            "\n",
            "Epoch 00124: val_loss did not improve from 0.19565\n",
            "Epoch 125/1000\n",
            "816/816 [==============================] - 9s 11ms/step - loss: 0.4606 - accuracy: 0.0316 - RMSE: 0.6637 - MSE: 0.4606 - val_loss: 3.3075 - val_accuracy: 0.0000e+00 - val_RMSE: 1.8186 - val_MSE: 3.3075\n",
            "\n",
            "Epoch 00125: val_loss did not improve from 0.19565\n",
            "Epoch 126/1000\n",
            "816/816 [==============================] - 9s 12ms/step - loss: 0.6140 - accuracy: 0.0401 - RMSE: 0.7648 - MSE: 0.6140 - val_loss: 3.1227 - val_accuracy: 0.0000e+00 - val_RMSE: 1.7671 - val_MSE: 3.1227\n",
            "\n",
            "Epoch 00126: val_loss did not improve from 0.19565\n",
            "Epoch 127/1000\n",
            "816/816 [==============================] - 9s 11ms/step - loss: 0.8360 - accuracy: 0.0645 - RMSE: 0.8980 - MSE: 0.8360 - val_loss: 3.2607 - val_accuracy: 0.0000e+00 - val_RMSE: 1.8057 - val_MSE: 3.2607\n",
            "\n",
            "Epoch 00127: val_loss did not improve from 0.19565\n",
            "Epoch 128/1000\n",
            "816/816 [==============================] - 9s 11ms/step - loss: 0.4298 - accuracy: 0.0339 - RMSE: 0.6498 - MSE: 0.4298 - val_loss: 3.2097 - val_accuracy: 0.0000e+00 - val_RMSE: 1.7916 - val_MSE: 3.2097\n",
            "\n",
            "Epoch 00128: val_loss did not improve from 0.19565\n",
            "Epoch 129/1000\n",
            "816/816 [==============================] - 9s 11ms/step - loss: 1.0736 - accuracy: 0.0341 - RMSE: 1.0131 - MSE: 1.0736 - val_loss: 3.2873 - val_accuracy: 0.0000e+00 - val_RMSE: 1.8131 - val_MSE: 3.2873\n",
            "\n",
            "Epoch 00129: val_loss did not improve from 0.19565\n",
            "\n",
            "Epoch 00129: ReduceLROnPlateau reducing learning rate to 9.999999974752428e-08.\n",
            "Epoch 00129: early stopping\n"
          ],
          "name": "stdout"
        }
      ]
    },
    {
      "cell_type": "markdown",
      "metadata": {
        "id": "wbRPWecH2XHD"
      },
      "source": [
        "### Plots "
      ]
    },
    {
      "cell_type": "code",
      "metadata": {
        "colab": {
          "base_uri": "https://localhost:8080/",
          "height": 283
        },
        "id": "tZeBNo9d2Zcg",
        "outputId": "dfe8237e-0a21-4fde-fd57-721f1c955285"
      },
      "source": [
        "plt.plot(history.history['loss'], label='loss')\n",
        "plt.xlabel('Epoch')\n",
        "plt.ylabel('loss')\n",
        "plt.ylim([0, 2.0])\n",
        "plt.legend(loc='lower right')\n",
        "plt.show()"
      ],
      "execution_count": 11,
      "outputs": [
        {
          "output_type": "display_data",
          "data": {
            "image/png": "[encoded data removed]",
            "text/plain": [
              "<Figure size 432x288 with 1 Axes>"
            ]
          },
          "metadata": {
            "tags": [],
            "needs_background": "light"
          }
        }
      ]
    },
    {
      "cell_type": "code",
      "metadata": {
        "colab": {
          "base_uri": "https://localhost:8080/",
          "height": 283
        },
        "id": "mWUviAKCJBks",
        "outputId": "4c194ab4-bd38-4368-d736-639590d7ab4e"
      },
      "source": [
        "plt.plot(history.history['RMSE'], label='RMSE')\n",
        "plt.xlabel('Epoch')\n",
        "plt.ylabel('RMSE')\n",
        "plt.ylim([0, 1])\n",
        "plt.legend(loc='lower right')\n",
        "plt.show()"
      ],
      "execution_count": 12,
      "outputs": [
        {
          "output_type": "display_data",
          "data": {
            "image/png": "[encoded data removed]",
            "text/plain": [
              "<Figure size 432x288 with 1 Axes>"
            ]
          },
          "metadata": {
            "tags": [],
            "needs_background": "light"
          }
        }
      ]
    },
    {
      "cell_type": "code",
      "metadata": {
        "colab": {
          "base_uri": "https://localhost:8080/",
          "height": 279
        },
        "id": "g1safbSx2c1M",
        "outputId": "1adaece6-0c27-4d40-ba98-e0fd99b49878"
      },
      "source": [
        "plt.plot(history.history['val_loss'], label = 'val_loss')\n",
        "plt.xlabel('Epoch')\n",
        "plt.ylabel('val_loss')\n",
        "plt.ylim([0, 1.5])\n",
        "plt.legend(loc='lower right')\n",
        "plt.show()"
      ],
      "execution_count": 13,
      "outputs": [
        {
          "output_type": "display_data",
          "data": {
            "image/png": "[encoded data removed]",
            "text/plain": [
              "<Figure size 432x288 with 1 Axes>"
            ]
          },
          "metadata": {
            "tags": [],
            "needs_background": "light"
          }
        }
      ]
    },
    {
      "cell_type": "code",
      "metadata": {
        "colab": {
          "base_uri": "https://localhost:8080/",
          "height": 283
        },
        "id": "r7EL4KSEjUJm",
        "outputId": "421c8c7f-52f0-46ee-a481-0153e516bf7a"
      },
      "source": [
        "plt.plot(history.history['val_RMSE'], label = 'val_RMSE')\n",
        "plt.xlabel('Epoch')\n",
        "plt.ylabel('val_RMSE')\n",
        "plt.ylim([0,2])\n",
        "plt.legend(loc='lower right')\n",
        "plt.show()"
      ],
      "execution_count": 14,
      "outputs": [
        {
          "output_type": "display_data",
          "data": {
            "image/png": "[encoded data removed]",
            "text/plain": [
              "<Figure size 432x288 with 1 Axes>"
            ]
          },
          "metadata": {
            "tags": [],
            "needs_background": "light"
          }
        }
      ]
    },
    {
      "cell_type": "markdown",
      "metadata": {
        "id": "cMJnmNFy2je8"
      },
      "source": [
        "### Evaluation "
      ]
    },
    {
      "cell_type": "code",
      "metadata": {
        "id": "kH3sx0vn7Cr_"
      },
      "source": [
        "model.compile(optimizer=tf.keras.optimizers.Adam(learning_rate=initial_learning_rate),\n",
        "              loss=tf.keras.losses.MeanSquaredError(),\n",
        "              metrics=['accuracy', tf.keras.metrics.RootMeanSquaredError(name='RMSE'), tf.keras.losses.MeanSquaredError(name='MSE')])\n",
        "model.load_weights(checkpoint_path)"
      ],
      "execution_count": 33,
      "outputs": []
    },
    {
      "cell_type": "code",
      "metadata": {
        "colab": {
          "base_uri": "https://localhost:8080/"
        },
        "id": "vizTbYSM2k42",
        "outputId": "867bfa73-e79e-4189-f734-20efd8dd39d8"
      },
      "source": [
        "print(\"\\nEvaluating val ds... \")\n",
        "test_loss, test_acc, test_rmse, test_mse = model.evaluate(val_ds, verbose=1)"
      ],
      "execution_count": 34,
      "outputs": [
        {
          "output_type": "stream",
          "text": [
            "\n",
            "Evaluating val ds... \n",
            "101/101 [==============================] - 1s 5ms/step - loss: 0.1766 - accuracy: 0.0457 - RMSE: 0.4171 - MSE: 0.1766\n"
          ],
          "name": "stdout"
        }
      ]
    },
    {
      "cell_type": "code",
      "metadata": {
        "colab": {
          "base_uri": "https://localhost:8080/"
        },
        "id": "CyLkAkiOcwCc",
        "outputId": "33aec6c6-e4d7-4a31-e2a5-01d6a89ec743"
      },
      "source": [
        "print(\"\\nEvaluating test ds... \")\n",
        "test_loss, test_acc, test_rmse, test_mse = model.evaluate(test_ds, verbose=1)"
      ],
      "execution_count": 35,
      "outputs": [
        {
          "output_type": "stream",
          "text": [
            "\n",
            "Evaluating test ds... \n",
            "1/1 [==============================] - 0s 34ms/step - loss: 0.1415 - accuracy: 0.0990 - RMSE: 0.3761 - MSE: 0.1415\n"
          ],
          "name": "stdout"
        }
      ]
    },
    {
      "cell_type": "markdown",
      "metadata": {
        "id": "wXlekjHS2mI5"
      },
      "source": [
        "### Prediction"
      ]
    },
    {
      "cell_type": "code",
      "metadata": {
        "colab": {
          "base_uri": "https://localhost:8080/",
          "height": 298
        },
        "id": "HyY7eEh02oHI",
        "outputId": "a38f2b47-c638-4c41-8c1d-d84161391cd2"
      },
      "source": [
        "plt.imshow(image_batch_val[0][:,:,0])\n",
        "label = label_batch_val[0].numpy()\n",
        "plt.title(label)\n",
        "plt.axis(\"off\")\n",
        "predictions = model.predict(image_batch_val)\n",
        "print(\"predictions shape:\", predictions.shape)\n",
        "print(\"prediction:\", predictions)"
      ],
      "execution_count": 30,
      "outputs": [
        {
          "output_type": "stream",
          "text": [
            "predictions shape: (1, 1)\n",
            "prediction: [[0.69999665]]\n"
          ],
          "name": "stdout"
        },
        {
          "output_type": "display_data",
          "data": {
            "image/png": "[encoded data removed]",
            "text/plain": [
              "<Figure size 432x288 with 1 Axes>"
            ]
          },
          "metadata": {
            "tags": [],
            "needs_background": "light"
          }
        }
      ]
    },
    {
      "cell_type": "code",
      "metadata": {
        "colab": {
          "base_uri": "https://localhost:8080/",
          "height": 352
        },
        "id": "cVPLEMd-XTdU",
        "outputId": "5d7b7db4-94c5-4ed3-b1de-a15314b3cb48"
      },
      "source": [
        "indexes_list = []\n",
        "for i in range(len(image_batch_test)):\n",
        "  indexes_list.append(i)\n",
        "\n",
        "predictions = model.predict(test_ds)\n",
        "error = abs(predictions[:][0] - label_batch_test.numpy())\n",
        "plt.title(\"Plot of errors between real yield value and predicted one on the test set\")\n",
        "plt.bar(indexes_list,error)"
      ],
      "execution_count": 36,
      "outputs": [
        {
          "output_type": "stream",
          "text": [
            "WARNING:tensorflow:5 out of the last 7 calls to <function Model.make_predict_function.<locals>.predict_function at 0x7f77c44219d8> triggered tf.function retracing. Tracing is expensive and the excessive number of tracings could be due to (1) creating @tf.function repeatedly in a loop, (2) passing tensors with different shapes, (3) passing Python objects instead of tensors. For (1), please define your @tf.function outside of the loop. For (2), @tf.function has experimental_relax_shapes=True option that relaxes argument shapes that can avoid unnecessary retracing. For (3), please refer to https://www.tensorflow.org/guide/function#controlling_retracing and https://www.tensorflow.org/api_docs/python/tf/function for  more details.\n",
            "5 out of the last 7 calls to <function Model.make_predict_function.<locals>.predict_function at 0x7f77c44219d8> triggered tf.function retracing. Tracing is expensive and the excessive number of tracings could be due to (1) creating @tf.function repeatedly in a loop, (2) passing tensors with different shapes, (3) passing Python objects instead of tensors. For (1), please define your @tf.function outside of the loop. For (2), @tf.function has experimental_relax_shapes=True option that relaxes argument shapes that can avoid unnecessary retracing. For (3), please refer to https://www.tensorflow.org/guide/function#controlling_retracing and https://www.tensorflow.org/api_docs/python/tf/function for  more details.\n"
          ],
          "name": "stdout"
        },
        {
          "output_type": "execute_result",
          "data": {
            "text/plain": [
              "<BarContainer object of 101 artists>"
            ]
          },
          "metadata": {
            "tags": []
          },
          "execution_count": 36
        },
        {
          "output_type": "display_data",
          "data": {
            "image/png": "[encoded data removed]",
            "text/plain": [
              "<Figure size 432x288 with 1 Axes>"
            ]
          },
          "metadata": {
            "tags": [],
            "needs_background": "light"
          }
        }
      ]
    },
    {
      "cell_type": "code",
      "metadata": {
        "colab": {
          "base_uri": "https://localhost:8080/",
          "height": 298
        },
        "id": "gHrPMPq--St2",
        "outputId": "ada3c225-dcb5-4277-86c4-de3391198e92"
      },
      "source": [
        "indexes_list = []\n",
        "for i in range(len(image_batch_test)):\n",
        "  indexes_list.append(i)\n",
        "\n",
        "predictions = model.predict(test_ds)\n",
        "error = abs(predictions[:][0] - label_batch_test.numpy())/label_batch_test.numpy()\n",
        "# print(error[29])\n",
        "# print(label_batch_test[29].numpy())\n",
        "plt.title(\"Plot of percentage errors between real yield value and predicted one on the test set\")\n",
        "plt.bar(indexes_list,error)"
      ],
      "execution_count": 37,
      "outputs": [
        {
          "output_type": "execute_result",
          "data": {
            "text/plain": [
              "<BarContainer object of 101 artists>"
            ]
          },
          "metadata": {
            "tags": []
          },
          "execution_count": 37
        },
        {
          "output_type": "display_data",
          "data": {
            "image/png": "[encoded data removed]",
            "text/plain": [
              "<Figure size 432x288 with 1 Axes>"
            ]
          },
          "metadata": {
            "tags": [],
            "needs_background": "light"
          }
        }
      ]
    }
  ]
}