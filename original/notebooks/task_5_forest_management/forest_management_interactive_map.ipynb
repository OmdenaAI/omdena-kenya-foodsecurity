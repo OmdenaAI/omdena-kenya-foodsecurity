{
 "cells": [
  {
   "cell_type": "markdown",
   "metadata": {},
   "source": [
    "# Script for visualizing Senegal map divided by departments. Global forest change dataset (Hansen 2019) is uploaded and in specific points treecover and loss can be visualized. The script can be implemented to visualize treecover and loss for specific region"
   ]
  },
  {
   "cell_type": "markdown",
   "metadata": {},
   "source": [
    "#import libraries"
   ]
  },
  {
   "cell_type": "code",
   "execution_count": 2,
   "metadata": {},
   "outputs": [],
   "source": [
    "import ee\n",
    "import rasterio\n",
    "import matplotlib.pyplot as plt\n",
    "import os, sys\n",
    "import numpy as np\n",
    "import earthpy.plot as ep\n",
    "import numpy.ma as ma\n",
    "import collections\n",
    "import pandas as pd\n",
    "import seaborn\n",
    "import pylab as pl\n",
    "import geemap\n",
    "import json\n",
    "import requests\n",
    "from geemap import geojson_to_ee, ee_to_geojson\n",
    "from ipyleaflet import GeoJSON\n",
    "\n",
    "try:\n",
    "  ee.Initialize()\n",
    "except:\n",
    "  ee.Authenticate()\n",
    "  ee.Initialize()"
   ]
  },
  {
   "cell_type": "markdown",
   "metadata": {},
   "source": [
    "#Visualize map centered in Senegal"
   ]
  },
  {
   "cell_type": "code",
   "execution_count": 9,
   "metadata": {},
   "outputs": [
    {
     "data": {
      "application/vnd.jupyter.widget-view+json": {
       "model_id": "e9e2bd2a104643749d21670008387496",
       "version_major": 2,
       "version_minor": 0
      },
      "text/plain": [
       "Map(center=[14.78292, -15.274954], controls=(WidgetControl(options=['position', 'transparent_bg'], widget=HBox…"
      ]
     },
     "metadata": {},
     "output_type": "display_data"
    }
   ],
   "source": [
    "Map = geemap.Map(center=(14.782920, -15.274954), zoom=7)\n",
    "Map"
   ]
  },
  {
   "cell_type": "markdown",
   "metadata": {},
   "source": [
    "#import forest cover change dataset selecting treecover, loss and lossyear band"
   ]
  },
  {
   "cell_type": "code",
   "execution_count": 10,
   "metadata": {},
   "outputs": [],
   "source": [
    "gfc2019 = ee.Image('UMD/hansen/global_forest_change_2019_v1_7')\\\n",
    "            .select(['treecover2000','loss','lossyear'])\n",
    "            "
   ]
  },
  {
   "cell_type": "code",
   "execution_count": 5,
   "metadata": {},
   "outputs": [],
   "source": [
    "#import shapefiles per Senegal departments and transform them to ee to format"
   ]
  },
  {
   "cell_type": "code",
   "execution_count": 11,
   "metadata": {},
   "outputs": [],
   "source": [
    "senegal_shp = 'C:\\\\Users\\\\Caterina\\\\Desktop\\\\gadm36_SEN_shp\\\\gadm36_SEN_2.shp'#change with the correct path where the shapefiles are\n",
    "department = geemap.shp_to_ee(senegal_shp)"
   ]
  },
  {
   "cell_type": "code",
   "execution_count": 12,
   "metadata": {},
   "outputs": [],
   "source": [
    "#Diplay treecover and loss in the map (look up)"
   ]
  },
  {
   "cell_type": "code",
   "execution_count": 13,
   "metadata": {},
   "outputs": [],
   "source": [
    "vis_params = {'bands': ['treecover2000', 'loss', 'lossyear'], 'min': 0.0, 'max': 20000.0, 'opacity': 1.0, 'gamma': 1.0}\n",
    "Map.addLayer(gfc2014,vis_params,'Tree cover and loss')"
   ]
  },
  {
   "cell_type": "markdown",
   "metadata": {},
   "source": [
    "#diplay departments in the map (look up)"
   ]
  },
  {
   "cell_type": "code",
   "execution_count": 14,
   "metadata": {},
   "outputs": [],
   "source": [
    "json_data_2 = ee_to_geojson(department)\n",
    "json_layer_2 = GeoJSON(data=json_data_2, name='Department JSON', hover_style={'fillColor': 'yellow' , 'fillOpacity': 0.5})\n",
    "Map.add_layer(json_layer_2,{},'Department')"
   ]
  },
  {
   "cell_type": "markdown",
   "metadata": {},
   "source": [
    "#make the map interactive: you can know the name of the department that you are looking at. In the plotting option you can visualize treecover and loss in specific point of the map"
   ]
  },
  {
   "cell_type": "code",
   "execution_count": 15,
   "metadata": {},
   "outputs": [],
   "source": [
    "from ipywidgets import Text, HTML\n",
    "from ipyleaflet import WidgetControl, GeoJSON \n",
    "\n",
    "html1 = HTML('''\n",
    "    <h4>Country</h4>\n",
    "    Go over an area\n",
    "''')\n",
    "html1.layout.margin = '0px 20px 20px 20px'\n",
    "control1 = WidgetControl(widget=html1, position='bottomright')\n",
    "Map.add_control(control1)\n",
    "\n",
    "def update_html(feature, **kwargs):\n",
    "    html1.value = '''\n",
    "        <h4>Area code: <b>{}</b></h4>\n",
    "        Area name: {}\n",
    "    '''.format(feature['id'], feature['properties']['NAME_2'])\n",
    "\n",
    "json_layer_2.on_hover(update_html)"
   ]
  }
 ],
 "metadata": {
  "kernelspec": {
   "display_name": "Python 3",
   "language": "python",
   "name": "python3"
  },
  "language_info": {
   "codemirror_mode": {
    "name": "ipython",
    "version": 3
   },
   "file_extension": ".py",
   "mimetype": "text/x-python",
   "name": "python",
   "nbconvert_exporter": "python",
   "pygments_lexer": "ipython3",
   "version": "3.8.5"
  }
 },
 "nbformat": 4,
 "nbformat_minor": 4
}
