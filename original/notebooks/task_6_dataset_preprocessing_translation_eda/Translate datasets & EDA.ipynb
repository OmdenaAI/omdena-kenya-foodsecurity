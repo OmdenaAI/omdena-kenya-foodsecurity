{
 "cells": [
  {
   "cell_type": "markdown",
   "metadata": {},
   "source": [
    "## Superficie, production et rendement des principales cultures par région\n",
    "<br>\n",
    "Dataset: https://senegal.opendataforafrica.org/xlupqbd/superficie-production-et-rendement-des-principales-cultures-par-r%C3%A9gion"
   ]
  },
  {
   "cell_type": "markdown",
   "metadata": {},
   "source": [
    "There is currently an error with googletrans, the new version is only available on pip. See: https://github.com/ssut/py-googletrans/issues/234"
   ]
  },
  {
   "cell_type": "code",
   "execution_count": 1,
   "metadata": {},
   "outputs": [],
   "source": [
    "#!pip install googletrans==3.1.0a0"
   ]
  },
  {
   "cell_type": "code",
   "execution_count": 1,
   "metadata": {},
   "outputs": [],
   "source": [
    "import pandas as pd\n",
    "import csv\n",
    "from pathlib import Path\n",
    "import googletrans\n",
    "from googletrans import Translator\n",
    "import json\n",
    "import pprint\n",
    "\n",
    "%matplotlib inline"
   ]
  },
  {
   "cell_type": "markdown",
   "metadata": {},
   "source": [
    "## Setting up the data files"
   ]
  },
  {
   "cell_type": "code",
   "execution_count": 2,
   "metadata": {},
   "outputs": [
    {
     "name": "stdout",
     "output_type": "stream",
     "text": [
      "G:\\Omdena-food\\GPSDD-Food-Security-Senegal\\data\\external\\ANSD\\ObservationData_ertqifb.csv\n"
     ]
    }
   ],
   "source": [
    "# reading in the agricultural data\n",
    "data_folder = Path.cwd().parent.parent.joinpath('data').joinpath('external').joinpath('ANSD')\n",
    "#print(data_folder)\n",
    "input_filename = 'ObservationData_ertqifb.csv'\n",
    "input_file = Path(data_folder).joinpath(input_filename)\n",
    "print(input_file)"
   ]
  },
  {
   "cell_type": "code",
   "execution_count": 3,
   "metadata": {},
   "outputs": [],
   "source": [
    "df_input = pd.read_csv(input_file)  "
   ]
  },
  {
   "cell_type": "code",
   "execution_count": 4,
   "metadata": {},
   "outputs": [
    {
     "data": {
      "text/html": [
       "<div>\n",
       "<style scoped>\n",
       "    .dataframe tbody tr th:only-of-type {\n",
       "        vertical-align: middle;\n",
       "    }\n",
       "\n",
       "    .dataframe tbody tr th {\n",
       "        vertical-align: top;\n",
       "    }\n",
       "\n",
       "    .dataframe thead th {\n",
       "        text-align: right;\n",
       "    }\n",
       "</style>\n",
       "<table border=\"1\" class=\"dataframe\">\n",
       "  <thead>\n",
       "    <tr style=\"text-align: right;\">\n",
       "      <th></th>\n",
       "      <th>region</th>\n",
       "      <th>culture</th>\n",
       "      <th>indicateur</th>\n",
       "      <th>Unit</th>\n",
       "      <th>Date</th>\n",
       "      <th>Value</th>\n",
       "    </tr>\n",
       "  </thead>\n",
       "  <tbody>\n",
       "    <tr>\n",
       "      <th>0</th>\n",
       "      <td>DAKAR</td>\n",
       "      <td>ARACHIDE</td>\n",
       "      <td>Production (Tonne)</td>\n",
       "      <td>tonne</td>\n",
       "      <td>2017</td>\n",
       "      <td>1884.493889</td>\n",
       "    </tr>\n",
       "    <tr>\n",
       "      <th>1</th>\n",
       "      <td>DAKAR</td>\n",
       "      <td>ARACHIDE</td>\n",
       "      <td>Production (Tonne)</td>\n",
       "      <td>tonne</td>\n",
       "      <td>2018</td>\n",
       "      <td>55.762016</td>\n",
       "    </tr>\n",
       "    <tr>\n",
       "      <th>2</th>\n",
       "      <td>DAKAR</td>\n",
       "      <td>ARACHIDE</td>\n",
       "      <td>Superficie (Ha)</td>\n",
       "      <td>Ha</td>\n",
       "      <td>2017</td>\n",
       "      <td>3140.823149</td>\n",
       "    </tr>\n",
       "    <tr>\n",
       "      <th>3</th>\n",
       "      <td>DAKAR</td>\n",
       "      <td>ARACHIDE</td>\n",
       "      <td>Superficie (Ha)</td>\n",
       "      <td>Ha</td>\n",
       "      <td>2018</td>\n",
       "      <td>371.746770</td>\n",
       "    </tr>\n",
       "    <tr>\n",
       "      <th>4</th>\n",
       "      <td>DAKAR</td>\n",
       "      <td>ARACHIDE</td>\n",
       "      <td>Rendement (Kg/Ha)</td>\n",
       "      <td>KG/HA</td>\n",
       "      <td>2017</td>\n",
       "      <td>764.142857</td>\n",
       "    </tr>\n",
       "    <tr>\n",
       "      <th>...</th>\n",
       "      <td>...</td>\n",
       "      <td>...</td>\n",
       "      <td>...</td>\n",
       "      <td>...</td>\n",
       "      <td>...</td>\n",
       "      <td>...</td>\n",
       "    </tr>\n",
       "    <tr>\n",
       "      <th>643</th>\n",
       "      <td>ZIGUINCHOR</td>\n",
       "      <td>SESAME</td>\n",
       "      <td>Production (Tonne)</td>\n",
       "      <td>tonne</td>\n",
       "      <td>2018</td>\n",
       "      <td>662.293667</td>\n",
       "    </tr>\n",
       "    <tr>\n",
       "      <th>644</th>\n",
       "      <td>ZIGUINCHOR</td>\n",
       "      <td>SESAME</td>\n",
       "      <td>Superficie (Ha)</td>\n",
       "      <td>Ha</td>\n",
       "      <td>2017</td>\n",
       "      <td>1158.322779</td>\n",
       "    </tr>\n",
       "    <tr>\n",
       "      <th>645</th>\n",
       "      <td>ZIGUINCHOR</td>\n",
       "      <td>SESAME</td>\n",
       "      <td>Superficie (Ha)</td>\n",
       "      <td>Ha</td>\n",
       "      <td>2018</td>\n",
       "      <td>1274.155057</td>\n",
       "    </tr>\n",
       "    <tr>\n",
       "      <th>646</th>\n",
       "      <td>ZIGUINCHOR</td>\n",
       "      <td>SESAME</td>\n",
       "      <td>Rendement (Kg/Ha)</td>\n",
       "      <td>KG/HA</td>\n",
       "      <td>2017</td>\n",
       "      <td>571.769527</td>\n",
       "    </tr>\n",
       "    <tr>\n",
       "      <th>647</th>\n",
       "      <td>ZIGUINCHOR</td>\n",
       "      <td>SESAME</td>\n",
       "      <td>Rendement (Kg/Ha)</td>\n",
       "      <td>KG/HA</td>\n",
       "      <td>2018</td>\n",
       "      <td>519.790479</td>\n",
       "    </tr>\n",
       "  </tbody>\n",
       "</table>\n",
       "<p>648 rows × 6 columns</p>\n",
       "</div>"
      ],
      "text/plain": [
       "         region   culture          indicateur   Unit  Date        Value\n",
       "0         DAKAR  ARACHIDE  Production (Tonne)  tonne  2017  1884.493889\n",
       "1         DAKAR  ARACHIDE  Production (Tonne)  tonne  2018    55.762016\n",
       "2         DAKAR  ARACHIDE     Superficie (Ha)     Ha  2017  3140.823149\n",
       "3         DAKAR  ARACHIDE     Superficie (Ha)     Ha  2018   371.746770\n",
       "4         DAKAR  ARACHIDE   Rendement (Kg/Ha)  KG/HA  2017   764.142857\n",
       "..          ...       ...                 ...    ...   ...          ...\n",
       "643  ZIGUINCHOR    SESAME  Production (Tonne)  tonne  2018   662.293667\n",
       "644  ZIGUINCHOR    SESAME     Superficie (Ha)     Ha  2017  1158.322779\n",
       "645  ZIGUINCHOR    SESAME     Superficie (Ha)     Ha  2018  1274.155057\n",
       "646  ZIGUINCHOR    SESAME   Rendement (Kg/Ha)  KG/HA  2017   571.769527\n",
       "647  ZIGUINCHOR    SESAME   Rendement (Kg/Ha)  KG/HA  2018   519.790479\n",
       "\n",
       "[648 rows x 6 columns]"
      ]
     },
     "execution_count": 4,
     "metadata": {},
     "output_type": "execute_result"
    }
   ],
   "source": [
    "df_input"
   ]
  },
  {
   "cell_type": "markdown",
   "metadata": {},
   "source": [
    "## Trying to use googletrans for translation\n",
    "Note: from time to time Google blocks the library and does not return translations, but the original text."
   ]
  },
  {
   "cell_type": "code",
   "execution_count": 26,
   "metadata": {},
   "outputs": [
    {
     "data": {
      "text/plain": [
       "{'ARACHIDE': 'peanut',\n",
       " 'MAIS': 'corn',\n",
       " 'MANIOC': 'cassava',\n",
       " 'MIL': 'millet',\n",
       " 'NIEBE': 'cowpea',\n",
       " 'SORGHO': 'sorghum',\n",
       " 'PASTEQUE': 'watermelon',\n",
       " 'SESAME': 'sesame',\n",
       " 'RIZ': 'rice',\n",
       " 'COTON': 'cotton',\n",
       " 'FONIO': 'fonio',\n",
       " 'region': 'region',\n",
       " 'culture': 'culture',\n",
       " 'indicateur': 'indicator',\n",
       " 'Unit': 'unit',\n",
       " 'Date': 'date',\n",
       " 'Value': 'value',\n",
       " 'Production (Tonne)': 'production (t)',\n",
       " 'Superficie (Ha)': 'area (ha)',\n",
       " 'Rendement (Kg/Ha)': 'yield (kg/ha)',\n",
       " 'tonne': 'ton',\n",
       " 'Ha': 'ha',\n",
       " 'KG/HA': 'kg/ha'}"
      ]
     },
     "execution_count": 26,
     "metadata": {},
     "output_type": "execute_result"
    }
   ],
   "source": [
    "try:\n",
    "    translations = json.load(open('fr_to_en.json', 'r'))\n",
    "except:\n",
    "    translations = {}\n",
    "translations"
   ]
  },
  {
   "cell_type": "code",
   "execution_count": 27,
   "metadata": {},
   "outputs": [],
   "source": [
    "columns_to_translate = ['culture', 'indicateur', 'Unit']"
   ]
  },
  {
   "cell_type": "code",
   "execution_count": 32,
   "metadata": {},
   "outputs": [
    {
     "name": "stdout",
     "output_type": "stream",
     "text": [
      "No new items found.\n"
     ]
    }
   ],
   "source": [
    "# use translate method to translate a string - by default, the destination language is english\n",
    "translator = Translator()\n",
    "\n",
    "new_translations = {}\n",
    "for column in columns_to_translate:\n",
    "    # unique elements of the selected columns\n",
    "    unique_elements = df_input[column].unique()\n",
    "    cols = df_input.columns\n",
    "    \n",
    "    for element in unique_elements:\n",
    "        #print(element)\n",
    "        # add translation to the dictionary \n",
    "        if element in translations:\n",
    "            pass\n",
    "        else:\n",
    "            print(f'Waiting for translation of: {element}')\n",
    "            new_translations[element] = translator.translate(element, dest='en', src='fr').text\n",
    "            #print(new_translations[element])\n",
    "            \n",
    "    for col in cols:\n",
    "        if col in translations:\n",
    "            pass\n",
    "        else:\n",
    "            print(f'Waiting for translation of: {col}')\n",
    "            new_translations[col] = translator.translate(col, dest='en', src='fr').text\n",
    "\n",
    "if len(new_translations)== 0:\n",
    "    print(\"No new items found.\")\n",
    "else:\n",
    "    print(\"\\n Finished translation, please check the results: \\n\")\n",
    "    pprint.pprint(new_translations, width=1)"
   ]
  },
  {
   "cell_type": "code",
   "execution_count": 29,
   "metadata": {},
   "outputs": [],
   "source": [
    "# apply any corrections to the suggested translations\n",
    "new_translations['ARACHIDE'] = 'peanut'\n",
    "new_translations['MAIS'] = 'corn'\n",
    "new_translations['MANIOC'] = 'cassava'\n",
    "new_translations['MIL'] = 'millet'\n",
    "new_translations['NIEBE'] = 'cowpea'\n",
    "new_translations['SORGHO'] = 'sorghum'\n",
    "new_translations['PASTEQUE'] = 'watermelon'\n",
    "new_translations['SESAME'] = 'sesame'\n",
    "new_translations['RIZ'] = 'rice'\n",
    "new_translations['COTON'] = 'cotton'\n",
    "new_translations['FONIO'] = 'fonio'\n",
    "new_translations['tonne'] = 'ton'\n",
    "new_translations['indicateur'] = 'indicator'\n",
    "new_translations['Value'] = 'value'\n",
    "new_translations['Unit'] = 'unit'\n",
    "new_translations['Superficie (Ha)'] = 'area (ha)'\n",
    "new_translations['Production (Tonne)'] = 'production (t)'\n",
    "new_translations['Rendement (Kg/Ha)'] = 'yield (kg/ha)'\n",
    "new_translations['Ha'] = 'ha'\n",
    "new_translations['KG/HA'] = 'kg/ha'\n",
    "new_translations['Unit'] = 'unit'\n",
    "new_translations['Date'] = 'date'"
   ]
  },
  {
   "cell_type": "code",
   "execution_count": 30,
   "metadata": {},
   "outputs": [
    {
     "data": {
      "text/plain": [
       "{'ARACHIDE': 'peanut',\n",
       " 'MAIS': 'corn',\n",
       " 'MANIOC': 'cassava',\n",
       " 'MIL': 'millet',\n",
       " 'NIEBE': 'cowpea',\n",
       " 'SORGHO': 'sorghum',\n",
       " 'PASTEQUE': 'watermelon',\n",
       " 'SESAME': 'sesame',\n",
       " 'RIZ': 'rice',\n",
       " 'COTON': 'cotton',\n",
       " 'FONIO': 'fonio',\n",
       " 'region': 'region',\n",
       " 'culture': 'culture',\n",
       " 'indicateur': 'indicator',\n",
       " 'Unit': 'unit',\n",
       " 'Date': 'date',\n",
       " 'Value': 'value',\n",
       " 'Production (Tonne)': 'production (t)',\n",
       " 'Superficie (Ha)': 'area (ha)',\n",
       " 'Rendement (Kg/Ha)': 'yield (kg/ha)',\n",
       " 'tonne': 'ton',\n",
       " 'Ha': 'ha',\n",
       " 'KG/HA': 'kg/ha'}"
      ]
     },
     "execution_count": 30,
     "metadata": {},
     "output_type": "execute_result"
    }
   ],
   "source": [
    "# update the original dictionary\n",
    "new_keys = list(new_translations.keys())\n",
    "new_keys\n",
    "for new_key in new_keys:\n",
    "    translations[new_key] =  new_translations[new_key]\n",
    "translations"
   ]
  },
  {
   "cell_type": "code",
   "execution_count": 23,
   "metadata": {},
   "outputs": [],
   "source": [
    "json.dump(translations, open('fr_to_en.json', 'w'))"
   ]
  },
  {
   "cell_type": "markdown",
   "metadata": {},
   "source": [
    "## Translate the dataframe"
   ]
  },
  {
   "cell_type": "code",
   "execution_count": 24,
   "metadata": {},
   "outputs": [],
   "source": [
    "df_en = df_input.copy()"
   ]
  },
  {
   "cell_type": "code",
   "execution_count": null,
   "metadata": {},
   "outputs": [],
   "source": []
  },
  {
   "cell_type": "code",
   "execution_count": null,
   "metadata": {},
   "outputs": [],
   "source": [
    "# modify all the terms of the data frame by using the previously created dictionary\n",
    "for column in columns_to_translate:\n",
    "    #df_en[column].map(translations, na_action='ignore')  # mapping is considered faster, but does not work \n",
    "    df_en[column].replace(translations, inplace = True)\n",
    "df_en.rename(columns=translations, inplace=True)"
   ]
  },
  {
   "cell_type": "code",
   "execution_count": 25,
   "metadata": {},
   "outputs": [
    {
     "data": {
      "text/html": [
       "<div>\n",
       "<style scoped>\n",
       "    .dataframe tbody tr th:only-of-type {\n",
       "        vertical-align: middle;\n",
       "    }\n",
       "\n",
       "    .dataframe tbody tr th {\n",
       "        vertical-align: top;\n",
       "    }\n",
       "\n",
       "    .dataframe thead th {\n",
       "        text-align: right;\n",
       "    }\n",
       "</style>\n",
       "<table border=\"1\" class=\"dataframe\">\n",
       "  <thead>\n",
       "    <tr style=\"text-align: right;\">\n",
       "      <th></th>\n",
       "      <th>region</th>\n",
       "      <th>culture</th>\n",
       "      <th>indicator</th>\n",
       "      <th>unit</th>\n",
       "      <th>date</th>\n",
       "      <th>value</th>\n",
       "    </tr>\n",
       "  </thead>\n",
       "  <tbody>\n",
       "    <tr>\n",
       "      <th>0</th>\n",
       "      <td>DAKAR</td>\n",
       "      <td>peanut</td>\n",
       "      <td>production (t)</td>\n",
       "      <td>ton</td>\n",
       "      <td>2017</td>\n",
       "      <td>1884.493889</td>\n",
       "    </tr>\n",
       "    <tr>\n",
       "      <th>1</th>\n",
       "      <td>DAKAR</td>\n",
       "      <td>peanut</td>\n",
       "      <td>production (t)</td>\n",
       "      <td>ton</td>\n",
       "      <td>2018</td>\n",
       "      <td>55.762016</td>\n",
       "    </tr>\n",
       "    <tr>\n",
       "      <th>2</th>\n",
       "      <td>DAKAR</td>\n",
       "      <td>peanut</td>\n",
       "      <td>area (ha)</td>\n",
       "      <td>ha</td>\n",
       "      <td>2017</td>\n",
       "      <td>3140.823149</td>\n",
       "    </tr>\n",
       "    <tr>\n",
       "      <th>3</th>\n",
       "      <td>DAKAR</td>\n",
       "      <td>peanut</td>\n",
       "      <td>area (ha)</td>\n",
       "      <td>ha</td>\n",
       "      <td>2018</td>\n",
       "      <td>371.746770</td>\n",
       "    </tr>\n",
       "    <tr>\n",
       "      <th>4</th>\n",
       "      <td>DAKAR</td>\n",
       "      <td>peanut</td>\n",
       "      <td>yield (kg/ha)</td>\n",
       "      <td>kg/ha</td>\n",
       "      <td>2017</td>\n",
       "      <td>764.142857</td>\n",
       "    </tr>\n",
       "  </tbody>\n",
       "</table>\n",
       "</div>"
      ],
      "text/plain": [
       "  region culture       indicator   unit  date        value\n",
       "0  DAKAR  peanut  production (t)    ton  2017  1884.493889\n",
       "1  DAKAR  peanut  production (t)    ton  2018    55.762016\n",
       "2  DAKAR  peanut       area (ha)     ha  2017  3140.823149\n",
       "3  DAKAR  peanut       area (ha)     ha  2018   371.746770\n",
       "4  DAKAR  peanut   yield (kg/ha)  kg/ha  2017   764.142857"
      ]
     },
     "execution_count": 25,
     "metadata": {},
     "output_type": "execute_result"
    }
   ],
   "source": [
    "# check translation\n",
    "df_en.head()"
   ]
  },
  {
   "cell_type": "markdown",
   "metadata": {},
   "source": []
  },
  {
   "cell_type": "code",
   "execution_count": null,
   "metadata": {},
   "outputs": [],
   "source": []
  },
  {
   "cell_type": "markdown",
   "metadata": {},
   "source": [
    "## Example use of translate\n",
    "dest: define the output language, default is \"en\" for English"
   ]
  },
  {
   "cell_type": "code",
   "execution_count": 8,
   "metadata": {},
   "outputs": [
    {
     "data": {
      "text/plain": [
       "'안녕하세요'"
      ]
     },
     "execution_count": 8,
     "metadata": {},
     "output_type": "execute_result"
    }
   ],
   "source": [
    "translator.translate('안녕하세요', dest='de').text"
   ]
  },
  {
   "cell_type": "code",
   "execution_count": null,
   "metadata": {},
   "outputs": [],
   "source": []
  }
 ],
 "metadata": {
  "kernelspec": {
   "display_name": "Python 3",
   "language": "python",
   "name": "python3"
  },
  "language_info": {
   "codemirror_mode": {
    "name": "ipython",
    "version": 3
   },
   "file_extension": ".py",
   "mimetype": "text/x-python",
   "name": "python",
   "nbconvert_exporter": "python",
   "pygments_lexer": "ipython3",
   "version": "3.7.8"
  }
 },
 "nbformat": 4,
 "nbformat_minor": 4
}
